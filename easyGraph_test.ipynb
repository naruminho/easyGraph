{
 "cells": [
  {
   "cell_type": "code",
   "execution_count": 1,
   "metadata": {},
   "outputs": [
    {
     "data": {
      "text/html": [
       "        <script type=\"text/javascript\">\n",
       "        window.PlotlyConfig = {MathJaxConfig: 'local'};\n",
       "        if (window.MathJax) {MathJax.Hub.Config({SVG: {font: \"STIX-Web\"}});}\n",
       "        if (typeof require !== 'undefined') {\n",
       "        require.undef(\"plotly\");\n",
       "        requirejs.config({\n",
       "            paths: {\n",
       "                'plotly': ['https://cdn.plot.ly/plotly-latest.min']\n",
       "            }\n",
       "        });\n",
       "        require(['plotly'], function(Plotly) {\n",
       "            window._Plotly = Plotly;\n",
       "        });\n",
       "        }\n",
       "        </script>\n",
       "        "
      ]
     },
     "metadata": {},
     "output_type": "display_data"
    }
   ],
   "source": [
    "%load_ext autoreload\n",
    "%autoreload 2\n",
    "from easyGraph import *\n",
    "import pandas as pd"
   ]
  },
  {
   "cell_type": "code",
   "execution_count": 2,
   "metadata": {},
   "outputs": [],
   "source": [
    "# creating an empty graph object\n",
    "mygraph = EasyGraph(6, dim=3)"
   ]
  },
  {
   "cell_type": "code",
   "execution_count": 3,
   "metadata": {},
   "outputs": [
    {
     "data": {
      "text/html": [
       "<div>\n",
       "<style scoped>\n",
       "    .dataframe tbody tr th:only-of-type {\n",
       "        vertical-align: middle;\n",
       "    }\n",
       "\n",
       "    .dataframe tbody tr th {\n",
       "        vertical-align: top;\n",
       "    }\n",
       "\n",
       "    .dataframe thead th {\n",
       "        text-align: right;\n",
       "    }\n",
       "</style>\n",
       "<table border=\"1\" class=\"dataframe\">\n",
       "  <thead>\n",
       "    <tr style=\"text-align: right;\">\n",
       "      <th></th>\n",
       "      <th>banco</th>\n",
       "      <th>clientes</th>\n",
       "      <th>lucro</th>\n",
       "    </tr>\n",
       "  </thead>\n",
       "  <tbody>\n",
       "    <tr>\n",
       "      <th>0</th>\n",
       "      <td>Next</td>\n",
       "      <td>2000</td>\n",
       "      <td>234</td>\n",
       "    </tr>\n",
       "    <tr>\n",
       "      <th>1</th>\n",
       "      <td>Inter</td>\n",
       "      <td>35000</td>\n",
       "      <td>1111</td>\n",
       "    </tr>\n",
       "    <tr>\n",
       "      <th>2</th>\n",
       "      <td>Nubank</td>\n",
       "      <td>234243</td>\n",
       "      <td>2234</td>\n",
       "    </tr>\n",
       "    <tr>\n",
       "      <th>3</th>\n",
       "      <td>BB</td>\n",
       "      <td>23443</td>\n",
       "      <td>2344</td>\n",
       "    </tr>\n",
       "    <tr>\n",
       "      <th>4</th>\n",
       "      <td>Itau</td>\n",
       "      <td>2</td>\n",
       "      <td>444</td>\n",
       "    </tr>\n",
       "  </tbody>\n",
       "</table>\n",
       "</div>"
      ],
      "text/plain": [
       "    banco  clientes  lucro\n",
       "0    Next      2000    234\n",
       "1   Inter     35000   1111\n",
       "2  Nubank    234243   2234\n",
       "3      BB     23443   2344\n",
       "4    Itau         2    444"
      ]
     },
     "execution_count": 3,
     "metadata": {},
     "output_type": "execute_result"
    }
   ],
   "source": [
    "# creating a node dataframe \n",
    "bancos = pd.DataFrame({\n",
    "        'banco' : ['Next', 'Inter', 'Nubank', 'BB', 'Itau', 'XP Investimentos', 'CEF', 'Santander','Bradesco'],\n",
    "        'clientes': [2000,   35000, 234243, 23443,2,1,232323, 666, 24433],\n",
    "        'lucro': [234, 1111, 2234, 2344, 444, 222, 1, 1, 9877] \n",
    "})\n",
    "bancos.head()"
   ]
  },
  {
   "cell_type": "code",
   "execution_count": 4,
   "metadata": {},
   "outputs": [],
   "source": [
    "# adding the nodes to the graph\n",
    "# 'banco' is the id column \n",
    "mygraph.node.load(bancos, 'banco')"
   ]
  },
  {
   "cell_type": "code",
   "execution_count": 5,
   "metadata": {},
   "outputs": [
    {
     "data": {
      "text/html": [
       "<div>\n",
       "<style scoped>\n",
       "    .dataframe tbody tr th:only-of-type {\n",
       "        vertical-align: middle;\n",
       "    }\n",
       "\n",
       "    .dataframe tbody tr th {\n",
       "        vertical-align: top;\n",
       "    }\n",
       "\n",
       "    .dataframe thead th {\n",
       "        text-align: right;\n",
       "    }\n",
       "</style>\n",
       "<table border=\"1\" class=\"dataframe\">\n",
       "  <thead>\n",
       "    <tr style=\"text-align: right;\">\n",
       "      <th></th>\n",
       "      <th>de</th>\n",
       "      <th>para</th>\n",
       "      <th>enviado</th>\n",
       "      <th>recebido</th>\n",
       "    </tr>\n",
       "  </thead>\n",
       "  <tbody>\n",
       "    <tr>\n",
       "      <th>0</th>\n",
       "      <td>Next</td>\n",
       "      <td>Bradesco</td>\n",
       "      <td>25500</td>\n",
       "      <td>2344</td>\n",
       "    </tr>\n",
       "    <tr>\n",
       "      <th>1</th>\n",
       "      <td>Next</td>\n",
       "      <td>Inter</td>\n",
       "      <td>3500</td>\n",
       "      <td>111</td>\n",
       "    </tr>\n",
       "    <tr>\n",
       "      <th>2</th>\n",
       "      <td>Next</td>\n",
       "      <td>Nubank</td>\n",
       "      <td>12345</td>\n",
       "      <td>22234</td>\n",
       "    </tr>\n",
       "    <tr>\n",
       "      <th>3</th>\n",
       "      <td>Next</td>\n",
       "      <td>BB</td>\n",
       "      <td>6664</td>\n",
       "      <td>234</td>\n",
       "    </tr>\n",
       "    <tr>\n",
       "      <th>4</th>\n",
       "      <td>Next</td>\n",
       "      <td>Itau</td>\n",
       "      <td>222</td>\n",
       "      <td>4344</td>\n",
       "    </tr>\n",
       "  </tbody>\n",
       "</table>\n",
       "</div>"
      ],
      "text/plain": [
       "     de      para  enviado  recebido\n",
       "0  Next  Bradesco    25500      2344\n",
       "1  Next     Inter     3500       111\n",
       "2  Next    Nubank    12345     22234\n",
       "3  Next        BB     6664       234\n",
       "4  Next      Itau      222      4344"
      ]
     },
     "execution_count": 5,
     "metadata": {},
     "output_type": "execute_result"
    }
   ],
   "source": [
    "teds = pd.DataFrame({\n",
    "        'de' : ['Next', 'Next', 'Next', 'Next', 'Next', 'Next', 'Next', 'Next'],\n",
    "        'para' : ['Bradesco', 'Inter', 'Nubank', 'BB', 'Itau', 'XP Investimentos', 'CEF', 'Santander'],\n",
    "        'enviado': [25500,   3500, 12345, 6664, 222,111, 2323, 666],\n",
    "        'recebido': [2344, 111, 22234, 234, 4344, 2322, 1111, 1111] \n",
    "})\n",
    "teds.head()"
   ]
  },
  {
   "cell_type": "code",
   "execution_count": 6,
   "metadata": {},
   "outputs": [],
   "source": [
    "mygraph.edge.load(teds, 'de', 'para')"
   ]
  },
  {
   "cell_type": "code",
   "execution_count": 7,
   "metadata": {
    "scrolled": true
   },
   "outputs": [
    {
     "data": {
      "application/vnd.plotly.v1+json": {
       "config": {
        "linkText": "Export to plot.ly",
        "plotlyServerURL": "https://plot.ly",
        "responsive": true,
        "showLink": false
       },
       "data": [
        {
         "hoverinfo": "text",
         "marker": {
          "cmax": null,
          "cmin": null,
          "color": "darkblue",
          "colorbar": {
           "thickness": 15,
           "title": {
            "side": "right",
            "text": " "
           },
           "xanchor": "left"
          },
          "colorscale": "Viridis",
          "line": {
           "width": 2
          },
          "reversescale": true,
          "showscale": false,
          "size": [
           1,
           1,
           1,
           1,
           1,
           1,
           1,
           1,
           1
          ],
          "sizemin": 15,
          "sizemode": "area",
          "sizeref": 15
         },
         "mode": "markers",
         "text": [
          "<b>Next</b><br>clientes: 2000<br>lucro: 234<br>",
          "<b>Inter</b><br>clientes: 35000<br>lucro: 1111<br>",
          "<b>Nubank</b><br>clientes: 234243<br>lucro: 2234<br>",
          "<b>BB</b><br>clientes: 23443<br>lucro: 2344<br>",
          "<b>Itau</b><br>clientes: 2<br>lucro: 444<br>",
          "<b>XP Investimentos</b><br>clientes: 1<br>lucro: 222<br>",
          "<b>CEF</b><br>clientes: 232323<br>lucro: 1<br>",
          "<b>Santander</b><br>clientes: 666<br>lucro: 1<br>",
          "<b>Bradesco</b><br>clientes: 24433<br>lucro: 9877<br>"
         ],
         "type": "scatter3d",
         "uid": "ff4696fe-7e57-4975-86a8-6b1665c21d59",
         "x": [
          0.0035706495887966724,
          -0.5660885416857367,
          -0.652842562407275,
          0.7648909666387601,
          0.49197118527513783,
          -0.6381477115464191,
          0.5450517629686346,
          0.7027456428771309,
          -0.6511513917090284
         ],
         "y": [
          0.00021323212621309037,
          0.7221673783857327,
          0.5573757754602153,
          0.033961214375929395,
          -1,
          -0.5174233305498118,
          0.9694904420207792,
          -0.07708217372392319,
          -0.6887025380951348
         ],
         "z": [
          0.0003781985933481906,
          0.6355940504206087,
          -0.7148982944663939,
          0.816692790632368,
          0.06999307486726927,
          0.7575917578094066,
          -0.10120313287534663,
          -0.8660225732779071,
          -0.5981258717033515
         ]
        },
        {
         "hoverinfo": "none",
         "line": {
          "color": "black",
          "width": 0.5
         },
         "mode": "lines",
         "type": "scatter3d",
         "uid": "d9701ab4-fd98-4498-bc92-8893f6708c88",
         "x": [
          0.0035706495887966724,
          -0.6511513917090284,
          null
         ],
         "y": [
          0.00021323212621309037,
          -0.6887025380951348,
          null
         ],
         "z": [
          0.0003781985933481906,
          -0.5981258717033515,
          null
         ]
        },
        {
         "hoverinfo": "none",
         "line": {
          "color": "black",
          "width": 0.5
         },
         "mode": "lines",
         "type": "scatter3d",
         "uid": "4585ccd4-aa24-4055-97f2-f867ed44832e",
         "x": [
          0.0035706495887966724,
          -0.5660885416857367,
          null
         ],
         "y": [
          0.00021323212621309037,
          0.7221673783857327,
          null
         ],
         "z": [
          0.0003781985933481906,
          0.6355940504206087,
          null
         ]
        },
        {
         "hoverinfo": "none",
         "line": {
          "color": "black",
          "width": 0.5
         },
         "mode": "lines",
         "type": "scatter3d",
         "uid": "2f83902f-8b20-4fae-b478-24e6673ff368",
         "x": [
          0.0035706495887966724,
          -0.652842562407275,
          null
         ],
         "y": [
          0.00021323212621309037,
          0.5573757754602153,
          null
         ],
         "z": [
          0.0003781985933481906,
          -0.7148982944663939,
          null
         ]
        },
        {
         "hoverinfo": "none",
         "line": {
          "color": "black",
          "width": 0.5
         },
         "mode": "lines",
         "type": "scatter3d",
         "uid": "84c7303d-49b1-4fb1-8e5a-1b98f9ed1bad",
         "x": [
          0.0035706495887966724,
          0.7648909666387601,
          null
         ],
         "y": [
          0.00021323212621309037,
          0.033961214375929395,
          null
         ],
         "z": [
          0.0003781985933481906,
          0.816692790632368,
          null
         ]
        },
        {
         "hoverinfo": "none",
         "line": {
          "color": "black",
          "width": 0.5
         },
         "mode": "lines",
         "type": "scatter3d",
         "uid": "4af76444-e6d4-4188-8e9e-520e870f4346",
         "x": [
          0.0035706495887966724,
          0.49197118527513783,
          null
         ],
         "y": [
          0.00021323212621309037,
          -1,
          null
         ],
         "z": [
          0.0003781985933481906,
          0.06999307486726927,
          null
         ]
        },
        {
         "hoverinfo": "none",
         "line": {
          "color": "black",
          "width": 0.5
         },
         "mode": "lines",
         "type": "scatter3d",
         "uid": "01167561-e674-41dd-9b59-44acb8bc6649",
         "x": [
          0.0035706495887966724,
          -0.6381477115464191,
          null
         ],
         "y": [
          0.00021323212621309037,
          -0.5174233305498118,
          null
         ],
         "z": [
          0.0003781985933481906,
          0.7575917578094066,
          null
         ]
        },
        {
         "hoverinfo": "none",
         "line": {
          "color": "black",
          "width": 0.5
         },
         "mode": "lines",
         "type": "scatter3d",
         "uid": "fb0c15a5-587d-442a-b6d1-bc7a2936e76b",
         "x": [
          0.0035706495887966724,
          0.5450517629686346,
          null
         ],
         "y": [
          0.00021323212621309037,
          0.9694904420207792,
          null
         ],
         "z": [
          0.0003781985933481906,
          -0.10120313287534663,
          null
         ]
        },
        {
         "hoverinfo": "none",
         "line": {
          "color": "black",
          "width": 0.5
         },
         "mode": "lines",
         "type": "scatter3d",
         "uid": "03a191ea-5b61-4d01-8607-634d6e41968a",
         "x": [
          0.0035706495887966724,
          0.7027456428771309,
          null
         ],
         "y": [
          0.00021323212621309037,
          -0.07708217372392319,
          null
         ],
         "z": [
          0.0003781985933481906,
          -0.8660225732779071,
          null
         ]
        }
       ],
       "layout": {
        "annotations": [
         {
          "ax": 0,
          "ay": 20,
          "showarrow": false,
          "text": "Next",
          "x": 0.0035706495887966724,
          "xref": "x",
          "y": 0.1002132321262131,
          "yref": "y"
         },
         {
          "ax": 0,
          "ay": 20,
          "showarrow": false,
          "text": "Inter",
          "x": -0.5660885416857367,
          "xref": "x",
          "y": 0.8221673783857327,
          "yref": "y"
         },
         {
          "ax": 0,
          "ay": 20,
          "showarrow": false,
          "text": "Nubank",
          "x": -0.652842562407275,
          "xref": "x",
          "y": 0.6573757754602153,
          "yref": "y"
         },
         {
          "ax": 0,
          "ay": 20,
          "showarrow": false,
          "text": "BB",
          "x": 0.7648909666387601,
          "xref": "x",
          "y": 0.1339612143759294,
          "yref": "y"
         },
         {
          "ax": 0,
          "ay": 20,
          "showarrow": false,
          "text": "Itau",
          "x": 0.49197118527513783,
          "xref": "x",
          "y": -0.9,
          "yref": "y"
         },
         {
          "ax": 0,
          "ay": 20,
          "showarrow": false,
          "text": "XP Investimentos",
          "x": -0.6381477115464191,
          "xref": "x",
          "y": -0.41742333054981184,
          "yref": "y"
         },
         {
          "ax": 0,
          "ay": 20,
          "showarrow": false,
          "text": "CEF",
          "x": 0.5450517629686346,
          "xref": "x",
          "y": 1.0694904420207791,
          "yref": "y"
         },
         {
          "ax": 0,
          "ay": 20,
          "showarrow": false,
          "text": "Santander",
          "x": 0.7027456428771309,
          "xref": "x",
          "y": 0.022917826276076816,
          "yref": "y"
         },
         {
          "ax": 0,
          "ay": 20,
          "showarrow": false,
          "text": "Bradesco",
          "x": -0.6511513917090284,
          "xref": "x",
          "y": -0.5887025380951348,
          "yref": "y"
         }
        ],
        "hovermode": "closest",
        "margin": {
         "b": 20,
         "l": 5,
         "r": 5,
         "t": 40
        },
        "scene": {
         "xaxis": {
          "showbackground": false,
          "showgrid": false,
          "showline": false,
          "showticklabels": false,
          "title": {
           "text": ""
          },
          "zeroline": false
         },
         "yaxis": {
          "showbackground": false,
          "showgrid": false,
          "showline": false,
          "showticklabels": false,
          "title": {
           "text": ""
          },
          "zeroline": false
         },
         "zaxis": {
          "showbackground": false,
          "showgrid": false,
          "showline": false,
          "showticklabels": false,
          "title": {
           "text": ""
          },
          "zeroline": false
         }
        },
        "showlegend": false,
        "title": {
         "font": {
          "size": 16
         },
         "text": " "
        }
       }
      },
      "text/html": [
       "<div>\n",
       "        \n",
       "        \n",
       "            <div id=\"ce70dd5a-0d01-4847-b650-59602fee7289\" class=\"plotly-graph-div\" style=\"height:525px; width:100%;\"></div>\n",
       "            <script type=\"text/javascript\">\n",
       "                require([\"plotly\"], function(Plotly) {\n",
       "                    window.PLOTLYENV=window.PLOTLYENV || {};\n",
       "                    window.PLOTLYENV.BASE_URL='https://plot.ly';\n",
       "                    \n",
       "                if (document.getElementById(\"ce70dd5a-0d01-4847-b650-59602fee7289\")) {\n",
       "                    Plotly.newPlot(\n",
       "                        'ce70dd5a-0d01-4847-b650-59602fee7289',\n",
       "                        [{\"hoverinfo\": \"text\", \"marker\": {\"cmax\": null, \"cmin\": null, \"color\": \"darkblue\", \"colorbar\": {\"thickness\": 15, \"title\": {\"side\": \"right\", \"text\": \" \"}, \"xanchor\": \"left\"}, \"colorscale\": \"Viridis\", \"line\": {\"width\": 2}, \"reversescale\": true, \"showscale\": false, \"size\": [1, 1, 1, 1, 1, 1, 1, 1, 1], \"sizemin\": 15, \"sizemode\": \"area\", \"sizeref\": 15}, \"mode\": \"markers\", \"text\": [\"<b>Next</b><br>clientes: 2000<br>lucro: 234<br>\", \"<b>Inter</b><br>clientes: 35000<br>lucro: 1111<br>\", \"<b>Nubank</b><br>clientes: 234243<br>lucro: 2234<br>\", \"<b>BB</b><br>clientes: 23443<br>lucro: 2344<br>\", \"<b>Itau</b><br>clientes: 2<br>lucro: 444<br>\", \"<b>XP Investimentos</b><br>clientes: 1<br>lucro: 222<br>\", \"<b>CEF</b><br>clientes: 232323<br>lucro: 1<br>\", \"<b>Santander</b><br>clientes: 666<br>lucro: 1<br>\", \"<b>Bradesco</b><br>clientes: 24433<br>lucro: 9877<br>\"], \"type\": \"scatter3d\", \"uid\": \"5af9a30f-02e0-4975-8b69-0e8cf4107711\", \"x\": [0.0035706495887966724, -0.5660885416857367, -0.652842562407275, 0.7648909666387601, 0.49197118527513783, -0.6381477115464191, 0.5450517629686346, 0.7027456428771309, -0.6511513917090284], \"y\": [0.00021323212621309037, 0.7221673783857327, 0.5573757754602153, 0.033961214375929395, -1.0, -0.5174233305498118, 0.9694904420207792, -0.07708217372392319, -0.6887025380951348], \"z\": [0.0003781985933481906, 0.6355940504206087, -0.7148982944663939, 0.816692790632368, 0.06999307486726927, 0.7575917578094066, -0.10120313287534663, -0.8660225732779071, -0.5981258717033515]}, {\"hoverinfo\": \"none\", \"line\": {\"color\": \"black\", \"width\": 0.5}, \"mode\": \"lines\", \"type\": \"scatter3d\", \"uid\": \"33175541-7809-4e8f-be2a-b1275bce8ab8\", \"x\": [0.0035706495887966724, -0.6511513917090284, null], \"y\": [0.00021323212621309037, -0.6887025380951348, null], \"z\": [0.0003781985933481906, -0.5981258717033515, null]}, {\"hoverinfo\": \"none\", \"line\": {\"color\": \"black\", \"width\": 0.5}, \"mode\": \"lines\", \"type\": \"scatter3d\", \"uid\": \"f2150737-b291-4f7f-b645-4aa0cb7addf6\", \"x\": [0.0035706495887966724, -0.5660885416857367, null], \"y\": [0.00021323212621309037, 0.7221673783857327, null], \"z\": [0.0003781985933481906, 0.6355940504206087, null]}, {\"hoverinfo\": \"none\", \"line\": {\"color\": \"black\", \"width\": 0.5}, \"mode\": \"lines\", \"type\": \"scatter3d\", \"uid\": \"ccb64d5b-bc3a-4362-b155-b2e1dea8d0ee\", \"x\": [0.0035706495887966724, -0.652842562407275, null], \"y\": [0.00021323212621309037, 0.5573757754602153, null], \"z\": [0.0003781985933481906, -0.7148982944663939, null]}, {\"hoverinfo\": \"none\", \"line\": {\"color\": \"black\", \"width\": 0.5}, \"mode\": \"lines\", \"type\": \"scatter3d\", \"uid\": \"138d3bb6-1f19-4d34-b020-594f1594c678\", \"x\": [0.0035706495887966724, 0.7648909666387601, null], \"y\": [0.00021323212621309037, 0.033961214375929395, null], \"z\": [0.0003781985933481906, 0.816692790632368, null]}, {\"hoverinfo\": \"none\", \"line\": {\"color\": \"black\", \"width\": 0.5}, \"mode\": \"lines\", \"type\": \"scatter3d\", \"uid\": \"9f6ea3df-dd58-47e1-b888-82732a31494a\", \"x\": [0.0035706495887966724, 0.49197118527513783, null], \"y\": [0.00021323212621309037, -1.0, null], \"z\": [0.0003781985933481906, 0.06999307486726927, null]}, {\"hoverinfo\": \"none\", \"line\": {\"color\": \"black\", \"width\": 0.5}, \"mode\": \"lines\", \"type\": \"scatter3d\", \"uid\": \"c972c2a8-4947-4f93-ae2c-43c8b318d326\", \"x\": [0.0035706495887966724, -0.6381477115464191, null], \"y\": [0.00021323212621309037, -0.5174233305498118, null], \"z\": [0.0003781985933481906, 0.7575917578094066, null]}, {\"hoverinfo\": \"none\", \"line\": {\"color\": \"black\", \"width\": 0.5}, \"mode\": \"lines\", \"type\": \"scatter3d\", \"uid\": \"92a4bfda-9844-414d-992c-453ec6cf4620\", \"x\": [0.0035706495887966724, 0.5450517629686346, null], \"y\": [0.00021323212621309037, 0.9694904420207792, null], \"z\": [0.0003781985933481906, -0.10120313287534663, null]}, {\"hoverinfo\": \"none\", \"line\": {\"color\": \"black\", \"width\": 0.5}, \"mode\": \"lines\", \"type\": \"scatter3d\", \"uid\": \"23fbd2be-99f2-4f90-b977-d6dc64297abc\", \"x\": [0.0035706495887966724, 0.7027456428771309, null], \"y\": [0.00021323212621309037, -0.07708217372392319, null], \"z\": [0.0003781985933481906, -0.8660225732779071, null]}],\n",
       "                        {\"annotations\": [{\"ax\": 0, \"ay\": 20, \"showarrow\": false, \"text\": \"Next\", \"x\": 0.0035706495887966724, \"xref\": \"x\", \"y\": 0.1002132321262131, \"yref\": \"y\"}, {\"ax\": 0, \"ay\": 20, \"showarrow\": false, \"text\": \"Inter\", \"x\": -0.5660885416857367, \"xref\": \"x\", \"y\": 0.8221673783857327, \"yref\": \"y\"}, {\"ax\": 0, \"ay\": 20, \"showarrow\": false, \"text\": \"Nubank\", \"x\": -0.652842562407275, \"xref\": \"x\", \"y\": 0.6573757754602153, \"yref\": \"y\"}, {\"ax\": 0, \"ay\": 20, \"showarrow\": false, \"text\": \"BB\", \"x\": 0.7648909666387601, \"xref\": \"x\", \"y\": 0.1339612143759294, \"yref\": \"y\"}, {\"ax\": 0, \"ay\": 20, \"showarrow\": false, \"text\": \"Itau\", \"x\": 0.49197118527513783, \"xref\": \"x\", \"y\": -0.9, \"yref\": \"y\"}, {\"ax\": 0, \"ay\": 20, \"showarrow\": false, \"text\": \"XP Investimentos\", \"x\": -0.6381477115464191, \"xref\": \"x\", \"y\": -0.41742333054981184, \"yref\": \"y\"}, {\"ax\": 0, \"ay\": 20, \"showarrow\": false, \"text\": \"CEF\", \"x\": 0.5450517629686346, \"xref\": \"x\", \"y\": 1.0694904420207791, \"yref\": \"y\"}, {\"ax\": 0, \"ay\": 20, \"showarrow\": false, \"text\": \"Santander\", \"x\": 0.7027456428771309, \"xref\": \"x\", \"y\": 0.022917826276076816, \"yref\": \"y\"}, {\"ax\": 0, \"ay\": 20, \"showarrow\": false, \"text\": \"Bradesco\", \"x\": -0.6511513917090284, \"xref\": \"x\", \"y\": -0.5887025380951348, \"yref\": \"y\"}], \"hovermode\": \"closest\", \"margin\": {\"b\": 20, \"l\": 5, \"r\": 5, \"t\": 40}, \"scene\": {\"xaxis\": {\"showbackground\": false, \"showgrid\": false, \"showline\": false, \"showticklabels\": false, \"title\": {\"text\": \"\"}, \"zeroline\": false}, \"yaxis\": {\"showbackground\": false, \"showgrid\": false, \"showline\": false, \"showticklabels\": false, \"title\": {\"text\": \"\"}, \"zeroline\": false}, \"zaxis\": {\"showbackground\": false, \"showgrid\": false, \"showline\": false, \"showticklabels\": false, \"title\": {\"text\": \"\"}, \"zeroline\": false}}, \"showlegend\": false, \"title\": {\"font\": {\"size\": 16}, \"text\": \" \"}},\n",
       "                        {\"showLink\": false, \"linkText\": \"Export to plot.ly\", \"plotlyServerURL\": \"https://plot.ly\", \"responsive\": true}\n",
       "                    ).then(function(){\n",
       "                            \n",
       "var gd = document.getElementById('ce70dd5a-0d01-4847-b650-59602fee7289');\n",
       "var x = new MutationObserver(function (mutations, observer) {{\n",
       "        var display = window.getComputedStyle(gd).display;\n",
       "        if (!display || display === 'none') {{\n",
       "            console.log([gd, 'removed!']);\n",
       "            Plotly.purge(gd);\n",
       "            observer.disconnect();\n",
       "        }}\n",
       "}});\n",
       "\n",
       "// Listen for the removal of the full notebook cells\n",
       "var notebookContainer = gd.closest('#notebook-container');\n",
       "if (notebookContainer) {{\n",
       "    x.observe(notebookContainer, {childList: true});\n",
       "}}\n",
       "\n",
       "// Listen for the clearing of the current output cell\n",
       "var outputEl = gd.closest('.output');\n",
       "if (outputEl) {{\n",
       "    x.observe(outputEl, {childList: true});\n",
       "}}\n",
       "\n",
       "                        })\n",
       "                };\n",
       "                });\n",
       "            </script>\n",
       "        </div>"
      ]
     },
     "metadata": {},
     "output_type": "display_data"
    }
   ],
   "source": [
    "mygraph.plot(filename='coco.html')"
   ]
  },
  {
   "cell_type": "code",
   "execution_count": 8,
   "metadata": {},
   "outputs": [
    {
     "data": {
      "application/vnd.plotly.v1+json": {
       "config": {
        "linkText": "Export to plot.ly",
        "plotlyServerURL": "https://plot.ly",
        "responsive": true,
        "showLink": false
       },
       "data": [
        {
         "hoverinfo": "text",
         "marker": {
          "cmax": null,
          "cmin": null,
          "color": [
           "rgb(0, 0, 6)",
           "rgb(35, 17, 82)",
           "rgb(251, 252, 191)",
           "rgb(20, 13, 53)",
           "rgb(0, 0, 3)",
           "rgb(0, 0, 3)",
           "rgb(251, 247, 185)",
           "rgb(0, 0, 3)",
           "rgb(21, 14, 56)"
          ],
          "colorbar": {
           "thickness": 15,
           "title": {
            "side": "right",
            "text": "coco"
           },
           "xanchor": "left"
          },
          "colorscale": "Viridis",
          "line": {
           "width": 2
          },
          "reversescale": true,
          "showscale": false,
          "size": [
           1,
           1,
           1,
           1,
           1,
           1,
           1,
           1,
           1
          ],
          "sizemin": 15,
          "sizemode": "area",
          "sizeref": 15
         },
         "mode": "markers",
         "text": [
          "<b>Next</b><br>clientes: 2000<br>lucro: 234<br>",
          "<b>Inter</b><br>clientes: 35000<br>lucro: 1111<br>",
          "<b>Nubank</b><br>clientes: 234243<br>lucro: 2234<br>",
          "<b>BB</b><br>clientes: 23443<br>lucro: 2344<br>",
          "<b>Itau</b><br>clientes: 2<br>lucro: 444<br>",
          "<b>XP Investimentos</b><br>clientes: 1<br>lucro: 222<br>",
          "<b>CEF</b><br>clientes: 232323<br>lucro: 1<br>",
          "<b>Santander</b><br>clientes: 666<br>lucro: 1<br>",
          "<b>Bradesco</b><br>clientes: 24433<br>lucro: 9877<br>"
         ],
         "type": "scatter3d",
         "uid": "8417f425-c9e4-4c5d-8911-ceba4264f156",
         "x": [
          0.0009238225108410485,
          0.5575968207554152,
          -0.17036903037749393,
          -0.954695377955305,
          0.2436359375071908,
          -0.6312026194891801,
          -0.03616182969066795,
          0.03812939203568519,
          0.9521428847035164
         ],
         "y": [
          -0.002568324720018044,
          -0.5948884867549559,
          -0.9334136319212263,
          0.23452601000794784,
          0.5842792634707733,
          -0.2941740170334861,
          0.003670876179869406,
          0.9728172928811957,
          0.02975101788989983
         ],
         "z": [
          0.0015326733203654289,
          -0.583612290473437,
          0.32351728160561427,
          0.20663800260393247,
          -0.7782547199839508,
          -0.7284577975425214,
          1,
          0.2483577583984073,
          0.31027909207159043
         ]
        },
        {
         "hoverinfo": "none",
         "line": {
          "color": "black",
          "width": 0.5
         },
         "mode": "lines",
         "type": "scatter3d",
         "uid": "72bf6d0f-2ebc-403d-9907-6463c67cd656",
         "x": [
          0.0009238225108410485,
          0.9521428847035164,
          null
         ],
         "y": [
          -0.002568324720018044,
          0.02975101788989983,
          null
         ],
         "z": [
          0.0015326733203654289,
          0.31027909207159043,
          null
         ]
        },
        {
         "hoverinfo": "none",
         "line": {
          "color": "black",
          "width": 0.5
         },
         "mode": "lines",
         "type": "scatter3d",
         "uid": "a9341825-8461-4b3c-9d11-68d80ddab80c",
         "x": [
          0.0009238225108410485,
          0.5575968207554152,
          null
         ],
         "y": [
          -0.002568324720018044,
          -0.5948884867549559,
          null
         ],
         "z": [
          0.0015326733203654289,
          -0.583612290473437,
          null
         ]
        },
        {
         "hoverinfo": "none",
         "line": {
          "color": "black",
          "width": 0.5
         },
         "mode": "lines",
         "type": "scatter3d",
         "uid": "f57518e0-e964-48e4-8090-d7c2f67b948c",
         "x": [
          0.0009238225108410485,
          -0.17036903037749393,
          null
         ],
         "y": [
          -0.002568324720018044,
          -0.9334136319212263,
          null
         ],
         "z": [
          0.0015326733203654289,
          0.32351728160561427,
          null
         ]
        },
        {
         "hoverinfo": "none",
         "line": {
          "color": "black",
          "width": 0.5
         },
         "mode": "lines",
         "type": "scatter3d",
         "uid": "c725308f-ac17-4235-bbf1-e1cf7c18828f",
         "x": [
          0.0009238225108410485,
          -0.954695377955305,
          null
         ],
         "y": [
          -0.002568324720018044,
          0.23452601000794784,
          null
         ],
         "z": [
          0.0015326733203654289,
          0.20663800260393247,
          null
         ]
        },
        {
         "hoverinfo": "none",
         "line": {
          "color": "black",
          "width": 0.5
         },
         "mode": "lines",
         "type": "scatter3d",
         "uid": "2168a184-1165-464d-8d95-6d63a9b04e64",
         "x": [
          0.0009238225108410485,
          0.2436359375071908,
          null
         ],
         "y": [
          -0.002568324720018044,
          0.5842792634707733,
          null
         ],
         "z": [
          0.0015326733203654289,
          -0.7782547199839508,
          null
         ]
        },
        {
         "hoverinfo": "none",
         "line": {
          "color": "black",
          "width": 0.5
         },
         "mode": "lines",
         "type": "scatter3d",
         "uid": "83a71ebc-0f1f-4131-a00c-28eaf2ed7e1f",
         "x": [
          0.0009238225108410485,
          -0.6312026194891801,
          null
         ],
         "y": [
          -0.002568324720018044,
          -0.2941740170334861,
          null
         ],
         "z": [
          0.0015326733203654289,
          -0.7284577975425214,
          null
         ]
        },
        {
         "hoverinfo": "none",
         "line": {
          "color": "black",
          "width": 0.5
         },
         "mode": "lines",
         "type": "scatter3d",
         "uid": "f4066bba-3481-4060-81f9-e409bb985d4c",
         "x": [
          0.0009238225108410485,
          -0.03616182969066795,
          null
         ],
         "y": [
          -0.002568324720018044,
          0.003670876179869406,
          null
         ],
         "z": [
          0.0015326733203654289,
          1,
          null
         ]
        },
        {
         "hoverinfo": "none",
         "line": {
          "color": "black",
          "width": 0.5
         },
         "mode": "lines",
         "type": "scatter3d",
         "uid": "7c61fdf9-e31b-4e88-9598-e42caeed618a",
         "x": [
          0.0009238225108410485,
          0.03812939203568519,
          null
         ],
         "y": [
          -0.002568324720018044,
          0.9728172928811957,
          null
         ],
         "z": [
          0.0015326733203654289,
          0.2483577583984073,
          null
         ]
        }
       ],
       "layout": {
        "annotations": [
         {
          "ax": 0,
          "ay": 20,
          "showarrow": false,
          "text": "Next",
          "x": 0.0035706495887966724,
          "xref": "x",
          "y": 0.1002132321262131,
          "yref": "y"
         },
         {
          "ax": 0,
          "ay": 20,
          "showarrow": false,
          "text": "Inter",
          "x": -0.5660885416857367,
          "xref": "x",
          "y": 0.8221673783857327,
          "yref": "y"
         },
         {
          "ax": 0,
          "ay": 20,
          "showarrow": false,
          "text": "Nubank",
          "x": -0.652842562407275,
          "xref": "x",
          "y": 0.6573757754602153,
          "yref": "y"
         },
         {
          "ax": 0,
          "ay": 20,
          "showarrow": false,
          "text": "BB",
          "x": 0.7648909666387601,
          "xref": "x",
          "y": 0.1339612143759294,
          "yref": "y"
         },
         {
          "ax": 0,
          "ay": 20,
          "showarrow": false,
          "text": "Itau",
          "x": 0.49197118527513783,
          "xref": "x",
          "y": -0.9,
          "yref": "y"
         },
         {
          "ax": 0,
          "ay": 20,
          "showarrow": false,
          "text": "XP Investimentos",
          "x": -0.6381477115464191,
          "xref": "x",
          "y": -0.41742333054981184,
          "yref": "y"
         },
         {
          "ax": 0,
          "ay": 20,
          "showarrow": false,
          "text": "CEF",
          "x": 0.5450517629686346,
          "xref": "x",
          "y": 1.0694904420207791,
          "yref": "y"
         },
         {
          "ax": 0,
          "ay": 20,
          "showarrow": false,
          "text": "Santander",
          "x": 0.7027456428771309,
          "xref": "x",
          "y": 0.022917826276076816,
          "yref": "y"
         },
         {
          "ax": 0,
          "ay": 20,
          "showarrow": false,
          "text": "Bradesco",
          "x": -0.6511513917090284,
          "xref": "x",
          "y": -0.5887025380951348,
          "yref": "y"
         },
         {
          "ax": 0,
          "ay": 20,
          "showarrow": false,
          "text": "Next",
          "x": 0.0009238225108410485,
          "xref": "x",
          "y": 0.09743167527998196,
          "yref": "y"
         },
         {
          "ax": 0,
          "ay": 20,
          "showarrow": false,
          "text": "Inter",
          "x": 0.5575968207554152,
          "xref": "x",
          "y": -0.4948884867549559,
          "yref": "y"
         },
         {
          "ax": 0,
          "ay": 20,
          "showarrow": false,
          "text": "Nubank",
          "x": -0.17036903037749393,
          "xref": "x",
          "y": -0.8334136319212263,
          "yref": "y"
         },
         {
          "ax": 0,
          "ay": 20,
          "showarrow": false,
          "text": "BB",
          "x": -0.954695377955305,
          "xref": "x",
          "y": 0.33452601000794785,
          "yref": "y"
         },
         {
          "ax": 0,
          "ay": 20,
          "showarrow": false,
          "text": "Itau",
          "x": 0.2436359375071908,
          "xref": "x",
          "y": 0.6842792634707733,
          "yref": "y"
         },
         {
          "ax": 0,
          "ay": 20,
          "showarrow": false,
          "text": "XP Investimentos",
          "x": -0.6312026194891801,
          "xref": "x",
          "y": -0.1941740170334861,
          "yref": "y"
         },
         {
          "ax": 0,
          "ay": 20,
          "showarrow": false,
          "text": "CEF",
          "x": -0.03616182969066795,
          "xref": "x",
          "y": 0.1036708761798694,
          "yref": "y"
         },
         {
          "ax": 0,
          "ay": 20,
          "showarrow": false,
          "text": "Santander",
          "x": 0.03812939203568519,
          "xref": "x",
          "y": 1.0728172928811956,
          "yref": "y"
         },
         {
          "ax": 0,
          "ay": 20,
          "showarrow": false,
          "text": "Bradesco",
          "x": 0.9521428847035164,
          "xref": "x",
          "y": 0.12975101788989984,
          "yref": "y"
         }
        ],
        "hovermode": "closest",
        "margin": {
         "b": 20,
         "l": 5,
         "r": 5,
         "t": 40
        },
        "scene": {
         "xaxis": {
          "showbackground": false,
          "showgrid": false,
          "showline": false,
          "showticklabels": false,
          "title": {
           "text": ""
          },
          "zeroline": false
         },
         "yaxis": {
          "showbackground": false,
          "showgrid": false,
          "showline": false,
          "showticklabels": false,
          "title": {
           "text": ""
          },
          "zeroline": false
         },
         "zaxis": {
          "showbackground": false,
          "showgrid": false,
          "showline": false,
          "showticklabels": false,
          "title": {
           "text": ""
          },
          "zeroline": false
         }
        },
        "showlegend": false,
        "title": {
         "font": {
          "size": 16
         },
         "text": "coco"
        }
       }
      },
      "text/html": [
       "<div>\n",
       "        \n",
       "        \n",
       "            <div id=\"ae0465d7-5d98-4305-8a86-f9082c2354f9\" class=\"plotly-graph-div\" style=\"height:525px; width:100%;\"></div>\n",
       "            <script type=\"text/javascript\">\n",
       "                require([\"plotly\"], function(Plotly) {\n",
       "                    window.PLOTLYENV=window.PLOTLYENV || {};\n",
       "                    window.PLOTLYENV.BASE_URL='https://plot.ly';\n",
       "                    \n",
       "                if (document.getElementById(\"ae0465d7-5d98-4305-8a86-f9082c2354f9\")) {\n",
       "                    Plotly.newPlot(\n",
       "                        'ae0465d7-5d98-4305-8a86-f9082c2354f9',\n",
       "                        [{\"hoverinfo\": \"text\", \"marker\": {\"cmax\": null, \"cmin\": null, \"color\": [\"rgb(0, 0, 6)\", \"rgb(35, 17, 82)\", \"rgb(251, 252, 191)\", \"rgb(20, 13, 53)\", \"rgb(0, 0, 3)\", \"rgb(0, 0, 3)\", \"rgb(251, 247, 185)\", \"rgb(0, 0, 3)\", \"rgb(21, 14, 56)\"], \"colorbar\": {\"thickness\": 15, \"title\": {\"side\": \"right\", \"text\": \"coco\"}, \"xanchor\": \"left\"}, \"colorscale\": \"Viridis\", \"line\": {\"width\": 2}, \"reversescale\": true, \"showscale\": false, \"size\": [1, 1, 1, 1, 1, 1, 1, 1, 1], \"sizemin\": 15, \"sizemode\": \"area\", \"sizeref\": 15}, \"mode\": \"markers\", \"text\": [\"<b>Next</b><br>clientes: 2000<br>lucro: 234<br>\", \"<b>Inter</b><br>clientes: 35000<br>lucro: 1111<br>\", \"<b>Nubank</b><br>clientes: 234243<br>lucro: 2234<br>\", \"<b>BB</b><br>clientes: 23443<br>lucro: 2344<br>\", \"<b>Itau</b><br>clientes: 2<br>lucro: 444<br>\", \"<b>XP Investimentos</b><br>clientes: 1<br>lucro: 222<br>\", \"<b>CEF</b><br>clientes: 232323<br>lucro: 1<br>\", \"<b>Santander</b><br>clientes: 666<br>lucro: 1<br>\", \"<b>Bradesco</b><br>clientes: 24433<br>lucro: 9877<br>\"], \"type\": \"scatter3d\", \"uid\": \"2a4ec22d-6ccb-495c-b8b5-89e39f5d406f\", \"x\": [0.0009238225108410485, 0.5575968207554152, -0.17036903037749393, -0.954695377955305, 0.2436359375071908, -0.6312026194891801, -0.03616182969066795, 0.03812939203568519, 0.9521428847035164], \"y\": [-0.002568324720018044, -0.5948884867549559, -0.9334136319212263, 0.23452601000794784, 0.5842792634707733, -0.2941740170334861, 0.003670876179869406, 0.9728172928811957, 0.02975101788989983], \"z\": [0.0015326733203654289, -0.583612290473437, 0.32351728160561427, 0.20663800260393247, -0.7782547199839508, -0.7284577975425214, 1.0, 0.2483577583984073, 0.31027909207159043]}, {\"hoverinfo\": \"none\", \"line\": {\"color\": \"black\", \"width\": 0.5}, \"mode\": \"lines\", \"type\": \"scatter3d\", \"uid\": \"ba93e0b8-baf2-4ccb-adb5-23fe02720318\", \"x\": [0.0009238225108410485, 0.9521428847035164, null], \"y\": [-0.002568324720018044, 0.02975101788989983, null], \"z\": [0.0015326733203654289, 0.31027909207159043, null]}, {\"hoverinfo\": \"none\", \"line\": {\"color\": \"black\", \"width\": 0.5}, \"mode\": \"lines\", \"type\": \"scatter3d\", \"uid\": \"c2b46997-9729-4e5d-a0b9-1c0b71da0ee6\", \"x\": [0.0009238225108410485, 0.5575968207554152, null], \"y\": [-0.002568324720018044, -0.5948884867549559, null], \"z\": [0.0015326733203654289, -0.583612290473437, null]}, {\"hoverinfo\": \"none\", \"line\": {\"color\": \"black\", \"width\": 0.5}, \"mode\": \"lines\", \"type\": \"scatter3d\", \"uid\": \"7de538c8-077d-4c8a-a2ce-1d40ea9f6e85\", \"x\": [0.0009238225108410485, -0.17036903037749393, null], \"y\": [-0.002568324720018044, -0.9334136319212263, null], \"z\": [0.0015326733203654289, 0.32351728160561427, null]}, {\"hoverinfo\": \"none\", \"line\": {\"color\": \"black\", \"width\": 0.5}, \"mode\": \"lines\", \"type\": \"scatter3d\", \"uid\": \"038a6cef-db7d-40b3-b1fa-991df9086b3c\", \"x\": [0.0009238225108410485, -0.954695377955305, null], \"y\": [-0.002568324720018044, 0.23452601000794784, null], \"z\": [0.0015326733203654289, 0.20663800260393247, null]}, {\"hoverinfo\": \"none\", \"line\": {\"color\": \"black\", \"width\": 0.5}, \"mode\": \"lines\", \"type\": \"scatter3d\", \"uid\": \"3e99cfec-4cf5-4545-b1bb-42255c353086\", \"x\": [0.0009238225108410485, 0.2436359375071908, null], \"y\": [-0.002568324720018044, 0.5842792634707733, null], \"z\": [0.0015326733203654289, -0.7782547199839508, null]}, {\"hoverinfo\": \"none\", \"line\": {\"color\": \"black\", \"width\": 0.5}, \"mode\": \"lines\", \"type\": \"scatter3d\", \"uid\": \"718bd1f4-e245-4786-b115-e6c2e976db56\", \"x\": [0.0009238225108410485, -0.6312026194891801, null], \"y\": [-0.002568324720018044, -0.2941740170334861, null], \"z\": [0.0015326733203654289, -0.7284577975425214, null]}, {\"hoverinfo\": \"none\", \"line\": {\"color\": \"black\", \"width\": 0.5}, \"mode\": \"lines\", \"type\": \"scatter3d\", \"uid\": \"e8a1d9c2-77be-46f1-b451-f476f5f1a958\", \"x\": [0.0009238225108410485, -0.03616182969066795, null], \"y\": [-0.002568324720018044, 0.003670876179869406, null], \"z\": [0.0015326733203654289, 1.0, null]}, {\"hoverinfo\": \"none\", \"line\": {\"color\": \"black\", \"width\": 0.5}, \"mode\": \"lines\", \"type\": \"scatter3d\", \"uid\": \"77565c9d-cbe9-4b13-bce3-61f6e36f77ee\", \"x\": [0.0009238225108410485, 0.03812939203568519, null], \"y\": [-0.002568324720018044, 0.9728172928811957, null], \"z\": [0.0015326733203654289, 0.2483577583984073, null]}],\n",
       "                        {\"annotations\": [{\"ax\": 0, \"ay\": 20, \"showarrow\": false, \"text\": \"Next\", \"x\": 0.0035706495887966724, \"xref\": \"x\", \"y\": 0.1002132321262131, \"yref\": \"y\"}, {\"ax\": 0, \"ay\": 20, \"showarrow\": false, \"text\": \"Inter\", \"x\": -0.5660885416857367, \"xref\": \"x\", \"y\": 0.8221673783857327, \"yref\": \"y\"}, {\"ax\": 0, \"ay\": 20, \"showarrow\": false, \"text\": \"Nubank\", \"x\": -0.652842562407275, \"xref\": \"x\", \"y\": 0.6573757754602153, \"yref\": \"y\"}, {\"ax\": 0, \"ay\": 20, \"showarrow\": false, \"text\": \"BB\", \"x\": 0.7648909666387601, \"xref\": \"x\", \"y\": 0.1339612143759294, \"yref\": \"y\"}, {\"ax\": 0, \"ay\": 20, \"showarrow\": false, \"text\": \"Itau\", \"x\": 0.49197118527513783, \"xref\": \"x\", \"y\": -0.9, \"yref\": \"y\"}, {\"ax\": 0, \"ay\": 20, \"showarrow\": false, \"text\": \"XP Investimentos\", \"x\": -0.6381477115464191, \"xref\": \"x\", \"y\": -0.41742333054981184, \"yref\": \"y\"}, {\"ax\": 0, \"ay\": 20, \"showarrow\": false, \"text\": \"CEF\", \"x\": 0.5450517629686346, \"xref\": \"x\", \"y\": 1.0694904420207791, \"yref\": \"y\"}, {\"ax\": 0, \"ay\": 20, \"showarrow\": false, \"text\": \"Santander\", \"x\": 0.7027456428771309, \"xref\": \"x\", \"y\": 0.022917826276076816, \"yref\": \"y\"}, {\"ax\": 0, \"ay\": 20, \"showarrow\": false, \"text\": \"Bradesco\", \"x\": -0.6511513917090284, \"xref\": \"x\", \"y\": -0.5887025380951348, \"yref\": \"y\"}, {\"ax\": 0, \"ay\": 20, \"showarrow\": false, \"text\": \"Next\", \"x\": 0.0009238225108410485, \"xref\": \"x\", \"y\": 0.09743167527998196, \"yref\": \"y\"}, {\"ax\": 0, \"ay\": 20, \"showarrow\": false, \"text\": \"Inter\", \"x\": 0.5575968207554152, \"xref\": \"x\", \"y\": -0.4948884867549559, \"yref\": \"y\"}, {\"ax\": 0, \"ay\": 20, \"showarrow\": false, \"text\": \"Nubank\", \"x\": -0.17036903037749393, \"xref\": \"x\", \"y\": -0.8334136319212263, \"yref\": \"y\"}, {\"ax\": 0, \"ay\": 20, \"showarrow\": false, \"text\": \"BB\", \"x\": -0.954695377955305, \"xref\": \"x\", \"y\": 0.33452601000794785, \"yref\": \"y\"}, {\"ax\": 0, \"ay\": 20, \"showarrow\": false, \"text\": \"Itau\", \"x\": 0.2436359375071908, \"xref\": \"x\", \"y\": 0.6842792634707733, \"yref\": \"y\"}, {\"ax\": 0, \"ay\": 20, \"showarrow\": false, \"text\": \"XP Investimentos\", \"x\": -0.6312026194891801, \"xref\": \"x\", \"y\": -0.1941740170334861, \"yref\": \"y\"}, {\"ax\": 0, \"ay\": 20, \"showarrow\": false, \"text\": \"CEF\", \"x\": -0.03616182969066795, \"xref\": \"x\", \"y\": 0.1036708761798694, \"yref\": \"y\"}, {\"ax\": 0, \"ay\": 20, \"showarrow\": false, \"text\": \"Santander\", \"x\": 0.03812939203568519, \"xref\": \"x\", \"y\": 1.0728172928811956, \"yref\": \"y\"}, {\"ax\": 0, \"ay\": 20, \"showarrow\": false, \"text\": \"Bradesco\", \"x\": 0.9521428847035164, \"xref\": \"x\", \"y\": 0.12975101788989984, \"yref\": \"y\"}], \"hovermode\": \"closest\", \"margin\": {\"b\": 20, \"l\": 5, \"r\": 5, \"t\": 40}, \"scene\": {\"xaxis\": {\"showbackground\": false, \"showgrid\": false, \"showline\": false, \"showticklabels\": false, \"title\": {\"text\": \"\"}, \"zeroline\": false}, \"yaxis\": {\"showbackground\": false, \"showgrid\": false, \"showline\": false, \"showticklabels\": false, \"title\": {\"text\": \"\"}, \"zeroline\": false}, \"zaxis\": {\"showbackground\": false, \"showgrid\": false, \"showline\": false, \"showticklabels\": false, \"title\": {\"text\": \"\"}, \"zeroline\": false}}, \"showlegend\": false, \"title\": {\"font\": {\"size\": 16}, \"text\": \"coco\"}},\n",
       "                        {\"showLink\": false, \"linkText\": \"Export to plot.ly\", \"plotlyServerURL\": \"https://plot.ly\", \"responsive\": true}\n",
       "                    ).then(function(){\n",
       "                            \n",
       "var gd = document.getElementById('ae0465d7-5d98-4305-8a86-f9082c2354f9');\n",
       "var x = new MutationObserver(function (mutations, observer) {{\n",
       "        var display = window.getComputedStyle(gd).display;\n",
       "        if (!display || display === 'none') {{\n",
       "            console.log([gd, 'removed!']);\n",
       "            Plotly.purge(gd);\n",
       "            observer.disconnect();\n",
       "        }}\n",
       "}});\n",
       "\n",
       "// Listen for the removal of the full notebook cells\n",
       "var notebookContainer = gd.closest('#notebook-container');\n",
       "if (notebookContainer) {{\n",
       "    x.observe(notebookContainer, {childList: true});\n",
       "}}\n",
       "\n",
       "// Listen for the clearing of the current output cell\n",
       "var outputEl = gd.closest('.output');\n",
       "if (outputEl) {{\n",
       "    x.observe(outputEl, {childList: true});\n",
       "}}\n",
       "\n",
       "                        })\n",
       "                };\n",
       "                });\n",
       "            </script>\n",
       "        </div>"
      ]
     },
     "metadata": {},
     "output_type": "display_data"
    }
   ],
   "source": [
    "mygraph.plot(title='coco', node_color_col='clientes')"
   ]
  },
  {
   "cell_type": "code",
   "execution_count": null,
   "metadata": {},
   "outputs": [],
   "source": [
    "mygraph.plot(title='coco', node_size_col='clientes', node_color_col='clientes')"
   ]
  },
  {
   "cell_type": "code",
   "execution_count": null,
   "metadata": {},
   "outputs": [],
   "source": [
    "mygraph.plot(title='coco', node_size_col='clientes', node_color_col='clientes', hover_col='clientes')"
   ]
  },
  {
   "cell_type": "code",
   "execution_count": null,
   "metadata": {},
   "outputs": [],
   "source": [
    "mygraph.plot(title='coco', node_size_col='clientes', node_color_col='clientes', hover_col=['clientes','keke'])"
   ]
  },
  {
   "cell_type": "code",
   "execution_count": null,
   "metadata": {},
   "outputs": [],
   "source": [
    "mygraph.plot(title='coco', node_size_col='clientes', node_color_col='clientes', edge_color_col='enviado')"
   ]
  },
  {
   "cell_type": "code",
   "execution_count": null,
   "metadata": {},
   "outputs": [],
   "source": [
    "mygraph.plot(title='coco', node_size_col='clientes', node_color_col='clientes', edge_width_col='enviado')"
   ]
  },
  {
   "cell_type": "code",
   "execution_count": null,
   "metadata": {},
   "outputs": [],
   "source": [
    "#import plotly.plotly as py\n",
    "import plotly.graph_objs as go\n",
    "\n",
    "import numpy as np\n",
    "from plotly.offline import download_plotlyjs, init_notebook_mode, plot, iplot\n",
    "\n",
    "init_notebook_mode(connected=True)\n",
    "\n",
    "x, y, z = np.random.multivariate_normal(np.array([0,0,0]), np.eye(3), 400).transpose()\n",
    "\n",
    "trace1 = go.Scatter3d(\n",
    "    x=x,\n",
    "    y=y,\n",
    "    z=z,\n",
    "    mode='markers',\n",
    "    marker=dict(\n",
    "        size=12,\n",
    "        color=z,                # set color to an array/list of desired values\n",
    "        colorscale='Viridis',   # choose a colorscale\n",
    "        opacity=0.8\n",
    "    )\n",
    ")\n",
    "\n",
    "data = [trace1]\n",
    "layout = go.Layout(\n",
    "    margin=dict(\n",
    "        l=0,\n",
    "        r=0,\n",
    "        b=0,\n",
    "        t=0\n",
    "    )\n",
    ")\n",
    "fig = go.Figure(data=data, layout=layout)\n",
    "iplot(fig, filename='3d-scatter-colorscale')"
   ]
  },
  {
   "cell_type": "code",
   "execution_count": null,
   "metadata": {},
   "outputs": [],
   "source": [
    "mygraph.G.nodes['Next']"
   ]
  },
  {
   "cell_type": "code",
   "execution_count": null,
   "metadata": {},
   "outputs": [],
   "source": [
    "import plotly.graph_objs as go\n",
    "import plotly\n",
    "plotly.offline.init_notebook_mode()\n",
    "\n",
    "#draw a square\n",
    "x = [0, 1, 0, 1, 0, 1, 0, 1]\n",
    "y = [0, 1, 1, 0, 0, 1, 1, 0]\n",
    "z = [0, 0, 0, 0, 1, 1, 1, 1]\n",
    "\n",
    "#the start and end point for each line\n",
    "pairs = [(1,2),(7,6)]\n",
    "\n",
    "trace1 = go.Scatter3d(\n",
    "    x=x,\n",
    "    y=y,\n",
    "    z=z,\n",
    "    mode='markers',\n",
    "    name='markers'\n",
    ")\n",
    "\n",
    "x_lines = list()\n",
    "y_lines = list()\n",
    "z_lines = list()\n",
    "\n",
    "#create the coordinate list for the lines\n",
    "for p in pairs:\n",
    "    for i in range(2):\n",
    "        x_lines.append(x[p[i]])\n",
    "        y_lines.append(y[p[i]])\n",
    "        z_lines.append(z[p[i]])\n",
    "    x_lines.append(None)\n",
    "    y_lines.append(None)\n",
    "    z_lines.append(None)\n",
    "\n",
    "trace2 = go.Scatter3d(\n",
    "    x=x_lines,\n",
    "    y=y_lines,\n",
    "    z=z_lines,\n",
    "    mode='lines',\n",
    "    name='lines'\n",
    ")\n",
    "\n",
    "fig = go.Figure(data=[trace1, trace2])\n",
    "plotly.offline.iplot(fig, filename='simple-3d-scatter')"
   ]
  },
  {
   "cell_type": "code",
   "execution_count": null,
   "metadata": {},
   "outputs": [],
   "source": [
    "import pandas as pd\n",
    "df = pd.DataFrame({'coco':[1,2,3,3,2,1], 'lala':[6,5,4,3,2,1], 'banco':['jujuba','boteco','lala','metin','coco','lala']})"
   ]
  },
  {
   "cell_type": "code",
   "execution_count": null,
   "metadata": {},
   "outputs": [],
   "source": [
    "df.iloc[0].to_dict()"
   ]
  },
  {
   "cell_type": "code",
   "execution_count": null,
   "metadata": {},
   "outputs": [],
   "source": [
    "pos = nx.random_layout(mygraph.G, dim = 3)"
   ]
  },
  {
   "cell_type": "code",
   "execution_count": null,
   "metadata": {},
   "outputs": [],
   "source": [
    "pos"
   ]
  },
  {
   "cell_type": "code",
   "execution_count": null,
   "metadata": {},
   "outputs": [],
   "source": [
    "for k in pos.items():\n",
    "    print (type(k[1]))"
   ]
  },
  {
   "cell_type": "code",
   "execution_count": null,
   "metadata": {},
   "outputs": [],
   "source": [
    "for edge in mygraph.G.edges():\n",
    "    print(edge)"
   ]
  },
  {
   "cell_type": "code",
   "execution_count": null,
   "metadata": {},
   "outputs": [],
   "source": [
    "a = dict(sdf=23)"
   ]
  },
  {
   "cell_type": "code",
   "execution_count": null,
   "metadata": {},
   "outputs": [],
   "source": [
    "a"
   ]
  },
  {
   "cell_type": "code",
   "execution_count": null,
   "metadata": {},
   "outputs": [],
   "source": []
  }
 ],
 "metadata": {
  "kernelspec": {
   "display_name": "Python 3",
   "language": "python",
   "name": "python3"
  },
  "language_info": {
   "codemirror_mode": {
    "name": "ipython",
    "version": 3
   },
   "file_extension": ".py",
   "mimetype": "text/x-python",
   "name": "python",
   "nbconvert_exporter": "python",
   "pygments_lexer": "ipython3",
   "version": "3.7.0"
  }
 },
 "nbformat": 4,
 "nbformat_minor": 2
}
