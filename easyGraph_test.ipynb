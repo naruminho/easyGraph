{
 "cells": [
  {
   "cell_type": "code",
   "execution_count": 37,
   "metadata": {},
   "outputs": [
    {
     "name": "stdout",
     "output_type": "stream",
     "text": [
      "The autoreload extension is already loaded. To reload it, use:\n",
      "  %reload_ext autoreload\n"
     ]
    }
   ],
   "source": [
    "%load_ext autoreload\n",
    "%autoreload 2\n",
    "from easyGraph import *\n",
    "import pandas as pd"
   ]
  },
  {
   "cell_type": "code",
   "execution_count": 38,
   "metadata": {},
   "outputs": [],
   "source": [
    "# creating an empty graph object\n",
    "mygraph = EasyGraph(6, dim=3)"
   ]
  },
  {
   "cell_type": "code",
   "execution_count": 39,
   "metadata": {},
   "outputs": [
    {
     "data": {
      "text/html": [
       "<div>\n",
       "<style scoped>\n",
       "    .dataframe tbody tr th:only-of-type {\n",
       "        vertical-align: middle;\n",
       "    }\n",
       "\n",
       "    .dataframe tbody tr th {\n",
       "        vertical-align: top;\n",
       "    }\n",
       "\n",
       "    .dataframe thead th {\n",
       "        text-align: right;\n",
       "    }\n",
       "</style>\n",
       "<table border=\"1\" class=\"dataframe\">\n",
       "  <thead>\n",
       "    <tr style=\"text-align: right;\">\n",
       "      <th></th>\n",
       "      <th>banco</th>\n",
       "      <th>clientes</th>\n",
       "      <th>lucro</th>\n",
       "    </tr>\n",
       "  </thead>\n",
       "  <tbody>\n",
       "    <tr>\n",
       "      <th>0</th>\n",
       "      <td>Next</td>\n",
       "      <td>2000</td>\n",
       "      <td>234</td>\n",
       "    </tr>\n",
       "    <tr>\n",
       "      <th>1</th>\n",
       "      <td>Inter</td>\n",
       "      <td>35000</td>\n",
       "      <td>1111</td>\n",
       "    </tr>\n",
       "    <tr>\n",
       "      <th>2</th>\n",
       "      <td>Nubank</td>\n",
       "      <td>234243</td>\n",
       "      <td>2234</td>\n",
       "    </tr>\n",
       "    <tr>\n",
       "      <th>3</th>\n",
       "      <td>BB</td>\n",
       "      <td>23443</td>\n",
       "      <td>2344</td>\n",
       "    </tr>\n",
       "    <tr>\n",
       "      <th>4</th>\n",
       "      <td>Itau</td>\n",
       "      <td>2</td>\n",
       "      <td>444</td>\n",
       "    </tr>\n",
       "  </tbody>\n",
       "</table>\n",
       "</div>"
      ],
      "text/plain": [
       "    banco  clientes  lucro\n",
       "0    Next      2000    234\n",
       "1   Inter     35000   1111\n",
       "2  Nubank    234243   2234\n",
       "3      BB     23443   2344\n",
       "4    Itau         2    444"
      ]
     },
     "execution_count": 39,
     "metadata": {},
     "output_type": "execute_result"
    }
   ],
   "source": [
    "# creating a node dataframe \n",
    "bancos = pd.DataFrame({\n",
    "        'banco' : ['Next', 'Inter', 'Nubank', 'BB', 'Itau', 'XP Investimentos', 'CEF', 'Santander','Bradesco'],\n",
    "        'clientes': [2000,   35000, 234243, 23443,2,1,232323, 666, 24433],\n",
    "        'lucro': [234, 1111, 2234, 2344, 444, 222, 1, 1, 9877] \n",
    "})\n",
    "bancos.head()"
   ]
  },
  {
   "cell_type": "code",
   "execution_count": 40,
   "metadata": {},
   "outputs": [],
   "source": [
    "# adding the nodes to the graph\n",
    "# 'banco' is the id column \n",
    "mygraph.node.load(bancos, 'banco')"
   ]
  },
  {
   "cell_type": "code",
   "execution_count": 41,
   "metadata": {
    "scrolled": true
   },
   "outputs": [
    {
     "data": {
      "text/html": [
       "<div>\n",
       "<style scoped>\n",
       "    .dataframe tbody tr th:only-of-type {\n",
       "        vertical-align: middle;\n",
       "    }\n",
       "\n",
       "    .dataframe tbody tr th {\n",
       "        vertical-align: top;\n",
       "    }\n",
       "\n",
       "    .dataframe thead th {\n",
       "        text-align: right;\n",
       "    }\n",
       "</style>\n",
       "<table border=\"1\" class=\"dataframe\">\n",
       "  <thead>\n",
       "    <tr style=\"text-align: right;\">\n",
       "      <th></th>\n",
       "      <th>de</th>\n",
       "      <th>para</th>\n",
       "      <th>enviado</th>\n",
       "      <th>recebido</th>\n",
       "    </tr>\n",
       "  </thead>\n",
       "  <tbody>\n",
       "    <tr>\n",
       "      <th>0</th>\n",
       "      <td>Next</td>\n",
       "      <td>Bradesco</td>\n",
       "      <td>25500</td>\n",
       "      <td>2344</td>\n",
       "    </tr>\n",
       "    <tr>\n",
       "      <th>1</th>\n",
       "      <td>Next</td>\n",
       "      <td>Inter</td>\n",
       "      <td>3500</td>\n",
       "      <td>111</td>\n",
       "    </tr>\n",
       "    <tr>\n",
       "      <th>2</th>\n",
       "      <td>Next</td>\n",
       "      <td>Nubank</td>\n",
       "      <td>12345</td>\n",
       "      <td>22234</td>\n",
       "    </tr>\n",
       "    <tr>\n",
       "      <th>3</th>\n",
       "      <td>Next</td>\n",
       "      <td>BB</td>\n",
       "      <td>6664</td>\n",
       "      <td>234</td>\n",
       "    </tr>\n",
       "    <tr>\n",
       "      <th>4</th>\n",
       "      <td>Next</td>\n",
       "      <td>Itau</td>\n",
       "      <td>222</td>\n",
       "      <td>4344</td>\n",
       "    </tr>\n",
       "  </tbody>\n",
       "</table>\n",
       "</div>"
      ],
      "text/plain": [
       "     de      para  enviado  recebido\n",
       "0  Next  Bradesco    25500      2344\n",
       "1  Next     Inter     3500       111\n",
       "2  Next    Nubank    12345     22234\n",
       "3  Next        BB     6664       234\n",
       "4  Next      Itau      222      4344"
      ]
     },
     "execution_count": 41,
     "metadata": {},
     "output_type": "execute_result"
    }
   ],
   "source": [
    "teds = pd.DataFrame({\n",
    "        'de' : ['Next', 'Next', 'Next', 'Next', 'Next', 'Next', 'Next', 'Next', 'Inter', 'Nubank', 'Nubank', 'Itau', 'CEF'],\n",
    "        'para' : ['Bradesco', 'Inter', 'Nubank', 'BB', 'Itau', 'XP Investimentos', 'CEF', 'Santander', 'Nubank', 'BB', 'Bradesco', 'Bradesco', 'BB'],\n",
    "        'enviado': [25500,   3500, 12345, 6664, 222,111, 2323, 666, 129, 122111, 23, 12112,888],\n",
    "        'recebido': [2344, 111, 22234, 234, 4344, 2322, 1111, 1111, 8766, 9877, 2111, 98767,999] \n",
    "})\n",
    "teds.head()"
   ]
  },
  {
   "cell_type": "code",
   "execution_count": 42,
   "metadata": {},
   "outputs": [],
   "source": [
    "mygraph.edge.load(teds, 'de', 'para')"
   ]
  },
  {
   "cell_type": "code",
   "execution_count": 43,
   "metadata": {
    "scrolled": true
   },
   "outputs": [
    {
     "ename": "ValueError",
     "evalue": "Invalid property specified for object of type plotly.graph_objs.layout.Annotation: 'z'\n\n    Valid properties:\n        align\n            Sets the horizontal alignment of the `text` within the\n            box. Has an effect only if `text` spans more two or\n            more lines (i.e. `text` contains one or more <br> HTML\n            tags) or if an explicit width is set to override the\n            text width.\n        arrowcolor\n            Sets the color of the annotation arrow.\n        arrowhead\n            Sets the end annotation arrow head style.\n        arrowside\n            Sets the annotation arrow head position.\n        arrowsize\n            Sets the size of the end annotation arrow head,\n            relative to `arrowwidth`. A value of 1 (default) gives\n            a head about 3x as wide as the line.\n        arrowwidth\n            Sets the width (in px) of annotation arrow line.\n        ax\n            Sets the x component of the arrow tail about the arrow\n            head. If `axref` is `pixel`, a positive (negative)\n            component corresponds to an arrow pointing from right\n            to left (left to right). If `axref` is an axis, this is\n            an absolute value on that axis, like `x`, NOT a\n            relative value.\n        axref\n            Indicates in what terms the tail of the annotation\n            (ax,ay)  is specified. If `pixel`, `ax` is a relative\n            offset in pixels  from `x`. If set to an x axis id\n            (e.g. \"x\" or \"x2\"), `ax` is  specified in the same\n            terms as that axis. This is useful  for trendline\n            annotations which should continue to indicate  the\n            correct trend when zoomed.\n        ay\n            Sets the y component of the arrow tail about the arrow\n            head. If `ayref` is `pixel`, a positive (negative)\n            component corresponds to an arrow pointing from bottom\n            to top (top to bottom). If `ayref` is an axis, this is\n            an absolute value on that axis, like `y`, NOT a\n            relative value.\n        ayref\n            Indicates in what terms the tail of the annotation\n            (ax,ay)  is specified. If `pixel`, `ay` is a relative\n            offset in pixels  from `y`. If set to a y axis id (e.g.\n            \"y\" or \"y2\"), `ay` is  specified in the same terms as\n            that axis. This is useful  for trendline annotations\n            which should continue to indicate  the correct trend\n            when zoomed.\n        bgcolor\n            Sets the background color of the annotation.\n        bordercolor\n            Sets the color of the border enclosing the annotation\n            `text`.\n        borderpad\n            Sets the padding (in px) between the `text` and the\n            enclosing border.\n        borderwidth\n            Sets the width (in px) of the border enclosing the\n            annotation `text`.\n        captureevents\n            Determines whether the annotation text box captures\n            mouse move and click events, or allows those events to\n            pass through to data points in the plot that may be\n            behind the annotation. By default `captureevents` is\n            False unless `hovertext` is provided. If you use the\n            event `plotly_clickannotation` without `hovertext` you\n            must explicitly enable `captureevents`.\n        clicktoshow\n            Makes this annotation respond to clicks on the plot. If\n            you click a data point that exactly matches the `x` and\n            `y` values of this annotation, and it is hidden\n            (visible: false), it will appear. In \"onoff\" mode, you\n            must click the same point again to make it disappear,\n            so if you click multiple points, you can show multiple\n            annotations. In \"onout\" mode, a click anywhere else in\n            the plot (on another data point or not) will hide this\n            annotation. If you need to show/hide this annotation in\n            response to different `x` or `y` values, you can set\n            `xclick` and/or `yclick`. This is useful for example to\n            label the side of a bar. To label markers though,\n            `standoff` is preferred over `xclick` and `yclick`.\n        font\n            Sets the annotation text font.\n        height\n            Sets an explicit height for the text box. null\n            (default) lets the text set the box height. Taller text\n            will be clipped.\n        hoverlabel\n            plotly.graph_objs.layout.annotation.Hoverlabel instance\n            or dict with compatible properties\n        hovertext\n            Sets text to appear when hovering over this annotation.\n            If omitted or blank, no hover label will appear.\n        name\n            When used in a template, named items are created in the\n            output figure in addition to any items the figure\n            already has in this array. You can modify these items\n            in the output figure by making your own item with\n            `templateitemname` matching this `name` alongside your\n            modifications (including `visible: false` or `enabled:\n            false` to hide it). Has no effect outside of a\n            template.\n        opacity\n            Sets the opacity of the annotation (text + arrow).\n        showarrow\n            Determines whether or not the annotation is drawn with\n            an arrow. If True, `text` is placed near the arrow's\n            tail. If False, `text` lines up with the `x` and `y`\n            provided.\n        standoff\n            Sets a distance, in pixels, to move the end arrowhead\n            away from the position it is pointing at, for example\n            to point at the edge of a marker independent of zoom.\n            Note that this shortens the arrow from the `ax` / `ay`\n            vector, in contrast to `xshift` / `yshift` which moves\n            everything by this amount.\n        startarrowhead\n            Sets the start annotation arrow head style.\n        startarrowsize\n            Sets the size of the start annotation arrow head,\n            relative to `arrowwidth`. A value of 1 (default) gives\n            a head about 3x as wide as the line.\n        startstandoff\n            Sets a distance, in pixels, to move the start arrowhead\n            away from the position it is pointing at, for example\n            to point at the edge of a marker independent of zoom.\n            Note that this shortens the arrow from the `ax` / `ay`\n            vector, in contrast to `xshift` / `yshift` which moves\n            everything by this amount.\n        templateitemname\n            Used to refer to a named item in this array in the\n            template. Named items from the template will be created\n            even without a matching item in the input figure, but\n            you can modify one by making an item with\n            `templateitemname` matching its `name`, alongside your\n            modifications (including `visible: false` or `enabled:\n            false` to hide it). If there is no template or no\n            matching item, this item will be hidden unless you\n            explicitly show it with `visible: true`.\n        text\n            Sets the text associated with this annotation. Plotly\n            uses a subset of HTML tags to do things like newline\n            (<br>), bold (<b></b>), italics (<i></i>), hyperlinks\n            (<a href='...'></a>). Tags <em>, <sup>, <sub> <span>\n            are also supported.\n        textangle\n            Sets the angle at which the `text` is drawn with\n            respect to the horizontal.\n        valign\n            Sets the vertical alignment of the `text` within the\n            box. Has an effect only if an explicit height is set to\n            override the text height.\n        visible\n            Determines whether or not this annotation is visible.\n        width\n            Sets an explicit width for the text box. null (default)\n            lets the text set the box width. Wider text will be\n            clipped. There is no automatic wrapping; use <br> to\n            start a new line.\n        x\n            Sets the annotation's x position. If the axis `type` is\n            \"log\", then you must take the log of your desired\n            range. If the axis `type` is \"date\", it should be date\n            strings, like date data, though Date objects and unix\n            milliseconds will be accepted and converted to strings.\n            If the axis `type` is \"category\", it should be numbers,\n            using the scale where each category is assigned a\n            serial number from zero in the order it appears.\n        xanchor\n            Sets the text box's horizontal position anchor This\n            anchor binds the `x` position to the \"left\", \"center\"\n            or \"right\" of the annotation. For example, if `x` is\n            set to 1, `xref` to \"paper\" and `xanchor` to \"right\"\n            then the right-most portion of the annotation lines up\n            with the right-most edge of the plotting area. If\n            \"auto\", the anchor is equivalent to \"center\" for data-\n            referenced annotations or if there is an arrow, whereas\n            for paper-referenced with no arrow, the anchor picked\n            corresponds to the closest side.\n        xclick\n            Toggle this annotation when clicking a data point whose\n            `x` value is `xclick` rather than the annotation's `x`\n            value.\n        xref\n            Sets the annotation's x coordinate axis. If set to an x\n            axis id (e.g. \"x\" or \"x2\"), the `x` position refers to\n            an x coordinate If set to \"paper\", the `x` position\n            refers to the distance from the left side of the\n            plotting area in normalized coordinates where 0 (1)\n            corresponds to the left (right) side.\n        xshift\n            Shifts the position of the whole annotation and arrow\n            to the right (positive) or left (negative) by this many\n            pixels.\n        y\n            Sets the annotation's y position. If the axis `type` is\n            \"log\", then you must take the log of your desired\n            range. If the axis `type` is \"date\", it should be date\n            strings, like date data, though Date objects and unix\n            milliseconds will be accepted and converted to strings.\n            If the axis `type` is \"category\", it should be numbers,\n            using the scale where each category is assigned a\n            serial number from zero in the order it appears.\n        yanchor\n            Sets the text box's vertical position anchor This\n            anchor binds the `y` position to the \"top\", \"middle\" or\n            \"bottom\" of the annotation. For example, if `y` is set\n            to 1, `yref` to \"paper\" and `yanchor` to \"top\" then the\n            top-most portion of the annotation lines up with the\n            top-most edge of the plotting area. If \"auto\", the\n            anchor is equivalent to \"middle\" for data-referenced\n            annotations or if there is an arrow, whereas for paper-\n            referenced with no arrow, the anchor picked corresponds\n            to the closest side.\n        yclick\n            Toggle this annotation when clicking a data point whose\n            `y` value is `yclick` rather than the annotation's `y`\n            value.\n        yref\n            Sets the annotation's y coordinate axis. If set to an y\n            axis id (e.g. \"y\" or \"y2\"), the `y` position refers to\n            an y coordinate If set to \"paper\", the `y` position\n            refers to the distance from the bottom of the plotting\n            area in normalized coordinates where 0 (1) corresponds\n            to the bottom (top).\n        yshift\n            Shifts the position of the whole annotation and arrow\n            up (positive) or down (negative) by this many pixels.\n        ",
     "output_type": "error",
     "traceback": [
      "\u001b[0;31m---------------------------------------------------------------------------\u001b[0m",
      "\u001b[0;31mValueError\u001b[0m                                Traceback (most recent call last)",
      "\u001b[0;32m<ipython-input-43-4d5f6f3f1b40>\u001b[0m in \u001b[0;36m<module>\u001b[0;34m()\u001b[0m\n\u001b[0;32m----> 1\u001b[0;31m \u001b[0mmygraph\u001b[0m\u001b[0;34m.\u001b[0m\u001b[0mplot\u001b[0m\u001b[0;34m(\u001b[0m\u001b[0mfilename\u001b[0m\u001b[0;34m=\u001b[0m\u001b[0;34m'coco.html'\u001b[0m\u001b[0;34m)\u001b[0m\u001b[0;34m\u001b[0m\u001b[0m\n\u001b[0m",
      "\u001b[0;32m~/Dropbox/src/mystuffs2/easyGraph.py\u001b[0m in \u001b[0;36mplot\u001b[0;34m(self, title, node_size_col, node_color_col, edge_color_col, edge_width_col, hover_col, filename)\u001b[0m\n\u001b[1;32m     30\u001b[0m         \u001b[0mself\u001b[0m\u001b[0;34m.\u001b[0m\u001b[0mnode\u001b[0m\u001b[0;34m.\u001b[0m\u001b[0mset_pos\u001b[0m\u001b[0;34m(\u001b[0m\u001b[0mself\u001b[0m\u001b[0;34m.\u001b[0m\u001b[0mlayout\u001b[0m\u001b[0;34m,\u001b[0m \u001b[0mself\u001b[0m\u001b[0;34m.\u001b[0m\u001b[0mdim\u001b[0m\u001b[0;34m)\u001b[0m\u001b[0;34m\u001b[0m\u001b[0m\n\u001b[1;32m     31\u001b[0m         \u001b[0mself\u001b[0m\u001b[0;34m.\u001b[0m\u001b[0mnode\u001b[0m\u001b[0;34m.\u001b[0m\u001b[0mset_size_attribute\u001b[0m\u001b[0;34m(\u001b[0m\u001b[0mnode_size_col\u001b[0m\u001b[0;34m,\u001b[0m \u001b[0mnode_color_col\u001b[0m\u001b[0;34m)\u001b[0m\u001b[0;34m\u001b[0m\u001b[0m\n\u001b[0;32m---> 32\u001b[0;31m         \u001b[0mself\u001b[0m\u001b[0;34m.\u001b[0m\u001b[0mnode\u001b[0m\u001b[0;34m.\u001b[0m\u001b[0mset_layout\u001b[0m\u001b[0;34m(\u001b[0m\u001b[0mtitle\u001b[0m\u001b[0;34m)\u001b[0m\u001b[0;34m\u001b[0m\u001b[0m\n\u001b[0m\u001b[1;32m     33\u001b[0m         \u001b[0mself\u001b[0m\u001b[0;34m.\u001b[0m\u001b[0mnode\u001b[0m\u001b[0;34m.\u001b[0m\u001b[0mset_color_attribute\u001b[0m\u001b[0;34m(\u001b[0m\u001b[0mnode_color_col\u001b[0m\u001b[0;34m)\u001b[0m\u001b[0;34m\u001b[0m\u001b[0m\n\u001b[1;32m     34\u001b[0m         \u001b[0mself\u001b[0m\u001b[0;34m.\u001b[0m\u001b[0mnode\u001b[0m\u001b[0;34m.\u001b[0m\u001b[0mset_hover_attribute\u001b[0m\u001b[0;34m(\u001b[0m\u001b[0mhover_col\u001b[0m\u001b[0;34m)\u001b[0m\u001b[0;34m\u001b[0m\u001b[0m\n",
      "\u001b[0;32m~/Dropbox/src/mystuffs2/nodes.py\u001b[0m in \u001b[0;36mset_layout\u001b[0;34m(self, title)\u001b[0m\n\u001b[1;32m    190\u001b[0m             scene = dict(\n\u001b[1;32m    191\u001b[0m                 \u001b[0mxaxis\u001b[0m\u001b[0;34m=\u001b[0m\u001b[0mdict\u001b[0m\u001b[0;34m(\u001b[0m\u001b[0mconsts\u001b[0m\u001b[0;34m.\u001b[0m\u001b[0maxis\u001b[0m\u001b[0;34m)\u001b[0m\u001b[0;34m,\u001b[0m\u001b[0;34m\u001b[0m\u001b[0m\n\u001b[0;32m--> 192\u001b[0;31m                 \u001b[0myaxis\u001b[0m\u001b[0;34m=\u001b[0m\u001b[0mdict\u001b[0m\u001b[0;34m(\u001b[0m\u001b[0mconsts\u001b[0m\u001b[0;34m.\u001b[0m\u001b[0maxis\u001b[0m\u001b[0;34m)\u001b[0m\u001b[0;34m,\u001b[0m\u001b[0;34m\u001b[0m\u001b[0m\n\u001b[0m\u001b[1;32m    193\u001b[0m                 \u001b[0;31m#zaxis=dict(consts.axis)\u001b[0m\u001b[0;34m\u001b[0m\u001b[0;34m\u001b[0m\u001b[0m\n\u001b[1;32m    194\u001b[0m             )\n",
      "\u001b[0;32m/anaconda3/lib/python3.7/site-packages/plotly/graph_objs/__init__.py\u001b[0m in \u001b[0;36m__init__\u001b[0;34m(self, arg, angularaxis, annotations, annotationdefaults, autosize, bargap, bargroupgap, barmode, barnorm, boxgap, boxgroupgap, boxmode, calendar, clickmode, colorscale, colorway, datarevision, direction, dragmode, editrevision, extendpiecolors, extendsunburstcolors, font, geo, grid, height, hiddenlabels, hiddenlabelssrc, hidesources, hoverdistance, hoverlabel, hovermode, images, imagedefaults, legend, mapbox, margin, meta, metasrc, modebar, orientation, paper_bgcolor, piecolorway, plot_bgcolor, polar, radialaxis, scene, selectdirection, selectionrevision, separators, shapes, shapedefaults, showlegend, sliders, sliderdefaults, spikedistance, sunburstcolorway, template, ternary, title, titlefont, transition, uirevision, updatemenus, updatemenudefaults, violingap, violingroupgap, violinmode, waterfallgap, waterfallgroupgap, waterfallmode, width, xaxis, yaxis, **kwargs)\u001b[0m\n\u001b[1;32m   4936\u001b[0m         \u001b[0mself\u001b[0m\u001b[0;34m[\u001b[0m\u001b[0;34m'angularaxis'\u001b[0m\u001b[0;34m]\u001b[0m \u001b[0;34m=\u001b[0m \u001b[0mangularaxis\u001b[0m \u001b[0;32mif\u001b[0m \u001b[0mangularaxis\u001b[0m \u001b[0;32mis\u001b[0m \u001b[0;32mnot\u001b[0m \u001b[0;32mNone\u001b[0m \u001b[0;32melse\u001b[0m \u001b[0m_v\u001b[0m\u001b[0;34m\u001b[0m\u001b[0m\n\u001b[1;32m   4937\u001b[0m         \u001b[0m_v\u001b[0m \u001b[0;34m=\u001b[0m \u001b[0marg\u001b[0m\u001b[0;34m.\u001b[0m\u001b[0mpop\u001b[0m\u001b[0;34m(\u001b[0m\u001b[0;34m'annotations'\u001b[0m\u001b[0;34m,\u001b[0m \u001b[0;32mNone\u001b[0m\u001b[0;34m)\u001b[0m\u001b[0;34m\u001b[0m\u001b[0m\n\u001b[0;32m-> 4938\u001b[0;31m         \u001b[0mself\u001b[0m\u001b[0;34m[\u001b[0m\u001b[0;34m'annotations'\u001b[0m\u001b[0;34m]\u001b[0m \u001b[0;34m=\u001b[0m \u001b[0mannotations\u001b[0m \u001b[0;32mif\u001b[0m \u001b[0mannotations\u001b[0m \u001b[0;32mis\u001b[0m \u001b[0;32mnot\u001b[0m \u001b[0;32mNone\u001b[0m \u001b[0;32melse\u001b[0m \u001b[0m_v\u001b[0m\u001b[0;34m\u001b[0m\u001b[0m\n\u001b[0m\u001b[1;32m   4939\u001b[0m         \u001b[0m_v\u001b[0m \u001b[0;34m=\u001b[0m \u001b[0marg\u001b[0m\u001b[0;34m.\u001b[0m\u001b[0mpop\u001b[0m\u001b[0;34m(\u001b[0m\u001b[0;34m'annotationdefaults'\u001b[0m\u001b[0;34m,\u001b[0m \u001b[0;32mNone\u001b[0m\u001b[0;34m)\u001b[0m\u001b[0;34m\u001b[0m\u001b[0m\n\u001b[1;32m   4940\u001b[0m         self['annotationdefaults'\n",
      "\u001b[0;32m/anaconda3/lib/python3.7/site-packages/plotly/basedatatypes.py\u001b[0m in \u001b[0;36m__setitem__\u001b[0;34m(self, prop, value)\u001b[0m\n\u001b[1;32m   4068\u001b[0m         \u001b[0;32mif\u001b[0m \u001b[0mmatch\u001b[0m \u001b[0;32mis\u001b[0m \u001b[0;32mNone\u001b[0m\u001b[0;34m:\u001b[0m\u001b[0;34m\u001b[0m\u001b[0m\n\u001b[1;32m   4069\u001b[0m             \u001b[0;31m# Set as ordinary property\u001b[0m\u001b[0;34m\u001b[0m\u001b[0;34m\u001b[0m\u001b[0m\n\u001b[0;32m-> 4070\u001b[0;31m             \u001b[0msuper\u001b[0m\u001b[0;34m(\u001b[0m\u001b[0mBaseLayoutHierarchyType\u001b[0m\u001b[0;34m,\u001b[0m \u001b[0mself\u001b[0m\u001b[0;34m)\u001b[0m\u001b[0;34m.\u001b[0m\u001b[0m__setitem__\u001b[0m\u001b[0;34m(\u001b[0m\u001b[0mprop\u001b[0m\u001b[0;34m,\u001b[0m \u001b[0mvalue\u001b[0m\u001b[0;34m)\u001b[0m\u001b[0;34m\u001b[0m\u001b[0m\n\u001b[0m\u001b[1;32m   4071\u001b[0m         \u001b[0;32melse\u001b[0m\u001b[0;34m:\u001b[0m\u001b[0;34m\u001b[0m\u001b[0m\n\u001b[1;32m   4072\u001b[0m             \u001b[0;31m# Set as subplotid property\u001b[0m\u001b[0;34m\u001b[0m\u001b[0;34m\u001b[0m\u001b[0m\n",
      "\u001b[0;32m/anaconda3/lib/python3.7/site-packages/plotly/basedatatypes.py\u001b[0m in \u001b[0;36m__setitem__\u001b[0;34m(self, prop, value)\u001b[0m\n\u001b[1;32m   3160\u001b[0m             elif isinstance(validator,\n\u001b[1;32m   3161\u001b[0m                             (CompoundArrayValidator, BaseDataValidator)):\n\u001b[0;32m-> 3162\u001b[0;31m                 \u001b[0mself\u001b[0m\u001b[0;34m.\u001b[0m\u001b[0m_set_array_prop\u001b[0m\u001b[0;34m(\u001b[0m\u001b[0mprop\u001b[0m\u001b[0;34m,\u001b[0m \u001b[0mvalue\u001b[0m\u001b[0;34m)\u001b[0m\u001b[0;34m\u001b[0m\u001b[0m\n\u001b[0m\u001b[1;32m   3163\u001b[0m \u001b[0;34m\u001b[0m\u001b[0m\n\u001b[1;32m   3164\u001b[0m             \u001b[0;31m# ### Handle simple property ###\u001b[0m\u001b[0;34m\u001b[0m\u001b[0;34m\u001b[0m\u001b[0m\n",
      "\u001b[0;32m/anaconda3/lib/python3.7/site-packages/plotly/basedatatypes.py\u001b[0m in \u001b[0;36m_set_array_prop\u001b[0;34m(self, prop, val)\u001b[0m\n\u001b[1;32m   3539\u001b[0m         \u001b[0mvalidator\u001b[0m \u001b[0;34m=\u001b[0m \u001b[0mself\u001b[0m\u001b[0;34m.\u001b[0m\u001b[0m_validators\u001b[0m\u001b[0;34m.\u001b[0m\u001b[0mget\u001b[0m\u001b[0;34m(\u001b[0m\u001b[0mprop\u001b[0m\u001b[0;34m)\u001b[0m\u001b[0;34m\u001b[0m\u001b[0m\n\u001b[1;32m   3540\u001b[0m         \u001b[0;31m# type: Tuple[BasePlotlyType]\u001b[0m\u001b[0;34m\u001b[0m\u001b[0;34m\u001b[0m\u001b[0m\n\u001b[0;32m-> 3541\u001b[0;31m         \u001b[0mval\u001b[0m \u001b[0;34m=\u001b[0m \u001b[0mvalidator\u001b[0m\u001b[0;34m.\u001b[0m\u001b[0mvalidate_coerce\u001b[0m\u001b[0;34m(\u001b[0m\u001b[0mval\u001b[0m\u001b[0;34m,\u001b[0m \u001b[0mskip_invalid\u001b[0m\u001b[0;34m=\u001b[0m\u001b[0mself\u001b[0m\u001b[0;34m.\u001b[0m\u001b[0m_skip_invalid\u001b[0m\u001b[0;34m)\u001b[0m\u001b[0;34m\u001b[0m\u001b[0m\n\u001b[0m\u001b[1;32m   3542\u001b[0m \u001b[0;34m\u001b[0m\u001b[0m\n\u001b[1;32m   3543\u001b[0m         \u001b[0;31m# Save deep copies of current and new states\u001b[0m\u001b[0;34m\u001b[0m\u001b[0;34m\u001b[0m\u001b[0m\n",
      "\u001b[0;32m/anaconda3/lib/python3.7/site-packages/_plotly_utils/basevalidators.py\u001b[0m in \u001b[0;36mvalidate_coerce\u001b[0;34m(self, v, skip_invalid)\u001b[0m\n\u001b[1;32m   2220\u001b[0m                 \u001b[0;32melif\u001b[0m \u001b[0misinstance\u001b[0m\u001b[0;34m(\u001b[0m\u001b[0mv_el\u001b[0m\u001b[0;34m,\u001b[0m \u001b[0mdict\u001b[0m\u001b[0;34m)\u001b[0m\u001b[0;34m:\u001b[0m\u001b[0;34m\u001b[0m\u001b[0m\n\u001b[1;32m   2221\u001b[0m                     res.append(self.data_class(v_el,\n\u001b[0;32m-> 2222\u001b[0;31m                                                skip_invalid=skip_invalid))\n\u001b[0m\u001b[1;32m   2223\u001b[0m                 \u001b[0;32melse\u001b[0m\u001b[0;34m:\u001b[0m\u001b[0;34m\u001b[0m\u001b[0m\n\u001b[1;32m   2224\u001b[0m                     \u001b[0;32mif\u001b[0m \u001b[0mskip_invalid\u001b[0m\u001b[0;34m:\u001b[0m\u001b[0;34m\u001b[0m\u001b[0m\n",
      "\u001b[0;32m/anaconda3/lib/python3.7/site-packages/plotly/graph_objs/layout/__init__.py\u001b[0m in \u001b[0;36m__init__\u001b[0;34m(self, arg, align, arrowcolor, arrowhead, arrowside, arrowsize, arrowwidth, ax, axref, ay, ayref, bgcolor, bordercolor, borderpad, borderwidth, captureevents, clicktoshow, font, height, hoverlabel, hovertext, name, opacity, showarrow, standoff, startarrowhead, startarrowsize, startstandoff, templateitemname, text, textangle, valign, visible, width, x, xanchor, xclick, xref, xshift, y, yanchor, yclick, yref, yshift, **kwargs)\u001b[0m\n\u001b[1;32m  21451\u001b[0m         \u001b[0;31m# Process unknown kwargs\u001b[0m\u001b[0;34m\u001b[0m\u001b[0;34m\u001b[0m\u001b[0m\n\u001b[1;32m  21452\u001b[0m         \u001b[0;31m# ----------------------\u001b[0m\u001b[0;34m\u001b[0m\u001b[0;34m\u001b[0m\u001b[0m\n\u001b[0;32m> 21453\u001b[0;31m         \u001b[0mself\u001b[0m\u001b[0;34m.\u001b[0m\u001b[0m_process_kwargs\u001b[0m\u001b[0;34m(\u001b[0m\u001b[0;34m**\u001b[0m\u001b[0mdict\u001b[0m\u001b[0;34m(\u001b[0m\u001b[0marg\u001b[0m\u001b[0;34m,\u001b[0m \u001b[0;34m**\u001b[0m\u001b[0mkwargs\u001b[0m\u001b[0;34m)\u001b[0m\u001b[0;34m)\u001b[0m\u001b[0;34m\u001b[0m\u001b[0m\n\u001b[0m\u001b[1;32m  21454\u001b[0m \u001b[0;34m\u001b[0m\u001b[0m\n\u001b[1;32m  21455\u001b[0m         \u001b[0;31m# Reset skip_invalid\u001b[0m\u001b[0;34m\u001b[0m\u001b[0;34m\u001b[0m\u001b[0m\n",
      "\u001b[0;32m/anaconda3/lib/python3.7/site-packages/plotly/basedatatypes.py\u001b[0m in \u001b[0;36m_process_kwargs\u001b[0;34m(self, **kwargs)\u001b[0m\n\u001b[1;32m   2706\u001b[0m \u001b[0;34m\u001b[0m\u001b[0m\n\u001b[1;32m   2707\u001b[0m         \u001b[0;32mif\u001b[0m \u001b[0minvalid_kwargs\u001b[0m \u001b[0;32mand\u001b[0m \u001b[0;32mnot\u001b[0m \u001b[0mself\u001b[0m\u001b[0;34m.\u001b[0m\u001b[0m_skip_invalid\u001b[0m\u001b[0;34m:\u001b[0m\u001b[0;34m\u001b[0m\u001b[0m\n\u001b[0;32m-> 2708\u001b[0;31m             \u001b[0mself\u001b[0m\u001b[0;34m.\u001b[0m\u001b[0m_raise_on_invalid_property_error\u001b[0m\u001b[0;34m(\u001b[0m\u001b[0;34m*\u001b[0m\u001b[0minvalid_kwargs\u001b[0m\u001b[0;34m.\u001b[0m\u001b[0mkeys\u001b[0m\u001b[0;34m(\u001b[0m\u001b[0;34m)\u001b[0m\u001b[0;34m)\u001b[0m\u001b[0;34m\u001b[0m\u001b[0m\n\u001b[0m\u001b[1;32m   2709\u001b[0m \u001b[0;34m\u001b[0m\u001b[0m\n\u001b[1;32m   2710\u001b[0m     \u001b[0;34m@\u001b[0m\u001b[0mproperty\u001b[0m\u001b[0;34m\u001b[0m\u001b[0m\n",
      "\u001b[0;32m/anaconda3/lib/python3.7/site-packages/plotly/basedatatypes.py\u001b[0m in \u001b[0;36m_raise_on_invalid_property_error\u001b[0;34m(self, *args)\u001b[0m\n\u001b[1;32m   3331\u001b[0m                                  \u001b[0mfull_obj_name\u001b[0m\u001b[0;34m=\u001b[0m\u001b[0mfull_obj_name\u001b[0m\u001b[0;34m,\u001b[0m\u001b[0;34m\u001b[0m\u001b[0m\n\u001b[1;32m   3332\u001b[0m                                  \u001b[0minvalid_str\u001b[0m\u001b[0;34m=\u001b[0m\u001b[0minvalid_str\u001b[0m\u001b[0;34m,\u001b[0m\u001b[0;34m\u001b[0m\u001b[0m\n\u001b[0;32m-> 3333\u001b[0;31m                                  prop_descriptions=self._prop_descriptions))\n\u001b[0m\u001b[1;32m   3334\u001b[0m \u001b[0;34m\u001b[0m\u001b[0m\n\u001b[1;32m   3335\u001b[0m     \u001b[0;32mdef\u001b[0m \u001b[0mupdate\u001b[0m\u001b[0;34m(\u001b[0m\u001b[0mself\u001b[0m\u001b[0;34m,\u001b[0m \u001b[0mdict1\u001b[0m\u001b[0;34m=\u001b[0m\u001b[0;32mNone\u001b[0m\u001b[0;34m,\u001b[0m \u001b[0;34m**\u001b[0m\u001b[0mkwargs\u001b[0m\u001b[0;34m)\u001b[0m\u001b[0;34m:\u001b[0m\u001b[0;34m\u001b[0m\u001b[0m\n",
      "\u001b[0;31mValueError\u001b[0m: Invalid property specified for object of type plotly.graph_objs.layout.Annotation: 'z'\n\n    Valid properties:\n        align\n            Sets the horizontal alignment of the `text` within the\n            box. Has an effect only if `text` spans more two or\n            more lines (i.e. `text` contains one or more <br> HTML\n            tags) or if an explicit width is set to override the\n            text width.\n        arrowcolor\n            Sets the color of the annotation arrow.\n        arrowhead\n            Sets the end annotation arrow head style.\n        arrowside\n            Sets the annotation arrow head position.\n        arrowsize\n            Sets the size of the end annotation arrow head,\n            relative to `arrowwidth`. A value of 1 (default) gives\n            a head about 3x as wide as the line.\n        arrowwidth\n            Sets the width (in px) of annotation arrow line.\n        ax\n            Sets the x component of the arrow tail about the arrow\n            head. If `axref` is `pixel`, a positive (negative)\n            component corresponds to an arrow pointing from right\n            to left (left to right). If `axref` is an axis, this is\n            an absolute value on that axis, like `x`, NOT a\n            relative value.\n        axref\n            Indicates in what terms the tail of the annotation\n            (ax,ay)  is specified. If `pixel`, `ax` is a relative\n            offset in pixels  from `x`. If set to an x axis id\n            (e.g. \"x\" or \"x2\"), `ax` is  specified in the same\n            terms as that axis. This is useful  for trendline\n            annotations which should continue to indicate  the\n            correct trend when zoomed.\n        ay\n            Sets the y component of the arrow tail about the arrow\n            head. If `ayref` is `pixel`, a positive (negative)\n            component corresponds to an arrow pointing from bottom\n            to top (top to bottom). If `ayref` is an axis, this is\n            an absolute value on that axis, like `y`, NOT a\n            relative value.\n        ayref\n            Indicates in what terms the tail of the annotation\n            (ax,ay)  is specified. If `pixel`, `ay` is a relative\n            offset in pixels  from `y`. If set to a y axis id (e.g.\n            \"y\" or \"y2\"), `ay` is  specified in the same terms as\n            that axis. This is useful  for trendline annotations\n            which should continue to indicate  the correct trend\n            when zoomed.\n        bgcolor\n            Sets the background color of the annotation.\n        bordercolor\n            Sets the color of the border enclosing the annotation\n            `text`.\n        borderpad\n            Sets the padding (in px) between the `text` and the\n            enclosing border.\n        borderwidth\n            Sets the width (in px) of the border enclosing the\n            annotation `text`.\n        captureevents\n            Determines whether the annotation text box captures\n            mouse move and click events, or allows those events to\n            pass through to data points in the plot that may be\n            behind the annotation. By default `captureevents` is\n            False unless `hovertext` is provided. If you use the\n            event `plotly_clickannotation` without `hovertext` you\n            must explicitly enable `captureevents`.\n        clicktoshow\n            Makes this annotation respond to clicks on the plot. If\n            you click a data point that exactly matches the `x` and\n            `y` values of this annotation, and it is hidden\n            (visible: false), it will appear. In \"onoff\" mode, you\n            must click the same point again to make it disappear,\n            so if you click multiple points, you can show multiple\n            annotations. In \"onout\" mode, a click anywhere else in\n            the plot (on another data point or not) will hide this\n            annotation. If you need to show/hide this annotation in\n            response to different `x` or `y` values, you can set\n            `xclick` and/or `yclick`. This is useful for example to\n            label the side of a bar. To label markers though,\n            `standoff` is preferred over `xclick` and `yclick`.\n        font\n            Sets the annotation text font.\n        height\n            Sets an explicit height for the text box. null\n            (default) lets the text set the box height. Taller text\n            will be clipped.\n        hoverlabel\n            plotly.graph_objs.layout.annotation.Hoverlabel instance\n            or dict with compatible properties\n        hovertext\n            Sets text to appear when hovering over this annotation.\n            If omitted or blank, no hover label will appear.\n        name\n            When used in a template, named items are created in the\n            output figure in addition to any items the figure\n            already has in this array. You can modify these items\n            in the output figure by making your own item with\n            `templateitemname` matching this `name` alongside your\n            modifications (including `visible: false` or `enabled:\n            false` to hide it). Has no effect outside of a\n            template.\n        opacity\n            Sets the opacity of the annotation (text + arrow).\n        showarrow\n            Determines whether or not the annotation is drawn with\n            an arrow. If True, `text` is placed near the arrow's\n            tail. If False, `text` lines up with the `x` and `y`\n            provided.\n        standoff\n            Sets a distance, in pixels, to move the end arrowhead\n            away from the position it is pointing at, for example\n            to point at the edge of a marker independent of zoom.\n            Note that this shortens the arrow from the `ax` / `ay`\n            vector, in contrast to `xshift` / `yshift` which moves\n            everything by this amount.\n        startarrowhead\n            Sets the start annotation arrow head style.\n        startarrowsize\n            Sets the size of the start annotation arrow head,\n            relative to `arrowwidth`. A value of 1 (default) gives\n            a head about 3x as wide as the line.\n        startstandoff\n            Sets a distance, in pixels, to move the start arrowhead\n            away from the position it is pointing at, for example\n            to point at the edge of a marker independent of zoom.\n            Note that this shortens the arrow from the `ax` / `ay`\n            vector, in contrast to `xshift` / `yshift` which moves\n            everything by this amount.\n        templateitemname\n            Used to refer to a named item in this array in the\n            template. Named items from the template will be created\n            even without a matching item in the input figure, but\n            you can modify one by making an item with\n            `templateitemname` matching its `name`, alongside your\n            modifications (including `visible: false` or `enabled:\n            false` to hide it). If there is no template or no\n            matching item, this item will be hidden unless you\n            explicitly show it with `visible: true`.\n        text\n            Sets the text associated with this annotation. Plotly\n            uses a subset of HTML tags to do things like newline\n            (<br>), bold (<b></b>), italics (<i></i>), hyperlinks\n            (<a href='...'></a>). Tags <em>, <sup>, <sub> <span>\n            are also supported.\n        textangle\n            Sets the angle at which the `text` is drawn with\n            respect to the horizontal.\n        valign\n            Sets the vertical alignment of the `text` within the\n            box. Has an effect only if an explicit height is set to\n            override the text height.\n        visible\n            Determines whether or not this annotation is visible.\n        width\n            Sets an explicit width for the text box. null (default)\n            lets the text set the box width. Wider text will be\n            clipped. There is no automatic wrapping; use <br> to\n            start a new line.\n        x\n            Sets the annotation's x position. If the axis `type` is\n            \"log\", then you must take the log of your desired\n            range. If the axis `type` is \"date\", it should be date\n            strings, like date data, though Date objects and unix\n            milliseconds will be accepted and converted to strings.\n            If the axis `type` is \"category\", it should be numbers,\n            using the scale where each category is assigned a\n            serial number from zero in the order it appears.\n        xanchor\n            Sets the text box's horizontal position anchor This\n            anchor binds the `x` position to the \"left\", \"center\"\n            or \"right\" of the annotation. For example, if `x` is\n            set to 1, `xref` to \"paper\" and `xanchor` to \"right\"\n            then the right-most portion of the annotation lines up\n            with the right-most edge of the plotting area. If\n            \"auto\", the anchor is equivalent to \"center\" for data-\n            referenced annotations or if there is an arrow, whereas\n            for paper-referenced with no arrow, the anchor picked\n            corresponds to the closest side.\n        xclick\n            Toggle this annotation when clicking a data point whose\n            `x` value is `xclick` rather than the annotation's `x`\n            value.\n        xref\n            Sets the annotation's x coordinate axis. If set to an x\n            axis id (e.g. \"x\" or \"x2\"), the `x` position refers to\n            an x coordinate If set to \"paper\", the `x` position\n            refers to the distance from the left side of the\n            plotting area in normalized coordinates where 0 (1)\n            corresponds to the left (right) side.\n        xshift\n            Shifts the position of the whole annotation and arrow\n            to the right (positive) or left (negative) by this many\n            pixels.\n        y\n            Sets the annotation's y position. If the axis `type` is\n            \"log\", then you must take the log of your desired\n            range. If the axis `type` is \"date\", it should be date\n            strings, like date data, though Date objects and unix\n            milliseconds will be accepted and converted to strings.\n            If the axis `type` is \"category\", it should be numbers,\n            using the scale where each category is assigned a\n            serial number from zero in the order it appears.\n        yanchor\n            Sets the text box's vertical position anchor This\n            anchor binds the `y` position to the \"top\", \"middle\" or\n            \"bottom\" of the annotation. For example, if `y` is set\n            to 1, `yref` to \"paper\" and `yanchor` to \"top\" then the\n            top-most portion of the annotation lines up with the\n            top-most edge of the plotting area. If \"auto\", the\n            anchor is equivalent to \"middle\" for data-referenced\n            annotations or if there is an arrow, whereas for paper-\n            referenced with no arrow, the anchor picked corresponds\n            to the closest side.\n        yclick\n            Toggle this annotation when clicking a data point whose\n            `y` value is `yclick` rather than the annotation's `y`\n            value.\n        yref\n            Sets the annotation's y coordinate axis. If set to an y\n            axis id (e.g. \"y\" or \"y2\"), the `y` position refers to\n            an y coordinate If set to \"paper\", the `y` position\n            refers to the distance from the bottom of the plotting\n            area in normalized coordinates where 0 (1) corresponds\n            to the bottom (top).\n        yshift\n            Shifts the position of the whole annotation and arrow\n            up (positive) or down (negative) by this many pixels.\n        "
     ]
    }
   ],
   "source": [
    "mygraph.plot(filename='coco.html')"
   ]
  },
  {
   "cell_type": "code",
   "execution_count": 15,
   "metadata": {},
   "outputs": [
    {
     "data": {
      "application/vnd.plotly.v1+json": {
       "config": {
        "linkText": "Export to plot.ly",
        "plotlyServerURL": "https://plot.ly",
        "responsive": true,
        "showLink": false
       },
       "data": [
        {
         "hoverinfo": "text",
         "marker": {
          "cmax": null,
          "cmin": null,
          "color": [
           "rgb(0, 0, 6)",
           "rgb(35, 17, 82)",
           "rgb(251, 252, 191)",
           "rgb(20, 13, 53)",
           "rgb(0, 0, 3)",
           "rgb(0, 0, 3)",
           "rgb(251, 247, 185)",
           "rgb(0, 0, 3)",
           "rgb(21, 14, 56)"
          ],
          "colorbar": {
           "thickness": 15,
           "title": {
            "side": "right",
            "text": "coco"
           },
           "xanchor": "left"
          },
          "colorscale": "Viridis",
          "line": {
           "width": 2
          },
          "reversescale": true,
          "showscale": false,
          "size": [
           1,
           1,
           1,
           1,
           1,
           1,
           1,
           1,
           1
          ],
          "sizemin": 6,
          "sizemode": "area",
          "sizeref": 6
         },
         "mode": "markers",
         "text": [
          "<b>Next</b><br>clientes: 2000<br>lucro: 234<br>",
          "<b>Inter</b><br>clientes: 35000<br>lucro: 1111<br>",
          "<b>Nubank</b><br>clientes: 234243<br>lucro: 2234<br>",
          "<b>BB</b><br>clientes: 23443<br>lucro: 2344<br>",
          "<b>Itau</b><br>clientes: 2<br>lucro: 444<br>",
          "<b>XP Investimentos</b><br>clientes: 1<br>lucro: 222<br>",
          "<b>CEF</b><br>clientes: 232323<br>lucro: 1<br>",
          "<b>Santander</b><br>clientes: 666<br>lucro: 1<br>",
          "<b>Bradesco</b><br>clientes: 24433<br>lucro: 9877<br>"
         ],
         "type": "scatter",
         "uid": "451d47bc-2936-4b63-8012-c506a33d78c5",
         "x": [
          0.027599322652272246,
          -0.4380898914758382,
          -0.14023262422260543,
          -0.6807676616014422,
          0.8871747081900979,
          0.7017914583912597,
          -0.7921687458111087,
          -0.06157902704649608,
          0.4962724609238609
         ],
         "y": [
          0.07122021801680231,
          -0.8272252130986102,
          -0.5268212369558702,
          -0.10231420539874311,
          -0.1974366373103,
          0.7137879713892804,
          0.4260371691540025,
          1,
          -0.5572480657965612
         ]
        },
        {
         "hoverinfo": "none",
         "line": {
          "color": "black",
          "width": 0.5
         },
         "mode": "lines",
         "type": "scatter",
         "uid": "3ce42d3e-6518-4022-9124-290589082abf",
         "x": [
          0.027599322652272246,
          0.4962724609238609,
          null
         ],
         "y": [
          0.07122021801680231,
          -0.5572480657965612,
          null
         ]
        },
        {
         "hoverinfo": "none",
         "line": {
          "color": "black",
          "width": 0.5
         },
         "mode": "lines",
         "type": "scatter",
         "uid": "8c88f037-66a8-4ac1-8e57-9c693f474530",
         "x": [
          0.027599322652272246,
          -0.4380898914758382,
          null
         ],
         "y": [
          0.07122021801680231,
          -0.8272252130986102,
          null
         ]
        },
        {
         "hoverinfo": "none",
         "line": {
          "color": "black",
          "width": 0.5
         },
         "mode": "lines",
         "type": "scatter",
         "uid": "9a088942-f026-457f-9f60-3e2e82eeae4b",
         "x": [
          0.027599322652272246,
          -0.14023262422260543,
          null
         ],
         "y": [
          0.07122021801680231,
          -0.5268212369558702,
          null
         ]
        },
        {
         "hoverinfo": "none",
         "line": {
          "color": "black",
          "width": 0.5
         },
         "mode": "lines",
         "type": "scatter",
         "uid": "600ab90e-2bac-4e77-a883-515ad6f21117",
         "x": [
          0.027599322652272246,
          -0.6807676616014422,
          null
         ],
         "y": [
          0.07122021801680231,
          -0.10231420539874311,
          null
         ]
        },
        {
         "hoverinfo": "none",
         "line": {
          "color": "black",
          "width": 0.5
         },
         "mode": "lines",
         "type": "scatter",
         "uid": "be493371-5ea1-4d60-9cae-1f01abb9fc88",
         "x": [
          0.027599322652272246,
          0.8871747081900979,
          null
         ],
         "y": [
          0.07122021801680231,
          -0.1974366373103,
          null
         ]
        },
        {
         "hoverinfo": "none",
         "line": {
          "color": "black",
          "width": 0.5
         },
         "mode": "lines",
         "type": "scatter",
         "uid": "42fd2f35-46cc-498a-95b6-4b53374a2de2",
         "x": [
          0.027599322652272246,
          0.7017914583912597,
          null
         ],
         "y": [
          0.07122021801680231,
          0.7137879713892804,
          null
         ]
        },
        {
         "hoverinfo": "none",
         "line": {
          "color": "black",
          "width": 0.5
         },
         "mode": "lines",
         "type": "scatter",
         "uid": "10876594-e411-406d-af29-fb9164e9d3c9",
         "x": [
          0.027599322652272246,
          -0.7921687458111087,
          null
         ],
         "y": [
          0.07122021801680231,
          0.4260371691540025,
          null
         ]
        },
        {
         "hoverinfo": "none",
         "line": {
          "color": "black",
          "width": 0.5
         },
         "mode": "lines",
         "type": "scatter",
         "uid": "119f7aaf-f08d-40af-9568-3fa505922165",
         "x": [
          0.027599322652272246,
          -0.06157902704649608,
          null
         ],
         "y": [
          0.07122021801680231,
          1,
          null
         ]
        },
        {
         "hoverinfo": "none",
         "line": {
          "color": "black",
          "width": 0.5
         },
         "mode": "lines",
         "type": "scatter",
         "uid": "ec85dc2b-f3d8-443b-91b5-b19d1cea8df3",
         "x": [
          -0.4380898914758382,
          -0.14023262422260543,
          null
         ],
         "y": [
          -0.8272252130986102,
          -0.5268212369558702,
          null
         ]
        },
        {
         "hoverinfo": "none",
         "line": {
          "color": "black",
          "width": 0.5
         },
         "mode": "lines",
         "type": "scatter",
         "uid": "e20cff5f-6312-4566-84f2-ca105156fd94",
         "x": [
          -0.14023262422260543,
          -0.6807676616014422,
          null
         ],
         "y": [
          -0.5268212369558702,
          -0.10231420539874311,
          null
         ]
        },
        {
         "hoverinfo": "none",
         "line": {
          "color": "black",
          "width": 0.5
         },
         "mode": "lines",
         "type": "scatter",
         "uid": "e47a25e4-c417-48da-8d94-e812fb592627",
         "x": [
          -0.14023262422260543,
          0.4962724609238609,
          null
         ],
         "y": [
          -0.5268212369558702,
          -0.5572480657965612,
          null
         ]
        },
        {
         "hoverinfo": "none",
         "line": {
          "color": "black",
          "width": 0.5
         },
         "mode": "lines",
         "type": "scatter",
         "uid": "8327007e-1ef5-42d6-a6b2-9195a7b2cbe3",
         "x": [
          -0.6807676616014422,
          -0.7921687458111087,
          null
         ],
         "y": [
          -0.10231420539874311,
          0.4260371691540025,
          null
         ]
        },
        {
         "hoverinfo": "none",
         "line": {
          "color": "black",
          "width": 0.5
         },
         "mode": "lines",
         "type": "scatter",
         "uid": "47d97929-83ca-4dc2-9977-244ae4cca6b0",
         "x": [
          0.8871747081900979,
          0.4962724609238609,
          null
         ],
         "y": [
          -0.1974366373103,
          -0.5572480657965612,
          null
         ]
        }
       ],
       "layout": {
        "annotations": [
         {
          "ax": 0,
          "ay": 20,
          "showarrow": false,
          "text": "Next",
          "x": -0.07794062036579767,
          "xref": "x",
          "y": 0.08400865934839395,
          "yref": "y"
         },
         {
          "ax": 0,
          "ay": 20,
          "showarrow": false,
          "text": "Inter",
          "x": 0.16755109679910954,
          "xref": "x",
          "y": -0.7124805880127004,
          "yref": "y"
         },
         {
          "ax": 0,
          "ay": 20,
          "showarrow": false,
          "text": "Nubank",
          "x": 0.35542628638900053,
          "xref": "x",
          "y": -0.1593764331265589,
          "yref": "y"
         },
         {
          "ax": 0,
          "ay": 20,
          "showarrow": false,
          "text": "BB",
          "x": 0.07399957726090944,
          "xref": "x",
          "y": 0.5901688507468612,
          "yref": "y"
         },
         {
          "ax": 0,
          "ay": 20,
          "showarrow": false,
          "text": "Itau",
          "x": 0.77542629911479,
          "xref": "x",
          "y": 0.5100745867956173,
          "yref": "y"
         },
         {
          "ax": 0,
          "ay": 20,
          "showarrow": false,
          "text": "XP Investimentos",
          "x": -0.7498671157710024,
          "xref": "x",
          "y": -0.5625894493752092,
          "yref": "y"
         },
         {
          "ax": 0,
          "ay": 20,
          "showarrow": false,
          "text": "CEF",
          "x": -0.34926639776433566,
          "xref": "x",
          "y": 0.9088546358082981,
          "yref": "y"
         },
         {
          "ax": 0,
          "ay": 20,
          "showarrow": false,
          "text": "Santander",
          "x": -1,
          "xref": "x",
          "y": 0.23591815070210428,
          "yref": "y"
         },
         {
          "ax": 0,
          "ay": 20,
          "showarrow": false,
          "text": "Bradesco",
          "x": 0.8046708743373262,
          "xref": "x",
          "y": 0.005421587113193613,
          "yref": "y"
         },
         {
          "ax": 0,
          "ay": 20,
          "showarrow": false,
          "text": "Next",
          "x": 0.027599322652272246,
          "xref": "x",
          "y": 0.17122021801680232,
          "yref": "y"
         },
         {
          "ax": 0,
          "ay": 20,
          "showarrow": false,
          "text": "Inter",
          "x": -0.4380898914758382,
          "xref": "x",
          "y": -0.7272252130986102,
          "yref": "y"
         },
         {
          "ax": 0,
          "ay": 20,
          "showarrow": false,
          "text": "Nubank",
          "x": -0.14023262422260543,
          "xref": "x",
          "y": -0.42682123695587026,
          "yref": "y"
         },
         {
          "ax": 0,
          "ay": 20,
          "showarrow": false,
          "text": "BB",
          "x": -0.6807676616014422,
          "xref": "x",
          "y": -0.0023142053987431077,
          "yref": "y"
         },
         {
          "ax": 0,
          "ay": 20,
          "showarrow": false,
          "text": "Itau",
          "x": 0.8871747081900979,
          "xref": "x",
          "y": -0.0974366373103,
          "yref": "y"
         },
         {
          "ax": 0,
          "ay": 20,
          "showarrow": false,
          "text": "XP Investimentos",
          "x": 0.7017914583912597,
          "xref": "x",
          "y": 0.8137879713892804,
          "yref": "y"
         },
         {
          "ax": 0,
          "ay": 20,
          "showarrow": false,
          "text": "CEF",
          "x": -0.7921687458111087,
          "xref": "x",
          "y": 0.5260371691540026,
          "yref": "y"
         },
         {
          "ax": 0,
          "ay": 20,
          "showarrow": false,
          "text": "Santander",
          "x": -0.06157902704649608,
          "xref": "x",
          "y": 1.1,
          "yref": "y"
         },
         {
          "ax": 0,
          "ay": 20,
          "showarrow": false,
          "text": "Bradesco",
          "x": 0.4962724609238609,
          "xref": "x",
          "y": -0.4572480657965612,
          "yref": "y"
         }
        ],
        "hovermode": "closest",
        "margin": {
         "b": 20,
         "l": 5,
         "r": 5,
         "t": 40
        },
        "scene": {
         "xaxis": {
          "showbackground": false,
          "showgrid": false,
          "showline": false,
          "showticklabels": false,
          "title": {
           "text": ""
          },
          "zeroline": false
         },
         "yaxis": {
          "showgrid": false,
          "showticklabels": false,
          "zeroline": false
         },
         "zaxis": {
          "showgrid": false,
          "showticklabels": false,
          "zeroline": false
         }
        },
        "showlegend": false,
        "title": {
         "font": {
          "size": 16
         },
         "text": "coco"
        }
       }
      },
      "text/html": [
       "<div>\n",
       "        \n",
       "        \n",
       "            <div id=\"efd81a3d-6907-48b4-a710-73eee6a32421\" class=\"plotly-graph-div\" style=\"height:525px; width:100%;\"></div>\n",
       "            <script type=\"text/javascript\">\n",
       "                require([\"plotly\"], function(Plotly) {\n",
       "                    window.PLOTLYENV=window.PLOTLYENV || {};\n",
       "                    window.PLOTLYENV.BASE_URL='https://plot.ly';\n",
       "                    \n",
       "                if (document.getElementById(\"efd81a3d-6907-48b4-a710-73eee6a32421\")) {\n",
       "                    Plotly.newPlot(\n",
       "                        'efd81a3d-6907-48b4-a710-73eee6a32421',\n",
       "                        [{\"hoverinfo\": \"text\", \"marker\": {\"cmax\": null, \"cmin\": null, \"color\": [\"rgb(0, 0, 6)\", \"rgb(35, 17, 82)\", \"rgb(251, 252, 191)\", \"rgb(20, 13, 53)\", \"rgb(0, 0, 3)\", \"rgb(0, 0, 3)\", \"rgb(251, 247, 185)\", \"rgb(0, 0, 3)\", \"rgb(21, 14, 56)\"], \"colorbar\": {\"thickness\": 15, \"title\": {\"side\": \"right\", \"text\": \"coco\"}, \"xanchor\": \"left\"}, \"colorscale\": \"Viridis\", \"line\": {\"width\": 2}, \"reversescale\": true, \"showscale\": false, \"size\": [1, 1, 1, 1, 1, 1, 1, 1, 1], \"sizemin\": 6, \"sizemode\": \"area\", \"sizeref\": 6}, \"mode\": \"markers\", \"text\": [\"<b>Next</b><br>clientes: 2000<br>lucro: 234<br>\", \"<b>Inter</b><br>clientes: 35000<br>lucro: 1111<br>\", \"<b>Nubank</b><br>clientes: 234243<br>lucro: 2234<br>\", \"<b>BB</b><br>clientes: 23443<br>lucro: 2344<br>\", \"<b>Itau</b><br>clientes: 2<br>lucro: 444<br>\", \"<b>XP Investimentos</b><br>clientes: 1<br>lucro: 222<br>\", \"<b>CEF</b><br>clientes: 232323<br>lucro: 1<br>\", \"<b>Santander</b><br>clientes: 666<br>lucro: 1<br>\", \"<b>Bradesco</b><br>clientes: 24433<br>lucro: 9877<br>\"], \"type\": \"scatter\", \"uid\": \"f4eb8ceb-4fda-4443-b775-aaa40ff0c612\", \"x\": [0.027599322652272246, -0.4380898914758382, -0.14023262422260543, -0.6807676616014422, 0.8871747081900979, 0.7017914583912597, -0.7921687458111087, -0.06157902704649608, 0.4962724609238609], \"y\": [0.07122021801680231, -0.8272252130986102, -0.5268212369558702, -0.10231420539874311, -0.1974366373103, 0.7137879713892804, 0.4260371691540025, 1.0, -0.5572480657965612]}, {\"hoverinfo\": \"none\", \"line\": {\"color\": \"black\", \"width\": 0.5}, \"mode\": \"lines\", \"type\": \"scatter\", \"uid\": \"e738ba5d-a19c-4ce7-9266-0155530e2a57\", \"x\": [0.027599322652272246, 0.4962724609238609, null], \"y\": [0.07122021801680231, -0.5572480657965612, null]}, {\"hoverinfo\": \"none\", \"line\": {\"color\": \"black\", \"width\": 0.5}, \"mode\": \"lines\", \"type\": \"scatter\", \"uid\": \"46180d18-748e-4833-9bff-bc9002226481\", \"x\": [0.027599322652272246, -0.4380898914758382, null], \"y\": [0.07122021801680231, -0.8272252130986102, null]}, {\"hoverinfo\": \"none\", \"line\": {\"color\": \"black\", \"width\": 0.5}, \"mode\": \"lines\", \"type\": \"scatter\", \"uid\": \"aeab5015-e228-4707-9485-1d2f8ad2e552\", \"x\": [0.027599322652272246, -0.14023262422260543, null], \"y\": [0.07122021801680231, -0.5268212369558702, null]}, {\"hoverinfo\": \"none\", \"line\": {\"color\": \"black\", \"width\": 0.5}, \"mode\": \"lines\", \"type\": \"scatter\", \"uid\": \"45ff5730-bc60-4682-893b-3858266a6e60\", \"x\": [0.027599322652272246, -0.6807676616014422, null], \"y\": [0.07122021801680231, -0.10231420539874311, null]}, {\"hoverinfo\": \"none\", \"line\": {\"color\": \"black\", \"width\": 0.5}, \"mode\": \"lines\", \"type\": \"scatter\", \"uid\": \"ef6f2bfe-2f28-4264-9b6e-9f677ae2f425\", \"x\": [0.027599322652272246, 0.8871747081900979, null], \"y\": [0.07122021801680231, -0.1974366373103, null]}, {\"hoverinfo\": \"none\", \"line\": {\"color\": \"black\", \"width\": 0.5}, \"mode\": \"lines\", \"type\": \"scatter\", \"uid\": \"2713b430-a2ec-46ba-b8da-be6d5c9fa5ea\", \"x\": [0.027599322652272246, 0.7017914583912597, null], \"y\": [0.07122021801680231, 0.7137879713892804, null]}, {\"hoverinfo\": \"none\", \"line\": {\"color\": \"black\", \"width\": 0.5}, \"mode\": \"lines\", \"type\": \"scatter\", \"uid\": \"1d0cd301-9adb-428a-abab-b31f54d5a956\", \"x\": [0.027599322652272246, -0.7921687458111087, null], \"y\": [0.07122021801680231, 0.4260371691540025, null]}, {\"hoverinfo\": \"none\", \"line\": {\"color\": \"black\", \"width\": 0.5}, \"mode\": \"lines\", \"type\": \"scatter\", \"uid\": \"4b493649-7515-4c58-bac0-985c089e8606\", \"x\": [0.027599322652272246, -0.06157902704649608, null], \"y\": [0.07122021801680231, 1.0, null]}, {\"hoverinfo\": \"none\", \"line\": {\"color\": \"black\", \"width\": 0.5}, \"mode\": \"lines\", \"type\": \"scatter\", \"uid\": \"bcedca85-4efd-4313-ad38-e9b7c4fd8f41\", \"x\": [-0.4380898914758382, -0.14023262422260543, null], \"y\": [-0.8272252130986102, -0.5268212369558702, null]}, {\"hoverinfo\": \"none\", \"line\": {\"color\": \"black\", \"width\": 0.5}, \"mode\": \"lines\", \"type\": \"scatter\", \"uid\": \"d6710cd6-c4eb-45ad-82a1-d5fe7fb8f67b\", \"x\": [-0.14023262422260543, -0.6807676616014422, null], \"y\": [-0.5268212369558702, -0.10231420539874311, null]}, {\"hoverinfo\": \"none\", \"line\": {\"color\": \"black\", \"width\": 0.5}, \"mode\": \"lines\", \"type\": \"scatter\", \"uid\": \"63a44fe3-063b-45bb-9a19-92fdf44d17f9\", \"x\": [-0.14023262422260543, 0.4962724609238609, null], \"y\": [-0.5268212369558702, -0.5572480657965612, null]}, {\"hoverinfo\": \"none\", \"line\": {\"color\": \"black\", \"width\": 0.5}, \"mode\": \"lines\", \"type\": \"scatter\", \"uid\": \"01d308d8-1560-4b5a-b7f2-1317d61aa338\", \"x\": [-0.6807676616014422, -0.7921687458111087, null], \"y\": [-0.10231420539874311, 0.4260371691540025, null]}, {\"hoverinfo\": \"none\", \"line\": {\"color\": \"black\", \"width\": 0.5}, \"mode\": \"lines\", \"type\": \"scatter\", \"uid\": \"d6dc60a1-789d-49c7-9f4f-048c47b55c40\", \"x\": [0.8871747081900979, 0.4962724609238609, null], \"y\": [-0.1974366373103, -0.5572480657965612, null]}],\n",
       "                        {\"annotations\": [{\"ax\": 0, \"ay\": 20, \"showarrow\": false, \"text\": \"Next\", \"x\": -0.07794062036579767, \"xref\": \"x\", \"y\": 0.08400865934839395, \"yref\": \"y\"}, {\"ax\": 0, \"ay\": 20, \"showarrow\": false, \"text\": \"Inter\", \"x\": 0.16755109679910954, \"xref\": \"x\", \"y\": -0.7124805880127004, \"yref\": \"y\"}, {\"ax\": 0, \"ay\": 20, \"showarrow\": false, \"text\": \"Nubank\", \"x\": 0.35542628638900053, \"xref\": \"x\", \"y\": -0.1593764331265589, \"yref\": \"y\"}, {\"ax\": 0, \"ay\": 20, \"showarrow\": false, \"text\": \"BB\", \"x\": 0.07399957726090944, \"xref\": \"x\", \"y\": 0.5901688507468612, \"yref\": \"y\"}, {\"ax\": 0, \"ay\": 20, \"showarrow\": false, \"text\": \"Itau\", \"x\": 0.77542629911479, \"xref\": \"x\", \"y\": 0.5100745867956173, \"yref\": \"y\"}, {\"ax\": 0, \"ay\": 20, \"showarrow\": false, \"text\": \"XP Investimentos\", \"x\": -0.7498671157710024, \"xref\": \"x\", \"y\": -0.5625894493752092, \"yref\": \"y\"}, {\"ax\": 0, \"ay\": 20, \"showarrow\": false, \"text\": \"CEF\", \"x\": -0.34926639776433566, \"xref\": \"x\", \"y\": 0.9088546358082981, \"yref\": \"y\"}, {\"ax\": 0, \"ay\": 20, \"showarrow\": false, \"text\": \"Santander\", \"x\": -1.0, \"xref\": \"x\", \"y\": 0.23591815070210428, \"yref\": \"y\"}, {\"ax\": 0, \"ay\": 20, \"showarrow\": false, \"text\": \"Bradesco\", \"x\": 0.8046708743373262, \"xref\": \"x\", \"y\": 0.005421587113193613, \"yref\": \"y\"}, {\"ax\": 0, \"ay\": 20, \"showarrow\": false, \"text\": \"Next\", \"x\": 0.027599322652272246, \"xref\": \"x\", \"y\": 0.17122021801680232, \"yref\": \"y\"}, {\"ax\": 0, \"ay\": 20, \"showarrow\": false, \"text\": \"Inter\", \"x\": -0.4380898914758382, \"xref\": \"x\", \"y\": -0.7272252130986102, \"yref\": \"y\"}, {\"ax\": 0, \"ay\": 20, \"showarrow\": false, \"text\": \"Nubank\", \"x\": -0.14023262422260543, \"xref\": \"x\", \"y\": -0.42682123695587026, \"yref\": \"y\"}, {\"ax\": 0, \"ay\": 20, \"showarrow\": false, \"text\": \"BB\", \"x\": -0.6807676616014422, \"xref\": \"x\", \"y\": -0.0023142053987431077, \"yref\": \"y\"}, {\"ax\": 0, \"ay\": 20, \"showarrow\": false, \"text\": \"Itau\", \"x\": 0.8871747081900979, \"xref\": \"x\", \"y\": -0.0974366373103, \"yref\": \"y\"}, {\"ax\": 0, \"ay\": 20, \"showarrow\": false, \"text\": \"XP Investimentos\", \"x\": 0.7017914583912597, \"xref\": \"x\", \"y\": 0.8137879713892804, \"yref\": \"y\"}, {\"ax\": 0, \"ay\": 20, \"showarrow\": false, \"text\": \"CEF\", \"x\": -0.7921687458111087, \"xref\": \"x\", \"y\": 0.5260371691540026, \"yref\": \"y\"}, {\"ax\": 0, \"ay\": 20, \"showarrow\": false, \"text\": \"Santander\", \"x\": -0.06157902704649608, \"xref\": \"x\", \"y\": 1.1, \"yref\": \"y\"}, {\"ax\": 0, \"ay\": 20, \"showarrow\": false, \"text\": \"Bradesco\", \"x\": 0.4962724609238609, \"xref\": \"x\", \"y\": -0.4572480657965612, \"yref\": \"y\"}], \"hovermode\": \"closest\", \"margin\": {\"b\": 20, \"l\": 5, \"r\": 5, \"t\": 40}, \"scene\": {\"xaxis\": {\"showbackground\": false, \"showgrid\": false, \"showline\": false, \"showticklabels\": false, \"title\": {\"text\": \"\"}, \"zeroline\": false}, \"yaxis\": {\"showgrid\": false, \"showticklabels\": false, \"zeroline\": false}, \"zaxis\": {\"showgrid\": false, \"showticklabels\": false, \"zeroline\": false}}, \"showlegend\": false, \"title\": {\"font\": {\"size\": 16}, \"text\": \"coco\"}},\n",
       "                        {\"showLink\": false, \"linkText\": \"Export to plot.ly\", \"plotlyServerURL\": \"https://plot.ly\", \"responsive\": true}\n",
       "                    ).then(function(){\n",
       "                            \n",
       "var gd = document.getElementById('efd81a3d-6907-48b4-a710-73eee6a32421');\n",
       "var x = new MutationObserver(function (mutations, observer) {{\n",
       "        var display = window.getComputedStyle(gd).display;\n",
       "        if (!display || display === 'none') {{\n",
       "            console.log([gd, 'removed!']);\n",
       "            Plotly.purge(gd);\n",
       "            observer.disconnect();\n",
       "        }}\n",
       "}});\n",
       "\n",
       "// Listen for the removal of the full notebook cells\n",
       "var notebookContainer = gd.closest('#notebook-container');\n",
       "if (notebookContainer) {{\n",
       "    x.observe(notebookContainer, {childList: true});\n",
       "}}\n",
       "\n",
       "// Listen for the clearing of the current output cell\n",
       "var outputEl = gd.closest('.output');\n",
       "if (outputEl) {{\n",
       "    x.observe(outputEl, {childList: true});\n",
       "}}\n",
       "\n",
       "                        })\n",
       "                };\n",
       "                });\n",
       "            </script>\n",
       "        </div>"
      ]
     },
     "metadata": {},
     "output_type": "display_data"
    }
   ],
   "source": [
    "mygraph.plot(title='coco', node_color_col='clientes')"
   ]
  },
  {
   "cell_type": "code",
   "execution_count": 16,
   "metadata": {},
   "outputs": [
    {
     "data": {
      "application/vnd.plotly.v1+json": {
       "config": {
        "linkText": "Export to plot.ly",
        "plotlyServerURL": "https://plot.ly",
        "responsive": true,
        "showLink": false
       },
       "data": [
        {
         "hoverinfo": "text",
         "marker": {
          "cmax": 234243,
          "cmin": 1,
          "color": [
           "rgb(0, 0, 6)",
           "rgb(35, 17, 82)",
           "rgb(251, 252, 191)",
           "rgb(20, 13, 53)",
           "rgb(0, 0, 3)",
           "rgb(0, 0, 3)",
           "rgb(251, 247, 185)",
           "rgb(0, 0, 3)",
           "rgb(21, 14, 56)"
          ],
          "colorbar": {
           "thickness": 15,
           "title": {
            "side": "right",
            "text": "coco"
           },
           "xanchor": "left"
          },
          "colorscale": "Viridis",
          "line": {
           "width": 2
          },
          "reversescale": true,
          "showscale": false,
          "size": [
           2000,
           35000,
           234243,
           23443,
           2,
           1,
           232323,
           666,
           24433
          ],
          "sizemin": 6,
          "sizemode": "area",
          "sizeref": 187.3944
         },
         "mode": "markers",
         "text": [
          "<b>Next</b><br>clientes: 2000<br>lucro: 234<br>",
          "<b>Inter</b><br>clientes: 35000<br>lucro: 1111<br>",
          "<b>Nubank</b><br>clientes: 234243<br>lucro: 2234<br>",
          "<b>BB</b><br>clientes: 23443<br>lucro: 2344<br>",
          "<b>Itau</b><br>clientes: 2<br>lucro: 444<br>",
          "<b>XP Investimentos</b><br>clientes: 1<br>lucro: 222<br>",
          "<b>CEF</b><br>clientes: 232323<br>lucro: 1<br>",
          "<b>Santander</b><br>clientes: 666<br>lucro: 1<br>",
          "<b>Bradesco</b><br>clientes: 24433<br>lucro: 9877<br>"
         ],
         "type": "scatter",
         "uid": "4f804502-b4d9-49c5-9942-14e2fc16d786",
         "x": [
          0.053893161841936384,
          0.3305844685708866,
          -0.30890715771997374,
          -0.7169628674074314,
          -0.21836631158065967,
          0.3205592503112819,
          -0.6166044693749136,
          0.9467943557463921,
          0.20900956961248304
         ],
         "y": [
          -0.10398132191454997,
          0.7695990623622987,
          0.34631259364758005,
          -0.17349138789835356,
          0.8243084316084495,
          -1,
          -0.699700619632718,
          -0.3928927483467579,
          0.42984599017405156
         ]
        },
        {
         "hoverinfo": "none",
         "line": {
          "color": "black",
          "width": 0.5
         },
         "mode": "lines",
         "type": "scatter",
         "uid": "18c1d686-a956-40a6-a47b-8959861ec7d1",
         "x": [
          0.053893161841936384,
          0.20900956961248304,
          null
         ],
         "y": [
          -0.10398132191454997,
          0.42984599017405156,
          null
         ]
        },
        {
         "hoverinfo": "none",
         "line": {
          "color": "black",
          "width": 0.5
         },
         "mode": "lines",
         "type": "scatter",
         "uid": "0ebaa94b-a661-4bb4-ab9f-da72a63fffa9",
         "x": [
          0.053893161841936384,
          0.3305844685708866,
          null
         ],
         "y": [
          -0.10398132191454997,
          0.7695990623622987,
          null
         ]
        },
        {
         "hoverinfo": "none",
         "line": {
          "color": "black",
          "width": 0.5
         },
         "mode": "lines",
         "type": "scatter",
         "uid": "8354e7af-cead-4056-b4d4-925defbef659",
         "x": [
          0.053893161841936384,
          -0.30890715771997374,
          null
         ],
         "y": [
          -0.10398132191454997,
          0.34631259364758005,
          null
         ]
        },
        {
         "hoverinfo": "none",
         "line": {
          "color": "black",
          "width": 0.5
         },
         "mode": "lines",
         "type": "scatter",
         "uid": "9084c350-1068-4eb0-ad1f-0fffc457fb67",
         "x": [
          0.053893161841936384,
          -0.7169628674074314,
          null
         ],
         "y": [
          -0.10398132191454997,
          -0.17349138789835356,
          null
         ]
        },
        {
         "hoverinfo": "none",
         "line": {
          "color": "black",
          "width": 0.5
         },
         "mode": "lines",
         "type": "scatter",
         "uid": "729cc747-c61b-4d5b-b301-7ff166c79b5a",
         "x": [
          0.053893161841936384,
          -0.21836631158065967,
          null
         ],
         "y": [
          -0.10398132191454997,
          0.8243084316084495,
          null
         ]
        },
        {
         "hoverinfo": "none",
         "line": {
          "color": "black",
          "width": 0.5
         },
         "mode": "lines",
         "type": "scatter",
         "uid": "34fc7cf4-b197-4d17-b531-2ef3ec8a17aa",
         "x": [
          0.053893161841936384,
          0.3205592503112819,
          null
         ],
         "y": [
          -0.10398132191454997,
          -1,
          null
         ]
        },
        {
         "hoverinfo": "none",
         "line": {
          "color": "black",
          "width": 0.5
         },
         "mode": "lines",
         "type": "scatter",
         "uid": "3d35fa42-0ae8-48fb-a5d8-20748e321a01",
         "x": [
          0.053893161841936384,
          -0.6166044693749136,
          null
         ],
         "y": [
          -0.10398132191454997,
          -0.699700619632718,
          null
         ]
        },
        {
         "hoverinfo": "none",
         "line": {
          "color": "black",
          "width": 0.5
         },
         "mode": "lines",
         "type": "scatter",
         "uid": "043354cc-beb0-4bd0-8b0e-7904eb847f15",
         "x": [
          0.053893161841936384,
          0.9467943557463921,
          null
         ],
         "y": [
          -0.10398132191454997,
          -0.3928927483467579,
          null
         ]
        },
        {
         "hoverinfo": "none",
         "line": {
          "color": "black",
          "width": 0.5
         },
         "mode": "lines",
         "type": "scatter",
         "uid": "7834eaba-5098-4933-998a-564cc5bf13f8",
         "x": [
          0.3305844685708866,
          -0.30890715771997374,
          null
         ],
         "y": [
          0.7695990623622987,
          0.34631259364758005,
          null
         ]
        },
        {
         "hoverinfo": "none",
         "line": {
          "color": "black",
          "width": 0.5
         },
         "mode": "lines",
         "type": "scatter",
         "uid": "b604b3bb-c833-4fb7-a0d0-3188217fd463",
         "x": [
          -0.30890715771997374,
          -0.7169628674074314,
          null
         ],
         "y": [
          0.34631259364758005,
          -0.17349138789835356,
          null
         ]
        },
        {
         "hoverinfo": "none",
         "line": {
          "color": "black",
          "width": 0.5
         },
         "mode": "lines",
         "type": "scatter",
         "uid": "9b0f4dd8-83ad-457c-b861-994df2a99b5a",
         "x": [
          -0.30890715771997374,
          0.20900956961248304,
          null
         ],
         "y": [
          0.34631259364758005,
          0.42984599017405156,
          null
         ]
        },
        {
         "hoverinfo": "none",
         "line": {
          "color": "black",
          "width": 0.5
         },
         "mode": "lines",
         "type": "scatter",
         "uid": "b0b9088f-f6f5-4b69-8bad-a46331b30724",
         "x": [
          -0.7169628674074314,
          -0.6166044693749136,
          null
         ],
         "y": [
          -0.17349138789835356,
          -0.699700619632718,
          null
         ]
        },
        {
         "hoverinfo": "none",
         "line": {
          "color": "black",
          "width": 0.5
         },
         "mode": "lines",
         "type": "scatter",
         "uid": "5a613f7f-060c-44f5-8c61-c3e23d60b2f0",
         "x": [
          -0.21836631158065967,
          0.20900956961248304,
          null
         ],
         "y": [
          0.8243084316084495,
          0.42984599017405156,
          null
         ]
        }
       ],
       "layout": {
        "annotations": [
         {
          "ax": 0,
          "ay": 20,
          "showarrow": false,
          "text": "Next",
          "x": -0.07794062036579767,
          "xref": "x",
          "y": 0.08400865934839395,
          "yref": "y"
         },
         {
          "ax": 0,
          "ay": 20,
          "showarrow": false,
          "text": "Inter",
          "x": 0.16755109679910954,
          "xref": "x",
          "y": -0.7124805880127004,
          "yref": "y"
         },
         {
          "ax": 0,
          "ay": 20,
          "showarrow": false,
          "text": "Nubank",
          "x": 0.35542628638900053,
          "xref": "x",
          "y": -0.1593764331265589,
          "yref": "y"
         },
         {
          "ax": 0,
          "ay": 20,
          "showarrow": false,
          "text": "BB",
          "x": 0.07399957726090944,
          "xref": "x",
          "y": 0.5901688507468612,
          "yref": "y"
         },
         {
          "ax": 0,
          "ay": 20,
          "showarrow": false,
          "text": "Itau",
          "x": 0.77542629911479,
          "xref": "x",
          "y": 0.5100745867956173,
          "yref": "y"
         },
         {
          "ax": 0,
          "ay": 20,
          "showarrow": false,
          "text": "XP Investimentos",
          "x": -0.7498671157710024,
          "xref": "x",
          "y": -0.5625894493752092,
          "yref": "y"
         },
         {
          "ax": 0,
          "ay": 20,
          "showarrow": false,
          "text": "CEF",
          "x": -0.34926639776433566,
          "xref": "x",
          "y": 0.9088546358082981,
          "yref": "y"
         },
         {
          "ax": 0,
          "ay": 20,
          "showarrow": false,
          "text": "Santander",
          "x": -1,
          "xref": "x",
          "y": 0.23591815070210428,
          "yref": "y"
         },
         {
          "ax": 0,
          "ay": 20,
          "showarrow": false,
          "text": "Bradesco",
          "x": 0.8046708743373262,
          "xref": "x",
          "y": 0.005421587113193613,
          "yref": "y"
         },
         {
          "ax": 0,
          "ay": 20,
          "showarrow": false,
          "text": "Next",
          "x": 0.027599322652272246,
          "xref": "x",
          "y": 0.17122021801680232,
          "yref": "y"
         },
         {
          "ax": 0,
          "ay": 20,
          "showarrow": false,
          "text": "Inter",
          "x": -0.4380898914758382,
          "xref": "x",
          "y": -0.7272252130986102,
          "yref": "y"
         },
         {
          "ax": 0,
          "ay": 20,
          "showarrow": false,
          "text": "Nubank",
          "x": -0.14023262422260543,
          "xref": "x",
          "y": -0.42682123695587026,
          "yref": "y"
         },
         {
          "ax": 0,
          "ay": 20,
          "showarrow": false,
          "text": "BB",
          "x": -0.6807676616014422,
          "xref": "x",
          "y": -0.0023142053987431077,
          "yref": "y"
         },
         {
          "ax": 0,
          "ay": 20,
          "showarrow": false,
          "text": "Itau",
          "x": 0.8871747081900979,
          "xref": "x",
          "y": -0.0974366373103,
          "yref": "y"
         },
         {
          "ax": 0,
          "ay": 20,
          "showarrow": false,
          "text": "XP Investimentos",
          "x": 0.7017914583912597,
          "xref": "x",
          "y": 0.8137879713892804,
          "yref": "y"
         },
         {
          "ax": 0,
          "ay": 20,
          "showarrow": false,
          "text": "CEF",
          "x": -0.7921687458111087,
          "xref": "x",
          "y": 0.5260371691540026,
          "yref": "y"
         },
         {
          "ax": 0,
          "ay": 20,
          "showarrow": false,
          "text": "Santander",
          "x": -0.06157902704649608,
          "xref": "x",
          "y": 1.1,
          "yref": "y"
         },
         {
          "ax": 0,
          "ay": 20,
          "showarrow": false,
          "text": "Bradesco",
          "x": 0.4962724609238609,
          "xref": "x",
          "y": -0.4572480657965612,
          "yref": "y"
         },
         {
          "ax": 0,
          "ay": 20,
          "showarrow": false,
          "text": "Next",
          "x": 0.053893161841936384,
          "xref": "x",
          "y": -0.0039813219145499595,
          "yref": "y"
         },
         {
          "ax": 0,
          "ay": 20,
          "showarrow": false,
          "text": "Inter",
          "x": 0.3305844685708866,
          "xref": "x",
          "y": 0.8695990623622987,
          "yref": "y"
         },
         {
          "ax": 0,
          "ay": 20,
          "showarrow": false,
          "text": "Nubank",
          "x": -0.30890715771997374,
          "xref": "x",
          "y": 0.44631259364758,
          "yref": "y"
         },
         {
          "ax": 0,
          "ay": 20,
          "showarrow": false,
          "text": "BB",
          "x": -0.7169628674074314,
          "xref": "x",
          "y": -0.07349138789835355,
          "yref": "y"
         },
         {
          "ax": 0,
          "ay": 20,
          "showarrow": false,
          "text": "Itau",
          "x": -0.21836631158065967,
          "xref": "x",
          "y": 0.9243084316084494,
          "yref": "y"
         },
         {
          "ax": 0,
          "ay": 20,
          "showarrow": false,
          "text": "XP Investimentos",
          "x": 0.3205592503112819,
          "xref": "x",
          "y": -0.9,
          "yref": "y"
         },
         {
          "ax": 0,
          "ay": 20,
          "showarrow": false,
          "text": "CEF",
          "x": -0.6166044693749136,
          "xref": "x",
          "y": -0.599700619632718,
          "yref": "y"
         },
         {
          "ax": 0,
          "ay": 20,
          "showarrow": false,
          "text": "Santander",
          "x": 0.9467943557463921,
          "xref": "x",
          "y": -0.29289274834675794,
          "yref": "y"
         },
         {
          "ax": 0,
          "ay": 20,
          "showarrow": false,
          "text": "Bradesco",
          "x": 0.20900956961248304,
          "xref": "x",
          "y": 0.5298459901740515,
          "yref": "y"
         }
        ],
        "hovermode": "closest",
        "margin": {
         "b": 20,
         "l": 5,
         "r": 5,
         "t": 40
        },
        "scene": {
         "xaxis": {
          "showbackground": false,
          "showgrid": false,
          "showline": false,
          "showticklabels": false,
          "title": {
           "text": ""
          },
          "zeroline": false
         },
         "yaxis": {
          "showgrid": false,
          "showticklabels": false,
          "zeroline": false
         },
         "zaxis": {
          "showgrid": false,
          "showticklabels": false,
          "zeroline": false
         }
        },
        "showlegend": false,
        "title": {
         "font": {
          "size": 16
         },
         "text": "coco"
        }
       }
      },
      "text/html": [
       "<div>\n",
       "        \n",
       "        \n",
       "            <div id=\"4fb67423-121d-43c3-bda7-033fbcbeb93a\" class=\"plotly-graph-div\" style=\"height:525px; width:100%;\"></div>\n",
       "            <script type=\"text/javascript\">\n",
       "                require([\"plotly\"], function(Plotly) {\n",
       "                    window.PLOTLYENV=window.PLOTLYENV || {};\n",
       "                    window.PLOTLYENV.BASE_URL='https://plot.ly';\n",
       "                    \n",
       "                if (document.getElementById(\"4fb67423-121d-43c3-bda7-033fbcbeb93a\")) {\n",
       "                    Plotly.newPlot(\n",
       "                        '4fb67423-121d-43c3-bda7-033fbcbeb93a',\n",
       "                        [{\"hoverinfo\": \"text\", \"marker\": {\"cmax\": 234243, \"cmin\": 1, \"color\": [\"rgb(0, 0, 6)\", \"rgb(35, 17, 82)\", \"rgb(251, 252, 191)\", \"rgb(20, 13, 53)\", \"rgb(0, 0, 3)\", \"rgb(0, 0, 3)\", \"rgb(251, 247, 185)\", \"rgb(0, 0, 3)\", \"rgb(21, 14, 56)\"], \"colorbar\": {\"thickness\": 15, \"title\": {\"side\": \"right\", \"text\": \"coco\"}, \"xanchor\": \"left\"}, \"colorscale\": \"Viridis\", \"line\": {\"width\": 2}, \"reversescale\": true, \"showscale\": false, \"size\": [2000, 35000, 234243, 23443, 2, 1, 232323, 666, 24433], \"sizemin\": 6, \"sizemode\": \"area\", \"sizeref\": 187.3944}, \"mode\": \"markers\", \"text\": [\"<b>Next</b><br>clientes: 2000<br>lucro: 234<br>\", \"<b>Inter</b><br>clientes: 35000<br>lucro: 1111<br>\", \"<b>Nubank</b><br>clientes: 234243<br>lucro: 2234<br>\", \"<b>BB</b><br>clientes: 23443<br>lucro: 2344<br>\", \"<b>Itau</b><br>clientes: 2<br>lucro: 444<br>\", \"<b>XP Investimentos</b><br>clientes: 1<br>lucro: 222<br>\", \"<b>CEF</b><br>clientes: 232323<br>lucro: 1<br>\", \"<b>Santander</b><br>clientes: 666<br>lucro: 1<br>\", \"<b>Bradesco</b><br>clientes: 24433<br>lucro: 9877<br>\"], \"type\": \"scatter\", \"uid\": \"805bed7c-a6df-4cbd-aa20-921ad2ee08ab\", \"x\": [0.053893161841936384, 0.3305844685708866, -0.30890715771997374, -0.7169628674074314, -0.21836631158065967, 0.3205592503112819, -0.6166044693749136, 0.9467943557463921, 0.20900956961248304], \"y\": [-0.10398132191454997, 0.7695990623622987, 0.34631259364758005, -0.17349138789835356, 0.8243084316084495, -1.0, -0.699700619632718, -0.3928927483467579, 0.42984599017405156]}, {\"hoverinfo\": \"none\", \"line\": {\"color\": \"black\", \"width\": 0.5}, \"mode\": \"lines\", \"type\": \"scatter\", \"uid\": \"ce270aa4-9048-4bf6-a5f1-d2fde83c5027\", \"x\": [0.053893161841936384, 0.20900956961248304, null], \"y\": [-0.10398132191454997, 0.42984599017405156, null]}, {\"hoverinfo\": \"none\", \"line\": {\"color\": \"black\", \"width\": 0.5}, \"mode\": \"lines\", \"type\": \"scatter\", \"uid\": \"ae98b177-fab1-489c-a6a4-5489c3ce5812\", \"x\": [0.053893161841936384, 0.3305844685708866, null], \"y\": [-0.10398132191454997, 0.7695990623622987, null]}, {\"hoverinfo\": \"none\", \"line\": {\"color\": \"black\", \"width\": 0.5}, \"mode\": \"lines\", \"type\": \"scatter\", \"uid\": \"0b1bc266-4316-46ac-afc5-b72a1638f3ae\", \"x\": [0.053893161841936384, -0.30890715771997374, null], \"y\": [-0.10398132191454997, 0.34631259364758005, null]}, {\"hoverinfo\": \"none\", \"line\": {\"color\": \"black\", \"width\": 0.5}, \"mode\": \"lines\", \"type\": \"scatter\", \"uid\": \"2c5cba0a-3a23-4fcb-a492-d3f9c14a8597\", \"x\": [0.053893161841936384, -0.7169628674074314, null], \"y\": [-0.10398132191454997, -0.17349138789835356, null]}, {\"hoverinfo\": \"none\", \"line\": {\"color\": \"black\", \"width\": 0.5}, \"mode\": \"lines\", \"type\": \"scatter\", \"uid\": \"be7d76eb-3e3e-4aed-8559-754c638655aa\", \"x\": [0.053893161841936384, -0.21836631158065967, null], \"y\": [-0.10398132191454997, 0.8243084316084495, null]}, {\"hoverinfo\": \"none\", \"line\": {\"color\": \"black\", \"width\": 0.5}, \"mode\": \"lines\", \"type\": \"scatter\", \"uid\": \"83e88bb3-3c65-4344-8eb2-233ac14bc366\", \"x\": [0.053893161841936384, 0.3205592503112819, null], \"y\": [-0.10398132191454997, -1.0, null]}, {\"hoverinfo\": \"none\", \"line\": {\"color\": \"black\", \"width\": 0.5}, \"mode\": \"lines\", \"type\": \"scatter\", \"uid\": \"415c2f81-7ada-4c55-9f5a-498bdea4b045\", \"x\": [0.053893161841936384, -0.6166044693749136, null], \"y\": [-0.10398132191454997, -0.699700619632718, null]}, {\"hoverinfo\": \"none\", \"line\": {\"color\": \"black\", \"width\": 0.5}, \"mode\": \"lines\", \"type\": \"scatter\", \"uid\": \"0a22e1f2-f125-4c4d-8494-7986fbefb2c3\", \"x\": [0.053893161841936384, 0.9467943557463921, null], \"y\": [-0.10398132191454997, -0.3928927483467579, null]}, {\"hoverinfo\": \"none\", \"line\": {\"color\": \"black\", \"width\": 0.5}, \"mode\": \"lines\", \"type\": \"scatter\", \"uid\": \"31c1d718-96f3-4d92-92da-af3c05889dfe\", \"x\": [0.3305844685708866, -0.30890715771997374, null], \"y\": [0.7695990623622987, 0.34631259364758005, null]}, {\"hoverinfo\": \"none\", \"line\": {\"color\": \"black\", \"width\": 0.5}, \"mode\": \"lines\", \"type\": \"scatter\", \"uid\": \"6a1242e5-46c1-446c-b011-6f56ca217d0d\", \"x\": [-0.30890715771997374, -0.7169628674074314, null], \"y\": [0.34631259364758005, -0.17349138789835356, null]}, {\"hoverinfo\": \"none\", \"line\": {\"color\": \"black\", \"width\": 0.5}, \"mode\": \"lines\", \"type\": \"scatter\", \"uid\": \"6fa27d62-2cc2-4a4a-b2fb-1b1534709914\", \"x\": [-0.30890715771997374, 0.20900956961248304, null], \"y\": [0.34631259364758005, 0.42984599017405156, null]}, {\"hoverinfo\": \"none\", \"line\": {\"color\": \"black\", \"width\": 0.5}, \"mode\": \"lines\", \"type\": \"scatter\", \"uid\": \"3d7ea29d-197b-4a9d-aee9-04d4584a81e3\", \"x\": [-0.7169628674074314, -0.6166044693749136, null], \"y\": [-0.17349138789835356, -0.699700619632718, null]}, {\"hoverinfo\": \"none\", \"line\": {\"color\": \"black\", \"width\": 0.5}, \"mode\": \"lines\", \"type\": \"scatter\", \"uid\": \"cfce7aee-7713-4939-bd3c-0a72f97202fd\", \"x\": [-0.21836631158065967, 0.20900956961248304, null], \"y\": [0.8243084316084495, 0.42984599017405156, null]}],\n",
       "                        {\"annotations\": [{\"ax\": 0, \"ay\": 20, \"showarrow\": false, \"text\": \"Next\", \"x\": -0.07794062036579767, \"xref\": \"x\", \"y\": 0.08400865934839395, \"yref\": \"y\"}, {\"ax\": 0, \"ay\": 20, \"showarrow\": false, \"text\": \"Inter\", \"x\": 0.16755109679910954, \"xref\": \"x\", \"y\": -0.7124805880127004, \"yref\": \"y\"}, {\"ax\": 0, \"ay\": 20, \"showarrow\": false, \"text\": \"Nubank\", \"x\": 0.35542628638900053, \"xref\": \"x\", \"y\": -0.1593764331265589, \"yref\": \"y\"}, {\"ax\": 0, \"ay\": 20, \"showarrow\": false, \"text\": \"BB\", \"x\": 0.07399957726090944, \"xref\": \"x\", \"y\": 0.5901688507468612, \"yref\": \"y\"}, {\"ax\": 0, \"ay\": 20, \"showarrow\": false, \"text\": \"Itau\", \"x\": 0.77542629911479, \"xref\": \"x\", \"y\": 0.5100745867956173, \"yref\": \"y\"}, {\"ax\": 0, \"ay\": 20, \"showarrow\": false, \"text\": \"XP Investimentos\", \"x\": -0.7498671157710024, \"xref\": \"x\", \"y\": -0.5625894493752092, \"yref\": \"y\"}, {\"ax\": 0, \"ay\": 20, \"showarrow\": false, \"text\": \"CEF\", \"x\": -0.34926639776433566, \"xref\": \"x\", \"y\": 0.9088546358082981, \"yref\": \"y\"}, {\"ax\": 0, \"ay\": 20, \"showarrow\": false, \"text\": \"Santander\", \"x\": -1.0, \"xref\": \"x\", \"y\": 0.23591815070210428, \"yref\": \"y\"}, {\"ax\": 0, \"ay\": 20, \"showarrow\": false, \"text\": \"Bradesco\", \"x\": 0.8046708743373262, \"xref\": \"x\", \"y\": 0.005421587113193613, \"yref\": \"y\"}, {\"ax\": 0, \"ay\": 20, \"showarrow\": false, \"text\": \"Next\", \"x\": 0.027599322652272246, \"xref\": \"x\", \"y\": 0.17122021801680232, \"yref\": \"y\"}, {\"ax\": 0, \"ay\": 20, \"showarrow\": false, \"text\": \"Inter\", \"x\": -0.4380898914758382, \"xref\": \"x\", \"y\": -0.7272252130986102, \"yref\": \"y\"}, {\"ax\": 0, \"ay\": 20, \"showarrow\": false, \"text\": \"Nubank\", \"x\": -0.14023262422260543, \"xref\": \"x\", \"y\": -0.42682123695587026, \"yref\": \"y\"}, {\"ax\": 0, \"ay\": 20, \"showarrow\": false, \"text\": \"BB\", \"x\": -0.6807676616014422, \"xref\": \"x\", \"y\": -0.0023142053987431077, \"yref\": \"y\"}, {\"ax\": 0, \"ay\": 20, \"showarrow\": false, \"text\": \"Itau\", \"x\": 0.8871747081900979, \"xref\": \"x\", \"y\": -0.0974366373103, \"yref\": \"y\"}, {\"ax\": 0, \"ay\": 20, \"showarrow\": false, \"text\": \"XP Investimentos\", \"x\": 0.7017914583912597, \"xref\": \"x\", \"y\": 0.8137879713892804, \"yref\": \"y\"}, {\"ax\": 0, \"ay\": 20, \"showarrow\": false, \"text\": \"CEF\", \"x\": -0.7921687458111087, \"xref\": \"x\", \"y\": 0.5260371691540026, \"yref\": \"y\"}, {\"ax\": 0, \"ay\": 20, \"showarrow\": false, \"text\": \"Santander\", \"x\": -0.06157902704649608, \"xref\": \"x\", \"y\": 1.1, \"yref\": \"y\"}, {\"ax\": 0, \"ay\": 20, \"showarrow\": false, \"text\": \"Bradesco\", \"x\": 0.4962724609238609, \"xref\": \"x\", \"y\": -0.4572480657965612, \"yref\": \"y\"}, {\"ax\": 0, \"ay\": 20, \"showarrow\": false, \"text\": \"Next\", \"x\": 0.053893161841936384, \"xref\": \"x\", \"y\": -0.0039813219145499595, \"yref\": \"y\"}, {\"ax\": 0, \"ay\": 20, \"showarrow\": false, \"text\": \"Inter\", \"x\": 0.3305844685708866, \"xref\": \"x\", \"y\": 0.8695990623622987, \"yref\": \"y\"}, {\"ax\": 0, \"ay\": 20, \"showarrow\": false, \"text\": \"Nubank\", \"x\": -0.30890715771997374, \"xref\": \"x\", \"y\": 0.44631259364758, \"yref\": \"y\"}, {\"ax\": 0, \"ay\": 20, \"showarrow\": false, \"text\": \"BB\", \"x\": -0.7169628674074314, \"xref\": \"x\", \"y\": -0.07349138789835355, \"yref\": \"y\"}, {\"ax\": 0, \"ay\": 20, \"showarrow\": false, \"text\": \"Itau\", \"x\": -0.21836631158065967, \"xref\": \"x\", \"y\": 0.9243084316084494, \"yref\": \"y\"}, {\"ax\": 0, \"ay\": 20, \"showarrow\": false, \"text\": \"XP Investimentos\", \"x\": 0.3205592503112819, \"xref\": \"x\", \"y\": -0.9, \"yref\": \"y\"}, {\"ax\": 0, \"ay\": 20, \"showarrow\": false, \"text\": \"CEF\", \"x\": -0.6166044693749136, \"xref\": \"x\", \"y\": -0.599700619632718, \"yref\": \"y\"}, {\"ax\": 0, \"ay\": 20, \"showarrow\": false, \"text\": \"Santander\", \"x\": 0.9467943557463921, \"xref\": \"x\", \"y\": -0.29289274834675794, \"yref\": \"y\"}, {\"ax\": 0, \"ay\": 20, \"showarrow\": false, \"text\": \"Bradesco\", \"x\": 0.20900956961248304, \"xref\": \"x\", \"y\": 0.5298459901740515, \"yref\": \"y\"}], \"hovermode\": \"closest\", \"margin\": {\"b\": 20, \"l\": 5, \"r\": 5, \"t\": 40}, \"scene\": {\"xaxis\": {\"showbackground\": false, \"showgrid\": false, \"showline\": false, \"showticklabels\": false, \"title\": {\"text\": \"\"}, \"zeroline\": false}, \"yaxis\": {\"showgrid\": false, \"showticklabels\": false, \"zeroline\": false}, \"zaxis\": {\"showgrid\": false, \"showticklabels\": false, \"zeroline\": false}}, \"showlegend\": false, \"title\": {\"font\": {\"size\": 16}, \"text\": \"coco\"}},\n",
       "                        {\"showLink\": false, \"linkText\": \"Export to plot.ly\", \"plotlyServerURL\": \"https://plot.ly\", \"responsive\": true}\n",
       "                    ).then(function(){\n",
       "                            \n",
       "var gd = document.getElementById('4fb67423-121d-43c3-bda7-033fbcbeb93a');\n",
       "var x = new MutationObserver(function (mutations, observer) {{\n",
       "        var display = window.getComputedStyle(gd).display;\n",
       "        if (!display || display === 'none') {{\n",
       "            console.log([gd, 'removed!']);\n",
       "            Plotly.purge(gd);\n",
       "            observer.disconnect();\n",
       "        }}\n",
       "}});\n",
       "\n",
       "// Listen for the removal of the full notebook cells\n",
       "var notebookContainer = gd.closest('#notebook-container');\n",
       "if (notebookContainer) {{\n",
       "    x.observe(notebookContainer, {childList: true});\n",
       "}}\n",
       "\n",
       "// Listen for the clearing of the current output cell\n",
       "var outputEl = gd.closest('.output');\n",
       "if (outputEl) {{\n",
       "    x.observe(outputEl, {childList: true});\n",
       "}}\n",
       "\n",
       "                        })\n",
       "                };\n",
       "                });\n",
       "            </script>\n",
       "        </div>"
      ]
     },
     "metadata": {},
     "output_type": "display_data"
    }
   ],
   "source": [
    "mygraph.plot(title='coco', node_size_col='clientes', node_color_col='clientes')"
   ]
  },
  {
   "cell_type": "code",
   "execution_count": 17,
   "metadata": {},
   "outputs": [
    {
     "data": {
      "application/vnd.plotly.v1+json": {
       "config": {
        "linkText": "Export to plot.ly",
        "plotlyServerURL": "https://plot.ly",
        "responsive": true,
        "showLink": false
       },
       "data": [
        {
         "hoverinfo": "text",
         "marker": {
          "cmax": 234243,
          "cmin": 1,
          "color": [
           "rgb(0, 0, 6)",
           "rgb(35, 17, 82)",
           "rgb(251, 252, 191)",
           "rgb(20, 13, 53)",
           "rgb(0, 0, 3)",
           "rgb(0, 0, 3)",
           "rgb(251, 247, 185)",
           "rgb(0, 0, 3)",
           "rgb(21, 14, 56)"
          ],
          "colorbar": {
           "thickness": 15,
           "title": {
            "side": "right",
            "text": "coco"
           },
           "xanchor": "left"
          },
          "colorscale": "Viridis",
          "line": {
           "width": 2
          },
          "reversescale": true,
          "showscale": false,
          "size": [
           2000,
           35000,
           234243,
           23443,
           2,
           1,
           232323,
           666,
           24433
          ],
          "sizemin": 6,
          "sizemode": "area",
          "sizeref": 187.3944
         },
         "mode": "markers",
         "text": [
          "<b>Next</b><br>clientes: 2000<br>",
          "<b>Inter</b><br>clientes: 35000<br>",
          "<b>Nubank</b><br>clientes: 234243<br>",
          "<b>BB</b><br>clientes: 23443<br>",
          "<b>Itau</b><br>clientes: 2<br>",
          "<b>XP Investimentos</b><br>clientes: 1<br>",
          "<b>CEF</b><br>clientes: 232323<br>",
          "<b>Santander</b><br>clientes: 666<br>",
          "<b>Bradesco</b><br>clientes: 24433<br>"
         ],
         "type": "scatter",
         "uid": "d69b8c94-8a61-4fd4-8cbd-54dc896835cb",
         "x": [
          -0.07622456985739724,
          0.9442190406434189,
          0.5846163053396138,
          0.42172398397006405,
          -0.18662423680383186,
          -0.9281765237746541,
          -0.06108388072598467,
          -1,
          0.3015498812087702
         ],
         "y": [
          0.011627576101213653,
          -0.24771582536521938,
          0.03685144783768355,
          0.6677922054690745,
          -0.9174454317145,
          0.496827665046292,
          0.9470660825874352,
          -0.36141850997801644,
          -0.6335852099839625
         ]
        },
        {
         "hoverinfo": "none",
         "line": {
          "color": "black",
          "width": 0.5
         },
         "mode": "lines",
         "type": "scatter",
         "uid": "0fb646c2-e343-49ab-9090-d32c5f4f5dc0",
         "x": [
          -0.07622456985739724,
          0.3015498812087702,
          null
         ],
         "y": [
          0.011627576101213653,
          -0.6335852099839625,
          null
         ]
        },
        {
         "hoverinfo": "none",
         "line": {
          "color": "black",
          "width": 0.5
         },
         "mode": "lines",
         "type": "scatter",
         "uid": "63912b9f-60f5-40c3-b2d4-a9317907bcbd",
         "x": [
          -0.07622456985739724,
          0.9442190406434189,
          null
         ],
         "y": [
          0.011627576101213653,
          -0.24771582536521938,
          null
         ]
        },
        {
         "hoverinfo": "none",
         "line": {
          "color": "black",
          "width": 0.5
         },
         "mode": "lines",
         "type": "scatter",
         "uid": "1c4b429c-e132-4793-9f60-9b078aeab890",
         "x": [
          -0.07622456985739724,
          0.5846163053396138,
          null
         ],
         "y": [
          0.011627576101213653,
          0.03685144783768355,
          null
         ]
        },
        {
         "hoverinfo": "none",
         "line": {
          "color": "black",
          "width": 0.5
         },
         "mode": "lines",
         "type": "scatter",
         "uid": "36dd94b9-b03f-4870-b11f-ec9a57867e91",
         "x": [
          -0.07622456985739724,
          0.42172398397006405,
          null
         ],
         "y": [
          0.011627576101213653,
          0.6677922054690745,
          null
         ]
        },
        {
         "hoverinfo": "none",
         "line": {
          "color": "black",
          "width": 0.5
         },
         "mode": "lines",
         "type": "scatter",
         "uid": "650a4b55-f46e-4cff-97c6-b79ec65173f5",
         "x": [
          -0.07622456985739724,
          -0.18662423680383186,
          null
         ],
         "y": [
          0.011627576101213653,
          -0.9174454317145,
          null
         ]
        },
        {
         "hoverinfo": "none",
         "line": {
          "color": "black",
          "width": 0.5
         },
         "mode": "lines",
         "type": "scatter",
         "uid": "83f482fa-b3e1-437f-b381-184a44670d33",
         "x": [
          -0.07622456985739724,
          -0.9281765237746541,
          null
         ],
         "y": [
          0.011627576101213653,
          0.496827665046292,
          null
         ]
        },
        {
         "hoverinfo": "none",
         "line": {
          "color": "black",
          "width": 0.5
         },
         "mode": "lines",
         "type": "scatter",
         "uid": "1665dd46-ba0f-42af-9102-f849fed39441",
         "x": [
          -0.07622456985739724,
          -0.06108388072598467,
          null
         ],
         "y": [
          0.011627576101213653,
          0.9470660825874352,
          null
         ]
        },
        {
         "hoverinfo": "none",
         "line": {
          "color": "black",
          "width": 0.5
         },
         "mode": "lines",
         "type": "scatter",
         "uid": "a4917590-28cc-4b07-b718-d52c4fc28899",
         "x": [
          -0.07622456985739724,
          -1,
          null
         ],
         "y": [
          0.011627576101213653,
          -0.36141850997801644,
          null
         ]
        },
        {
         "hoverinfo": "none",
         "line": {
          "color": "black",
          "width": 0.5
         },
         "mode": "lines",
         "type": "scatter",
         "uid": "b9dcdf0b-ae5f-41e7-8ee3-00f7b2bfbaf7",
         "x": [
          0.9442190406434189,
          0.5846163053396138,
          null
         ],
         "y": [
          -0.24771582536521938,
          0.03685144783768355,
          null
         ]
        },
        {
         "hoverinfo": "none",
         "line": {
          "color": "black",
          "width": 0.5
         },
         "mode": "lines",
         "type": "scatter",
         "uid": "f62bf886-bbcb-46ed-a82d-4dbc18439eaa",
         "x": [
          0.5846163053396138,
          0.42172398397006405,
          null
         ],
         "y": [
          0.03685144783768355,
          0.6677922054690745,
          null
         ]
        },
        {
         "hoverinfo": "none",
         "line": {
          "color": "black",
          "width": 0.5
         },
         "mode": "lines",
         "type": "scatter",
         "uid": "94268d4f-4e84-4b04-bf47-69112f7927d2",
         "x": [
          0.5846163053396138,
          0.3015498812087702,
          null
         ],
         "y": [
          0.03685144783768355,
          -0.6335852099839625,
          null
         ]
        },
        {
         "hoverinfo": "none",
         "line": {
          "color": "black",
          "width": 0.5
         },
         "mode": "lines",
         "type": "scatter",
         "uid": "89c8a260-ab15-4fe4-a5c0-a5916a7af722",
         "x": [
          0.42172398397006405,
          -0.06108388072598467,
          null
         ],
         "y": [
          0.6677922054690745,
          0.9470660825874352,
          null
         ]
        },
        {
         "hoverinfo": "none",
         "line": {
          "color": "black",
          "width": 0.5
         },
         "mode": "lines",
         "type": "scatter",
         "uid": "e8c5fd9d-6449-4b77-9c41-a984c831a6a4",
         "x": [
          -0.18662423680383186,
          0.3015498812087702,
          null
         ],
         "y": [
          -0.9174454317145,
          -0.6335852099839625,
          null
         ]
        }
       ],
       "layout": {
        "annotations": [
         {
          "ax": 0,
          "ay": 20,
          "showarrow": false,
          "text": "Next",
          "x": -0.07794062036579767,
          "xref": "x",
          "y": 0.08400865934839395,
          "yref": "y"
         },
         {
          "ax": 0,
          "ay": 20,
          "showarrow": false,
          "text": "Inter",
          "x": 0.16755109679910954,
          "xref": "x",
          "y": -0.7124805880127004,
          "yref": "y"
         },
         {
          "ax": 0,
          "ay": 20,
          "showarrow": false,
          "text": "Nubank",
          "x": 0.35542628638900053,
          "xref": "x",
          "y": -0.1593764331265589,
          "yref": "y"
         },
         {
          "ax": 0,
          "ay": 20,
          "showarrow": false,
          "text": "BB",
          "x": 0.07399957726090944,
          "xref": "x",
          "y": 0.5901688507468612,
          "yref": "y"
         },
         {
          "ax": 0,
          "ay": 20,
          "showarrow": false,
          "text": "Itau",
          "x": 0.77542629911479,
          "xref": "x",
          "y": 0.5100745867956173,
          "yref": "y"
         },
         {
          "ax": 0,
          "ay": 20,
          "showarrow": false,
          "text": "XP Investimentos",
          "x": -0.7498671157710024,
          "xref": "x",
          "y": -0.5625894493752092,
          "yref": "y"
         },
         {
          "ax": 0,
          "ay": 20,
          "showarrow": false,
          "text": "CEF",
          "x": -0.34926639776433566,
          "xref": "x",
          "y": 0.9088546358082981,
          "yref": "y"
         },
         {
          "ax": 0,
          "ay": 20,
          "showarrow": false,
          "text": "Santander",
          "x": -1,
          "xref": "x",
          "y": 0.23591815070210428,
          "yref": "y"
         },
         {
          "ax": 0,
          "ay": 20,
          "showarrow": false,
          "text": "Bradesco",
          "x": 0.8046708743373262,
          "xref": "x",
          "y": 0.005421587113193613,
          "yref": "y"
         },
         {
          "ax": 0,
          "ay": 20,
          "showarrow": false,
          "text": "Next",
          "x": 0.027599322652272246,
          "xref": "x",
          "y": 0.17122021801680232,
          "yref": "y"
         },
         {
          "ax": 0,
          "ay": 20,
          "showarrow": false,
          "text": "Inter",
          "x": -0.4380898914758382,
          "xref": "x",
          "y": -0.7272252130986102,
          "yref": "y"
         },
         {
          "ax": 0,
          "ay": 20,
          "showarrow": false,
          "text": "Nubank",
          "x": -0.14023262422260543,
          "xref": "x",
          "y": -0.42682123695587026,
          "yref": "y"
         },
         {
          "ax": 0,
          "ay": 20,
          "showarrow": false,
          "text": "BB",
          "x": -0.6807676616014422,
          "xref": "x",
          "y": -0.0023142053987431077,
          "yref": "y"
         },
         {
          "ax": 0,
          "ay": 20,
          "showarrow": false,
          "text": "Itau",
          "x": 0.8871747081900979,
          "xref": "x",
          "y": -0.0974366373103,
          "yref": "y"
         },
         {
          "ax": 0,
          "ay": 20,
          "showarrow": false,
          "text": "XP Investimentos",
          "x": 0.7017914583912597,
          "xref": "x",
          "y": 0.8137879713892804,
          "yref": "y"
         },
         {
          "ax": 0,
          "ay": 20,
          "showarrow": false,
          "text": "CEF",
          "x": -0.7921687458111087,
          "xref": "x",
          "y": 0.5260371691540026,
          "yref": "y"
         },
         {
          "ax": 0,
          "ay": 20,
          "showarrow": false,
          "text": "Santander",
          "x": -0.06157902704649608,
          "xref": "x",
          "y": 1.1,
          "yref": "y"
         },
         {
          "ax": 0,
          "ay": 20,
          "showarrow": false,
          "text": "Bradesco",
          "x": 0.4962724609238609,
          "xref": "x",
          "y": -0.4572480657965612,
          "yref": "y"
         },
         {
          "ax": 0,
          "ay": 20,
          "showarrow": false,
          "text": "Next",
          "x": 0.053893161841936384,
          "xref": "x",
          "y": -0.0039813219145499595,
          "yref": "y"
         },
         {
          "ax": 0,
          "ay": 20,
          "showarrow": false,
          "text": "Inter",
          "x": 0.3305844685708866,
          "xref": "x",
          "y": 0.8695990623622987,
          "yref": "y"
         },
         {
          "ax": 0,
          "ay": 20,
          "showarrow": false,
          "text": "Nubank",
          "x": -0.30890715771997374,
          "xref": "x",
          "y": 0.44631259364758,
          "yref": "y"
         },
         {
          "ax": 0,
          "ay": 20,
          "showarrow": false,
          "text": "BB",
          "x": -0.7169628674074314,
          "xref": "x",
          "y": -0.07349138789835355,
          "yref": "y"
         },
         {
          "ax": 0,
          "ay": 20,
          "showarrow": false,
          "text": "Itau",
          "x": -0.21836631158065967,
          "xref": "x",
          "y": 0.9243084316084494,
          "yref": "y"
         },
         {
          "ax": 0,
          "ay": 20,
          "showarrow": false,
          "text": "XP Investimentos",
          "x": 0.3205592503112819,
          "xref": "x",
          "y": -0.9,
          "yref": "y"
         },
         {
          "ax": 0,
          "ay": 20,
          "showarrow": false,
          "text": "CEF",
          "x": -0.6166044693749136,
          "xref": "x",
          "y": -0.599700619632718,
          "yref": "y"
         },
         {
          "ax": 0,
          "ay": 20,
          "showarrow": false,
          "text": "Santander",
          "x": 0.9467943557463921,
          "xref": "x",
          "y": -0.29289274834675794,
          "yref": "y"
         },
         {
          "ax": 0,
          "ay": 20,
          "showarrow": false,
          "text": "Bradesco",
          "x": 0.20900956961248304,
          "xref": "x",
          "y": 0.5298459901740515,
          "yref": "y"
         },
         {
          "ax": 0,
          "ay": 20,
          "showarrow": false,
          "text": "Next",
          "x": -0.07622456985739724,
          "xref": "x",
          "y": 0.11162757610121365,
          "yref": "y"
         },
         {
          "ax": 0,
          "ay": 20,
          "showarrow": false,
          "text": "Inter",
          "x": 0.9442190406434189,
          "xref": "x",
          "y": -0.14771582536521938,
          "yref": "y"
         },
         {
          "ax": 0,
          "ay": 20,
          "showarrow": false,
          "text": "Nubank",
          "x": 0.5846163053396138,
          "xref": "x",
          "y": 0.13685144783768355,
          "yref": "y"
         },
         {
          "ax": 0,
          "ay": 20,
          "showarrow": false,
          "text": "BB",
          "x": 0.42172398397006405,
          "xref": "x",
          "y": 0.7677922054690745,
          "yref": "y"
         },
         {
          "ax": 0,
          "ay": 20,
          "showarrow": false,
          "text": "Itau",
          "x": -0.18662423680383186,
          "xref": "x",
          "y": -0.8174454317145,
          "yref": "y"
         },
         {
          "ax": 0,
          "ay": 20,
          "showarrow": false,
          "text": "XP Investimentos",
          "x": -0.9281765237746541,
          "xref": "x",
          "y": 0.596827665046292,
          "yref": "y"
         },
         {
          "ax": 0,
          "ay": 20,
          "showarrow": false,
          "text": "CEF",
          "x": -0.06108388072598467,
          "xref": "x",
          "y": 1.0470660825874352,
          "yref": "y"
         },
         {
          "ax": 0,
          "ay": 20,
          "showarrow": false,
          "text": "Santander",
          "x": -1,
          "xref": "x",
          "y": -0.2614185099780164,
          "yref": "y"
         },
         {
          "ax": 0,
          "ay": 20,
          "showarrow": false,
          "text": "Bradesco",
          "x": 0.3015498812087702,
          "xref": "x",
          "y": -0.5335852099839625,
          "yref": "y"
         }
        ],
        "hovermode": "closest",
        "margin": {
         "b": 20,
         "l": 5,
         "r": 5,
         "t": 40
        },
        "scene": {
         "xaxis": {
          "showbackground": false,
          "showgrid": false,
          "showline": false,
          "showticklabels": false,
          "title": {
           "text": ""
          },
          "zeroline": false
         },
         "yaxis": {
          "showgrid": false,
          "showticklabels": false,
          "zeroline": false
         },
         "zaxis": {
          "showgrid": false,
          "showticklabels": false,
          "zeroline": false
         }
        },
        "showlegend": false,
        "title": {
         "font": {
          "size": 16
         },
         "text": "coco"
        }
       }
      },
      "text/html": [
       "<div>\n",
       "        \n",
       "        \n",
       "            <div id=\"8988719a-5673-4c0b-8525-f2f5589d383c\" class=\"plotly-graph-div\" style=\"height:525px; width:100%;\"></div>\n",
       "            <script type=\"text/javascript\">\n",
       "                require([\"plotly\"], function(Plotly) {\n",
       "                    window.PLOTLYENV=window.PLOTLYENV || {};\n",
       "                    window.PLOTLYENV.BASE_URL='https://plot.ly';\n",
       "                    \n",
       "                if (document.getElementById(\"8988719a-5673-4c0b-8525-f2f5589d383c\")) {\n",
       "                    Plotly.newPlot(\n",
       "                        '8988719a-5673-4c0b-8525-f2f5589d383c',\n",
       "                        [{\"hoverinfo\": \"text\", \"marker\": {\"cmax\": 234243, \"cmin\": 1, \"color\": [\"rgb(0, 0, 6)\", \"rgb(35, 17, 82)\", \"rgb(251, 252, 191)\", \"rgb(20, 13, 53)\", \"rgb(0, 0, 3)\", \"rgb(0, 0, 3)\", \"rgb(251, 247, 185)\", \"rgb(0, 0, 3)\", \"rgb(21, 14, 56)\"], \"colorbar\": {\"thickness\": 15, \"title\": {\"side\": \"right\", \"text\": \"coco\"}, \"xanchor\": \"left\"}, \"colorscale\": \"Viridis\", \"line\": {\"width\": 2}, \"reversescale\": true, \"showscale\": false, \"size\": [2000, 35000, 234243, 23443, 2, 1, 232323, 666, 24433], \"sizemin\": 6, \"sizemode\": \"area\", \"sizeref\": 187.3944}, \"mode\": \"markers\", \"text\": [\"<b>Next</b><br>clientes: 2000<br>\", \"<b>Inter</b><br>clientes: 35000<br>\", \"<b>Nubank</b><br>clientes: 234243<br>\", \"<b>BB</b><br>clientes: 23443<br>\", \"<b>Itau</b><br>clientes: 2<br>\", \"<b>XP Investimentos</b><br>clientes: 1<br>\", \"<b>CEF</b><br>clientes: 232323<br>\", \"<b>Santander</b><br>clientes: 666<br>\", \"<b>Bradesco</b><br>clientes: 24433<br>\"], \"type\": \"scatter\", \"uid\": \"76b60b32-64d5-40b0-96e6-d280d3614c4a\", \"x\": [-0.07622456985739724, 0.9442190406434189, 0.5846163053396138, 0.42172398397006405, -0.18662423680383186, -0.9281765237746541, -0.06108388072598467, -1.0, 0.3015498812087702], \"y\": [0.011627576101213653, -0.24771582536521938, 0.03685144783768355, 0.6677922054690745, -0.9174454317145, 0.496827665046292, 0.9470660825874352, -0.36141850997801644, -0.6335852099839625]}, {\"hoverinfo\": \"none\", \"line\": {\"color\": \"black\", \"width\": 0.5}, \"mode\": \"lines\", \"type\": \"scatter\", \"uid\": \"d7ba23aa-8b8d-4e17-8197-a9d0d832509c\", \"x\": [-0.07622456985739724, 0.3015498812087702, null], \"y\": [0.011627576101213653, -0.6335852099839625, null]}, {\"hoverinfo\": \"none\", \"line\": {\"color\": \"black\", \"width\": 0.5}, \"mode\": \"lines\", \"type\": \"scatter\", \"uid\": \"37136baa-c7bd-4d06-ad7f-f464f28d6431\", \"x\": [-0.07622456985739724, 0.9442190406434189, null], \"y\": [0.011627576101213653, -0.24771582536521938, null]}, {\"hoverinfo\": \"none\", \"line\": {\"color\": \"black\", \"width\": 0.5}, \"mode\": \"lines\", \"type\": \"scatter\", \"uid\": \"7a985046-0918-42c5-b3df-87bea2285db8\", \"x\": [-0.07622456985739724, 0.5846163053396138, null], \"y\": [0.011627576101213653, 0.03685144783768355, null]}, {\"hoverinfo\": \"none\", \"line\": {\"color\": \"black\", \"width\": 0.5}, \"mode\": \"lines\", \"type\": \"scatter\", \"uid\": \"e8cb7c0c-081d-4345-a34e-3dba6fde01e0\", \"x\": [-0.07622456985739724, 0.42172398397006405, null], \"y\": [0.011627576101213653, 0.6677922054690745, null]}, {\"hoverinfo\": \"none\", \"line\": {\"color\": \"black\", \"width\": 0.5}, \"mode\": \"lines\", \"type\": \"scatter\", \"uid\": \"aa29c685-a89b-4692-827e-fb43bfd69528\", \"x\": [-0.07622456985739724, -0.18662423680383186, null], \"y\": [0.011627576101213653, -0.9174454317145, null]}, {\"hoverinfo\": \"none\", \"line\": {\"color\": \"black\", \"width\": 0.5}, \"mode\": \"lines\", \"type\": \"scatter\", \"uid\": \"577f10ee-aad3-4965-b1df-0c37747f830e\", \"x\": [-0.07622456985739724, -0.9281765237746541, null], \"y\": [0.011627576101213653, 0.496827665046292, null]}, {\"hoverinfo\": \"none\", \"line\": {\"color\": \"black\", \"width\": 0.5}, \"mode\": \"lines\", \"type\": \"scatter\", \"uid\": \"885f2175-ec79-4d4a-8e11-98dd0fcab91c\", \"x\": [-0.07622456985739724, -0.06108388072598467, null], \"y\": [0.011627576101213653, 0.9470660825874352, null]}, {\"hoverinfo\": \"none\", \"line\": {\"color\": \"black\", \"width\": 0.5}, \"mode\": \"lines\", \"type\": \"scatter\", \"uid\": \"68450ca3-8f95-4ae8-938b-f5b8fd3a8a79\", \"x\": [-0.07622456985739724, -1.0, null], \"y\": [0.011627576101213653, -0.36141850997801644, null]}, {\"hoverinfo\": \"none\", \"line\": {\"color\": \"black\", \"width\": 0.5}, \"mode\": \"lines\", \"type\": \"scatter\", \"uid\": \"617e32e3-a169-430c-b76b-5524390d5702\", \"x\": [0.9442190406434189, 0.5846163053396138, null], \"y\": [-0.24771582536521938, 0.03685144783768355, null]}, {\"hoverinfo\": \"none\", \"line\": {\"color\": \"black\", \"width\": 0.5}, \"mode\": \"lines\", \"type\": \"scatter\", \"uid\": \"c7902158-6fdf-4129-b053-2a0fdeb9e53d\", \"x\": [0.5846163053396138, 0.42172398397006405, null], \"y\": [0.03685144783768355, 0.6677922054690745, null]}, {\"hoverinfo\": \"none\", \"line\": {\"color\": \"black\", \"width\": 0.5}, \"mode\": \"lines\", \"type\": \"scatter\", \"uid\": \"42511de0-67af-4b4d-b89c-d85be52530a2\", \"x\": [0.5846163053396138, 0.3015498812087702, null], \"y\": [0.03685144783768355, -0.6335852099839625, null]}, {\"hoverinfo\": \"none\", \"line\": {\"color\": \"black\", \"width\": 0.5}, \"mode\": \"lines\", \"type\": \"scatter\", \"uid\": \"49ed2716-c6fa-47c8-a080-f7d8d231eb11\", \"x\": [0.42172398397006405, -0.06108388072598467, null], \"y\": [0.6677922054690745, 0.9470660825874352, null]}, {\"hoverinfo\": \"none\", \"line\": {\"color\": \"black\", \"width\": 0.5}, \"mode\": \"lines\", \"type\": \"scatter\", \"uid\": \"27627a14-86a3-469a-beaa-faf5748a0c03\", \"x\": [-0.18662423680383186, 0.3015498812087702, null], \"y\": [-0.9174454317145, -0.6335852099839625, null]}],\n",
       "                        {\"annotations\": [{\"ax\": 0, \"ay\": 20, \"showarrow\": false, \"text\": \"Next\", \"x\": -0.07794062036579767, \"xref\": \"x\", \"y\": 0.08400865934839395, \"yref\": \"y\"}, {\"ax\": 0, \"ay\": 20, \"showarrow\": false, \"text\": \"Inter\", \"x\": 0.16755109679910954, \"xref\": \"x\", \"y\": -0.7124805880127004, \"yref\": \"y\"}, {\"ax\": 0, \"ay\": 20, \"showarrow\": false, \"text\": \"Nubank\", \"x\": 0.35542628638900053, \"xref\": \"x\", \"y\": -0.1593764331265589, \"yref\": \"y\"}, {\"ax\": 0, \"ay\": 20, \"showarrow\": false, \"text\": \"BB\", \"x\": 0.07399957726090944, \"xref\": \"x\", \"y\": 0.5901688507468612, \"yref\": \"y\"}, {\"ax\": 0, \"ay\": 20, \"showarrow\": false, \"text\": \"Itau\", \"x\": 0.77542629911479, \"xref\": \"x\", \"y\": 0.5100745867956173, \"yref\": \"y\"}, {\"ax\": 0, \"ay\": 20, \"showarrow\": false, \"text\": \"XP Investimentos\", \"x\": -0.7498671157710024, \"xref\": \"x\", \"y\": -0.5625894493752092, \"yref\": \"y\"}, {\"ax\": 0, \"ay\": 20, \"showarrow\": false, \"text\": \"CEF\", \"x\": -0.34926639776433566, \"xref\": \"x\", \"y\": 0.9088546358082981, \"yref\": \"y\"}, {\"ax\": 0, \"ay\": 20, \"showarrow\": false, \"text\": \"Santander\", \"x\": -1.0, \"xref\": \"x\", \"y\": 0.23591815070210428, \"yref\": \"y\"}, {\"ax\": 0, \"ay\": 20, \"showarrow\": false, \"text\": \"Bradesco\", \"x\": 0.8046708743373262, \"xref\": \"x\", \"y\": 0.005421587113193613, \"yref\": \"y\"}, {\"ax\": 0, \"ay\": 20, \"showarrow\": false, \"text\": \"Next\", \"x\": 0.027599322652272246, \"xref\": \"x\", \"y\": 0.17122021801680232, \"yref\": \"y\"}, {\"ax\": 0, \"ay\": 20, \"showarrow\": false, \"text\": \"Inter\", \"x\": -0.4380898914758382, \"xref\": \"x\", \"y\": -0.7272252130986102, \"yref\": \"y\"}, {\"ax\": 0, \"ay\": 20, \"showarrow\": false, \"text\": \"Nubank\", \"x\": -0.14023262422260543, \"xref\": \"x\", \"y\": -0.42682123695587026, \"yref\": \"y\"}, {\"ax\": 0, \"ay\": 20, \"showarrow\": false, \"text\": \"BB\", \"x\": -0.6807676616014422, \"xref\": \"x\", \"y\": -0.0023142053987431077, \"yref\": \"y\"}, {\"ax\": 0, \"ay\": 20, \"showarrow\": false, \"text\": \"Itau\", \"x\": 0.8871747081900979, \"xref\": \"x\", \"y\": -0.0974366373103, \"yref\": \"y\"}, {\"ax\": 0, \"ay\": 20, \"showarrow\": false, \"text\": \"XP Investimentos\", \"x\": 0.7017914583912597, \"xref\": \"x\", \"y\": 0.8137879713892804, \"yref\": \"y\"}, {\"ax\": 0, \"ay\": 20, \"showarrow\": false, \"text\": \"CEF\", \"x\": -0.7921687458111087, \"xref\": \"x\", \"y\": 0.5260371691540026, \"yref\": \"y\"}, {\"ax\": 0, \"ay\": 20, \"showarrow\": false, \"text\": \"Santander\", \"x\": -0.06157902704649608, \"xref\": \"x\", \"y\": 1.1, \"yref\": \"y\"}, {\"ax\": 0, \"ay\": 20, \"showarrow\": false, \"text\": \"Bradesco\", \"x\": 0.4962724609238609, \"xref\": \"x\", \"y\": -0.4572480657965612, \"yref\": \"y\"}, {\"ax\": 0, \"ay\": 20, \"showarrow\": false, \"text\": \"Next\", \"x\": 0.053893161841936384, \"xref\": \"x\", \"y\": -0.0039813219145499595, \"yref\": \"y\"}, {\"ax\": 0, \"ay\": 20, \"showarrow\": false, \"text\": \"Inter\", \"x\": 0.3305844685708866, \"xref\": \"x\", \"y\": 0.8695990623622987, \"yref\": \"y\"}, {\"ax\": 0, \"ay\": 20, \"showarrow\": false, \"text\": \"Nubank\", \"x\": -0.30890715771997374, \"xref\": \"x\", \"y\": 0.44631259364758, \"yref\": \"y\"}, {\"ax\": 0, \"ay\": 20, \"showarrow\": false, \"text\": \"BB\", \"x\": -0.7169628674074314, \"xref\": \"x\", \"y\": -0.07349138789835355, \"yref\": \"y\"}, {\"ax\": 0, \"ay\": 20, \"showarrow\": false, \"text\": \"Itau\", \"x\": -0.21836631158065967, \"xref\": \"x\", \"y\": 0.9243084316084494, \"yref\": \"y\"}, {\"ax\": 0, \"ay\": 20, \"showarrow\": false, \"text\": \"XP Investimentos\", \"x\": 0.3205592503112819, \"xref\": \"x\", \"y\": -0.9, \"yref\": \"y\"}, {\"ax\": 0, \"ay\": 20, \"showarrow\": false, \"text\": \"CEF\", \"x\": -0.6166044693749136, \"xref\": \"x\", \"y\": -0.599700619632718, \"yref\": \"y\"}, {\"ax\": 0, \"ay\": 20, \"showarrow\": false, \"text\": \"Santander\", \"x\": 0.9467943557463921, \"xref\": \"x\", \"y\": -0.29289274834675794, \"yref\": \"y\"}, {\"ax\": 0, \"ay\": 20, \"showarrow\": false, \"text\": \"Bradesco\", \"x\": 0.20900956961248304, \"xref\": \"x\", \"y\": 0.5298459901740515, \"yref\": \"y\"}, {\"ax\": 0, \"ay\": 20, \"showarrow\": false, \"text\": \"Next\", \"x\": -0.07622456985739724, \"xref\": \"x\", \"y\": 0.11162757610121365, \"yref\": \"y\"}, {\"ax\": 0, \"ay\": 20, \"showarrow\": false, \"text\": \"Inter\", \"x\": 0.9442190406434189, \"xref\": \"x\", \"y\": -0.14771582536521938, \"yref\": \"y\"}, {\"ax\": 0, \"ay\": 20, \"showarrow\": false, \"text\": \"Nubank\", \"x\": 0.5846163053396138, \"xref\": \"x\", \"y\": 0.13685144783768355, \"yref\": \"y\"}, {\"ax\": 0, \"ay\": 20, \"showarrow\": false, \"text\": \"BB\", \"x\": 0.42172398397006405, \"xref\": \"x\", \"y\": 0.7677922054690745, \"yref\": \"y\"}, {\"ax\": 0, \"ay\": 20, \"showarrow\": false, \"text\": \"Itau\", \"x\": -0.18662423680383186, \"xref\": \"x\", \"y\": -0.8174454317145, \"yref\": \"y\"}, {\"ax\": 0, \"ay\": 20, \"showarrow\": false, \"text\": \"XP Investimentos\", \"x\": -0.9281765237746541, \"xref\": \"x\", \"y\": 0.596827665046292, \"yref\": \"y\"}, {\"ax\": 0, \"ay\": 20, \"showarrow\": false, \"text\": \"CEF\", \"x\": -0.06108388072598467, \"xref\": \"x\", \"y\": 1.0470660825874352, \"yref\": \"y\"}, {\"ax\": 0, \"ay\": 20, \"showarrow\": false, \"text\": \"Santander\", \"x\": -1.0, \"xref\": \"x\", \"y\": -0.2614185099780164, \"yref\": \"y\"}, {\"ax\": 0, \"ay\": 20, \"showarrow\": false, \"text\": \"Bradesco\", \"x\": 0.3015498812087702, \"xref\": \"x\", \"y\": -0.5335852099839625, \"yref\": \"y\"}], \"hovermode\": \"closest\", \"margin\": {\"b\": 20, \"l\": 5, \"r\": 5, \"t\": 40}, \"scene\": {\"xaxis\": {\"showbackground\": false, \"showgrid\": false, \"showline\": false, \"showticklabels\": false, \"title\": {\"text\": \"\"}, \"zeroline\": false}, \"yaxis\": {\"showgrid\": false, \"showticklabels\": false, \"zeroline\": false}, \"zaxis\": {\"showgrid\": false, \"showticklabels\": false, \"zeroline\": false}}, \"showlegend\": false, \"title\": {\"font\": {\"size\": 16}, \"text\": \"coco\"}},\n",
       "                        {\"showLink\": false, \"linkText\": \"Export to plot.ly\", \"plotlyServerURL\": \"https://plot.ly\", \"responsive\": true}\n",
       "                    ).then(function(){\n",
       "                            \n",
       "var gd = document.getElementById('8988719a-5673-4c0b-8525-f2f5589d383c');\n",
       "var x = new MutationObserver(function (mutations, observer) {{\n",
       "        var display = window.getComputedStyle(gd).display;\n",
       "        if (!display || display === 'none') {{\n",
       "            console.log([gd, 'removed!']);\n",
       "            Plotly.purge(gd);\n",
       "            observer.disconnect();\n",
       "        }}\n",
       "}});\n",
       "\n",
       "// Listen for the removal of the full notebook cells\n",
       "var notebookContainer = gd.closest('#notebook-container');\n",
       "if (notebookContainer) {{\n",
       "    x.observe(notebookContainer, {childList: true});\n",
       "}}\n",
       "\n",
       "// Listen for the clearing of the current output cell\n",
       "var outputEl = gd.closest('.output');\n",
       "if (outputEl) {{\n",
       "    x.observe(outputEl, {childList: true});\n",
       "}}\n",
       "\n",
       "                        })\n",
       "                };\n",
       "                });\n",
       "            </script>\n",
       "        </div>"
      ]
     },
     "metadata": {},
     "output_type": "display_data"
    }
   ],
   "source": [
    "mygraph.plot(title='coco', node_size_col='clientes', node_color_col='clientes', hover_col='clientes')"
   ]
  },
  {
   "cell_type": "code",
   "execution_count": 18,
   "metadata": {},
   "outputs": [
    {
     "data": {
      "application/vnd.plotly.v1+json": {
       "config": {
        "linkText": "Export to plot.ly",
        "plotlyServerURL": "https://plot.ly",
        "responsive": true,
        "showLink": false
       },
       "data": [
        {
         "hoverinfo": "text",
         "marker": {
          "cmax": 234243,
          "cmin": 1,
          "color": [
           "rgb(0, 0, 6)",
           "rgb(35, 17, 82)",
           "rgb(251, 252, 191)",
           "rgb(20, 13, 53)",
           "rgb(0, 0, 3)",
           "rgb(0, 0, 3)",
           "rgb(251, 247, 185)",
           "rgb(0, 0, 3)",
           "rgb(21, 14, 56)"
          ],
          "colorbar": {
           "thickness": 15,
           "title": {
            "side": "right",
            "text": "coco"
           },
           "xanchor": "left"
          },
          "colorscale": "Viridis",
          "line": {
           "width": 2
          },
          "reversescale": true,
          "showscale": false,
          "size": [
           2000,
           35000,
           234243,
           23443,
           2,
           1,
           232323,
           666,
           24433
          ],
          "sizemin": 6,
          "sizemode": "area",
          "sizeref": 187.3944
         },
         "mode": "markers",
         "text": [
          "<b>Next</b><br>clientes: 2000<br>",
          "<b>Inter</b><br>clientes: 35000<br>",
          "<b>Nubank</b><br>clientes: 234243<br>",
          "<b>BB</b><br>clientes: 23443<br>",
          "<b>Itau</b><br>clientes: 2<br>",
          "<b>XP Investimentos</b><br>clientes: 1<br>",
          "<b>CEF</b><br>clientes: 232323<br>",
          "<b>Santander</b><br>clientes: 666<br>",
          "<b>Bradesco</b><br>clientes: 24433<br>"
         ],
         "type": "scatter",
         "uid": "25b3aade-61c2-4a5d-a855-654ff9fd7509",
         "x": [
          -0.04746982233540919,
          0.4795986893681393,
          0.3120553685378449,
          0.727336123930898,
          -0.8110060949001958,
          -0.8549654105809381,
          0.6853381290976283,
          -0.1608138287630817,
          -0.3300731543548858
         ],
         "y": [
          0.06708262125047794,
          -0.8018917406008518,
          -0.4101341108698576,
          0.07588086874427542,
          -0.510769570524611,
          0.5383387832315883,
          0.6026825142865556,
          1,
          -0.5611893655175771
         ]
        },
        {
         "hoverinfo": "none",
         "line": {
          "color": "black",
          "width": 0.5
         },
         "mode": "lines",
         "type": "scatter",
         "uid": "f7775bc5-393e-4294-aa5d-fa5008a94020",
         "x": [
          -0.04746982233540919,
          -0.3300731543548858,
          null
         ],
         "y": [
          0.06708262125047794,
          -0.5611893655175771,
          null
         ]
        },
        {
         "hoverinfo": "none",
         "line": {
          "color": "black",
          "width": 0.5
         },
         "mode": "lines",
         "type": "scatter",
         "uid": "5cb1c38f-bd9e-493a-825f-abc31a6da3d9",
         "x": [
          -0.04746982233540919,
          0.4795986893681393,
          null
         ],
         "y": [
          0.06708262125047794,
          -0.8018917406008518,
          null
         ]
        },
        {
         "hoverinfo": "none",
         "line": {
          "color": "black",
          "width": 0.5
         },
         "mode": "lines",
         "type": "scatter",
         "uid": "2b2753f2-42eb-41b2-8806-9ac6fea823ef",
         "x": [
          -0.04746982233540919,
          0.3120553685378449,
          null
         ],
         "y": [
          0.06708262125047794,
          -0.4101341108698576,
          null
         ]
        },
        {
         "hoverinfo": "none",
         "line": {
          "color": "black",
          "width": 0.5
         },
         "mode": "lines",
         "type": "scatter",
         "uid": "519f2d07-b5dc-4ee6-a772-1023830ec397",
         "x": [
          -0.04746982233540919,
          0.727336123930898,
          null
         ],
         "y": [
          0.06708262125047794,
          0.07588086874427542,
          null
         ]
        },
        {
         "hoverinfo": "none",
         "line": {
          "color": "black",
          "width": 0.5
         },
         "mode": "lines",
         "type": "scatter",
         "uid": "afc041ec-e1e2-47dd-bbda-f89e721f3fee",
         "x": [
          -0.04746982233540919,
          -0.8110060949001958,
          null
         ],
         "y": [
          0.06708262125047794,
          -0.510769570524611,
          null
         ]
        },
        {
         "hoverinfo": "none",
         "line": {
          "color": "black",
          "width": 0.5
         },
         "mode": "lines",
         "type": "scatter",
         "uid": "f199b633-3742-4057-a51d-844e8083dfed",
         "x": [
          -0.04746982233540919,
          -0.8549654105809381,
          null
         ],
         "y": [
          0.06708262125047794,
          0.5383387832315883,
          null
         ]
        },
        {
         "hoverinfo": "none",
         "line": {
          "color": "black",
          "width": 0.5
         },
         "mode": "lines",
         "type": "scatter",
         "uid": "39e2e2fd-1158-4658-b3fe-14f16000c40e",
         "x": [
          -0.04746982233540919,
          0.6853381290976283,
          null
         ],
         "y": [
          0.06708262125047794,
          0.6026825142865556,
          null
         ]
        },
        {
         "hoverinfo": "none",
         "line": {
          "color": "black",
          "width": 0.5
         },
         "mode": "lines",
         "type": "scatter",
         "uid": "6ffb49f7-d5b5-48c1-b23d-1ba00cb4df9d",
         "x": [
          -0.04746982233540919,
          -0.1608138287630817,
          null
         ],
         "y": [
          0.06708262125047794,
          1,
          null
         ]
        },
        {
         "hoverinfo": "none",
         "line": {
          "color": "black",
          "width": 0.5
         },
         "mode": "lines",
         "type": "scatter",
         "uid": "68237b27-3fdc-496e-ba7b-6973de235808",
         "x": [
          0.4795986893681393,
          0.3120553685378449,
          null
         ],
         "y": [
          -0.8018917406008518,
          -0.4101341108698576,
          null
         ]
        },
        {
         "hoverinfo": "none",
         "line": {
          "color": "black",
          "width": 0.5
         },
         "mode": "lines",
         "type": "scatter",
         "uid": "de57ed5a-5b09-4964-becc-33d21939dab1",
         "x": [
          0.3120553685378449,
          0.727336123930898,
          null
         ],
         "y": [
          -0.4101341108698576,
          0.07588086874427542,
          null
         ]
        },
        {
         "hoverinfo": "none",
         "line": {
          "color": "black",
          "width": 0.5
         },
         "mode": "lines",
         "type": "scatter",
         "uid": "3acd4f46-d1db-4322-8cb5-2dbf0e990926",
         "x": [
          0.3120553685378449,
          -0.3300731543548858,
          null
         ],
         "y": [
          -0.4101341108698576,
          -0.5611893655175771,
          null
         ]
        },
        {
         "hoverinfo": "none",
         "line": {
          "color": "black",
          "width": 0.5
         },
         "mode": "lines",
         "type": "scatter",
         "uid": "a09adddd-1efa-4b98-82db-a1868758c48c",
         "x": [
          0.727336123930898,
          0.6853381290976283,
          null
         ],
         "y": [
          0.07588086874427542,
          0.6026825142865556,
          null
         ]
        },
        {
         "hoverinfo": "none",
         "line": {
          "color": "black",
          "width": 0.5
         },
         "mode": "lines",
         "type": "scatter",
         "uid": "8c77a026-3d21-44b6-a1aa-fc1c6e7f8071",
         "x": [
          -0.8110060949001958,
          -0.3300731543548858,
          null
         ],
         "y": [
          -0.510769570524611,
          -0.5611893655175771,
          null
         ]
        }
       ],
       "layout": {
        "annotations": [
         {
          "ax": 0,
          "ay": 20,
          "showarrow": false,
          "text": "Next",
          "x": -0.07794062036579767,
          "xref": "x",
          "y": 0.08400865934839395,
          "yref": "y"
         },
         {
          "ax": 0,
          "ay": 20,
          "showarrow": false,
          "text": "Inter",
          "x": 0.16755109679910954,
          "xref": "x",
          "y": -0.7124805880127004,
          "yref": "y"
         },
         {
          "ax": 0,
          "ay": 20,
          "showarrow": false,
          "text": "Nubank",
          "x": 0.35542628638900053,
          "xref": "x",
          "y": -0.1593764331265589,
          "yref": "y"
         },
         {
          "ax": 0,
          "ay": 20,
          "showarrow": false,
          "text": "BB",
          "x": 0.07399957726090944,
          "xref": "x",
          "y": 0.5901688507468612,
          "yref": "y"
         },
         {
          "ax": 0,
          "ay": 20,
          "showarrow": false,
          "text": "Itau",
          "x": 0.77542629911479,
          "xref": "x",
          "y": 0.5100745867956173,
          "yref": "y"
         },
         {
          "ax": 0,
          "ay": 20,
          "showarrow": false,
          "text": "XP Investimentos",
          "x": -0.7498671157710024,
          "xref": "x",
          "y": -0.5625894493752092,
          "yref": "y"
         },
         {
          "ax": 0,
          "ay": 20,
          "showarrow": false,
          "text": "CEF",
          "x": -0.34926639776433566,
          "xref": "x",
          "y": 0.9088546358082981,
          "yref": "y"
         },
         {
          "ax": 0,
          "ay": 20,
          "showarrow": false,
          "text": "Santander",
          "x": -1,
          "xref": "x",
          "y": 0.23591815070210428,
          "yref": "y"
         },
         {
          "ax": 0,
          "ay": 20,
          "showarrow": false,
          "text": "Bradesco",
          "x": 0.8046708743373262,
          "xref": "x",
          "y": 0.005421587113193613,
          "yref": "y"
         },
         {
          "ax": 0,
          "ay": 20,
          "showarrow": false,
          "text": "Next",
          "x": 0.027599322652272246,
          "xref": "x",
          "y": 0.17122021801680232,
          "yref": "y"
         },
         {
          "ax": 0,
          "ay": 20,
          "showarrow": false,
          "text": "Inter",
          "x": -0.4380898914758382,
          "xref": "x",
          "y": -0.7272252130986102,
          "yref": "y"
         },
         {
          "ax": 0,
          "ay": 20,
          "showarrow": false,
          "text": "Nubank",
          "x": -0.14023262422260543,
          "xref": "x",
          "y": -0.42682123695587026,
          "yref": "y"
         },
         {
          "ax": 0,
          "ay": 20,
          "showarrow": false,
          "text": "BB",
          "x": -0.6807676616014422,
          "xref": "x",
          "y": -0.0023142053987431077,
          "yref": "y"
         },
         {
          "ax": 0,
          "ay": 20,
          "showarrow": false,
          "text": "Itau",
          "x": 0.8871747081900979,
          "xref": "x",
          "y": -0.0974366373103,
          "yref": "y"
         },
         {
          "ax": 0,
          "ay": 20,
          "showarrow": false,
          "text": "XP Investimentos",
          "x": 0.7017914583912597,
          "xref": "x",
          "y": 0.8137879713892804,
          "yref": "y"
         },
         {
          "ax": 0,
          "ay": 20,
          "showarrow": false,
          "text": "CEF",
          "x": -0.7921687458111087,
          "xref": "x",
          "y": 0.5260371691540026,
          "yref": "y"
         },
         {
          "ax": 0,
          "ay": 20,
          "showarrow": false,
          "text": "Santander",
          "x": -0.06157902704649608,
          "xref": "x",
          "y": 1.1,
          "yref": "y"
         },
         {
          "ax": 0,
          "ay": 20,
          "showarrow": false,
          "text": "Bradesco",
          "x": 0.4962724609238609,
          "xref": "x",
          "y": -0.4572480657965612,
          "yref": "y"
         },
         {
          "ax": 0,
          "ay": 20,
          "showarrow": false,
          "text": "Next",
          "x": 0.053893161841936384,
          "xref": "x",
          "y": -0.0039813219145499595,
          "yref": "y"
         },
         {
          "ax": 0,
          "ay": 20,
          "showarrow": false,
          "text": "Inter",
          "x": 0.3305844685708866,
          "xref": "x",
          "y": 0.8695990623622987,
          "yref": "y"
         },
         {
          "ax": 0,
          "ay": 20,
          "showarrow": false,
          "text": "Nubank",
          "x": -0.30890715771997374,
          "xref": "x",
          "y": 0.44631259364758,
          "yref": "y"
         },
         {
          "ax": 0,
          "ay": 20,
          "showarrow": false,
          "text": "BB",
          "x": -0.7169628674074314,
          "xref": "x",
          "y": -0.07349138789835355,
          "yref": "y"
         },
         {
          "ax": 0,
          "ay": 20,
          "showarrow": false,
          "text": "Itau",
          "x": -0.21836631158065967,
          "xref": "x",
          "y": 0.9243084316084494,
          "yref": "y"
         },
         {
          "ax": 0,
          "ay": 20,
          "showarrow": false,
          "text": "XP Investimentos",
          "x": 0.3205592503112819,
          "xref": "x",
          "y": -0.9,
          "yref": "y"
         },
         {
          "ax": 0,
          "ay": 20,
          "showarrow": false,
          "text": "CEF",
          "x": -0.6166044693749136,
          "xref": "x",
          "y": -0.599700619632718,
          "yref": "y"
         },
         {
          "ax": 0,
          "ay": 20,
          "showarrow": false,
          "text": "Santander",
          "x": 0.9467943557463921,
          "xref": "x",
          "y": -0.29289274834675794,
          "yref": "y"
         },
         {
          "ax": 0,
          "ay": 20,
          "showarrow": false,
          "text": "Bradesco",
          "x": 0.20900956961248304,
          "xref": "x",
          "y": 0.5298459901740515,
          "yref": "y"
         },
         {
          "ax": 0,
          "ay": 20,
          "showarrow": false,
          "text": "Next",
          "x": -0.07622456985739724,
          "xref": "x",
          "y": 0.11162757610121365,
          "yref": "y"
         },
         {
          "ax": 0,
          "ay": 20,
          "showarrow": false,
          "text": "Inter",
          "x": 0.9442190406434189,
          "xref": "x",
          "y": -0.14771582536521938,
          "yref": "y"
         },
         {
          "ax": 0,
          "ay": 20,
          "showarrow": false,
          "text": "Nubank",
          "x": 0.5846163053396138,
          "xref": "x",
          "y": 0.13685144783768355,
          "yref": "y"
         },
         {
          "ax": 0,
          "ay": 20,
          "showarrow": false,
          "text": "BB",
          "x": 0.42172398397006405,
          "xref": "x",
          "y": 0.7677922054690745,
          "yref": "y"
         },
         {
          "ax": 0,
          "ay": 20,
          "showarrow": false,
          "text": "Itau",
          "x": -0.18662423680383186,
          "xref": "x",
          "y": -0.8174454317145,
          "yref": "y"
         },
         {
          "ax": 0,
          "ay": 20,
          "showarrow": false,
          "text": "XP Investimentos",
          "x": -0.9281765237746541,
          "xref": "x",
          "y": 0.596827665046292,
          "yref": "y"
         },
         {
          "ax": 0,
          "ay": 20,
          "showarrow": false,
          "text": "CEF",
          "x": -0.06108388072598467,
          "xref": "x",
          "y": 1.0470660825874352,
          "yref": "y"
         },
         {
          "ax": 0,
          "ay": 20,
          "showarrow": false,
          "text": "Santander",
          "x": -1,
          "xref": "x",
          "y": -0.2614185099780164,
          "yref": "y"
         },
         {
          "ax": 0,
          "ay": 20,
          "showarrow": false,
          "text": "Bradesco",
          "x": 0.3015498812087702,
          "xref": "x",
          "y": -0.5335852099839625,
          "yref": "y"
         },
         {
          "ax": 0,
          "ay": 20,
          "showarrow": false,
          "text": "Next",
          "x": -0.04746982233540919,
          "xref": "x",
          "y": 0.16708262125047796,
          "yref": "y"
         },
         {
          "ax": 0,
          "ay": 20,
          "showarrow": false,
          "text": "Inter",
          "x": 0.4795986893681393,
          "xref": "x",
          "y": -0.7018917406008518,
          "yref": "y"
         },
         {
          "ax": 0,
          "ay": 20,
          "showarrow": false,
          "text": "Nubank",
          "x": 0.3120553685378449,
          "xref": "x",
          "y": -0.31013411086985765,
          "yref": "y"
         },
         {
          "ax": 0,
          "ay": 20,
          "showarrow": false,
          "text": "BB",
          "x": 0.727336123930898,
          "xref": "x",
          "y": 0.17588086874427544,
          "yref": "y"
         },
         {
          "ax": 0,
          "ay": 20,
          "showarrow": false,
          "text": "Itau",
          "x": -0.8110060949001958,
          "xref": "x",
          "y": -0.41076957052461105,
          "yref": "y"
         },
         {
          "ax": 0,
          "ay": 20,
          "showarrow": false,
          "text": "XP Investimentos",
          "x": -0.8549654105809381,
          "xref": "x",
          "y": 0.6383387832315883,
          "yref": "y"
         },
         {
          "ax": 0,
          "ay": 20,
          "showarrow": false,
          "text": "CEF",
          "x": 0.6853381290976283,
          "xref": "x",
          "y": 0.7026825142865556,
          "yref": "y"
         },
         {
          "ax": 0,
          "ay": 20,
          "showarrow": false,
          "text": "Santander",
          "x": -0.1608138287630817,
          "xref": "x",
          "y": 1.1,
          "yref": "y"
         },
         {
          "ax": 0,
          "ay": 20,
          "showarrow": false,
          "text": "Bradesco",
          "x": -0.3300731543548858,
          "xref": "x",
          "y": -0.46118936551757717,
          "yref": "y"
         }
        ],
        "hovermode": "closest",
        "margin": {
         "b": 20,
         "l": 5,
         "r": 5,
         "t": 40
        },
        "scene": {
         "xaxis": {
          "showbackground": false,
          "showgrid": false,
          "showline": false,
          "showticklabels": false,
          "title": {
           "text": ""
          },
          "zeroline": false
         },
         "yaxis": {
          "showgrid": false,
          "showticklabels": false,
          "zeroline": false
         },
         "zaxis": {
          "showgrid": false,
          "showticklabels": false,
          "zeroline": false
         }
        },
        "showlegend": false,
        "title": {
         "font": {
          "size": 16
         },
         "text": "coco"
        }
       }
      },
      "text/html": [
       "<div>\n",
       "        \n",
       "        \n",
       "            <div id=\"425ccd04-000b-4bb7-ab92-22655c7a2e23\" class=\"plotly-graph-div\" style=\"height:525px; width:100%;\"></div>\n",
       "            <script type=\"text/javascript\">\n",
       "                require([\"plotly\"], function(Plotly) {\n",
       "                    window.PLOTLYENV=window.PLOTLYENV || {};\n",
       "                    window.PLOTLYENV.BASE_URL='https://plot.ly';\n",
       "                    \n",
       "                if (document.getElementById(\"425ccd04-000b-4bb7-ab92-22655c7a2e23\")) {\n",
       "                    Plotly.newPlot(\n",
       "                        '425ccd04-000b-4bb7-ab92-22655c7a2e23',\n",
       "                        [{\"hoverinfo\": \"text\", \"marker\": {\"cmax\": 234243, \"cmin\": 1, \"color\": [\"rgb(0, 0, 6)\", \"rgb(35, 17, 82)\", \"rgb(251, 252, 191)\", \"rgb(20, 13, 53)\", \"rgb(0, 0, 3)\", \"rgb(0, 0, 3)\", \"rgb(251, 247, 185)\", \"rgb(0, 0, 3)\", \"rgb(21, 14, 56)\"], \"colorbar\": {\"thickness\": 15, \"title\": {\"side\": \"right\", \"text\": \"coco\"}, \"xanchor\": \"left\"}, \"colorscale\": \"Viridis\", \"line\": {\"width\": 2}, \"reversescale\": true, \"showscale\": false, \"size\": [2000, 35000, 234243, 23443, 2, 1, 232323, 666, 24433], \"sizemin\": 6, \"sizemode\": \"area\", \"sizeref\": 187.3944}, \"mode\": \"markers\", \"text\": [\"<b>Next</b><br>clientes: 2000<br>\", \"<b>Inter</b><br>clientes: 35000<br>\", \"<b>Nubank</b><br>clientes: 234243<br>\", \"<b>BB</b><br>clientes: 23443<br>\", \"<b>Itau</b><br>clientes: 2<br>\", \"<b>XP Investimentos</b><br>clientes: 1<br>\", \"<b>CEF</b><br>clientes: 232323<br>\", \"<b>Santander</b><br>clientes: 666<br>\", \"<b>Bradesco</b><br>clientes: 24433<br>\"], \"type\": \"scatter\", \"uid\": \"12d1053e-aa56-4da9-ab61-ebfb2c49097d\", \"x\": [-0.04746982233540919, 0.4795986893681393, 0.3120553685378449, 0.727336123930898, -0.8110060949001958, -0.8549654105809381, 0.6853381290976283, -0.1608138287630817, -0.3300731543548858], \"y\": [0.06708262125047794, -0.8018917406008518, -0.4101341108698576, 0.07588086874427542, -0.510769570524611, 0.5383387832315883, 0.6026825142865556, 1.0, -0.5611893655175771]}, {\"hoverinfo\": \"none\", \"line\": {\"color\": \"black\", \"width\": 0.5}, \"mode\": \"lines\", \"type\": \"scatter\", \"uid\": \"caefceac-1764-4da4-becd-5d476e1a9879\", \"x\": [-0.04746982233540919, -0.3300731543548858, null], \"y\": [0.06708262125047794, -0.5611893655175771, null]}, {\"hoverinfo\": \"none\", \"line\": {\"color\": \"black\", \"width\": 0.5}, \"mode\": \"lines\", \"type\": \"scatter\", \"uid\": \"91908ef1-f7b4-431c-aa82-969d690873ee\", \"x\": [-0.04746982233540919, 0.4795986893681393, null], \"y\": [0.06708262125047794, -0.8018917406008518, null]}, {\"hoverinfo\": \"none\", \"line\": {\"color\": \"black\", \"width\": 0.5}, \"mode\": \"lines\", \"type\": \"scatter\", \"uid\": \"c482139b-68a6-45ac-ba23-3e383a0aa8ea\", \"x\": [-0.04746982233540919, 0.3120553685378449, null], \"y\": [0.06708262125047794, -0.4101341108698576, null]}, {\"hoverinfo\": \"none\", \"line\": {\"color\": \"black\", \"width\": 0.5}, \"mode\": \"lines\", \"type\": \"scatter\", \"uid\": \"a20ed4e5-4849-4754-80b5-d67c94688b8b\", \"x\": [-0.04746982233540919, 0.727336123930898, null], \"y\": [0.06708262125047794, 0.07588086874427542, null]}, {\"hoverinfo\": \"none\", \"line\": {\"color\": \"black\", \"width\": 0.5}, \"mode\": \"lines\", \"type\": \"scatter\", \"uid\": \"81a67f9b-57c0-43d4-a7fd-c6d801c9f328\", \"x\": [-0.04746982233540919, -0.8110060949001958, null], \"y\": [0.06708262125047794, -0.510769570524611, null]}, {\"hoverinfo\": \"none\", \"line\": {\"color\": \"black\", \"width\": 0.5}, \"mode\": \"lines\", \"type\": \"scatter\", \"uid\": \"38295d5b-ac22-4953-9ba5-42dca449403c\", \"x\": [-0.04746982233540919, -0.8549654105809381, null], \"y\": [0.06708262125047794, 0.5383387832315883, null]}, {\"hoverinfo\": \"none\", \"line\": {\"color\": \"black\", \"width\": 0.5}, \"mode\": \"lines\", \"type\": \"scatter\", \"uid\": \"e2026869-feb3-4e6f-8df4-0113f481afe0\", \"x\": [-0.04746982233540919, 0.6853381290976283, null], \"y\": [0.06708262125047794, 0.6026825142865556, null]}, {\"hoverinfo\": \"none\", \"line\": {\"color\": \"black\", \"width\": 0.5}, \"mode\": \"lines\", \"type\": \"scatter\", \"uid\": \"c82b51b4-8f2c-4144-b866-238b82d0eb01\", \"x\": [-0.04746982233540919, -0.1608138287630817, null], \"y\": [0.06708262125047794, 1.0, null]}, {\"hoverinfo\": \"none\", \"line\": {\"color\": \"black\", \"width\": 0.5}, \"mode\": \"lines\", \"type\": \"scatter\", \"uid\": \"3d1a669a-81c9-455f-afb6-54f1a12c5883\", \"x\": [0.4795986893681393, 0.3120553685378449, null], \"y\": [-0.8018917406008518, -0.4101341108698576, null]}, {\"hoverinfo\": \"none\", \"line\": {\"color\": \"black\", \"width\": 0.5}, \"mode\": \"lines\", \"type\": \"scatter\", \"uid\": \"4322b1c2-ed1c-4b65-8ade-a00d632c9e87\", \"x\": [0.3120553685378449, 0.727336123930898, null], \"y\": [-0.4101341108698576, 0.07588086874427542, null]}, {\"hoverinfo\": \"none\", \"line\": {\"color\": \"black\", \"width\": 0.5}, \"mode\": \"lines\", \"type\": \"scatter\", \"uid\": \"da954dca-7322-4c07-b2e1-8bd98d5f4a78\", \"x\": [0.3120553685378449, -0.3300731543548858, null], \"y\": [-0.4101341108698576, -0.5611893655175771, null]}, {\"hoverinfo\": \"none\", \"line\": {\"color\": \"black\", \"width\": 0.5}, \"mode\": \"lines\", \"type\": \"scatter\", \"uid\": \"0e8cb66d-7299-4df0-9e49-b8534ce4181f\", \"x\": [0.727336123930898, 0.6853381290976283, null], \"y\": [0.07588086874427542, 0.6026825142865556, null]}, {\"hoverinfo\": \"none\", \"line\": {\"color\": \"black\", \"width\": 0.5}, \"mode\": \"lines\", \"type\": \"scatter\", \"uid\": \"df03af8e-20b6-4399-8754-cf15048d371a\", \"x\": [-0.8110060949001958, -0.3300731543548858, null], \"y\": [-0.510769570524611, -0.5611893655175771, null]}],\n",
       "                        {\"annotations\": [{\"ax\": 0, \"ay\": 20, \"showarrow\": false, \"text\": \"Next\", \"x\": -0.07794062036579767, \"xref\": \"x\", \"y\": 0.08400865934839395, \"yref\": \"y\"}, {\"ax\": 0, \"ay\": 20, \"showarrow\": false, \"text\": \"Inter\", \"x\": 0.16755109679910954, \"xref\": \"x\", \"y\": -0.7124805880127004, \"yref\": \"y\"}, {\"ax\": 0, \"ay\": 20, \"showarrow\": false, \"text\": \"Nubank\", \"x\": 0.35542628638900053, \"xref\": \"x\", \"y\": -0.1593764331265589, \"yref\": \"y\"}, {\"ax\": 0, \"ay\": 20, \"showarrow\": false, \"text\": \"BB\", \"x\": 0.07399957726090944, \"xref\": \"x\", \"y\": 0.5901688507468612, \"yref\": \"y\"}, {\"ax\": 0, \"ay\": 20, \"showarrow\": false, \"text\": \"Itau\", \"x\": 0.77542629911479, \"xref\": \"x\", \"y\": 0.5100745867956173, \"yref\": \"y\"}, {\"ax\": 0, \"ay\": 20, \"showarrow\": false, \"text\": \"XP Investimentos\", \"x\": -0.7498671157710024, \"xref\": \"x\", \"y\": -0.5625894493752092, \"yref\": \"y\"}, {\"ax\": 0, \"ay\": 20, \"showarrow\": false, \"text\": \"CEF\", \"x\": -0.34926639776433566, \"xref\": \"x\", \"y\": 0.9088546358082981, \"yref\": \"y\"}, {\"ax\": 0, \"ay\": 20, \"showarrow\": false, \"text\": \"Santander\", \"x\": -1.0, \"xref\": \"x\", \"y\": 0.23591815070210428, \"yref\": \"y\"}, {\"ax\": 0, \"ay\": 20, \"showarrow\": false, \"text\": \"Bradesco\", \"x\": 0.8046708743373262, \"xref\": \"x\", \"y\": 0.005421587113193613, \"yref\": \"y\"}, {\"ax\": 0, \"ay\": 20, \"showarrow\": false, \"text\": \"Next\", \"x\": 0.027599322652272246, \"xref\": \"x\", \"y\": 0.17122021801680232, \"yref\": \"y\"}, {\"ax\": 0, \"ay\": 20, \"showarrow\": false, \"text\": \"Inter\", \"x\": -0.4380898914758382, \"xref\": \"x\", \"y\": -0.7272252130986102, \"yref\": \"y\"}, {\"ax\": 0, \"ay\": 20, \"showarrow\": false, \"text\": \"Nubank\", \"x\": -0.14023262422260543, \"xref\": \"x\", \"y\": -0.42682123695587026, \"yref\": \"y\"}, {\"ax\": 0, \"ay\": 20, \"showarrow\": false, \"text\": \"BB\", \"x\": -0.6807676616014422, \"xref\": \"x\", \"y\": -0.0023142053987431077, \"yref\": \"y\"}, {\"ax\": 0, \"ay\": 20, \"showarrow\": false, \"text\": \"Itau\", \"x\": 0.8871747081900979, \"xref\": \"x\", \"y\": -0.0974366373103, \"yref\": \"y\"}, {\"ax\": 0, \"ay\": 20, \"showarrow\": false, \"text\": \"XP Investimentos\", \"x\": 0.7017914583912597, \"xref\": \"x\", \"y\": 0.8137879713892804, \"yref\": \"y\"}, {\"ax\": 0, \"ay\": 20, \"showarrow\": false, \"text\": \"CEF\", \"x\": -0.7921687458111087, \"xref\": \"x\", \"y\": 0.5260371691540026, \"yref\": \"y\"}, {\"ax\": 0, \"ay\": 20, \"showarrow\": false, \"text\": \"Santander\", \"x\": -0.06157902704649608, \"xref\": \"x\", \"y\": 1.1, \"yref\": \"y\"}, {\"ax\": 0, \"ay\": 20, \"showarrow\": false, \"text\": \"Bradesco\", \"x\": 0.4962724609238609, \"xref\": \"x\", \"y\": -0.4572480657965612, \"yref\": \"y\"}, {\"ax\": 0, \"ay\": 20, \"showarrow\": false, \"text\": \"Next\", \"x\": 0.053893161841936384, \"xref\": \"x\", \"y\": -0.0039813219145499595, \"yref\": \"y\"}, {\"ax\": 0, \"ay\": 20, \"showarrow\": false, \"text\": \"Inter\", \"x\": 0.3305844685708866, \"xref\": \"x\", \"y\": 0.8695990623622987, \"yref\": \"y\"}, {\"ax\": 0, \"ay\": 20, \"showarrow\": false, \"text\": \"Nubank\", \"x\": -0.30890715771997374, \"xref\": \"x\", \"y\": 0.44631259364758, \"yref\": \"y\"}, {\"ax\": 0, \"ay\": 20, \"showarrow\": false, \"text\": \"BB\", \"x\": -0.7169628674074314, \"xref\": \"x\", \"y\": -0.07349138789835355, \"yref\": \"y\"}, {\"ax\": 0, \"ay\": 20, \"showarrow\": false, \"text\": \"Itau\", \"x\": -0.21836631158065967, \"xref\": \"x\", \"y\": 0.9243084316084494, \"yref\": \"y\"}, {\"ax\": 0, \"ay\": 20, \"showarrow\": false, \"text\": \"XP Investimentos\", \"x\": 0.3205592503112819, \"xref\": \"x\", \"y\": -0.9, \"yref\": \"y\"}, {\"ax\": 0, \"ay\": 20, \"showarrow\": false, \"text\": \"CEF\", \"x\": -0.6166044693749136, \"xref\": \"x\", \"y\": -0.599700619632718, \"yref\": \"y\"}, {\"ax\": 0, \"ay\": 20, \"showarrow\": false, \"text\": \"Santander\", \"x\": 0.9467943557463921, \"xref\": \"x\", \"y\": -0.29289274834675794, \"yref\": \"y\"}, {\"ax\": 0, \"ay\": 20, \"showarrow\": false, \"text\": \"Bradesco\", \"x\": 0.20900956961248304, \"xref\": \"x\", \"y\": 0.5298459901740515, \"yref\": \"y\"}, {\"ax\": 0, \"ay\": 20, \"showarrow\": false, \"text\": \"Next\", \"x\": -0.07622456985739724, \"xref\": \"x\", \"y\": 0.11162757610121365, \"yref\": \"y\"}, {\"ax\": 0, \"ay\": 20, \"showarrow\": false, \"text\": \"Inter\", \"x\": 0.9442190406434189, \"xref\": \"x\", \"y\": -0.14771582536521938, \"yref\": \"y\"}, {\"ax\": 0, \"ay\": 20, \"showarrow\": false, \"text\": \"Nubank\", \"x\": 0.5846163053396138, \"xref\": \"x\", \"y\": 0.13685144783768355, \"yref\": \"y\"}, {\"ax\": 0, \"ay\": 20, \"showarrow\": false, \"text\": \"BB\", \"x\": 0.42172398397006405, \"xref\": \"x\", \"y\": 0.7677922054690745, \"yref\": \"y\"}, {\"ax\": 0, \"ay\": 20, \"showarrow\": false, \"text\": \"Itau\", \"x\": -0.18662423680383186, \"xref\": \"x\", \"y\": -0.8174454317145, \"yref\": \"y\"}, {\"ax\": 0, \"ay\": 20, \"showarrow\": false, \"text\": \"XP Investimentos\", \"x\": -0.9281765237746541, \"xref\": \"x\", \"y\": 0.596827665046292, \"yref\": \"y\"}, {\"ax\": 0, \"ay\": 20, \"showarrow\": false, \"text\": \"CEF\", \"x\": -0.06108388072598467, \"xref\": \"x\", \"y\": 1.0470660825874352, \"yref\": \"y\"}, {\"ax\": 0, \"ay\": 20, \"showarrow\": false, \"text\": \"Santander\", \"x\": -1.0, \"xref\": \"x\", \"y\": -0.2614185099780164, \"yref\": \"y\"}, {\"ax\": 0, \"ay\": 20, \"showarrow\": false, \"text\": \"Bradesco\", \"x\": 0.3015498812087702, \"xref\": \"x\", \"y\": -0.5335852099839625, \"yref\": \"y\"}, {\"ax\": 0, \"ay\": 20, \"showarrow\": false, \"text\": \"Next\", \"x\": -0.04746982233540919, \"xref\": \"x\", \"y\": 0.16708262125047796, \"yref\": \"y\"}, {\"ax\": 0, \"ay\": 20, \"showarrow\": false, \"text\": \"Inter\", \"x\": 0.4795986893681393, \"xref\": \"x\", \"y\": -0.7018917406008518, \"yref\": \"y\"}, {\"ax\": 0, \"ay\": 20, \"showarrow\": false, \"text\": \"Nubank\", \"x\": 0.3120553685378449, \"xref\": \"x\", \"y\": -0.31013411086985765, \"yref\": \"y\"}, {\"ax\": 0, \"ay\": 20, \"showarrow\": false, \"text\": \"BB\", \"x\": 0.727336123930898, \"xref\": \"x\", \"y\": 0.17588086874427544, \"yref\": \"y\"}, {\"ax\": 0, \"ay\": 20, \"showarrow\": false, \"text\": \"Itau\", \"x\": -0.8110060949001958, \"xref\": \"x\", \"y\": -0.41076957052461105, \"yref\": \"y\"}, {\"ax\": 0, \"ay\": 20, \"showarrow\": false, \"text\": \"XP Investimentos\", \"x\": -0.8549654105809381, \"xref\": \"x\", \"y\": 0.6383387832315883, \"yref\": \"y\"}, {\"ax\": 0, \"ay\": 20, \"showarrow\": false, \"text\": \"CEF\", \"x\": 0.6853381290976283, \"xref\": \"x\", \"y\": 0.7026825142865556, \"yref\": \"y\"}, {\"ax\": 0, \"ay\": 20, \"showarrow\": false, \"text\": \"Santander\", \"x\": -0.1608138287630817, \"xref\": \"x\", \"y\": 1.1, \"yref\": \"y\"}, {\"ax\": 0, \"ay\": 20, \"showarrow\": false, \"text\": \"Bradesco\", \"x\": -0.3300731543548858, \"xref\": \"x\", \"y\": -0.46118936551757717, \"yref\": \"y\"}], \"hovermode\": \"closest\", \"margin\": {\"b\": 20, \"l\": 5, \"r\": 5, \"t\": 40}, \"scene\": {\"xaxis\": {\"showbackground\": false, \"showgrid\": false, \"showline\": false, \"showticklabels\": false, \"title\": {\"text\": \"\"}, \"zeroline\": false}, \"yaxis\": {\"showgrid\": false, \"showticklabels\": false, \"zeroline\": false}, \"zaxis\": {\"showgrid\": false, \"showticklabels\": false, \"zeroline\": false}}, \"showlegend\": false, \"title\": {\"font\": {\"size\": 16}, \"text\": \"coco\"}},\n",
       "                        {\"showLink\": false, \"linkText\": \"Export to plot.ly\", \"plotlyServerURL\": \"https://plot.ly\", \"responsive\": true}\n",
       "                    ).then(function(){\n",
       "                            \n",
       "var gd = document.getElementById('425ccd04-000b-4bb7-ab92-22655c7a2e23');\n",
       "var x = new MutationObserver(function (mutations, observer) {{\n",
       "        var display = window.getComputedStyle(gd).display;\n",
       "        if (!display || display === 'none') {{\n",
       "            console.log([gd, 'removed!']);\n",
       "            Plotly.purge(gd);\n",
       "            observer.disconnect();\n",
       "        }}\n",
       "}});\n",
       "\n",
       "// Listen for the removal of the full notebook cells\n",
       "var notebookContainer = gd.closest('#notebook-container');\n",
       "if (notebookContainer) {{\n",
       "    x.observe(notebookContainer, {childList: true});\n",
       "}}\n",
       "\n",
       "// Listen for the clearing of the current output cell\n",
       "var outputEl = gd.closest('.output');\n",
       "if (outputEl) {{\n",
       "    x.observe(outputEl, {childList: true});\n",
       "}}\n",
       "\n",
       "                        })\n",
       "                };\n",
       "                });\n",
       "            </script>\n",
       "        </div>"
      ]
     },
     "metadata": {},
     "output_type": "display_data"
    }
   ],
   "source": [
    "mygraph.plot(title='coco', node_size_col='clientes', node_color_col='clientes', hover_col=['clientes','keke'])"
   ]
  },
  {
   "cell_type": "code",
   "execution_count": 19,
   "metadata": {},
   "outputs": [
    {
     "data": {
      "application/vnd.plotly.v1+json": {
       "config": {
        "linkText": "Export to plot.ly",
        "plotlyServerURL": "https://plot.ly",
        "responsive": true,
        "showLink": false
       },
       "data": [
        {
         "hoverinfo": "text",
         "marker": {
          "cmax": 234243,
          "cmin": 1,
          "color": [
           "rgb(0, 0, 6)",
           "rgb(35, 17, 82)",
           "rgb(251, 252, 191)",
           "rgb(20, 13, 53)",
           "rgb(0, 0, 3)",
           "rgb(0, 0, 3)",
           "rgb(251, 247, 185)",
           "rgb(0, 0, 3)",
           "rgb(21, 14, 56)"
          ],
          "colorbar": {
           "thickness": 15,
           "title": {
            "side": "right",
            "text": "coco"
           },
           "xanchor": "left"
          },
          "colorscale": "Viridis",
          "line": {
           "width": 2
          },
          "reversescale": true,
          "showscale": false,
          "size": [
           2000,
           35000,
           234243,
           23443,
           2,
           1,
           232323,
           666,
           24433
          ],
          "sizemin": 6,
          "sizemode": "area",
          "sizeref": 187.3944
         },
         "mode": "markers",
         "text": [
          "<b>Next</b><br>clientes: 2000<br>lucro: 234<br>",
          "<b>Inter</b><br>clientes: 35000<br>lucro: 1111<br>",
          "<b>Nubank</b><br>clientes: 234243<br>lucro: 2234<br>",
          "<b>BB</b><br>clientes: 23443<br>lucro: 2344<br>",
          "<b>Itau</b><br>clientes: 2<br>lucro: 444<br>",
          "<b>XP Investimentos</b><br>clientes: 1<br>lucro: 222<br>",
          "<b>CEF</b><br>clientes: 232323<br>lucro: 1<br>",
          "<b>Santander</b><br>clientes: 666<br>lucro: 1<br>",
          "<b>Bradesco</b><br>clientes: 24433<br>lucro: 9877<br>"
         ],
         "type": "scatter",
         "uid": "7f34ea9d-63a1-47b9-8ddf-1f4e4a5e784a",
         "x": [
          0.017986707083939974,
          -0.031378997071747614,
          0.20673084879215523,
          0.7484836294022099,
          -0.5677281869731314,
          -1,
          0.8777984400987403,
          0.17676247410387222,
          -0.42865491543603823
         ],
         "y": [
          0.060388355310461085,
          -0.8938409642733167,
          -0.5097734394069257,
          -0.2228639282352423,
          0.4424847469514578,
          0.059590596885175685,
          0.2900087436948295,
          0.9865824931544667,
          -0.21257660408090445
         ]
        },
        {
         "hoverinfo": "none",
         "line": {
          "color": "rgb(62, 15, 114)",
          "width": 0.5
         },
         "mode": "lines",
         "type": "scatter",
         "uid": "77fb0cc5-a9f4-448e-85f2-a458283e040a",
         "x": [
          0.017986707083939974,
          -0.42865491543603823,
          null
         ],
         "y": [
          0.060388355310461085,
          -0.21257660408090445,
          null
         ]
        },
        {
         "hoverinfo": "none",
         "line": {
          "color": "rgb(2, 2, 15)",
          "width": 0.5
         },
         "mode": "lines",
         "type": "scatter",
         "uid": "27042f8f-f827-4f92-ada4-38bea842e57f",
         "x": [
          0.017986707083939974,
          -0.031378997071747614,
          null
         ],
         "y": [
          0.060388355310461085,
          -0.8938409642733167,
          null
         ]
        },
        {
         "hoverinfo": "none",
         "line": {
          "color": "rgb(20, 13, 53)",
          "width": 0.5
         },
         "mode": "lines",
         "type": "scatter",
         "uid": "aa495a25-ab8e-4453-bbe5-ead1fc084e79",
         "x": [
          0.017986707083939974,
          0.20673084879215523,
          null
         ],
         "y": [
          0.060388355310461085,
          -0.5097734394069257,
          null
         ]
        },
        {
         "hoverinfo": "none",
         "line": {
          "color": "rgb(7, 5, 27)",
          "width": 0.5
         },
         "mode": "lines",
         "type": "scatter",
         "uid": "9bd52b25-4622-4ff7-b825-5c7690d6f3da",
         "x": [
          0.017986707083939974,
          0.7484836294022099,
          null
         ],
         "y": [
          0.060388355310461085,
          -0.2228639282352423,
          null
         ]
        },
        {
         "hoverinfo": "none",
         "line": {
          "color": "rgb(0, 0, 3)",
          "width": 0.5
         },
         "mode": "lines",
         "type": "scatter",
         "uid": "815873bd-ad47-4124-8f3c-83865310efc3",
         "x": [
          0.017986707083939974,
          -0.5677281869731314,
          null
         ],
         "y": [
          0.060388355310461085,
          0.4424847469514578,
          null
         ]
        },
        {
         "hoverinfo": "none",
         "line": {
          "color": "rgb(0, 0, 3)",
          "width": 0.5
         },
         "mode": "lines",
         "type": "scatter",
         "uid": "b3b508f0-7378-4bd0-85cf-dbecc499a703",
         "x": [
          0.017986707083939974,
          -1,
          null
         ],
         "y": [
          0.060388355310461085,
          0.059590596885175685,
          null
         ]
        },
        {
         "hoverinfo": "none",
         "line": {
          "color": "rgb(1, 1, 9)",
          "width": 0.5
         },
         "mode": "lines",
         "type": "scatter",
         "uid": "12d50b59-fc8e-4df3-ab58-d1bffbee1c17",
         "x": [
          0.017986707083939974,
          0.8777984400987403,
          null
         ],
         "y": [
          0.060388355310461085,
          0.2900087436948295,
          null
         ]
        },
        {
         "hoverinfo": "none",
         "line": {
          "color": "rgb(0, 0, 4)",
          "width": 0.5
         },
         "mode": "lines",
         "type": "scatter",
         "uid": "87452374-14f0-453e-b858-a458c7e001da",
         "x": [
          0.017986707083939974,
          0.17676247410387222,
          null
         ],
         "y": [
          0.060388355310461085,
          0.9865824931544667,
          null
         ]
        },
        {
         "hoverinfo": "none",
         "line": {
          "color": "rgb(0, 0, 3)",
          "width": 0.5
         },
         "mode": "lines",
         "type": "scatter",
         "uid": "74eaf0ad-587a-4b12-9019-aedd70cbb210",
         "x": [
          -0.031378997071747614,
          0.20673084879215523,
          null
         ],
         "y": [
          -0.8938409642733167,
          -0.5097734394069257,
          null
         ]
        },
        {
         "hoverinfo": "none",
         "line": {
          "color": "rgb(251, 252, 191)",
          "width": 0.5
         },
         "mode": "lines",
         "type": "scatter",
         "uid": "d627c036-972e-4f22-a545-3c0cf0b162cc",
         "x": [
          0.20673084879215523,
          0.7484836294022099,
          null
         ],
         "y": [
          -0.5097734394069257,
          -0.2228639282352423,
          null
         ]
        },
        {
         "hoverinfo": "none",
         "line": {
          "color": "rgb(0, 0, 3)",
          "width": 0.5
         },
         "mode": "lines",
         "type": "scatter",
         "uid": "0a684852-0b94-400a-913c-dc66287da9ea",
         "x": [
          0.20673084879215523,
          -0.42865491543603823,
          null
         ],
         "y": [
          -0.5097734394069257,
          -0.21257660408090445,
          null
         ]
        },
        {
         "hoverinfo": "none",
         "line": {
          "color": "rgb(0, 0, 4)",
          "width": 0.5
         },
         "mode": "lines",
         "type": "scatter",
         "uid": "fbd917b2-fa0a-4dd4-b33d-72b46e8ea829",
         "x": [
          0.7484836294022099,
          0.8777984400987403,
          null
         ],
         "y": [
          -0.2228639282352423,
          0.2900087436948295,
          null
         ]
        },
        {
         "hoverinfo": "none",
         "line": {
          "color": "rgb(20, 13, 53)",
          "width": 0.5
         },
         "mode": "lines",
         "type": "scatter",
         "uid": "ca2d2d60-1d33-44a5-b9e4-ba31ad3b1b1b",
         "x": [
          -0.5677281869731314,
          -0.42865491543603823,
          null
         ],
         "y": [
          0.4424847469514578,
          -0.21257660408090445,
          null
         ]
        }
       ],
       "layout": {
        "annotations": [
         {
          "ax": 0,
          "ay": 20,
          "showarrow": false,
          "text": "Next",
          "x": -0.07794062036579767,
          "xref": "x",
          "y": 0.08400865934839395,
          "yref": "y"
         },
         {
          "ax": 0,
          "ay": 20,
          "showarrow": false,
          "text": "Inter",
          "x": 0.16755109679910954,
          "xref": "x",
          "y": -0.7124805880127004,
          "yref": "y"
         },
         {
          "ax": 0,
          "ay": 20,
          "showarrow": false,
          "text": "Nubank",
          "x": 0.35542628638900053,
          "xref": "x",
          "y": -0.1593764331265589,
          "yref": "y"
         },
         {
          "ax": 0,
          "ay": 20,
          "showarrow": false,
          "text": "BB",
          "x": 0.07399957726090944,
          "xref": "x",
          "y": 0.5901688507468612,
          "yref": "y"
         },
         {
          "ax": 0,
          "ay": 20,
          "showarrow": false,
          "text": "Itau",
          "x": 0.77542629911479,
          "xref": "x",
          "y": 0.5100745867956173,
          "yref": "y"
         },
         {
          "ax": 0,
          "ay": 20,
          "showarrow": false,
          "text": "XP Investimentos",
          "x": -0.7498671157710024,
          "xref": "x",
          "y": -0.5625894493752092,
          "yref": "y"
         },
         {
          "ax": 0,
          "ay": 20,
          "showarrow": false,
          "text": "CEF",
          "x": -0.34926639776433566,
          "xref": "x",
          "y": 0.9088546358082981,
          "yref": "y"
         },
         {
          "ax": 0,
          "ay": 20,
          "showarrow": false,
          "text": "Santander",
          "x": -1,
          "xref": "x",
          "y": 0.23591815070210428,
          "yref": "y"
         },
         {
          "ax": 0,
          "ay": 20,
          "showarrow": false,
          "text": "Bradesco",
          "x": 0.8046708743373262,
          "xref": "x",
          "y": 0.005421587113193613,
          "yref": "y"
         },
         {
          "ax": 0,
          "ay": 20,
          "showarrow": false,
          "text": "Next",
          "x": 0.027599322652272246,
          "xref": "x",
          "y": 0.17122021801680232,
          "yref": "y"
         },
         {
          "ax": 0,
          "ay": 20,
          "showarrow": false,
          "text": "Inter",
          "x": -0.4380898914758382,
          "xref": "x",
          "y": -0.7272252130986102,
          "yref": "y"
         },
         {
          "ax": 0,
          "ay": 20,
          "showarrow": false,
          "text": "Nubank",
          "x": -0.14023262422260543,
          "xref": "x",
          "y": -0.42682123695587026,
          "yref": "y"
         },
         {
          "ax": 0,
          "ay": 20,
          "showarrow": false,
          "text": "BB",
          "x": -0.6807676616014422,
          "xref": "x",
          "y": -0.0023142053987431077,
          "yref": "y"
         },
         {
          "ax": 0,
          "ay": 20,
          "showarrow": false,
          "text": "Itau",
          "x": 0.8871747081900979,
          "xref": "x",
          "y": -0.0974366373103,
          "yref": "y"
         },
         {
          "ax": 0,
          "ay": 20,
          "showarrow": false,
          "text": "XP Investimentos",
          "x": 0.7017914583912597,
          "xref": "x",
          "y": 0.8137879713892804,
          "yref": "y"
         },
         {
          "ax": 0,
          "ay": 20,
          "showarrow": false,
          "text": "CEF",
          "x": -0.7921687458111087,
          "xref": "x",
          "y": 0.5260371691540026,
          "yref": "y"
         },
         {
          "ax": 0,
          "ay": 20,
          "showarrow": false,
          "text": "Santander",
          "x": -0.06157902704649608,
          "xref": "x",
          "y": 1.1,
          "yref": "y"
         },
         {
          "ax": 0,
          "ay": 20,
          "showarrow": false,
          "text": "Bradesco",
          "x": 0.4962724609238609,
          "xref": "x",
          "y": -0.4572480657965612,
          "yref": "y"
         },
         {
          "ax": 0,
          "ay": 20,
          "showarrow": false,
          "text": "Next",
          "x": 0.053893161841936384,
          "xref": "x",
          "y": -0.0039813219145499595,
          "yref": "y"
         },
         {
          "ax": 0,
          "ay": 20,
          "showarrow": false,
          "text": "Inter",
          "x": 0.3305844685708866,
          "xref": "x",
          "y": 0.8695990623622987,
          "yref": "y"
         },
         {
          "ax": 0,
          "ay": 20,
          "showarrow": false,
          "text": "Nubank",
          "x": -0.30890715771997374,
          "xref": "x",
          "y": 0.44631259364758,
          "yref": "y"
         },
         {
          "ax": 0,
          "ay": 20,
          "showarrow": false,
          "text": "BB",
          "x": -0.7169628674074314,
          "xref": "x",
          "y": -0.07349138789835355,
          "yref": "y"
         },
         {
          "ax": 0,
          "ay": 20,
          "showarrow": false,
          "text": "Itau",
          "x": -0.21836631158065967,
          "xref": "x",
          "y": 0.9243084316084494,
          "yref": "y"
         },
         {
          "ax": 0,
          "ay": 20,
          "showarrow": false,
          "text": "XP Investimentos",
          "x": 0.3205592503112819,
          "xref": "x",
          "y": -0.9,
          "yref": "y"
         },
         {
          "ax": 0,
          "ay": 20,
          "showarrow": false,
          "text": "CEF",
          "x": -0.6166044693749136,
          "xref": "x",
          "y": -0.599700619632718,
          "yref": "y"
         },
         {
          "ax": 0,
          "ay": 20,
          "showarrow": false,
          "text": "Santander",
          "x": 0.9467943557463921,
          "xref": "x",
          "y": -0.29289274834675794,
          "yref": "y"
         },
         {
          "ax": 0,
          "ay": 20,
          "showarrow": false,
          "text": "Bradesco",
          "x": 0.20900956961248304,
          "xref": "x",
          "y": 0.5298459901740515,
          "yref": "y"
         },
         {
          "ax": 0,
          "ay": 20,
          "showarrow": false,
          "text": "Next",
          "x": -0.07622456985739724,
          "xref": "x",
          "y": 0.11162757610121365,
          "yref": "y"
         },
         {
          "ax": 0,
          "ay": 20,
          "showarrow": false,
          "text": "Inter",
          "x": 0.9442190406434189,
          "xref": "x",
          "y": -0.14771582536521938,
          "yref": "y"
         },
         {
          "ax": 0,
          "ay": 20,
          "showarrow": false,
          "text": "Nubank",
          "x": 0.5846163053396138,
          "xref": "x",
          "y": 0.13685144783768355,
          "yref": "y"
         },
         {
          "ax": 0,
          "ay": 20,
          "showarrow": false,
          "text": "BB",
          "x": 0.42172398397006405,
          "xref": "x",
          "y": 0.7677922054690745,
          "yref": "y"
         },
         {
          "ax": 0,
          "ay": 20,
          "showarrow": false,
          "text": "Itau",
          "x": -0.18662423680383186,
          "xref": "x",
          "y": -0.8174454317145,
          "yref": "y"
         },
         {
          "ax": 0,
          "ay": 20,
          "showarrow": false,
          "text": "XP Investimentos",
          "x": -0.9281765237746541,
          "xref": "x",
          "y": 0.596827665046292,
          "yref": "y"
         },
         {
          "ax": 0,
          "ay": 20,
          "showarrow": false,
          "text": "CEF",
          "x": -0.06108388072598467,
          "xref": "x",
          "y": 1.0470660825874352,
          "yref": "y"
         },
         {
          "ax": 0,
          "ay": 20,
          "showarrow": false,
          "text": "Santander",
          "x": -1,
          "xref": "x",
          "y": -0.2614185099780164,
          "yref": "y"
         },
         {
          "ax": 0,
          "ay": 20,
          "showarrow": false,
          "text": "Bradesco",
          "x": 0.3015498812087702,
          "xref": "x",
          "y": -0.5335852099839625,
          "yref": "y"
         },
         {
          "ax": 0,
          "ay": 20,
          "showarrow": false,
          "text": "Next",
          "x": -0.04746982233540919,
          "xref": "x",
          "y": 0.16708262125047796,
          "yref": "y"
         },
         {
          "ax": 0,
          "ay": 20,
          "showarrow": false,
          "text": "Inter",
          "x": 0.4795986893681393,
          "xref": "x",
          "y": -0.7018917406008518,
          "yref": "y"
         },
         {
          "ax": 0,
          "ay": 20,
          "showarrow": false,
          "text": "Nubank",
          "x": 0.3120553685378449,
          "xref": "x",
          "y": -0.31013411086985765,
          "yref": "y"
         },
         {
          "ax": 0,
          "ay": 20,
          "showarrow": false,
          "text": "BB",
          "x": 0.727336123930898,
          "xref": "x",
          "y": 0.17588086874427544,
          "yref": "y"
         },
         {
          "ax": 0,
          "ay": 20,
          "showarrow": false,
          "text": "Itau",
          "x": -0.8110060949001958,
          "xref": "x",
          "y": -0.41076957052461105,
          "yref": "y"
         },
         {
          "ax": 0,
          "ay": 20,
          "showarrow": false,
          "text": "XP Investimentos",
          "x": -0.8549654105809381,
          "xref": "x",
          "y": 0.6383387832315883,
          "yref": "y"
         },
         {
          "ax": 0,
          "ay": 20,
          "showarrow": false,
          "text": "CEF",
          "x": 0.6853381290976283,
          "xref": "x",
          "y": 0.7026825142865556,
          "yref": "y"
         },
         {
          "ax": 0,
          "ay": 20,
          "showarrow": false,
          "text": "Santander",
          "x": -0.1608138287630817,
          "xref": "x",
          "y": 1.1,
          "yref": "y"
         },
         {
          "ax": 0,
          "ay": 20,
          "showarrow": false,
          "text": "Bradesco",
          "x": -0.3300731543548858,
          "xref": "x",
          "y": -0.46118936551757717,
          "yref": "y"
         },
         {
          "ax": 0,
          "ay": 20,
          "showarrow": false,
          "text": "Next",
          "x": 0.017986707083939974,
          "xref": "x",
          "y": 0.16038835531046108,
          "yref": "y"
         },
         {
          "ax": 0,
          "ay": 20,
          "showarrow": false,
          "text": "Inter",
          "x": -0.031378997071747614,
          "xref": "x",
          "y": -0.7938409642733167,
          "yref": "y"
         },
         {
          "ax": 0,
          "ay": 20,
          "showarrow": false,
          "text": "Nubank",
          "x": 0.20673084879215523,
          "xref": "x",
          "y": -0.4097734394069257,
          "yref": "y"
         },
         {
          "ax": 0,
          "ay": 20,
          "showarrow": false,
          "text": "BB",
          "x": 0.7484836294022099,
          "xref": "x",
          "y": -0.12286392823524228,
          "yref": "y"
         },
         {
          "ax": 0,
          "ay": 20,
          "showarrow": false,
          "text": "Itau",
          "x": -0.5677281869731314,
          "xref": "x",
          "y": 0.5424847469514578,
          "yref": "y"
         },
         {
          "ax": 0,
          "ay": 20,
          "showarrow": false,
          "text": "XP Investimentos",
          "x": -1,
          "xref": "x",
          "y": 0.15959059688517568,
          "yref": "y"
         },
         {
          "ax": 0,
          "ay": 20,
          "showarrow": false,
          "text": "CEF",
          "x": 0.8777984400987403,
          "xref": "x",
          "y": 0.3900087436948295,
          "yref": "y"
         },
         {
          "ax": 0,
          "ay": 20,
          "showarrow": false,
          "text": "Santander",
          "x": 0.17676247410387222,
          "xref": "x",
          "y": 1.0865824931544668,
          "yref": "y"
         },
         {
          "ax": 0,
          "ay": 20,
          "showarrow": false,
          "text": "Bradesco",
          "x": -0.42865491543603823,
          "xref": "x",
          "y": -0.11257660408090445,
          "yref": "y"
         }
        ],
        "hovermode": "closest",
        "margin": {
         "b": 20,
         "l": 5,
         "r": 5,
         "t": 40
        },
        "scene": {
         "xaxis": {
          "showbackground": false,
          "showgrid": false,
          "showline": false,
          "showticklabels": false,
          "title": {
           "text": ""
          },
          "zeroline": false
         },
         "yaxis": {
          "showgrid": false,
          "showticklabels": false,
          "zeroline": false
         },
         "zaxis": {
          "showgrid": false,
          "showticklabels": false,
          "zeroline": false
         }
        },
        "showlegend": false,
        "title": {
         "font": {
          "size": 16
         },
         "text": "coco"
        }
       }
      },
      "text/html": [
       "<div>\n",
       "        \n",
       "        \n",
       "            <div id=\"76634816-1568-47e8-869e-38cbd475a3f8\" class=\"plotly-graph-div\" style=\"height:525px; width:100%;\"></div>\n",
       "            <script type=\"text/javascript\">\n",
       "                require([\"plotly\"], function(Plotly) {\n",
       "                    window.PLOTLYENV=window.PLOTLYENV || {};\n",
       "                    window.PLOTLYENV.BASE_URL='https://plot.ly';\n",
       "                    \n",
       "                if (document.getElementById(\"76634816-1568-47e8-869e-38cbd475a3f8\")) {\n",
       "                    Plotly.newPlot(\n",
       "                        '76634816-1568-47e8-869e-38cbd475a3f8',\n",
       "                        [{\"hoverinfo\": \"text\", \"marker\": {\"cmax\": 234243, \"cmin\": 1, \"color\": [\"rgb(0, 0, 6)\", \"rgb(35, 17, 82)\", \"rgb(251, 252, 191)\", \"rgb(20, 13, 53)\", \"rgb(0, 0, 3)\", \"rgb(0, 0, 3)\", \"rgb(251, 247, 185)\", \"rgb(0, 0, 3)\", \"rgb(21, 14, 56)\"], \"colorbar\": {\"thickness\": 15, \"title\": {\"side\": \"right\", \"text\": \"coco\"}, \"xanchor\": \"left\"}, \"colorscale\": \"Viridis\", \"line\": {\"width\": 2}, \"reversescale\": true, \"showscale\": false, \"size\": [2000, 35000, 234243, 23443, 2, 1, 232323, 666, 24433], \"sizemin\": 6, \"sizemode\": \"area\", \"sizeref\": 187.3944}, \"mode\": \"markers\", \"text\": [\"<b>Next</b><br>clientes: 2000<br>lucro: 234<br>\", \"<b>Inter</b><br>clientes: 35000<br>lucro: 1111<br>\", \"<b>Nubank</b><br>clientes: 234243<br>lucro: 2234<br>\", \"<b>BB</b><br>clientes: 23443<br>lucro: 2344<br>\", \"<b>Itau</b><br>clientes: 2<br>lucro: 444<br>\", \"<b>XP Investimentos</b><br>clientes: 1<br>lucro: 222<br>\", \"<b>CEF</b><br>clientes: 232323<br>lucro: 1<br>\", \"<b>Santander</b><br>clientes: 666<br>lucro: 1<br>\", \"<b>Bradesco</b><br>clientes: 24433<br>lucro: 9877<br>\"], \"type\": \"scatter\", \"uid\": \"79134992-0224-458c-9153-173b6a84696c\", \"x\": [0.017986707083939974, -0.031378997071747614, 0.20673084879215523, 0.7484836294022099, -0.5677281869731314, -1.0, 0.8777984400987403, 0.17676247410387222, -0.42865491543603823], \"y\": [0.060388355310461085, -0.8938409642733167, -0.5097734394069257, -0.2228639282352423, 0.4424847469514578, 0.059590596885175685, 0.2900087436948295, 0.9865824931544667, -0.21257660408090445]}, {\"hoverinfo\": \"none\", \"line\": {\"color\": \"rgb(62, 15, 114)\", \"width\": 0.5}, \"mode\": \"lines\", \"type\": \"scatter\", \"uid\": \"0834d9d6-c545-4ccc-83bd-06e43776bd1d\", \"x\": [0.017986707083939974, -0.42865491543603823, null], \"y\": [0.060388355310461085, -0.21257660408090445, null]}, {\"hoverinfo\": \"none\", \"line\": {\"color\": \"rgb(2, 2, 15)\", \"width\": 0.5}, \"mode\": \"lines\", \"type\": \"scatter\", \"uid\": \"88a96394-79e8-4c89-9f47-3d42825b7e8d\", \"x\": [0.017986707083939974, -0.031378997071747614, null], \"y\": [0.060388355310461085, -0.8938409642733167, null]}, {\"hoverinfo\": \"none\", \"line\": {\"color\": \"rgb(20, 13, 53)\", \"width\": 0.5}, \"mode\": \"lines\", \"type\": \"scatter\", \"uid\": \"32eb2bd7-28e5-4204-844b-95ec5d8b657a\", \"x\": [0.017986707083939974, 0.20673084879215523, null], \"y\": [0.060388355310461085, -0.5097734394069257, null]}, {\"hoverinfo\": \"none\", \"line\": {\"color\": \"rgb(7, 5, 27)\", \"width\": 0.5}, \"mode\": \"lines\", \"type\": \"scatter\", \"uid\": \"7b8ea5c8-cfb6-47e6-bd23-3ed6e7b96034\", \"x\": [0.017986707083939974, 0.7484836294022099, null], \"y\": [0.060388355310461085, -0.2228639282352423, null]}, {\"hoverinfo\": \"none\", \"line\": {\"color\": \"rgb(0, 0, 3)\", \"width\": 0.5}, \"mode\": \"lines\", \"type\": \"scatter\", \"uid\": \"5b62f78f-fab9-4447-ab9d-7e23c0f6f926\", \"x\": [0.017986707083939974, -0.5677281869731314, null], \"y\": [0.060388355310461085, 0.4424847469514578, null]}, {\"hoverinfo\": \"none\", \"line\": {\"color\": \"rgb(0, 0, 3)\", \"width\": 0.5}, \"mode\": \"lines\", \"type\": \"scatter\", \"uid\": \"f7599801-2089-4845-ac25-682a839afbdf\", \"x\": [0.017986707083939974, -1.0, null], \"y\": [0.060388355310461085, 0.059590596885175685, null]}, {\"hoverinfo\": \"none\", \"line\": {\"color\": \"rgb(1, 1, 9)\", \"width\": 0.5}, \"mode\": \"lines\", \"type\": \"scatter\", \"uid\": \"394b93e6-364f-4655-bc42-4913cbdfc66f\", \"x\": [0.017986707083939974, 0.8777984400987403, null], \"y\": [0.060388355310461085, 0.2900087436948295, null]}, {\"hoverinfo\": \"none\", \"line\": {\"color\": \"rgb(0, 0, 4)\", \"width\": 0.5}, \"mode\": \"lines\", \"type\": \"scatter\", \"uid\": \"a697cdd7-2840-492e-b198-d5ec67fce2b1\", \"x\": [0.017986707083939974, 0.17676247410387222, null], \"y\": [0.060388355310461085, 0.9865824931544667, null]}, {\"hoverinfo\": \"none\", \"line\": {\"color\": \"rgb(0, 0, 3)\", \"width\": 0.5}, \"mode\": \"lines\", \"type\": \"scatter\", \"uid\": \"d44a35d0-0cf2-4d07-b6d8-bf2ad0c3d86f\", \"x\": [-0.031378997071747614, 0.20673084879215523, null], \"y\": [-0.8938409642733167, -0.5097734394069257, null]}, {\"hoverinfo\": \"none\", \"line\": {\"color\": \"rgb(251, 252, 191)\", \"width\": 0.5}, \"mode\": \"lines\", \"type\": \"scatter\", \"uid\": \"78e13bd5-fc99-4a6c-8104-b4b8f384e16c\", \"x\": [0.20673084879215523, 0.7484836294022099, null], \"y\": [-0.5097734394069257, -0.2228639282352423, null]}, {\"hoverinfo\": \"none\", \"line\": {\"color\": \"rgb(0, 0, 3)\", \"width\": 0.5}, \"mode\": \"lines\", \"type\": \"scatter\", \"uid\": \"455572cd-6b09-4df3-982a-415d3fa45988\", \"x\": [0.20673084879215523, -0.42865491543603823, null], \"y\": [-0.5097734394069257, -0.21257660408090445, null]}, {\"hoverinfo\": \"none\", \"line\": {\"color\": \"rgb(0, 0, 4)\", \"width\": 0.5}, \"mode\": \"lines\", \"type\": \"scatter\", \"uid\": \"c0a80cfe-c905-4e32-be06-8918b29cf893\", \"x\": [0.7484836294022099, 0.8777984400987403, null], \"y\": [-0.2228639282352423, 0.2900087436948295, null]}, {\"hoverinfo\": \"none\", \"line\": {\"color\": \"rgb(20, 13, 53)\", \"width\": 0.5}, \"mode\": \"lines\", \"type\": \"scatter\", \"uid\": \"96f24757-e88a-4fbd-bd79-89bde484dae9\", \"x\": [-0.5677281869731314, -0.42865491543603823, null], \"y\": [0.4424847469514578, -0.21257660408090445, null]}],\n",
       "                        {\"annotations\": [{\"ax\": 0, \"ay\": 20, \"showarrow\": false, \"text\": \"Next\", \"x\": -0.07794062036579767, \"xref\": \"x\", \"y\": 0.08400865934839395, \"yref\": \"y\"}, {\"ax\": 0, \"ay\": 20, \"showarrow\": false, \"text\": \"Inter\", \"x\": 0.16755109679910954, \"xref\": \"x\", \"y\": -0.7124805880127004, \"yref\": \"y\"}, {\"ax\": 0, \"ay\": 20, \"showarrow\": false, \"text\": \"Nubank\", \"x\": 0.35542628638900053, \"xref\": \"x\", \"y\": -0.1593764331265589, \"yref\": \"y\"}, {\"ax\": 0, \"ay\": 20, \"showarrow\": false, \"text\": \"BB\", \"x\": 0.07399957726090944, \"xref\": \"x\", \"y\": 0.5901688507468612, \"yref\": \"y\"}, {\"ax\": 0, \"ay\": 20, \"showarrow\": false, \"text\": \"Itau\", \"x\": 0.77542629911479, \"xref\": \"x\", \"y\": 0.5100745867956173, \"yref\": \"y\"}, {\"ax\": 0, \"ay\": 20, \"showarrow\": false, \"text\": \"XP Investimentos\", \"x\": -0.7498671157710024, \"xref\": \"x\", \"y\": -0.5625894493752092, \"yref\": \"y\"}, {\"ax\": 0, \"ay\": 20, \"showarrow\": false, \"text\": \"CEF\", \"x\": -0.34926639776433566, \"xref\": \"x\", \"y\": 0.9088546358082981, \"yref\": \"y\"}, {\"ax\": 0, \"ay\": 20, \"showarrow\": false, \"text\": \"Santander\", \"x\": -1.0, \"xref\": \"x\", \"y\": 0.23591815070210428, \"yref\": \"y\"}, {\"ax\": 0, \"ay\": 20, \"showarrow\": false, \"text\": \"Bradesco\", \"x\": 0.8046708743373262, \"xref\": \"x\", \"y\": 0.005421587113193613, \"yref\": \"y\"}, {\"ax\": 0, \"ay\": 20, \"showarrow\": false, \"text\": \"Next\", \"x\": 0.027599322652272246, \"xref\": \"x\", \"y\": 0.17122021801680232, \"yref\": \"y\"}, {\"ax\": 0, \"ay\": 20, \"showarrow\": false, \"text\": \"Inter\", \"x\": -0.4380898914758382, \"xref\": \"x\", \"y\": -0.7272252130986102, \"yref\": \"y\"}, {\"ax\": 0, \"ay\": 20, \"showarrow\": false, \"text\": \"Nubank\", \"x\": -0.14023262422260543, \"xref\": \"x\", \"y\": -0.42682123695587026, \"yref\": \"y\"}, {\"ax\": 0, \"ay\": 20, \"showarrow\": false, \"text\": \"BB\", \"x\": -0.6807676616014422, \"xref\": \"x\", \"y\": -0.0023142053987431077, \"yref\": \"y\"}, {\"ax\": 0, \"ay\": 20, \"showarrow\": false, \"text\": \"Itau\", \"x\": 0.8871747081900979, \"xref\": \"x\", \"y\": -0.0974366373103, \"yref\": \"y\"}, {\"ax\": 0, \"ay\": 20, \"showarrow\": false, \"text\": \"XP Investimentos\", \"x\": 0.7017914583912597, \"xref\": \"x\", \"y\": 0.8137879713892804, \"yref\": \"y\"}, {\"ax\": 0, \"ay\": 20, \"showarrow\": false, \"text\": \"CEF\", \"x\": -0.7921687458111087, \"xref\": \"x\", \"y\": 0.5260371691540026, \"yref\": \"y\"}, {\"ax\": 0, \"ay\": 20, \"showarrow\": false, \"text\": \"Santander\", \"x\": -0.06157902704649608, \"xref\": \"x\", \"y\": 1.1, \"yref\": \"y\"}, {\"ax\": 0, \"ay\": 20, \"showarrow\": false, \"text\": \"Bradesco\", \"x\": 0.4962724609238609, \"xref\": \"x\", \"y\": -0.4572480657965612, \"yref\": \"y\"}, {\"ax\": 0, \"ay\": 20, \"showarrow\": false, \"text\": \"Next\", \"x\": 0.053893161841936384, \"xref\": \"x\", \"y\": -0.0039813219145499595, \"yref\": \"y\"}, {\"ax\": 0, \"ay\": 20, \"showarrow\": false, \"text\": \"Inter\", \"x\": 0.3305844685708866, \"xref\": \"x\", \"y\": 0.8695990623622987, \"yref\": \"y\"}, {\"ax\": 0, \"ay\": 20, \"showarrow\": false, \"text\": \"Nubank\", \"x\": -0.30890715771997374, \"xref\": \"x\", \"y\": 0.44631259364758, \"yref\": \"y\"}, {\"ax\": 0, \"ay\": 20, \"showarrow\": false, \"text\": \"BB\", \"x\": -0.7169628674074314, \"xref\": \"x\", \"y\": -0.07349138789835355, \"yref\": \"y\"}, {\"ax\": 0, \"ay\": 20, \"showarrow\": false, \"text\": \"Itau\", \"x\": -0.21836631158065967, \"xref\": \"x\", \"y\": 0.9243084316084494, \"yref\": \"y\"}, {\"ax\": 0, \"ay\": 20, \"showarrow\": false, \"text\": \"XP Investimentos\", \"x\": 0.3205592503112819, \"xref\": \"x\", \"y\": -0.9, \"yref\": \"y\"}, {\"ax\": 0, \"ay\": 20, \"showarrow\": false, \"text\": \"CEF\", \"x\": -0.6166044693749136, \"xref\": \"x\", \"y\": -0.599700619632718, \"yref\": \"y\"}, {\"ax\": 0, \"ay\": 20, \"showarrow\": false, \"text\": \"Santander\", \"x\": 0.9467943557463921, \"xref\": \"x\", \"y\": -0.29289274834675794, \"yref\": \"y\"}, {\"ax\": 0, \"ay\": 20, \"showarrow\": false, \"text\": \"Bradesco\", \"x\": 0.20900956961248304, \"xref\": \"x\", \"y\": 0.5298459901740515, \"yref\": \"y\"}, {\"ax\": 0, \"ay\": 20, \"showarrow\": false, \"text\": \"Next\", \"x\": -0.07622456985739724, \"xref\": \"x\", \"y\": 0.11162757610121365, \"yref\": \"y\"}, {\"ax\": 0, \"ay\": 20, \"showarrow\": false, \"text\": \"Inter\", \"x\": 0.9442190406434189, \"xref\": \"x\", \"y\": -0.14771582536521938, \"yref\": \"y\"}, {\"ax\": 0, \"ay\": 20, \"showarrow\": false, \"text\": \"Nubank\", \"x\": 0.5846163053396138, \"xref\": \"x\", \"y\": 0.13685144783768355, \"yref\": \"y\"}, {\"ax\": 0, \"ay\": 20, \"showarrow\": false, \"text\": \"BB\", \"x\": 0.42172398397006405, \"xref\": \"x\", \"y\": 0.7677922054690745, \"yref\": \"y\"}, {\"ax\": 0, \"ay\": 20, \"showarrow\": false, \"text\": \"Itau\", \"x\": -0.18662423680383186, \"xref\": \"x\", \"y\": -0.8174454317145, \"yref\": \"y\"}, {\"ax\": 0, \"ay\": 20, \"showarrow\": false, \"text\": \"XP Investimentos\", \"x\": -0.9281765237746541, \"xref\": \"x\", \"y\": 0.596827665046292, \"yref\": \"y\"}, {\"ax\": 0, \"ay\": 20, \"showarrow\": false, \"text\": \"CEF\", \"x\": -0.06108388072598467, \"xref\": \"x\", \"y\": 1.0470660825874352, \"yref\": \"y\"}, {\"ax\": 0, \"ay\": 20, \"showarrow\": false, \"text\": \"Santander\", \"x\": -1.0, \"xref\": \"x\", \"y\": -0.2614185099780164, \"yref\": \"y\"}, {\"ax\": 0, \"ay\": 20, \"showarrow\": false, \"text\": \"Bradesco\", \"x\": 0.3015498812087702, \"xref\": \"x\", \"y\": -0.5335852099839625, \"yref\": \"y\"}, {\"ax\": 0, \"ay\": 20, \"showarrow\": false, \"text\": \"Next\", \"x\": -0.04746982233540919, \"xref\": \"x\", \"y\": 0.16708262125047796, \"yref\": \"y\"}, {\"ax\": 0, \"ay\": 20, \"showarrow\": false, \"text\": \"Inter\", \"x\": 0.4795986893681393, \"xref\": \"x\", \"y\": -0.7018917406008518, \"yref\": \"y\"}, {\"ax\": 0, \"ay\": 20, \"showarrow\": false, \"text\": \"Nubank\", \"x\": 0.3120553685378449, \"xref\": \"x\", \"y\": -0.31013411086985765, \"yref\": \"y\"}, {\"ax\": 0, \"ay\": 20, \"showarrow\": false, \"text\": \"BB\", \"x\": 0.727336123930898, \"xref\": \"x\", \"y\": 0.17588086874427544, \"yref\": \"y\"}, {\"ax\": 0, \"ay\": 20, \"showarrow\": false, \"text\": \"Itau\", \"x\": -0.8110060949001958, \"xref\": \"x\", \"y\": -0.41076957052461105, \"yref\": \"y\"}, {\"ax\": 0, \"ay\": 20, \"showarrow\": false, \"text\": \"XP Investimentos\", \"x\": -0.8549654105809381, \"xref\": \"x\", \"y\": 0.6383387832315883, \"yref\": \"y\"}, {\"ax\": 0, \"ay\": 20, \"showarrow\": false, \"text\": \"CEF\", \"x\": 0.6853381290976283, \"xref\": \"x\", \"y\": 0.7026825142865556, \"yref\": \"y\"}, {\"ax\": 0, \"ay\": 20, \"showarrow\": false, \"text\": \"Santander\", \"x\": -0.1608138287630817, \"xref\": \"x\", \"y\": 1.1, \"yref\": \"y\"}, {\"ax\": 0, \"ay\": 20, \"showarrow\": false, \"text\": \"Bradesco\", \"x\": -0.3300731543548858, \"xref\": \"x\", \"y\": -0.46118936551757717, \"yref\": \"y\"}, {\"ax\": 0, \"ay\": 20, \"showarrow\": false, \"text\": \"Next\", \"x\": 0.017986707083939974, \"xref\": \"x\", \"y\": 0.16038835531046108, \"yref\": \"y\"}, {\"ax\": 0, \"ay\": 20, \"showarrow\": false, \"text\": \"Inter\", \"x\": -0.031378997071747614, \"xref\": \"x\", \"y\": -0.7938409642733167, \"yref\": \"y\"}, {\"ax\": 0, \"ay\": 20, \"showarrow\": false, \"text\": \"Nubank\", \"x\": 0.20673084879215523, \"xref\": \"x\", \"y\": -0.4097734394069257, \"yref\": \"y\"}, {\"ax\": 0, \"ay\": 20, \"showarrow\": false, \"text\": \"BB\", \"x\": 0.7484836294022099, \"xref\": \"x\", \"y\": -0.12286392823524228, \"yref\": \"y\"}, {\"ax\": 0, \"ay\": 20, \"showarrow\": false, \"text\": \"Itau\", \"x\": -0.5677281869731314, \"xref\": \"x\", \"y\": 0.5424847469514578, \"yref\": \"y\"}, {\"ax\": 0, \"ay\": 20, \"showarrow\": false, \"text\": \"XP Investimentos\", \"x\": -1.0, \"xref\": \"x\", \"y\": 0.15959059688517568, \"yref\": \"y\"}, {\"ax\": 0, \"ay\": 20, \"showarrow\": false, \"text\": \"CEF\", \"x\": 0.8777984400987403, \"xref\": \"x\", \"y\": 0.3900087436948295, \"yref\": \"y\"}, {\"ax\": 0, \"ay\": 20, \"showarrow\": false, \"text\": \"Santander\", \"x\": 0.17676247410387222, \"xref\": \"x\", \"y\": 1.0865824931544668, \"yref\": \"y\"}, {\"ax\": 0, \"ay\": 20, \"showarrow\": false, \"text\": \"Bradesco\", \"x\": -0.42865491543603823, \"xref\": \"x\", \"y\": -0.11257660408090445, \"yref\": \"y\"}], \"hovermode\": \"closest\", \"margin\": {\"b\": 20, \"l\": 5, \"r\": 5, \"t\": 40}, \"scene\": {\"xaxis\": {\"showbackground\": false, \"showgrid\": false, \"showline\": false, \"showticklabels\": false, \"title\": {\"text\": \"\"}, \"zeroline\": false}, \"yaxis\": {\"showgrid\": false, \"showticklabels\": false, \"zeroline\": false}, \"zaxis\": {\"showgrid\": false, \"showticklabels\": false, \"zeroline\": false}}, \"showlegend\": false, \"title\": {\"font\": {\"size\": 16}, \"text\": \"coco\"}},\n",
       "                        {\"showLink\": false, \"linkText\": \"Export to plot.ly\", \"plotlyServerURL\": \"https://plot.ly\", \"responsive\": true}\n",
       "                    ).then(function(){\n",
       "                            \n",
       "var gd = document.getElementById('76634816-1568-47e8-869e-38cbd475a3f8');\n",
       "var x = new MutationObserver(function (mutations, observer) {{\n",
       "        var display = window.getComputedStyle(gd).display;\n",
       "        if (!display || display === 'none') {{\n",
       "            console.log([gd, 'removed!']);\n",
       "            Plotly.purge(gd);\n",
       "            observer.disconnect();\n",
       "        }}\n",
       "}});\n",
       "\n",
       "// Listen for the removal of the full notebook cells\n",
       "var notebookContainer = gd.closest('#notebook-container');\n",
       "if (notebookContainer) {{\n",
       "    x.observe(notebookContainer, {childList: true});\n",
       "}}\n",
       "\n",
       "// Listen for the clearing of the current output cell\n",
       "var outputEl = gd.closest('.output');\n",
       "if (outputEl) {{\n",
       "    x.observe(outputEl, {childList: true});\n",
       "}}\n",
       "\n",
       "                        })\n",
       "                };\n",
       "                });\n",
       "            </script>\n",
       "        </div>"
      ]
     },
     "metadata": {},
     "output_type": "display_data"
    }
   ],
   "source": [
    "mygraph.plot(title='coco', node_size_col='clientes', node_color_col='clientes', edge_color_col='enviado')"
   ]
  },
  {
   "cell_type": "code",
   "execution_count": 20,
   "metadata": {},
   "outputs": [
    {
     "data": {
      "application/vnd.plotly.v1+json": {
       "config": {
        "linkText": "Export to plot.ly",
        "plotlyServerURL": "https://plot.ly",
        "responsive": true,
        "showLink": false
       },
       "data": [
        {
         "hoverinfo": "text",
         "marker": {
          "cmax": 234243,
          "cmin": 1,
          "color": [
           "rgb(0, 0, 6)",
           "rgb(35, 17, 82)",
           "rgb(251, 252, 191)",
           "rgb(20, 13, 53)",
           "rgb(0, 0, 3)",
           "rgb(0, 0, 3)",
           "rgb(251, 247, 185)",
           "rgb(0, 0, 3)",
           "rgb(21, 14, 56)"
          ],
          "colorbar": {
           "thickness": 15,
           "title": {
            "side": "right",
            "text": "coco"
           },
           "xanchor": "left"
          },
          "colorscale": "Viridis",
          "line": {
           "width": 2
          },
          "reversescale": true,
          "showscale": false,
          "size": [
           2000,
           35000,
           234243,
           23443,
           2,
           1,
           232323,
           666,
           24433
          ],
          "sizemin": 6,
          "sizemode": "area",
          "sizeref": 187.3944
         },
         "mode": "markers",
         "text": [
          "<b>Next</b><br>clientes: 2000<br>lucro: 234<br>",
          "<b>Inter</b><br>clientes: 35000<br>lucro: 1111<br>",
          "<b>Nubank</b><br>clientes: 234243<br>lucro: 2234<br>",
          "<b>BB</b><br>clientes: 23443<br>lucro: 2344<br>",
          "<b>Itau</b><br>clientes: 2<br>lucro: 444<br>",
          "<b>XP Investimentos</b><br>clientes: 1<br>lucro: 222<br>",
          "<b>CEF</b><br>clientes: 232323<br>lucro: 1<br>",
          "<b>Santander</b><br>clientes: 666<br>lucro: 1<br>",
          "<b>Bradesco</b><br>clientes: 24433<br>lucro: 9877<br>"
         ],
         "type": "scatter",
         "uid": "cae08fb9-383e-4b71-9c02-cc0a3a423dc7",
         "x": [
          0.08235608315242696,
          -0.2918315300282676,
          -0.3347688176584315,
          -0.7465722229721834,
          0.5516264789518077,
          0.5730149796755968,
          -0.8721861034914261,
          1,
          0.038361132370477356
         ],
         "y": [
          -0.03549684501275656,
          -0.6074776334689693,
          0.09298490057126321,
          0.3002037428109966,
          0.7168489575881907,
          -0.8248019231412748,
          -0.18896651055935496,
          -0.10613271634849077,
          0.652838027560396
         ]
        },
        {
         "hoverinfo": "none",
         "line": {
          "color": "black",
          "width": 1.5433867374352925
         },
         "mode": "lines",
         "type": "scatter",
         "uid": "8824e55d-4285-47b4-8927-75c3915ef768",
         "x": [
          0.08235608315242696,
          0.038361132370477356,
          null
         ],
         "y": [
          -0.03549684501275656,
          0.652838027560396,
          null
         ]
        },
        {
         "hoverinfo": "none",
         "line": {
          "color": "black",
          "width": 0.6423972872026735
         },
         "mode": "lines",
         "type": "scatter",
         "uid": "694f7c77-5af0-463c-8589-4d1528d5acd1",
         "x": [
          0.08235608315242696,
          -0.2918315300282676,
          null
         ],
         "y": [
          -0.03549684501275656,
          -0.6074776334689693,
          null
         ]
        },
        {
         "hoverinfo": "none",
         "line": {
          "color": "black",
          "width": 1.004636000262106
         },
         "mode": "lines",
         "type": "scatter",
         "uid": "7ba9f8e2-d741-4967-a3d8-acb5b35aa30e",
         "x": [
          0.08235608315242696,
          -0.3347688176584315,
          null
         ],
         "y": [
          -0.03549684501275656,
          0.09298490057126321,
          null
         ]
        },
        {
         "hoverinfo": "none",
         "line": {
          "color": "black",
          "width": 0.771975951772492
         },
         "mode": "lines",
         "type": "scatter",
         "uid": "ddbf2e52-05a9-4230-b1c4-af650f361d7b",
         "x": [
          0.08235608315242696,
          -0.7465722229721834,
          null
         ],
         "y": [
          -0.03549684501275656,
          0.3002037428109966,
          null
         ]
        },
        {
         "hoverinfo": "none",
         "line": {
          "color": "black",
          "width": 0.5081498591180132
         },
         "mode": "lines",
         "type": "scatter",
         "uid": "d411a1dd-eba7-43ec-911d-1af75bb054eb",
         "x": [
          0.08235608315242696,
          0.5516264789518077,
          null
         ],
         "y": [
          -0.03549684501275656,
          0.7168489575881907,
          null
         ]
        },
        {
         "hoverinfo": "none",
         "line": {
          "color": "black",
          "width": 0.5036039578009305
         },
         "mode": "lines",
         "type": "scatter",
         "uid": "946382da-24bd-4972-89d7-78093ce09401",
         "x": [
          0.08235608315242696,
          0.5730149796755968,
          null
         ],
         "y": [
          -0.03549684501275656,
          -0.8248019231412748,
          null
         ]
        },
        {
         "hoverinfo": "none",
         "line": {
          "color": "black",
          "width": 0.5941943516152284
         },
         "mode": "lines",
         "type": "scatter",
         "uid": "cde4261d-25f8-4adf-8a9e-3a9a9d482a3e",
         "x": [
          0.08235608315242696,
          -0.8721861034914261,
          null
         ],
         "y": [
          -0.03549684501275656,
          -0.18896651055935496,
          null
         ]
        },
        {
         "hoverinfo": "none",
         "line": {
          "color": "black",
          "width": 0.5263334643863443
         },
         "mode": "lines",
         "type": "scatter",
         "uid": "2eccc640-4136-443d-8f46-5f7b9b556ad0",
         "x": [
          0.08235608315242696,
          1,
          null
         ],
         "y": [
          -0.03549684501275656,
          -0.10613271634849077,
          null
         ]
        },
        {
         "hoverinfo": "none",
         "line": {
          "color": "black",
          "width": 0.5043411309874845
         },
         "mode": "lines",
         "type": "scatter",
         "uid": "22638fae-a50e-47c2-a735-8ff7c730f4d7",
         "x": [
          -0.2918315300282676,
          -0.3347688176584315,
          null
         ],
         "y": [
          -0.6074776334689693,
          0.09298490057126321,
          null
         ]
        },
        {
         "hoverinfo": "none",
         "line": {
          "color": "black",
          "width": 5.5
         },
         "mode": "lines",
         "type": "scatter",
         "uid": "92d47dcc-d242-40e1-9a88-54e0a826c79d",
         "x": [
          -0.3347688176584315,
          -0.7465722229721834,
          null
         ],
         "y": [
          0.09298490057126321,
          0.3002037428109966,
          null
         ]
        },
        {
         "hoverinfo": "none",
         "line": {
          "color": "black",
          "width": 0.5
         },
         "mode": "lines",
         "type": "scatter",
         "uid": "010e8213-0de9-443a-a974-2081167bb734",
         "x": [
          -0.3347688176584315,
          0.038361132370477356,
          null
         ],
         "y": [
          0.09298490057126321,
          0.652838027560396,
          null
         ]
        },
        {
         "hoverinfo": "none",
         "line": {
          "color": "black",
          "width": 0.5354252670205097
         },
         "mode": "lines",
         "type": "scatter",
         "uid": "cd568d96-d444-4b72-9a47-dfbc47be4535",
         "x": [
          -0.7465722229721834,
          -0.8721861034914261,
          null
         ],
         "y": [
          0.3002037428109966,
          -0.18896651055935496,
          null
         ]
        },
        {
         "hoverinfo": "none",
         "line": {
          "color": "black",
          "width": 0.9950937029028242
         },
         "mode": "lines",
         "type": "scatter",
         "uid": "90cb9973-f2cc-413a-b92f-ede18ed23925",
         "x": [
          0.5516264789518077,
          0.038361132370477356,
          null
         ],
         "y": [
          0.7168489575881907,
          0.652838027560396,
          null
         ]
        }
       ],
       "layout": {
        "annotations": [
         {
          "ax": 0,
          "ay": 20,
          "showarrow": false,
          "text": "Next",
          "x": -0.07794062036579767,
          "xref": "x",
          "y": 0.08400865934839395,
          "yref": "y"
         },
         {
          "ax": 0,
          "ay": 20,
          "showarrow": false,
          "text": "Inter",
          "x": 0.16755109679910954,
          "xref": "x",
          "y": -0.7124805880127004,
          "yref": "y"
         },
         {
          "ax": 0,
          "ay": 20,
          "showarrow": false,
          "text": "Nubank",
          "x": 0.35542628638900053,
          "xref": "x",
          "y": -0.1593764331265589,
          "yref": "y"
         },
         {
          "ax": 0,
          "ay": 20,
          "showarrow": false,
          "text": "BB",
          "x": 0.07399957726090944,
          "xref": "x",
          "y": 0.5901688507468612,
          "yref": "y"
         },
         {
          "ax": 0,
          "ay": 20,
          "showarrow": false,
          "text": "Itau",
          "x": 0.77542629911479,
          "xref": "x",
          "y": 0.5100745867956173,
          "yref": "y"
         },
         {
          "ax": 0,
          "ay": 20,
          "showarrow": false,
          "text": "XP Investimentos",
          "x": -0.7498671157710024,
          "xref": "x",
          "y": -0.5625894493752092,
          "yref": "y"
         },
         {
          "ax": 0,
          "ay": 20,
          "showarrow": false,
          "text": "CEF",
          "x": -0.34926639776433566,
          "xref": "x",
          "y": 0.9088546358082981,
          "yref": "y"
         },
         {
          "ax": 0,
          "ay": 20,
          "showarrow": false,
          "text": "Santander",
          "x": -1,
          "xref": "x",
          "y": 0.23591815070210428,
          "yref": "y"
         },
         {
          "ax": 0,
          "ay": 20,
          "showarrow": false,
          "text": "Bradesco",
          "x": 0.8046708743373262,
          "xref": "x",
          "y": 0.005421587113193613,
          "yref": "y"
         },
         {
          "ax": 0,
          "ay": 20,
          "showarrow": false,
          "text": "Next",
          "x": 0.027599322652272246,
          "xref": "x",
          "y": 0.17122021801680232,
          "yref": "y"
         },
         {
          "ax": 0,
          "ay": 20,
          "showarrow": false,
          "text": "Inter",
          "x": -0.4380898914758382,
          "xref": "x",
          "y": -0.7272252130986102,
          "yref": "y"
         },
         {
          "ax": 0,
          "ay": 20,
          "showarrow": false,
          "text": "Nubank",
          "x": -0.14023262422260543,
          "xref": "x",
          "y": -0.42682123695587026,
          "yref": "y"
         },
         {
          "ax": 0,
          "ay": 20,
          "showarrow": false,
          "text": "BB",
          "x": -0.6807676616014422,
          "xref": "x",
          "y": -0.0023142053987431077,
          "yref": "y"
         },
         {
          "ax": 0,
          "ay": 20,
          "showarrow": false,
          "text": "Itau",
          "x": 0.8871747081900979,
          "xref": "x",
          "y": -0.0974366373103,
          "yref": "y"
         },
         {
          "ax": 0,
          "ay": 20,
          "showarrow": false,
          "text": "XP Investimentos",
          "x": 0.7017914583912597,
          "xref": "x",
          "y": 0.8137879713892804,
          "yref": "y"
         },
         {
          "ax": 0,
          "ay": 20,
          "showarrow": false,
          "text": "CEF",
          "x": -0.7921687458111087,
          "xref": "x",
          "y": 0.5260371691540026,
          "yref": "y"
         },
         {
          "ax": 0,
          "ay": 20,
          "showarrow": false,
          "text": "Santander",
          "x": -0.06157902704649608,
          "xref": "x",
          "y": 1.1,
          "yref": "y"
         },
         {
          "ax": 0,
          "ay": 20,
          "showarrow": false,
          "text": "Bradesco",
          "x": 0.4962724609238609,
          "xref": "x",
          "y": -0.4572480657965612,
          "yref": "y"
         },
         {
          "ax": 0,
          "ay": 20,
          "showarrow": false,
          "text": "Next",
          "x": 0.053893161841936384,
          "xref": "x",
          "y": -0.0039813219145499595,
          "yref": "y"
         },
         {
          "ax": 0,
          "ay": 20,
          "showarrow": false,
          "text": "Inter",
          "x": 0.3305844685708866,
          "xref": "x",
          "y": 0.8695990623622987,
          "yref": "y"
         },
         {
          "ax": 0,
          "ay": 20,
          "showarrow": false,
          "text": "Nubank",
          "x": -0.30890715771997374,
          "xref": "x",
          "y": 0.44631259364758,
          "yref": "y"
         },
         {
          "ax": 0,
          "ay": 20,
          "showarrow": false,
          "text": "BB",
          "x": -0.7169628674074314,
          "xref": "x",
          "y": -0.07349138789835355,
          "yref": "y"
         },
         {
          "ax": 0,
          "ay": 20,
          "showarrow": false,
          "text": "Itau",
          "x": -0.21836631158065967,
          "xref": "x",
          "y": 0.9243084316084494,
          "yref": "y"
         },
         {
          "ax": 0,
          "ay": 20,
          "showarrow": false,
          "text": "XP Investimentos",
          "x": 0.3205592503112819,
          "xref": "x",
          "y": -0.9,
          "yref": "y"
         },
         {
          "ax": 0,
          "ay": 20,
          "showarrow": false,
          "text": "CEF",
          "x": -0.6166044693749136,
          "xref": "x",
          "y": -0.599700619632718,
          "yref": "y"
         },
         {
          "ax": 0,
          "ay": 20,
          "showarrow": false,
          "text": "Santander",
          "x": 0.9467943557463921,
          "xref": "x",
          "y": -0.29289274834675794,
          "yref": "y"
         },
         {
          "ax": 0,
          "ay": 20,
          "showarrow": false,
          "text": "Bradesco",
          "x": 0.20900956961248304,
          "xref": "x",
          "y": 0.5298459901740515,
          "yref": "y"
         },
         {
          "ax": 0,
          "ay": 20,
          "showarrow": false,
          "text": "Next",
          "x": -0.07622456985739724,
          "xref": "x",
          "y": 0.11162757610121365,
          "yref": "y"
         },
         {
          "ax": 0,
          "ay": 20,
          "showarrow": false,
          "text": "Inter",
          "x": 0.9442190406434189,
          "xref": "x",
          "y": -0.14771582536521938,
          "yref": "y"
         },
         {
          "ax": 0,
          "ay": 20,
          "showarrow": false,
          "text": "Nubank",
          "x": 0.5846163053396138,
          "xref": "x",
          "y": 0.13685144783768355,
          "yref": "y"
         },
         {
          "ax": 0,
          "ay": 20,
          "showarrow": false,
          "text": "BB",
          "x": 0.42172398397006405,
          "xref": "x",
          "y": 0.7677922054690745,
          "yref": "y"
         },
         {
          "ax": 0,
          "ay": 20,
          "showarrow": false,
          "text": "Itau",
          "x": -0.18662423680383186,
          "xref": "x",
          "y": -0.8174454317145,
          "yref": "y"
         },
         {
          "ax": 0,
          "ay": 20,
          "showarrow": false,
          "text": "XP Investimentos",
          "x": -0.9281765237746541,
          "xref": "x",
          "y": 0.596827665046292,
          "yref": "y"
         },
         {
          "ax": 0,
          "ay": 20,
          "showarrow": false,
          "text": "CEF",
          "x": -0.06108388072598467,
          "xref": "x",
          "y": 1.0470660825874352,
          "yref": "y"
         },
         {
          "ax": 0,
          "ay": 20,
          "showarrow": false,
          "text": "Santander",
          "x": -1,
          "xref": "x",
          "y": -0.2614185099780164,
          "yref": "y"
         },
         {
          "ax": 0,
          "ay": 20,
          "showarrow": false,
          "text": "Bradesco",
          "x": 0.3015498812087702,
          "xref": "x",
          "y": -0.5335852099839625,
          "yref": "y"
         },
         {
          "ax": 0,
          "ay": 20,
          "showarrow": false,
          "text": "Next",
          "x": -0.04746982233540919,
          "xref": "x",
          "y": 0.16708262125047796,
          "yref": "y"
         },
         {
          "ax": 0,
          "ay": 20,
          "showarrow": false,
          "text": "Inter",
          "x": 0.4795986893681393,
          "xref": "x",
          "y": -0.7018917406008518,
          "yref": "y"
         },
         {
          "ax": 0,
          "ay": 20,
          "showarrow": false,
          "text": "Nubank",
          "x": 0.3120553685378449,
          "xref": "x",
          "y": -0.31013411086985765,
          "yref": "y"
         },
         {
          "ax": 0,
          "ay": 20,
          "showarrow": false,
          "text": "BB",
          "x": 0.727336123930898,
          "xref": "x",
          "y": 0.17588086874427544,
          "yref": "y"
         },
         {
          "ax": 0,
          "ay": 20,
          "showarrow": false,
          "text": "Itau",
          "x": -0.8110060949001958,
          "xref": "x",
          "y": -0.41076957052461105,
          "yref": "y"
         },
         {
          "ax": 0,
          "ay": 20,
          "showarrow": false,
          "text": "XP Investimentos",
          "x": -0.8549654105809381,
          "xref": "x",
          "y": 0.6383387832315883,
          "yref": "y"
         },
         {
          "ax": 0,
          "ay": 20,
          "showarrow": false,
          "text": "CEF",
          "x": 0.6853381290976283,
          "xref": "x",
          "y": 0.7026825142865556,
          "yref": "y"
         },
         {
          "ax": 0,
          "ay": 20,
          "showarrow": false,
          "text": "Santander",
          "x": -0.1608138287630817,
          "xref": "x",
          "y": 1.1,
          "yref": "y"
         },
         {
          "ax": 0,
          "ay": 20,
          "showarrow": false,
          "text": "Bradesco",
          "x": -0.3300731543548858,
          "xref": "x",
          "y": -0.46118936551757717,
          "yref": "y"
         },
         {
          "ax": 0,
          "ay": 20,
          "showarrow": false,
          "text": "Next",
          "x": 0.017986707083939974,
          "xref": "x",
          "y": 0.16038835531046108,
          "yref": "y"
         },
         {
          "ax": 0,
          "ay": 20,
          "showarrow": false,
          "text": "Inter",
          "x": -0.031378997071747614,
          "xref": "x",
          "y": -0.7938409642733167,
          "yref": "y"
         },
         {
          "ax": 0,
          "ay": 20,
          "showarrow": false,
          "text": "Nubank",
          "x": 0.20673084879215523,
          "xref": "x",
          "y": -0.4097734394069257,
          "yref": "y"
         },
         {
          "ax": 0,
          "ay": 20,
          "showarrow": false,
          "text": "BB",
          "x": 0.7484836294022099,
          "xref": "x",
          "y": -0.12286392823524228,
          "yref": "y"
         },
         {
          "ax": 0,
          "ay": 20,
          "showarrow": false,
          "text": "Itau",
          "x": -0.5677281869731314,
          "xref": "x",
          "y": 0.5424847469514578,
          "yref": "y"
         },
         {
          "ax": 0,
          "ay": 20,
          "showarrow": false,
          "text": "XP Investimentos",
          "x": -1,
          "xref": "x",
          "y": 0.15959059688517568,
          "yref": "y"
         },
         {
          "ax": 0,
          "ay": 20,
          "showarrow": false,
          "text": "CEF",
          "x": 0.8777984400987403,
          "xref": "x",
          "y": 0.3900087436948295,
          "yref": "y"
         },
         {
          "ax": 0,
          "ay": 20,
          "showarrow": false,
          "text": "Santander",
          "x": 0.17676247410387222,
          "xref": "x",
          "y": 1.0865824931544668,
          "yref": "y"
         },
         {
          "ax": 0,
          "ay": 20,
          "showarrow": false,
          "text": "Bradesco",
          "x": -0.42865491543603823,
          "xref": "x",
          "y": -0.11257660408090445,
          "yref": "y"
         },
         {
          "ax": 0,
          "ay": 20,
          "showarrow": false,
          "text": "Next",
          "x": 0.08235608315242696,
          "xref": "x",
          "y": 0.06450315498724345,
          "yref": "y"
         },
         {
          "ax": 0,
          "ay": 20,
          "showarrow": false,
          "text": "Inter",
          "x": -0.2918315300282676,
          "xref": "x",
          "y": -0.5074776334689693,
          "yref": "y"
         },
         {
          "ax": 0,
          "ay": 20,
          "showarrow": false,
          "text": "Nubank",
          "x": -0.3347688176584315,
          "xref": "x",
          "y": 0.19298490057126322,
          "yref": "y"
         },
         {
          "ax": 0,
          "ay": 20,
          "showarrow": false,
          "text": "BB",
          "x": -0.7465722229721834,
          "xref": "x",
          "y": 0.4002037428109966,
          "yref": "y"
         },
         {
          "ax": 0,
          "ay": 20,
          "showarrow": false,
          "text": "Itau",
          "x": 0.5516264789518077,
          "xref": "x",
          "y": 0.8168489575881906,
          "yref": "y"
         },
         {
          "ax": 0,
          "ay": 20,
          "showarrow": false,
          "text": "XP Investimentos",
          "x": 0.5730149796755968,
          "xref": "x",
          "y": -0.7248019231412748,
          "yref": "y"
         },
         {
          "ax": 0,
          "ay": 20,
          "showarrow": false,
          "text": "CEF",
          "x": -0.8721861034914261,
          "xref": "x",
          "y": -0.08896651055935495,
          "yref": "y"
         },
         {
          "ax": 0,
          "ay": 20,
          "showarrow": false,
          "text": "Santander",
          "x": 1,
          "xref": "x",
          "y": -0.00613271634849076,
          "yref": "y"
         },
         {
          "ax": 0,
          "ay": 20,
          "showarrow": false,
          "text": "Bradesco",
          "x": 0.038361132370477356,
          "xref": "x",
          "y": 0.752838027560396,
          "yref": "y"
         }
        ],
        "hovermode": "closest",
        "margin": {
         "b": 20,
         "l": 5,
         "r": 5,
         "t": 40
        },
        "scene": {
         "xaxis": {
          "showbackground": false,
          "showgrid": false,
          "showline": false,
          "showticklabels": false,
          "title": {
           "text": ""
          },
          "zeroline": false
         },
         "yaxis": {
          "showgrid": false,
          "showticklabels": false,
          "zeroline": false
         },
         "zaxis": {
          "showgrid": false,
          "showticklabels": false,
          "zeroline": false
         }
        },
        "showlegend": false,
        "title": {
         "font": {
          "size": 16
         },
         "text": "coco"
        }
       }
      },
      "text/html": [
       "<div>\n",
       "        \n",
       "        \n",
       "            <div id=\"6caf8a0a-563f-4ef4-b4a1-e4cbeca6468b\" class=\"plotly-graph-div\" style=\"height:525px; width:100%;\"></div>\n",
       "            <script type=\"text/javascript\">\n",
       "                require([\"plotly\"], function(Plotly) {\n",
       "                    window.PLOTLYENV=window.PLOTLYENV || {};\n",
       "                    window.PLOTLYENV.BASE_URL='https://plot.ly';\n",
       "                    \n",
       "                if (document.getElementById(\"6caf8a0a-563f-4ef4-b4a1-e4cbeca6468b\")) {\n",
       "                    Plotly.newPlot(\n",
       "                        '6caf8a0a-563f-4ef4-b4a1-e4cbeca6468b',\n",
       "                        [{\"hoverinfo\": \"text\", \"marker\": {\"cmax\": 234243, \"cmin\": 1, \"color\": [\"rgb(0, 0, 6)\", \"rgb(35, 17, 82)\", \"rgb(251, 252, 191)\", \"rgb(20, 13, 53)\", \"rgb(0, 0, 3)\", \"rgb(0, 0, 3)\", \"rgb(251, 247, 185)\", \"rgb(0, 0, 3)\", \"rgb(21, 14, 56)\"], \"colorbar\": {\"thickness\": 15, \"title\": {\"side\": \"right\", \"text\": \"coco\"}, \"xanchor\": \"left\"}, \"colorscale\": \"Viridis\", \"line\": {\"width\": 2}, \"reversescale\": true, \"showscale\": false, \"size\": [2000, 35000, 234243, 23443, 2, 1, 232323, 666, 24433], \"sizemin\": 6, \"sizemode\": \"area\", \"sizeref\": 187.3944}, \"mode\": \"markers\", \"text\": [\"<b>Next</b><br>clientes: 2000<br>lucro: 234<br>\", \"<b>Inter</b><br>clientes: 35000<br>lucro: 1111<br>\", \"<b>Nubank</b><br>clientes: 234243<br>lucro: 2234<br>\", \"<b>BB</b><br>clientes: 23443<br>lucro: 2344<br>\", \"<b>Itau</b><br>clientes: 2<br>lucro: 444<br>\", \"<b>XP Investimentos</b><br>clientes: 1<br>lucro: 222<br>\", \"<b>CEF</b><br>clientes: 232323<br>lucro: 1<br>\", \"<b>Santander</b><br>clientes: 666<br>lucro: 1<br>\", \"<b>Bradesco</b><br>clientes: 24433<br>lucro: 9877<br>\"], \"type\": \"scatter\", \"uid\": \"2eb20050-1184-493c-b2e3-e3d2c2dd6dc6\", \"x\": [0.08235608315242696, -0.2918315300282676, -0.3347688176584315, -0.7465722229721834, 0.5516264789518077, 0.5730149796755968, -0.8721861034914261, 1.0, 0.038361132370477356], \"y\": [-0.03549684501275656, -0.6074776334689693, 0.09298490057126321, 0.3002037428109966, 0.7168489575881907, -0.8248019231412748, -0.18896651055935496, -0.10613271634849077, 0.652838027560396]}, {\"hoverinfo\": \"none\", \"line\": {\"color\": \"black\", \"width\": 1.5433867374352925}, \"mode\": \"lines\", \"type\": \"scatter\", \"uid\": \"2fcbafe9-1d97-4efd-8826-dd4bae0b4d29\", \"x\": [0.08235608315242696, 0.038361132370477356, null], \"y\": [-0.03549684501275656, 0.652838027560396, null]}, {\"hoverinfo\": \"none\", \"line\": {\"color\": \"black\", \"width\": 0.6423972872026735}, \"mode\": \"lines\", \"type\": \"scatter\", \"uid\": \"2e91d646-f859-45dd-955c-921f4a0176e0\", \"x\": [0.08235608315242696, -0.2918315300282676, null], \"y\": [-0.03549684501275656, -0.6074776334689693, null]}, {\"hoverinfo\": \"none\", \"line\": {\"color\": \"black\", \"width\": 1.004636000262106}, \"mode\": \"lines\", \"type\": \"scatter\", \"uid\": \"0930c18e-53b7-4876-aa0b-c3172a0d590b\", \"x\": [0.08235608315242696, -0.3347688176584315, null], \"y\": [-0.03549684501275656, 0.09298490057126321, null]}, {\"hoverinfo\": \"none\", \"line\": {\"color\": \"black\", \"width\": 0.771975951772492}, \"mode\": \"lines\", \"type\": \"scatter\", \"uid\": \"8fa89de1-39d8-4b52-8768-bfec09ec1e64\", \"x\": [0.08235608315242696, -0.7465722229721834, null], \"y\": [-0.03549684501275656, 0.3002037428109966, null]}, {\"hoverinfo\": \"none\", \"line\": {\"color\": \"black\", \"width\": 0.5081498591180132}, \"mode\": \"lines\", \"type\": \"scatter\", \"uid\": \"d40f29e9-487c-40bf-be77-ba361afd7bb3\", \"x\": [0.08235608315242696, 0.5516264789518077, null], \"y\": [-0.03549684501275656, 0.7168489575881907, null]}, {\"hoverinfo\": \"none\", \"line\": {\"color\": \"black\", \"width\": 0.5036039578009305}, \"mode\": \"lines\", \"type\": \"scatter\", \"uid\": \"acfc8ab9-b562-46b5-83e9-7862b8ec5ee7\", \"x\": [0.08235608315242696, 0.5730149796755968, null], \"y\": [-0.03549684501275656, -0.8248019231412748, null]}, {\"hoverinfo\": \"none\", \"line\": {\"color\": \"black\", \"width\": 0.5941943516152284}, \"mode\": \"lines\", \"type\": \"scatter\", \"uid\": \"ea1b1a4f-b075-40df-b6b8-71487c5f45cb\", \"x\": [0.08235608315242696, -0.8721861034914261, null], \"y\": [-0.03549684501275656, -0.18896651055935496, null]}, {\"hoverinfo\": \"none\", \"line\": {\"color\": \"black\", \"width\": 0.5263334643863443}, \"mode\": \"lines\", \"type\": \"scatter\", \"uid\": \"d5a5fd9b-b1ae-47b4-94a5-343bc0dde2e0\", \"x\": [0.08235608315242696, 1.0, null], \"y\": [-0.03549684501275656, -0.10613271634849077, null]}, {\"hoverinfo\": \"none\", \"line\": {\"color\": \"black\", \"width\": 0.5043411309874845}, \"mode\": \"lines\", \"type\": \"scatter\", \"uid\": \"e0c87b1f-6eb8-4e18-8d6f-9bbb6bd56fc1\", \"x\": [-0.2918315300282676, -0.3347688176584315, null], \"y\": [-0.6074776334689693, 0.09298490057126321, null]}, {\"hoverinfo\": \"none\", \"line\": {\"color\": \"black\", \"width\": 5.5}, \"mode\": \"lines\", \"type\": \"scatter\", \"uid\": \"07b60bad-aa2c-4a00-b3ca-043e3a64fc41\", \"x\": [-0.3347688176584315, -0.7465722229721834, null], \"y\": [0.09298490057126321, 0.3002037428109966, null]}, {\"hoverinfo\": \"none\", \"line\": {\"color\": \"black\", \"width\": 0.5}, \"mode\": \"lines\", \"type\": \"scatter\", \"uid\": \"bbcab266-8f72-4632-98cc-f38433ccc55b\", \"x\": [-0.3347688176584315, 0.038361132370477356, null], \"y\": [0.09298490057126321, 0.652838027560396, null]}, {\"hoverinfo\": \"none\", \"line\": {\"color\": \"black\", \"width\": 0.5354252670205097}, \"mode\": \"lines\", \"type\": \"scatter\", \"uid\": \"84573635-84ab-40ab-874b-9c4b6b1da849\", \"x\": [-0.7465722229721834, -0.8721861034914261, null], \"y\": [0.3002037428109966, -0.18896651055935496, null]}, {\"hoverinfo\": \"none\", \"line\": {\"color\": \"black\", \"width\": 0.9950937029028242}, \"mode\": \"lines\", \"type\": \"scatter\", \"uid\": \"ee5e9107-fd68-4f0a-9980-4552d2193e5f\", \"x\": [0.5516264789518077, 0.038361132370477356, null], \"y\": [0.7168489575881907, 0.652838027560396, null]}],\n",
       "                        {\"annotations\": [{\"ax\": 0, \"ay\": 20, \"showarrow\": false, \"text\": \"Next\", \"x\": -0.07794062036579767, \"xref\": \"x\", \"y\": 0.08400865934839395, \"yref\": \"y\"}, {\"ax\": 0, \"ay\": 20, \"showarrow\": false, \"text\": \"Inter\", \"x\": 0.16755109679910954, \"xref\": \"x\", \"y\": -0.7124805880127004, \"yref\": \"y\"}, {\"ax\": 0, \"ay\": 20, \"showarrow\": false, \"text\": \"Nubank\", \"x\": 0.35542628638900053, \"xref\": \"x\", \"y\": -0.1593764331265589, \"yref\": \"y\"}, {\"ax\": 0, \"ay\": 20, \"showarrow\": false, \"text\": \"BB\", \"x\": 0.07399957726090944, \"xref\": \"x\", \"y\": 0.5901688507468612, \"yref\": \"y\"}, {\"ax\": 0, \"ay\": 20, \"showarrow\": false, \"text\": \"Itau\", \"x\": 0.77542629911479, \"xref\": \"x\", \"y\": 0.5100745867956173, \"yref\": \"y\"}, {\"ax\": 0, \"ay\": 20, \"showarrow\": false, \"text\": \"XP Investimentos\", \"x\": -0.7498671157710024, \"xref\": \"x\", \"y\": -0.5625894493752092, \"yref\": \"y\"}, {\"ax\": 0, \"ay\": 20, \"showarrow\": false, \"text\": \"CEF\", \"x\": -0.34926639776433566, \"xref\": \"x\", \"y\": 0.9088546358082981, \"yref\": \"y\"}, {\"ax\": 0, \"ay\": 20, \"showarrow\": false, \"text\": \"Santander\", \"x\": -1.0, \"xref\": \"x\", \"y\": 0.23591815070210428, \"yref\": \"y\"}, {\"ax\": 0, \"ay\": 20, \"showarrow\": false, \"text\": \"Bradesco\", \"x\": 0.8046708743373262, \"xref\": \"x\", \"y\": 0.005421587113193613, \"yref\": \"y\"}, {\"ax\": 0, \"ay\": 20, \"showarrow\": false, \"text\": \"Next\", \"x\": 0.027599322652272246, \"xref\": \"x\", \"y\": 0.17122021801680232, \"yref\": \"y\"}, {\"ax\": 0, \"ay\": 20, \"showarrow\": false, \"text\": \"Inter\", \"x\": -0.4380898914758382, \"xref\": \"x\", \"y\": -0.7272252130986102, \"yref\": \"y\"}, {\"ax\": 0, \"ay\": 20, \"showarrow\": false, \"text\": \"Nubank\", \"x\": -0.14023262422260543, \"xref\": \"x\", \"y\": -0.42682123695587026, \"yref\": \"y\"}, {\"ax\": 0, \"ay\": 20, \"showarrow\": false, \"text\": \"BB\", \"x\": -0.6807676616014422, \"xref\": \"x\", \"y\": -0.0023142053987431077, \"yref\": \"y\"}, {\"ax\": 0, \"ay\": 20, \"showarrow\": false, \"text\": \"Itau\", \"x\": 0.8871747081900979, \"xref\": \"x\", \"y\": -0.0974366373103, \"yref\": \"y\"}, {\"ax\": 0, \"ay\": 20, \"showarrow\": false, \"text\": \"XP Investimentos\", \"x\": 0.7017914583912597, \"xref\": \"x\", \"y\": 0.8137879713892804, \"yref\": \"y\"}, {\"ax\": 0, \"ay\": 20, \"showarrow\": false, \"text\": \"CEF\", \"x\": -0.7921687458111087, \"xref\": \"x\", \"y\": 0.5260371691540026, \"yref\": \"y\"}, {\"ax\": 0, \"ay\": 20, \"showarrow\": false, \"text\": \"Santander\", \"x\": -0.06157902704649608, \"xref\": \"x\", \"y\": 1.1, \"yref\": \"y\"}, {\"ax\": 0, \"ay\": 20, \"showarrow\": false, \"text\": \"Bradesco\", \"x\": 0.4962724609238609, \"xref\": \"x\", \"y\": -0.4572480657965612, \"yref\": \"y\"}, {\"ax\": 0, \"ay\": 20, \"showarrow\": false, \"text\": \"Next\", \"x\": 0.053893161841936384, \"xref\": \"x\", \"y\": -0.0039813219145499595, \"yref\": \"y\"}, {\"ax\": 0, \"ay\": 20, \"showarrow\": false, \"text\": \"Inter\", \"x\": 0.3305844685708866, \"xref\": \"x\", \"y\": 0.8695990623622987, \"yref\": \"y\"}, {\"ax\": 0, \"ay\": 20, \"showarrow\": false, \"text\": \"Nubank\", \"x\": -0.30890715771997374, \"xref\": \"x\", \"y\": 0.44631259364758, \"yref\": \"y\"}, {\"ax\": 0, \"ay\": 20, \"showarrow\": false, \"text\": \"BB\", \"x\": -0.7169628674074314, \"xref\": \"x\", \"y\": -0.07349138789835355, \"yref\": \"y\"}, {\"ax\": 0, \"ay\": 20, \"showarrow\": false, \"text\": \"Itau\", \"x\": -0.21836631158065967, \"xref\": \"x\", \"y\": 0.9243084316084494, \"yref\": \"y\"}, {\"ax\": 0, \"ay\": 20, \"showarrow\": false, \"text\": \"XP Investimentos\", \"x\": 0.3205592503112819, \"xref\": \"x\", \"y\": -0.9, \"yref\": \"y\"}, {\"ax\": 0, \"ay\": 20, \"showarrow\": false, \"text\": \"CEF\", \"x\": -0.6166044693749136, \"xref\": \"x\", \"y\": -0.599700619632718, \"yref\": \"y\"}, {\"ax\": 0, \"ay\": 20, \"showarrow\": false, \"text\": \"Santander\", \"x\": 0.9467943557463921, \"xref\": \"x\", \"y\": -0.29289274834675794, \"yref\": \"y\"}, {\"ax\": 0, \"ay\": 20, \"showarrow\": false, \"text\": \"Bradesco\", \"x\": 0.20900956961248304, \"xref\": \"x\", \"y\": 0.5298459901740515, \"yref\": \"y\"}, {\"ax\": 0, \"ay\": 20, \"showarrow\": false, \"text\": \"Next\", \"x\": -0.07622456985739724, \"xref\": \"x\", \"y\": 0.11162757610121365, \"yref\": \"y\"}, {\"ax\": 0, \"ay\": 20, \"showarrow\": false, \"text\": \"Inter\", \"x\": 0.9442190406434189, \"xref\": \"x\", \"y\": -0.14771582536521938, \"yref\": \"y\"}, {\"ax\": 0, \"ay\": 20, \"showarrow\": false, \"text\": \"Nubank\", \"x\": 0.5846163053396138, \"xref\": \"x\", \"y\": 0.13685144783768355, \"yref\": \"y\"}, {\"ax\": 0, \"ay\": 20, \"showarrow\": false, \"text\": \"BB\", \"x\": 0.42172398397006405, \"xref\": \"x\", \"y\": 0.7677922054690745, \"yref\": \"y\"}, {\"ax\": 0, \"ay\": 20, \"showarrow\": false, \"text\": \"Itau\", \"x\": -0.18662423680383186, \"xref\": \"x\", \"y\": -0.8174454317145, \"yref\": \"y\"}, {\"ax\": 0, \"ay\": 20, \"showarrow\": false, \"text\": \"XP Investimentos\", \"x\": -0.9281765237746541, \"xref\": \"x\", \"y\": 0.596827665046292, \"yref\": \"y\"}, {\"ax\": 0, \"ay\": 20, \"showarrow\": false, \"text\": \"CEF\", \"x\": -0.06108388072598467, \"xref\": \"x\", \"y\": 1.0470660825874352, \"yref\": \"y\"}, {\"ax\": 0, \"ay\": 20, \"showarrow\": false, \"text\": \"Santander\", \"x\": -1.0, \"xref\": \"x\", \"y\": -0.2614185099780164, \"yref\": \"y\"}, {\"ax\": 0, \"ay\": 20, \"showarrow\": false, \"text\": \"Bradesco\", \"x\": 0.3015498812087702, \"xref\": \"x\", \"y\": -0.5335852099839625, \"yref\": \"y\"}, {\"ax\": 0, \"ay\": 20, \"showarrow\": false, \"text\": \"Next\", \"x\": -0.04746982233540919, \"xref\": \"x\", \"y\": 0.16708262125047796, \"yref\": \"y\"}, {\"ax\": 0, \"ay\": 20, \"showarrow\": false, \"text\": \"Inter\", \"x\": 0.4795986893681393, \"xref\": \"x\", \"y\": -0.7018917406008518, \"yref\": \"y\"}, {\"ax\": 0, \"ay\": 20, \"showarrow\": false, \"text\": \"Nubank\", \"x\": 0.3120553685378449, \"xref\": \"x\", \"y\": -0.31013411086985765, \"yref\": \"y\"}, {\"ax\": 0, \"ay\": 20, \"showarrow\": false, \"text\": \"BB\", \"x\": 0.727336123930898, \"xref\": \"x\", \"y\": 0.17588086874427544, \"yref\": \"y\"}, {\"ax\": 0, \"ay\": 20, \"showarrow\": false, \"text\": \"Itau\", \"x\": -0.8110060949001958, \"xref\": \"x\", \"y\": -0.41076957052461105, \"yref\": \"y\"}, {\"ax\": 0, \"ay\": 20, \"showarrow\": false, \"text\": \"XP Investimentos\", \"x\": -0.8549654105809381, \"xref\": \"x\", \"y\": 0.6383387832315883, \"yref\": \"y\"}, {\"ax\": 0, \"ay\": 20, \"showarrow\": false, \"text\": \"CEF\", \"x\": 0.6853381290976283, \"xref\": \"x\", \"y\": 0.7026825142865556, \"yref\": \"y\"}, {\"ax\": 0, \"ay\": 20, \"showarrow\": false, \"text\": \"Santander\", \"x\": -0.1608138287630817, \"xref\": \"x\", \"y\": 1.1, \"yref\": \"y\"}, {\"ax\": 0, \"ay\": 20, \"showarrow\": false, \"text\": \"Bradesco\", \"x\": -0.3300731543548858, \"xref\": \"x\", \"y\": -0.46118936551757717, \"yref\": \"y\"}, {\"ax\": 0, \"ay\": 20, \"showarrow\": false, \"text\": \"Next\", \"x\": 0.017986707083939974, \"xref\": \"x\", \"y\": 0.16038835531046108, \"yref\": \"y\"}, {\"ax\": 0, \"ay\": 20, \"showarrow\": false, \"text\": \"Inter\", \"x\": -0.031378997071747614, \"xref\": \"x\", \"y\": -0.7938409642733167, \"yref\": \"y\"}, {\"ax\": 0, \"ay\": 20, \"showarrow\": false, \"text\": \"Nubank\", \"x\": 0.20673084879215523, \"xref\": \"x\", \"y\": -0.4097734394069257, \"yref\": \"y\"}, {\"ax\": 0, \"ay\": 20, \"showarrow\": false, \"text\": \"BB\", \"x\": 0.7484836294022099, \"xref\": \"x\", \"y\": -0.12286392823524228, \"yref\": \"y\"}, {\"ax\": 0, \"ay\": 20, \"showarrow\": false, \"text\": \"Itau\", \"x\": -0.5677281869731314, \"xref\": \"x\", \"y\": 0.5424847469514578, \"yref\": \"y\"}, {\"ax\": 0, \"ay\": 20, \"showarrow\": false, \"text\": \"XP Investimentos\", \"x\": -1.0, \"xref\": \"x\", \"y\": 0.15959059688517568, \"yref\": \"y\"}, {\"ax\": 0, \"ay\": 20, \"showarrow\": false, \"text\": \"CEF\", \"x\": 0.8777984400987403, \"xref\": \"x\", \"y\": 0.3900087436948295, \"yref\": \"y\"}, {\"ax\": 0, \"ay\": 20, \"showarrow\": false, \"text\": \"Santander\", \"x\": 0.17676247410387222, \"xref\": \"x\", \"y\": 1.0865824931544668, \"yref\": \"y\"}, {\"ax\": 0, \"ay\": 20, \"showarrow\": false, \"text\": \"Bradesco\", \"x\": -0.42865491543603823, \"xref\": \"x\", \"y\": -0.11257660408090445, \"yref\": \"y\"}, {\"ax\": 0, \"ay\": 20, \"showarrow\": false, \"text\": \"Next\", \"x\": 0.08235608315242696, \"xref\": \"x\", \"y\": 0.06450315498724345, \"yref\": \"y\"}, {\"ax\": 0, \"ay\": 20, \"showarrow\": false, \"text\": \"Inter\", \"x\": -0.2918315300282676, \"xref\": \"x\", \"y\": -0.5074776334689693, \"yref\": \"y\"}, {\"ax\": 0, \"ay\": 20, \"showarrow\": false, \"text\": \"Nubank\", \"x\": -0.3347688176584315, \"xref\": \"x\", \"y\": 0.19298490057126322, \"yref\": \"y\"}, {\"ax\": 0, \"ay\": 20, \"showarrow\": false, \"text\": \"BB\", \"x\": -0.7465722229721834, \"xref\": \"x\", \"y\": 0.4002037428109966, \"yref\": \"y\"}, {\"ax\": 0, \"ay\": 20, \"showarrow\": false, \"text\": \"Itau\", \"x\": 0.5516264789518077, \"xref\": \"x\", \"y\": 0.8168489575881906, \"yref\": \"y\"}, {\"ax\": 0, \"ay\": 20, \"showarrow\": false, \"text\": \"XP Investimentos\", \"x\": 0.5730149796755968, \"xref\": \"x\", \"y\": -0.7248019231412748, \"yref\": \"y\"}, {\"ax\": 0, \"ay\": 20, \"showarrow\": false, \"text\": \"CEF\", \"x\": -0.8721861034914261, \"xref\": \"x\", \"y\": -0.08896651055935495, \"yref\": \"y\"}, {\"ax\": 0, \"ay\": 20, \"showarrow\": false, \"text\": \"Santander\", \"x\": 1.0, \"xref\": \"x\", \"y\": -0.00613271634849076, \"yref\": \"y\"}, {\"ax\": 0, \"ay\": 20, \"showarrow\": false, \"text\": \"Bradesco\", \"x\": 0.038361132370477356, \"xref\": \"x\", \"y\": 0.752838027560396, \"yref\": \"y\"}], \"hovermode\": \"closest\", \"margin\": {\"b\": 20, \"l\": 5, \"r\": 5, \"t\": 40}, \"scene\": {\"xaxis\": {\"showbackground\": false, \"showgrid\": false, \"showline\": false, \"showticklabels\": false, \"title\": {\"text\": \"\"}, \"zeroline\": false}, \"yaxis\": {\"showgrid\": false, \"showticklabels\": false, \"zeroline\": false}, \"zaxis\": {\"showgrid\": false, \"showticklabels\": false, \"zeroline\": false}}, \"showlegend\": false, \"title\": {\"font\": {\"size\": 16}, \"text\": \"coco\"}},\n",
       "                        {\"showLink\": false, \"linkText\": \"Export to plot.ly\", \"plotlyServerURL\": \"https://plot.ly\", \"responsive\": true}\n",
       "                    ).then(function(){\n",
       "                            \n",
       "var gd = document.getElementById('6caf8a0a-563f-4ef4-b4a1-e4cbeca6468b');\n",
       "var x = new MutationObserver(function (mutations, observer) {{\n",
       "        var display = window.getComputedStyle(gd).display;\n",
       "        if (!display || display === 'none') {{\n",
       "            console.log([gd, 'removed!']);\n",
       "            Plotly.purge(gd);\n",
       "            observer.disconnect();\n",
       "        }}\n",
       "}});\n",
       "\n",
       "// Listen for the removal of the full notebook cells\n",
       "var notebookContainer = gd.closest('#notebook-container');\n",
       "if (notebookContainer) {{\n",
       "    x.observe(notebookContainer, {childList: true});\n",
       "}}\n",
       "\n",
       "// Listen for the clearing of the current output cell\n",
       "var outputEl = gd.closest('.output');\n",
       "if (outputEl) {{\n",
       "    x.observe(outputEl, {childList: true});\n",
       "}}\n",
       "\n",
       "                        })\n",
       "                };\n",
       "                });\n",
       "            </script>\n",
       "        </div>"
      ]
     },
     "metadata": {},
     "output_type": "display_data"
    }
   ],
   "source": [
    "mygraph.plot(title='coco', node_size_col='clientes', node_color_col='clientes', edge_width_col='enviado')"
   ]
  },
  {
   "cell_type": "code",
   "execution_count": 21,
   "metadata": {},
   "outputs": [
    {
     "data": {
      "text/html": [
       "        <script type=\"text/javascript\">\n",
       "        window.PlotlyConfig = {MathJaxConfig: 'local'};\n",
       "        if (window.MathJax) {MathJax.Hub.Config({SVG: {font: \"STIX-Web\"}});}\n",
       "        if (typeof require !== 'undefined') {\n",
       "        require.undef(\"plotly\");\n",
       "        requirejs.config({\n",
       "            paths: {\n",
       "                'plotly': ['https://cdn.plot.ly/plotly-latest.min']\n",
       "            }\n",
       "        });\n",
       "        require(['plotly'], function(Plotly) {\n",
       "            window._Plotly = Plotly;\n",
       "        });\n",
       "        }\n",
       "        </script>\n",
       "        "
      ]
     },
     "metadata": {},
     "output_type": "display_data"
    },
    {
     "data": {
      "application/vnd.plotly.v1+json": {
       "config": {
        "linkText": "Export to plot.ly",
        "plotlyServerURL": "https://plot.ly",
        "responsive": true,
        "showLink": false
       },
       "data": [
        {
         "marker": {
          "color": [
           1.703607475062005,
           0.7104236496104207,
           0.4903821176065363,
           1.5354512732350734,
           0.44195917962247155,
           1.1310595982142957,
           -0.731933673264819,
           -0.6056466861164094,
           -1.394648408276538,
           0.27315983345442624,
           1.0755711730142237,
           0.04561525809701998,
           0.31207226167971874,
           0.9715331197539014,
           0.948146915261561,
           -0.06330341959583981,
           -0.02289061919950436,
           -0.2787589421864228,
           -0.2186593128234329,
           -1.7240504911210677,
           0.09603859031598147,
           0.6749827553941584,
           -1.7600172981912767,
           -0.23474191821359197,
           -0.30541922737242744,
           -1.914088602632287,
           1.0315966320719956,
           -0.2989671127131018,
           1.215611106275703,
           -0.9873939951792222,
           -0.21795318735555302,
           -1.4009591865680167,
           -0.7342455657211308,
           -1.0769480572631183,
           1.1348000979119446,
           -1.3512120825137244,
           0.7856019815673433,
           1.5851362292244187,
           -0.1087597054254483,
           -0.2130250098863099,
           -1.0626650633798602,
           0.5036732552332849,
           -0.3207579392228181,
           -0.5020849587898354,
           -1.7251714705244887,
           0.4738453183590819,
           -0.9026002049031461,
           -0.4575761920348678,
           0.038381963275419616,
           0.25725805702259485,
           -2.059228957225511,
           -0.12260962511210868,
           -0.30658122315167335,
           -1.3127273414585106,
           -0.20491033323418317,
           -0.27873159159965577,
           0.7462214391882247,
           -1.209219904761458,
           -0.7722535779839177,
           1.095996918269043,
           -0.7476521324521245,
           0.7630212279146501,
           -1.8287895312926148,
           -0.9982908748653629,
           -1.3150636102613666,
           0.9851227004591488,
           0.2961037513832413,
           0.47733107452076345,
           0.6313866377361677,
           -0.08198936759722132,
           0.47671401530318797,
           -0.26180740536488717,
           -1.0452776976758917,
           0.4706930691340909,
           -1.5726311530461654,
           1.0741986530330148,
           0.4437236662314062,
           0.3533773304172739,
           0.7090567821239663,
           -1.0804136520158558,
           -0.23355684858680248,
           0.47216372055306055,
           2.4448818057957986,
           0.08552563055073788,
           -0.4609862227705813,
           0.5829304216167203,
           0.19348694660424307,
           -0.6303404979513321,
           -0.6860952726704116,
           -0.8944971822851528,
           -0.783061798056059,
           0.2616229302688008,
           -0.24722708298323154,
           -1.0475616763019928,
           -0.7295165249606443,
           1.6507696625398738,
           -0.14993216789069586,
           -0.8391163962967503,
           1.917473421141479,
           -0.656893643732084,
           1.0540089580022343,
           -0.7258100415529127,
           -0.9264057485862208,
           2.09922846532309,
           1.1794656286965406,
           -0.5638015305334877,
           1.5760808361996874,
           -0.8554746044495566,
           0.738568374105757,
           -1.015091206565717,
           1.7872320261981487,
           -0.706618777495318,
           -2.1042325695800415,
           -2.0546259884298173,
           1.9213033224224998,
           0.7137869398169623,
           -1.0964108945089663,
           1.543084637584525,
           -0.17552103273202674,
           1.4266687120846486,
           -0.22144494010554186,
           -2.0937062694413733,
           0.07376305113209623,
           -0.7446232995145035,
           -0.2006148143807102,
           -0.43605375542950425,
           1.467670257723034,
           -0.16198746623492374,
           0.004092489441621094,
           -0.9427324650195327,
           0.5096572515412543,
           -0.7399218952728003,
           0.5630690838096908,
           -1.4875072549925599,
           0.0974314177226513,
           -0.2565706200633965,
           0.34373810854793174,
           -2.372567273112818,
           -1.6299427673568587,
           0.9466502930613602,
           1.7741973466783245,
           -1.5237895443569553,
           1.8944644417739036,
           3.4894298182192816,
           0.012320640175511276,
           -0.10344941027469655,
           1.7455932437248332,
           1.8856217675367064,
           2.0818606192022173,
           -0.4421194171485403,
           -0.5747367078119592,
           1.3642921852276406,
           -0.9734627988100156,
           -0.28286820884520797,
           -0.5576806950817621,
           0.5381314014915591,
           -0.010941805780108742,
           -0.1454269126933012,
           0.6311014054495877,
           -2.0643552054184147,
           -0.0679347593154634,
           -1.8363989257021034,
           -0.645916975688553,
           0.4356383497905908,
           -1.9676620692776774,
           1.2531167418205915,
           1.4039792067158807,
           1.0577775157678702,
           -2.9214707676213045,
           -0.10264548580538978,
           -0.9787703223991396,
           -1.771564250210556,
           0.05558683893328784,
           -0.3670947464582792,
           -0.7908385886492492,
           -0.8551722106427861,
           0.3328066223736735,
           -0.1969905033509414,
           0.7523857585530046,
           1.4554872365232798,
           0.49764161641732796,
           0.21829065545998652,
           -0.509252350208775,
           0.7111825635795898,
           -2.843913927954523,
           1.0181479546646799,
           0.20785678280940484,
           0.3439316235952215,
           0.12429227543295097,
           1.6967493836838607,
           -0.24149260268776315,
           0.613077827292731,
           -0.919180270353021,
           -0.4283120285970404,
           0.3724222762524242,
           -4.09593609793681,
           0.052718561867564934,
           -0.3633712424048971,
           -0.20003263000682517,
           1.0836984797597522,
           0.11963643215904544,
           1.6476563112036655,
           0.19875591466535,
           -0.10990952265587962,
           -1.3346342871003405,
           -0.27425868581379664,
           0.5434331142772153,
           0.25888523349549797,
           0.31304475962211925,
           -0.9765385116807471,
           -0.3908239587964624,
           0.8831950123099093,
           1.6259610200917702,
           0.35054452779287804,
           1.3829600414483996,
           0.1967362416559729,
           0.19332742041260256,
           -0.38233425067041543,
           0.05063578154012948,
           1.2857417163798752,
           0.12801073133286794,
           1.0400813206629251,
           0.047709758029873865,
           1.6693028565954091,
           -1.1256387383029054,
           1.3442233740163905,
           -0.5794005651998432,
           0.15177268452074566,
           0.2928895561924852,
           -0.5261785486195328,
           -0.9658401884764911,
           2.047218178942629,
           -0.09828526320122002,
           1.2330534983356052,
           1.316042422642467,
           1.825721491601621,
           0.7541158054996332,
           -0.137269743622356,
           -1.2337453714559883,
           -0.8533218368438134,
           0.7826442491070028,
           0.2342140514419804,
           0.40758341162309886,
           -1.1958654992502984,
           -0.7431903686772602,
           0.37257222178987964,
           0.9353174399125974,
           0.2808753651114044,
           -0.3111417627432418,
           -0.5086098586390252,
           -0.6337877354555068,
           -0.09798406992089924,
           0.5926807937120492,
           0.9594794963376732,
           -0.3742109146166466,
           0.259593885871018,
           -0.2729795457392199,
           0.39616750951360286,
           -0.0935809815509358,
           0.10751586668617831,
           1.055318411336811,
           -0.8840902270928797,
           0.5247098253697279,
           -2.6706967859207356,
           1.461963685376773,
           -1.7240353560861847,
           1.124524175485481,
           -0.36164626561959534,
           -0.25807878242766125,
           -0.2306268045249787,
           -1.1020968451741093,
           0.37410709330383296,
           -0.2615697594154203,
           -0.8106082660767043,
           -0.4243201120851084,
           -0.9964257209191482,
           -0.05884472938681707,
           -2.442353479571677,
           1.1500627637368321,
           0.9258689103310558,
           0.2197868954710086,
           0.593834174290924,
           -0.21705342700655442,
           0.22325255670831307,
           1.3067698556565706,
           0.9459848902099555,
           -1.2098733817639127,
           -0.76152711754737,
           0.7244176540374627,
           -0.4616726868383373,
           -1.0202847559580874,
           0.08696397913403804,
           -0.6186340570581043,
           -0.8742906786366991,
           0.5524501006268078,
           0.6094682662106276,
           -1.5740616616635514,
           0.16245391794399794,
           -0.6230988266287006,
           0.8545423959702908,
           -1.6797272370126912,
           -0.21427434075461338,
           -1.2166869324713354,
           0.3639612382779748,
           0.4573945926953374,
           -0.21802654566713525,
           -0.25117988261957735,
           -0.9629727266377149,
           -1.1391078515444166,
           -2.073514348928834,
           -1.1028712237761484,
           1.8035433989933396,
           0.712973698305098,
           -0.8654416707951158,
           0.11553400614436059,
           0.17904257225804932,
           -0.4856062682224694,
           -1.5261231834786888,
           0.3757338416113577,
           2.088539827867502,
           -0.07272234312913513,
           -1.0724015622317853,
           -0.46416750420557845,
           0.517234978781185,
           -0.3976212019779734,
           2.0685780825182074,
           -0.533618025727868,
           0.6219107281934384,
           -1.2212190234832343,
           -0.14814005340810235,
           0.5025607237591599,
           -0.8368485218628537,
           0.14220416164385818,
           -0.2586649780177572,
           -1.5922997457838894,
           0.545084962477343,
           2.0361718381070886,
           -0.7925936136059136,
           0.258005770717972,
           -0.7452715242742387,
           1.2599734366754645,
           -1.4043072988338765,
           -0.7422491517430236,
           0.09451039062282231,
           -0.6837601674358996,
           0.0022327819940197316,
           0.44732317866571203,
           -0.3601264256173983,
           0.7928246188234332,
           0.8494575841045781,
           -0.4343728930873484,
           1.0068172302323952,
           -0.6638959159903601,
           -0.21837380279773183,
           0.3189926253825226,
           -0.6106953547086454,
           1.3322550668643967,
           1.2253198243505616,
           2.358397007922778,
           0.28515206343810584,
           -0.9973072903257059,
           -0.9808902571821446,
           -0.8164121497161749,
           -0.6404564877685665,
           0.2324504902979051,
           0.14993175694708183,
           1.5308290446644226,
           1.3497931488731683,
           0.264436631515911,
           0.11320419013873059,
           0.1988056104920179,
           -1.540793780169885,
           -0.9582777381251045,
           -2.3330009562409173,
           0.036186421725537626,
           2.0834023391468346,
           -0.7051169455931869,
           2.1272607218892023,
           1.6631318200997605,
           -2.3697116713270776,
           1.0174540368325238,
           -0.5010306154273239,
           0.5801663865349229,
           2.5697832654839603,
           -1.1196252479173274,
           1.114068207604582,
           0.336487004650545,
           -0.835704989017679,
           -0.24935700977414074,
           0.7222614686195494,
           -1.492006883772255,
           -1.0848221196422219,
           0.29559156428026406,
           -1.2537322162662012,
           1.4033377977396673,
           -0.13032591600139704,
           -0.7387764291189122,
           -1.0428968145060082,
           1.727651845360128,
           -0.43974455668201395
          ],
          "colorscale": "Viridis",
          "opacity": 0.8,
          "size": 12
         },
         "mode": "markers",
         "type": "scatter3d",
         "uid": "645692a3-64b9-4c1c-bf44-39d32db3f00e",
         "x": [
          -1.0484066284463005,
          -0.4178964490206651,
          -0.6059309357003597,
          -0.597961971126165,
          0.39993628911063395,
          -0.2790909780617612,
          1.006536515159082,
          -0.9041288691612008,
          -0.3078878943180053,
          -0.23196172455214173,
          0.736554020755742,
          -1.6232842714970739,
          -0.9434330126447723,
          0.17957129081124315,
          -0.12674860277340969,
          0.5821113921607262,
          -0.45330540767547006,
          -0.6324804838191903,
          -0.3310525551712621,
          -0.7803944170561666,
          -0.7755550772406694,
          -0.717895201869397,
          0.009938574669236536,
          0.5648181911475473,
          0.49091808278688476,
          -1.19380924522282,
          1.1866066883424493,
          -1.2109173530051667,
          -0.4039497587064379,
          0.3449229884403354,
          -0.06380603301182028,
          -0.5606175730781411,
          0.12180520428473822,
          -0.26629548157289207,
          0.48938913038177956,
          1.5744461575799549,
          -0.23413838178151825,
          0.415715998262114,
          0.0714362596532977,
          0.5339762588882186,
          0.41545229013934204,
          -0.006819669727613911,
          0.29833659516398087,
          1.1687861863017575,
          0.18107036712083727,
          1.330566118677438,
          1.831972995854513,
          -0.29380497374620446,
          2.1937303269953907,
          0.19696813216433276,
          0.8513521589903946,
          -0.2503973389716612,
          0.2779888615034521,
          -1.0349759413539728,
          -0.5404435091930143,
          -0.4813820216775019,
          0.11701314616354822,
          -0.6444770546169962,
          -1.8306051912302121,
          0.3546430779688766,
          1.8444228236379916,
          0.3932397935893186,
          1.005718606713249,
          -0.4926300318044966,
          -0.5020380504149116,
          0.5400858580446151,
          0.34415031583946676,
          0.33119720829523086,
          -0.9045739303359959,
          0.9656955019882029,
          0.02364113617245668,
          0.17040754033507619,
          -0.0673658785469919,
          -1.017152532952874,
          -0.4827327236874991,
          0.13967252055626705,
          1.0829004950687386,
          0.6476894739084933,
          0.09194385824194892,
          -0.08058303507936315,
          -0.2734864462783069,
          1.780996863024383,
          -0.07694472585253129,
          0.9365911979820223,
          -2.7523390540196697,
          -0.7054004929081242,
          -0.9611914452732754,
          0.6654838020801539,
          -0.8032960761089758,
          1.582219691266529,
          -0.6969559532861436,
          -0.7293038179492415,
          -1.4828918766586376,
          1.9071451953468117,
          0.1745618779418261,
          -0.06312160450396216,
          1.8883128280844035,
          0.19861898375658424,
          2.3959048886576877,
          -0.6843129527033184,
          -0.27073139711801536,
          0.8071549272303362,
          -1.21243043742092,
          1.199722962683093,
          -1.2782861291936256,
          1.1390349044145238,
          1.4971646037407886,
          -1.5003433739589873,
          -0.28353781352567925,
          -1.2281939335005263,
          -0.4914362167010147,
          -0.9309402395581142,
          0.29572701190819395,
          -0.9623124523578704,
          -0.7707895479018693,
          -0.1982814179803503,
          -0.40343407330520986,
          -2.8687678866159314,
          0.505197903848194,
          3.5026142790094426,
          0.11191806263364526,
          0.6498858066256167,
          -0.38296990141607035,
          0.20285031316883567,
          -0.6767714126503974,
          0.06145438541528348,
          1.6998715009965297,
          -0.1673109718157191,
          -0.09963280338822308,
          -0.8711426805338326,
          -1.69902018436453,
          0.43373788231313265,
          0.8601730968754178,
          -0.31019692676385746,
          -0.9645580777797834,
          -0.22772179768326403,
          -1.2016735461514216,
          -1.1962164686108776,
          -1.3998630795079712,
          -1.049775807626126,
          0.7832784713753576,
          -2.2614388492655184,
          0.7730901113311014,
          -0.5150269029040163,
          0.029704599234784936,
          -0.013612705886484342,
          -1.2099176156259284,
          -0.8010090500919514,
          -0.17103546533133562,
          1.429005021864539,
          0.07262034389468912,
          0.6860802199344057,
          1.1883268227957038,
          -1.0212586425994874,
          -0.8645262876924186,
          -1.1641373357143403,
          -0.042794661310038395,
          -0.21043061180369577,
          -0.7201026949739278,
          1.345756403860989,
          -0.1973086141312683,
          -0.08720769779846464,
          0.7910104624787553,
          -1.3703012156875327,
          0.27757144526351163,
          0.007038693652680289,
          -1.6305502233169817,
          0.621706545373269,
          0.523087182963814,
          0.03541345071851989,
          1.0932158495132007,
          -0.8861198097776333,
          1.6617332047654103,
          -0.20908330869965372,
          0.23840969049181385,
          0.8752460984030277,
          -2.2484238992383667,
          -0.7446836279039368,
          0.9677557545429212,
          -1.022945388397058,
          0.7936122342347735,
          0.5051982086468124,
          0.8873170231833575,
          0.08184758595918216,
          0.30889355115361233,
          0.739006223005253,
          0.9831606529966639,
          0.38245246622168894,
          0.17483488351353765,
          0.9539690319514738,
          -0.769165383520452,
          -0.1811167381310874,
          0.5290611364213649,
          0.4727357059536603,
          -0.6123058227087113,
          0.6043800959947604,
          -1.184147340493761,
          -0.32907540711501104,
          -0.1208763643341435,
          1.5906541206121174,
          -1.1565939600080382,
          -1.309874114608214,
          -0.7282557052035825,
          -0.5719539892624801,
          -0.3145941276217153,
          0.6455994075142947,
          1.3756350109502329,
          0.8890662280279802,
          -0.8245873062516281,
          0.45598606449881546,
          -1.1059216173193196,
          -0.08326591838163094,
          0.49259691124519733,
          -1.2105411251056748,
          -0.47070965773499684,
          -0.3689505932212278,
          1.3400169270037208,
          1.013104333324192,
          -0.2857621173221356,
          -0.23385590615574686,
          0.2732176891366413,
          1.3402858936126647,
          0.08087474849762769,
          -0.1921328867738587,
          -1.1307497067178012,
          -0.6722849195164331,
          0.2624103126540651,
          -0.5796201271076706,
          -0.5155094069075691,
          -1.4755851112645468,
          1.0286279417880586,
          1.7701045163468079,
          -0.45948314375620153,
          0.7060531470888836,
          0.8657380088195328,
          -0.42780977168561446,
          0.2521694312511462,
          -0.38722928043897387,
          0.05708415331673887,
          0.3967062369707725,
          -2.371056402197189,
          0.440929067550638,
          0.386252297952959,
          -1.4664077899837737,
          0.4854247502539171,
          -1.0001951386022316,
          -0.6463959238534047,
          -1.2842210025257121,
          -1.4789247731049078,
          0.1445570748026653,
          3.2015512509650055,
          0.5972019605389367,
          -0.14946192767851857,
          1.6090115985705673,
          0.6934156549608576,
          0.44331832521155845,
          0.6518458567713495,
          1.000162475354582,
          0.8768358395869009,
          0.5034230538417855,
          0.5835034706925604,
          -0.10399278936538592,
          -0.6713767221099188,
          -0.1507516396104989,
          -1.9805812422020703,
          -0.37309825770687827,
          0.07590266838147923,
          0.73003528141407,
          -0.5669082986902202,
          1.2713099002397419,
          -1.2820986577006237,
          -0.21160749353051975,
          -0.08938048447976503,
          -0.017314841087542228,
          -0.11293522401275176,
          -1.4373147446397505,
          1.0929914173954762,
          0.12452671056897723,
          0.4574914250381071,
          -0.8308777394489053,
          -0.3563506571101793,
          -0.27697968094926567,
          -1.0112868974235658,
          -0.2943548714572657,
          -1.2880767829614574,
          0.22286301686910331,
          -2.000610061888032,
          -0.39012688872349033,
          2.863910983434242,
          -2.31364092966218,
          -1.8835089992513556,
          -1.367066592645963,
          -1.1263847864226806,
          0.13268248591570708,
          0.7621232317947778,
          -0.8401602871054392,
          0.8215784699469064,
          -0.5491235112963304,
          -0.6777902412261377,
          -1.3135561804735651,
          0.48536180617918967,
          1.4335426245137508,
          -1.2877663512973563,
          1.2961196517961504,
          0.16462408819338914,
          0.985631345110363,
          -1.7763268000920949,
          1.2391356870808206,
          -1.029999726447432,
          2.1004421668054136,
          0.8582041689331459,
          0.40918463101714436,
          1.1729189973278988,
          -2.1265914461496687,
          0.23883788147391852,
          0.9410834457303592,
          -0.7276353392439752,
          1.3289190339449186,
          0.8467818002351732,
          0.17782218720681883,
          -0.5502856482507552,
          -1.327870575115937,
          0.7862047618648859,
          0.8879939470871748,
          0.6673895757551487,
          -1.8564612478186926,
          0.305654101584798,
          -0.8377822126205539,
          -0.1399342036014552,
          -0.09811379550097946,
          1.8709154825534686,
          -0.5667657820184773,
          -1.943187507595414,
          0.6192295143495559,
          0.9748254487336718,
          -1.3806429514737448,
          1.7879659062363973,
          -0.005430062960801075,
          0.24255346903465755,
          0.36916624582496993,
          0.19936104276480687,
          0.1057417220618356,
          0.9496763539022152,
          -0.0778050710094423,
          -1.161773563119792,
          -1.2023320883947617,
          -0.7749163412048206,
          0.05286013970457007,
          -1.4060555682411364,
          3.4206216645227014,
          0.1057560930097393,
          -0.018560429707648568,
          0.5617090105667816,
          1.6319647551347474,
          0.13270183889217174,
          -0.6144371496638985,
          -0.43649737480948564,
          0.13857094201576953,
          1.2800253906899322,
          -0.9147278272868677,
          0.2854324145304542,
          -1.6793597787110977,
          0.895786811555559,
          -0.8783531198060387,
          0.6265685716966521,
          -0.9039664140205018,
          0.3969183116075475,
          0.3673291330655446,
          0.750014305830431,
          0.06455599876058485,
          -0.13426330357253657,
          1.0109875498884147,
          -2.278764642367843,
          -0.1038803410999793,
          -1.151129291111023,
          -0.68481009028886,
          0.06213015923046523,
          1.5386500193905357,
          -1.5513099130966663,
          -0.04755874196434608,
          -1.6592695253448457,
          -0.28587296705893916,
          -1.597432895791271,
          0.9325254912956583,
          1.0361233700644963,
          0.7500139839310337,
          -0.4127380257672044,
          0.7148120271147772,
          -1.099428535584626,
          0.4495101741319059,
          -0.35898626821559093,
          -0.19134622568958942,
          0.6765929992867806,
          0.5308020000153619,
          0.18710445703238476,
          0.10946883106864234,
          -0.7752371360917042,
          0.15231972078839723,
          -0.13689863542181807,
          0.6277889324091944
         ],
         "y": [
          1.237317095092734,
          1.6212543612431318,
          0.6261902430660903,
          0.29031592743931983,
          1.5184943161646214,
          1.944700090957574,
          2.0741245399125807,
          0.15070788707805807,
          -0.2281058865054344,
          -0.6926756798241831,
          -0.026220609371832914,
          -0.21984605903442594,
          -0.7303401162948775,
          -0.7116819276758216,
          0.07028018218150314,
          0.5310363911003124,
          0.43544497064335147,
          -0.9461444009988299,
          -1.3575781466826997,
          -0.41576861902987494,
          -1.0806500281374578,
          -2.0696744356787766,
          0.6940563330486207,
          0.8904319696980654,
          -0.023043994501268608,
          -1.8172031495944363,
          -1.1299049506067473,
          -0.9234782053816902,
          0.7807834379410697,
          -0.6845741574009984,
          -0.0626123191230534,
          0.7189847604421795,
          -0.37962045738314676,
          1.6854801948563851,
          0.3227443499980405,
          1.0803265022309123,
          -0.5697866619776131,
          -0.24837602279650425,
          -1.2417843053817172,
          1.1072966993696205,
          -2.0467535870478675,
          -2.5272029864726413,
          -0.6659121196342087,
          -1.1489530941503066,
          -0.39686539372479773,
          -0.24633904818579502,
          -0.6223156191888165,
          0.2927699347942895,
          0.7994212561875007,
          1.160318138866258,
          -0.9220880748817629,
          -0.49255090668713597,
          1.1622054907540407,
          1.543991452691905,
          0.5345937529863571,
          2.1053569274956527,
          -0.956185738060284,
          1.5871060969700317,
          1.5988787872742791,
          -1.6572118370986775,
          -0.8234001158414045,
          -0.2771815373635844,
          0.5296707688653532,
          0.44234596405946125,
          -0.2954828614445683,
          2.5859440773581976,
          0.4802892914368148,
          1.366657134800799,
          0.6270680888693494,
          -0.5230865478490132,
          -0.7245929005341623,
          0.5709173929982628,
          0.411197904659266,
          -1.339289599855565,
          -0.5588490434082358,
          1.0900242853308273,
          -0.13171043487931716,
          -0.30869189650289225,
          -0.47551162254216667,
          1.0256487920842878,
          0.6651744167412392,
          -1.95506736268823,
          1.9712040204557186,
          0.803039830290459,
          0.3427623358252836,
          -0.48016529054846796,
          -0.08202269078719478,
          0.18936125928721206,
          1.6974436430840192,
          1.6566234641913407,
          0.9262330180249809,
          -2.3569669553553254,
          -0.014638622458477663,
          0.6873884012523799,
          0.6405092923266056,
          -0.7238781030777305,
          -0.056950441821120155,
          -1.0385213748993003,
          -0.0011693504313115988,
          -0.8398049253743352,
          -0.3915642281658204,
          0.6856722535673074,
          1.3228850929254476,
          0.3309304199540043,
          -0.34826937639959804,
          0.5593346587645059,
          -1.217604008060031,
          0.1352178786137489,
          -1.3649822611273046,
          -0.2356530847293303,
          0.7878873678012536,
          0.06492085450551521,
          -1.2974936560813746,
          2.964588470090097,
          0.307754790389339,
          0.10925007963265704,
          -1.4548906888074633,
          1.2081788417213923,
          -0.10553043392180553,
          -0.8750662669112941,
          0.9165883452137544,
          -0.7310634011868665,
          -0.46963946964384756,
          -0.12165063840323005,
          -0.11970844783722173,
          -0.4682927436394869,
          -0.49805073637380803,
          -0.40618490889357206,
          -0.9466749386519077,
          1.1395261805665617,
          -0.09442351071972127,
          -0.4591825728066259,
          0.7975991858309346,
          0.9645277000458738,
          -0.8377902403890062,
          -0.9005325663857778,
          1.6227826547587219,
          1.1124200436745266,
          -0.3917777656949739,
          0.054718854515381624,
          -0.8327391431483232,
          -0.6119296775098096,
          0.7138206484001961,
          -0.8705502712269808,
          -1.6178870791812467,
          1.659531245262292,
          -0.9767472450164555,
          -0.3990262400120095,
          -0.4431765943180792,
          -0.660383385511534,
          0.9748671362810124,
          1.1562290834503268,
          0.2918476406940293,
          -0.6757905602487131,
          -2.634659587560087,
          -1.1250153625032069,
          0.06829627295081565,
          -0.10223012661966051,
          -2.0520446465247146,
          -0.2506449292031796,
          0.8191166679830678,
          0.8016756223264768,
          -1.5999513243519292,
          -1.9775455774933515,
          -0.7748799683546386,
          0.8830710630058975,
          -1.2990136172812825,
          -0.488719602494921,
          -0.12053598494357093,
          -0.9353159391590183,
          -0.286878846916037,
          -0.5680261304656007,
          -1.7274111319968541,
          -0.44972052057539047,
          0.2565343819203016,
          -0.22529329480965557,
          0.5794291800111198,
          -0.4801547698328429,
          -0.38386812255674796,
          -0.5078824272027411,
          0.31584786525677483,
          1.5201596061883642,
          0.6700170161506905,
          -0.5547683299602342,
          0.46171327892728653,
          -1.4791461591247574,
          -0.9421237670270193,
          0.12698757445696224,
          -2.7833873239489955,
          -0.3401874738342631,
          0.3510161698670884,
          -1.5656264021237771,
          0.361008583405587,
          -1.167253766687685,
          -1.340577547092407,
          0.8407020954194184,
          0.714878930053909,
          1.1624366682319747,
          -0.4756656820688215,
          -1.0475645764330637,
          -1.5958816528991564,
          -1.4618656288567837,
          -1.1160903966493645,
          2.424348459575532,
          0.11691358131652915,
          1.1488132971096212,
          0.70683636633259,
          0.13880798543408243,
          0.44124582779956983,
          -1.005833158426022,
          -1.9883572446321747,
          0.20240004608269527,
          -1.7479523128624288,
          1.723439598827758,
          0.9487651673039234,
          -2.7841391328317235,
          -0.3897052441431819,
          -0.99065196764702,
          1.7069994624349232,
          -1.0110777032210374,
          0.7563721579073256,
          0.7283247481113914,
          -1.297178344557872,
          -0.6347789799986909,
          -0.9375529720544489,
          -0.7391268098280791,
          -1.3619325170722052,
          -1.2410503396197043,
          0.22098033002951417,
          -0.5886901664321066,
          0.8238971194037495,
          -0.7762914211106856,
          -1.7467460633877439,
          -2.060602949552468,
          -1.5247774359495139,
          0.25406139327391725,
          -0.2579941226402051,
          -0.8428601114053411,
          -0.7445278692384959,
          -0.6375684012737692,
          0.05284782817470667,
          -0.5696076506409504,
          0.08730638151849643,
          -0.4897220409331079,
          -1.8391316823931743,
          0.3723888071660528,
          2.2921188057070334,
          -0.17863816585154713,
          -0.06649000501572626,
          -0.6934087847306968,
          1.357260767862077,
          1.761747082951177,
          0.2541759423897852,
          0.8027624948520508,
          -0.6624967791125319,
          -0.008450268689316354,
          2.799818994614859,
          -0.17696984905641314,
          -1.2521515899049138,
          -1.0202613554595634,
          0.2533804436740867,
          0.4471292107451516,
          0.05051664511174948,
          -0.47305791240112843,
          0.9166452553072512,
          2.03823264371699,
          -1.0415673980764673,
          -0.33327669582736547,
          2.241085246388154,
          0.6719471720999544,
          0.02103791581705021,
          -0.6518891298646748,
          0.556811635749726,
          0.39813221804357024,
          0.5728351929578736,
          -0.15491608398973877,
          1.7547000993672892,
          -0.8894568102490314,
          -1.6039194865978543,
          0.34723718602394255,
          -0.5309939023379642,
          1.72791088074383,
          -0.8510134603370398,
          0.16450985415518854,
          -0.3260722851950345,
          -0.005087091178996974,
          0.6913681225954251,
          -0.9154316575786089,
          -1.3164565595463116,
          1.8417721907823061,
          1.0380272603638048,
          0.47166137072617365,
          -0.8829104992267458,
          0.8801430699411921,
          0.8028327698543791,
          1.3125874650530003,
          0.2410095595583469,
          -0.7385207757857606,
          -0.7445161583356843,
          0.12587597441949888,
          1.7924071554163605,
          1.2864151367809504,
          -0.34713733202503194,
          1.2459588446664216,
          -0.4023302836836715,
          -0.6149347958205426,
          -1.6839641361949196,
          -0.48977957065821304,
          -0.5911354647383946,
          -0.628622457207185,
          1.1237381964349304,
          -0.09841806888716374,
          1.8679741256229168,
          1.230160991351944,
          -0.056261636665071446,
          -0.15302435932730246,
          2.3293311460825996,
          -1.5655171540490576,
          0.35262418984147703,
          -0.791786686172038,
          -1.1117284890462098,
          1.5261921570888728,
          -0.05074285208859289,
          -0.10766042662916837,
          -0.8412110141303842,
          -1.3190496857850253,
          1.0508450473080821,
          -0.6980876811068956,
          2.0968835345551162,
          0.590213511490006,
          0.9654871800098084,
          -0.26924138317101326,
          2.2838300624476493,
          0.04421644677528901,
          0.5199288366461199,
          0.5287391980248821,
          -0.4307919310535108,
          -0.2963798999681749,
          0.04827626770862387,
          0.01881156016265965,
          0.43173857353303097,
          -1.567421199045827,
          1.4784498058335387,
          0.5478030655716466,
          1.1538778757434471,
          -0.23052903615009931,
          -1.1816460448336032,
          0.8085478130021884,
          -0.2957991531617514,
          -0.8430366197292722,
          -0.6174591177338674,
          -0.5135786749094227,
          -0.38761749465335693,
          0.7123674452463027,
          -1.9395495665368578,
          0.12926807129472792,
          0.6320592425106248,
          -0.3745141401544979,
          -0.021984868939348323,
          0.1537576772067829,
          0.5164362678759385,
          -0.15691230158497893,
          -1.800240072620644,
          0.05500644764167554,
          -0.43945020978529836,
          1.246958104977489,
          -0.28021699025152397,
          0.2799605259183534,
          -1.6283677951839628,
          0.14375740785584748,
          -1.0673623025860557,
          -0.8697446848127908,
          -1.71952271095888,
          0.25194345528148665,
          -1.0029983908353328,
          -0.5907032989728764,
          -0.04389277969977627,
          -0.4738743365458235,
          2.772353171210013,
          -0.053178044126183974,
          -0.007226216713038474,
          0.4740184646774705,
          -0.22313818011295466,
          0.4443892198704315,
          0.6595019781793405,
          0.5020948308857591,
          2.1030520049204746,
          -0.3578854961870593,
          -0.20313179278952617,
          0.5090085916539239,
          -0.712653575391075,
          0.48401375679886555,
          -1.765286989978176,
          0.42499113018655404,
          1.763810042584045,
          0.7040859595946097,
          -0.8779921576992177,
          -0.5177714773880768,
          0.6623802574240838,
          0.18564402620948572
         ],
         "z": [
          1.703607475062005,
          0.7104236496104207,
          0.4903821176065363,
          1.5354512732350734,
          0.44195917962247155,
          1.1310595982142957,
          -0.731933673264819,
          -0.6056466861164094,
          -1.394648408276538,
          0.27315983345442624,
          1.0755711730142237,
          0.04561525809701998,
          0.31207226167971874,
          0.9715331197539014,
          0.948146915261561,
          -0.06330341959583981,
          -0.02289061919950436,
          -0.2787589421864228,
          -0.2186593128234329,
          -1.7240504911210677,
          0.09603859031598147,
          0.6749827553941584,
          -1.7600172981912767,
          -0.23474191821359197,
          -0.30541922737242744,
          -1.914088602632287,
          1.0315966320719956,
          -0.2989671127131018,
          1.215611106275703,
          -0.9873939951792222,
          -0.21795318735555302,
          -1.4009591865680167,
          -0.7342455657211308,
          -1.0769480572631183,
          1.1348000979119446,
          -1.3512120825137244,
          0.7856019815673433,
          1.5851362292244187,
          -0.1087597054254483,
          -0.2130250098863099,
          -1.0626650633798602,
          0.5036732552332849,
          -0.3207579392228181,
          -0.5020849587898354,
          -1.7251714705244887,
          0.4738453183590819,
          -0.9026002049031461,
          -0.4575761920348678,
          0.038381963275419616,
          0.25725805702259485,
          -2.059228957225511,
          -0.12260962511210868,
          -0.30658122315167335,
          -1.3127273414585106,
          -0.20491033323418317,
          -0.27873159159965577,
          0.7462214391882247,
          -1.209219904761458,
          -0.7722535779839177,
          1.095996918269043,
          -0.7476521324521245,
          0.7630212279146501,
          -1.8287895312926148,
          -0.9982908748653629,
          -1.3150636102613666,
          0.9851227004591488,
          0.2961037513832413,
          0.47733107452076345,
          0.6313866377361677,
          -0.08198936759722132,
          0.47671401530318797,
          -0.26180740536488717,
          -1.0452776976758917,
          0.4706930691340909,
          -1.5726311530461654,
          1.0741986530330148,
          0.4437236662314062,
          0.3533773304172739,
          0.7090567821239663,
          -1.0804136520158558,
          -0.23355684858680248,
          0.47216372055306055,
          2.4448818057957986,
          0.08552563055073788,
          -0.4609862227705813,
          0.5829304216167203,
          0.19348694660424307,
          -0.6303404979513321,
          -0.6860952726704116,
          -0.8944971822851528,
          -0.783061798056059,
          0.2616229302688008,
          -0.24722708298323154,
          -1.0475616763019928,
          -0.7295165249606443,
          1.6507696625398738,
          -0.14993216789069586,
          -0.8391163962967503,
          1.917473421141479,
          -0.656893643732084,
          1.0540089580022343,
          -0.7258100415529127,
          -0.9264057485862208,
          2.09922846532309,
          1.1794656286965406,
          -0.5638015305334877,
          1.5760808361996874,
          -0.8554746044495566,
          0.738568374105757,
          -1.015091206565717,
          1.7872320261981487,
          -0.706618777495318,
          -2.1042325695800415,
          -2.0546259884298173,
          1.9213033224224998,
          0.7137869398169623,
          -1.0964108945089663,
          1.543084637584525,
          -0.17552103273202674,
          1.4266687120846486,
          -0.22144494010554186,
          -2.0937062694413733,
          0.07376305113209623,
          -0.7446232995145035,
          -0.2006148143807102,
          -0.43605375542950425,
          1.467670257723034,
          -0.16198746623492374,
          0.004092489441621094,
          -0.9427324650195327,
          0.5096572515412543,
          -0.7399218952728003,
          0.5630690838096908,
          -1.4875072549925599,
          0.0974314177226513,
          -0.2565706200633965,
          0.34373810854793174,
          -2.372567273112818,
          -1.6299427673568587,
          0.9466502930613602,
          1.7741973466783245,
          -1.5237895443569553,
          1.8944644417739036,
          3.4894298182192816,
          0.012320640175511276,
          -0.10344941027469655,
          1.7455932437248332,
          1.8856217675367064,
          2.0818606192022173,
          -0.4421194171485403,
          -0.5747367078119592,
          1.3642921852276406,
          -0.9734627988100156,
          -0.28286820884520797,
          -0.5576806950817621,
          0.5381314014915591,
          -0.010941805780108742,
          -0.1454269126933012,
          0.6311014054495877,
          -2.0643552054184147,
          -0.0679347593154634,
          -1.8363989257021034,
          -0.645916975688553,
          0.4356383497905908,
          -1.9676620692776774,
          1.2531167418205915,
          1.4039792067158807,
          1.0577775157678702,
          -2.9214707676213045,
          -0.10264548580538978,
          -0.9787703223991396,
          -1.771564250210556,
          0.05558683893328784,
          -0.3670947464582792,
          -0.7908385886492492,
          -0.8551722106427861,
          0.3328066223736735,
          -0.1969905033509414,
          0.7523857585530046,
          1.4554872365232798,
          0.49764161641732796,
          0.21829065545998652,
          -0.509252350208775,
          0.7111825635795898,
          -2.843913927954523,
          1.0181479546646799,
          0.20785678280940484,
          0.3439316235952215,
          0.12429227543295097,
          1.6967493836838607,
          -0.24149260268776315,
          0.613077827292731,
          -0.919180270353021,
          -0.4283120285970404,
          0.3724222762524242,
          -4.09593609793681,
          0.052718561867564934,
          -0.3633712424048971,
          -0.20003263000682517,
          1.0836984797597522,
          0.11963643215904544,
          1.6476563112036655,
          0.19875591466535,
          -0.10990952265587962,
          -1.3346342871003405,
          -0.27425868581379664,
          0.5434331142772153,
          0.25888523349549797,
          0.31304475962211925,
          -0.9765385116807471,
          -0.3908239587964624,
          0.8831950123099093,
          1.6259610200917702,
          0.35054452779287804,
          1.3829600414483996,
          0.1967362416559729,
          0.19332742041260256,
          -0.38233425067041543,
          0.05063578154012948,
          1.2857417163798752,
          0.12801073133286794,
          1.0400813206629251,
          0.047709758029873865,
          1.6693028565954091,
          -1.1256387383029054,
          1.3442233740163905,
          -0.5794005651998432,
          0.15177268452074566,
          0.2928895561924852,
          -0.5261785486195328,
          -0.9658401884764911,
          2.047218178942629,
          -0.09828526320122002,
          1.2330534983356052,
          1.316042422642467,
          1.825721491601621,
          0.7541158054996332,
          -0.137269743622356,
          -1.2337453714559883,
          -0.8533218368438134,
          0.7826442491070028,
          0.2342140514419804,
          0.40758341162309886,
          -1.1958654992502984,
          -0.7431903686772602,
          0.37257222178987964,
          0.9353174399125974,
          0.2808753651114044,
          -0.3111417627432418,
          -0.5086098586390252,
          -0.6337877354555068,
          -0.09798406992089924,
          0.5926807937120492,
          0.9594794963376732,
          -0.3742109146166466,
          0.259593885871018,
          -0.2729795457392199,
          0.39616750951360286,
          -0.0935809815509358,
          0.10751586668617831,
          1.055318411336811,
          -0.8840902270928797,
          0.5247098253697279,
          -2.6706967859207356,
          1.461963685376773,
          -1.7240353560861847,
          1.124524175485481,
          -0.36164626561959534,
          -0.25807878242766125,
          -0.2306268045249787,
          -1.1020968451741093,
          0.37410709330383296,
          -0.2615697594154203,
          -0.8106082660767043,
          -0.4243201120851084,
          -0.9964257209191482,
          -0.05884472938681707,
          -2.442353479571677,
          1.1500627637368321,
          0.9258689103310558,
          0.2197868954710086,
          0.593834174290924,
          -0.21705342700655442,
          0.22325255670831307,
          1.3067698556565706,
          0.9459848902099555,
          -1.2098733817639127,
          -0.76152711754737,
          0.7244176540374627,
          -0.4616726868383373,
          -1.0202847559580874,
          0.08696397913403804,
          -0.6186340570581043,
          -0.8742906786366991,
          0.5524501006268078,
          0.6094682662106276,
          -1.5740616616635514,
          0.16245391794399794,
          -0.6230988266287006,
          0.8545423959702908,
          -1.6797272370126912,
          -0.21427434075461338,
          -1.2166869324713354,
          0.3639612382779748,
          0.4573945926953374,
          -0.21802654566713525,
          -0.25117988261957735,
          -0.9629727266377149,
          -1.1391078515444166,
          -2.073514348928834,
          -1.1028712237761484,
          1.8035433989933396,
          0.712973698305098,
          -0.8654416707951158,
          0.11553400614436059,
          0.17904257225804932,
          -0.4856062682224694,
          -1.5261231834786888,
          0.3757338416113577,
          2.088539827867502,
          -0.07272234312913513,
          -1.0724015622317853,
          -0.46416750420557845,
          0.517234978781185,
          -0.3976212019779734,
          2.0685780825182074,
          -0.533618025727868,
          0.6219107281934384,
          -1.2212190234832343,
          -0.14814005340810235,
          0.5025607237591599,
          -0.8368485218628537,
          0.14220416164385818,
          -0.2586649780177572,
          -1.5922997457838894,
          0.545084962477343,
          2.0361718381070886,
          -0.7925936136059136,
          0.258005770717972,
          -0.7452715242742387,
          1.2599734366754645,
          -1.4043072988338765,
          -0.7422491517430236,
          0.09451039062282231,
          -0.6837601674358996,
          0.0022327819940197316,
          0.44732317866571203,
          -0.3601264256173983,
          0.7928246188234332,
          0.8494575841045781,
          -0.4343728930873484,
          1.0068172302323952,
          -0.6638959159903601,
          -0.21837380279773183,
          0.3189926253825226,
          -0.6106953547086454,
          1.3322550668643967,
          1.2253198243505616,
          2.358397007922778,
          0.28515206343810584,
          -0.9973072903257059,
          -0.9808902571821446,
          -0.8164121497161749,
          -0.6404564877685665,
          0.2324504902979051,
          0.14993175694708183,
          1.5308290446644226,
          1.3497931488731683,
          0.264436631515911,
          0.11320419013873059,
          0.1988056104920179,
          -1.540793780169885,
          -0.9582777381251045,
          -2.3330009562409173,
          0.036186421725537626,
          2.0834023391468346,
          -0.7051169455931869,
          2.1272607218892023,
          1.6631318200997605,
          -2.3697116713270776,
          1.0174540368325238,
          -0.5010306154273239,
          0.5801663865349229,
          2.5697832654839603,
          -1.1196252479173274,
          1.114068207604582,
          0.336487004650545,
          -0.835704989017679,
          -0.24935700977414074,
          0.7222614686195494,
          -1.492006883772255,
          -1.0848221196422219,
          0.29559156428026406,
          -1.2537322162662012,
          1.4033377977396673,
          -0.13032591600139704,
          -0.7387764291189122,
          -1.0428968145060082,
          1.727651845360128,
          -0.43974455668201395
         ]
        }
       ],
       "layout": {
        "margin": {
         "b": 0,
         "l": 0,
         "r": 0,
         "t": 0
        }
       }
      },
      "text/html": [
       "<div>\n",
       "        \n",
       "        \n",
       "            <div id=\"67b66495-a9e9-4308-bf7c-d652257a74c8\" class=\"plotly-graph-div\" style=\"height:525px; width:100%;\"></div>\n",
       "            <script type=\"text/javascript\">\n",
       "                require([\"plotly\"], function(Plotly) {\n",
       "                    window.PLOTLYENV=window.PLOTLYENV || {};\n",
       "                    window.PLOTLYENV.BASE_URL='https://plot.ly';\n",
       "                    \n",
       "                if (document.getElementById(\"67b66495-a9e9-4308-bf7c-d652257a74c8\")) {\n",
       "                    Plotly.newPlot(\n",
       "                        '67b66495-a9e9-4308-bf7c-d652257a74c8',\n",
       "                        [{\"marker\": {\"color\": [1.703607475062005, 0.7104236496104207, 0.4903821176065363, 1.5354512732350734, 0.44195917962247155, 1.1310595982142957, -0.731933673264819, -0.6056466861164094, -1.394648408276538, 0.27315983345442624, 1.0755711730142237, 0.04561525809701998, 0.31207226167971874, 0.9715331197539014, 0.948146915261561, -0.06330341959583981, -0.02289061919950436, -0.2787589421864228, -0.2186593128234329, -1.7240504911210677, 0.09603859031598147, 0.6749827553941584, -1.7600172981912767, -0.23474191821359197, -0.30541922737242744, -1.914088602632287, 1.0315966320719956, -0.2989671127131018, 1.215611106275703, -0.9873939951792222, -0.21795318735555302, -1.4009591865680167, -0.7342455657211308, -1.0769480572631183, 1.1348000979119446, -1.3512120825137244, 0.7856019815673433, 1.5851362292244187, -0.1087597054254483, -0.2130250098863099, -1.0626650633798602, 0.5036732552332849, -0.3207579392228181, -0.5020849587898354, -1.7251714705244887, 0.4738453183590819, -0.9026002049031461, -0.4575761920348678, 0.038381963275419616, 0.25725805702259485, -2.059228957225511, -0.12260962511210868, -0.30658122315167335, -1.3127273414585106, -0.20491033323418317, -0.27873159159965577, 0.7462214391882247, -1.209219904761458, -0.7722535779839177, 1.095996918269043, -0.7476521324521245, 0.7630212279146501, -1.8287895312926148, -0.9982908748653629, -1.3150636102613666, 0.9851227004591488, 0.2961037513832413, 0.47733107452076345, 0.6313866377361677, -0.08198936759722132, 0.47671401530318797, -0.26180740536488717, -1.0452776976758917, 0.4706930691340909, -1.5726311530461654, 1.0741986530330148, 0.4437236662314062, 0.3533773304172739, 0.7090567821239663, -1.0804136520158558, -0.23355684858680248, 0.47216372055306055, 2.4448818057957986, 0.08552563055073788, -0.4609862227705813, 0.5829304216167203, 0.19348694660424307, -0.6303404979513321, -0.6860952726704116, -0.8944971822851528, -0.783061798056059, 0.2616229302688008, -0.24722708298323154, -1.0475616763019928, -0.7295165249606443, 1.6507696625398738, -0.14993216789069586, -0.8391163962967503, 1.917473421141479, -0.656893643732084, 1.0540089580022343, -0.7258100415529127, -0.9264057485862208, 2.09922846532309, 1.1794656286965406, -0.5638015305334877, 1.5760808361996874, -0.8554746044495566, 0.738568374105757, -1.015091206565717, 1.7872320261981487, -0.706618777495318, -2.1042325695800415, -2.0546259884298173, 1.9213033224224998, 0.7137869398169623, -1.0964108945089663, 1.543084637584525, -0.17552103273202674, 1.4266687120846486, -0.22144494010554186, -2.0937062694413733, 0.07376305113209623, -0.7446232995145035, -0.2006148143807102, -0.43605375542950425, 1.467670257723034, -0.16198746623492374, 0.004092489441621094, -0.9427324650195327, 0.5096572515412543, -0.7399218952728003, 0.5630690838096908, -1.4875072549925599, 0.0974314177226513, -0.2565706200633965, 0.34373810854793174, -2.372567273112818, -1.6299427673568587, 0.9466502930613602, 1.7741973466783245, -1.5237895443569553, 1.8944644417739036, 3.4894298182192816, 0.012320640175511276, -0.10344941027469655, 1.7455932437248332, 1.8856217675367064, 2.0818606192022173, -0.4421194171485403, -0.5747367078119592, 1.3642921852276406, -0.9734627988100156, -0.28286820884520797, -0.5576806950817621, 0.5381314014915591, -0.010941805780108742, -0.1454269126933012, 0.6311014054495877, -2.0643552054184147, -0.0679347593154634, -1.8363989257021034, -0.645916975688553, 0.4356383497905908, -1.9676620692776774, 1.2531167418205915, 1.4039792067158807, 1.0577775157678702, -2.9214707676213045, -0.10264548580538978, -0.9787703223991396, -1.771564250210556, 0.05558683893328784, -0.3670947464582792, -0.7908385886492492, -0.8551722106427861, 0.3328066223736735, -0.1969905033509414, 0.7523857585530046, 1.4554872365232798, 0.49764161641732796, 0.21829065545998652, -0.509252350208775, 0.7111825635795898, -2.843913927954523, 1.0181479546646799, 0.20785678280940484, 0.3439316235952215, 0.12429227543295097, 1.6967493836838607, -0.24149260268776315, 0.613077827292731, -0.919180270353021, -0.4283120285970404, 0.3724222762524242, -4.09593609793681, 0.052718561867564934, -0.3633712424048971, -0.20003263000682517, 1.0836984797597522, 0.11963643215904544, 1.6476563112036655, 0.19875591466535, -0.10990952265587962, -1.3346342871003405, -0.27425868581379664, 0.5434331142772153, 0.25888523349549797, 0.31304475962211925, -0.9765385116807471, -0.3908239587964624, 0.8831950123099093, 1.6259610200917702, 0.35054452779287804, 1.3829600414483996, 0.1967362416559729, 0.19332742041260256, -0.38233425067041543, 0.05063578154012948, 1.2857417163798752, 0.12801073133286794, 1.0400813206629251, 0.047709758029873865, 1.6693028565954091, -1.1256387383029054, 1.3442233740163905, -0.5794005651998432, 0.15177268452074566, 0.2928895561924852, -0.5261785486195328, -0.9658401884764911, 2.047218178942629, -0.09828526320122002, 1.2330534983356052, 1.316042422642467, 1.825721491601621, 0.7541158054996332, -0.137269743622356, -1.2337453714559883, -0.8533218368438134, 0.7826442491070028, 0.2342140514419804, 0.40758341162309886, -1.1958654992502984, -0.7431903686772602, 0.37257222178987964, 0.9353174399125974, 0.2808753651114044, -0.3111417627432418, -0.5086098586390252, -0.6337877354555068, -0.09798406992089924, 0.5926807937120492, 0.9594794963376732, -0.3742109146166466, 0.259593885871018, -0.2729795457392199, 0.39616750951360286, -0.0935809815509358, 0.10751586668617831, 1.055318411336811, -0.8840902270928797, 0.5247098253697279, -2.6706967859207356, 1.461963685376773, -1.7240353560861847, 1.124524175485481, -0.36164626561959534, -0.25807878242766125, -0.2306268045249787, -1.1020968451741093, 0.37410709330383296, -0.2615697594154203, -0.8106082660767043, -0.4243201120851084, -0.9964257209191482, -0.05884472938681707, -2.442353479571677, 1.1500627637368321, 0.9258689103310558, 0.2197868954710086, 0.593834174290924, -0.21705342700655442, 0.22325255670831307, 1.3067698556565706, 0.9459848902099555, -1.2098733817639127, -0.76152711754737, 0.7244176540374627, -0.4616726868383373, -1.0202847559580874, 0.08696397913403804, -0.6186340570581043, -0.8742906786366991, 0.5524501006268078, 0.6094682662106276, -1.5740616616635514, 0.16245391794399794, -0.6230988266287006, 0.8545423959702908, -1.6797272370126912, -0.21427434075461338, -1.2166869324713354, 0.3639612382779748, 0.4573945926953374, -0.21802654566713525, -0.25117988261957735, -0.9629727266377149, -1.1391078515444166, -2.073514348928834, -1.1028712237761484, 1.8035433989933396, 0.712973698305098, -0.8654416707951158, 0.11553400614436059, 0.17904257225804932, -0.4856062682224694, -1.5261231834786888, 0.3757338416113577, 2.088539827867502, -0.07272234312913513, -1.0724015622317853, -0.46416750420557845, 0.517234978781185, -0.3976212019779734, 2.0685780825182074, -0.533618025727868, 0.6219107281934384, -1.2212190234832343, -0.14814005340810235, 0.5025607237591599, -0.8368485218628537, 0.14220416164385818, -0.2586649780177572, -1.5922997457838894, 0.545084962477343, 2.0361718381070886, -0.7925936136059136, 0.258005770717972, -0.7452715242742387, 1.2599734366754645, -1.4043072988338765, -0.7422491517430236, 0.09451039062282231, -0.6837601674358996, 0.0022327819940197316, 0.44732317866571203, -0.3601264256173983, 0.7928246188234332, 0.8494575841045781, -0.4343728930873484, 1.0068172302323952, -0.6638959159903601, -0.21837380279773183, 0.3189926253825226, -0.6106953547086454, 1.3322550668643967, 1.2253198243505616, 2.358397007922778, 0.28515206343810584, -0.9973072903257059, -0.9808902571821446, -0.8164121497161749, -0.6404564877685665, 0.2324504902979051, 0.14993175694708183, 1.5308290446644226, 1.3497931488731683, 0.264436631515911, 0.11320419013873059, 0.1988056104920179, -1.540793780169885, -0.9582777381251045, -2.3330009562409173, 0.036186421725537626, 2.0834023391468346, -0.7051169455931869, 2.1272607218892023, 1.6631318200997605, -2.3697116713270776, 1.0174540368325238, -0.5010306154273239, 0.5801663865349229, 2.5697832654839603, -1.1196252479173274, 1.114068207604582, 0.336487004650545, -0.835704989017679, -0.24935700977414074, 0.7222614686195494, -1.492006883772255, -1.0848221196422219, 0.29559156428026406, -1.2537322162662012, 1.4033377977396673, -0.13032591600139704, -0.7387764291189122, -1.0428968145060082, 1.727651845360128, -0.43974455668201395], \"colorscale\": \"Viridis\", \"opacity\": 0.8, \"size\": 12}, \"mode\": \"markers\", \"type\": \"scatter3d\", \"uid\": \"3b127259-2314-4f20-85fc-a17a369ad0f5\", \"x\": [-1.0484066284463005, -0.4178964490206651, -0.6059309357003597, -0.597961971126165, 0.39993628911063395, -0.2790909780617612, 1.006536515159082, -0.9041288691612008, -0.3078878943180053, -0.23196172455214173, 0.736554020755742, -1.6232842714970739, -0.9434330126447723, 0.17957129081124315, -0.12674860277340969, 0.5821113921607262, -0.45330540767547006, -0.6324804838191903, -0.3310525551712621, -0.7803944170561666, -0.7755550772406694, -0.717895201869397, 0.009938574669236536, 0.5648181911475473, 0.49091808278688476, -1.19380924522282, 1.1866066883424493, -1.2109173530051667, -0.4039497587064379, 0.3449229884403354, -0.06380603301182028, -0.5606175730781411, 0.12180520428473822, -0.26629548157289207, 0.48938913038177956, 1.5744461575799549, -0.23413838178151825, 0.415715998262114, 0.0714362596532977, 0.5339762588882186, 0.41545229013934204, -0.006819669727613911, 0.29833659516398087, 1.1687861863017575, 0.18107036712083727, 1.330566118677438, 1.831972995854513, -0.29380497374620446, 2.1937303269953907, 0.19696813216433276, 0.8513521589903946, -0.2503973389716612, 0.2779888615034521, -1.0349759413539728, -0.5404435091930143, -0.4813820216775019, 0.11701314616354822, -0.6444770546169962, -1.8306051912302121, 0.3546430779688766, 1.8444228236379916, 0.3932397935893186, 1.005718606713249, -0.4926300318044966, -0.5020380504149116, 0.5400858580446151, 0.34415031583946676, 0.33119720829523086, -0.9045739303359959, 0.9656955019882029, 0.02364113617245668, 0.17040754033507619, -0.0673658785469919, -1.017152532952874, -0.4827327236874991, 0.13967252055626705, 1.0829004950687386, 0.6476894739084933, 0.09194385824194892, -0.08058303507936315, -0.2734864462783069, 1.780996863024383, -0.07694472585253129, 0.9365911979820223, -2.7523390540196697, -0.7054004929081242, -0.9611914452732754, 0.6654838020801539, -0.8032960761089758, 1.582219691266529, -0.6969559532861436, -0.7293038179492415, -1.4828918766586376, 1.9071451953468117, 0.1745618779418261, -0.06312160450396216, 1.8883128280844035, 0.19861898375658424, 2.3959048886576877, -0.6843129527033184, -0.27073139711801536, 0.8071549272303362, -1.21243043742092, 1.199722962683093, -1.2782861291936256, 1.1390349044145238, 1.4971646037407886, -1.5003433739589873, -0.28353781352567925, -1.2281939335005263, -0.4914362167010147, -0.9309402395581142, 0.29572701190819395, -0.9623124523578704, -0.7707895479018693, -0.1982814179803503, -0.40343407330520986, -2.8687678866159314, 0.505197903848194, 3.5026142790094426, 0.11191806263364526, 0.6498858066256167, -0.38296990141607035, 0.20285031316883567, -0.6767714126503974, 0.06145438541528348, 1.6998715009965297, -0.1673109718157191, -0.09963280338822308, -0.8711426805338326, -1.69902018436453, 0.43373788231313265, 0.8601730968754178, -0.31019692676385746, -0.9645580777797834, -0.22772179768326403, -1.2016735461514216, -1.1962164686108776, -1.3998630795079712, -1.049775807626126, 0.7832784713753576, -2.2614388492655184, 0.7730901113311014, -0.5150269029040163, 0.029704599234784936, -0.013612705886484342, -1.2099176156259284, -0.8010090500919514, -0.17103546533133562, 1.429005021864539, 0.07262034389468912, 0.6860802199344057, 1.1883268227957038, -1.0212586425994874, -0.8645262876924186, -1.1641373357143403, -0.042794661310038395, -0.21043061180369577, -0.7201026949739278, 1.345756403860989, -0.1973086141312683, -0.08720769779846464, 0.7910104624787553, -1.3703012156875327, 0.27757144526351163, 0.007038693652680289, -1.6305502233169817, 0.621706545373269, 0.523087182963814, 0.03541345071851989, 1.0932158495132007, -0.8861198097776333, 1.6617332047654103, -0.20908330869965372, 0.23840969049181385, 0.8752460984030277, -2.2484238992383667, -0.7446836279039368, 0.9677557545429212, -1.022945388397058, 0.7936122342347735, 0.5051982086468124, 0.8873170231833575, 0.08184758595918216, 0.30889355115361233, 0.739006223005253, 0.9831606529966639, 0.38245246622168894, 0.17483488351353765, 0.9539690319514738, -0.769165383520452, -0.1811167381310874, 0.5290611364213649, 0.4727357059536603, -0.6123058227087113, 0.6043800959947604, -1.184147340493761, -0.32907540711501104, -0.1208763643341435, 1.5906541206121174, -1.1565939600080382, -1.309874114608214, -0.7282557052035825, -0.5719539892624801, -0.3145941276217153, 0.6455994075142947, 1.3756350109502329, 0.8890662280279802, -0.8245873062516281, 0.45598606449881546, -1.1059216173193196, -0.08326591838163094, 0.49259691124519733, -1.2105411251056748, -0.47070965773499684, -0.3689505932212278, 1.3400169270037208, 1.013104333324192, -0.2857621173221356, -0.23385590615574686, 0.2732176891366413, 1.3402858936126647, 0.08087474849762769, -0.1921328867738587, -1.1307497067178012, -0.6722849195164331, 0.2624103126540651, -0.5796201271076706, -0.5155094069075691, -1.4755851112645468, 1.0286279417880586, 1.7701045163468079, -0.45948314375620153, 0.7060531470888836, 0.8657380088195328, -0.42780977168561446, 0.2521694312511462, -0.38722928043897387, 0.05708415331673887, 0.3967062369707725, -2.371056402197189, 0.440929067550638, 0.386252297952959, -1.4664077899837737, 0.4854247502539171, -1.0001951386022316, -0.6463959238534047, -1.2842210025257121, -1.4789247731049078, 0.1445570748026653, 3.2015512509650055, 0.5972019605389367, -0.14946192767851857, 1.6090115985705673, 0.6934156549608576, 0.44331832521155845, 0.6518458567713495, 1.000162475354582, 0.8768358395869009, 0.5034230538417855, 0.5835034706925604, -0.10399278936538592, -0.6713767221099188, -0.1507516396104989, -1.9805812422020703, -0.37309825770687827, 0.07590266838147923, 0.73003528141407, -0.5669082986902202, 1.2713099002397419, -1.2820986577006237, -0.21160749353051975, -0.08938048447976503, -0.017314841087542228, -0.11293522401275176, -1.4373147446397505, 1.0929914173954762, 0.12452671056897723, 0.4574914250381071, -0.8308777394489053, -0.3563506571101793, -0.27697968094926567, -1.0112868974235658, -0.2943548714572657, -1.2880767829614574, 0.22286301686910331, -2.000610061888032, -0.39012688872349033, 2.863910983434242, -2.31364092966218, -1.8835089992513556, -1.367066592645963, -1.1263847864226806, 0.13268248591570708, 0.7621232317947778, -0.8401602871054392, 0.8215784699469064, -0.5491235112963304, -0.6777902412261377, -1.3135561804735651, 0.48536180617918967, 1.4335426245137508, -1.2877663512973563, 1.2961196517961504, 0.16462408819338914, 0.985631345110363, -1.7763268000920949, 1.2391356870808206, -1.029999726447432, 2.1004421668054136, 0.8582041689331459, 0.40918463101714436, 1.1729189973278988, -2.1265914461496687, 0.23883788147391852, 0.9410834457303592, -0.7276353392439752, 1.3289190339449186, 0.8467818002351732, 0.17782218720681883, -0.5502856482507552, -1.327870575115937, 0.7862047618648859, 0.8879939470871748, 0.6673895757551487, -1.8564612478186926, 0.305654101584798, -0.8377822126205539, -0.1399342036014552, -0.09811379550097946, 1.8709154825534686, -0.5667657820184773, -1.943187507595414, 0.6192295143495559, 0.9748254487336718, -1.3806429514737448, 1.7879659062363973, -0.005430062960801075, 0.24255346903465755, 0.36916624582496993, 0.19936104276480687, 0.1057417220618356, 0.9496763539022152, -0.0778050710094423, -1.161773563119792, -1.2023320883947617, -0.7749163412048206, 0.05286013970457007, -1.4060555682411364, 3.4206216645227014, 0.1057560930097393, -0.018560429707648568, 0.5617090105667816, 1.6319647551347474, 0.13270183889217174, -0.6144371496638985, -0.43649737480948564, 0.13857094201576953, 1.2800253906899322, -0.9147278272868677, 0.2854324145304542, -1.6793597787110977, 0.895786811555559, -0.8783531198060387, 0.6265685716966521, -0.9039664140205018, 0.3969183116075475, 0.3673291330655446, 0.750014305830431, 0.06455599876058485, -0.13426330357253657, 1.0109875498884147, -2.278764642367843, -0.1038803410999793, -1.151129291111023, -0.68481009028886, 0.06213015923046523, 1.5386500193905357, -1.5513099130966663, -0.04755874196434608, -1.6592695253448457, -0.28587296705893916, -1.597432895791271, 0.9325254912956583, 1.0361233700644963, 0.7500139839310337, -0.4127380257672044, 0.7148120271147772, -1.099428535584626, 0.4495101741319059, -0.35898626821559093, -0.19134622568958942, 0.6765929992867806, 0.5308020000153619, 0.18710445703238476, 0.10946883106864234, -0.7752371360917042, 0.15231972078839723, -0.13689863542181807, 0.6277889324091944], \"y\": [1.237317095092734, 1.6212543612431318, 0.6261902430660903, 0.29031592743931983, 1.5184943161646214, 1.944700090957574, 2.0741245399125807, 0.15070788707805807, -0.2281058865054344, -0.6926756798241831, -0.026220609371832914, -0.21984605903442594, -0.7303401162948775, -0.7116819276758216, 0.07028018218150314, 0.5310363911003124, 0.43544497064335147, -0.9461444009988299, -1.3575781466826997, -0.41576861902987494, -1.0806500281374578, -2.0696744356787766, 0.6940563330486207, 0.8904319696980654, -0.023043994501268608, -1.8172031495944363, -1.1299049506067473, -0.9234782053816902, 0.7807834379410697, -0.6845741574009984, -0.0626123191230534, 0.7189847604421795, -0.37962045738314676, 1.6854801948563851, 0.3227443499980405, 1.0803265022309123, -0.5697866619776131, -0.24837602279650425, -1.2417843053817172, 1.1072966993696205, -2.0467535870478675, -2.5272029864726413, -0.6659121196342087, -1.1489530941503066, -0.39686539372479773, -0.24633904818579502, -0.6223156191888165, 0.2927699347942895, 0.7994212561875007, 1.160318138866258, -0.9220880748817629, -0.49255090668713597, 1.1622054907540407, 1.543991452691905, 0.5345937529863571, 2.1053569274956527, -0.956185738060284, 1.5871060969700317, 1.5988787872742791, -1.6572118370986775, -0.8234001158414045, -0.2771815373635844, 0.5296707688653532, 0.44234596405946125, -0.2954828614445683, 2.5859440773581976, 0.4802892914368148, 1.366657134800799, 0.6270680888693494, -0.5230865478490132, -0.7245929005341623, 0.5709173929982628, 0.411197904659266, -1.339289599855565, -0.5588490434082358, 1.0900242853308273, -0.13171043487931716, -0.30869189650289225, -0.47551162254216667, 1.0256487920842878, 0.6651744167412392, -1.95506736268823, 1.9712040204557186, 0.803039830290459, 0.3427623358252836, -0.48016529054846796, -0.08202269078719478, 0.18936125928721206, 1.6974436430840192, 1.6566234641913407, 0.9262330180249809, -2.3569669553553254, -0.014638622458477663, 0.6873884012523799, 0.6405092923266056, -0.7238781030777305, -0.056950441821120155, -1.0385213748993003, -0.0011693504313115988, -0.8398049253743352, -0.3915642281658204, 0.6856722535673074, 1.3228850929254476, 0.3309304199540043, -0.34826937639959804, 0.5593346587645059, -1.217604008060031, 0.1352178786137489, -1.3649822611273046, -0.2356530847293303, 0.7878873678012536, 0.06492085450551521, -1.2974936560813746, 2.964588470090097, 0.307754790389339, 0.10925007963265704, -1.4548906888074633, 1.2081788417213923, -0.10553043392180553, -0.8750662669112941, 0.9165883452137544, -0.7310634011868665, -0.46963946964384756, -0.12165063840323005, -0.11970844783722173, -0.4682927436394869, -0.49805073637380803, -0.40618490889357206, -0.9466749386519077, 1.1395261805665617, -0.09442351071972127, -0.4591825728066259, 0.7975991858309346, 0.9645277000458738, -0.8377902403890062, -0.9005325663857778, 1.6227826547587219, 1.1124200436745266, -0.3917777656949739, 0.054718854515381624, -0.8327391431483232, -0.6119296775098096, 0.7138206484001961, -0.8705502712269808, -1.6178870791812467, 1.659531245262292, -0.9767472450164555, -0.3990262400120095, -0.4431765943180792, -0.660383385511534, 0.9748671362810124, 1.1562290834503268, 0.2918476406940293, -0.6757905602487131, -2.634659587560087, -1.1250153625032069, 0.06829627295081565, -0.10223012661966051, -2.0520446465247146, -0.2506449292031796, 0.8191166679830678, 0.8016756223264768, -1.5999513243519292, -1.9775455774933515, -0.7748799683546386, 0.8830710630058975, -1.2990136172812825, -0.488719602494921, -0.12053598494357093, -0.9353159391590183, -0.286878846916037, -0.5680261304656007, -1.7274111319968541, -0.44972052057539047, 0.2565343819203016, -0.22529329480965557, 0.5794291800111198, -0.4801547698328429, -0.38386812255674796, -0.5078824272027411, 0.31584786525677483, 1.5201596061883642, 0.6700170161506905, -0.5547683299602342, 0.46171327892728653, -1.4791461591247574, -0.9421237670270193, 0.12698757445696224, -2.7833873239489955, -0.3401874738342631, 0.3510161698670884, -1.5656264021237771, 0.361008583405587, -1.167253766687685, -1.340577547092407, 0.8407020954194184, 0.714878930053909, 1.1624366682319747, -0.4756656820688215, -1.0475645764330637, -1.5958816528991564, -1.4618656288567837, -1.1160903966493645, 2.424348459575532, 0.11691358131652915, 1.1488132971096212, 0.70683636633259, 0.13880798543408243, 0.44124582779956983, -1.005833158426022, -1.9883572446321747, 0.20240004608269527, -1.7479523128624288, 1.723439598827758, 0.9487651673039234, -2.7841391328317235, -0.3897052441431819, -0.99065196764702, 1.7069994624349232, -1.0110777032210374, 0.7563721579073256, 0.7283247481113914, -1.297178344557872, -0.6347789799986909, -0.9375529720544489, -0.7391268098280791, -1.3619325170722052, -1.2410503396197043, 0.22098033002951417, -0.5886901664321066, 0.8238971194037495, -0.7762914211106856, -1.7467460633877439, -2.060602949552468, -1.5247774359495139, 0.25406139327391725, -0.2579941226402051, -0.8428601114053411, -0.7445278692384959, -0.6375684012737692, 0.05284782817470667, -0.5696076506409504, 0.08730638151849643, -0.4897220409331079, -1.8391316823931743, 0.3723888071660528, 2.2921188057070334, -0.17863816585154713, -0.06649000501572626, -0.6934087847306968, 1.357260767862077, 1.761747082951177, 0.2541759423897852, 0.8027624948520508, -0.6624967791125319, -0.008450268689316354, 2.799818994614859, -0.17696984905641314, -1.2521515899049138, -1.0202613554595634, 0.2533804436740867, 0.4471292107451516, 0.05051664511174948, -0.47305791240112843, 0.9166452553072512, 2.03823264371699, -1.0415673980764673, -0.33327669582736547, 2.241085246388154, 0.6719471720999544, 0.02103791581705021, -0.6518891298646748, 0.556811635749726, 0.39813221804357024, 0.5728351929578736, -0.15491608398973877, 1.7547000993672892, -0.8894568102490314, -1.6039194865978543, 0.34723718602394255, -0.5309939023379642, 1.72791088074383, -0.8510134603370398, 0.16450985415518854, -0.3260722851950345, -0.005087091178996974, 0.6913681225954251, -0.9154316575786089, -1.3164565595463116, 1.8417721907823061, 1.0380272603638048, 0.47166137072617365, -0.8829104992267458, 0.8801430699411921, 0.8028327698543791, 1.3125874650530003, 0.2410095595583469, -0.7385207757857606, -0.7445161583356843, 0.12587597441949888, 1.7924071554163605, 1.2864151367809504, -0.34713733202503194, 1.2459588446664216, -0.4023302836836715, -0.6149347958205426, -1.6839641361949196, -0.48977957065821304, -0.5911354647383946, -0.628622457207185, 1.1237381964349304, -0.09841806888716374, 1.8679741256229168, 1.230160991351944, -0.056261636665071446, -0.15302435932730246, 2.3293311460825996, -1.5655171540490576, 0.35262418984147703, -0.791786686172038, -1.1117284890462098, 1.5261921570888728, -0.05074285208859289, -0.10766042662916837, -0.8412110141303842, -1.3190496857850253, 1.0508450473080821, -0.6980876811068956, 2.0968835345551162, 0.590213511490006, 0.9654871800098084, -0.26924138317101326, 2.2838300624476493, 0.04421644677528901, 0.5199288366461199, 0.5287391980248821, -0.4307919310535108, -0.2963798999681749, 0.04827626770862387, 0.01881156016265965, 0.43173857353303097, -1.567421199045827, 1.4784498058335387, 0.5478030655716466, 1.1538778757434471, -0.23052903615009931, -1.1816460448336032, 0.8085478130021884, -0.2957991531617514, -0.8430366197292722, -0.6174591177338674, -0.5135786749094227, -0.38761749465335693, 0.7123674452463027, -1.9395495665368578, 0.12926807129472792, 0.6320592425106248, -0.3745141401544979, -0.021984868939348323, 0.1537576772067829, 0.5164362678759385, -0.15691230158497893, -1.800240072620644, 0.05500644764167554, -0.43945020978529836, 1.246958104977489, -0.28021699025152397, 0.2799605259183534, -1.6283677951839628, 0.14375740785584748, -1.0673623025860557, -0.8697446848127908, -1.71952271095888, 0.25194345528148665, -1.0029983908353328, -0.5907032989728764, -0.04389277969977627, -0.4738743365458235, 2.772353171210013, -0.053178044126183974, -0.007226216713038474, 0.4740184646774705, -0.22313818011295466, 0.4443892198704315, 0.6595019781793405, 0.5020948308857591, 2.1030520049204746, -0.3578854961870593, -0.20313179278952617, 0.5090085916539239, -0.712653575391075, 0.48401375679886555, -1.765286989978176, 0.42499113018655404, 1.763810042584045, 0.7040859595946097, -0.8779921576992177, -0.5177714773880768, 0.6623802574240838, 0.18564402620948572], \"z\": [1.703607475062005, 0.7104236496104207, 0.4903821176065363, 1.5354512732350734, 0.44195917962247155, 1.1310595982142957, -0.731933673264819, -0.6056466861164094, -1.394648408276538, 0.27315983345442624, 1.0755711730142237, 0.04561525809701998, 0.31207226167971874, 0.9715331197539014, 0.948146915261561, -0.06330341959583981, -0.02289061919950436, -0.2787589421864228, -0.2186593128234329, -1.7240504911210677, 0.09603859031598147, 0.6749827553941584, -1.7600172981912767, -0.23474191821359197, -0.30541922737242744, -1.914088602632287, 1.0315966320719956, -0.2989671127131018, 1.215611106275703, -0.9873939951792222, -0.21795318735555302, -1.4009591865680167, -0.7342455657211308, -1.0769480572631183, 1.1348000979119446, -1.3512120825137244, 0.7856019815673433, 1.5851362292244187, -0.1087597054254483, -0.2130250098863099, -1.0626650633798602, 0.5036732552332849, -0.3207579392228181, -0.5020849587898354, -1.7251714705244887, 0.4738453183590819, -0.9026002049031461, -0.4575761920348678, 0.038381963275419616, 0.25725805702259485, -2.059228957225511, -0.12260962511210868, -0.30658122315167335, -1.3127273414585106, -0.20491033323418317, -0.27873159159965577, 0.7462214391882247, -1.209219904761458, -0.7722535779839177, 1.095996918269043, -0.7476521324521245, 0.7630212279146501, -1.8287895312926148, -0.9982908748653629, -1.3150636102613666, 0.9851227004591488, 0.2961037513832413, 0.47733107452076345, 0.6313866377361677, -0.08198936759722132, 0.47671401530318797, -0.26180740536488717, -1.0452776976758917, 0.4706930691340909, -1.5726311530461654, 1.0741986530330148, 0.4437236662314062, 0.3533773304172739, 0.7090567821239663, -1.0804136520158558, -0.23355684858680248, 0.47216372055306055, 2.4448818057957986, 0.08552563055073788, -0.4609862227705813, 0.5829304216167203, 0.19348694660424307, -0.6303404979513321, -0.6860952726704116, -0.8944971822851528, -0.783061798056059, 0.2616229302688008, -0.24722708298323154, -1.0475616763019928, -0.7295165249606443, 1.6507696625398738, -0.14993216789069586, -0.8391163962967503, 1.917473421141479, -0.656893643732084, 1.0540089580022343, -0.7258100415529127, -0.9264057485862208, 2.09922846532309, 1.1794656286965406, -0.5638015305334877, 1.5760808361996874, -0.8554746044495566, 0.738568374105757, -1.015091206565717, 1.7872320261981487, -0.706618777495318, -2.1042325695800415, -2.0546259884298173, 1.9213033224224998, 0.7137869398169623, -1.0964108945089663, 1.543084637584525, -0.17552103273202674, 1.4266687120846486, -0.22144494010554186, -2.0937062694413733, 0.07376305113209623, -0.7446232995145035, -0.2006148143807102, -0.43605375542950425, 1.467670257723034, -0.16198746623492374, 0.004092489441621094, -0.9427324650195327, 0.5096572515412543, -0.7399218952728003, 0.5630690838096908, -1.4875072549925599, 0.0974314177226513, -0.2565706200633965, 0.34373810854793174, -2.372567273112818, -1.6299427673568587, 0.9466502930613602, 1.7741973466783245, -1.5237895443569553, 1.8944644417739036, 3.4894298182192816, 0.012320640175511276, -0.10344941027469655, 1.7455932437248332, 1.8856217675367064, 2.0818606192022173, -0.4421194171485403, -0.5747367078119592, 1.3642921852276406, -0.9734627988100156, -0.28286820884520797, -0.5576806950817621, 0.5381314014915591, -0.010941805780108742, -0.1454269126933012, 0.6311014054495877, -2.0643552054184147, -0.0679347593154634, -1.8363989257021034, -0.645916975688553, 0.4356383497905908, -1.9676620692776774, 1.2531167418205915, 1.4039792067158807, 1.0577775157678702, -2.9214707676213045, -0.10264548580538978, -0.9787703223991396, -1.771564250210556, 0.05558683893328784, -0.3670947464582792, -0.7908385886492492, -0.8551722106427861, 0.3328066223736735, -0.1969905033509414, 0.7523857585530046, 1.4554872365232798, 0.49764161641732796, 0.21829065545998652, -0.509252350208775, 0.7111825635795898, -2.843913927954523, 1.0181479546646799, 0.20785678280940484, 0.3439316235952215, 0.12429227543295097, 1.6967493836838607, -0.24149260268776315, 0.613077827292731, -0.919180270353021, -0.4283120285970404, 0.3724222762524242, -4.09593609793681, 0.052718561867564934, -0.3633712424048971, -0.20003263000682517, 1.0836984797597522, 0.11963643215904544, 1.6476563112036655, 0.19875591466535, -0.10990952265587962, -1.3346342871003405, -0.27425868581379664, 0.5434331142772153, 0.25888523349549797, 0.31304475962211925, -0.9765385116807471, -0.3908239587964624, 0.8831950123099093, 1.6259610200917702, 0.35054452779287804, 1.3829600414483996, 0.1967362416559729, 0.19332742041260256, -0.38233425067041543, 0.05063578154012948, 1.2857417163798752, 0.12801073133286794, 1.0400813206629251, 0.047709758029873865, 1.6693028565954091, -1.1256387383029054, 1.3442233740163905, -0.5794005651998432, 0.15177268452074566, 0.2928895561924852, -0.5261785486195328, -0.9658401884764911, 2.047218178942629, -0.09828526320122002, 1.2330534983356052, 1.316042422642467, 1.825721491601621, 0.7541158054996332, -0.137269743622356, -1.2337453714559883, -0.8533218368438134, 0.7826442491070028, 0.2342140514419804, 0.40758341162309886, -1.1958654992502984, -0.7431903686772602, 0.37257222178987964, 0.9353174399125974, 0.2808753651114044, -0.3111417627432418, -0.5086098586390252, -0.6337877354555068, -0.09798406992089924, 0.5926807937120492, 0.9594794963376732, -0.3742109146166466, 0.259593885871018, -0.2729795457392199, 0.39616750951360286, -0.0935809815509358, 0.10751586668617831, 1.055318411336811, -0.8840902270928797, 0.5247098253697279, -2.6706967859207356, 1.461963685376773, -1.7240353560861847, 1.124524175485481, -0.36164626561959534, -0.25807878242766125, -0.2306268045249787, -1.1020968451741093, 0.37410709330383296, -0.2615697594154203, -0.8106082660767043, -0.4243201120851084, -0.9964257209191482, -0.05884472938681707, -2.442353479571677, 1.1500627637368321, 0.9258689103310558, 0.2197868954710086, 0.593834174290924, -0.21705342700655442, 0.22325255670831307, 1.3067698556565706, 0.9459848902099555, -1.2098733817639127, -0.76152711754737, 0.7244176540374627, -0.4616726868383373, -1.0202847559580874, 0.08696397913403804, -0.6186340570581043, -0.8742906786366991, 0.5524501006268078, 0.6094682662106276, -1.5740616616635514, 0.16245391794399794, -0.6230988266287006, 0.8545423959702908, -1.6797272370126912, -0.21427434075461338, -1.2166869324713354, 0.3639612382779748, 0.4573945926953374, -0.21802654566713525, -0.25117988261957735, -0.9629727266377149, -1.1391078515444166, -2.073514348928834, -1.1028712237761484, 1.8035433989933396, 0.712973698305098, -0.8654416707951158, 0.11553400614436059, 0.17904257225804932, -0.4856062682224694, -1.5261231834786888, 0.3757338416113577, 2.088539827867502, -0.07272234312913513, -1.0724015622317853, -0.46416750420557845, 0.517234978781185, -0.3976212019779734, 2.0685780825182074, -0.533618025727868, 0.6219107281934384, -1.2212190234832343, -0.14814005340810235, 0.5025607237591599, -0.8368485218628537, 0.14220416164385818, -0.2586649780177572, -1.5922997457838894, 0.545084962477343, 2.0361718381070886, -0.7925936136059136, 0.258005770717972, -0.7452715242742387, 1.2599734366754645, -1.4043072988338765, -0.7422491517430236, 0.09451039062282231, -0.6837601674358996, 0.0022327819940197316, 0.44732317866571203, -0.3601264256173983, 0.7928246188234332, 0.8494575841045781, -0.4343728930873484, 1.0068172302323952, -0.6638959159903601, -0.21837380279773183, 0.3189926253825226, -0.6106953547086454, 1.3322550668643967, 1.2253198243505616, 2.358397007922778, 0.28515206343810584, -0.9973072903257059, -0.9808902571821446, -0.8164121497161749, -0.6404564877685665, 0.2324504902979051, 0.14993175694708183, 1.5308290446644226, 1.3497931488731683, 0.264436631515911, 0.11320419013873059, 0.1988056104920179, -1.540793780169885, -0.9582777381251045, -2.3330009562409173, 0.036186421725537626, 2.0834023391468346, -0.7051169455931869, 2.1272607218892023, 1.6631318200997605, -2.3697116713270776, 1.0174540368325238, -0.5010306154273239, 0.5801663865349229, 2.5697832654839603, -1.1196252479173274, 1.114068207604582, 0.336487004650545, -0.835704989017679, -0.24935700977414074, 0.7222614686195494, -1.492006883772255, -1.0848221196422219, 0.29559156428026406, -1.2537322162662012, 1.4033377977396673, -0.13032591600139704, -0.7387764291189122, -1.0428968145060082, 1.727651845360128, -0.43974455668201395]}],\n",
       "                        {\"margin\": {\"b\": 0, \"l\": 0, \"r\": 0, \"t\": 0}},\n",
       "                        {\"showLink\": false, \"linkText\": \"Export to plot.ly\", \"plotlyServerURL\": \"https://plot.ly\", \"responsive\": true}\n",
       "                    ).then(function(){\n",
       "                            \n",
       "var gd = document.getElementById('67b66495-a9e9-4308-bf7c-d652257a74c8');\n",
       "var x = new MutationObserver(function (mutations, observer) {{\n",
       "        var display = window.getComputedStyle(gd).display;\n",
       "        if (!display || display === 'none') {{\n",
       "            console.log([gd, 'removed!']);\n",
       "            Plotly.purge(gd);\n",
       "            observer.disconnect();\n",
       "        }}\n",
       "}});\n",
       "\n",
       "// Listen for the removal of the full notebook cells\n",
       "var notebookContainer = gd.closest('#notebook-container');\n",
       "if (notebookContainer) {{\n",
       "    x.observe(notebookContainer, {childList: true});\n",
       "}}\n",
       "\n",
       "// Listen for the clearing of the current output cell\n",
       "var outputEl = gd.closest('.output');\n",
       "if (outputEl) {{\n",
       "    x.observe(outputEl, {childList: true});\n",
       "}}\n",
       "\n",
       "                        })\n",
       "                };\n",
       "                });\n",
       "            </script>\n",
       "        </div>"
      ]
     },
     "metadata": {},
     "output_type": "display_data"
    }
   ],
   "source": [
    "#import plotly.plotly as py\n",
    "import plotly.graph_objs as go\n",
    "\n",
    "import numpy as np\n",
    "from plotly.offline import download_plotlyjs, init_notebook_mode, plot, iplot\n",
    "\n",
    "init_notebook_mode(connected=True)\n",
    "\n",
    "x, y, z = np.random.multivariate_normal(np.array([0,0,0]), np.eye(3), 400).transpose()\n",
    "\n",
    "trace1 = go.Scatter3d(\n",
    "    x=x,\n",
    "    y=y,\n",
    "    z=z,\n",
    "    mode='markers',\n",
    "    marker=dict(\n",
    "        size=12,\n",
    "        color=z,                # set color to an array/list of desired values\n",
    "        colorscale='Viridis',   # choose a colorscale\n",
    "        opacity=0.8\n",
    "    )\n",
    ")\n",
    "\n",
    "data = [trace1]\n",
    "layout = go.Layout(\n",
    "    margin=dict(\n",
    "        l=0,\n",
    "        r=0,\n",
    "        b=0,\n",
    "        t=0\n",
    "    )\n",
    ")\n",
    "fig = go.Figure(data=data, layout=layout)\n",
    "iplot(fig, filename='3d-scatter-colorscale')"
   ]
  },
  {
   "cell_type": "code",
   "execution_count": 22,
   "metadata": {},
   "outputs": [
    {
     "data": {
      "text/plain": [
       "{'clientes': 2000, 'lucro': 234, 'pos': array([ 0.08235608, -0.03549685])}"
      ]
     },
     "execution_count": 22,
     "metadata": {},
     "output_type": "execute_result"
    }
   ],
   "source": [
    "mygraph.G.nodes['Next']"
   ]
  },
  {
   "cell_type": "code",
   "execution_count": null,
   "metadata": {},
   "outputs": [],
   "source": [
    "import plotly.graph_objs as go\n",
    "import plotly\n",
    "plotly.offline.init_notebook_mode()\n",
    "\n",
    "#draw a square\n",
    "x = [0, 1, 0, 1, 0, 1, 0, 1]\n",
    "y = [0, 1, 1, 0, 0, 1, 1, 0]\n",
    "z = [0, 0, 0, 0, 1, 1, 1, 1]\n",
    "\n",
    "#the start and end point for each line\n",
    "pairs = [(1,2),(7,6)]\n",
    "\n",
    "trace1 = go.Scatter3d(\n",
    "    x=x,\n",
    "    y=y,\n",
    "    z=z,\n",
    "    mode='markers',\n",
    "    name='markers'\n",
    ")\n",
    "\n",
    "x_lines = list()\n",
    "y_lines = list()\n",
    "z_lines = list()\n",
    "\n",
    "#create the coordinate list for the lines\n",
    "for p in pairs:\n",
    "    for i in range(2):\n",
    "        x_lines.append(x[p[i]])\n",
    "        y_lines.append(y[p[i]])\n",
    "        z_lines.append(z[p[i]])\n",
    "    x_lines.append(None)\n",
    "    y_lines.append(None)\n",
    "    z_lines.append(None)\n",
    "\n",
    "trace2 = go.Scatter3d(\n",
    "    x=x_lines,\n",
    "    y=y_lines,\n",
    "    z=z_lines,\n",
    "    mode='lines',\n",
    "    name='lines'\n",
    ")\n",
    "\n",
    "fig = go.Figure(data=[trace1, trace2])\n",
    "plotly.offline.iplot(fig, filename='simple-3d-scatter')"
   ]
  },
  {
   "cell_type": "code",
   "execution_count": null,
   "metadata": {},
   "outputs": [],
   "source": [
    "import pandas as pd\n",
    "df = pd.DataFrame({'coco':[1,2,3,3,2,1], 'lala':[6,5,4,3,2,1], 'banco':['jujuba','boteco','lala','metin','coco','lala']})"
   ]
  },
  {
   "cell_type": "code",
   "execution_count": null,
   "metadata": {},
   "outputs": [],
   "source": [
    "df.iloc[0].to_dict()"
   ]
  },
  {
   "cell_type": "code",
   "execution_count": null,
   "metadata": {},
   "outputs": [],
   "source": [
    "pos = nx.random_layout(mygraph.G, dim = 3)"
   ]
  },
  {
   "cell_type": "code",
   "execution_count": null,
   "metadata": {},
   "outputs": [],
   "source": [
    "pos"
   ]
  },
  {
   "cell_type": "code",
   "execution_count": null,
   "metadata": {},
   "outputs": [],
   "source": [
    "for k in pos.items():\n",
    "    print (type(k[1]))"
   ]
  },
  {
   "cell_type": "code",
   "execution_count": null,
   "metadata": {},
   "outputs": [],
   "source": [
    "for edge in mygraph.G.edges():\n",
    "    print(edge)"
   ]
  },
  {
   "cell_type": "code",
   "execution_count": null,
   "metadata": {},
   "outputs": [],
   "source": [
    "a = dict(sdf=23)"
   ]
  },
  {
   "cell_type": "code",
   "execution_count": null,
   "metadata": {},
   "outputs": [],
   "source": [
    "a"
   ]
  },
  {
   "cell_type": "code",
   "execution_count": null,
   "metadata": {},
   "outputs": [],
   "source": []
  }
 ],
 "metadata": {
  "kernelspec": {
   "display_name": "Python 3",
   "language": "python",
   "name": "python3"
  },
  "language_info": {
   "codemirror_mode": {
    "name": "ipython",
    "version": 3
   },
   "file_extension": ".py",
   "mimetype": "text/x-python",
   "name": "python",
   "nbconvert_exporter": "python",
   "pygments_lexer": "ipython3",
   "version": "3.7.0"
  }
 },
 "nbformat": 4,
 "nbformat_minor": 2
}
