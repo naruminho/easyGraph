{
 "cells": [
  {
   "cell_type": "code",
   "execution_count": 1,
   "metadata": {},
   "outputs": [
    {
     "data": {
      "text/html": [
       "        <script type=\"text/javascript\">\n",
       "        window.PlotlyConfig = {MathJaxConfig: 'local'};\n",
       "        if (window.MathJax) {MathJax.Hub.Config({SVG: {font: \"STIX-Web\"}});}\n",
       "        if (typeof require !== 'undefined') {\n",
       "        require.undef(\"plotly\");\n",
       "        requirejs.config({\n",
       "            paths: {\n",
       "                'plotly': ['https://cdn.plot.ly/plotly-latest.min']\n",
       "            }\n",
       "        });\n",
       "        require(['plotly'], function(Plotly) {\n",
       "            window._Plotly = Plotly;\n",
       "        });\n",
       "        }\n",
       "        </script>\n",
       "        "
      ]
     },
     "metadata": {},
     "output_type": "display_data"
    }
   ],
   "source": [
    "%load_ext autoreload\n",
    "%autoreload 2\n",
    "from easyGraph import *"
   ]
  },
  {
   "cell_type": "code",
   "execution_count": 2,
   "metadata": {},
   "outputs": [],
   "source": [
    "mygraph = EasyGraph(1)"
   ]
  },
  {
   "cell_type": "code",
   "execution_count": 3,
   "metadata": {},
   "outputs": [],
   "source": [
    "# adicionando nodes e definindo propriedades\n",
    "mygraph.node.add('Next', {'clientes':3, 'keke': 234})\n",
    "mygraph.node.add('Nubank', {'clientes':41})\n",
    "mygraph.node.add('Itau', {'clientes':245})\n",
    "mygraph.node.add('XP Investimentos', {'clientes':5})\n",
    "mygraph.node.add('BB', {'clientes':88})\n",
    "\n",
    "# adicionando arestas e propriedades\n",
    "mygraph.edge.add('Next', 'BB', {'enviado': 45000})\n",
    "mygraph.edge.add('Next', 'Nubank', {'enviado': 10000})\n",
    "mygraph.edge.add('Next', 'Itau', {'enviado': 30000})\n",
    "mygraph.edge.add('Next', 'XP Investimentos', {'enviado': 30000})"
   ]
  },
  {
   "cell_type": "code",
   "execution_count": 4,
   "metadata": {},
   "outputs": [
    {
     "data": {
      "application/vnd.plotly.v1+json": {
       "config": {
        "linkText": "Export to plot.ly",
        "plotlyServerURL": "https://plot.ly",
        "responsive": true,
        "showLink": false
       },
       "data": [
        {
         "hoverinfo": "text",
         "marker": {
          "cmax": null,
          "cmin": null,
          "color": "darkblue",
          "colorbar": {
           "thickness": 15,
           "title": {
            "side": "right",
            "text": " "
           },
           "xanchor": "left"
          },
          "colorscale": "YlGnBu",
          "line": {
           "width": 2
          },
          "reversescale": true,
          "showscale": false,
          "size": [
           1,
           1,
           1,
           1,
           1
          ],
          "sizemin": 10,
          "sizemode": "area",
          "sizeref": 10
         },
         "mode": "markers",
         "text": [],
         "type": "scatter",
         "uid": "9a6472e5-fd0a-476e-a946-38a2928a2148",
         "x": [
          0.9999999999999999,
          0.30901696042448806,
          -0.8090170945349412,
          -0.8090169753256495,
          0.30901710943610267
         ],
         "y": [
          2.38418583364819e-08,
          0.9510565808604344,
          0.587785218735669,
          -0.5877853498658898,
          -0.9510564735720718
         ]
        },
        {
         "hoverinfo": "none",
         "line": {
          "color": "black",
          "width": 0.5
         },
         "mode": "lines",
         "type": "scatter",
         "uid": "85ace09e-d33b-4e2f-b4b0-f7d7613f5d8a",
         "x": [
          0.9999999999999999,
          0.30901710943610267,
          null
         ],
         "y": [
          2.38418583364819e-08,
          -0.9510564735720718,
          null
         ]
        },
        {
         "hoverinfo": "none",
         "line": {
          "color": "black",
          "width": 0.5
         },
         "mode": "lines",
         "type": "scatter",
         "uid": "02f5edb7-4097-474b-b305-8ce30192a621",
         "x": [
          0.9999999999999999,
          0.30901696042448806,
          null
         ],
         "y": [
          2.38418583364819e-08,
          0.9510565808604344,
          null
         ]
        },
        {
         "hoverinfo": "none",
         "line": {
          "color": "black",
          "width": 0.5
         },
         "mode": "lines",
         "type": "scatter",
         "uid": "6423c8ee-7b7a-4b72-9658-8ac16a9f6e90",
         "x": [
          0.9999999999999999,
          -0.8090170945349412,
          null
         ],
         "y": [
          2.38418583364819e-08,
          0.587785218735669,
          null
         ]
        },
        {
         "hoverinfo": "none",
         "line": {
          "color": "black",
          "width": 0.5
         },
         "mode": "lines",
         "type": "scatter",
         "uid": "4d0ebb02-2c5a-454d-a74d-3478dc0ce3f8",
         "x": [
          0.9999999999999999,
          -0.8090169753256495,
          null
         ],
         "y": [
          2.38418583364819e-08,
          -0.5877853498658898,
          null
         ]
        }
       ],
       "layout": {
        "annotations": [
         {
          "ax": 0,
          "ay": 20,
          "showarrow": false,
          "text": "Next",
          "x": 0.9999999999999999,
          "xref": "x",
          "y": 0.10000002384185834,
          "yref": "y"
         },
         {
          "ax": 0,
          "ay": 20,
          "showarrow": false,
          "text": "Nubank",
          "x": 0.30901696042448806,
          "xref": "x",
          "y": 1.0510565808604344,
          "yref": "y"
         },
         {
          "ax": 0,
          "ay": 20,
          "showarrow": false,
          "text": "Itau",
          "x": -0.8090170945349412,
          "xref": "x",
          "y": 0.687785218735669,
          "yref": "y"
         },
         {
          "ax": 0,
          "ay": 20,
          "showarrow": false,
          "text": "XP Investimentos",
          "x": -0.8090169753256495,
          "xref": "x",
          "y": -0.48778534986588984,
          "yref": "y"
         },
         {
          "ax": 0,
          "ay": 20,
          "showarrow": false,
          "text": "BB",
          "x": 0.30901710943610267,
          "xref": "x",
          "y": -0.8510564735720718,
          "yref": "y"
         }
        ],
        "hovermode": "closest",
        "margin": {
         "b": 20,
         "l": 5,
         "r": 5,
         "t": 40
        },
        "showlegend": false,
        "title": {
         "font": {
          "size": 16
         },
         "text": " "
        },
        "xaxis": {
         "showgrid": false,
         "showticklabels": false,
         "zeroline": false
        },
        "yaxis": {
         "showgrid": false,
         "showticklabels": false,
         "zeroline": false
        }
       }
      },
      "text/html": [
       "<div>\n",
       "        \n",
       "        \n",
       "            <div id=\"f24da70e-1859-4174-841d-93efd512602a\" class=\"plotly-graph-div\" style=\"height:525px; width:100%;\"></div>\n",
       "            <script type=\"text/javascript\">\n",
       "                require([\"plotly\"], function(Plotly) {\n",
       "                    window.PLOTLYENV=window.PLOTLYENV || {};\n",
       "                    window.PLOTLYENV.BASE_URL='https://plot.ly';\n",
       "                    \n",
       "                if (document.getElementById(\"f24da70e-1859-4174-841d-93efd512602a\")) {\n",
       "                    Plotly.newPlot(\n",
       "                        'f24da70e-1859-4174-841d-93efd512602a',\n",
       "                        [{\"hoverinfo\": \"text\", \"marker\": {\"cmax\": null, \"cmin\": null, \"color\": \"darkblue\", \"colorbar\": {\"thickness\": 15, \"title\": {\"side\": \"right\", \"text\": \" \"}, \"xanchor\": \"left\"}, \"colorscale\": \"YlGnBu\", \"line\": {\"width\": 2}, \"reversescale\": true, \"showscale\": false, \"size\": [1, 1, 1, 1, 1], \"sizemin\": 10, \"sizemode\": \"area\", \"sizeref\": 10}, \"mode\": \"markers\", \"text\": [], \"type\": \"scatter\", \"uid\": \"ce9cacd1-6302-4d03-8f37-0ca1c730e944\", \"x\": [0.9999999999999999, 0.30901696042448806, -0.8090170945349412, -0.8090169753256495, 0.30901710943610267], \"y\": [2.38418583364819e-08, 0.9510565808604344, 0.587785218735669, -0.5877853498658898, -0.9510564735720718]}, {\"hoverinfo\": \"none\", \"line\": {\"color\": \"black\", \"width\": 0.5}, \"mode\": \"lines\", \"type\": \"scatter\", \"uid\": \"b6444ab4-e128-4226-a6f1-d1229a9f0140\", \"x\": [0.9999999999999999, 0.30901710943610267, null], \"y\": [2.38418583364819e-08, -0.9510564735720718, null]}, {\"hoverinfo\": \"none\", \"line\": {\"color\": \"black\", \"width\": 0.5}, \"mode\": \"lines\", \"type\": \"scatter\", \"uid\": \"43dc7426-b63d-4d11-bd47-5832b6224a89\", \"x\": [0.9999999999999999, 0.30901696042448806, null], \"y\": [2.38418583364819e-08, 0.9510565808604344, null]}, {\"hoverinfo\": \"none\", \"line\": {\"color\": \"black\", \"width\": 0.5}, \"mode\": \"lines\", \"type\": \"scatter\", \"uid\": \"f78532cc-b5fd-4945-9440-815f7f094cb0\", \"x\": [0.9999999999999999, -0.8090170945349412, null], \"y\": [2.38418583364819e-08, 0.587785218735669, null]}, {\"hoverinfo\": \"none\", \"line\": {\"color\": \"black\", \"width\": 0.5}, \"mode\": \"lines\", \"type\": \"scatter\", \"uid\": \"f4149775-caf9-47c2-9037-362f60e95c8d\", \"x\": [0.9999999999999999, -0.8090169753256495, null], \"y\": [2.38418583364819e-08, -0.5877853498658898, null]}],\n",
       "                        {\"annotations\": [{\"ax\": 0, \"ay\": 20, \"showarrow\": false, \"text\": \"Next\", \"x\": 0.9999999999999999, \"xref\": \"x\", \"y\": 0.10000002384185834, \"yref\": \"y\"}, {\"ax\": 0, \"ay\": 20, \"showarrow\": false, \"text\": \"Nubank\", \"x\": 0.30901696042448806, \"xref\": \"x\", \"y\": 1.0510565808604344, \"yref\": \"y\"}, {\"ax\": 0, \"ay\": 20, \"showarrow\": false, \"text\": \"Itau\", \"x\": -0.8090170945349412, \"xref\": \"x\", \"y\": 0.687785218735669, \"yref\": \"y\"}, {\"ax\": 0, \"ay\": 20, \"showarrow\": false, \"text\": \"XP Investimentos\", \"x\": -0.8090169753256495, \"xref\": \"x\", \"y\": -0.48778534986588984, \"yref\": \"y\"}, {\"ax\": 0, \"ay\": 20, \"showarrow\": false, \"text\": \"BB\", \"x\": 0.30901710943610267, \"xref\": \"x\", \"y\": -0.8510564735720718, \"yref\": \"y\"}], \"hovermode\": \"closest\", \"margin\": {\"b\": 20, \"l\": 5, \"r\": 5, \"t\": 40}, \"showlegend\": false, \"title\": {\"font\": {\"size\": 16}, \"text\": \" \"}, \"xaxis\": {\"showgrid\": false, \"showticklabels\": false, \"zeroline\": false}, \"yaxis\": {\"showgrid\": false, \"showticklabels\": false, \"zeroline\": false}},\n",
       "                        {\"showLink\": false, \"linkText\": \"Export to plot.ly\", \"plotlyServerURL\": \"https://plot.ly\", \"responsive\": true}\n",
       "                    ).then(function(){\n",
       "                            \n",
       "var gd = document.getElementById('f24da70e-1859-4174-841d-93efd512602a');\n",
       "var x = new MutationObserver(function (mutations, observer) {{\n",
       "        var display = window.getComputedStyle(gd).display;\n",
       "        if (!display || display === 'none') {{\n",
       "            console.log([gd, 'removed!']);\n",
       "            Plotly.purge(gd);\n",
       "            observer.disconnect();\n",
       "        }}\n",
       "}});\n",
       "\n",
       "// Listen for the removal of the full notebook cells\n",
       "var notebookContainer = gd.closest('#notebook-container');\n",
       "if (notebookContainer) {{\n",
       "    x.observe(notebookContainer, {childList: true});\n",
       "}}\n",
       "\n",
       "// Listen for the clearing of the current output cell\n",
       "var outputEl = gd.closest('.output');\n",
       "if (outputEl) {{\n",
       "    x.observe(outputEl, {childList: true});\n",
       "}}\n",
       "\n",
       "                        })\n",
       "                };\n",
       "                });\n",
       "            </script>\n",
       "        </div>"
      ]
     },
     "metadata": {},
     "output_type": "display_data"
    }
   ],
   "source": [
    "mygraph.plot()"
   ]
  },
  {
   "cell_type": "code",
   "execution_count": 5,
   "metadata": {},
   "outputs": [
    {
     "data": {
      "application/vnd.plotly.v1+json": {
       "config": {
        "linkText": "Export to plot.ly",
        "plotlyServerURL": "https://plot.ly",
        "responsive": true,
        "showLink": false
       },
       "data": [
        {
         "hoverinfo": "text",
         "marker": {
          "cmax": null,
          "cmin": null,
          "color": [
           3,
           41,
           245,
           5,
           88
          ],
          "colorbar": {
           "thickness": 15,
           "title": {
            "side": "right",
            "text": "coco"
           },
           "xanchor": "left"
          },
          "colorscale": "YlGnBu",
          "line": {
           "width": 2
          },
          "reversescale": true,
          "showscale": false,
          "size": [
           1,
           1,
           1,
           1,
           1
          ],
          "sizemin": 10,
          "sizemode": "area",
          "sizeref": 10
         },
         "mode": "markers",
         "text": [],
         "type": "scatter",
         "uid": "f342952a-25d0-4f91-b0a4-65a09e18b508",
         "x": [
          0.9999999999999999,
          0.30901696042448806,
          -0.8090170945349412,
          -0.8090169753256495,
          0.30901710943610267
         ],
         "y": [
          2.38418583364819e-08,
          0.9510565808604344,
          0.587785218735669,
          -0.5877853498658898,
          -0.9510564735720718
         ]
        },
        {
         "hoverinfo": "none",
         "line": {
          "color": "black",
          "width": 0.5
         },
         "mode": "lines",
         "type": "scatter",
         "uid": "fa101ae0-8e73-47cb-a913-e8798df8c3b7",
         "x": [
          0.9999999999999999,
          0.30901710943610267,
          null
         ],
         "y": [
          2.38418583364819e-08,
          -0.9510564735720718,
          null
         ]
        },
        {
         "hoverinfo": "none",
         "line": {
          "color": "black",
          "width": 0.5
         },
         "mode": "lines",
         "type": "scatter",
         "uid": "4dca3c06-bdc8-431d-9269-746ed0b46759",
         "x": [
          0.9999999999999999,
          0.30901696042448806,
          null
         ],
         "y": [
          2.38418583364819e-08,
          0.9510565808604344,
          null
         ]
        },
        {
         "hoverinfo": "none",
         "line": {
          "color": "black",
          "width": 0.5
         },
         "mode": "lines",
         "type": "scatter",
         "uid": "28d7a769-beb6-4ecb-877f-b051a23b1452",
         "x": [
          0.9999999999999999,
          -0.8090170945349412,
          null
         ],
         "y": [
          2.38418583364819e-08,
          0.587785218735669,
          null
         ]
        },
        {
         "hoverinfo": "none",
         "line": {
          "color": "black",
          "width": 0.5
         },
         "mode": "lines",
         "type": "scatter",
         "uid": "a8808885-e421-4a20-a4f6-698d65f739e1",
         "x": [
          0.9999999999999999,
          -0.8090169753256495,
          null
         ],
         "y": [
          2.38418583364819e-08,
          -0.5877853498658898,
          null
         ]
        }
       ],
       "layout": {
        "annotations": [
         {
          "ax": 0,
          "ay": 20,
          "showarrow": false,
          "text": "Next",
          "x": 0.9999999999999999,
          "xref": "x",
          "y": 0.10000002384185834,
          "yref": "y"
         },
         {
          "ax": 0,
          "ay": 20,
          "showarrow": false,
          "text": "Nubank",
          "x": 0.30901696042448806,
          "xref": "x",
          "y": 1.0510565808604344,
          "yref": "y"
         },
         {
          "ax": 0,
          "ay": 20,
          "showarrow": false,
          "text": "Itau",
          "x": -0.8090170945349412,
          "xref": "x",
          "y": 0.687785218735669,
          "yref": "y"
         },
         {
          "ax": 0,
          "ay": 20,
          "showarrow": false,
          "text": "XP Investimentos",
          "x": -0.8090169753256495,
          "xref": "x",
          "y": -0.48778534986588984,
          "yref": "y"
         },
         {
          "ax": 0,
          "ay": 20,
          "showarrow": false,
          "text": "BB",
          "x": 0.30901710943610267,
          "xref": "x",
          "y": -0.8510564735720718,
          "yref": "y"
         }
        ],
        "hovermode": "closest",
        "margin": {
         "b": 20,
         "l": 5,
         "r": 5,
         "t": 40
        },
        "showlegend": false,
        "title": {
         "font": {
          "size": 16
         },
         "text": "coco"
        },
        "xaxis": {
         "showgrid": false,
         "showticklabels": false,
         "zeroline": false
        },
        "yaxis": {
         "showgrid": false,
         "showticklabels": false,
         "zeroline": false
        }
       }
      },
      "text/html": [
       "<div>\n",
       "        \n",
       "        \n",
       "            <div id=\"f868e423-adb8-481c-8bcc-bf07f50b2eb5\" class=\"plotly-graph-div\" style=\"height:525px; width:100%;\"></div>\n",
       "            <script type=\"text/javascript\">\n",
       "                require([\"plotly\"], function(Plotly) {\n",
       "                    window.PLOTLYENV=window.PLOTLYENV || {};\n",
       "                    window.PLOTLYENV.BASE_URL='https://plot.ly';\n",
       "                    \n",
       "                if (document.getElementById(\"f868e423-adb8-481c-8bcc-bf07f50b2eb5\")) {\n",
       "                    Plotly.newPlot(\n",
       "                        'f868e423-adb8-481c-8bcc-bf07f50b2eb5',\n",
       "                        [{\"hoverinfo\": \"text\", \"marker\": {\"cmax\": null, \"cmin\": null, \"color\": [3, 41, 245, 5, 88], \"colorbar\": {\"thickness\": 15, \"title\": {\"side\": \"right\", \"text\": \"coco\"}, \"xanchor\": \"left\"}, \"colorscale\": \"YlGnBu\", \"line\": {\"width\": 2}, \"reversescale\": true, \"showscale\": false, \"size\": [1, 1, 1, 1, 1], \"sizemin\": 10, \"sizemode\": \"area\", \"sizeref\": 10}, \"mode\": \"markers\", \"text\": [], \"type\": \"scatter\", \"uid\": \"e6b0ab2d-3736-4d27-a525-76ce929042c7\", \"x\": [0.9999999999999999, 0.30901696042448806, -0.8090170945349412, -0.8090169753256495, 0.30901710943610267], \"y\": [2.38418583364819e-08, 0.9510565808604344, 0.587785218735669, -0.5877853498658898, -0.9510564735720718]}, {\"hoverinfo\": \"none\", \"line\": {\"color\": \"black\", \"width\": 0.5}, \"mode\": \"lines\", \"type\": \"scatter\", \"uid\": \"38bb3aa6-e8a6-4989-ac01-3c45511a6607\", \"x\": [0.9999999999999999, 0.30901710943610267, null], \"y\": [2.38418583364819e-08, -0.9510564735720718, null]}, {\"hoverinfo\": \"none\", \"line\": {\"color\": \"black\", \"width\": 0.5}, \"mode\": \"lines\", \"type\": \"scatter\", \"uid\": \"830ef5cd-5e11-49d2-9f67-e3bed670e503\", \"x\": [0.9999999999999999, 0.30901696042448806, null], \"y\": [2.38418583364819e-08, 0.9510565808604344, null]}, {\"hoverinfo\": \"none\", \"line\": {\"color\": \"black\", \"width\": 0.5}, \"mode\": \"lines\", \"type\": \"scatter\", \"uid\": \"6b36be0a-3484-4971-a5d7-e048115c164b\", \"x\": [0.9999999999999999, -0.8090170945349412, null], \"y\": [2.38418583364819e-08, 0.587785218735669, null]}, {\"hoverinfo\": \"none\", \"line\": {\"color\": \"black\", \"width\": 0.5}, \"mode\": \"lines\", \"type\": \"scatter\", \"uid\": \"cf37fb0a-e2c6-41e0-97b0-cb01d89980f9\", \"x\": [0.9999999999999999, -0.8090169753256495, null], \"y\": [2.38418583364819e-08, -0.5877853498658898, null]}],\n",
       "                        {\"annotations\": [{\"ax\": 0, \"ay\": 20, \"showarrow\": false, \"text\": \"Next\", \"x\": 0.9999999999999999, \"xref\": \"x\", \"y\": 0.10000002384185834, \"yref\": \"y\"}, {\"ax\": 0, \"ay\": 20, \"showarrow\": false, \"text\": \"Nubank\", \"x\": 0.30901696042448806, \"xref\": \"x\", \"y\": 1.0510565808604344, \"yref\": \"y\"}, {\"ax\": 0, \"ay\": 20, \"showarrow\": false, \"text\": \"Itau\", \"x\": -0.8090170945349412, \"xref\": \"x\", \"y\": 0.687785218735669, \"yref\": \"y\"}, {\"ax\": 0, \"ay\": 20, \"showarrow\": false, \"text\": \"XP Investimentos\", \"x\": -0.8090169753256495, \"xref\": \"x\", \"y\": -0.48778534986588984, \"yref\": \"y\"}, {\"ax\": 0, \"ay\": 20, \"showarrow\": false, \"text\": \"BB\", \"x\": 0.30901710943610267, \"xref\": \"x\", \"y\": -0.8510564735720718, \"yref\": \"y\"}], \"hovermode\": \"closest\", \"margin\": {\"b\": 20, \"l\": 5, \"r\": 5, \"t\": 40}, \"showlegend\": false, \"title\": {\"font\": {\"size\": 16}, \"text\": \"coco\"}, \"xaxis\": {\"showgrid\": false, \"showticklabels\": false, \"zeroline\": false}, \"yaxis\": {\"showgrid\": false, \"showticklabels\": false, \"zeroline\": false}},\n",
       "                        {\"showLink\": false, \"linkText\": \"Export to plot.ly\", \"plotlyServerURL\": \"https://plot.ly\", \"responsive\": true}\n",
       "                    ).then(function(){\n",
       "                            \n",
       "var gd = document.getElementById('f868e423-adb8-481c-8bcc-bf07f50b2eb5');\n",
       "var x = new MutationObserver(function (mutations, observer) {{\n",
       "        var display = window.getComputedStyle(gd).display;\n",
       "        if (!display || display === 'none') {{\n",
       "            console.log([gd, 'removed!']);\n",
       "            Plotly.purge(gd);\n",
       "            observer.disconnect();\n",
       "        }}\n",
       "}});\n",
       "\n",
       "// Listen for the removal of the full notebook cells\n",
       "var notebookContainer = gd.closest('#notebook-container');\n",
       "if (notebookContainer) {{\n",
       "    x.observe(notebookContainer, {childList: true});\n",
       "}}\n",
       "\n",
       "// Listen for the clearing of the current output cell\n",
       "var outputEl = gd.closest('.output');\n",
       "if (outputEl) {{\n",
       "    x.observe(outputEl, {childList: true});\n",
       "}}\n",
       "\n",
       "                        })\n",
       "                };\n",
       "                });\n",
       "            </script>\n",
       "        </div>"
      ]
     },
     "metadata": {},
     "output_type": "display_data"
    }
   ],
   "source": [
    "mygraph.plot(title='coco', node_color_col='clientes')"
   ]
  },
  {
   "cell_type": "code",
   "execution_count": 6,
   "metadata": {},
   "outputs": [
    {
     "data": {
      "application/vnd.plotly.v1+json": {
       "config": {
        "linkText": "Export to plot.ly",
        "plotlyServerURL": "https://plot.ly",
        "responsive": true,
        "showLink": false
       },
       "data": [
        {
         "hoverinfo": "text",
         "marker": {
          "cmax": 245,
          "cmin": 3,
          "color": [
           3,
           41,
           245,
           5,
           88
          ],
          "colorbar": {
           "thickness": 15,
           "title": {
            "side": "right",
            "text": "coco"
           },
           "xanchor": "left"
          },
          "colorscale": "YlGnBu",
          "line": {
           "width": 2
          },
          "reversescale": true,
          "showscale": false,
          "size": [
           3,
           41,
           245,
           5,
           88
          ],
          "sizemin": 10,
          "sizemode": "area",
          "sizeref": 0.30625
         },
         "mode": "markers",
         "text": [],
         "type": "scatter",
         "uid": "c86c853c-199b-490f-bcf7-846b840d7c44",
         "x": [
          0.9999999999999999,
          0.30901696042448806,
          -0.8090170945349412,
          -0.8090169753256495,
          0.30901710943610267
         ],
         "y": [
          2.38418583364819e-08,
          0.9510565808604344,
          0.587785218735669,
          -0.5877853498658898,
          -0.9510564735720718
         ]
        },
        {
         "hoverinfo": "none",
         "line": {
          "color": "black",
          "width": 0.5
         },
         "mode": "lines",
         "type": "scatter",
         "uid": "44290074-1b21-4611-b1b5-29a7b4d48a31",
         "x": [
          0.9999999999999999,
          0.30901710943610267,
          null
         ],
         "y": [
          2.38418583364819e-08,
          -0.9510564735720718,
          null
         ]
        },
        {
         "hoverinfo": "none",
         "line": {
          "color": "black",
          "width": 0.5
         },
         "mode": "lines",
         "type": "scatter",
         "uid": "5089b44d-e004-4053-b0ea-c9e6d97dc253",
         "x": [
          0.9999999999999999,
          0.30901696042448806,
          null
         ],
         "y": [
          2.38418583364819e-08,
          0.9510565808604344,
          null
         ]
        },
        {
         "hoverinfo": "none",
         "line": {
          "color": "black",
          "width": 0.5
         },
         "mode": "lines",
         "type": "scatter",
         "uid": "51c120fb-ceb4-464b-b69b-17aba92d679d",
         "x": [
          0.9999999999999999,
          -0.8090170945349412,
          null
         ],
         "y": [
          2.38418583364819e-08,
          0.587785218735669,
          null
         ]
        },
        {
         "hoverinfo": "none",
         "line": {
          "color": "black",
          "width": 0.5
         },
         "mode": "lines",
         "type": "scatter",
         "uid": "d72367c4-18ca-4f14-8ea0-2aca20708875",
         "x": [
          0.9999999999999999,
          -0.8090169753256495,
          null
         ],
         "y": [
          2.38418583364819e-08,
          -0.5877853498658898,
          null
         ]
        }
       ],
       "layout": {
        "annotations": [
         {
          "ax": 0,
          "ay": 20,
          "showarrow": false,
          "text": "Next",
          "x": 0.9999999999999999,
          "xref": "x",
          "y": 0.10000002384185834,
          "yref": "y"
         },
         {
          "ax": 0,
          "ay": 20,
          "showarrow": false,
          "text": "Nubank",
          "x": 0.30901696042448806,
          "xref": "x",
          "y": 1.0510565808604344,
          "yref": "y"
         },
         {
          "ax": 0,
          "ay": 20,
          "showarrow": false,
          "text": "Itau",
          "x": -0.8090170945349412,
          "xref": "x",
          "y": 0.687785218735669,
          "yref": "y"
         },
         {
          "ax": 0,
          "ay": 20,
          "showarrow": false,
          "text": "XP Investimentos",
          "x": -0.8090169753256495,
          "xref": "x",
          "y": -0.48778534986588984,
          "yref": "y"
         },
         {
          "ax": 0,
          "ay": 20,
          "showarrow": false,
          "text": "BB",
          "x": 0.30901710943610267,
          "xref": "x",
          "y": -0.8510564735720718,
          "yref": "y"
         }
        ],
        "hovermode": "closest",
        "margin": {
         "b": 20,
         "l": 5,
         "r": 5,
         "t": 40
        },
        "showlegend": false,
        "title": {
         "font": {
          "size": 16
         },
         "text": "coco"
        },
        "xaxis": {
         "showgrid": false,
         "showticklabels": false,
         "zeroline": false
        },
        "yaxis": {
         "showgrid": false,
         "showticklabels": false,
         "zeroline": false
        }
       }
      },
      "text/html": [
       "<div>\n",
       "        \n",
       "        \n",
       "            <div id=\"388b1a2e-1555-478b-8bb0-38d13b6e88d0\" class=\"plotly-graph-div\" style=\"height:525px; width:100%;\"></div>\n",
       "            <script type=\"text/javascript\">\n",
       "                require([\"plotly\"], function(Plotly) {\n",
       "                    window.PLOTLYENV=window.PLOTLYENV || {};\n",
       "                    window.PLOTLYENV.BASE_URL='https://plot.ly';\n",
       "                    \n",
       "                if (document.getElementById(\"388b1a2e-1555-478b-8bb0-38d13b6e88d0\")) {\n",
       "                    Plotly.newPlot(\n",
       "                        '388b1a2e-1555-478b-8bb0-38d13b6e88d0',\n",
       "                        [{\"hoverinfo\": \"text\", \"marker\": {\"cmax\": 245, \"cmin\": 3, \"color\": [3, 41, 245, 5, 88], \"colorbar\": {\"thickness\": 15, \"title\": {\"side\": \"right\", \"text\": \"coco\"}, \"xanchor\": \"left\"}, \"colorscale\": \"YlGnBu\", \"line\": {\"width\": 2}, \"reversescale\": true, \"showscale\": false, \"size\": [3, 41, 245, 5, 88], \"sizemin\": 10, \"sizemode\": \"area\", \"sizeref\": 0.30625}, \"mode\": \"markers\", \"text\": [], \"type\": \"scatter\", \"uid\": \"34e292ef-4b51-4334-ac16-142178d8c0cf\", \"x\": [0.9999999999999999, 0.30901696042448806, -0.8090170945349412, -0.8090169753256495, 0.30901710943610267], \"y\": [2.38418583364819e-08, 0.9510565808604344, 0.587785218735669, -0.5877853498658898, -0.9510564735720718]}, {\"hoverinfo\": \"none\", \"line\": {\"color\": \"black\", \"width\": 0.5}, \"mode\": \"lines\", \"type\": \"scatter\", \"uid\": \"435e4f05-fbaa-4746-8e19-67aea74756b3\", \"x\": [0.9999999999999999, 0.30901710943610267, null], \"y\": [2.38418583364819e-08, -0.9510564735720718, null]}, {\"hoverinfo\": \"none\", \"line\": {\"color\": \"black\", \"width\": 0.5}, \"mode\": \"lines\", \"type\": \"scatter\", \"uid\": \"49d407f5-6269-4c28-888c-e8109b8e7408\", \"x\": [0.9999999999999999, 0.30901696042448806, null], \"y\": [2.38418583364819e-08, 0.9510565808604344, null]}, {\"hoverinfo\": \"none\", \"line\": {\"color\": \"black\", \"width\": 0.5}, \"mode\": \"lines\", \"type\": \"scatter\", \"uid\": \"2a7dcf7a-039f-43b5-a162-dc6f25617f60\", \"x\": [0.9999999999999999, -0.8090170945349412, null], \"y\": [2.38418583364819e-08, 0.587785218735669, null]}, {\"hoverinfo\": \"none\", \"line\": {\"color\": \"black\", \"width\": 0.5}, \"mode\": \"lines\", \"type\": \"scatter\", \"uid\": \"2061efaf-a7a5-4c42-bb20-f88ffbe8ecbc\", \"x\": [0.9999999999999999, -0.8090169753256495, null], \"y\": [2.38418583364819e-08, -0.5877853498658898, null]}],\n",
       "                        {\"annotations\": [{\"ax\": 0, \"ay\": 20, \"showarrow\": false, \"text\": \"Next\", \"x\": 0.9999999999999999, \"xref\": \"x\", \"y\": 0.10000002384185834, \"yref\": \"y\"}, {\"ax\": 0, \"ay\": 20, \"showarrow\": false, \"text\": \"Nubank\", \"x\": 0.30901696042448806, \"xref\": \"x\", \"y\": 1.0510565808604344, \"yref\": \"y\"}, {\"ax\": 0, \"ay\": 20, \"showarrow\": false, \"text\": \"Itau\", \"x\": -0.8090170945349412, \"xref\": \"x\", \"y\": 0.687785218735669, \"yref\": \"y\"}, {\"ax\": 0, \"ay\": 20, \"showarrow\": false, \"text\": \"XP Investimentos\", \"x\": -0.8090169753256495, \"xref\": \"x\", \"y\": -0.48778534986588984, \"yref\": \"y\"}, {\"ax\": 0, \"ay\": 20, \"showarrow\": false, \"text\": \"BB\", \"x\": 0.30901710943610267, \"xref\": \"x\", \"y\": -0.8510564735720718, \"yref\": \"y\"}], \"hovermode\": \"closest\", \"margin\": {\"b\": 20, \"l\": 5, \"r\": 5, \"t\": 40}, \"showlegend\": false, \"title\": {\"font\": {\"size\": 16}, \"text\": \"coco\"}, \"xaxis\": {\"showgrid\": false, \"showticklabels\": false, \"zeroline\": false}, \"yaxis\": {\"showgrid\": false, \"showticklabels\": false, \"zeroline\": false}},\n",
       "                        {\"showLink\": false, \"linkText\": \"Export to plot.ly\", \"plotlyServerURL\": \"https://plot.ly\", \"responsive\": true}\n",
       "                    ).then(function(){\n",
       "                            \n",
       "var gd = document.getElementById('388b1a2e-1555-478b-8bb0-38d13b6e88d0');\n",
       "var x = new MutationObserver(function (mutations, observer) {{\n",
       "        var display = window.getComputedStyle(gd).display;\n",
       "        if (!display || display === 'none') {{\n",
       "            console.log([gd, 'removed!']);\n",
       "            Plotly.purge(gd);\n",
       "            observer.disconnect();\n",
       "        }}\n",
       "}});\n",
       "\n",
       "// Listen for the removal of the full notebook cells\n",
       "var notebookContainer = gd.closest('#notebook-container');\n",
       "if (notebookContainer) {{\n",
       "    x.observe(notebookContainer, {childList: true});\n",
       "}}\n",
       "\n",
       "// Listen for the clearing of the current output cell\n",
       "var outputEl = gd.closest('.output');\n",
       "if (outputEl) {{\n",
       "    x.observe(outputEl, {childList: true});\n",
       "}}\n",
       "\n",
       "                        })\n",
       "                };\n",
       "                });\n",
       "            </script>\n",
       "        </div>"
      ]
     },
     "metadata": {},
     "output_type": "display_data"
    }
   ],
   "source": [
    "mygraph.plot(title='coco', node_size_col='clientes', node_color_col='clientes')"
   ]
  },
  {
   "cell_type": "code",
   "execution_count": 7,
   "metadata": {},
   "outputs": [
    {
     "data": {
      "application/vnd.plotly.v1+json": {
       "config": {
        "linkText": "Export to plot.ly",
        "plotlyServerURL": "https://plot.ly",
        "responsive": true,
        "showLink": false
       },
       "data": [
        {
         "hoverinfo": "text",
         "marker": {
          "cmax": 245,
          "cmin": 3,
          "color": [
           3,
           41,
           245,
           5,
           88
          ],
          "colorbar": {
           "thickness": 15,
           "title": {
            "side": "right",
            "text": "coco"
           },
           "xanchor": "left"
          },
          "colorscale": "YlGnBu",
          "line": {
           "width": 2
          },
          "reversescale": true,
          "showscale": false,
          "size": [
           3,
           41,
           245,
           5,
           88
          ],
          "sizemin": 10,
          "sizemode": "area",
          "sizeref": 0.30625
         },
         "mode": "markers",
         "text": [
          "clientes: 3<br>",
          "clientes: 41<br>",
          "clientes: 245<br>",
          "clientes: 5<br>",
          "clientes: 88<br>"
         ],
         "type": "scatter",
         "uid": "1fb1d0d2-bfc7-4592-abae-65fc89c9f278",
         "x": [
          0.9999999999999999,
          0.30901696042448806,
          -0.8090170945349412,
          -0.8090169753256495,
          0.30901710943610267
         ],
         "y": [
          2.38418583364819e-08,
          0.9510565808604344,
          0.587785218735669,
          -0.5877853498658898,
          -0.9510564735720718
         ]
        },
        {
         "hoverinfo": "none",
         "line": {
          "color": "black",
          "width": 0.5
         },
         "mode": "lines",
         "type": "scatter",
         "uid": "98d30a01-c6fe-4874-aa70-680541349c70",
         "x": [
          0.9999999999999999,
          0.30901710943610267,
          null
         ],
         "y": [
          2.38418583364819e-08,
          -0.9510564735720718,
          null
         ]
        },
        {
         "hoverinfo": "none",
         "line": {
          "color": "black",
          "width": 0.5
         },
         "mode": "lines",
         "type": "scatter",
         "uid": "33a425d1-aa62-4f67-b2cf-f89c99a7de97",
         "x": [
          0.9999999999999999,
          0.30901696042448806,
          null
         ],
         "y": [
          2.38418583364819e-08,
          0.9510565808604344,
          null
         ]
        },
        {
         "hoverinfo": "none",
         "line": {
          "color": "black",
          "width": 0.5
         },
         "mode": "lines",
         "type": "scatter",
         "uid": "a7254bf5-ca13-4a83-a4a6-74f912c5ecdc",
         "x": [
          0.9999999999999999,
          -0.8090170945349412,
          null
         ],
         "y": [
          2.38418583364819e-08,
          0.587785218735669,
          null
         ]
        },
        {
         "hoverinfo": "none",
         "line": {
          "color": "black",
          "width": 0.5
         },
         "mode": "lines",
         "type": "scatter",
         "uid": "baefa47b-cc48-4f26-963e-fa6c1fac459e",
         "x": [
          0.9999999999999999,
          -0.8090169753256495,
          null
         ],
         "y": [
          2.38418583364819e-08,
          -0.5877853498658898,
          null
         ]
        }
       ],
       "layout": {
        "annotations": [
         {
          "ax": 0,
          "ay": 20,
          "showarrow": false,
          "text": "Next",
          "x": 0.9999999999999999,
          "xref": "x",
          "y": 0.10000002384185834,
          "yref": "y"
         },
         {
          "ax": 0,
          "ay": 20,
          "showarrow": false,
          "text": "Nubank",
          "x": 0.30901696042448806,
          "xref": "x",
          "y": 1.0510565808604344,
          "yref": "y"
         },
         {
          "ax": 0,
          "ay": 20,
          "showarrow": false,
          "text": "Itau",
          "x": -0.8090170945349412,
          "xref": "x",
          "y": 0.687785218735669,
          "yref": "y"
         },
         {
          "ax": 0,
          "ay": 20,
          "showarrow": false,
          "text": "XP Investimentos",
          "x": -0.8090169753256495,
          "xref": "x",
          "y": -0.48778534986588984,
          "yref": "y"
         },
         {
          "ax": 0,
          "ay": 20,
          "showarrow": false,
          "text": "BB",
          "x": 0.30901710943610267,
          "xref": "x",
          "y": -0.8510564735720718,
          "yref": "y"
         }
        ],
        "hovermode": "closest",
        "margin": {
         "b": 20,
         "l": 5,
         "r": 5,
         "t": 40
        },
        "showlegend": false,
        "title": {
         "font": {
          "size": 16
         },
         "text": "coco"
        },
        "xaxis": {
         "showgrid": false,
         "showticklabels": false,
         "zeroline": false
        },
        "yaxis": {
         "showgrid": false,
         "showticklabels": false,
         "zeroline": false
        }
       }
      },
      "text/html": [
       "<div>\n",
       "        \n",
       "        \n",
       "            <div id=\"8935e4b9-9d5d-4d65-9877-03bd72b8b561\" class=\"plotly-graph-div\" style=\"height:525px; width:100%;\"></div>\n",
       "            <script type=\"text/javascript\">\n",
       "                require([\"plotly\"], function(Plotly) {\n",
       "                    window.PLOTLYENV=window.PLOTLYENV || {};\n",
       "                    window.PLOTLYENV.BASE_URL='https://plot.ly';\n",
       "                    \n",
       "                if (document.getElementById(\"8935e4b9-9d5d-4d65-9877-03bd72b8b561\")) {\n",
       "                    Plotly.newPlot(\n",
       "                        '8935e4b9-9d5d-4d65-9877-03bd72b8b561',\n",
       "                        [{\"hoverinfo\": \"text\", \"marker\": {\"cmax\": 245, \"cmin\": 3, \"color\": [3, 41, 245, 5, 88], \"colorbar\": {\"thickness\": 15, \"title\": {\"side\": \"right\", \"text\": \"coco\"}, \"xanchor\": \"left\"}, \"colorscale\": \"YlGnBu\", \"line\": {\"width\": 2}, \"reversescale\": true, \"showscale\": false, \"size\": [3, 41, 245, 5, 88], \"sizemin\": 10, \"sizemode\": \"area\", \"sizeref\": 0.30625}, \"mode\": \"markers\", \"text\": [\"clientes: 3<br>\", \"clientes: 41<br>\", \"clientes: 245<br>\", \"clientes: 5<br>\", \"clientes: 88<br>\"], \"type\": \"scatter\", \"uid\": \"0b0cf9b4-531d-42e1-859f-3521032b1d58\", \"x\": [0.9999999999999999, 0.30901696042448806, -0.8090170945349412, -0.8090169753256495, 0.30901710943610267], \"y\": [2.38418583364819e-08, 0.9510565808604344, 0.587785218735669, -0.5877853498658898, -0.9510564735720718]}, {\"hoverinfo\": \"none\", \"line\": {\"color\": \"black\", \"width\": 0.5}, \"mode\": \"lines\", \"type\": \"scatter\", \"uid\": \"2aa21b0e-f0d1-45a3-8c61-5b2bf0dd2608\", \"x\": [0.9999999999999999, 0.30901710943610267, null], \"y\": [2.38418583364819e-08, -0.9510564735720718, null]}, {\"hoverinfo\": \"none\", \"line\": {\"color\": \"black\", \"width\": 0.5}, \"mode\": \"lines\", \"type\": \"scatter\", \"uid\": \"3e111c73-da53-482a-98d7-de78f24b8766\", \"x\": [0.9999999999999999, 0.30901696042448806, null], \"y\": [2.38418583364819e-08, 0.9510565808604344, null]}, {\"hoverinfo\": \"none\", \"line\": {\"color\": \"black\", \"width\": 0.5}, \"mode\": \"lines\", \"type\": \"scatter\", \"uid\": \"31d06519-fc51-4f9b-a3c8-4b4d41071363\", \"x\": [0.9999999999999999, -0.8090170945349412, null], \"y\": [2.38418583364819e-08, 0.587785218735669, null]}, {\"hoverinfo\": \"none\", \"line\": {\"color\": \"black\", \"width\": 0.5}, \"mode\": \"lines\", \"type\": \"scatter\", \"uid\": \"0c751387-0284-48c9-900b-86eb4924ee74\", \"x\": [0.9999999999999999, -0.8090169753256495, null], \"y\": [2.38418583364819e-08, -0.5877853498658898, null]}],\n",
       "                        {\"annotations\": [{\"ax\": 0, \"ay\": 20, \"showarrow\": false, \"text\": \"Next\", \"x\": 0.9999999999999999, \"xref\": \"x\", \"y\": 0.10000002384185834, \"yref\": \"y\"}, {\"ax\": 0, \"ay\": 20, \"showarrow\": false, \"text\": \"Nubank\", \"x\": 0.30901696042448806, \"xref\": \"x\", \"y\": 1.0510565808604344, \"yref\": \"y\"}, {\"ax\": 0, \"ay\": 20, \"showarrow\": false, \"text\": \"Itau\", \"x\": -0.8090170945349412, \"xref\": \"x\", \"y\": 0.687785218735669, \"yref\": \"y\"}, {\"ax\": 0, \"ay\": 20, \"showarrow\": false, \"text\": \"XP Investimentos\", \"x\": -0.8090169753256495, \"xref\": \"x\", \"y\": -0.48778534986588984, \"yref\": \"y\"}, {\"ax\": 0, \"ay\": 20, \"showarrow\": false, \"text\": \"BB\", \"x\": 0.30901710943610267, \"xref\": \"x\", \"y\": -0.8510564735720718, \"yref\": \"y\"}], \"hovermode\": \"closest\", \"margin\": {\"b\": 20, \"l\": 5, \"r\": 5, \"t\": 40}, \"showlegend\": false, \"title\": {\"font\": {\"size\": 16}, \"text\": \"coco\"}, \"xaxis\": {\"showgrid\": false, \"showticklabels\": false, \"zeroline\": false}, \"yaxis\": {\"showgrid\": false, \"showticklabels\": false, \"zeroline\": false}},\n",
       "                        {\"showLink\": false, \"linkText\": \"Export to plot.ly\", \"plotlyServerURL\": \"https://plot.ly\", \"responsive\": true}\n",
       "                    ).then(function(){\n",
       "                            \n",
       "var gd = document.getElementById('8935e4b9-9d5d-4d65-9877-03bd72b8b561');\n",
       "var x = new MutationObserver(function (mutations, observer) {{\n",
       "        var display = window.getComputedStyle(gd).display;\n",
       "        if (!display || display === 'none') {{\n",
       "            console.log([gd, 'removed!']);\n",
       "            Plotly.purge(gd);\n",
       "            observer.disconnect();\n",
       "        }}\n",
       "}});\n",
       "\n",
       "// Listen for the removal of the full notebook cells\n",
       "var notebookContainer = gd.closest('#notebook-container');\n",
       "if (notebookContainer) {{\n",
       "    x.observe(notebookContainer, {childList: true});\n",
       "}}\n",
       "\n",
       "// Listen for the clearing of the current output cell\n",
       "var outputEl = gd.closest('.output');\n",
       "if (outputEl) {{\n",
       "    x.observe(outputEl, {childList: true});\n",
       "}}\n",
       "\n",
       "                        })\n",
       "                };\n",
       "                });\n",
       "            </script>\n",
       "        </div>"
      ]
     },
     "metadata": {},
     "output_type": "display_data"
    }
   ],
   "source": [
    "mygraph.plot(title='coco', node_size_col='clientes', node_color_col='clientes', hover_col='clientes')"
   ]
  },
  {
   "cell_type": "code",
   "execution_count": 8,
   "metadata": {},
   "outputs": [
    {
     "data": {
      "application/vnd.plotly.v1+json": {
       "config": {
        "linkText": "Export to plot.ly",
        "plotlyServerURL": "https://plot.ly",
        "responsive": true,
        "showLink": false
       },
       "data": [
        {
         "hoverinfo": "text",
         "marker": {
          "cmax": 245,
          "cmin": 3,
          "color": [
           3,
           41,
           245,
           5,
           88
          ],
          "colorbar": {
           "thickness": 15,
           "title": {
            "side": "right",
            "text": "coco"
           },
           "xanchor": "left"
          },
          "colorscale": "YlGnBu",
          "line": {
           "width": 2
          },
          "reversescale": true,
          "showscale": false,
          "size": [
           3,
           41,
           245,
           5,
           88
          ],
          "sizemin": 10,
          "sizemode": "area",
          "sizeref": 0.30625
         },
         "mode": "markers",
         "text": [
          "clientes: 3<br>keke: 234<br>",
          "clientes: 41<br>",
          "clientes: 245<br>",
          "clientes: 5<br>",
          "clientes: 88<br>"
         ],
         "type": "scatter",
         "uid": "3234202f-14df-4064-a32a-c0d6f63ad7b1",
         "x": [
          0.9999999999999999,
          0.30901696042448806,
          -0.8090170945349412,
          -0.8090169753256495,
          0.30901710943610267
         ],
         "y": [
          2.38418583364819e-08,
          0.9510565808604344,
          0.587785218735669,
          -0.5877853498658898,
          -0.9510564735720718
         ]
        },
        {
         "hoverinfo": "none",
         "line": {
          "color": "black",
          "width": 0.5
         },
         "mode": "lines",
         "type": "scatter",
         "uid": "afbc59f1-c60e-4f2f-a59c-53b6c04c68c8",
         "x": [
          0.9999999999999999,
          0.30901710943610267,
          null
         ],
         "y": [
          2.38418583364819e-08,
          -0.9510564735720718,
          null
         ]
        },
        {
         "hoverinfo": "none",
         "line": {
          "color": "black",
          "width": 0.5
         },
         "mode": "lines",
         "type": "scatter",
         "uid": "1fb1779c-a98f-4213-b9f1-2b0b259b2629",
         "x": [
          0.9999999999999999,
          0.30901696042448806,
          null
         ],
         "y": [
          2.38418583364819e-08,
          0.9510565808604344,
          null
         ]
        },
        {
         "hoverinfo": "none",
         "line": {
          "color": "black",
          "width": 0.5
         },
         "mode": "lines",
         "type": "scatter",
         "uid": "78d3d089-ba9e-4c4d-bef9-22973852275e",
         "x": [
          0.9999999999999999,
          -0.8090170945349412,
          null
         ],
         "y": [
          2.38418583364819e-08,
          0.587785218735669,
          null
         ]
        },
        {
         "hoverinfo": "none",
         "line": {
          "color": "black",
          "width": 0.5
         },
         "mode": "lines",
         "type": "scatter",
         "uid": "0065eb19-4448-4b7b-ad99-96b32527c61c",
         "x": [
          0.9999999999999999,
          -0.8090169753256495,
          null
         ],
         "y": [
          2.38418583364819e-08,
          -0.5877853498658898,
          null
         ]
        }
       ],
       "layout": {
        "annotations": [
         {
          "ax": 0,
          "ay": 20,
          "showarrow": false,
          "text": "Next",
          "x": 0.9999999999999999,
          "xref": "x",
          "y": 0.10000002384185834,
          "yref": "y"
         },
         {
          "ax": 0,
          "ay": 20,
          "showarrow": false,
          "text": "Nubank",
          "x": 0.30901696042448806,
          "xref": "x",
          "y": 1.0510565808604344,
          "yref": "y"
         },
         {
          "ax": 0,
          "ay": 20,
          "showarrow": false,
          "text": "Itau",
          "x": -0.8090170945349412,
          "xref": "x",
          "y": 0.687785218735669,
          "yref": "y"
         },
         {
          "ax": 0,
          "ay": 20,
          "showarrow": false,
          "text": "XP Investimentos",
          "x": -0.8090169753256495,
          "xref": "x",
          "y": -0.48778534986588984,
          "yref": "y"
         },
         {
          "ax": 0,
          "ay": 20,
          "showarrow": false,
          "text": "BB",
          "x": 0.30901710943610267,
          "xref": "x",
          "y": -0.8510564735720718,
          "yref": "y"
         }
        ],
        "hovermode": "closest",
        "margin": {
         "b": 20,
         "l": 5,
         "r": 5,
         "t": 40
        },
        "showlegend": false,
        "title": {
         "font": {
          "size": 16
         },
         "text": "coco"
        },
        "xaxis": {
         "showgrid": false,
         "showticklabels": false,
         "zeroline": false
        },
        "yaxis": {
         "showgrid": false,
         "showticklabels": false,
         "zeroline": false
        }
       }
      },
      "text/html": [
       "<div>\n",
       "        \n",
       "        \n",
       "            <div id=\"5e1a4570-0570-4c98-93c3-c1379fb37864\" class=\"plotly-graph-div\" style=\"height:525px; width:100%;\"></div>\n",
       "            <script type=\"text/javascript\">\n",
       "                require([\"plotly\"], function(Plotly) {\n",
       "                    window.PLOTLYENV=window.PLOTLYENV || {};\n",
       "                    window.PLOTLYENV.BASE_URL='https://plot.ly';\n",
       "                    \n",
       "                if (document.getElementById(\"5e1a4570-0570-4c98-93c3-c1379fb37864\")) {\n",
       "                    Plotly.newPlot(\n",
       "                        '5e1a4570-0570-4c98-93c3-c1379fb37864',\n",
       "                        [{\"hoverinfo\": \"text\", \"marker\": {\"cmax\": 245, \"cmin\": 3, \"color\": [3, 41, 245, 5, 88], \"colorbar\": {\"thickness\": 15, \"title\": {\"side\": \"right\", \"text\": \"coco\"}, \"xanchor\": \"left\"}, \"colorscale\": \"YlGnBu\", \"line\": {\"width\": 2}, \"reversescale\": true, \"showscale\": false, \"size\": [3, 41, 245, 5, 88], \"sizemin\": 10, \"sizemode\": \"area\", \"sizeref\": 0.30625}, \"mode\": \"markers\", \"text\": [\"clientes: 3<br>keke: 234<br>\", \"clientes: 41<br>\", \"clientes: 245<br>\", \"clientes: 5<br>\", \"clientes: 88<br>\"], \"type\": \"scatter\", \"uid\": \"ce456e4f-fe22-4742-8fe0-1b7e66d44a71\", \"x\": [0.9999999999999999, 0.30901696042448806, -0.8090170945349412, -0.8090169753256495, 0.30901710943610267], \"y\": [2.38418583364819e-08, 0.9510565808604344, 0.587785218735669, -0.5877853498658898, -0.9510564735720718]}, {\"hoverinfo\": \"none\", \"line\": {\"color\": \"black\", \"width\": 0.5}, \"mode\": \"lines\", \"type\": \"scatter\", \"uid\": \"6dc52e11-9e8f-449e-ac29-63e31a06c280\", \"x\": [0.9999999999999999, 0.30901710943610267, null], \"y\": [2.38418583364819e-08, -0.9510564735720718, null]}, {\"hoverinfo\": \"none\", \"line\": {\"color\": \"black\", \"width\": 0.5}, \"mode\": \"lines\", \"type\": \"scatter\", \"uid\": \"6604e5d4-ac0b-42e7-9150-f64cf375860d\", \"x\": [0.9999999999999999, 0.30901696042448806, null], \"y\": [2.38418583364819e-08, 0.9510565808604344, null]}, {\"hoverinfo\": \"none\", \"line\": {\"color\": \"black\", \"width\": 0.5}, \"mode\": \"lines\", \"type\": \"scatter\", \"uid\": \"8157454b-5150-439d-8fba-0d41001bb0a2\", \"x\": [0.9999999999999999, -0.8090170945349412, null], \"y\": [2.38418583364819e-08, 0.587785218735669, null]}, {\"hoverinfo\": \"none\", \"line\": {\"color\": \"black\", \"width\": 0.5}, \"mode\": \"lines\", \"type\": \"scatter\", \"uid\": \"f932ffc7-a7f7-44d8-94b3-aca162f737b0\", \"x\": [0.9999999999999999, -0.8090169753256495, null], \"y\": [2.38418583364819e-08, -0.5877853498658898, null]}],\n",
       "                        {\"annotations\": [{\"ax\": 0, \"ay\": 20, \"showarrow\": false, \"text\": \"Next\", \"x\": 0.9999999999999999, \"xref\": \"x\", \"y\": 0.10000002384185834, \"yref\": \"y\"}, {\"ax\": 0, \"ay\": 20, \"showarrow\": false, \"text\": \"Nubank\", \"x\": 0.30901696042448806, \"xref\": \"x\", \"y\": 1.0510565808604344, \"yref\": \"y\"}, {\"ax\": 0, \"ay\": 20, \"showarrow\": false, \"text\": \"Itau\", \"x\": -0.8090170945349412, \"xref\": \"x\", \"y\": 0.687785218735669, \"yref\": \"y\"}, {\"ax\": 0, \"ay\": 20, \"showarrow\": false, \"text\": \"XP Investimentos\", \"x\": -0.8090169753256495, \"xref\": \"x\", \"y\": -0.48778534986588984, \"yref\": \"y\"}, {\"ax\": 0, \"ay\": 20, \"showarrow\": false, \"text\": \"BB\", \"x\": 0.30901710943610267, \"xref\": \"x\", \"y\": -0.8510564735720718, \"yref\": \"y\"}], \"hovermode\": \"closest\", \"margin\": {\"b\": 20, \"l\": 5, \"r\": 5, \"t\": 40}, \"showlegend\": false, \"title\": {\"font\": {\"size\": 16}, \"text\": \"coco\"}, \"xaxis\": {\"showgrid\": false, \"showticklabels\": false, \"zeroline\": false}, \"yaxis\": {\"showgrid\": false, \"showticklabels\": false, \"zeroline\": false}},\n",
       "                        {\"showLink\": false, \"linkText\": \"Export to plot.ly\", \"plotlyServerURL\": \"https://plot.ly\", \"responsive\": true}\n",
       "                    ).then(function(){\n",
       "                            \n",
       "var gd = document.getElementById('5e1a4570-0570-4c98-93c3-c1379fb37864');\n",
       "var x = new MutationObserver(function (mutations, observer) {{\n",
       "        var display = window.getComputedStyle(gd).display;\n",
       "        if (!display || display === 'none') {{\n",
       "            console.log([gd, 'removed!']);\n",
       "            Plotly.purge(gd);\n",
       "            observer.disconnect();\n",
       "        }}\n",
       "}});\n",
       "\n",
       "// Listen for the removal of the full notebook cells\n",
       "var notebookContainer = gd.closest('#notebook-container');\n",
       "if (notebookContainer) {{\n",
       "    x.observe(notebookContainer, {childList: true});\n",
       "}}\n",
       "\n",
       "// Listen for the clearing of the current output cell\n",
       "var outputEl = gd.closest('.output');\n",
       "if (outputEl) {{\n",
       "    x.observe(outputEl, {childList: true});\n",
       "}}\n",
       "\n",
       "                        })\n",
       "                };\n",
       "                });\n",
       "            </script>\n",
       "        </div>"
      ]
     },
     "metadata": {},
     "output_type": "display_data"
    }
   ],
   "source": [
    "mygraph.plot(title='coco', node_size_col='clientes', node_color_col='clientes', hover_col=['clientes','keke'])"
   ]
  },
  {
   "cell_type": "code",
   "execution_count": 11,
   "metadata": {},
   "outputs": [
    {
     "data": {
      "application/vnd.plotly.v1+json": {
       "config": {
        "linkText": "Export to plot.ly",
        "plotlyServerURL": "https://plot.ly",
        "responsive": true,
        "showLink": false
       },
       "data": [
        {
         "hoverinfo": "text",
         "marker": {
          "cmax": 245,
          "cmin": 3,
          "color": [
           3,
           41,
           245,
           5,
           88
          ],
          "colorbar": {
           "thickness": 15,
           "title": {
            "side": "right",
            "text": "coco"
           },
           "xanchor": "left"
          },
          "colorscale": "YlGnBu",
          "line": {
           "width": 2
          },
          "reversescale": true,
          "showscale": false,
          "size": [
           3,
           41,
           245,
           5,
           88
          ],
          "sizemin": 10,
          "sizemode": "area",
          "sizeref": 0.30625
         },
         "mode": "markers",
         "text": [],
         "type": "scatter",
         "uid": "90bf4646-a2b7-44fd-ba59-5ef4d8f5b858",
         "x": [
          0.9999999999999999,
          0.30901696042448806,
          -0.8090170945349412,
          -0.8090169753256495,
          0.30901710943610267
         ],
         "y": [
          2.38418583364819e-08,
          0.9510565808604344,
          0.587785218735669,
          -0.5877853498658898,
          -0.9510564735720718
         ]
        },
        {
         "hoverinfo": "none",
         "line": {
          "color": "rgb(251, 252, 191)",
          "width": 0.5
         },
         "mode": "lines",
         "type": "scatter",
         "uid": "63e925b1-4f79-48cd-b17a-666f1f37f68b",
         "x": [
          0.9999999999999999,
          0.30901710943610267,
          null
         ],
         "y": [
          2.38418583364819e-08,
          -0.9510564735720718,
          null
         ]
        },
        {
         "hoverinfo": "none",
         "line": {
          "color": "rgb(0, 0, 3)",
          "width": 0.5
         },
         "mode": "lines",
         "type": "scatter",
         "uid": "40c79509-864d-4a42-8313-6918622e6457",
         "x": [
          0.9999999999999999,
          0.30901696042448806,
          null
         ],
         "y": [
          2.38418583364819e-08,
          0.9510565808604344,
          null
         ]
        },
        {
         "hoverinfo": "none",
         "line": {
          "color": "rgb(211, 66, 109)",
          "width": 0.5
         },
         "mode": "lines",
         "type": "scatter",
         "uid": "e4bd6f6f-1cff-4c1b-9c3a-fc60c7ecea43",
         "x": [
          0.9999999999999999,
          -0.8090170945349412,
          null
         ],
         "y": [
          2.38418583364819e-08,
          0.587785218735669,
          null
         ]
        },
        {
         "hoverinfo": "none",
         "line": {
          "color": "rgb(211, 66, 109)",
          "width": 0.5
         },
         "mode": "lines",
         "type": "scatter",
         "uid": "87a31b5c-3ad0-453b-b60e-b40e93c76c27",
         "x": [
          0.9999999999999999,
          -0.8090169753256495,
          null
         ],
         "y": [
          2.38418583364819e-08,
          -0.5877853498658898,
          null
         ]
        }
       ],
       "layout": {
        "annotations": [
         {
          "ax": 0,
          "ay": 20,
          "showarrow": false,
          "text": "Next",
          "x": 0.9999999999999999,
          "xref": "x",
          "y": 0.10000002384185834,
          "yref": "y"
         },
         {
          "ax": 0,
          "ay": 20,
          "showarrow": false,
          "text": "Nubank",
          "x": 0.30901696042448806,
          "xref": "x",
          "y": 1.0510565808604344,
          "yref": "y"
         },
         {
          "ax": 0,
          "ay": 20,
          "showarrow": false,
          "text": "Itau",
          "x": -0.8090170945349412,
          "xref": "x",
          "y": 0.687785218735669,
          "yref": "y"
         },
         {
          "ax": 0,
          "ay": 20,
          "showarrow": false,
          "text": "XP Investimentos",
          "x": -0.8090169753256495,
          "xref": "x",
          "y": -0.48778534986588984,
          "yref": "y"
         },
         {
          "ax": 0,
          "ay": 20,
          "showarrow": false,
          "text": "BB",
          "x": 0.30901710943610267,
          "xref": "x",
          "y": -0.8510564735720718,
          "yref": "y"
         }
        ],
        "hovermode": "closest",
        "margin": {
         "b": 20,
         "l": 5,
         "r": 5,
         "t": 40
        },
        "showlegend": false,
        "title": {
         "font": {
          "size": 16
         },
         "text": "coco"
        },
        "xaxis": {
         "showgrid": false,
         "showticklabels": false,
         "zeroline": false
        },
        "yaxis": {
         "showgrid": false,
         "showticklabels": false,
         "zeroline": false
        }
       }
      },
      "text/html": [
       "<div>\n",
       "        \n",
       "        \n",
       "            <div id=\"722e47a4-82b0-48d1-8e56-0d9825e5c375\" class=\"plotly-graph-div\" style=\"height:525px; width:100%;\"></div>\n",
       "            <script type=\"text/javascript\">\n",
       "                require([\"plotly\"], function(Plotly) {\n",
       "                    window.PLOTLYENV=window.PLOTLYENV || {};\n",
       "                    window.PLOTLYENV.BASE_URL='https://plot.ly';\n",
       "                    \n",
       "                if (document.getElementById(\"722e47a4-82b0-48d1-8e56-0d9825e5c375\")) {\n",
       "                    Plotly.newPlot(\n",
       "                        '722e47a4-82b0-48d1-8e56-0d9825e5c375',\n",
       "                        [{\"hoverinfo\": \"text\", \"marker\": {\"cmax\": 245, \"cmin\": 3, \"color\": [3, 41, 245, 5, 88], \"colorbar\": {\"thickness\": 15, \"title\": {\"side\": \"right\", \"text\": \"coco\"}, \"xanchor\": \"left\"}, \"colorscale\": \"YlGnBu\", \"line\": {\"width\": 2}, \"reversescale\": true, \"showscale\": false, \"size\": [3, 41, 245, 5, 88], \"sizemin\": 10, \"sizemode\": \"area\", \"sizeref\": 0.30625}, \"mode\": \"markers\", \"text\": [], \"type\": \"scatter\", \"uid\": \"339cc2c2-1ec5-4f4d-8517-ef7baa93c52a\", \"x\": [0.9999999999999999, 0.30901696042448806, -0.8090170945349412, -0.8090169753256495, 0.30901710943610267], \"y\": [2.38418583364819e-08, 0.9510565808604344, 0.587785218735669, -0.5877853498658898, -0.9510564735720718]}, {\"hoverinfo\": \"none\", \"line\": {\"color\": \"rgb(251, 252, 191)\", \"width\": 0.5}, \"mode\": \"lines\", \"type\": \"scatter\", \"uid\": \"8fa74391-d215-4477-b9f3-7ef703f97ee1\", \"x\": [0.9999999999999999, 0.30901710943610267, null], \"y\": [2.38418583364819e-08, -0.9510564735720718, null]}, {\"hoverinfo\": \"none\", \"line\": {\"color\": \"rgb(0, 0, 3)\", \"width\": 0.5}, \"mode\": \"lines\", \"type\": \"scatter\", \"uid\": \"d260c1d7-38c5-488e-a455-8cd3e19dfa92\", \"x\": [0.9999999999999999, 0.30901696042448806, null], \"y\": [2.38418583364819e-08, 0.9510565808604344, null]}, {\"hoverinfo\": \"none\", \"line\": {\"color\": \"rgb(211, 66, 109)\", \"width\": 0.5}, \"mode\": \"lines\", \"type\": \"scatter\", \"uid\": \"3c9a74db-ad29-49aa-a49e-6e172860e7a7\", \"x\": [0.9999999999999999, -0.8090170945349412, null], \"y\": [2.38418583364819e-08, 0.587785218735669, null]}, {\"hoverinfo\": \"none\", \"line\": {\"color\": \"rgb(211, 66, 109)\", \"width\": 0.5}, \"mode\": \"lines\", \"type\": \"scatter\", \"uid\": \"da04d2fb-8963-4414-b794-35043094dd79\", \"x\": [0.9999999999999999, -0.8090169753256495, null], \"y\": [2.38418583364819e-08, -0.5877853498658898, null]}],\n",
       "                        {\"annotations\": [{\"ax\": 0, \"ay\": 20, \"showarrow\": false, \"text\": \"Next\", \"x\": 0.9999999999999999, \"xref\": \"x\", \"y\": 0.10000002384185834, \"yref\": \"y\"}, {\"ax\": 0, \"ay\": 20, \"showarrow\": false, \"text\": \"Nubank\", \"x\": 0.30901696042448806, \"xref\": \"x\", \"y\": 1.0510565808604344, \"yref\": \"y\"}, {\"ax\": 0, \"ay\": 20, \"showarrow\": false, \"text\": \"Itau\", \"x\": -0.8090170945349412, \"xref\": \"x\", \"y\": 0.687785218735669, \"yref\": \"y\"}, {\"ax\": 0, \"ay\": 20, \"showarrow\": false, \"text\": \"XP Investimentos\", \"x\": -0.8090169753256495, \"xref\": \"x\", \"y\": -0.48778534986588984, \"yref\": \"y\"}, {\"ax\": 0, \"ay\": 20, \"showarrow\": false, \"text\": \"BB\", \"x\": 0.30901710943610267, \"xref\": \"x\", \"y\": -0.8510564735720718, \"yref\": \"y\"}], \"hovermode\": \"closest\", \"margin\": {\"b\": 20, \"l\": 5, \"r\": 5, \"t\": 40}, \"showlegend\": false, \"title\": {\"font\": {\"size\": 16}, \"text\": \"coco\"}, \"xaxis\": {\"showgrid\": false, \"showticklabels\": false, \"zeroline\": false}, \"yaxis\": {\"showgrid\": false, \"showticklabels\": false, \"zeroline\": false}},\n",
       "                        {\"showLink\": false, \"linkText\": \"Export to plot.ly\", \"plotlyServerURL\": \"https://plot.ly\", \"responsive\": true}\n",
       "                    ).then(function(){\n",
       "                            \n",
       "var gd = document.getElementById('722e47a4-82b0-48d1-8e56-0d9825e5c375');\n",
       "var x = new MutationObserver(function (mutations, observer) {{\n",
       "        var display = window.getComputedStyle(gd).display;\n",
       "        if (!display || display === 'none') {{\n",
       "            console.log([gd, 'removed!']);\n",
       "            Plotly.purge(gd);\n",
       "            observer.disconnect();\n",
       "        }}\n",
       "}});\n",
       "\n",
       "// Listen for the removal of the full notebook cells\n",
       "var notebookContainer = gd.closest('#notebook-container');\n",
       "if (notebookContainer) {{\n",
       "    x.observe(notebookContainer, {childList: true});\n",
       "}}\n",
       "\n",
       "// Listen for the clearing of the current output cell\n",
       "var outputEl = gd.closest('.output');\n",
       "if (outputEl) {{\n",
       "    x.observe(outputEl, {childList: true});\n",
       "}}\n",
       "\n",
       "                        })\n",
       "                };\n",
       "                });\n",
       "            </script>\n",
       "        </div>"
      ]
     },
     "metadata": {},
     "output_type": "display_data"
    }
   ],
   "source": [
    "mygraph.plot(title='coco', node_size_col='clientes', node_color_col='clientes', edge_color_col='enviado')"
   ]
  },
  {
   "cell_type": "code",
   "execution_count": null,
   "metadata": {},
   "outputs": [],
   "source": [
    "lala = range(10)\n",
    "settings = []\n",
    "dicio = {}\n",
    "for i,edge in enumerate(lala):\n",
    "    dicio['a'] = i\n",
    "    settings.append(dicio)\n"
   ]
  },
  {
   "cell_type": "code",
   "execution_count": null,
   "metadata": {},
   "outputs": [],
   "source": [
    "settings"
   ]
  },
  {
   "cell_type": "code",
   "execution_count": null,
   "metadata": {},
   "outputs": [],
   "source": [
    "from egfuncs import *"
   ]
  },
  {
   "cell_type": "code",
   "execution_count": null,
   "metadata": {},
   "outputs": [],
   "source": [
    "get_color(.3)[1]"
   ]
  },
  {
   "cell_type": "code",
   "execution_count": null,
   "metadata": {},
   "outputs": [],
   "source": []
  },
  {
   "cell_type": "code",
   "execution_count": null,
   "metadata": {},
   "outputs": [],
   "source": [
    "120/255"
   ]
  },
  {
   "cell_type": "code",
   "execution_count": null,
   "metadata": {},
   "outputs": [],
   "source": [
    "0.00392*255"
   ]
  },
  {
   "cell_type": "code",
   "execution_count": null,
   "metadata": {},
   "outputs": [],
   "source": []
  }
 ],
 "metadata": {
  "kernelspec": {
   "display_name": "Python 3",
   "language": "python",
   "name": "python3"
  },
  "language_info": {
   "codemirror_mode": {
    "name": "ipython",
    "version": 3
   },
   "file_extension": ".py",
   "mimetype": "text/x-python",
   "name": "python",
   "nbconvert_exporter": "python",
   "pygments_lexer": "ipython3",
   "version": "3.7.0"
  }
 },
 "nbformat": 4,
 "nbformat_minor": 2
}
