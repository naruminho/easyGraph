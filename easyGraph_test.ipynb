{
 "cells": [
  {
   "cell_type": "code",
   "execution_count": 138,
   "metadata": {},
   "outputs": [
    {
     "name": "stdout",
     "output_type": "stream",
     "text": [
      "The autoreload extension is already loaded. To reload it, use:\n",
      "  %reload_ext autoreload\n"
     ]
    }
   ],
   "source": [
    "%load_ext autoreload\n",
    "%autoreload 2\n",
    "from easyGraph import *"
   ]
  },
  {
   "cell_type": "code",
   "execution_count": 139,
   "metadata": {},
   "outputs": [],
   "source": [
    "mygraph = EasyGraph(1)"
   ]
  },
  {
   "cell_type": "code",
   "execution_count": 140,
   "metadata": {},
   "outputs": [],
   "source": [
    "# adicionando nodes e definindo propriedades\n",
    "mygraph.node.add('Next', {'clientes':3, 'keke': 234})\n",
    "mygraph.node.add('Nubank', {'clientes':41})\n",
    "mygraph.node.add('Itau', {'clientes':24555})\n",
    "mygraph.node.add('XP Investimentos', {'clientes':5})\n",
    "mygraph.node.add('BB', {'clientes':88})\n",
    "\n",
    "# adicionando arestas e propriedades\n",
    "mygraph.edge.add('Next', 'BB', {'enviado': 45000})\n",
    "mygraph.edge.add('Next', 'Nubank', {'enviado': 10000})\n",
    "mygraph.edge.add('Next', 'Itau', {'enviado': 30000})\n",
    "mygraph.edge.add('Next', 'XP Investimentos', {'enviado': 30000})"
   ]
  },
  {
   "cell_type": "code",
   "execution_count": 141,
   "metadata": {},
   "outputs": [
    {
     "data": {
      "application/vnd.plotly.v1+json": {
       "config": {
        "linkText": "Export to plot.ly",
        "plotlyServerURL": "https://plot.ly",
        "responsive": true,
        "showLink": false
       },
       "data": [
        {
         "hoverinfo": "text",
         "marker": {
          "cmax": null,
          "cmin": null,
          "color": "darkblue",
          "colorbar": {
           "thickness": 15,
           "title": {
            "side": "right",
            "text": " "
           },
           "xanchor": "left"
          },
          "colorscale": [
           [
            0,
            "rgb(165,0,38)"
           ],
           [
            0.1111111111111111,
            "rgb(215,48,39)"
           ],
           [
            0.2222222222222222,
            "rgb(244,109,67)"
           ],
           [
            0.3333333333333333,
            "rgb(253,174,97)"
           ],
           [
            0.4444444444444444,
            "rgb(254,224,144)"
           ],
           [
            0.5555555555555556,
            "rgb(224,243,248)"
           ],
           [
            0.6666666666666666,
            "rgb(171,217,233)"
           ],
           [
            0.7777777777777778,
            "rgb(116,173,209)"
           ],
           [
            0.8888888888888888,
            "rgb(69,117,180)"
           ],
           [
            1,
            "rgb(49,54,149)"
           ]
          ],
          "line": {
           "width": 2
          },
          "reversescale": true,
          "showscale": false,
          "size": [
           1,
           1,
           1,
           1,
           1
          ],
          "sizemin": 5,
          "sizemode": "area",
          "sizeref": 5
         },
         "mode": "markers",
         "text": [
          "clientes: 3<br>keke: 234<br>",
          "clientes: 41<br>",
          "clientes: 24555<br>",
          "clientes: 5<br>",
          "clientes: 88<br>"
         ],
         "type": "scatter",
         "uid": "5129d68a-518d-4ae9-a403-db51cf89538b",
         "x": [
          0.9999999999999999,
          0.30901696042448806,
          -0.8090170945349412,
          -0.8090169753256495,
          0.30901710943610267
         ],
         "y": [
          2.38418583364819e-08,
          0.9510565808604344,
          0.587785218735669,
          -0.5877853498658898,
          -0.9510564735720718
         ]
        },
        {
         "hoverinfo": "none",
         "line": {
          "color": "black",
          "width": 0.5
         },
         "mode": "lines",
         "type": "scatter",
         "uid": "208ddbe8-49de-4bc5-bbd5-30ecd65b66df",
         "x": [
          0.9999999999999999,
          0.30901710943610267,
          null
         ],
         "y": [
          2.38418583364819e-08,
          -0.9510564735720718,
          null
         ]
        },
        {
         "hoverinfo": "none",
         "line": {
          "color": "black",
          "width": 0.5
         },
         "mode": "lines",
         "type": "scatter",
         "uid": "5a03e51c-2500-4e9b-a1a0-f3f8d0355c75",
         "x": [
          0.9999999999999999,
          0.30901696042448806,
          null
         ],
         "y": [
          2.38418583364819e-08,
          0.9510565808604344,
          null
         ]
        },
        {
         "hoverinfo": "none",
         "line": {
          "color": "black",
          "width": 0.5
         },
         "mode": "lines",
         "type": "scatter",
         "uid": "9de68cf4-2c5a-4535-b571-98309a3e622f",
         "x": [
          0.9999999999999999,
          -0.8090170945349412,
          null
         ],
         "y": [
          2.38418583364819e-08,
          0.587785218735669,
          null
         ]
        },
        {
         "hoverinfo": "none",
         "line": {
          "color": "black",
          "width": 0.5
         },
         "mode": "lines",
         "type": "scatter",
         "uid": "d9230d3a-dca9-45c3-b335-f0fabc0371ee",
         "x": [
          0.9999999999999999,
          -0.8090169753256495,
          null
         ],
         "y": [
          2.38418583364819e-08,
          -0.5877853498658898,
          null
         ]
        }
       ],
       "layout": {
        "annotations": [
         {
          "ax": 0,
          "ay": 20,
          "showarrow": false,
          "text": "Next",
          "x": 0.9999999999999999,
          "xref": "x",
          "y": 0.10000002384185834,
          "yref": "y"
         },
         {
          "ax": 0,
          "ay": 20,
          "showarrow": false,
          "text": "Nubank",
          "x": 0.30901696042448806,
          "xref": "x",
          "y": 1.0510565808604344,
          "yref": "y"
         },
         {
          "ax": 0,
          "ay": 20,
          "showarrow": false,
          "text": "Itau",
          "x": -0.8090170945349412,
          "xref": "x",
          "y": 0.687785218735669,
          "yref": "y"
         },
         {
          "ax": 0,
          "ay": 20,
          "showarrow": false,
          "text": "XP Investimentos",
          "x": -0.8090169753256495,
          "xref": "x",
          "y": -0.48778534986588984,
          "yref": "y"
         },
         {
          "ax": 0,
          "ay": 20,
          "showarrow": false,
          "text": "BB",
          "x": 0.30901710943610267,
          "xref": "x",
          "y": -0.8510564735720718,
          "yref": "y"
         }
        ],
        "hovermode": "closest",
        "margin": {
         "b": 20,
         "l": 5,
         "r": 5,
         "t": 40
        },
        "showlegend": false,
        "title": {
         "font": {
          "size": 16
         },
         "text": " "
        },
        "xaxis": {
         "showgrid": false,
         "showticklabels": false,
         "zeroline": false
        },
        "yaxis": {
         "showgrid": false,
         "showticklabels": false,
         "zeroline": false
        }
       }
      },
      "text/html": [
       "<div>\n",
       "        \n",
       "        \n",
       "            <div id=\"bf5ceddc-ba1d-4599-8262-b4f928105c69\" class=\"plotly-graph-div\" style=\"height:525px; width:100%;\"></div>\n",
       "            <script type=\"text/javascript\">\n",
       "                require([\"plotly\"], function(Plotly) {\n",
       "                    window.PLOTLYENV=window.PLOTLYENV || {};\n",
       "                    window.PLOTLYENV.BASE_URL='https://plot.ly';\n",
       "                    \n",
       "                if (document.getElementById(\"bf5ceddc-ba1d-4599-8262-b4f928105c69\")) {\n",
       "                    Plotly.newPlot(\n",
       "                        'bf5ceddc-ba1d-4599-8262-b4f928105c69',\n",
       "                        [{\"hoverinfo\": \"text\", \"marker\": {\"cmax\": null, \"cmin\": null, \"color\": \"darkblue\", \"colorbar\": {\"thickness\": 15, \"title\": {\"side\": \"right\", \"text\": \" \"}, \"xanchor\": \"left\"}, \"colorscale\": [[0.0, \"rgb(165,0,38)\"], [0.1111111111111111, \"rgb(215,48,39)\"], [0.2222222222222222, \"rgb(244,109,67)\"], [0.3333333333333333, \"rgb(253,174,97)\"], [0.4444444444444444, \"rgb(254,224,144)\"], [0.5555555555555556, \"rgb(224,243,248)\"], [0.6666666666666666, \"rgb(171,217,233)\"], [0.7777777777777778, \"rgb(116,173,209)\"], [0.8888888888888888, \"rgb(69,117,180)\"], [1.0, \"rgb(49,54,149)\"]], \"line\": {\"width\": 2}, \"reversescale\": true, \"showscale\": false, \"size\": [1, 1, 1, 1, 1], \"sizemin\": 5, \"sizemode\": \"area\", \"sizeref\": 5}, \"mode\": \"markers\", \"text\": [\"clientes: 3<br>keke: 234<br>\", \"clientes: 41<br>\", \"clientes: 24555<br>\", \"clientes: 5<br>\", \"clientes: 88<br>\"], \"type\": \"scatter\", \"uid\": \"f43d39a5-08ab-4edf-9a98-035e54e54dfa\", \"x\": [0.9999999999999999, 0.30901696042448806, -0.8090170945349412, -0.8090169753256495, 0.30901710943610267], \"y\": [2.38418583364819e-08, 0.9510565808604344, 0.587785218735669, -0.5877853498658898, -0.9510564735720718]}, {\"hoverinfo\": \"none\", \"line\": {\"color\": \"black\", \"width\": 0.5}, \"mode\": \"lines\", \"type\": \"scatter\", \"uid\": \"7597b6de-afe3-448f-b1e9-ced597c1f33b\", \"x\": [0.9999999999999999, 0.30901710943610267, null], \"y\": [2.38418583364819e-08, -0.9510564735720718, null]}, {\"hoverinfo\": \"none\", \"line\": {\"color\": \"black\", \"width\": 0.5}, \"mode\": \"lines\", \"type\": \"scatter\", \"uid\": \"66b14ba9-95f8-4bfc-b239-479bd4173d6c\", \"x\": [0.9999999999999999, 0.30901696042448806, null], \"y\": [2.38418583364819e-08, 0.9510565808604344, null]}, {\"hoverinfo\": \"none\", \"line\": {\"color\": \"black\", \"width\": 0.5}, \"mode\": \"lines\", \"type\": \"scatter\", \"uid\": \"b73efee7-dfe2-41c3-bcc3-f704296240cd\", \"x\": [0.9999999999999999, -0.8090170945349412, null], \"y\": [2.38418583364819e-08, 0.587785218735669, null]}, {\"hoverinfo\": \"none\", \"line\": {\"color\": \"black\", \"width\": 0.5}, \"mode\": \"lines\", \"type\": \"scatter\", \"uid\": \"58825bb2-857a-430e-932f-8f8a3dcf83c9\", \"x\": [0.9999999999999999, -0.8090169753256495, null], \"y\": [2.38418583364819e-08, -0.5877853498658898, null]}],\n",
       "                        {\"annotations\": [{\"ax\": 0, \"ay\": 20, \"showarrow\": false, \"text\": \"Next\", \"x\": 0.9999999999999999, \"xref\": \"x\", \"y\": 0.10000002384185834, \"yref\": \"y\"}, {\"ax\": 0, \"ay\": 20, \"showarrow\": false, \"text\": \"Nubank\", \"x\": 0.30901696042448806, \"xref\": \"x\", \"y\": 1.0510565808604344, \"yref\": \"y\"}, {\"ax\": 0, \"ay\": 20, \"showarrow\": false, \"text\": \"Itau\", \"x\": -0.8090170945349412, \"xref\": \"x\", \"y\": 0.687785218735669, \"yref\": \"y\"}, {\"ax\": 0, \"ay\": 20, \"showarrow\": false, \"text\": \"XP Investimentos\", \"x\": -0.8090169753256495, \"xref\": \"x\", \"y\": -0.48778534986588984, \"yref\": \"y\"}, {\"ax\": 0, \"ay\": 20, \"showarrow\": false, \"text\": \"BB\", \"x\": 0.30901710943610267, \"xref\": \"x\", \"y\": -0.8510564735720718, \"yref\": \"y\"}], \"hovermode\": \"closest\", \"margin\": {\"b\": 20, \"l\": 5, \"r\": 5, \"t\": 40}, \"showlegend\": false, \"title\": {\"font\": {\"size\": 16}, \"text\": \" \"}, \"xaxis\": {\"showgrid\": false, \"showticklabels\": false, \"zeroline\": false}, \"yaxis\": {\"showgrid\": false, \"showticklabels\": false, \"zeroline\": false}},\n",
       "                        {\"showLink\": false, \"linkText\": \"Export to plot.ly\", \"plotlyServerURL\": \"https://plot.ly\", \"responsive\": true}\n",
       "                    ).then(function(){\n",
       "                            \n",
       "var gd = document.getElementById('bf5ceddc-ba1d-4599-8262-b4f928105c69');\n",
       "var x = new MutationObserver(function (mutations, observer) {{\n",
       "        var display = window.getComputedStyle(gd).display;\n",
       "        if (!display || display === 'none') {{\n",
       "            console.log([gd, 'removed!']);\n",
       "            Plotly.purge(gd);\n",
       "            observer.disconnect();\n",
       "        }}\n",
       "}});\n",
       "\n",
       "// Listen for the removal of the full notebook cells\n",
       "var notebookContainer = gd.closest('#notebook-container');\n",
       "if (notebookContainer) {{\n",
       "    x.observe(notebookContainer, {childList: true});\n",
       "}}\n",
       "\n",
       "// Listen for the clearing of the current output cell\n",
       "var outputEl = gd.closest('.output');\n",
       "if (outputEl) {{\n",
       "    x.observe(outputEl, {childList: true});\n",
       "}}\n",
       "\n",
       "                        })\n",
       "                };\n",
       "                });\n",
       "            </script>\n",
       "        </div>"
      ]
     },
     "metadata": {},
     "output_type": "display_data"
    }
   ],
   "source": [
    "mygraph.plot()"
   ]
  },
  {
   "cell_type": "code",
   "execution_count": 142,
   "metadata": {},
   "outputs": [
    {
     "data": {
      "application/vnd.plotly.v1+json": {
       "config": {
        "linkText": "Export to plot.ly",
        "plotlyServerURL": "https://plot.ly",
        "responsive": true,
        "showLink": false
       },
       "data": [
        {
         "hoverinfo": "text",
         "marker": {
          "cmax": null,
          "cmin": null,
          "color": [
           "rgb(0, 0, 3)",
           "rgb(0, 0, 3)",
           "rgb(251, 252, 191)",
           "rgb(0, 0, 3)",
           "rgb(0, 0, 3)"
          ],
          "colorbar": {
           "thickness": 15,
           "title": {
            "side": "right",
            "text": "coco"
           },
           "xanchor": "left"
          },
          "colorscale": [
           [
            0,
            "rgb(165,0,38)"
           ],
           [
            0.1111111111111111,
            "rgb(215,48,39)"
           ],
           [
            0.2222222222222222,
            "rgb(244,109,67)"
           ],
           [
            0.3333333333333333,
            "rgb(253,174,97)"
           ],
           [
            0.4444444444444444,
            "rgb(254,224,144)"
           ],
           [
            0.5555555555555556,
            "rgb(224,243,248)"
           ],
           [
            0.6666666666666666,
            "rgb(171,217,233)"
           ],
           [
            0.7777777777777778,
            "rgb(116,173,209)"
           ],
           [
            0.8888888888888888,
            "rgb(69,117,180)"
           ],
           [
            1,
            "rgb(49,54,149)"
           ]
          ],
          "line": {
           "width": 2
          },
          "reversescale": true,
          "showscale": false,
          "size": [
           1,
           1,
           1,
           1,
           1
          ],
          "sizemin": 5,
          "sizemode": "area",
          "sizeref": 5
         },
         "mode": "markers",
         "text": [
          "clientes: 3<br>keke: 234<br>",
          "clientes: 41<br>",
          "clientes: 24555<br>",
          "clientes: 5<br>",
          "clientes: 88<br>"
         ],
         "type": "scatter",
         "uid": "57edb7ae-f164-4380-9bb0-f43e9b987dd0",
         "x": [
          0.9999999999999999,
          0.30901696042448806,
          -0.8090170945349412,
          -0.8090169753256495,
          0.30901710943610267
         ],
         "y": [
          2.38418583364819e-08,
          0.9510565808604344,
          0.587785218735669,
          -0.5877853498658898,
          -0.9510564735720718
         ]
        },
        {
         "hoverinfo": "none",
         "line": {
          "color": "black",
          "width": 0.5
         },
         "mode": "lines",
         "type": "scatter",
         "uid": "589f41b5-db4e-4146-b856-5841c565a4dc",
         "x": [
          0.9999999999999999,
          0.30901710943610267,
          null
         ],
         "y": [
          2.38418583364819e-08,
          -0.9510564735720718,
          null
         ]
        },
        {
         "hoverinfo": "none",
         "line": {
          "color": "black",
          "width": 0.5
         },
         "mode": "lines",
         "type": "scatter",
         "uid": "98947cc6-4cba-44ce-af2d-35668cdd2d09",
         "x": [
          0.9999999999999999,
          0.30901696042448806,
          null
         ],
         "y": [
          2.38418583364819e-08,
          0.9510565808604344,
          null
         ]
        },
        {
         "hoverinfo": "none",
         "line": {
          "color": "black",
          "width": 0.5
         },
         "mode": "lines",
         "type": "scatter",
         "uid": "a3a691f1-a5e0-4887-8b60-759720b48c23",
         "x": [
          0.9999999999999999,
          -0.8090170945349412,
          null
         ],
         "y": [
          2.38418583364819e-08,
          0.587785218735669,
          null
         ]
        },
        {
         "hoverinfo": "none",
         "line": {
          "color": "black",
          "width": 0.5
         },
         "mode": "lines",
         "type": "scatter",
         "uid": "f7716214-e4f7-43d9-b581-e68c012865ee",
         "x": [
          0.9999999999999999,
          -0.8090169753256495,
          null
         ],
         "y": [
          2.38418583364819e-08,
          -0.5877853498658898,
          null
         ]
        }
       ],
       "layout": {
        "annotations": [
         {
          "ax": 0,
          "ay": 20,
          "showarrow": false,
          "text": "Next",
          "x": 0.9999999999999999,
          "xref": "x",
          "y": 0.10000002384185834,
          "yref": "y"
         },
         {
          "ax": 0,
          "ay": 20,
          "showarrow": false,
          "text": "Nubank",
          "x": 0.30901696042448806,
          "xref": "x",
          "y": 1.0510565808604344,
          "yref": "y"
         },
         {
          "ax": 0,
          "ay": 20,
          "showarrow": false,
          "text": "Itau",
          "x": -0.8090170945349412,
          "xref": "x",
          "y": 0.687785218735669,
          "yref": "y"
         },
         {
          "ax": 0,
          "ay": 20,
          "showarrow": false,
          "text": "XP Investimentos",
          "x": -0.8090169753256495,
          "xref": "x",
          "y": -0.48778534986588984,
          "yref": "y"
         },
         {
          "ax": 0,
          "ay": 20,
          "showarrow": false,
          "text": "BB",
          "x": 0.30901710943610267,
          "xref": "x",
          "y": -0.8510564735720718,
          "yref": "y"
         }
        ],
        "hovermode": "closest",
        "margin": {
         "b": 20,
         "l": 5,
         "r": 5,
         "t": 40
        },
        "showlegend": false,
        "title": {
         "font": {
          "size": 16
         },
         "text": "coco"
        },
        "xaxis": {
         "showgrid": false,
         "showticklabels": false,
         "zeroline": false
        },
        "yaxis": {
         "showgrid": false,
         "showticklabels": false,
         "zeroline": false
        }
       }
      },
      "text/html": [
       "<div>\n",
       "        \n",
       "        \n",
       "            <div id=\"48cb997a-a22c-42f5-b369-28be90da0fbb\" class=\"plotly-graph-div\" style=\"height:525px; width:100%;\"></div>\n",
       "            <script type=\"text/javascript\">\n",
       "                require([\"plotly\"], function(Plotly) {\n",
       "                    window.PLOTLYENV=window.PLOTLYENV || {};\n",
       "                    window.PLOTLYENV.BASE_URL='https://plot.ly';\n",
       "                    \n",
       "                if (document.getElementById(\"48cb997a-a22c-42f5-b369-28be90da0fbb\")) {\n",
       "                    Plotly.newPlot(\n",
       "                        '48cb997a-a22c-42f5-b369-28be90da0fbb',\n",
       "                        [{\"hoverinfo\": \"text\", \"marker\": {\"cmax\": null, \"cmin\": null, \"color\": [\"rgb(0, 0, 3)\", \"rgb(0, 0, 3)\", \"rgb(251, 252, 191)\", \"rgb(0, 0, 3)\", \"rgb(0, 0, 3)\"], \"colorbar\": {\"thickness\": 15, \"title\": {\"side\": \"right\", \"text\": \"coco\"}, \"xanchor\": \"left\"}, \"colorscale\": [[0.0, \"rgb(165,0,38)\"], [0.1111111111111111, \"rgb(215,48,39)\"], [0.2222222222222222, \"rgb(244,109,67)\"], [0.3333333333333333, \"rgb(253,174,97)\"], [0.4444444444444444, \"rgb(254,224,144)\"], [0.5555555555555556, \"rgb(224,243,248)\"], [0.6666666666666666, \"rgb(171,217,233)\"], [0.7777777777777778, \"rgb(116,173,209)\"], [0.8888888888888888, \"rgb(69,117,180)\"], [1.0, \"rgb(49,54,149)\"]], \"line\": {\"width\": 2}, \"reversescale\": true, \"showscale\": false, \"size\": [1, 1, 1, 1, 1], \"sizemin\": 5, \"sizemode\": \"area\", \"sizeref\": 5}, \"mode\": \"markers\", \"text\": [\"clientes: 3<br>keke: 234<br>\", \"clientes: 41<br>\", \"clientes: 24555<br>\", \"clientes: 5<br>\", \"clientes: 88<br>\"], \"type\": \"scatter\", \"uid\": \"330c194e-78b4-4f53-ac23-3fad6e7e884f\", \"x\": [0.9999999999999999, 0.30901696042448806, -0.8090170945349412, -0.8090169753256495, 0.30901710943610267], \"y\": [2.38418583364819e-08, 0.9510565808604344, 0.587785218735669, -0.5877853498658898, -0.9510564735720718]}, {\"hoverinfo\": \"none\", \"line\": {\"color\": \"black\", \"width\": 0.5}, \"mode\": \"lines\", \"type\": \"scatter\", \"uid\": \"49a985d6-d217-4baa-ae5a-80a5a1632e66\", \"x\": [0.9999999999999999, 0.30901710943610267, null], \"y\": [2.38418583364819e-08, -0.9510564735720718, null]}, {\"hoverinfo\": \"none\", \"line\": {\"color\": \"black\", \"width\": 0.5}, \"mode\": \"lines\", \"type\": \"scatter\", \"uid\": \"e4c4dd86-7eb1-45ad-a37d-180cd46c8da7\", \"x\": [0.9999999999999999, 0.30901696042448806, null], \"y\": [2.38418583364819e-08, 0.9510565808604344, null]}, {\"hoverinfo\": \"none\", \"line\": {\"color\": \"black\", \"width\": 0.5}, \"mode\": \"lines\", \"type\": \"scatter\", \"uid\": \"1cfe5160-95c4-4d86-b153-92e5a74b5013\", \"x\": [0.9999999999999999, -0.8090170945349412, null], \"y\": [2.38418583364819e-08, 0.587785218735669, null]}, {\"hoverinfo\": \"none\", \"line\": {\"color\": \"black\", \"width\": 0.5}, \"mode\": \"lines\", \"type\": \"scatter\", \"uid\": \"f9d8ce29-8368-4c20-8844-b7d5f3dfa7cf\", \"x\": [0.9999999999999999, -0.8090169753256495, null], \"y\": [2.38418583364819e-08, -0.5877853498658898, null]}],\n",
       "                        {\"annotations\": [{\"ax\": 0, \"ay\": 20, \"showarrow\": false, \"text\": \"Next\", \"x\": 0.9999999999999999, \"xref\": \"x\", \"y\": 0.10000002384185834, \"yref\": \"y\"}, {\"ax\": 0, \"ay\": 20, \"showarrow\": false, \"text\": \"Nubank\", \"x\": 0.30901696042448806, \"xref\": \"x\", \"y\": 1.0510565808604344, \"yref\": \"y\"}, {\"ax\": 0, \"ay\": 20, \"showarrow\": false, \"text\": \"Itau\", \"x\": -0.8090170945349412, \"xref\": \"x\", \"y\": 0.687785218735669, \"yref\": \"y\"}, {\"ax\": 0, \"ay\": 20, \"showarrow\": false, \"text\": \"XP Investimentos\", \"x\": -0.8090169753256495, \"xref\": \"x\", \"y\": -0.48778534986588984, \"yref\": \"y\"}, {\"ax\": 0, \"ay\": 20, \"showarrow\": false, \"text\": \"BB\", \"x\": 0.30901710943610267, \"xref\": \"x\", \"y\": -0.8510564735720718, \"yref\": \"y\"}], \"hovermode\": \"closest\", \"margin\": {\"b\": 20, \"l\": 5, \"r\": 5, \"t\": 40}, \"showlegend\": false, \"title\": {\"font\": {\"size\": 16}, \"text\": \"coco\"}, \"xaxis\": {\"showgrid\": false, \"showticklabels\": false, \"zeroline\": false}, \"yaxis\": {\"showgrid\": false, \"showticklabels\": false, \"zeroline\": false}},\n",
       "                        {\"showLink\": false, \"linkText\": \"Export to plot.ly\", \"plotlyServerURL\": \"https://plot.ly\", \"responsive\": true}\n",
       "                    ).then(function(){\n",
       "                            \n",
       "var gd = document.getElementById('48cb997a-a22c-42f5-b369-28be90da0fbb');\n",
       "var x = new MutationObserver(function (mutations, observer) {{\n",
       "        var display = window.getComputedStyle(gd).display;\n",
       "        if (!display || display === 'none') {{\n",
       "            console.log([gd, 'removed!']);\n",
       "            Plotly.purge(gd);\n",
       "            observer.disconnect();\n",
       "        }}\n",
       "}});\n",
       "\n",
       "// Listen for the removal of the full notebook cells\n",
       "var notebookContainer = gd.closest('#notebook-container');\n",
       "if (notebookContainer) {{\n",
       "    x.observe(notebookContainer, {childList: true});\n",
       "}}\n",
       "\n",
       "// Listen for the clearing of the current output cell\n",
       "var outputEl = gd.closest('.output');\n",
       "if (outputEl) {{\n",
       "    x.observe(outputEl, {childList: true});\n",
       "}}\n",
       "\n",
       "                        })\n",
       "                };\n",
       "                });\n",
       "            </script>\n",
       "        </div>"
      ]
     },
     "metadata": {},
     "output_type": "display_data"
    }
   ],
   "source": [
    "mygraph.plot(title='coco', node_color_col='clientes')"
   ]
  },
  {
   "cell_type": "code",
   "execution_count": 143,
   "metadata": {},
   "outputs": [
    {
     "data": {
      "application/vnd.plotly.v1+json": {
       "config": {
        "linkText": "Export to plot.ly",
        "plotlyServerURL": "https://plot.ly",
        "responsive": true,
        "showLink": false
       },
       "data": [
        {
         "hoverinfo": "text",
         "marker": {
          "cmax": 24555,
          "cmin": 3,
          "color": [
           "rgb(0, 0, 3)",
           "rgb(0, 0, 3)",
           "rgb(251, 252, 191)",
           "rgb(0, 0, 3)",
           "rgb(0, 0, 3)"
          ],
          "colorbar": {
           "thickness": 15,
           "title": {
            "side": "right",
            "text": "coco"
           },
           "xanchor": "left"
          },
          "colorscale": [
           [
            0,
            "rgb(165,0,38)"
           ],
           [
            0.1111111111111111,
            "rgb(215,48,39)"
           ],
           [
            0.2222222222222222,
            "rgb(244,109,67)"
           ],
           [
            0.3333333333333333,
            "rgb(253,174,97)"
           ],
           [
            0.4444444444444444,
            "rgb(254,224,144)"
           ],
           [
            0.5555555555555556,
            "rgb(224,243,248)"
           ],
           [
            0.6666666666666666,
            "rgb(171,217,233)"
           ],
           [
            0.7777777777777778,
            "rgb(116,173,209)"
           ],
           [
            0.8888888888888888,
            "rgb(69,117,180)"
           ],
           [
            1,
            "rgb(49,54,149)"
           ]
          ],
          "line": {
           "width": 2
          },
          "reversescale": true,
          "showscale": false,
          "size": [
           3,
           41,
           24555,
           5,
           88
          ],
          "sizemin": 5,
          "sizemode": "area",
          "sizeref": 19.644
         },
         "mode": "markers",
         "text": [
          "clientes: 3<br>keke: 234<br>",
          "clientes: 41<br>",
          "clientes: 24555<br>",
          "clientes: 5<br>",
          "clientes: 88<br>"
         ],
         "type": "scatter",
         "uid": "62da6967-e926-452f-9ddd-fffac3b3d2c1",
         "x": [
          0.9999999999999999,
          0.30901696042448806,
          -0.8090170945349412,
          -0.8090169753256495,
          0.30901710943610267
         ],
         "y": [
          2.38418583364819e-08,
          0.9510565808604344,
          0.587785218735669,
          -0.5877853498658898,
          -0.9510564735720718
         ]
        },
        {
         "hoverinfo": "none",
         "line": {
          "color": "black",
          "width": 0.5
         },
         "mode": "lines",
         "type": "scatter",
         "uid": "9fd31f3e-c1e9-46f0-a921-a614e55ade82",
         "x": [
          0.9999999999999999,
          0.30901710943610267,
          null
         ],
         "y": [
          2.38418583364819e-08,
          -0.9510564735720718,
          null
         ]
        },
        {
         "hoverinfo": "none",
         "line": {
          "color": "black",
          "width": 0.5
         },
         "mode": "lines",
         "type": "scatter",
         "uid": "6962d14d-7767-4622-9792-74206f596a91",
         "x": [
          0.9999999999999999,
          0.30901696042448806,
          null
         ],
         "y": [
          2.38418583364819e-08,
          0.9510565808604344,
          null
         ]
        },
        {
         "hoverinfo": "none",
         "line": {
          "color": "black",
          "width": 0.5
         },
         "mode": "lines",
         "type": "scatter",
         "uid": "834522a2-5788-47ed-808f-775655e91507",
         "x": [
          0.9999999999999999,
          -0.8090170945349412,
          null
         ],
         "y": [
          2.38418583364819e-08,
          0.587785218735669,
          null
         ]
        },
        {
         "hoverinfo": "none",
         "line": {
          "color": "black",
          "width": 0.5
         },
         "mode": "lines",
         "type": "scatter",
         "uid": "9aeefa75-31ba-4bc1-b7bb-a86f5d174aed",
         "x": [
          0.9999999999999999,
          -0.8090169753256495,
          null
         ],
         "y": [
          2.38418583364819e-08,
          -0.5877853498658898,
          null
         ]
        }
       ],
       "layout": {
        "annotations": [
         {
          "ax": 0,
          "ay": 20,
          "showarrow": false,
          "text": "Next",
          "x": 0.9999999999999999,
          "xref": "x",
          "y": 0.10000002384185834,
          "yref": "y"
         },
         {
          "ax": 0,
          "ay": 20,
          "showarrow": false,
          "text": "Nubank",
          "x": 0.30901696042448806,
          "xref": "x",
          "y": 1.0510565808604344,
          "yref": "y"
         },
         {
          "ax": 0,
          "ay": 20,
          "showarrow": false,
          "text": "Itau",
          "x": -0.8090170945349412,
          "xref": "x",
          "y": 0.687785218735669,
          "yref": "y"
         },
         {
          "ax": 0,
          "ay": 20,
          "showarrow": false,
          "text": "XP Investimentos",
          "x": -0.8090169753256495,
          "xref": "x",
          "y": -0.48778534986588984,
          "yref": "y"
         },
         {
          "ax": 0,
          "ay": 20,
          "showarrow": false,
          "text": "BB",
          "x": 0.30901710943610267,
          "xref": "x",
          "y": -0.8510564735720718,
          "yref": "y"
         }
        ],
        "hovermode": "closest",
        "margin": {
         "b": 20,
         "l": 5,
         "r": 5,
         "t": 40
        },
        "showlegend": false,
        "title": {
         "font": {
          "size": 16
         },
         "text": "coco"
        },
        "xaxis": {
         "showgrid": false,
         "showticklabels": false,
         "zeroline": false
        },
        "yaxis": {
         "showgrid": false,
         "showticklabels": false,
         "zeroline": false
        }
       }
      },
      "text/html": [
       "<div>\n",
       "        \n",
       "        \n",
       "            <div id=\"46efdc8e-f6ee-4e49-a492-4dd89844a851\" class=\"plotly-graph-div\" style=\"height:525px; width:100%;\"></div>\n",
       "            <script type=\"text/javascript\">\n",
       "                require([\"plotly\"], function(Plotly) {\n",
       "                    window.PLOTLYENV=window.PLOTLYENV || {};\n",
       "                    window.PLOTLYENV.BASE_URL='https://plot.ly';\n",
       "                    \n",
       "                if (document.getElementById(\"46efdc8e-f6ee-4e49-a492-4dd89844a851\")) {\n",
       "                    Plotly.newPlot(\n",
       "                        '46efdc8e-f6ee-4e49-a492-4dd89844a851',\n",
       "                        [{\"hoverinfo\": \"text\", \"marker\": {\"cmax\": 24555, \"cmin\": 3, \"color\": [\"rgb(0, 0, 3)\", \"rgb(0, 0, 3)\", \"rgb(251, 252, 191)\", \"rgb(0, 0, 3)\", \"rgb(0, 0, 3)\"], \"colorbar\": {\"thickness\": 15, \"title\": {\"side\": \"right\", \"text\": \"coco\"}, \"xanchor\": \"left\"}, \"colorscale\": [[0.0, \"rgb(165,0,38)\"], [0.1111111111111111, \"rgb(215,48,39)\"], [0.2222222222222222, \"rgb(244,109,67)\"], [0.3333333333333333, \"rgb(253,174,97)\"], [0.4444444444444444, \"rgb(254,224,144)\"], [0.5555555555555556, \"rgb(224,243,248)\"], [0.6666666666666666, \"rgb(171,217,233)\"], [0.7777777777777778, \"rgb(116,173,209)\"], [0.8888888888888888, \"rgb(69,117,180)\"], [1.0, \"rgb(49,54,149)\"]], \"line\": {\"width\": 2}, \"reversescale\": true, \"showscale\": false, \"size\": [3, 41, 24555, 5, 88], \"sizemin\": 5, \"sizemode\": \"area\", \"sizeref\": 19.644}, \"mode\": \"markers\", \"text\": [\"clientes: 3<br>keke: 234<br>\", \"clientes: 41<br>\", \"clientes: 24555<br>\", \"clientes: 5<br>\", \"clientes: 88<br>\"], \"type\": \"scatter\", \"uid\": \"cf119d0e-6fc1-4300-8792-c4d252a81801\", \"x\": [0.9999999999999999, 0.30901696042448806, -0.8090170945349412, -0.8090169753256495, 0.30901710943610267], \"y\": [2.38418583364819e-08, 0.9510565808604344, 0.587785218735669, -0.5877853498658898, -0.9510564735720718]}, {\"hoverinfo\": \"none\", \"line\": {\"color\": \"black\", \"width\": 0.5}, \"mode\": \"lines\", \"type\": \"scatter\", \"uid\": \"8ce3a230-c255-48a0-bf45-b9f770547248\", \"x\": [0.9999999999999999, 0.30901710943610267, null], \"y\": [2.38418583364819e-08, -0.9510564735720718, null]}, {\"hoverinfo\": \"none\", \"line\": {\"color\": \"black\", \"width\": 0.5}, \"mode\": \"lines\", \"type\": \"scatter\", \"uid\": \"cd3b666a-07bc-4c6a-bde5-80196d09762b\", \"x\": [0.9999999999999999, 0.30901696042448806, null], \"y\": [2.38418583364819e-08, 0.9510565808604344, null]}, {\"hoverinfo\": \"none\", \"line\": {\"color\": \"black\", \"width\": 0.5}, \"mode\": \"lines\", \"type\": \"scatter\", \"uid\": \"23ee41ea-0f74-469b-aa08-384a07fdc62b\", \"x\": [0.9999999999999999, -0.8090170945349412, null], \"y\": [2.38418583364819e-08, 0.587785218735669, null]}, {\"hoverinfo\": \"none\", \"line\": {\"color\": \"black\", \"width\": 0.5}, \"mode\": \"lines\", \"type\": \"scatter\", \"uid\": \"078828c6-296b-438c-9706-9ec35270ef98\", \"x\": [0.9999999999999999, -0.8090169753256495, null], \"y\": [2.38418583364819e-08, -0.5877853498658898, null]}],\n",
       "                        {\"annotations\": [{\"ax\": 0, \"ay\": 20, \"showarrow\": false, \"text\": \"Next\", \"x\": 0.9999999999999999, \"xref\": \"x\", \"y\": 0.10000002384185834, \"yref\": \"y\"}, {\"ax\": 0, \"ay\": 20, \"showarrow\": false, \"text\": \"Nubank\", \"x\": 0.30901696042448806, \"xref\": \"x\", \"y\": 1.0510565808604344, \"yref\": \"y\"}, {\"ax\": 0, \"ay\": 20, \"showarrow\": false, \"text\": \"Itau\", \"x\": -0.8090170945349412, \"xref\": \"x\", \"y\": 0.687785218735669, \"yref\": \"y\"}, {\"ax\": 0, \"ay\": 20, \"showarrow\": false, \"text\": \"XP Investimentos\", \"x\": -0.8090169753256495, \"xref\": \"x\", \"y\": -0.48778534986588984, \"yref\": \"y\"}, {\"ax\": 0, \"ay\": 20, \"showarrow\": false, \"text\": \"BB\", \"x\": 0.30901710943610267, \"xref\": \"x\", \"y\": -0.8510564735720718, \"yref\": \"y\"}], \"hovermode\": \"closest\", \"margin\": {\"b\": 20, \"l\": 5, \"r\": 5, \"t\": 40}, \"showlegend\": false, \"title\": {\"font\": {\"size\": 16}, \"text\": \"coco\"}, \"xaxis\": {\"showgrid\": false, \"showticklabels\": false, \"zeroline\": false}, \"yaxis\": {\"showgrid\": false, \"showticklabels\": false, \"zeroline\": false}},\n",
       "                        {\"showLink\": false, \"linkText\": \"Export to plot.ly\", \"plotlyServerURL\": \"https://plot.ly\", \"responsive\": true}\n",
       "                    ).then(function(){\n",
       "                            \n",
       "var gd = document.getElementById('46efdc8e-f6ee-4e49-a492-4dd89844a851');\n",
       "var x = new MutationObserver(function (mutations, observer) {{\n",
       "        var display = window.getComputedStyle(gd).display;\n",
       "        if (!display || display === 'none') {{\n",
       "            console.log([gd, 'removed!']);\n",
       "            Plotly.purge(gd);\n",
       "            observer.disconnect();\n",
       "        }}\n",
       "}});\n",
       "\n",
       "// Listen for the removal of the full notebook cells\n",
       "var notebookContainer = gd.closest('#notebook-container');\n",
       "if (notebookContainer) {{\n",
       "    x.observe(notebookContainer, {childList: true});\n",
       "}}\n",
       "\n",
       "// Listen for the clearing of the current output cell\n",
       "var outputEl = gd.closest('.output');\n",
       "if (outputEl) {{\n",
       "    x.observe(outputEl, {childList: true});\n",
       "}}\n",
       "\n",
       "                        })\n",
       "                };\n",
       "                });\n",
       "            </script>\n",
       "        </div>"
      ]
     },
     "metadata": {},
     "output_type": "display_data"
    }
   ],
   "source": [
    "mygraph.plot(title='coco', node_size_col='clientes', node_color_col='clientes')"
   ]
  },
  {
   "cell_type": "code",
   "execution_count": 144,
   "metadata": {},
   "outputs": [
    {
     "data": {
      "application/vnd.plotly.v1+json": {
       "config": {
        "linkText": "Export to plot.ly",
        "plotlyServerURL": "https://plot.ly",
        "responsive": true,
        "showLink": false
       },
       "data": [
        {
         "hoverinfo": "text",
         "marker": {
          "cmax": 24555,
          "cmin": 3,
          "color": [
           "rgb(0, 0, 3)",
           "rgb(0, 0, 3)",
           "rgb(251, 252, 191)",
           "rgb(0, 0, 3)",
           "rgb(0, 0, 3)"
          ],
          "colorbar": {
           "thickness": 15,
           "title": {
            "side": "right",
            "text": "coco"
           },
           "xanchor": "left"
          },
          "colorscale": [
           [
            0,
            "rgb(165,0,38)"
           ],
           [
            0.1111111111111111,
            "rgb(215,48,39)"
           ],
           [
            0.2222222222222222,
            "rgb(244,109,67)"
           ],
           [
            0.3333333333333333,
            "rgb(253,174,97)"
           ],
           [
            0.4444444444444444,
            "rgb(254,224,144)"
           ],
           [
            0.5555555555555556,
            "rgb(224,243,248)"
           ],
           [
            0.6666666666666666,
            "rgb(171,217,233)"
           ],
           [
            0.7777777777777778,
            "rgb(116,173,209)"
           ],
           [
            0.8888888888888888,
            "rgb(69,117,180)"
           ],
           [
            1,
            "rgb(49,54,149)"
           ]
          ],
          "line": {
           "width": 2
          },
          "reversescale": true,
          "showscale": false,
          "size": [
           3,
           41,
           24555,
           5,
           88
          ],
          "sizemin": 5,
          "sizemode": "area",
          "sizeref": 19.644
         },
         "mode": "markers",
         "text": [
          "clientes: 3<br>",
          "clientes: 41<br>",
          "clientes: 24555<br>",
          "clientes: 5<br>",
          "clientes: 88<br>"
         ],
         "type": "scatter",
         "uid": "60789bc1-ed03-4165-83ad-53f0cfc4d33b",
         "x": [
          0.9999999999999999,
          0.30901696042448806,
          -0.8090170945349412,
          -0.8090169753256495,
          0.30901710943610267
         ],
         "y": [
          2.38418583364819e-08,
          0.9510565808604344,
          0.587785218735669,
          -0.5877853498658898,
          -0.9510564735720718
         ]
        },
        {
         "hoverinfo": "none",
         "line": {
          "color": "black",
          "width": 0.5
         },
         "mode": "lines",
         "type": "scatter",
         "uid": "9db42dba-089e-4838-ba4c-67a3b17288b2",
         "x": [
          0.9999999999999999,
          0.30901710943610267,
          null
         ],
         "y": [
          2.38418583364819e-08,
          -0.9510564735720718,
          null
         ]
        },
        {
         "hoverinfo": "none",
         "line": {
          "color": "black",
          "width": 0.5
         },
         "mode": "lines",
         "type": "scatter",
         "uid": "d6a499b3-ce09-4904-8ba8-20223f144d52",
         "x": [
          0.9999999999999999,
          0.30901696042448806,
          null
         ],
         "y": [
          2.38418583364819e-08,
          0.9510565808604344,
          null
         ]
        },
        {
         "hoverinfo": "none",
         "line": {
          "color": "black",
          "width": 0.5
         },
         "mode": "lines",
         "type": "scatter",
         "uid": "8771ab68-5ebe-4490-8394-0f7283c20db2",
         "x": [
          0.9999999999999999,
          -0.8090170945349412,
          null
         ],
         "y": [
          2.38418583364819e-08,
          0.587785218735669,
          null
         ]
        },
        {
         "hoverinfo": "none",
         "line": {
          "color": "black",
          "width": 0.5
         },
         "mode": "lines",
         "type": "scatter",
         "uid": "307ca0dc-45f3-4715-ae70-cd4df6112e80",
         "x": [
          0.9999999999999999,
          -0.8090169753256495,
          null
         ],
         "y": [
          2.38418583364819e-08,
          -0.5877853498658898,
          null
         ]
        }
       ],
       "layout": {
        "annotations": [
         {
          "ax": 0,
          "ay": 20,
          "showarrow": false,
          "text": "Next",
          "x": 0.9999999999999999,
          "xref": "x",
          "y": 0.10000002384185834,
          "yref": "y"
         },
         {
          "ax": 0,
          "ay": 20,
          "showarrow": false,
          "text": "Nubank",
          "x": 0.30901696042448806,
          "xref": "x",
          "y": 1.0510565808604344,
          "yref": "y"
         },
         {
          "ax": 0,
          "ay": 20,
          "showarrow": false,
          "text": "Itau",
          "x": -0.8090170945349412,
          "xref": "x",
          "y": 0.687785218735669,
          "yref": "y"
         },
         {
          "ax": 0,
          "ay": 20,
          "showarrow": false,
          "text": "XP Investimentos",
          "x": -0.8090169753256495,
          "xref": "x",
          "y": -0.48778534986588984,
          "yref": "y"
         },
         {
          "ax": 0,
          "ay": 20,
          "showarrow": false,
          "text": "BB",
          "x": 0.30901710943610267,
          "xref": "x",
          "y": -0.8510564735720718,
          "yref": "y"
         }
        ],
        "hovermode": "closest",
        "margin": {
         "b": 20,
         "l": 5,
         "r": 5,
         "t": 40
        },
        "showlegend": false,
        "title": {
         "font": {
          "size": 16
         },
         "text": "coco"
        },
        "xaxis": {
         "showgrid": false,
         "showticklabels": false,
         "zeroline": false
        },
        "yaxis": {
         "showgrid": false,
         "showticklabels": false,
         "zeroline": false
        }
       }
      },
      "text/html": [
       "<div>\n",
       "        \n",
       "        \n",
       "            <div id=\"12e30c23-4e6b-4e7a-bbf7-24b7415e0dfb\" class=\"plotly-graph-div\" style=\"height:525px; width:100%;\"></div>\n",
       "            <script type=\"text/javascript\">\n",
       "                require([\"plotly\"], function(Plotly) {\n",
       "                    window.PLOTLYENV=window.PLOTLYENV || {};\n",
       "                    window.PLOTLYENV.BASE_URL='https://plot.ly';\n",
       "                    \n",
       "                if (document.getElementById(\"12e30c23-4e6b-4e7a-bbf7-24b7415e0dfb\")) {\n",
       "                    Plotly.newPlot(\n",
       "                        '12e30c23-4e6b-4e7a-bbf7-24b7415e0dfb',\n",
       "                        [{\"hoverinfo\": \"text\", \"marker\": {\"cmax\": 24555, \"cmin\": 3, \"color\": [\"rgb(0, 0, 3)\", \"rgb(0, 0, 3)\", \"rgb(251, 252, 191)\", \"rgb(0, 0, 3)\", \"rgb(0, 0, 3)\"], \"colorbar\": {\"thickness\": 15, \"title\": {\"side\": \"right\", \"text\": \"coco\"}, \"xanchor\": \"left\"}, \"colorscale\": [[0.0, \"rgb(165,0,38)\"], [0.1111111111111111, \"rgb(215,48,39)\"], [0.2222222222222222, \"rgb(244,109,67)\"], [0.3333333333333333, \"rgb(253,174,97)\"], [0.4444444444444444, \"rgb(254,224,144)\"], [0.5555555555555556, \"rgb(224,243,248)\"], [0.6666666666666666, \"rgb(171,217,233)\"], [0.7777777777777778, \"rgb(116,173,209)\"], [0.8888888888888888, \"rgb(69,117,180)\"], [1.0, \"rgb(49,54,149)\"]], \"line\": {\"width\": 2}, \"reversescale\": true, \"showscale\": false, \"size\": [3, 41, 24555, 5, 88], \"sizemin\": 5, \"sizemode\": \"area\", \"sizeref\": 19.644}, \"mode\": \"markers\", \"text\": [\"clientes: 3<br>\", \"clientes: 41<br>\", \"clientes: 24555<br>\", \"clientes: 5<br>\", \"clientes: 88<br>\"], \"type\": \"scatter\", \"uid\": \"90ba946b-e84c-4b85-b375-4127822352bc\", \"x\": [0.9999999999999999, 0.30901696042448806, -0.8090170945349412, -0.8090169753256495, 0.30901710943610267], \"y\": [2.38418583364819e-08, 0.9510565808604344, 0.587785218735669, -0.5877853498658898, -0.9510564735720718]}, {\"hoverinfo\": \"none\", \"line\": {\"color\": \"black\", \"width\": 0.5}, \"mode\": \"lines\", \"type\": \"scatter\", \"uid\": \"e467b155-4acc-4dbe-8d65-c430ce1c7a22\", \"x\": [0.9999999999999999, 0.30901710943610267, null], \"y\": [2.38418583364819e-08, -0.9510564735720718, null]}, {\"hoverinfo\": \"none\", \"line\": {\"color\": \"black\", \"width\": 0.5}, \"mode\": \"lines\", \"type\": \"scatter\", \"uid\": \"aafe9d55-7712-4ad8-b0c0-b4eda94e8433\", \"x\": [0.9999999999999999, 0.30901696042448806, null], \"y\": [2.38418583364819e-08, 0.9510565808604344, null]}, {\"hoverinfo\": \"none\", \"line\": {\"color\": \"black\", \"width\": 0.5}, \"mode\": \"lines\", \"type\": \"scatter\", \"uid\": \"26f125f8-79b3-4885-89e8-791f0435f30f\", \"x\": [0.9999999999999999, -0.8090170945349412, null], \"y\": [2.38418583364819e-08, 0.587785218735669, null]}, {\"hoverinfo\": \"none\", \"line\": {\"color\": \"black\", \"width\": 0.5}, \"mode\": \"lines\", \"type\": \"scatter\", \"uid\": \"bfc300d9-4178-459d-9d4c-c582b25bf5dd\", \"x\": [0.9999999999999999, -0.8090169753256495, null], \"y\": [2.38418583364819e-08, -0.5877853498658898, null]}],\n",
       "                        {\"annotations\": [{\"ax\": 0, \"ay\": 20, \"showarrow\": false, \"text\": \"Next\", \"x\": 0.9999999999999999, \"xref\": \"x\", \"y\": 0.10000002384185834, \"yref\": \"y\"}, {\"ax\": 0, \"ay\": 20, \"showarrow\": false, \"text\": \"Nubank\", \"x\": 0.30901696042448806, \"xref\": \"x\", \"y\": 1.0510565808604344, \"yref\": \"y\"}, {\"ax\": 0, \"ay\": 20, \"showarrow\": false, \"text\": \"Itau\", \"x\": -0.8090170945349412, \"xref\": \"x\", \"y\": 0.687785218735669, \"yref\": \"y\"}, {\"ax\": 0, \"ay\": 20, \"showarrow\": false, \"text\": \"XP Investimentos\", \"x\": -0.8090169753256495, \"xref\": \"x\", \"y\": -0.48778534986588984, \"yref\": \"y\"}, {\"ax\": 0, \"ay\": 20, \"showarrow\": false, \"text\": \"BB\", \"x\": 0.30901710943610267, \"xref\": \"x\", \"y\": -0.8510564735720718, \"yref\": \"y\"}], \"hovermode\": \"closest\", \"margin\": {\"b\": 20, \"l\": 5, \"r\": 5, \"t\": 40}, \"showlegend\": false, \"title\": {\"font\": {\"size\": 16}, \"text\": \"coco\"}, \"xaxis\": {\"showgrid\": false, \"showticklabels\": false, \"zeroline\": false}, \"yaxis\": {\"showgrid\": false, \"showticklabels\": false, \"zeroline\": false}},\n",
       "                        {\"showLink\": false, \"linkText\": \"Export to plot.ly\", \"plotlyServerURL\": \"https://plot.ly\", \"responsive\": true}\n",
       "                    ).then(function(){\n",
       "                            \n",
       "var gd = document.getElementById('12e30c23-4e6b-4e7a-bbf7-24b7415e0dfb');\n",
       "var x = new MutationObserver(function (mutations, observer) {{\n",
       "        var display = window.getComputedStyle(gd).display;\n",
       "        if (!display || display === 'none') {{\n",
       "            console.log([gd, 'removed!']);\n",
       "            Plotly.purge(gd);\n",
       "            observer.disconnect();\n",
       "        }}\n",
       "}});\n",
       "\n",
       "// Listen for the removal of the full notebook cells\n",
       "var notebookContainer = gd.closest('#notebook-container');\n",
       "if (notebookContainer) {{\n",
       "    x.observe(notebookContainer, {childList: true});\n",
       "}}\n",
       "\n",
       "// Listen for the clearing of the current output cell\n",
       "var outputEl = gd.closest('.output');\n",
       "if (outputEl) {{\n",
       "    x.observe(outputEl, {childList: true});\n",
       "}}\n",
       "\n",
       "                        })\n",
       "                };\n",
       "                });\n",
       "            </script>\n",
       "        </div>"
      ]
     },
     "metadata": {},
     "output_type": "display_data"
    }
   ],
   "source": [
    "mygraph.plot(title='coco', node_size_col='clientes', node_color_col='clientes', hover_col='clientes')"
   ]
  },
  {
   "cell_type": "code",
   "execution_count": 145,
   "metadata": {},
   "outputs": [
    {
     "data": {
      "application/vnd.plotly.v1+json": {
       "config": {
        "linkText": "Export to plot.ly",
        "plotlyServerURL": "https://plot.ly",
        "responsive": true,
        "showLink": false
       },
       "data": [
        {
         "hoverinfo": "text",
         "marker": {
          "cmax": 24555,
          "cmin": 3,
          "color": [
           "rgb(0, 0, 3)",
           "rgb(0, 0, 3)",
           "rgb(251, 252, 191)",
           "rgb(0, 0, 3)",
           "rgb(0, 0, 3)"
          ],
          "colorbar": {
           "thickness": 15,
           "title": {
            "side": "right",
            "text": "coco"
           },
           "xanchor": "left"
          },
          "colorscale": [
           [
            0,
            "rgb(165,0,38)"
           ],
           [
            0.1111111111111111,
            "rgb(215,48,39)"
           ],
           [
            0.2222222222222222,
            "rgb(244,109,67)"
           ],
           [
            0.3333333333333333,
            "rgb(253,174,97)"
           ],
           [
            0.4444444444444444,
            "rgb(254,224,144)"
           ],
           [
            0.5555555555555556,
            "rgb(224,243,248)"
           ],
           [
            0.6666666666666666,
            "rgb(171,217,233)"
           ],
           [
            0.7777777777777778,
            "rgb(116,173,209)"
           ],
           [
            0.8888888888888888,
            "rgb(69,117,180)"
           ],
           [
            1,
            "rgb(49,54,149)"
           ]
          ],
          "line": {
           "width": 2
          },
          "reversescale": true,
          "showscale": false,
          "size": [
           3,
           41,
           24555,
           5,
           88
          ],
          "sizemin": 5,
          "sizemode": "area",
          "sizeref": 19.644
         },
         "mode": "markers",
         "text": [
          "clientes: 3<br>keke: 234<br>",
          "clientes: 41<br>",
          "clientes: 24555<br>",
          "clientes: 5<br>",
          "clientes: 88<br>"
         ],
         "type": "scatter",
         "uid": "6152613f-b70f-495d-9afb-2a1818a8605e",
         "x": [
          0.9999999999999999,
          0.30901696042448806,
          -0.8090170945349412,
          -0.8090169753256495,
          0.30901710943610267
         ],
         "y": [
          2.38418583364819e-08,
          0.9510565808604344,
          0.587785218735669,
          -0.5877853498658898,
          -0.9510564735720718
         ]
        },
        {
         "hoverinfo": "none",
         "line": {
          "color": "black",
          "width": 0.5
         },
         "mode": "lines",
         "type": "scatter",
         "uid": "b29ef79d-8669-4f3b-948d-2453157dcbf6",
         "x": [
          0.9999999999999999,
          0.30901710943610267,
          null
         ],
         "y": [
          2.38418583364819e-08,
          -0.9510564735720718,
          null
         ]
        },
        {
         "hoverinfo": "none",
         "line": {
          "color": "black",
          "width": 0.5
         },
         "mode": "lines",
         "type": "scatter",
         "uid": "eca25b49-1d3f-4eb5-b990-c0a1d63ecb6e",
         "x": [
          0.9999999999999999,
          0.30901696042448806,
          null
         ],
         "y": [
          2.38418583364819e-08,
          0.9510565808604344,
          null
         ]
        },
        {
         "hoverinfo": "none",
         "line": {
          "color": "black",
          "width": 0.5
         },
         "mode": "lines",
         "type": "scatter",
         "uid": "94c0ae92-c08b-424e-b4c8-a89deee03346",
         "x": [
          0.9999999999999999,
          -0.8090170945349412,
          null
         ],
         "y": [
          2.38418583364819e-08,
          0.587785218735669,
          null
         ]
        },
        {
         "hoverinfo": "none",
         "line": {
          "color": "black",
          "width": 0.5
         },
         "mode": "lines",
         "type": "scatter",
         "uid": "fb79df04-ed0d-4b53-86f0-0de071aa3e5d",
         "x": [
          0.9999999999999999,
          -0.8090169753256495,
          null
         ],
         "y": [
          2.38418583364819e-08,
          -0.5877853498658898,
          null
         ]
        }
       ],
       "layout": {
        "annotations": [
         {
          "ax": 0,
          "ay": 20,
          "showarrow": false,
          "text": "Next",
          "x": 0.9999999999999999,
          "xref": "x",
          "y": 0.10000002384185834,
          "yref": "y"
         },
         {
          "ax": 0,
          "ay": 20,
          "showarrow": false,
          "text": "Nubank",
          "x": 0.30901696042448806,
          "xref": "x",
          "y": 1.0510565808604344,
          "yref": "y"
         },
         {
          "ax": 0,
          "ay": 20,
          "showarrow": false,
          "text": "Itau",
          "x": -0.8090170945349412,
          "xref": "x",
          "y": 0.687785218735669,
          "yref": "y"
         },
         {
          "ax": 0,
          "ay": 20,
          "showarrow": false,
          "text": "XP Investimentos",
          "x": -0.8090169753256495,
          "xref": "x",
          "y": -0.48778534986588984,
          "yref": "y"
         },
         {
          "ax": 0,
          "ay": 20,
          "showarrow": false,
          "text": "BB",
          "x": 0.30901710943610267,
          "xref": "x",
          "y": -0.8510564735720718,
          "yref": "y"
         }
        ],
        "hovermode": "closest",
        "margin": {
         "b": 20,
         "l": 5,
         "r": 5,
         "t": 40
        },
        "showlegend": false,
        "title": {
         "font": {
          "size": 16
         },
         "text": "coco"
        },
        "xaxis": {
         "showgrid": false,
         "showticklabels": false,
         "zeroline": false
        },
        "yaxis": {
         "showgrid": false,
         "showticklabels": false,
         "zeroline": false
        }
       }
      },
      "text/html": [
       "<div>\n",
       "        \n",
       "        \n",
       "            <div id=\"9c8c546e-f632-4637-bc49-601817b15d67\" class=\"plotly-graph-div\" style=\"height:525px; width:100%;\"></div>\n",
       "            <script type=\"text/javascript\">\n",
       "                require([\"plotly\"], function(Plotly) {\n",
       "                    window.PLOTLYENV=window.PLOTLYENV || {};\n",
       "                    window.PLOTLYENV.BASE_URL='https://plot.ly';\n",
       "                    \n",
       "                if (document.getElementById(\"9c8c546e-f632-4637-bc49-601817b15d67\")) {\n",
       "                    Plotly.newPlot(\n",
       "                        '9c8c546e-f632-4637-bc49-601817b15d67',\n",
       "                        [{\"hoverinfo\": \"text\", \"marker\": {\"cmax\": 24555, \"cmin\": 3, \"color\": [\"rgb(0, 0, 3)\", \"rgb(0, 0, 3)\", \"rgb(251, 252, 191)\", \"rgb(0, 0, 3)\", \"rgb(0, 0, 3)\"], \"colorbar\": {\"thickness\": 15, \"title\": {\"side\": \"right\", \"text\": \"coco\"}, \"xanchor\": \"left\"}, \"colorscale\": [[0.0, \"rgb(165,0,38)\"], [0.1111111111111111, \"rgb(215,48,39)\"], [0.2222222222222222, \"rgb(244,109,67)\"], [0.3333333333333333, \"rgb(253,174,97)\"], [0.4444444444444444, \"rgb(254,224,144)\"], [0.5555555555555556, \"rgb(224,243,248)\"], [0.6666666666666666, \"rgb(171,217,233)\"], [0.7777777777777778, \"rgb(116,173,209)\"], [0.8888888888888888, \"rgb(69,117,180)\"], [1.0, \"rgb(49,54,149)\"]], \"line\": {\"width\": 2}, \"reversescale\": true, \"showscale\": false, \"size\": [3, 41, 24555, 5, 88], \"sizemin\": 5, \"sizemode\": \"area\", \"sizeref\": 19.644}, \"mode\": \"markers\", \"text\": [\"clientes: 3<br>keke: 234<br>\", \"clientes: 41<br>\", \"clientes: 24555<br>\", \"clientes: 5<br>\", \"clientes: 88<br>\"], \"type\": \"scatter\", \"uid\": \"ddfc190b-544c-41e0-8484-06eec33be3ce\", \"x\": [0.9999999999999999, 0.30901696042448806, -0.8090170945349412, -0.8090169753256495, 0.30901710943610267], \"y\": [2.38418583364819e-08, 0.9510565808604344, 0.587785218735669, -0.5877853498658898, -0.9510564735720718]}, {\"hoverinfo\": \"none\", \"line\": {\"color\": \"black\", \"width\": 0.5}, \"mode\": \"lines\", \"type\": \"scatter\", \"uid\": \"a5721447-1aca-4479-bc02-f965921cba3a\", \"x\": [0.9999999999999999, 0.30901710943610267, null], \"y\": [2.38418583364819e-08, -0.9510564735720718, null]}, {\"hoverinfo\": \"none\", \"line\": {\"color\": \"black\", \"width\": 0.5}, \"mode\": \"lines\", \"type\": \"scatter\", \"uid\": \"56de5507-6799-4405-876c-f188982bd054\", \"x\": [0.9999999999999999, 0.30901696042448806, null], \"y\": [2.38418583364819e-08, 0.9510565808604344, null]}, {\"hoverinfo\": \"none\", \"line\": {\"color\": \"black\", \"width\": 0.5}, \"mode\": \"lines\", \"type\": \"scatter\", \"uid\": \"4bae9cba-a896-4599-ab5a-f59e0faea350\", \"x\": [0.9999999999999999, -0.8090170945349412, null], \"y\": [2.38418583364819e-08, 0.587785218735669, null]}, {\"hoverinfo\": \"none\", \"line\": {\"color\": \"black\", \"width\": 0.5}, \"mode\": \"lines\", \"type\": \"scatter\", \"uid\": \"a12b97d0-25dd-474e-8d28-d6d12dc3bee5\", \"x\": [0.9999999999999999, -0.8090169753256495, null], \"y\": [2.38418583364819e-08, -0.5877853498658898, null]}],\n",
       "                        {\"annotations\": [{\"ax\": 0, \"ay\": 20, \"showarrow\": false, \"text\": \"Next\", \"x\": 0.9999999999999999, \"xref\": \"x\", \"y\": 0.10000002384185834, \"yref\": \"y\"}, {\"ax\": 0, \"ay\": 20, \"showarrow\": false, \"text\": \"Nubank\", \"x\": 0.30901696042448806, \"xref\": \"x\", \"y\": 1.0510565808604344, \"yref\": \"y\"}, {\"ax\": 0, \"ay\": 20, \"showarrow\": false, \"text\": \"Itau\", \"x\": -0.8090170945349412, \"xref\": \"x\", \"y\": 0.687785218735669, \"yref\": \"y\"}, {\"ax\": 0, \"ay\": 20, \"showarrow\": false, \"text\": \"XP Investimentos\", \"x\": -0.8090169753256495, \"xref\": \"x\", \"y\": -0.48778534986588984, \"yref\": \"y\"}, {\"ax\": 0, \"ay\": 20, \"showarrow\": false, \"text\": \"BB\", \"x\": 0.30901710943610267, \"xref\": \"x\", \"y\": -0.8510564735720718, \"yref\": \"y\"}], \"hovermode\": \"closest\", \"margin\": {\"b\": 20, \"l\": 5, \"r\": 5, \"t\": 40}, \"showlegend\": false, \"title\": {\"font\": {\"size\": 16}, \"text\": \"coco\"}, \"xaxis\": {\"showgrid\": false, \"showticklabels\": false, \"zeroline\": false}, \"yaxis\": {\"showgrid\": false, \"showticklabels\": false, \"zeroline\": false}},\n",
       "                        {\"showLink\": false, \"linkText\": \"Export to plot.ly\", \"plotlyServerURL\": \"https://plot.ly\", \"responsive\": true}\n",
       "                    ).then(function(){\n",
       "                            \n",
       "var gd = document.getElementById('9c8c546e-f632-4637-bc49-601817b15d67');\n",
       "var x = new MutationObserver(function (mutations, observer) {{\n",
       "        var display = window.getComputedStyle(gd).display;\n",
       "        if (!display || display === 'none') {{\n",
       "            console.log([gd, 'removed!']);\n",
       "            Plotly.purge(gd);\n",
       "            observer.disconnect();\n",
       "        }}\n",
       "}});\n",
       "\n",
       "// Listen for the removal of the full notebook cells\n",
       "var notebookContainer = gd.closest('#notebook-container');\n",
       "if (notebookContainer) {{\n",
       "    x.observe(notebookContainer, {childList: true});\n",
       "}}\n",
       "\n",
       "// Listen for the clearing of the current output cell\n",
       "var outputEl = gd.closest('.output');\n",
       "if (outputEl) {{\n",
       "    x.observe(outputEl, {childList: true});\n",
       "}}\n",
       "\n",
       "                        })\n",
       "                };\n",
       "                });\n",
       "            </script>\n",
       "        </div>"
      ]
     },
     "metadata": {},
     "output_type": "display_data"
    }
   ],
   "source": [
    "mygraph.plot(title='coco', node_size_col='clientes', node_color_col='clientes', hover_col=['clientes','keke'])"
   ]
  },
  {
   "cell_type": "code",
   "execution_count": 134,
   "metadata": {},
   "outputs": [
    {
     "data": {
      "application/vnd.plotly.v1+json": {
       "config": {
        "linkText": "Export to plot.ly",
        "plotlyServerURL": "https://plot.ly",
        "responsive": true,
        "showLink": false
       },
       "data": [
        {
         "hoverinfo": "text",
         "marker": {
          "cmax": 24555,
          "cmin": 3,
          "color": [
           "rgb(0, 0, 3)",
           "rgb(0, 0, 3)",
           "rgb(251, 252, 191)",
           "rgb(0, 0, 3)",
           "rgb(0, 0, 3)"
          ],
          "colorbar": {
           "thickness": 15,
           "title": {
            "side": "right",
            "text": "coco"
           },
           "xanchor": "left"
          },
          "colorscale": [
           [
            0,
            "rgb(165,0,38)"
           ],
           [
            0.1111111111111111,
            "rgb(215,48,39)"
           ],
           [
            0.2222222222222222,
            "rgb(244,109,67)"
           ],
           [
            0.3333333333333333,
            "rgb(253,174,97)"
           ],
           [
            0.4444444444444444,
            "rgb(254,224,144)"
           ],
           [
            0.5555555555555556,
            "rgb(224,243,248)"
           ],
           [
            0.6666666666666666,
            "rgb(171,217,233)"
           ],
           [
            0.7777777777777778,
            "rgb(116,173,209)"
           ],
           [
            0.8888888888888888,
            "rgb(69,117,180)"
           ],
           [
            1,
            "rgb(49,54,149)"
           ]
          ],
          "line": {
           "width": 2
          },
          "reversescale": true,
          "showscale": false,
          "size": [
           3,
           41,
           24555,
           5,
           88
          ],
          "sizemin": 5,
          "sizemode": "area",
          "sizeref": 19.644
         },
         "mode": "markers",
         "text": [
          "clientes: 3<br>keke: 234<br>pos: [0.9999999999999999, 2.38418583364819e-08]<br>",
          "clientes: 41<br>pos: [0.30901696042448806, 0.9510565808604344]<br>",
          "clientes: 24555<br>pos: [-0.8090170945349412, 0.587785218735669]<br>",
          "clientes: 5<br>pos: [-0.8090169753256495, -0.5877853498658898]<br>",
          "clientes: 88<br>pos: [0.30901710943610267, -0.9510564735720718]<br>"
         ],
         "type": "scatter",
         "uid": "14b928e6-4e3d-482a-bda9-2cddf52da767",
         "x": [
          0.9999999999999999,
          0.30901696042448806,
          -0.8090170945349412,
          -0.8090169753256495,
          0.30901710943610267
         ],
         "y": [
          2.38418583364819e-08,
          0.9510565808604344,
          0.587785218735669,
          -0.5877853498658898,
          -0.9510564735720718
         ]
        },
        {
         "hoverinfo": "none",
         "line": {
          "color": "rgb(251, 252, 191)",
          "width": 0.5
         },
         "mode": "lines",
         "type": "scatter",
         "uid": "ef7dbb6e-7158-40ec-8ca9-0eae83a10df5",
         "x": [
          0.9999999999999999,
          0.30901710943610267,
          null
         ],
         "y": [
          2.38418583364819e-08,
          -0.9510564735720718,
          null
         ]
        },
        {
         "hoverinfo": "none",
         "line": {
          "color": "rgb(0, 0, 3)",
          "width": 0.5
         },
         "mode": "lines",
         "type": "scatter",
         "uid": "75ec39cb-6faf-4ef1-a7d1-ea9b4aa026cb",
         "x": [
          0.9999999999999999,
          0.30901696042448806,
          null
         ],
         "y": [
          2.38418583364819e-08,
          0.9510565808604344,
          null
         ]
        },
        {
         "hoverinfo": "none",
         "line": {
          "color": "rgb(211, 66, 109)",
          "width": 0.5
         },
         "mode": "lines",
         "type": "scatter",
         "uid": "e8a18937-47dd-45a5-bf67-ac7fc5e99a50",
         "x": [
          0.9999999999999999,
          -0.8090170945349412,
          null
         ],
         "y": [
          2.38418583364819e-08,
          0.587785218735669,
          null
         ]
        },
        {
         "hoverinfo": "none",
         "line": {
          "color": "rgb(211, 66, 109)",
          "width": 0.5
         },
         "mode": "lines",
         "type": "scatter",
         "uid": "5c201449-df63-4bb0-b3aa-ca06afa87090",
         "x": [
          0.9999999999999999,
          -0.8090169753256495,
          null
         ],
         "y": [
          2.38418583364819e-08,
          -0.5877853498658898,
          null
         ]
        }
       ],
       "layout": {
        "annotations": [
         {
          "ax": 0,
          "ay": 20,
          "showarrow": false,
          "text": "Next",
          "x": 0.9999999999999999,
          "xref": "x",
          "y": 0.10000002384185834,
          "yref": "y"
         },
         {
          "ax": 0,
          "ay": 20,
          "showarrow": false,
          "text": "Nubank",
          "x": 0.30901696042448806,
          "xref": "x",
          "y": 1.0510565808604344,
          "yref": "y"
         },
         {
          "ax": 0,
          "ay": 20,
          "showarrow": false,
          "text": "Itau",
          "x": -0.8090170945349412,
          "xref": "x",
          "y": 0.687785218735669,
          "yref": "y"
         },
         {
          "ax": 0,
          "ay": 20,
          "showarrow": false,
          "text": "XP Investimentos",
          "x": -0.8090169753256495,
          "xref": "x",
          "y": -0.48778534986588984,
          "yref": "y"
         },
         {
          "ax": 0,
          "ay": 20,
          "showarrow": false,
          "text": "BB",
          "x": 0.30901710943610267,
          "xref": "x",
          "y": -0.8510564735720718,
          "yref": "y"
         }
        ],
        "hovermode": "closest",
        "margin": {
         "b": 20,
         "l": 5,
         "r": 5,
         "t": 40
        },
        "showlegend": false,
        "title": {
         "font": {
          "size": 16
         },
         "text": "coco"
        },
        "xaxis": {
         "showgrid": false,
         "showticklabels": false,
         "zeroline": false
        },
        "yaxis": {
         "showgrid": false,
         "showticklabels": false,
         "zeroline": false
        }
       }
      },
      "text/html": [
       "<div>\n",
       "        \n",
       "        \n",
       "            <div id=\"4ec7f7c6-ec55-40fd-b48b-6ec43cba1532\" class=\"plotly-graph-div\" style=\"height:525px; width:100%;\"></div>\n",
       "            <script type=\"text/javascript\">\n",
       "                require([\"plotly\"], function(Plotly) {\n",
       "                    window.PLOTLYENV=window.PLOTLYENV || {};\n",
       "                    window.PLOTLYENV.BASE_URL='https://plot.ly';\n",
       "                    \n",
       "                if (document.getElementById(\"4ec7f7c6-ec55-40fd-b48b-6ec43cba1532\")) {\n",
       "                    Plotly.newPlot(\n",
       "                        '4ec7f7c6-ec55-40fd-b48b-6ec43cba1532',\n",
       "                        [{\"hoverinfo\": \"text\", \"marker\": {\"cmax\": 24555, \"cmin\": 3, \"color\": [\"rgb(0, 0, 3)\", \"rgb(0, 0, 3)\", \"rgb(251, 252, 191)\", \"rgb(0, 0, 3)\", \"rgb(0, 0, 3)\"], \"colorbar\": {\"thickness\": 15, \"title\": {\"side\": \"right\", \"text\": \"coco\"}, \"xanchor\": \"left\"}, \"colorscale\": [[0.0, \"rgb(165,0,38)\"], [0.1111111111111111, \"rgb(215,48,39)\"], [0.2222222222222222, \"rgb(244,109,67)\"], [0.3333333333333333, \"rgb(253,174,97)\"], [0.4444444444444444, \"rgb(254,224,144)\"], [0.5555555555555556, \"rgb(224,243,248)\"], [0.6666666666666666, \"rgb(171,217,233)\"], [0.7777777777777778, \"rgb(116,173,209)\"], [0.8888888888888888, \"rgb(69,117,180)\"], [1.0, \"rgb(49,54,149)\"]], \"line\": {\"width\": 2}, \"reversescale\": true, \"showscale\": false, \"size\": [3, 41, 24555, 5, 88], \"sizemin\": 5, \"sizemode\": \"area\", \"sizeref\": 19.644}, \"mode\": \"markers\", \"text\": [\"clientes: 3<br>keke: 234<br>pos: [0.9999999999999999, 2.38418583364819e-08]<br>\", \"clientes: 41<br>pos: [0.30901696042448806, 0.9510565808604344]<br>\", \"clientes: 24555<br>pos: [-0.8090170945349412, 0.587785218735669]<br>\", \"clientes: 5<br>pos: [-0.8090169753256495, -0.5877853498658898]<br>\", \"clientes: 88<br>pos: [0.30901710943610267, -0.9510564735720718]<br>\"], \"type\": \"scatter\", \"uid\": \"8ac4b504-3932-42d2-a3e5-d3f0e5025feb\", \"x\": [0.9999999999999999, 0.30901696042448806, -0.8090170945349412, -0.8090169753256495, 0.30901710943610267], \"y\": [2.38418583364819e-08, 0.9510565808604344, 0.587785218735669, -0.5877853498658898, -0.9510564735720718]}, {\"hoverinfo\": \"none\", \"line\": {\"color\": \"rgb(251, 252, 191)\", \"width\": 0.5}, \"mode\": \"lines\", \"type\": \"scatter\", \"uid\": \"ac6f9a12-0c10-45fe-a2be-27d327230bb8\", \"x\": [0.9999999999999999, 0.30901710943610267, null], \"y\": [2.38418583364819e-08, -0.9510564735720718, null]}, {\"hoverinfo\": \"none\", \"line\": {\"color\": \"rgb(0, 0, 3)\", \"width\": 0.5}, \"mode\": \"lines\", \"type\": \"scatter\", \"uid\": \"bd133145-d218-4319-bba1-94d4a8b2fb5e\", \"x\": [0.9999999999999999, 0.30901696042448806, null], \"y\": [2.38418583364819e-08, 0.9510565808604344, null]}, {\"hoverinfo\": \"none\", \"line\": {\"color\": \"rgb(211, 66, 109)\", \"width\": 0.5}, \"mode\": \"lines\", \"type\": \"scatter\", \"uid\": \"0edaaa63-0c44-4161-b38d-d5ccb971832d\", \"x\": [0.9999999999999999, -0.8090170945349412, null], \"y\": [2.38418583364819e-08, 0.587785218735669, null]}, {\"hoverinfo\": \"none\", \"line\": {\"color\": \"rgb(211, 66, 109)\", \"width\": 0.5}, \"mode\": \"lines\", \"type\": \"scatter\", \"uid\": \"2b4202f8-645e-439f-90fa-2ccce6ecb009\", \"x\": [0.9999999999999999, -0.8090169753256495, null], \"y\": [2.38418583364819e-08, -0.5877853498658898, null]}],\n",
       "                        {\"annotations\": [{\"ax\": 0, \"ay\": 20, \"showarrow\": false, \"text\": \"Next\", \"x\": 0.9999999999999999, \"xref\": \"x\", \"y\": 0.10000002384185834, \"yref\": \"y\"}, {\"ax\": 0, \"ay\": 20, \"showarrow\": false, \"text\": \"Nubank\", \"x\": 0.30901696042448806, \"xref\": \"x\", \"y\": 1.0510565808604344, \"yref\": \"y\"}, {\"ax\": 0, \"ay\": 20, \"showarrow\": false, \"text\": \"Itau\", \"x\": -0.8090170945349412, \"xref\": \"x\", \"y\": 0.687785218735669, \"yref\": \"y\"}, {\"ax\": 0, \"ay\": 20, \"showarrow\": false, \"text\": \"XP Investimentos\", \"x\": -0.8090169753256495, \"xref\": \"x\", \"y\": -0.48778534986588984, \"yref\": \"y\"}, {\"ax\": 0, \"ay\": 20, \"showarrow\": false, \"text\": \"BB\", \"x\": 0.30901710943610267, \"xref\": \"x\", \"y\": -0.8510564735720718, \"yref\": \"y\"}], \"hovermode\": \"closest\", \"margin\": {\"b\": 20, \"l\": 5, \"r\": 5, \"t\": 40}, \"showlegend\": false, \"title\": {\"font\": {\"size\": 16}, \"text\": \"coco\"}, \"xaxis\": {\"showgrid\": false, \"showticklabels\": false, \"zeroline\": false}, \"yaxis\": {\"showgrid\": false, \"showticklabels\": false, \"zeroline\": false}},\n",
       "                        {\"showLink\": false, \"linkText\": \"Export to plot.ly\", \"plotlyServerURL\": \"https://plot.ly\", \"responsive\": true}\n",
       "                    ).then(function(){\n",
       "                            \n",
       "var gd = document.getElementById('4ec7f7c6-ec55-40fd-b48b-6ec43cba1532');\n",
       "var x = new MutationObserver(function (mutations, observer) {{\n",
       "        var display = window.getComputedStyle(gd).display;\n",
       "        if (!display || display === 'none') {{\n",
       "            console.log([gd, 'removed!']);\n",
       "            Plotly.purge(gd);\n",
       "            observer.disconnect();\n",
       "        }}\n",
       "}});\n",
       "\n",
       "// Listen for the removal of the full notebook cells\n",
       "var notebookContainer = gd.closest('#notebook-container');\n",
       "if (notebookContainer) {{\n",
       "    x.observe(notebookContainer, {childList: true});\n",
       "}}\n",
       "\n",
       "// Listen for the clearing of the current output cell\n",
       "var outputEl = gd.closest('.output');\n",
       "if (outputEl) {{\n",
       "    x.observe(outputEl, {childList: true});\n",
       "}}\n",
       "\n",
       "                        })\n",
       "                };\n",
       "                });\n",
       "            </script>\n",
       "        </div>"
      ]
     },
     "metadata": {},
     "output_type": "display_data"
    }
   ],
   "source": [
    "mygraph.plot(title='coco', node_size_col='clientes', node_color_col='clientes', edge_color_col='enviado')"
   ]
  },
  {
   "cell_type": "code",
   "execution_count": 135,
   "metadata": {},
   "outputs": [
    {
     "data": {
      "text/plain": [
       "KeysView(NodeView(('Next', 'Nubank', 'Itau', 'XP Investimentos', 'BB')))"
      ]
     },
     "execution_count": 135,
     "metadata": {},
     "output_type": "execute_result"
    }
   ],
   "source": [
    "mygraph.G.nodes.keys()"
   ]
  },
  {
   "cell_type": "code",
   "execution_count": 136,
   "metadata": {},
   "outputs": [
    {
     "data": {
      "text/plain": [
       "dict_keys(['clientes', 'pos'])"
      ]
     },
     "execution_count": 136,
     "metadata": {},
     "output_type": "execute_result"
    }
   ],
   "source": [
    "mygraph.G.nodes['Nubank'].keys()"
   ]
  },
  {
   "cell_type": "code",
   "execution_count": 137,
   "metadata": {},
   "outputs": [
    {
     "name": "stdout",
     "output_type": "stream",
     "text": [
      "('Next', {'BB': {'enviado': 45000}, 'Nubank': {'enviado': 10000}, 'Itau': {'enviado': 30000}, 'XP Investimentos': {'enviado': 30000}})\n",
      "('Nubank', {'Next': {'enviado': 10000}})\n",
      "('Itau', {'Next': {'enviado': 30000}})\n",
      "('XP Investimentos', {'Next': {'enviado': 30000}})\n",
      "('BB', {'Next': {'enviado': 45000}})\n"
     ]
    }
   ],
   "source": [
    "for node, adjacencies in enumerate(mygraph.G.adjacency()):\n",
    "    print(adjacencies)"
   ]
  },
  {
   "cell_type": "code",
   "execution_count": null,
   "metadata": {},
   "outputs": [],
   "source": []
  },
  {
   "cell_type": "code",
   "execution_count": null,
   "metadata": {},
   "outputs": [],
   "source": []
  },
  {
   "cell_type": "code",
   "execution_count": null,
   "metadata": {},
   "outputs": [],
   "source": []
  }
 ],
 "metadata": {
  "kernelspec": {
   "display_name": "Python 3",
   "language": "python",
   "name": "python3"
  },
  "language_info": {
   "codemirror_mode": {
    "name": "ipython",
    "version": 3
   },
   "file_extension": ".py",
   "mimetype": "text/x-python",
   "name": "python",
   "nbconvert_exporter": "python",
   "pygments_lexer": "ipython3",
   "version": "3.7.0"
  }
 },
 "nbformat": 4,
 "nbformat_minor": 2
}
