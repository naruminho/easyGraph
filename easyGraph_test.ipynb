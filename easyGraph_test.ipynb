{
 "cells": [
  {
   "cell_type": "code",
   "execution_count": 101,
   "metadata": {},
   "outputs": [
    {
     "name": "stdout",
     "output_type": "stream",
     "text": [
      "The autoreload extension is already loaded. To reload it, use:\n",
      "  %reload_ext autoreload\n"
     ]
    }
   ],
   "source": [
    "%load_ext autoreload\n",
    "%autoreload 2\n",
    "from easyGraph import *\n",
    "import pandas as pd"
   ]
  },
  {
   "cell_type": "code",
   "execution_count": 102,
   "metadata": {},
   "outputs": [],
   "source": [
    "# creating an empty graph object\n",
    "mygraph = EasyGraph(6, dim=3)"
   ]
  },
  {
   "cell_type": "code",
   "execution_count": 103,
   "metadata": {},
   "outputs": [
    {
     "data": {
      "text/html": [
       "<div>\n",
       "<style scoped>\n",
       "    .dataframe tbody tr th:only-of-type {\n",
       "        vertical-align: middle;\n",
       "    }\n",
       "\n",
       "    .dataframe tbody tr th {\n",
       "        vertical-align: top;\n",
       "    }\n",
       "\n",
       "    .dataframe thead th {\n",
       "        text-align: right;\n",
       "    }\n",
       "</style>\n",
       "<table border=\"1\" class=\"dataframe\">\n",
       "  <thead>\n",
       "    <tr style=\"text-align: right;\">\n",
       "      <th></th>\n",
       "      <th>banco</th>\n",
       "      <th>clientes</th>\n",
       "      <th>lucro</th>\n",
       "    </tr>\n",
       "  </thead>\n",
       "  <tbody>\n",
       "    <tr>\n",
       "      <th>0</th>\n",
       "      <td>Next</td>\n",
       "      <td>2000</td>\n",
       "      <td>234</td>\n",
       "    </tr>\n",
       "    <tr>\n",
       "      <th>1</th>\n",
       "      <td>Inter</td>\n",
       "      <td>35000</td>\n",
       "      <td>1111</td>\n",
       "    </tr>\n",
       "    <tr>\n",
       "      <th>2</th>\n",
       "      <td>Nubank</td>\n",
       "      <td>234243</td>\n",
       "      <td>2234</td>\n",
       "    </tr>\n",
       "    <tr>\n",
       "      <th>3</th>\n",
       "      <td>BB</td>\n",
       "      <td>23443</td>\n",
       "      <td>2344</td>\n",
       "    </tr>\n",
       "    <tr>\n",
       "      <th>4</th>\n",
       "      <td>Itau</td>\n",
       "      <td>2</td>\n",
       "      <td>444</td>\n",
       "    </tr>\n",
       "  </tbody>\n",
       "</table>\n",
       "</div>"
      ],
      "text/plain": [
       "    banco  clientes  lucro\n",
       "0    Next      2000    234\n",
       "1   Inter     35000   1111\n",
       "2  Nubank    234243   2234\n",
       "3      BB     23443   2344\n",
       "4    Itau         2    444"
      ]
     },
     "execution_count": 103,
     "metadata": {},
     "output_type": "execute_result"
    }
   ],
   "source": [
    "# creating a node dataframe \n",
    "bancos = pd.DataFrame({\n",
    "        'banco' : ['Next', 'Inter', 'Nubank', 'BB', 'Itau', 'XP Investimentos', 'CEF', 'Santander','Bradesco'],\n",
    "        'clientes': [2000,   35000, 234243, 23443,2,1,232323, 666, 24433],\n",
    "        'lucro': [234, 1111, 2234, 2344, 444, 222, 1, 1, 9877] \n",
    "})\n",
    "bancos.head()"
   ]
  },
  {
   "cell_type": "code",
   "execution_count": 104,
   "metadata": {},
   "outputs": [],
   "source": [
    "# adding the nodes to the graph\n",
    "# 'banco' is the id column \n",
    "mygraph.node.load(bancos, 'banco')"
   ]
  },
  {
   "cell_type": "code",
   "execution_count": 105,
   "metadata": {},
   "outputs": [
    {
     "data": {
      "text/html": [
       "<div>\n",
       "<style scoped>\n",
       "    .dataframe tbody tr th:only-of-type {\n",
       "        vertical-align: middle;\n",
       "    }\n",
       "\n",
       "    .dataframe tbody tr th {\n",
       "        vertical-align: top;\n",
       "    }\n",
       "\n",
       "    .dataframe thead th {\n",
       "        text-align: right;\n",
       "    }\n",
       "</style>\n",
       "<table border=\"1\" class=\"dataframe\">\n",
       "  <thead>\n",
       "    <tr style=\"text-align: right;\">\n",
       "      <th></th>\n",
       "      <th>de</th>\n",
       "      <th>para</th>\n",
       "      <th>enviado</th>\n",
       "      <th>recebido</th>\n",
       "    </tr>\n",
       "  </thead>\n",
       "  <tbody>\n",
       "    <tr>\n",
       "      <th>0</th>\n",
       "      <td>Next</td>\n",
       "      <td>Bradesco</td>\n",
       "      <td>25500</td>\n",
       "      <td>2344</td>\n",
       "    </tr>\n",
       "    <tr>\n",
       "      <th>1</th>\n",
       "      <td>Next</td>\n",
       "      <td>Inter</td>\n",
       "      <td>3500</td>\n",
       "      <td>111</td>\n",
       "    </tr>\n",
       "    <tr>\n",
       "      <th>2</th>\n",
       "      <td>Next</td>\n",
       "      <td>Nubank</td>\n",
       "      <td>12345</td>\n",
       "      <td>22234</td>\n",
       "    </tr>\n",
       "    <tr>\n",
       "      <th>3</th>\n",
       "      <td>Next</td>\n",
       "      <td>BB</td>\n",
       "      <td>6664</td>\n",
       "      <td>234</td>\n",
       "    </tr>\n",
       "    <tr>\n",
       "      <th>4</th>\n",
       "      <td>Next</td>\n",
       "      <td>Itau</td>\n",
       "      <td>222</td>\n",
       "      <td>4344</td>\n",
       "    </tr>\n",
       "  </tbody>\n",
       "</table>\n",
       "</div>"
      ],
      "text/plain": [
       "     de      para  enviado  recebido\n",
       "0  Next  Bradesco    25500      2344\n",
       "1  Next     Inter     3500       111\n",
       "2  Next    Nubank    12345     22234\n",
       "3  Next        BB     6664       234\n",
       "4  Next      Itau      222      4344"
      ]
     },
     "execution_count": 105,
     "metadata": {},
     "output_type": "execute_result"
    }
   ],
   "source": [
    "teds = pd.DataFrame({\n",
    "        'de' : ['Next', 'Next', 'Next', 'Next', 'Next', 'Next', 'Next', 'Next'],\n",
    "        'para' : ['Bradesco', 'Inter', 'Nubank', 'BB', 'Itau', 'XP Investimentos', 'CEF', 'Santander'],\n",
    "        'enviado': [25500,   3500, 12345, 6664, 222,111, 2323, 666],\n",
    "        'recebido': [2344, 111, 22234, 234, 4344, 2322, 1111, 1111] \n",
    "})\n",
    "teds.head()"
   ]
  },
  {
   "cell_type": "code",
   "execution_count": 106,
   "metadata": {},
   "outputs": [],
   "source": [
    "mygraph.edge.load(teds, 'de', 'para')"
   ]
  },
  {
   "cell_type": "code",
   "execution_count": 107,
   "metadata": {
    "scrolled": true
   },
   "outputs": [
    {
     "data": {
      "application/vnd.plotly.v1+json": {
       "config": {
        "linkText": "Export to plot.ly",
        "plotlyServerURL": "https://plot.ly",
        "responsive": true,
        "showLink": false
       },
       "data": [
        {
         "hoverinfo": "text",
         "marker": {
          "cmax": null,
          "cmin": null,
          "color": "darkblue",
          "colorbar": {
           "thickness": 15,
           "title": {
            "side": "right",
            "text": " "
           },
           "xanchor": "left"
          },
          "colorscale": "Viridis",
          "line": {
           "width": 2
          },
          "reversescale": true,
          "showscale": false,
          "size": [
           1,
           1,
           1,
           1,
           1,
           1,
           1,
           1,
           1
          ],
          "sizemin": 15,
          "sizemode": "area",
          "sizeref": 15
         },
         "mode": "markers",
         "text": [
          "<b>Next</b><br>clientes: 2000<br>lucro: 234<br>",
          "<b>Inter</b><br>clientes: 35000<br>lucro: 1111<br>",
          "<b>Nubank</b><br>clientes: 234243<br>lucro: 2234<br>",
          "<b>BB</b><br>clientes: 23443<br>lucro: 2344<br>",
          "<b>Itau</b><br>clientes: 2<br>lucro: 444<br>",
          "<b>XP Investimentos</b><br>clientes: 1<br>lucro: 222<br>",
          "<b>CEF</b><br>clientes: 232323<br>lucro: 1<br>",
          "<b>Santander</b><br>clientes: 666<br>lucro: 1<br>",
          "<b>Bradesco</b><br>clientes: 24433<br>lucro: 9877<br>"
         ],
         "type": "scatter3d",
         "uid": "e3650d24-a893-4b8d-abc6-a5d65f2bf2c1",
         "x": [
          0.0016666058495176878,
          -0.7494228863723494,
          -0.6725828691390812,
          -0.010204574428677822,
          0.04274399207493556,
          -0.5744903404808466,
          0.7851455772727861,
          0.646560477327721,
          0.5305840178959949
         ],
         "y": [
          0.0025768873954072195,
          0.2939670307321823,
          0.2667517825173496,
          -0.5800950520498469,
          1,
          -0.7750175897504458,
          0.2780151176924571,
          -0.7252489928640931,
          0.23905081632698805
         ],
         "z": [
          0.0004250262037645097,
          -0.5961441931971859,
          0.6957367442085727,
          -0.8203605858115628,
          -0.04384875970302957,
          0.2691451111045847,
          -0.5599275373479995,
          0.2406879904836801,
          0.8142862040591762
         ]
        },
        {
         "hoverinfo": "none",
         "line": {
          "color": "black",
          "width": 0.5
         },
         "mode": "lines",
         "type": "scatter3d",
         "uid": "cc5cb964-ca15-4bc9-b8c5-d85c1ebfb9b1",
         "x": [
          0.0016666058495176878,
          0.5305840178959949,
          null
         ],
         "y": [
          0.0025768873954072195,
          0.23905081632698805,
          null
         ],
         "z": [
          0.0004250262037645097,
          0.8142862040591762,
          null
         ]
        },
        {
         "hoverinfo": "none",
         "line": {
          "color": "black",
          "width": 0.5
         },
         "mode": "lines",
         "type": "scatter3d",
         "uid": "5ffbac6e-2482-48f0-a92b-66c44c408aa0",
         "x": [
          0.0016666058495176878,
          -0.7494228863723494,
          null
         ],
         "y": [
          0.0025768873954072195,
          0.2939670307321823,
          null
         ],
         "z": [
          0.0004250262037645097,
          -0.5961441931971859,
          null
         ]
        },
        {
         "hoverinfo": "none",
         "line": {
          "color": "black",
          "width": 0.5
         },
         "mode": "lines",
         "type": "scatter3d",
         "uid": "969165de-e87e-4da5-bab6-963cfba541d1",
         "x": [
          0.0016666058495176878,
          -0.6725828691390812,
          null
         ],
         "y": [
          0.0025768873954072195,
          0.2667517825173496,
          null
         ],
         "z": [
          0.0004250262037645097,
          0.6957367442085727,
          null
         ]
        },
        {
         "hoverinfo": "none",
         "line": {
          "color": "black",
          "width": 0.5
         },
         "mode": "lines",
         "type": "scatter3d",
         "uid": "37dfaa2f-dac9-4b93-b80d-d3c78919f5bb",
         "x": [
          0.0016666058495176878,
          -0.010204574428677822,
          null
         ],
         "y": [
          0.0025768873954072195,
          -0.5800950520498469,
          null
         ],
         "z": [
          0.0004250262037645097,
          -0.8203605858115628,
          null
         ]
        },
        {
         "hoverinfo": "none",
         "line": {
          "color": "black",
          "width": 0.5
         },
         "mode": "lines",
         "type": "scatter3d",
         "uid": "33b30bce-629d-4468-aa2a-3c1febe6f8c0",
         "x": [
          0.0016666058495176878,
          0.04274399207493556,
          null
         ],
         "y": [
          0.0025768873954072195,
          1,
          null
         ],
         "z": [
          0.0004250262037645097,
          -0.04384875970302957,
          null
         ]
        },
        {
         "hoverinfo": "none",
         "line": {
          "color": "black",
          "width": 0.5
         },
         "mode": "lines",
         "type": "scatter3d",
         "uid": "a71cbbe6-5b64-4ad9-8d00-83e775ec1653",
         "x": [
          0.0016666058495176878,
          -0.5744903404808466,
          null
         ],
         "y": [
          0.0025768873954072195,
          -0.7750175897504458,
          null
         ],
         "z": [
          0.0004250262037645097,
          0.2691451111045847,
          null
         ]
        },
        {
         "hoverinfo": "none",
         "line": {
          "color": "black",
          "width": 0.5
         },
         "mode": "lines",
         "type": "scatter3d",
         "uid": "7170b3a4-8d55-487a-b523-306fc26c957e",
         "x": [
          0.0016666058495176878,
          0.7851455772727861,
          null
         ],
         "y": [
          0.0025768873954072195,
          0.2780151176924571,
          null
         ],
         "z": [
          0.0004250262037645097,
          -0.5599275373479995,
          null
         ]
        },
        {
         "hoverinfo": "none",
         "line": {
          "color": "black",
          "width": 0.5
         },
         "mode": "lines",
         "type": "scatter3d",
         "uid": "782f48bd-7d71-43ed-9f1d-4a52a1229b40",
         "x": [
          0.0016666058495176878,
          0.646560477327721,
          null
         ],
         "y": [
          0.0025768873954072195,
          -0.7252489928640931,
          null
         ],
         "z": [
          0.0004250262037645097,
          0.2406879904836801,
          null
         ]
        }
       ],
       "layout": {
        "annotations": [
         {
          "ax": 0,
          "ay": 20,
          "showarrow": false,
          "text": "Next",
          "x": 0.0016666058495176878,
          "xref": "x",
          "y": 0.10257688739540723,
          "yref": "y"
         },
         {
          "ax": 0,
          "ay": 20,
          "showarrow": false,
          "text": "Inter",
          "x": -0.7494228863723494,
          "xref": "x",
          "y": 0.3939670307321823,
          "yref": "y"
         },
         {
          "ax": 0,
          "ay": 20,
          "showarrow": false,
          "text": "Nubank",
          "x": -0.6725828691390812,
          "xref": "x",
          "y": 0.36675178251734963,
          "yref": "y"
         },
         {
          "ax": 0,
          "ay": 20,
          "showarrow": false,
          "text": "BB",
          "x": -0.010204574428677822,
          "xref": "x",
          "y": -0.4800950520498469,
          "yref": "y"
         },
         {
          "ax": 0,
          "ay": 20,
          "showarrow": false,
          "text": "Itau",
          "x": 0.04274399207493556,
          "xref": "x",
          "y": 1.1,
          "yref": "y"
         },
         {
          "ax": 0,
          "ay": 20,
          "showarrow": false,
          "text": "XP Investimentos",
          "x": -0.5744903404808466,
          "xref": "x",
          "y": -0.6750175897504458,
          "yref": "y"
         },
         {
          "ax": 0,
          "ay": 20,
          "showarrow": false,
          "text": "CEF",
          "x": 0.7851455772727861,
          "xref": "x",
          "y": 0.3780151176924571,
          "yref": "y"
         },
         {
          "ax": 0,
          "ay": 20,
          "showarrow": false,
          "text": "Santander",
          "x": 0.646560477327721,
          "xref": "x",
          "y": -0.6252489928640931,
          "yref": "y"
         },
         {
          "ax": 0,
          "ay": 20,
          "showarrow": false,
          "text": "Bradesco",
          "x": 0.5305840178959949,
          "xref": "x",
          "y": 0.3390508163269881,
          "yref": "y"
         }
        ],
        "hovermode": "closest",
        "margin": {
         "b": 20,
         "l": 5,
         "r": 5,
         "t": 40
        },
        "scene": {
         "xaxis": {
          "showbackground": false,
          "showgrid": false,
          "showline": false,
          "showticklabels": false,
          "title": {
           "text": ""
          },
          "zeroline": false
         },
         "yaxis": {
          "showbackground": false,
          "showgrid": false,
          "showline": false,
          "showticklabels": false,
          "title": {
           "text": ""
          },
          "zeroline": false
         },
         "zaxis": {
          "showbackground": false,
          "showgrid": false,
          "showline": false,
          "showticklabels": false,
          "title": {
           "text": ""
          },
          "zeroline": false
         }
        },
        "showlegend": false,
        "title": {
         "font": {
          "size": 16
         },
         "text": " "
        }
       }
      },
      "text/html": [
       "<div>\n",
       "        \n",
       "        \n",
       "            <div id=\"1a1007f4-cdbb-4357-83b3-ce4b328c477e\" class=\"plotly-graph-div\" style=\"height:525px; width:100%;\"></div>\n",
       "            <script type=\"text/javascript\">\n",
       "                require([\"plotly\"], function(Plotly) {\n",
       "                    window.PLOTLYENV=window.PLOTLYENV || {};\n",
       "                    window.PLOTLYENV.BASE_URL='https://plot.ly';\n",
       "                    \n",
       "                if (document.getElementById(\"1a1007f4-cdbb-4357-83b3-ce4b328c477e\")) {\n",
       "                    Plotly.newPlot(\n",
       "                        '1a1007f4-cdbb-4357-83b3-ce4b328c477e',\n",
       "                        [{\"hoverinfo\": \"text\", \"marker\": {\"cmax\": null, \"cmin\": null, \"color\": \"darkblue\", \"colorbar\": {\"thickness\": 15, \"title\": {\"side\": \"right\", \"text\": \" \"}, \"xanchor\": \"left\"}, \"colorscale\": \"Viridis\", \"line\": {\"width\": 2}, \"reversescale\": true, \"showscale\": false, \"size\": [1, 1, 1, 1, 1, 1, 1, 1, 1], \"sizemin\": 15, \"sizemode\": \"area\", \"sizeref\": 15}, \"mode\": \"markers\", \"text\": [\"<b>Next</b><br>clientes: 2000<br>lucro: 234<br>\", \"<b>Inter</b><br>clientes: 35000<br>lucro: 1111<br>\", \"<b>Nubank</b><br>clientes: 234243<br>lucro: 2234<br>\", \"<b>BB</b><br>clientes: 23443<br>lucro: 2344<br>\", \"<b>Itau</b><br>clientes: 2<br>lucro: 444<br>\", \"<b>XP Investimentos</b><br>clientes: 1<br>lucro: 222<br>\", \"<b>CEF</b><br>clientes: 232323<br>lucro: 1<br>\", \"<b>Santander</b><br>clientes: 666<br>lucro: 1<br>\", \"<b>Bradesco</b><br>clientes: 24433<br>lucro: 9877<br>\"], \"type\": \"scatter3d\", \"uid\": \"2907e361-4234-4cb4-9e91-08fa11840d13\", \"x\": [0.0016666058495176878, -0.7494228863723494, -0.6725828691390812, -0.010204574428677822, 0.04274399207493556, -0.5744903404808466, 0.7851455772727861, 0.646560477327721, 0.5305840178959949], \"y\": [0.0025768873954072195, 0.2939670307321823, 0.2667517825173496, -0.5800950520498469, 1.0, -0.7750175897504458, 0.2780151176924571, -0.7252489928640931, 0.23905081632698805], \"z\": [0.0004250262037645097, -0.5961441931971859, 0.6957367442085727, -0.8203605858115628, -0.04384875970302957, 0.2691451111045847, -0.5599275373479995, 0.2406879904836801, 0.8142862040591762]}, {\"hoverinfo\": \"none\", \"line\": {\"color\": \"black\", \"width\": 0.5}, \"mode\": \"lines\", \"type\": \"scatter3d\", \"uid\": \"04fd2d16-bbdd-46dd-a367-33e30702057e\", \"x\": [0.0016666058495176878, 0.5305840178959949, null], \"y\": [0.0025768873954072195, 0.23905081632698805, null], \"z\": [0.0004250262037645097, 0.8142862040591762, null]}, {\"hoverinfo\": \"none\", \"line\": {\"color\": \"black\", \"width\": 0.5}, \"mode\": \"lines\", \"type\": \"scatter3d\", \"uid\": \"8358dc9d-6885-454e-a140-9aabc7eecf07\", \"x\": [0.0016666058495176878, -0.7494228863723494, null], \"y\": [0.0025768873954072195, 0.2939670307321823, null], \"z\": [0.0004250262037645097, -0.5961441931971859, null]}, {\"hoverinfo\": \"none\", \"line\": {\"color\": \"black\", \"width\": 0.5}, \"mode\": \"lines\", \"type\": \"scatter3d\", \"uid\": \"4f28a199-c962-456b-b362-ef0bb9a98d72\", \"x\": [0.0016666058495176878, -0.6725828691390812, null], \"y\": [0.0025768873954072195, 0.2667517825173496, null], \"z\": [0.0004250262037645097, 0.6957367442085727, null]}, {\"hoverinfo\": \"none\", \"line\": {\"color\": \"black\", \"width\": 0.5}, \"mode\": \"lines\", \"type\": \"scatter3d\", \"uid\": \"004c53d6-ccb0-4243-9436-4259f196d1d6\", \"x\": [0.0016666058495176878, -0.010204574428677822, null], \"y\": [0.0025768873954072195, -0.5800950520498469, null], \"z\": [0.0004250262037645097, -0.8203605858115628, null]}, {\"hoverinfo\": \"none\", \"line\": {\"color\": \"black\", \"width\": 0.5}, \"mode\": \"lines\", \"type\": \"scatter3d\", \"uid\": \"d84da2dd-c0ba-49c3-ae24-5fcba04f46a7\", \"x\": [0.0016666058495176878, 0.04274399207493556, null], \"y\": [0.0025768873954072195, 1.0, null], \"z\": [0.0004250262037645097, -0.04384875970302957, null]}, {\"hoverinfo\": \"none\", \"line\": {\"color\": \"black\", \"width\": 0.5}, \"mode\": \"lines\", \"type\": \"scatter3d\", \"uid\": \"ecd931c3-84fc-4279-90fa-d6c1d76aee5d\", \"x\": [0.0016666058495176878, -0.5744903404808466, null], \"y\": [0.0025768873954072195, -0.7750175897504458, null], \"z\": [0.0004250262037645097, 0.2691451111045847, null]}, {\"hoverinfo\": \"none\", \"line\": {\"color\": \"black\", \"width\": 0.5}, \"mode\": \"lines\", \"type\": \"scatter3d\", \"uid\": \"baac4912-8229-4a04-815c-4849a63a56be\", \"x\": [0.0016666058495176878, 0.7851455772727861, null], \"y\": [0.0025768873954072195, 0.2780151176924571, null], \"z\": [0.0004250262037645097, -0.5599275373479995, null]}, {\"hoverinfo\": \"none\", \"line\": {\"color\": \"black\", \"width\": 0.5}, \"mode\": \"lines\", \"type\": \"scatter3d\", \"uid\": \"64ab9a2b-f2f6-43c3-af45-4eafe2ea832f\", \"x\": [0.0016666058495176878, 0.646560477327721, null], \"y\": [0.0025768873954072195, -0.7252489928640931, null], \"z\": [0.0004250262037645097, 0.2406879904836801, null]}],\n",
       "                        {\"annotations\": [{\"ax\": 0, \"ay\": 20, \"showarrow\": false, \"text\": \"Next\", \"x\": 0.0016666058495176878, \"xref\": \"x\", \"y\": 0.10257688739540723, \"yref\": \"y\"}, {\"ax\": 0, \"ay\": 20, \"showarrow\": false, \"text\": \"Inter\", \"x\": -0.7494228863723494, \"xref\": \"x\", \"y\": 0.3939670307321823, \"yref\": \"y\"}, {\"ax\": 0, \"ay\": 20, \"showarrow\": false, \"text\": \"Nubank\", \"x\": -0.6725828691390812, \"xref\": \"x\", \"y\": 0.36675178251734963, \"yref\": \"y\"}, {\"ax\": 0, \"ay\": 20, \"showarrow\": false, \"text\": \"BB\", \"x\": -0.010204574428677822, \"xref\": \"x\", \"y\": -0.4800950520498469, \"yref\": \"y\"}, {\"ax\": 0, \"ay\": 20, \"showarrow\": false, \"text\": \"Itau\", \"x\": 0.04274399207493556, \"xref\": \"x\", \"y\": 1.1, \"yref\": \"y\"}, {\"ax\": 0, \"ay\": 20, \"showarrow\": false, \"text\": \"XP Investimentos\", \"x\": -0.5744903404808466, \"xref\": \"x\", \"y\": -0.6750175897504458, \"yref\": \"y\"}, {\"ax\": 0, \"ay\": 20, \"showarrow\": false, \"text\": \"CEF\", \"x\": 0.7851455772727861, \"xref\": \"x\", \"y\": 0.3780151176924571, \"yref\": \"y\"}, {\"ax\": 0, \"ay\": 20, \"showarrow\": false, \"text\": \"Santander\", \"x\": 0.646560477327721, \"xref\": \"x\", \"y\": -0.6252489928640931, \"yref\": \"y\"}, {\"ax\": 0, \"ay\": 20, \"showarrow\": false, \"text\": \"Bradesco\", \"x\": 0.5305840178959949, \"xref\": \"x\", \"y\": 0.3390508163269881, \"yref\": \"y\"}], \"hovermode\": \"closest\", \"margin\": {\"b\": 20, \"l\": 5, \"r\": 5, \"t\": 40}, \"scene\": {\"xaxis\": {\"showbackground\": false, \"showgrid\": false, \"showline\": false, \"showticklabels\": false, \"title\": {\"text\": \"\"}, \"zeroline\": false}, \"yaxis\": {\"showbackground\": false, \"showgrid\": false, \"showline\": false, \"showticklabels\": false, \"title\": {\"text\": \"\"}, \"zeroline\": false}, \"zaxis\": {\"showbackground\": false, \"showgrid\": false, \"showline\": false, \"showticklabels\": false, \"title\": {\"text\": \"\"}, \"zeroline\": false}}, \"showlegend\": false, \"title\": {\"font\": {\"size\": 16}, \"text\": \" \"}},\n",
       "                        {\"showLink\": false, \"linkText\": \"Export to plot.ly\", \"plotlyServerURL\": \"https://plot.ly\", \"responsive\": true}\n",
       "                    ).then(function(){\n",
       "                            \n",
       "var gd = document.getElementById('1a1007f4-cdbb-4357-83b3-ce4b328c477e');\n",
       "var x = new MutationObserver(function (mutations, observer) {{\n",
       "        var display = window.getComputedStyle(gd).display;\n",
       "        if (!display || display === 'none') {{\n",
       "            console.log([gd, 'removed!']);\n",
       "            Plotly.purge(gd);\n",
       "            observer.disconnect();\n",
       "        }}\n",
       "}});\n",
       "\n",
       "// Listen for the removal of the full notebook cells\n",
       "var notebookContainer = gd.closest('#notebook-container');\n",
       "if (notebookContainer) {{\n",
       "    x.observe(notebookContainer, {childList: true});\n",
       "}}\n",
       "\n",
       "// Listen for the clearing of the current output cell\n",
       "var outputEl = gd.closest('.output');\n",
       "if (outputEl) {{\n",
       "    x.observe(outputEl, {childList: true});\n",
       "}}\n",
       "\n",
       "                        })\n",
       "                };\n",
       "                });\n",
       "            </script>\n",
       "        </div>"
      ]
     },
     "metadata": {},
     "output_type": "display_data"
    }
   ],
   "source": [
    "mygraph.plot()"
   ]
  },
  {
   "cell_type": "code",
   "execution_count": 108,
   "metadata": {},
   "outputs": [
    {
     "data": {
      "application/vnd.plotly.v1+json": {
       "config": {
        "linkText": "Export to plot.ly",
        "plotlyServerURL": "https://plot.ly",
        "responsive": true,
        "showLink": false
       },
       "data": [
        {
         "hoverinfo": "text",
         "marker": {
          "cmax": null,
          "cmin": null,
          "color": [
           "rgb(0, 0, 6)",
           "rgb(35, 17, 82)",
           "rgb(251, 252, 191)",
           "rgb(20, 13, 53)",
           "rgb(0, 0, 3)",
           "rgb(0, 0, 3)",
           "rgb(251, 247, 185)",
           "rgb(0, 0, 3)",
           "rgb(21, 14, 56)"
          ],
          "colorbar": {
           "thickness": 15,
           "title": {
            "side": "right",
            "text": "coco"
           },
           "xanchor": "left"
          },
          "colorscale": "Viridis",
          "line": {
           "width": 2
          },
          "reversescale": true,
          "showscale": false,
          "size": [
           1,
           1,
           1,
           1,
           1,
           1,
           1,
           1,
           1
          ],
          "sizemin": 15,
          "sizemode": "area",
          "sizeref": 15
         },
         "mode": "markers",
         "text": [
          "<b>Next</b><br>clientes: 2000<br>lucro: 234<br>",
          "<b>Inter</b><br>clientes: 35000<br>lucro: 1111<br>",
          "<b>Nubank</b><br>clientes: 234243<br>lucro: 2234<br>",
          "<b>BB</b><br>clientes: 23443<br>lucro: 2344<br>",
          "<b>Itau</b><br>clientes: 2<br>lucro: 444<br>",
          "<b>XP Investimentos</b><br>clientes: 1<br>lucro: 222<br>",
          "<b>CEF</b><br>clientes: 232323<br>lucro: 1<br>",
          "<b>Santander</b><br>clientes: 666<br>lucro: 1<br>",
          "<b>Bradesco</b><br>clientes: 24433<br>lucro: 9877<br>"
         ],
         "type": "scatter3d",
         "uid": "de5f1dfc-3284-4131-aaf2-1969ed2d12d3",
         "x": [
          -0.0014735286389408577,
          0.3421074683310514,
          -0.6163412442023941,
          0.053544963921672,
          0.16111525468001198,
          -0.833476468558547,
          0.6680242042374385,
          -0.773500649770293,
          1
         ],
         "y": [
          0.0017557483603848666,
          0.6866465593746874,
          -0.5862339906145514,
          0.8245812967353873,
          -0.9338851394058794,
          0.630253481917316,
          -0.5793874110609986,
          -0.1975815886821563,
          0.15385104337580793
         ],
         "z": [
          0.002401978410019251,
          0.7750149233595662,
          0.6782765536850218,
          -0.7116444350272221,
          -0.5386548446780034,
          0.3029070328961029,
          0.6313310664517552,
          -0.7408723749809488,
          -0.3987599001162912
         ]
        },
        {
         "hoverinfo": "none",
         "line": {
          "color": "black",
          "width": 0.5
         },
         "mode": "lines",
         "type": "scatter3d",
         "uid": "b9ffa4e9-68ce-405c-affb-30ddcaf9c141",
         "x": [
          -0.0014735286389408577,
          1,
          null
         ],
         "y": [
          0.0017557483603848666,
          0.15385104337580793,
          null
         ],
         "z": [
          0.002401978410019251,
          -0.3987599001162912,
          null
         ]
        },
        {
         "hoverinfo": "none",
         "line": {
          "color": "black",
          "width": 0.5
         },
         "mode": "lines",
         "type": "scatter3d",
         "uid": "ad5f4b34-5c21-43cf-9c43-46c42b18c7f0",
         "x": [
          -0.0014735286389408577,
          0.3421074683310514,
          null
         ],
         "y": [
          0.0017557483603848666,
          0.6866465593746874,
          null
         ],
         "z": [
          0.002401978410019251,
          0.7750149233595662,
          null
         ]
        },
        {
         "hoverinfo": "none",
         "line": {
          "color": "black",
          "width": 0.5
         },
         "mode": "lines",
         "type": "scatter3d",
         "uid": "339ff258-4558-459e-a764-5783cad9bc7a",
         "x": [
          -0.0014735286389408577,
          -0.6163412442023941,
          null
         ],
         "y": [
          0.0017557483603848666,
          -0.5862339906145514,
          null
         ],
         "z": [
          0.002401978410019251,
          0.6782765536850218,
          null
         ]
        },
        {
         "hoverinfo": "none",
         "line": {
          "color": "black",
          "width": 0.5
         },
         "mode": "lines",
         "type": "scatter3d",
         "uid": "d640f8fd-f23f-4479-b5e3-41629083d9fe",
         "x": [
          -0.0014735286389408577,
          0.053544963921672,
          null
         ],
         "y": [
          0.0017557483603848666,
          0.8245812967353873,
          null
         ],
         "z": [
          0.002401978410019251,
          -0.7116444350272221,
          null
         ]
        },
        {
         "hoverinfo": "none",
         "line": {
          "color": "black",
          "width": 0.5
         },
         "mode": "lines",
         "type": "scatter3d",
         "uid": "640db3c7-cf26-4cf6-9389-12d56b50e426",
         "x": [
          -0.0014735286389408577,
          0.16111525468001198,
          null
         ],
         "y": [
          0.0017557483603848666,
          -0.9338851394058794,
          null
         ],
         "z": [
          0.002401978410019251,
          -0.5386548446780034,
          null
         ]
        },
        {
         "hoverinfo": "none",
         "line": {
          "color": "black",
          "width": 0.5
         },
         "mode": "lines",
         "type": "scatter3d",
         "uid": "589cd9cf-f607-436c-a82d-3ed792916c18",
         "x": [
          -0.0014735286389408577,
          -0.833476468558547,
          null
         ],
         "y": [
          0.0017557483603848666,
          0.630253481917316,
          null
         ],
         "z": [
          0.002401978410019251,
          0.3029070328961029,
          null
         ]
        },
        {
         "hoverinfo": "none",
         "line": {
          "color": "black",
          "width": 0.5
         },
         "mode": "lines",
         "type": "scatter3d",
         "uid": "124bebe3-89c4-4358-80c0-ea1e637e645c",
         "x": [
          -0.0014735286389408577,
          0.6680242042374385,
          null
         ],
         "y": [
          0.0017557483603848666,
          -0.5793874110609986,
          null
         ],
         "z": [
          0.002401978410019251,
          0.6313310664517552,
          null
         ]
        },
        {
         "hoverinfo": "none",
         "line": {
          "color": "black",
          "width": 0.5
         },
         "mode": "lines",
         "type": "scatter3d",
         "uid": "3fc969e4-3c75-481e-9114-594e61355da9",
         "x": [
          -0.0014735286389408577,
          -0.773500649770293,
          null
         ],
         "y": [
          0.0017557483603848666,
          -0.1975815886821563,
          null
         ],
         "z": [
          0.002401978410019251,
          -0.7408723749809488,
          null
         ]
        }
       ],
       "layout": {
        "annotations": [
         {
          "ax": 0,
          "ay": 20,
          "showarrow": false,
          "text": "Next",
          "x": 0.0016666058495176878,
          "xref": "x",
          "y": 0.10257688739540723,
          "yref": "y"
         },
         {
          "ax": 0,
          "ay": 20,
          "showarrow": false,
          "text": "Inter",
          "x": -0.7494228863723494,
          "xref": "x",
          "y": 0.3939670307321823,
          "yref": "y"
         },
         {
          "ax": 0,
          "ay": 20,
          "showarrow": false,
          "text": "Nubank",
          "x": -0.6725828691390812,
          "xref": "x",
          "y": 0.36675178251734963,
          "yref": "y"
         },
         {
          "ax": 0,
          "ay": 20,
          "showarrow": false,
          "text": "BB",
          "x": -0.010204574428677822,
          "xref": "x",
          "y": -0.4800950520498469,
          "yref": "y"
         },
         {
          "ax": 0,
          "ay": 20,
          "showarrow": false,
          "text": "Itau",
          "x": 0.04274399207493556,
          "xref": "x",
          "y": 1.1,
          "yref": "y"
         },
         {
          "ax": 0,
          "ay": 20,
          "showarrow": false,
          "text": "XP Investimentos",
          "x": -0.5744903404808466,
          "xref": "x",
          "y": -0.6750175897504458,
          "yref": "y"
         },
         {
          "ax": 0,
          "ay": 20,
          "showarrow": false,
          "text": "CEF",
          "x": 0.7851455772727861,
          "xref": "x",
          "y": 0.3780151176924571,
          "yref": "y"
         },
         {
          "ax": 0,
          "ay": 20,
          "showarrow": false,
          "text": "Santander",
          "x": 0.646560477327721,
          "xref": "x",
          "y": -0.6252489928640931,
          "yref": "y"
         },
         {
          "ax": 0,
          "ay": 20,
          "showarrow": false,
          "text": "Bradesco",
          "x": 0.5305840178959949,
          "xref": "x",
          "y": 0.3390508163269881,
          "yref": "y"
         },
         {
          "ax": 0,
          "ay": 20,
          "showarrow": false,
          "text": "Next",
          "x": -0.0014735286389408577,
          "xref": "x",
          "y": 0.10175574836038487,
          "yref": "y"
         },
         {
          "ax": 0,
          "ay": 20,
          "showarrow": false,
          "text": "Inter",
          "x": 0.3421074683310514,
          "xref": "x",
          "y": 0.7866465593746874,
          "yref": "y"
         },
         {
          "ax": 0,
          "ay": 20,
          "showarrow": false,
          "text": "Nubank",
          "x": -0.6163412442023941,
          "xref": "x",
          "y": -0.4862339906145514,
          "yref": "y"
         },
         {
          "ax": 0,
          "ay": 20,
          "showarrow": false,
          "text": "BB",
          "x": 0.053544963921672,
          "xref": "x",
          "y": 0.9245812967353872,
          "yref": "y"
         },
         {
          "ax": 0,
          "ay": 20,
          "showarrow": false,
          "text": "Itau",
          "x": 0.16111525468001198,
          "xref": "x",
          "y": -0.8338851394058794,
          "yref": "y"
         },
         {
          "ax": 0,
          "ay": 20,
          "showarrow": false,
          "text": "XP Investimentos",
          "x": -0.833476468558547,
          "xref": "x",
          "y": 0.730253481917316,
          "yref": "y"
         },
         {
          "ax": 0,
          "ay": 20,
          "showarrow": false,
          "text": "CEF",
          "x": 0.6680242042374385,
          "xref": "x",
          "y": -0.4793874110609986,
          "yref": "y"
         },
         {
          "ax": 0,
          "ay": 20,
          "showarrow": false,
          "text": "Santander",
          "x": -0.773500649770293,
          "xref": "x",
          "y": -0.0975815886821563,
          "yref": "y"
         },
         {
          "ax": 0,
          "ay": 20,
          "showarrow": false,
          "text": "Bradesco",
          "x": 1,
          "xref": "x",
          "y": 0.25385104337580794,
          "yref": "y"
         }
        ],
        "hovermode": "closest",
        "margin": {
         "b": 20,
         "l": 5,
         "r": 5,
         "t": 40
        },
        "scene": {
         "xaxis": {
          "showbackground": false,
          "showgrid": false,
          "showline": false,
          "showticklabels": false,
          "title": {
           "text": ""
          },
          "zeroline": false
         },
         "yaxis": {
          "showbackground": false,
          "showgrid": false,
          "showline": false,
          "showticklabels": false,
          "title": {
           "text": ""
          },
          "zeroline": false
         },
         "zaxis": {
          "showbackground": false,
          "showgrid": false,
          "showline": false,
          "showticklabels": false,
          "title": {
           "text": ""
          },
          "zeroline": false
         }
        },
        "showlegend": false,
        "title": {
         "font": {
          "size": 16
         },
         "text": "coco"
        }
       }
      },
      "text/html": [
       "<div>\n",
       "        \n",
       "        \n",
       "            <div id=\"ea6df0d4-9fa1-4fb6-bd31-c01748dde524\" class=\"plotly-graph-div\" style=\"height:525px; width:100%;\"></div>\n",
       "            <script type=\"text/javascript\">\n",
       "                require([\"plotly\"], function(Plotly) {\n",
       "                    window.PLOTLYENV=window.PLOTLYENV || {};\n",
       "                    window.PLOTLYENV.BASE_URL='https://plot.ly';\n",
       "                    \n",
       "                if (document.getElementById(\"ea6df0d4-9fa1-4fb6-bd31-c01748dde524\")) {\n",
       "                    Plotly.newPlot(\n",
       "                        'ea6df0d4-9fa1-4fb6-bd31-c01748dde524',\n",
       "                        [{\"hoverinfo\": \"text\", \"marker\": {\"cmax\": null, \"cmin\": null, \"color\": [\"rgb(0, 0, 6)\", \"rgb(35, 17, 82)\", \"rgb(251, 252, 191)\", \"rgb(20, 13, 53)\", \"rgb(0, 0, 3)\", \"rgb(0, 0, 3)\", \"rgb(251, 247, 185)\", \"rgb(0, 0, 3)\", \"rgb(21, 14, 56)\"], \"colorbar\": {\"thickness\": 15, \"title\": {\"side\": \"right\", \"text\": \"coco\"}, \"xanchor\": \"left\"}, \"colorscale\": \"Viridis\", \"line\": {\"width\": 2}, \"reversescale\": true, \"showscale\": false, \"size\": [1, 1, 1, 1, 1, 1, 1, 1, 1], \"sizemin\": 15, \"sizemode\": \"area\", \"sizeref\": 15}, \"mode\": \"markers\", \"text\": [\"<b>Next</b><br>clientes: 2000<br>lucro: 234<br>\", \"<b>Inter</b><br>clientes: 35000<br>lucro: 1111<br>\", \"<b>Nubank</b><br>clientes: 234243<br>lucro: 2234<br>\", \"<b>BB</b><br>clientes: 23443<br>lucro: 2344<br>\", \"<b>Itau</b><br>clientes: 2<br>lucro: 444<br>\", \"<b>XP Investimentos</b><br>clientes: 1<br>lucro: 222<br>\", \"<b>CEF</b><br>clientes: 232323<br>lucro: 1<br>\", \"<b>Santander</b><br>clientes: 666<br>lucro: 1<br>\", \"<b>Bradesco</b><br>clientes: 24433<br>lucro: 9877<br>\"], \"type\": \"scatter3d\", \"uid\": \"822117bd-48d1-49d8-9614-a95838a1c664\", \"x\": [-0.0014735286389408577, 0.3421074683310514, -0.6163412442023941, 0.053544963921672, 0.16111525468001198, -0.833476468558547, 0.6680242042374385, -0.773500649770293, 1.0], \"y\": [0.0017557483603848666, 0.6866465593746874, -0.5862339906145514, 0.8245812967353873, -0.9338851394058794, 0.630253481917316, -0.5793874110609986, -0.1975815886821563, 0.15385104337580793], \"z\": [0.002401978410019251, 0.7750149233595662, 0.6782765536850218, -0.7116444350272221, -0.5386548446780034, 0.3029070328961029, 0.6313310664517552, -0.7408723749809488, -0.3987599001162912]}, {\"hoverinfo\": \"none\", \"line\": {\"color\": \"black\", \"width\": 0.5}, \"mode\": \"lines\", \"type\": \"scatter3d\", \"uid\": \"a35227a1-db9c-4873-80f1-4cbd70c12afe\", \"x\": [-0.0014735286389408577, 1.0, null], \"y\": [0.0017557483603848666, 0.15385104337580793, null], \"z\": [0.002401978410019251, -0.3987599001162912, null]}, {\"hoverinfo\": \"none\", \"line\": {\"color\": \"black\", \"width\": 0.5}, \"mode\": \"lines\", \"type\": \"scatter3d\", \"uid\": \"12643e5f-0d21-4a51-a03d-5b757df0dbdb\", \"x\": [-0.0014735286389408577, 0.3421074683310514, null], \"y\": [0.0017557483603848666, 0.6866465593746874, null], \"z\": [0.002401978410019251, 0.7750149233595662, null]}, {\"hoverinfo\": \"none\", \"line\": {\"color\": \"black\", \"width\": 0.5}, \"mode\": \"lines\", \"type\": \"scatter3d\", \"uid\": \"4e0e48e2-5fdc-4726-a524-e4900b666041\", \"x\": [-0.0014735286389408577, -0.6163412442023941, null], \"y\": [0.0017557483603848666, -0.5862339906145514, null], \"z\": [0.002401978410019251, 0.6782765536850218, null]}, {\"hoverinfo\": \"none\", \"line\": {\"color\": \"black\", \"width\": 0.5}, \"mode\": \"lines\", \"type\": \"scatter3d\", \"uid\": \"daf364c0-6065-4604-bc4b-d71982e13d91\", \"x\": [-0.0014735286389408577, 0.053544963921672, null], \"y\": [0.0017557483603848666, 0.8245812967353873, null], \"z\": [0.002401978410019251, -0.7116444350272221, null]}, {\"hoverinfo\": \"none\", \"line\": {\"color\": \"black\", \"width\": 0.5}, \"mode\": \"lines\", \"type\": \"scatter3d\", \"uid\": \"4b1c9680-3f5c-4453-b7d3-70115f052624\", \"x\": [-0.0014735286389408577, 0.16111525468001198, null], \"y\": [0.0017557483603848666, -0.9338851394058794, null], \"z\": [0.002401978410019251, -0.5386548446780034, null]}, {\"hoverinfo\": \"none\", \"line\": {\"color\": \"black\", \"width\": 0.5}, \"mode\": \"lines\", \"type\": \"scatter3d\", \"uid\": \"8c5218ee-d6bf-428c-94a2-c00d1ec6855d\", \"x\": [-0.0014735286389408577, -0.833476468558547, null], \"y\": [0.0017557483603848666, 0.630253481917316, null], \"z\": [0.002401978410019251, 0.3029070328961029, null]}, {\"hoverinfo\": \"none\", \"line\": {\"color\": \"black\", \"width\": 0.5}, \"mode\": \"lines\", \"type\": \"scatter3d\", \"uid\": \"1a9da334-83e3-48f0-8a14-702a4727738f\", \"x\": [-0.0014735286389408577, 0.6680242042374385, null], \"y\": [0.0017557483603848666, -0.5793874110609986, null], \"z\": [0.002401978410019251, 0.6313310664517552, null]}, {\"hoverinfo\": \"none\", \"line\": {\"color\": \"black\", \"width\": 0.5}, \"mode\": \"lines\", \"type\": \"scatter3d\", \"uid\": \"65c2fb3c-e4fc-4870-af01-52294a27c2b8\", \"x\": [-0.0014735286389408577, -0.773500649770293, null], \"y\": [0.0017557483603848666, -0.1975815886821563, null], \"z\": [0.002401978410019251, -0.7408723749809488, null]}],\n",
       "                        {\"annotations\": [{\"ax\": 0, \"ay\": 20, \"showarrow\": false, \"text\": \"Next\", \"x\": 0.0016666058495176878, \"xref\": \"x\", \"y\": 0.10257688739540723, \"yref\": \"y\"}, {\"ax\": 0, \"ay\": 20, \"showarrow\": false, \"text\": \"Inter\", \"x\": -0.7494228863723494, \"xref\": \"x\", \"y\": 0.3939670307321823, \"yref\": \"y\"}, {\"ax\": 0, \"ay\": 20, \"showarrow\": false, \"text\": \"Nubank\", \"x\": -0.6725828691390812, \"xref\": \"x\", \"y\": 0.36675178251734963, \"yref\": \"y\"}, {\"ax\": 0, \"ay\": 20, \"showarrow\": false, \"text\": \"BB\", \"x\": -0.010204574428677822, \"xref\": \"x\", \"y\": -0.4800950520498469, \"yref\": \"y\"}, {\"ax\": 0, \"ay\": 20, \"showarrow\": false, \"text\": \"Itau\", \"x\": 0.04274399207493556, \"xref\": \"x\", \"y\": 1.1, \"yref\": \"y\"}, {\"ax\": 0, \"ay\": 20, \"showarrow\": false, \"text\": \"XP Investimentos\", \"x\": -0.5744903404808466, \"xref\": \"x\", \"y\": -0.6750175897504458, \"yref\": \"y\"}, {\"ax\": 0, \"ay\": 20, \"showarrow\": false, \"text\": \"CEF\", \"x\": 0.7851455772727861, \"xref\": \"x\", \"y\": 0.3780151176924571, \"yref\": \"y\"}, {\"ax\": 0, \"ay\": 20, \"showarrow\": false, \"text\": \"Santander\", \"x\": 0.646560477327721, \"xref\": \"x\", \"y\": -0.6252489928640931, \"yref\": \"y\"}, {\"ax\": 0, \"ay\": 20, \"showarrow\": false, \"text\": \"Bradesco\", \"x\": 0.5305840178959949, \"xref\": \"x\", \"y\": 0.3390508163269881, \"yref\": \"y\"}, {\"ax\": 0, \"ay\": 20, \"showarrow\": false, \"text\": \"Next\", \"x\": -0.0014735286389408577, \"xref\": \"x\", \"y\": 0.10175574836038487, \"yref\": \"y\"}, {\"ax\": 0, \"ay\": 20, \"showarrow\": false, \"text\": \"Inter\", \"x\": 0.3421074683310514, \"xref\": \"x\", \"y\": 0.7866465593746874, \"yref\": \"y\"}, {\"ax\": 0, \"ay\": 20, \"showarrow\": false, \"text\": \"Nubank\", \"x\": -0.6163412442023941, \"xref\": \"x\", \"y\": -0.4862339906145514, \"yref\": \"y\"}, {\"ax\": 0, \"ay\": 20, \"showarrow\": false, \"text\": \"BB\", \"x\": 0.053544963921672, \"xref\": \"x\", \"y\": 0.9245812967353872, \"yref\": \"y\"}, {\"ax\": 0, \"ay\": 20, \"showarrow\": false, \"text\": \"Itau\", \"x\": 0.16111525468001198, \"xref\": \"x\", \"y\": -0.8338851394058794, \"yref\": \"y\"}, {\"ax\": 0, \"ay\": 20, \"showarrow\": false, \"text\": \"XP Investimentos\", \"x\": -0.833476468558547, \"xref\": \"x\", \"y\": 0.730253481917316, \"yref\": \"y\"}, {\"ax\": 0, \"ay\": 20, \"showarrow\": false, \"text\": \"CEF\", \"x\": 0.6680242042374385, \"xref\": \"x\", \"y\": -0.4793874110609986, \"yref\": \"y\"}, {\"ax\": 0, \"ay\": 20, \"showarrow\": false, \"text\": \"Santander\", \"x\": -0.773500649770293, \"xref\": \"x\", \"y\": -0.0975815886821563, \"yref\": \"y\"}, {\"ax\": 0, \"ay\": 20, \"showarrow\": false, \"text\": \"Bradesco\", \"x\": 1.0, \"xref\": \"x\", \"y\": 0.25385104337580794, \"yref\": \"y\"}], \"hovermode\": \"closest\", \"margin\": {\"b\": 20, \"l\": 5, \"r\": 5, \"t\": 40}, \"scene\": {\"xaxis\": {\"showbackground\": false, \"showgrid\": false, \"showline\": false, \"showticklabels\": false, \"title\": {\"text\": \"\"}, \"zeroline\": false}, \"yaxis\": {\"showbackground\": false, \"showgrid\": false, \"showline\": false, \"showticklabels\": false, \"title\": {\"text\": \"\"}, \"zeroline\": false}, \"zaxis\": {\"showbackground\": false, \"showgrid\": false, \"showline\": false, \"showticklabels\": false, \"title\": {\"text\": \"\"}, \"zeroline\": false}}, \"showlegend\": false, \"title\": {\"font\": {\"size\": 16}, \"text\": \"coco\"}},\n",
       "                        {\"showLink\": false, \"linkText\": \"Export to plot.ly\", \"plotlyServerURL\": \"https://plot.ly\", \"responsive\": true}\n",
       "                    ).then(function(){\n",
       "                            \n",
       "var gd = document.getElementById('ea6df0d4-9fa1-4fb6-bd31-c01748dde524');\n",
       "var x = new MutationObserver(function (mutations, observer) {{\n",
       "        var display = window.getComputedStyle(gd).display;\n",
       "        if (!display || display === 'none') {{\n",
       "            console.log([gd, 'removed!']);\n",
       "            Plotly.purge(gd);\n",
       "            observer.disconnect();\n",
       "        }}\n",
       "}});\n",
       "\n",
       "// Listen for the removal of the full notebook cells\n",
       "var notebookContainer = gd.closest('#notebook-container');\n",
       "if (notebookContainer) {{\n",
       "    x.observe(notebookContainer, {childList: true});\n",
       "}}\n",
       "\n",
       "// Listen for the clearing of the current output cell\n",
       "var outputEl = gd.closest('.output');\n",
       "if (outputEl) {{\n",
       "    x.observe(outputEl, {childList: true});\n",
       "}}\n",
       "\n",
       "                        })\n",
       "                };\n",
       "                });\n",
       "            </script>\n",
       "        </div>"
      ]
     },
     "metadata": {},
     "output_type": "display_data"
    }
   ],
   "source": [
    "mygraph.plot(title='coco', node_color_col='clientes')"
   ]
  },
  {
   "cell_type": "code",
   "execution_count": 109,
   "metadata": {},
   "outputs": [
    {
     "data": {
      "application/vnd.plotly.v1+json": {
       "config": {
        "linkText": "Export to plot.ly",
        "plotlyServerURL": "https://plot.ly",
        "responsive": true,
        "showLink": false
       },
       "data": [
        {
         "hoverinfo": "text",
         "marker": {
          "cmax": 234243,
          "cmin": 1,
          "color": [
           "rgb(0, 0, 6)",
           "rgb(35, 17, 82)",
           "rgb(251, 252, 191)",
           "rgb(20, 13, 53)",
           "rgb(0, 0, 3)",
           "rgb(0, 0, 3)",
           "rgb(251, 247, 185)",
           "rgb(0, 0, 3)",
           "rgb(21, 14, 56)"
          ],
          "colorbar": {
           "thickness": 15,
           "title": {
            "side": "right",
            "text": "coco"
           },
           "xanchor": "left"
          },
          "colorscale": "Viridis",
          "line": {
           "width": 2
          },
          "reversescale": true,
          "showscale": false,
          "size": [
           2000,
           35000,
           234243,
           23443,
           2,
           1,
           232323,
           666,
           24433
          ],
          "sizemin": 15,
          "sizemode": "area",
          "sizeref": 187.3944
         },
         "mode": "markers",
         "text": [
          "<b>Next</b><br>clientes: 2000<br>lucro: 234<br>",
          "<b>Inter</b><br>clientes: 35000<br>lucro: 1111<br>",
          "<b>Nubank</b><br>clientes: 234243<br>lucro: 2234<br>",
          "<b>BB</b><br>clientes: 23443<br>lucro: 2344<br>",
          "<b>Itau</b><br>clientes: 2<br>lucro: 444<br>",
          "<b>XP Investimentos</b><br>clientes: 1<br>lucro: 222<br>",
          "<b>CEF</b><br>clientes: 232323<br>lucro: 1<br>",
          "<b>Santander</b><br>clientes: 666<br>lucro: 1<br>",
          "<b>Bradesco</b><br>clientes: 24433<br>lucro: 9877<br>"
         ],
         "type": "scatter3d",
         "uid": "a35af90d-2776-43ac-9a30-ccd4c48a5237",
         "x": [
          0.0018928112814978152,
          0.654310755454577,
          -0.9869378181100148,
          0.5114242381212085,
          -0.38557333693654977,
          -0.7272066473198087,
          -0.14696002380857265,
          0.07905002131766231,
          1
         ],
         "y": [
          -1.806115958549314e-05,
          -0.41163817913145234,
          0.19636019391582912,
          -0.6919042643488698,
          -0.982697976780302,
          -0.2268677381592995,
          0.9046885110655432,
          0.7955780370318342,
          0.416499477566303
         ],
         "z": [
          -0.0004274901459835528,
          0.8003643956610482,
          0.47455794939101764,
          -0.7025130932660973,
          0.34514677588100057,
          -0.814103723647282,
          -0.6295409848576922,
          0.7724886017825057,
          -0.24597243079851652
         ]
        },
        {
         "hoverinfo": "none",
         "line": {
          "color": "black",
          "width": 0.5
         },
         "mode": "lines",
         "type": "scatter3d",
         "uid": "625652d4-6dff-420f-b2d7-34599f1d3164",
         "x": [
          0.0018928112814978152,
          1,
          null
         ],
         "y": [
          -1.806115958549314e-05,
          0.416499477566303,
          null
         ],
         "z": [
          -0.0004274901459835528,
          -0.24597243079851652,
          null
         ]
        },
        {
         "hoverinfo": "none",
         "line": {
          "color": "black",
          "width": 0.5
         },
         "mode": "lines",
         "type": "scatter3d",
         "uid": "b9262bf1-633c-4ba9-9e30-ee1196e995c0",
         "x": [
          0.0018928112814978152,
          0.654310755454577,
          null
         ],
         "y": [
          -1.806115958549314e-05,
          -0.41163817913145234,
          null
         ],
         "z": [
          -0.0004274901459835528,
          0.8003643956610482,
          null
         ]
        },
        {
         "hoverinfo": "none",
         "line": {
          "color": "black",
          "width": 0.5
         },
         "mode": "lines",
         "type": "scatter3d",
         "uid": "b1656153-32a1-4cf7-8fc1-f71fa99171c7",
         "x": [
          0.0018928112814978152,
          -0.9869378181100148,
          null
         ],
         "y": [
          -1.806115958549314e-05,
          0.19636019391582912,
          null
         ],
         "z": [
          -0.0004274901459835528,
          0.47455794939101764,
          null
         ]
        },
        {
         "hoverinfo": "none",
         "line": {
          "color": "black",
          "width": 0.5
         },
         "mode": "lines",
         "type": "scatter3d",
         "uid": "fa3a85e3-2848-4d56-badb-2b7cfaaef59b",
         "x": [
          0.0018928112814978152,
          0.5114242381212085,
          null
         ],
         "y": [
          -1.806115958549314e-05,
          -0.6919042643488698,
          null
         ],
         "z": [
          -0.0004274901459835528,
          -0.7025130932660973,
          null
         ]
        },
        {
         "hoverinfo": "none",
         "line": {
          "color": "black",
          "width": 0.5
         },
         "mode": "lines",
         "type": "scatter3d",
         "uid": "b059d1a7-c85f-47b3-8333-3bcd35869a2f",
         "x": [
          0.0018928112814978152,
          -0.38557333693654977,
          null
         ],
         "y": [
          -1.806115958549314e-05,
          -0.982697976780302,
          null
         ],
         "z": [
          -0.0004274901459835528,
          0.34514677588100057,
          null
         ]
        },
        {
         "hoverinfo": "none",
         "line": {
          "color": "black",
          "width": 0.5
         },
         "mode": "lines",
         "type": "scatter3d",
         "uid": "c4d4755d-8bb8-4ae9-8d30-3c55d3db3a06",
         "x": [
          0.0018928112814978152,
          -0.7272066473198087,
          null
         ],
         "y": [
          -1.806115958549314e-05,
          -0.2268677381592995,
          null
         ],
         "z": [
          -0.0004274901459835528,
          -0.814103723647282,
          null
         ]
        },
        {
         "hoverinfo": "none",
         "line": {
          "color": "black",
          "width": 0.5
         },
         "mode": "lines",
         "type": "scatter3d",
         "uid": "8d0f27a6-7ca8-4f62-acbc-fccd691fecd6",
         "x": [
          0.0018928112814978152,
          -0.14696002380857265,
          null
         ],
         "y": [
          -1.806115958549314e-05,
          0.9046885110655432,
          null
         ],
         "z": [
          -0.0004274901459835528,
          -0.6295409848576922,
          null
         ]
        },
        {
         "hoverinfo": "none",
         "line": {
          "color": "black",
          "width": 0.5
         },
         "mode": "lines",
         "type": "scatter3d",
         "uid": "f0f6b841-e0eb-49fb-8ba9-6656b06f1cd1",
         "x": [
          0.0018928112814978152,
          0.07905002131766231,
          null
         ],
         "y": [
          -1.806115958549314e-05,
          0.7955780370318342,
          null
         ],
         "z": [
          -0.0004274901459835528,
          0.7724886017825057,
          null
         ]
        }
       ],
       "layout": {
        "annotations": [
         {
          "ax": 0,
          "ay": 20,
          "showarrow": false,
          "text": "Next",
          "x": 0.0016666058495176878,
          "xref": "x",
          "y": 0.10257688739540723,
          "yref": "y"
         },
         {
          "ax": 0,
          "ay": 20,
          "showarrow": false,
          "text": "Inter",
          "x": -0.7494228863723494,
          "xref": "x",
          "y": 0.3939670307321823,
          "yref": "y"
         },
         {
          "ax": 0,
          "ay": 20,
          "showarrow": false,
          "text": "Nubank",
          "x": -0.6725828691390812,
          "xref": "x",
          "y": 0.36675178251734963,
          "yref": "y"
         },
         {
          "ax": 0,
          "ay": 20,
          "showarrow": false,
          "text": "BB",
          "x": -0.010204574428677822,
          "xref": "x",
          "y": -0.4800950520498469,
          "yref": "y"
         },
         {
          "ax": 0,
          "ay": 20,
          "showarrow": false,
          "text": "Itau",
          "x": 0.04274399207493556,
          "xref": "x",
          "y": 1.1,
          "yref": "y"
         },
         {
          "ax": 0,
          "ay": 20,
          "showarrow": false,
          "text": "XP Investimentos",
          "x": -0.5744903404808466,
          "xref": "x",
          "y": -0.6750175897504458,
          "yref": "y"
         },
         {
          "ax": 0,
          "ay": 20,
          "showarrow": false,
          "text": "CEF",
          "x": 0.7851455772727861,
          "xref": "x",
          "y": 0.3780151176924571,
          "yref": "y"
         },
         {
          "ax": 0,
          "ay": 20,
          "showarrow": false,
          "text": "Santander",
          "x": 0.646560477327721,
          "xref": "x",
          "y": -0.6252489928640931,
          "yref": "y"
         },
         {
          "ax": 0,
          "ay": 20,
          "showarrow": false,
          "text": "Bradesco",
          "x": 0.5305840178959949,
          "xref": "x",
          "y": 0.3390508163269881,
          "yref": "y"
         },
         {
          "ax": 0,
          "ay": 20,
          "showarrow": false,
          "text": "Next",
          "x": -0.0014735286389408577,
          "xref": "x",
          "y": 0.10175574836038487,
          "yref": "y"
         },
         {
          "ax": 0,
          "ay": 20,
          "showarrow": false,
          "text": "Inter",
          "x": 0.3421074683310514,
          "xref": "x",
          "y": 0.7866465593746874,
          "yref": "y"
         },
         {
          "ax": 0,
          "ay": 20,
          "showarrow": false,
          "text": "Nubank",
          "x": -0.6163412442023941,
          "xref": "x",
          "y": -0.4862339906145514,
          "yref": "y"
         },
         {
          "ax": 0,
          "ay": 20,
          "showarrow": false,
          "text": "BB",
          "x": 0.053544963921672,
          "xref": "x",
          "y": 0.9245812967353872,
          "yref": "y"
         },
         {
          "ax": 0,
          "ay": 20,
          "showarrow": false,
          "text": "Itau",
          "x": 0.16111525468001198,
          "xref": "x",
          "y": -0.8338851394058794,
          "yref": "y"
         },
         {
          "ax": 0,
          "ay": 20,
          "showarrow": false,
          "text": "XP Investimentos",
          "x": -0.833476468558547,
          "xref": "x",
          "y": 0.730253481917316,
          "yref": "y"
         },
         {
          "ax": 0,
          "ay": 20,
          "showarrow": false,
          "text": "CEF",
          "x": 0.6680242042374385,
          "xref": "x",
          "y": -0.4793874110609986,
          "yref": "y"
         },
         {
          "ax": 0,
          "ay": 20,
          "showarrow": false,
          "text": "Santander",
          "x": -0.773500649770293,
          "xref": "x",
          "y": -0.0975815886821563,
          "yref": "y"
         },
         {
          "ax": 0,
          "ay": 20,
          "showarrow": false,
          "text": "Bradesco",
          "x": 1,
          "xref": "x",
          "y": 0.25385104337580794,
          "yref": "y"
         },
         {
          "ax": 0,
          "ay": 20,
          "showarrow": false,
          "text": "Next",
          "x": 0.0018928112814978152,
          "xref": "x",
          "y": 0.09998193884041451,
          "yref": "y"
         },
         {
          "ax": 0,
          "ay": 20,
          "showarrow": false,
          "text": "Inter",
          "x": 0.654310755454577,
          "xref": "x",
          "y": -0.3116381791314523,
          "yref": "y"
         },
         {
          "ax": 0,
          "ay": 20,
          "showarrow": false,
          "text": "Nubank",
          "x": -0.9869378181100148,
          "xref": "x",
          "y": 0.29636019391582913,
          "yref": "y"
         },
         {
          "ax": 0,
          "ay": 20,
          "showarrow": false,
          "text": "BB",
          "x": 0.5114242381212085,
          "xref": "x",
          "y": -0.5919042643488698,
          "yref": "y"
         },
         {
          "ax": 0,
          "ay": 20,
          "showarrow": false,
          "text": "Itau",
          "x": -0.38557333693654977,
          "xref": "x",
          "y": -0.882697976780302,
          "yref": "y"
         },
         {
          "ax": 0,
          "ay": 20,
          "showarrow": false,
          "text": "XP Investimentos",
          "x": -0.7272066473198087,
          "xref": "x",
          "y": -0.1268677381592995,
          "yref": "y"
         },
         {
          "ax": 0,
          "ay": 20,
          "showarrow": false,
          "text": "CEF",
          "x": -0.14696002380857265,
          "xref": "x",
          "y": 1.0046885110655432,
          "yref": "y"
         },
         {
          "ax": 0,
          "ay": 20,
          "showarrow": false,
          "text": "Santander",
          "x": 0.07905002131766231,
          "xref": "x",
          "y": 0.8955780370318341,
          "yref": "y"
         },
         {
          "ax": 0,
          "ay": 20,
          "showarrow": false,
          "text": "Bradesco",
          "x": 1,
          "xref": "x",
          "y": 0.516499477566303,
          "yref": "y"
         }
        ],
        "hovermode": "closest",
        "margin": {
         "b": 20,
         "l": 5,
         "r": 5,
         "t": 40
        },
        "scene": {
         "xaxis": {
          "showbackground": false,
          "showgrid": false,
          "showline": false,
          "showticklabels": false,
          "title": {
           "text": ""
          },
          "zeroline": false
         },
         "yaxis": {
          "showbackground": false,
          "showgrid": false,
          "showline": false,
          "showticklabels": false,
          "title": {
           "text": ""
          },
          "zeroline": false
         },
         "zaxis": {
          "showbackground": false,
          "showgrid": false,
          "showline": false,
          "showticklabels": false,
          "title": {
           "text": ""
          },
          "zeroline": false
         }
        },
        "showlegend": false,
        "title": {
         "font": {
          "size": 16
         },
         "text": "coco"
        }
       }
      },
      "text/html": [
       "<div>\n",
       "        \n",
       "        \n",
       "            <div id=\"58d6b1fb-c5c3-460e-a3a9-d093ff801b70\" class=\"plotly-graph-div\" style=\"height:525px; width:100%;\"></div>\n",
       "            <script type=\"text/javascript\">\n",
       "                require([\"plotly\"], function(Plotly) {\n",
       "                    window.PLOTLYENV=window.PLOTLYENV || {};\n",
       "                    window.PLOTLYENV.BASE_URL='https://plot.ly';\n",
       "                    \n",
       "                if (document.getElementById(\"58d6b1fb-c5c3-460e-a3a9-d093ff801b70\")) {\n",
       "                    Plotly.newPlot(\n",
       "                        '58d6b1fb-c5c3-460e-a3a9-d093ff801b70',\n",
       "                        [{\"hoverinfo\": \"text\", \"marker\": {\"cmax\": 234243, \"cmin\": 1, \"color\": [\"rgb(0, 0, 6)\", \"rgb(35, 17, 82)\", \"rgb(251, 252, 191)\", \"rgb(20, 13, 53)\", \"rgb(0, 0, 3)\", \"rgb(0, 0, 3)\", \"rgb(251, 247, 185)\", \"rgb(0, 0, 3)\", \"rgb(21, 14, 56)\"], \"colorbar\": {\"thickness\": 15, \"title\": {\"side\": \"right\", \"text\": \"coco\"}, \"xanchor\": \"left\"}, \"colorscale\": \"Viridis\", \"line\": {\"width\": 2}, \"reversescale\": true, \"showscale\": false, \"size\": [2000, 35000, 234243, 23443, 2, 1, 232323, 666, 24433], \"sizemin\": 15, \"sizemode\": \"area\", \"sizeref\": 187.3944}, \"mode\": \"markers\", \"text\": [\"<b>Next</b><br>clientes: 2000<br>lucro: 234<br>\", \"<b>Inter</b><br>clientes: 35000<br>lucro: 1111<br>\", \"<b>Nubank</b><br>clientes: 234243<br>lucro: 2234<br>\", \"<b>BB</b><br>clientes: 23443<br>lucro: 2344<br>\", \"<b>Itau</b><br>clientes: 2<br>lucro: 444<br>\", \"<b>XP Investimentos</b><br>clientes: 1<br>lucro: 222<br>\", \"<b>CEF</b><br>clientes: 232323<br>lucro: 1<br>\", \"<b>Santander</b><br>clientes: 666<br>lucro: 1<br>\", \"<b>Bradesco</b><br>clientes: 24433<br>lucro: 9877<br>\"], \"type\": \"scatter3d\", \"uid\": \"46903359-f260-4590-9b6c-b67403dc2eb5\", \"x\": [0.0018928112814978152, 0.654310755454577, -0.9869378181100148, 0.5114242381212085, -0.38557333693654977, -0.7272066473198087, -0.14696002380857265, 0.07905002131766231, 1.0], \"y\": [-1.806115958549314e-05, -0.41163817913145234, 0.19636019391582912, -0.6919042643488698, -0.982697976780302, -0.2268677381592995, 0.9046885110655432, 0.7955780370318342, 0.416499477566303], \"z\": [-0.0004274901459835528, 0.8003643956610482, 0.47455794939101764, -0.7025130932660973, 0.34514677588100057, -0.814103723647282, -0.6295409848576922, 0.7724886017825057, -0.24597243079851652]}, {\"hoverinfo\": \"none\", \"line\": {\"color\": \"black\", \"width\": 0.5}, \"mode\": \"lines\", \"type\": \"scatter3d\", \"uid\": \"b9578ef2-fab6-430d-8997-c08d96678c73\", \"x\": [0.0018928112814978152, 1.0, null], \"y\": [-1.806115958549314e-05, 0.416499477566303, null], \"z\": [-0.0004274901459835528, -0.24597243079851652, null]}, {\"hoverinfo\": \"none\", \"line\": {\"color\": \"black\", \"width\": 0.5}, \"mode\": \"lines\", \"type\": \"scatter3d\", \"uid\": \"dc78aaa2-4904-468d-b892-c37da636f050\", \"x\": [0.0018928112814978152, 0.654310755454577, null], \"y\": [-1.806115958549314e-05, -0.41163817913145234, null], \"z\": [-0.0004274901459835528, 0.8003643956610482, null]}, {\"hoverinfo\": \"none\", \"line\": {\"color\": \"black\", \"width\": 0.5}, \"mode\": \"lines\", \"type\": \"scatter3d\", \"uid\": \"297c79ae-42d7-4acd-86cb-50b87391e5ca\", \"x\": [0.0018928112814978152, -0.9869378181100148, null], \"y\": [-1.806115958549314e-05, 0.19636019391582912, null], \"z\": [-0.0004274901459835528, 0.47455794939101764, null]}, {\"hoverinfo\": \"none\", \"line\": {\"color\": \"black\", \"width\": 0.5}, \"mode\": \"lines\", \"type\": \"scatter3d\", \"uid\": \"de93f2c9-8494-45a0-8502-37a3f78f4446\", \"x\": [0.0018928112814978152, 0.5114242381212085, null], \"y\": [-1.806115958549314e-05, -0.6919042643488698, null], \"z\": [-0.0004274901459835528, -0.7025130932660973, null]}, {\"hoverinfo\": \"none\", \"line\": {\"color\": \"black\", \"width\": 0.5}, \"mode\": \"lines\", \"type\": \"scatter3d\", \"uid\": \"0ad39ccb-bbee-474d-a5dc-c42ae2959fad\", \"x\": [0.0018928112814978152, -0.38557333693654977, null], \"y\": [-1.806115958549314e-05, -0.982697976780302, null], \"z\": [-0.0004274901459835528, 0.34514677588100057, null]}, {\"hoverinfo\": \"none\", \"line\": {\"color\": \"black\", \"width\": 0.5}, \"mode\": \"lines\", \"type\": \"scatter3d\", \"uid\": \"60cc1dfa-92f2-4461-b75a-9d3389c89fc4\", \"x\": [0.0018928112814978152, -0.7272066473198087, null], \"y\": [-1.806115958549314e-05, -0.2268677381592995, null], \"z\": [-0.0004274901459835528, -0.814103723647282, null]}, {\"hoverinfo\": \"none\", \"line\": {\"color\": \"black\", \"width\": 0.5}, \"mode\": \"lines\", \"type\": \"scatter3d\", \"uid\": \"398e944a-2f86-4a02-ac3d-faf3a578784e\", \"x\": [0.0018928112814978152, -0.14696002380857265, null], \"y\": [-1.806115958549314e-05, 0.9046885110655432, null], \"z\": [-0.0004274901459835528, -0.6295409848576922, null]}, {\"hoverinfo\": \"none\", \"line\": {\"color\": \"black\", \"width\": 0.5}, \"mode\": \"lines\", \"type\": \"scatter3d\", \"uid\": \"1833908a-7d9c-4a11-9adf-47b8b72345a2\", \"x\": [0.0018928112814978152, 0.07905002131766231, null], \"y\": [-1.806115958549314e-05, 0.7955780370318342, null], \"z\": [-0.0004274901459835528, 0.7724886017825057, null]}],\n",
       "                        {\"annotations\": [{\"ax\": 0, \"ay\": 20, \"showarrow\": false, \"text\": \"Next\", \"x\": 0.0016666058495176878, \"xref\": \"x\", \"y\": 0.10257688739540723, \"yref\": \"y\"}, {\"ax\": 0, \"ay\": 20, \"showarrow\": false, \"text\": \"Inter\", \"x\": -0.7494228863723494, \"xref\": \"x\", \"y\": 0.3939670307321823, \"yref\": \"y\"}, {\"ax\": 0, \"ay\": 20, \"showarrow\": false, \"text\": \"Nubank\", \"x\": -0.6725828691390812, \"xref\": \"x\", \"y\": 0.36675178251734963, \"yref\": \"y\"}, {\"ax\": 0, \"ay\": 20, \"showarrow\": false, \"text\": \"BB\", \"x\": -0.010204574428677822, \"xref\": \"x\", \"y\": -0.4800950520498469, \"yref\": \"y\"}, {\"ax\": 0, \"ay\": 20, \"showarrow\": false, \"text\": \"Itau\", \"x\": 0.04274399207493556, \"xref\": \"x\", \"y\": 1.1, \"yref\": \"y\"}, {\"ax\": 0, \"ay\": 20, \"showarrow\": false, \"text\": \"XP Investimentos\", \"x\": -0.5744903404808466, \"xref\": \"x\", \"y\": -0.6750175897504458, \"yref\": \"y\"}, {\"ax\": 0, \"ay\": 20, \"showarrow\": false, \"text\": \"CEF\", \"x\": 0.7851455772727861, \"xref\": \"x\", \"y\": 0.3780151176924571, \"yref\": \"y\"}, {\"ax\": 0, \"ay\": 20, \"showarrow\": false, \"text\": \"Santander\", \"x\": 0.646560477327721, \"xref\": \"x\", \"y\": -0.6252489928640931, \"yref\": \"y\"}, {\"ax\": 0, \"ay\": 20, \"showarrow\": false, \"text\": \"Bradesco\", \"x\": 0.5305840178959949, \"xref\": \"x\", \"y\": 0.3390508163269881, \"yref\": \"y\"}, {\"ax\": 0, \"ay\": 20, \"showarrow\": false, \"text\": \"Next\", \"x\": -0.0014735286389408577, \"xref\": \"x\", \"y\": 0.10175574836038487, \"yref\": \"y\"}, {\"ax\": 0, \"ay\": 20, \"showarrow\": false, \"text\": \"Inter\", \"x\": 0.3421074683310514, \"xref\": \"x\", \"y\": 0.7866465593746874, \"yref\": \"y\"}, {\"ax\": 0, \"ay\": 20, \"showarrow\": false, \"text\": \"Nubank\", \"x\": -0.6163412442023941, \"xref\": \"x\", \"y\": -0.4862339906145514, \"yref\": \"y\"}, {\"ax\": 0, \"ay\": 20, \"showarrow\": false, \"text\": \"BB\", \"x\": 0.053544963921672, \"xref\": \"x\", \"y\": 0.9245812967353872, \"yref\": \"y\"}, {\"ax\": 0, \"ay\": 20, \"showarrow\": false, \"text\": \"Itau\", \"x\": 0.16111525468001198, \"xref\": \"x\", \"y\": -0.8338851394058794, \"yref\": \"y\"}, {\"ax\": 0, \"ay\": 20, \"showarrow\": false, \"text\": \"XP Investimentos\", \"x\": -0.833476468558547, \"xref\": \"x\", \"y\": 0.730253481917316, \"yref\": \"y\"}, {\"ax\": 0, \"ay\": 20, \"showarrow\": false, \"text\": \"CEF\", \"x\": 0.6680242042374385, \"xref\": \"x\", \"y\": -0.4793874110609986, \"yref\": \"y\"}, {\"ax\": 0, \"ay\": 20, \"showarrow\": false, \"text\": \"Santander\", \"x\": -0.773500649770293, \"xref\": \"x\", \"y\": -0.0975815886821563, \"yref\": \"y\"}, {\"ax\": 0, \"ay\": 20, \"showarrow\": false, \"text\": \"Bradesco\", \"x\": 1.0, \"xref\": \"x\", \"y\": 0.25385104337580794, \"yref\": \"y\"}, {\"ax\": 0, \"ay\": 20, \"showarrow\": false, \"text\": \"Next\", \"x\": 0.0018928112814978152, \"xref\": \"x\", \"y\": 0.09998193884041451, \"yref\": \"y\"}, {\"ax\": 0, \"ay\": 20, \"showarrow\": false, \"text\": \"Inter\", \"x\": 0.654310755454577, \"xref\": \"x\", \"y\": -0.3116381791314523, \"yref\": \"y\"}, {\"ax\": 0, \"ay\": 20, \"showarrow\": false, \"text\": \"Nubank\", \"x\": -0.9869378181100148, \"xref\": \"x\", \"y\": 0.29636019391582913, \"yref\": \"y\"}, {\"ax\": 0, \"ay\": 20, \"showarrow\": false, \"text\": \"BB\", \"x\": 0.5114242381212085, \"xref\": \"x\", \"y\": -0.5919042643488698, \"yref\": \"y\"}, {\"ax\": 0, \"ay\": 20, \"showarrow\": false, \"text\": \"Itau\", \"x\": -0.38557333693654977, \"xref\": \"x\", \"y\": -0.882697976780302, \"yref\": \"y\"}, {\"ax\": 0, \"ay\": 20, \"showarrow\": false, \"text\": \"XP Investimentos\", \"x\": -0.7272066473198087, \"xref\": \"x\", \"y\": -0.1268677381592995, \"yref\": \"y\"}, {\"ax\": 0, \"ay\": 20, \"showarrow\": false, \"text\": \"CEF\", \"x\": -0.14696002380857265, \"xref\": \"x\", \"y\": 1.0046885110655432, \"yref\": \"y\"}, {\"ax\": 0, \"ay\": 20, \"showarrow\": false, \"text\": \"Santander\", \"x\": 0.07905002131766231, \"xref\": \"x\", \"y\": 0.8955780370318341, \"yref\": \"y\"}, {\"ax\": 0, \"ay\": 20, \"showarrow\": false, \"text\": \"Bradesco\", \"x\": 1.0, \"xref\": \"x\", \"y\": 0.516499477566303, \"yref\": \"y\"}], \"hovermode\": \"closest\", \"margin\": {\"b\": 20, \"l\": 5, \"r\": 5, \"t\": 40}, \"scene\": {\"xaxis\": {\"showbackground\": false, \"showgrid\": false, \"showline\": false, \"showticklabels\": false, \"title\": {\"text\": \"\"}, \"zeroline\": false}, \"yaxis\": {\"showbackground\": false, \"showgrid\": false, \"showline\": false, \"showticklabels\": false, \"title\": {\"text\": \"\"}, \"zeroline\": false}, \"zaxis\": {\"showbackground\": false, \"showgrid\": false, \"showline\": false, \"showticklabels\": false, \"title\": {\"text\": \"\"}, \"zeroline\": false}}, \"showlegend\": false, \"title\": {\"font\": {\"size\": 16}, \"text\": \"coco\"}},\n",
       "                        {\"showLink\": false, \"linkText\": \"Export to plot.ly\", \"plotlyServerURL\": \"https://plot.ly\", \"responsive\": true}\n",
       "                    ).then(function(){\n",
       "                            \n",
       "var gd = document.getElementById('58d6b1fb-c5c3-460e-a3a9-d093ff801b70');\n",
       "var x = new MutationObserver(function (mutations, observer) {{\n",
       "        var display = window.getComputedStyle(gd).display;\n",
       "        if (!display || display === 'none') {{\n",
       "            console.log([gd, 'removed!']);\n",
       "            Plotly.purge(gd);\n",
       "            observer.disconnect();\n",
       "        }}\n",
       "}});\n",
       "\n",
       "// Listen for the removal of the full notebook cells\n",
       "var notebookContainer = gd.closest('#notebook-container');\n",
       "if (notebookContainer) {{\n",
       "    x.observe(notebookContainer, {childList: true});\n",
       "}}\n",
       "\n",
       "// Listen for the clearing of the current output cell\n",
       "var outputEl = gd.closest('.output');\n",
       "if (outputEl) {{\n",
       "    x.observe(outputEl, {childList: true});\n",
       "}}\n",
       "\n",
       "                        })\n",
       "                };\n",
       "                });\n",
       "            </script>\n",
       "        </div>"
      ]
     },
     "metadata": {},
     "output_type": "display_data"
    }
   ],
   "source": [
    "mygraph.plot(title='coco', node_size_col='clientes', node_color_col='clientes')"
   ]
  },
  {
   "cell_type": "code",
   "execution_count": 110,
   "metadata": {},
   "outputs": [
    {
     "data": {
      "application/vnd.plotly.v1+json": {
       "config": {
        "linkText": "Export to plot.ly",
        "plotlyServerURL": "https://plot.ly",
        "responsive": true,
        "showLink": false
       },
       "data": [
        {
         "hoverinfo": "text",
         "marker": {
          "cmax": 234243,
          "cmin": 1,
          "color": [
           "rgb(0, 0, 6)",
           "rgb(35, 17, 82)",
           "rgb(251, 252, 191)",
           "rgb(20, 13, 53)",
           "rgb(0, 0, 3)",
           "rgb(0, 0, 3)",
           "rgb(251, 247, 185)",
           "rgb(0, 0, 3)",
           "rgb(21, 14, 56)"
          ],
          "colorbar": {
           "thickness": 15,
           "title": {
            "side": "right",
            "text": "coco"
           },
           "xanchor": "left"
          },
          "colorscale": "Viridis",
          "line": {
           "width": 2
          },
          "reversescale": true,
          "showscale": false,
          "size": [
           2000,
           35000,
           234243,
           23443,
           2,
           1,
           232323,
           666,
           24433
          ],
          "sizemin": 15,
          "sizemode": "area",
          "sizeref": 187.3944
         },
         "mode": "markers",
         "text": [
          "<b>Next</b><br>clientes: 2000<br>",
          "<b>Inter</b><br>clientes: 35000<br>",
          "<b>Nubank</b><br>clientes: 234243<br>",
          "<b>BB</b><br>clientes: 23443<br>",
          "<b>Itau</b><br>clientes: 2<br>",
          "<b>XP Investimentos</b><br>clientes: 1<br>",
          "<b>CEF</b><br>clientes: 232323<br>",
          "<b>Santander</b><br>clientes: 666<br>",
          "<b>Bradesco</b><br>clientes: 24433<br>"
         ],
         "type": "scatter3d",
         "uid": "0e5bc6cc-741a-4675-ae74-2e0a33d37a53",
         "x": [
          -0.0025989560491212153,
          0.3209222912621613,
          -0.511884671831137,
          -1,
          0.5480293951882516,
          0.5941628687520275,
          -0.3198556942533849,
          -0.4201649401029636,
          0.7913897070341658
         ],
         "y": [
          0.000994159081575078,
          0.5488778587738595,
          -0.5468154352919784,
          0.1687338133371212,
          -0.7696835280884309,
          -0.4270660286390984,
          0.868514284058619,
          -0.43132723152245206,
          0.5877721082907849
         ],
         "z": [
          0.0015185179770685407,
          0.7974878859210306,
          -0.6954601961994582,
          0.10795678735935638,
          0.3870325474168754,
          -0.7181472053899476,
          -0.437387091839995,
          0.8276385845476014,
          -0.2706398297925309
         ]
        },
        {
         "hoverinfo": "none",
         "line": {
          "color": "black",
          "width": 0.5
         },
         "mode": "lines",
         "type": "scatter3d",
         "uid": "ba7cf240-5f44-4f20-b98f-ac6c2e350df0",
         "x": [
          -0.0025989560491212153,
          0.7913897070341658,
          null
         ],
         "y": [
          0.000994159081575078,
          0.5877721082907849,
          null
         ],
         "z": [
          0.0015185179770685407,
          -0.2706398297925309,
          null
         ]
        },
        {
         "hoverinfo": "none",
         "line": {
          "color": "black",
          "width": 0.5
         },
         "mode": "lines",
         "type": "scatter3d",
         "uid": "a7a43fb4-fa40-4567-ae4b-152000a8aeb8",
         "x": [
          -0.0025989560491212153,
          0.3209222912621613,
          null
         ],
         "y": [
          0.000994159081575078,
          0.5488778587738595,
          null
         ],
         "z": [
          0.0015185179770685407,
          0.7974878859210306,
          null
         ]
        },
        {
         "hoverinfo": "none",
         "line": {
          "color": "black",
          "width": 0.5
         },
         "mode": "lines",
         "type": "scatter3d",
         "uid": "de7fe592-c949-4db8-b423-ca029b7795ce",
         "x": [
          -0.0025989560491212153,
          -0.511884671831137,
          null
         ],
         "y": [
          0.000994159081575078,
          -0.5468154352919784,
          null
         ],
         "z": [
          0.0015185179770685407,
          -0.6954601961994582,
          null
         ]
        },
        {
         "hoverinfo": "none",
         "line": {
          "color": "black",
          "width": 0.5
         },
         "mode": "lines",
         "type": "scatter3d",
         "uid": "80f8891b-acf6-493e-9bfa-a9d9e4f3b268",
         "x": [
          -0.0025989560491212153,
          -1,
          null
         ],
         "y": [
          0.000994159081575078,
          0.1687338133371212,
          null
         ],
         "z": [
          0.0015185179770685407,
          0.10795678735935638,
          null
         ]
        },
        {
         "hoverinfo": "none",
         "line": {
          "color": "black",
          "width": 0.5
         },
         "mode": "lines",
         "type": "scatter3d",
         "uid": "0991674a-3d2c-451b-af8e-7bc7d4b93e0f",
         "x": [
          -0.0025989560491212153,
          0.5480293951882516,
          null
         ],
         "y": [
          0.000994159081575078,
          -0.7696835280884309,
          null
         ],
         "z": [
          0.0015185179770685407,
          0.3870325474168754,
          null
         ]
        },
        {
         "hoverinfo": "none",
         "line": {
          "color": "black",
          "width": 0.5
         },
         "mode": "lines",
         "type": "scatter3d",
         "uid": "782763a4-7846-461c-b9fe-687a73c61dfc",
         "x": [
          -0.0025989560491212153,
          0.5941628687520275,
          null
         ],
         "y": [
          0.000994159081575078,
          -0.4270660286390984,
          null
         ],
         "z": [
          0.0015185179770685407,
          -0.7181472053899476,
          null
         ]
        },
        {
         "hoverinfo": "none",
         "line": {
          "color": "black",
          "width": 0.5
         },
         "mode": "lines",
         "type": "scatter3d",
         "uid": "2b289fb1-b0fd-4700-a06b-f03a40a6ad5d",
         "x": [
          -0.0025989560491212153,
          -0.3198556942533849,
          null
         ],
         "y": [
          0.000994159081575078,
          0.868514284058619,
          null
         ],
         "z": [
          0.0015185179770685407,
          -0.437387091839995,
          null
         ]
        },
        {
         "hoverinfo": "none",
         "line": {
          "color": "black",
          "width": 0.5
         },
         "mode": "lines",
         "type": "scatter3d",
         "uid": "a3ad1f6d-018d-4e81-ae35-d996a6ad88a8",
         "x": [
          -0.0025989560491212153,
          -0.4201649401029636,
          null
         ],
         "y": [
          0.000994159081575078,
          -0.43132723152245206,
          null
         ],
         "z": [
          0.0015185179770685407,
          0.8276385845476014,
          null
         ]
        }
       ],
       "layout": {
        "annotations": [
         {
          "ax": 0,
          "ay": 20,
          "showarrow": false,
          "text": "Next",
          "x": 0.0016666058495176878,
          "xref": "x",
          "y": 0.10257688739540723,
          "yref": "y"
         },
         {
          "ax": 0,
          "ay": 20,
          "showarrow": false,
          "text": "Inter",
          "x": -0.7494228863723494,
          "xref": "x",
          "y": 0.3939670307321823,
          "yref": "y"
         },
         {
          "ax": 0,
          "ay": 20,
          "showarrow": false,
          "text": "Nubank",
          "x": -0.6725828691390812,
          "xref": "x",
          "y": 0.36675178251734963,
          "yref": "y"
         },
         {
          "ax": 0,
          "ay": 20,
          "showarrow": false,
          "text": "BB",
          "x": -0.010204574428677822,
          "xref": "x",
          "y": -0.4800950520498469,
          "yref": "y"
         },
         {
          "ax": 0,
          "ay": 20,
          "showarrow": false,
          "text": "Itau",
          "x": 0.04274399207493556,
          "xref": "x",
          "y": 1.1,
          "yref": "y"
         },
         {
          "ax": 0,
          "ay": 20,
          "showarrow": false,
          "text": "XP Investimentos",
          "x": -0.5744903404808466,
          "xref": "x",
          "y": -0.6750175897504458,
          "yref": "y"
         },
         {
          "ax": 0,
          "ay": 20,
          "showarrow": false,
          "text": "CEF",
          "x": 0.7851455772727861,
          "xref": "x",
          "y": 0.3780151176924571,
          "yref": "y"
         },
         {
          "ax": 0,
          "ay": 20,
          "showarrow": false,
          "text": "Santander",
          "x": 0.646560477327721,
          "xref": "x",
          "y": -0.6252489928640931,
          "yref": "y"
         },
         {
          "ax": 0,
          "ay": 20,
          "showarrow": false,
          "text": "Bradesco",
          "x": 0.5305840178959949,
          "xref": "x",
          "y": 0.3390508163269881,
          "yref": "y"
         },
         {
          "ax": 0,
          "ay": 20,
          "showarrow": false,
          "text": "Next",
          "x": -0.0014735286389408577,
          "xref": "x",
          "y": 0.10175574836038487,
          "yref": "y"
         },
         {
          "ax": 0,
          "ay": 20,
          "showarrow": false,
          "text": "Inter",
          "x": 0.3421074683310514,
          "xref": "x",
          "y": 0.7866465593746874,
          "yref": "y"
         },
         {
          "ax": 0,
          "ay": 20,
          "showarrow": false,
          "text": "Nubank",
          "x": -0.6163412442023941,
          "xref": "x",
          "y": -0.4862339906145514,
          "yref": "y"
         },
         {
          "ax": 0,
          "ay": 20,
          "showarrow": false,
          "text": "BB",
          "x": 0.053544963921672,
          "xref": "x",
          "y": 0.9245812967353872,
          "yref": "y"
         },
         {
          "ax": 0,
          "ay": 20,
          "showarrow": false,
          "text": "Itau",
          "x": 0.16111525468001198,
          "xref": "x",
          "y": -0.8338851394058794,
          "yref": "y"
         },
         {
          "ax": 0,
          "ay": 20,
          "showarrow": false,
          "text": "XP Investimentos",
          "x": -0.833476468558547,
          "xref": "x",
          "y": 0.730253481917316,
          "yref": "y"
         },
         {
          "ax": 0,
          "ay": 20,
          "showarrow": false,
          "text": "CEF",
          "x": 0.6680242042374385,
          "xref": "x",
          "y": -0.4793874110609986,
          "yref": "y"
         },
         {
          "ax": 0,
          "ay": 20,
          "showarrow": false,
          "text": "Santander",
          "x": -0.773500649770293,
          "xref": "x",
          "y": -0.0975815886821563,
          "yref": "y"
         },
         {
          "ax": 0,
          "ay": 20,
          "showarrow": false,
          "text": "Bradesco",
          "x": 1,
          "xref": "x",
          "y": 0.25385104337580794,
          "yref": "y"
         },
         {
          "ax": 0,
          "ay": 20,
          "showarrow": false,
          "text": "Next",
          "x": 0.0018928112814978152,
          "xref": "x",
          "y": 0.09998193884041451,
          "yref": "y"
         },
         {
          "ax": 0,
          "ay": 20,
          "showarrow": false,
          "text": "Inter",
          "x": 0.654310755454577,
          "xref": "x",
          "y": -0.3116381791314523,
          "yref": "y"
         },
         {
          "ax": 0,
          "ay": 20,
          "showarrow": false,
          "text": "Nubank",
          "x": -0.9869378181100148,
          "xref": "x",
          "y": 0.29636019391582913,
          "yref": "y"
         },
         {
          "ax": 0,
          "ay": 20,
          "showarrow": false,
          "text": "BB",
          "x": 0.5114242381212085,
          "xref": "x",
          "y": -0.5919042643488698,
          "yref": "y"
         },
         {
          "ax": 0,
          "ay": 20,
          "showarrow": false,
          "text": "Itau",
          "x": -0.38557333693654977,
          "xref": "x",
          "y": -0.882697976780302,
          "yref": "y"
         },
         {
          "ax": 0,
          "ay": 20,
          "showarrow": false,
          "text": "XP Investimentos",
          "x": -0.7272066473198087,
          "xref": "x",
          "y": -0.1268677381592995,
          "yref": "y"
         },
         {
          "ax": 0,
          "ay": 20,
          "showarrow": false,
          "text": "CEF",
          "x": -0.14696002380857265,
          "xref": "x",
          "y": 1.0046885110655432,
          "yref": "y"
         },
         {
          "ax": 0,
          "ay": 20,
          "showarrow": false,
          "text": "Santander",
          "x": 0.07905002131766231,
          "xref": "x",
          "y": 0.8955780370318341,
          "yref": "y"
         },
         {
          "ax": 0,
          "ay": 20,
          "showarrow": false,
          "text": "Bradesco",
          "x": 1,
          "xref": "x",
          "y": 0.516499477566303,
          "yref": "y"
         },
         {
          "ax": 0,
          "ay": 20,
          "showarrow": false,
          "text": "Next",
          "x": -0.0025989560491212153,
          "xref": "x",
          "y": 0.10099415908157508,
          "yref": "y"
         },
         {
          "ax": 0,
          "ay": 20,
          "showarrow": false,
          "text": "Inter",
          "x": 0.3209222912621613,
          "xref": "x",
          "y": 0.6488778587738595,
          "yref": "y"
         },
         {
          "ax": 0,
          "ay": 20,
          "showarrow": false,
          "text": "Nubank",
          "x": -0.511884671831137,
          "xref": "x",
          "y": -0.4468154352919784,
          "yref": "y"
         },
         {
          "ax": 0,
          "ay": 20,
          "showarrow": false,
          "text": "BB",
          "x": -1,
          "xref": "x",
          "y": 0.2687338133371212,
          "yref": "y"
         },
         {
          "ax": 0,
          "ay": 20,
          "showarrow": false,
          "text": "Itau",
          "x": 0.5480293951882516,
          "xref": "x",
          "y": -0.6696835280884309,
          "yref": "y"
         },
         {
          "ax": 0,
          "ay": 20,
          "showarrow": false,
          "text": "XP Investimentos",
          "x": 0.5941628687520275,
          "xref": "x",
          "y": -0.3270660286390984,
          "yref": "y"
         },
         {
          "ax": 0,
          "ay": 20,
          "showarrow": false,
          "text": "CEF",
          "x": -0.3198556942533849,
          "xref": "x",
          "y": 0.968514284058619,
          "yref": "y"
         },
         {
          "ax": 0,
          "ay": 20,
          "showarrow": false,
          "text": "Santander",
          "x": -0.4201649401029636,
          "xref": "x",
          "y": -0.331327231522452,
          "yref": "y"
         },
         {
          "ax": 0,
          "ay": 20,
          "showarrow": false,
          "text": "Bradesco",
          "x": 0.7913897070341658,
          "xref": "x",
          "y": 0.6877721082907848,
          "yref": "y"
         }
        ],
        "hovermode": "closest",
        "margin": {
         "b": 20,
         "l": 5,
         "r": 5,
         "t": 40
        },
        "scene": {
         "xaxis": {
          "showbackground": false,
          "showgrid": false,
          "showline": false,
          "showticklabels": false,
          "title": {
           "text": ""
          },
          "zeroline": false
         },
         "yaxis": {
          "showbackground": false,
          "showgrid": false,
          "showline": false,
          "showticklabels": false,
          "title": {
           "text": ""
          },
          "zeroline": false
         },
         "zaxis": {
          "showbackground": false,
          "showgrid": false,
          "showline": false,
          "showticklabels": false,
          "title": {
           "text": ""
          },
          "zeroline": false
         }
        },
        "showlegend": false,
        "title": {
         "font": {
          "size": 16
         },
         "text": "coco"
        }
       }
      },
      "text/html": [
       "<div>\n",
       "        \n",
       "        \n",
       "            <div id=\"f5e7d0e4-41b5-4bc3-92d8-ccc39449a7d7\" class=\"plotly-graph-div\" style=\"height:525px; width:100%;\"></div>\n",
       "            <script type=\"text/javascript\">\n",
       "                require([\"plotly\"], function(Plotly) {\n",
       "                    window.PLOTLYENV=window.PLOTLYENV || {};\n",
       "                    window.PLOTLYENV.BASE_URL='https://plot.ly';\n",
       "                    \n",
       "                if (document.getElementById(\"f5e7d0e4-41b5-4bc3-92d8-ccc39449a7d7\")) {\n",
       "                    Plotly.newPlot(\n",
       "                        'f5e7d0e4-41b5-4bc3-92d8-ccc39449a7d7',\n",
       "                        [{\"hoverinfo\": \"text\", \"marker\": {\"cmax\": 234243, \"cmin\": 1, \"color\": [\"rgb(0, 0, 6)\", \"rgb(35, 17, 82)\", \"rgb(251, 252, 191)\", \"rgb(20, 13, 53)\", \"rgb(0, 0, 3)\", \"rgb(0, 0, 3)\", \"rgb(251, 247, 185)\", \"rgb(0, 0, 3)\", \"rgb(21, 14, 56)\"], \"colorbar\": {\"thickness\": 15, \"title\": {\"side\": \"right\", \"text\": \"coco\"}, \"xanchor\": \"left\"}, \"colorscale\": \"Viridis\", \"line\": {\"width\": 2}, \"reversescale\": true, \"showscale\": false, \"size\": [2000, 35000, 234243, 23443, 2, 1, 232323, 666, 24433], \"sizemin\": 15, \"sizemode\": \"area\", \"sizeref\": 187.3944}, \"mode\": \"markers\", \"text\": [\"<b>Next</b><br>clientes: 2000<br>\", \"<b>Inter</b><br>clientes: 35000<br>\", \"<b>Nubank</b><br>clientes: 234243<br>\", \"<b>BB</b><br>clientes: 23443<br>\", \"<b>Itau</b><br>clientes: 2<br>\", \"<b>XP Investimentos</b><br>clientes: 1<br>\", \"<b>CEF</b><br>clientes: 232323<br>\", \"<b>Santander</b><br>clientes: 666<br>\", \"<b>Bradesco</b><br>clientes: 24433<br>\"], \"type\": \"scatter3d\", \"uid\": \"69e37abc-40b3-465e-b53d-aaae91c2fa3f\", \"x\": [-0.0025989560491212153, 0.3209222912621613, -0.511884671831137, -1.0, 0.5480293951882516, 0.5941628687520275, -0.3198556942533849, -0.4201649401029636, 0.7913897070341658], \"y\": [0.000994159081575078, 0.5488778587738595, -0.5468154352919784, 0.1687338133371212, -0.7696835280884309, -0.4270660286390984, 0.868514284058619, -0.43132723152245206, 0.5877721082907849], \"z\": [0.0015185179770685407, 0.7974878859210306, -0.6954601961994582, 0.10795678735935638, 0.3870325474168754, -0.7181472053899476, -0.437387091839995, 0.8276385845476014, -0.2706398297925309]}, {\"hoverinfo\": \"none\", \"line\": {\"color\": \"black\", \"width\": 0.5}, \"mode\": \"lines\", \"type\": \"scatter3d\", \"uid\": \"3befb8bc-3e2d-491b-95b7-ae980a411d8f\", \"x\": [-0.0025989560491212153, 0.7913897070341658, null], \"y\": [0.000994159081575078, 0.5877721082907849, null], \"z\": [0.0015185179770685407, -0.2706398297925309, null]}, {\"hoverinfo\": \"none\", \"line\": {\"color\": \"black\", \"width\": 0.5}, \"mode\": \"lines\", \"type\": \"scatter3d\", \"uid\": \"cedebb70-e135-445a-a790-8ff484d2f6f9\", \"x\": [-0.0025989560491212153, 0.3209222912621613, null], \"y\": [0.000994159081575078, 0.5488778587738595, null], \"z\": [0.0015185179770685407, 0.7974878859210306, null]}, {\"hoverinfo\": \"none\", \"line\": {\"color\": \"black\", \"width\": 0.5}, \"mode\": \"lines\", \"type\": \"scatter3d\", \"uid\": \"472d2b47-9406-4c9d-98fe-f84d140a3da7\", \"x\": [-0.0025989560491212153, -0.511884671831137, null], \"y\": [0.000994159081575078, -0.5468154352919784, null], \"z\": [0.0015185179770685407, -0.6954601961994582, null]}, {\"hoverinfo\": \"none\", \"line\": {\"color\": \"black\", \"width\": 0.5}, \"mode\": \"lines\", \"type\": \"scatter3d\", \"uid\": \"bbd55d26-2415-45f3-821b-55d67eed6683\", \"x\": [-0.0025989560491212153, -1.0, null], \"y\": [0.000994159081575078, 0.1687338133371212, null], \"z\": [0.0015185179770685407, 0.10795678735935638, null]}, {\"hoverinfo\": \"none\", \"line\": {\"color\": \"black\", \"width\": 0.5}, \"mode\": \"lines\", \"type\": \"scatter3d\", \"uid\": \"bbeab7fa-e682-464b-aae4-7ce301b6bdd9\", \"x\": [-0.0025989560491212153, 0.5480293951882516, null], \"y\": [0.000994159081575078, -0.7696835280884309, null], \"z\": [0.0015185179770685407, 0.3870325474168754, null]}, {\"hoverinfo\": \"none\", \"line\": {\"color\": \"black\", \"width\": 0.5}, \"mode\": \"lines\", \"type\": \"scatter3d\", \"uid\": \"4729e9d9-b8e9-43dd-b16b-6618d8bf679b\", \"x\": [-0.0025989560491212153, 0.5941628687520275, null], \"y\": [0.000994159081575078, -0.4270660286390984, null], \"z\": [0.0015185179770685407, -0.7181472053899476, null]}, {\"hoverinfo\": \"none\", \"line\": {\"color\": \"black\", \"width\": 0.5}, \"mode\": \"lines\", \"type\": \"scatter3d\", \"uid\": \"0a2a6958-c241-45c0-84a4-909df10148ca\", \"x\": [-0.0025989560491212153, -0.3198556942533849, null], \"y\": [0.000994159081575078, 0.868514284058619, null], \"z\": [0.0015185179770685407, -0.437387091839995, null]}, {\"hoverinfo\": \"none\", \"line\": {\"color\": \"black\", \"width\": 0.5}, \"mode\": \"lines\", \"type\": \"scatter3d\", \"uid\": \"df3159f6-84fd-40bf-9add-a17954307fef\", \"x\": [-0.0025989560491212153, -0.4201649401029636, null], \"y\": [0.000994159081575078, -0.43132723152245206, null], \"z\": [0.0015185179770685407, 0.8276385845476014, null]}],\n",
       "                        {\"annotations\": [{\"ax\": 0, \"ay\": 20, \"showarrow\": false, \"text\": \"Next\", \"x\": 0.0016666058495176878, \"xref\": \"x\", \"y\": 0.10257688739540723, \"yref\": \"y\"}, {\"ax\": 0, \"ay\": 20, \"showarrow\": false, \"text\": \"Inter\", \"x\": -0.7494228863723494, \"xref\": \"x\", \"y\": 0.3939670307321823, \"yref\": \"y\"}, {\"ax\": 0, \"ay\": 20, \"showarrow\": false, \"text\": \"Nubank\", \"x\": -0.6725828691390812, \"xref\": \"x\", \"y\": 0.36675178251734963, \"yref\": \"y\"}, {\"ax\": 0, \"ay\": 20, \"showarrow\": false, \"text\": \"BB\", \"x\": -0.010204574428677822, \"xref\": \"x\", \"y\": -0.4800950520498469, \"yref\": \"y\"}, {\"ax\": 0, \"ay\": 20, \"showarrow\": false, \"text\": \"Itau\", \"x\": 0.04274399207493556, \"xref\": \"x\", \"y\": 1.1, \"yref\": \"y\"}, {\"ax\": 0, \"ay\": 20, \"showarrow\": false, \"text\": \"XP Investimentos\", \"x\": -0.5744903404808466, \"xref\": \"x\", \"y\": -0.6750175897504458, \"yref\": \"y\"}, {\"ax\": 0, \"ay\": 20, \"showarrow\": false, \"text\": \"CEF\", \"x\": 0.7851455772727861, \"xref\": \"x\", \"y\": 0.3780151176924571, \"yref\": \"y\"}, {\"ax\": 0, \"ay\": 20, \"showarrow\": false, \"text\": \"Santander\", \"x\": 0.646560477327721, \"xref\": \"x\", \"y\": -0.6252489928640931, \"yref\": \"y\"}, {\"ax\": 0, \"ay\": 20, \"showarrow\": false, \"text\": \"Bradesco\", \"x\": 0.5305840178959949, \"xref\": \"x\", \"y\": 0.3390508163269881, \"yref\": \"y\"}, {\"ax\": 0, \"ay\": 20, \"showarrow\": false, \"text\": \"Next\", \"x\": -0.0014735286389408577, \"xref\": \"x\", \"y\": 0.10175574836038487, \"yref\": \"y\"}, {\"ax\": 0, \"ay\": 20, \"showarrow\": false, \"text\": \"Inter\", \"x\": 0.3421074683310514, \"xref\": \"x\", \"y\": 0.7866465593746874, \"yref\": \"y\"}, {\"ax\": 0, \"ay\": 20, \"showarrow\": false, \"text\": \"Nubank\", \"x\": -0.6163412442023941, \"xref\": \"x\", \"y\": -0.4862339906145514, \"yref\": \"y\"}, {\"ax\": 0, \"ay\": 20, \"showarrow\": false, \"text\": \"BB\", \"x\": 0.053544963921672, \"xref\": \"x\", \"y\": 0.9245812967353872, \"yref\": \"y\"}, {\"ax\": 0, \"ay\": 20, \"showarrow\": false, \"text\": \"Itau\", \"x\": 0.16111525468001198, \"xref\": \"x\", \"y\": -0.8338851394058794, \"yref\": \"y\"}, {\"ax\": 0, \"ay\": 20, \"showarrow\": false, \"text\": \"XP Investimentos\", \"x\": -0.833476468558547, \"xref\": \"x\", \"y\": 0.730253481917316, \"yref\": \"y\"}, {\"ax\": 0, \"ay\": 20, \"showarrow\": false, \"text\": \"CEF\", \"x\": 0.6680242042374385, \"xref\": \"x\", \"y\": -0.4793874110609986, \"yref\": \"y\"}, {\"ax\": 0, \"ay\": 20, \"showarrow\": false, \"text\": \"Santander\", \"x\": -0.773500649770293, \"xref\": \"x\", \"y\": -0.0975815886821563, \"yref\": \"y\"}, {\"ax\": 0, \"ay\": 20, \"showarrow\": false, \"text\": \"Bradesco\", \"x\": 1.0, \"xref\": \"x\", \"y\": 0.25385104337580794, \"yref\": \"y\"}, {\"ax\": 0, \"ay\": 20, \"showarrow\": false, \"text\": \"Next\", \"x\": 0.0018928112814978152, \"xref\": \"x\", \"y\": 0.09998193884041451, \"yref\": \"y\"}, {\"ax\": 0, \"ay\": 20, \"showarrow\": false, \"text\": \"Inter\", \"x\": 0.654310755454577, \"xref\": \"x\", \"y\": -0.3116381791314523, \"yref\": \"y\"}, {\"ax\": 0, \"ay\": 20, \"showarrow\": false, \"text\": \"Nubank\", \"x\": -0.9869378181100148, \"xref\": \"x\", \"y\": 0.29636019391582913, \"yref\": \"y\"}, {\"ax\": 0, \"ay\": 20, \"showarrow\": false, \"text\": \"BB\", \"x\": 0.5114242381212085, \"xref\": \"x\", \"y\": -0.5919042643488698, \"yref\": \"y\"}, {\"ax\": 0, \"ay\": 20, \"showarrow\": false, \"text\": \"Itau\", \"x\": -0.38557333693654977, \"xref\": \"x\", \"y\": -0.882697976780302, \"yref\": \"y\"}, {\"ax\": 0, \"ay\": 20, \"showarrow\": false, \"text\": \"XP Investimentos\", \"x\": -0.7272066473198087, \"xref\": \"x\", \"y\": -0.1268677381592995, \"yref\": \"y\"}, {\"ax\": 0, \"ay\": 20, \"showarrow\": false, \"text\": \"CEF\", \"x\": -0.14696002380857265, \"xref\": \"x\", \"y\": 1.0046885110655432, \"yref\": \"y\"}, {\"ax\": 0, \"ay\": 20, \"showarrow\": false, \"text\": \"Santander\", \"x\": 0.07905002131766231, \"xref\": \"x\", \"y\": 0.8955780370318341, \"yref\": \"y\"}, {\"ax\": 0, \"ay\": 20, \"showarrow\": false, \"text\": \"Bradesco\", \"x\": 1.0, \"xref\": \"x\", \"y\": 0.516499477566303, \"yref\": \"y\"}, {\"ax\": 0, \"ay\": 20, \"showarrow\": false, \"text\": \"Next\", \"x\": -0.0025989560491212153, \"xref\": \"x\", \"y\": 0.10099415908157508, \"yref\": \"y\"}, {\"ax\": 0, \"ay\": 20, \"showarrow\": false, \"text\": \"Inter\", \"x\": 0.3209222912621613, \"xref\": \"x\", \"y\": 0.6488778587738595, \"yref\": \"y\"}, {\"ax\": 0, \"ay\": 20, \"showarrow\": false, \"text\": \"Nubank\", \"x\": -0.511884671831137, \"xref\": \"x\", \"y\": -0.4468154352919784, \"yref\": \"y\"}, {\"ax\": 0, \"ay\": 20, \"showarrow\": false, \"text\": \"BB\", \"x\": -1.0, \"xref\": \"x\", \"y\": 0.2687338133371212, \"yref\": \"y\"}, {\"ax\": 0, \"ay\": 20, \"showarrow\": false, \"text\": \"Itau\", \"x\": 0.5480293951882516, \"xref\": \"x\", \"y\": -0.6696835280884309, \"yref\": \"y\"}, {\"ax\": 0, \"ay\": 20, \"showarrow\": false, \"text\": \"XP Investimentos\", \"x\": 0.5941628687520275, \"xref\": \"x\", \"y\": -0.3270660286390984, \"yref\": \"y\"}, {\"ax\": 0, \"ay\": 20, \"showarrow\": false, \"text\": \"CEF\", \"x\": -0.3198556942533849, \"xref\": \"x\", \"y\": 0.968514284058619, \"yref\": \"y\"}, {\"ax\": 0, \"ay\": 20, \"showarrow\": false, \"text\": \"Santander\", \"x\": -0.4201649401029636, \"xref\": \"x\", \"y\": -0.331327231522452, \"yref\": \"y\"}, {\"ax\": 0, \"ay\": 20, \"showarrow\": false, \"text\": \"Bradesco\", \"x\": 0.7913897070341658, \"xref\": \"x\", \"y\": 0.6877721082907848, \"yref\": \"y\"}], \"hovermode\": \"closest\", \"margin\": {\"b\": 20, \"l\": 5, \"r\": 5, \"t\": 40}, \"scene\": {\"xaxis\": {\"showbackground\": false, \"showgrid\": false, \"showline\": false, \"showticklabels\": false, \"title\": {\"text\": \"\"}, \"zeroline\": false}, \"yaxis\": {\"showbackground\": false, \"showgrid\": false, \"showline\": false, \"showticklabels\": false, \"title\": {\"text\": \"\"}, \"zeroline\": false}, \"zaxis\": {\"showbackground\": false, \"showgrid\": false, \"showline\": false, \"showticklabels\": false, \"title\": {\"text\": \"\"}, \"zeroline\": false}}, \"showlegend\": false, \"title\": {\"font\": {\"size\": 16}, \"text\": \"coco\"}},\n",
       "                        {\"showLink\": false, \"linkText\": \"Export to plot.ly\", \"plotlyServerURL\": \"https://plot.ly\", \"responsive\": true}\n",
       "                    ).then(function(){\n",
       "                            \n",
       "var gd = document.getElementById('f5e7d0e4-41b5-4bc3-92d8-ccc39449a7d7');\n",
       "var x = new MutationObserver(function (mutations, observer) {{\n",
       "        var display = window.getComputedStyle(gd).display;\n",
       "        if (!display || display === 'none') {{\n",
       "            console.log([gd, 'removed!']);\n",
       "            Plotly.purge(gd);\n",
       "            observer.disconnect();\n",
       "        }}\n",
       "}});\n",
       "\n",
       "// Listen for the removal of the full notebook cells\n",
       "var notebookContainer = gd.closest('#notebook-container');\n",
       "if (notebookContainer) {{\n",
       "    x.observe(notebookContainer, {childList: true});\n",
       "}}\n",
       "\n",
       "// Listen for the clearing of the current output cell\n",
       "var outputEl = gd.closest('.output');\n",
       "if (outputEl) {{\n",
       "    x.observe(outputEl, {childList: true});\n",
       "}}\n",
       "\n",
       "                        })\n",
       "                };\n",
       "                });\n",
       "            </script>\n",
       "        </div>"
      ]
     },
     "metadata": {},
     "output_type": "display_data"
    }
   ],
   "source": [
    "mygraph.plot(title='coco', node_size_col='clientes', node_color_col='clientes', hover_col='clientes')"
   ]
  },
  {
   "cell_type": "code",
   "execution_count": 111,
   "metadata": {},
   "outputs": [
    {
     "data": {
      "application/vnd.plotly.v1+json": {
       "config": {
        "linkText": "Export to plot.ly",
        "plotlyServerURL": "https://plot.ly",
        "responsive": true,
        "showLink": false
       },
       "data": [
        {
         "hoverinfo": "text",
         "marker": {
          "cmax": 234243,
          "cmin": 1,
          "color": [
           "rgb(0, 0, 6)",
           "rgb(35, 17, 82)",
           "rgb(251, 252, 191)",
           "rgb(20, 13, 53)",
           "rgb(0, 0, 3)",
           "rgb(0, 0, 3)",
           "rgb(251, 247, 185)",
           "rgb(0, 0, 3)",
           "rgb(21, 14, 56)"
          ],
          "colorbar": {
           "thickness": 15,
           "title": {
            "side": "right",
            "text": "coco"
           },
           "xanchor": "left"
          },
          "colorscale": "Viridis",
          "line": {
           "width": 2
          },
          "reversescale": true,
          "showscale": false,
          "size": [
           2000,
           35000,
           234243,
           23443,
           2,
           1,
           232323,
           666,
           24433
          ],
          "sizemin": 15,
          "sizemode": "area",
          "sizeref": 187.3944
         },
         "mode": "markers",
         "text": [
          "<b>Next</b><br>clientes: 2000<br>",
          "<b>Inter</b><br>clientes: 35000<br>",
          "<b>Nubank</b><br>clientes: 234243<br>",
          "<b>BB</b><br>clientes: 23443<br>",
          "<b>Itau</b><br>clientes: 2<br>",
          "<b>XP Investimentos</b><br>clientes: 1<br>",
          "<b>CEF</b><br>clientes: 232323<br>",
          "<b>Santander</b><br>clientes: 666<br>",
          "<b>Bradesco</b><br>clientes: 24433<br>"
         ],
         "type": "scatter3d",
         "uid": "edce7121-4f30-4f38-8abd-a9663a0eb266",
         "x": [
          -0.0030199979996173576,
          0.5670502502594484,
          -0.9536909896512057,
          -0.45109241046149695,
          0.5654433547801657,
          0.889065212479466,
          0.10552512550355299,
          -0.2737103931722155,
          -0.4455701517380983
         ],
         "y": [
          0.0013706355772508617,
          0.7645824806046985,
          -0.40153686174746944,
          0.15008482109981458,
          -0.5254475090019842,
          0.0654977618551325,
          -0.9909357397137253,
          0.032513071345764054,
          0.9038713399805194
         ],
         "z": [
          -0.0001553489130803427,
          0.4127122103609051,
          0.023115268690978272,
          0.9194000617271829,
          0.6933172783493345,
          -0.5299176746927071,
          -0.2972783887412356,
          -1,
          -0.221193406781379
         ]
        },
        {
         "hoverinfo": "none",
         "line": {
          "color": "black",
          "width": 0.5
         },
         "mode": "lines",
         "type": "scatter3d",
         "uid": "d1a841a1-27f0-4041-b1e7-8dfa534f45de",
         "x": [
          -0.0030199979996173576,
          -0.4455701517380983,
          null
         ],
         "y": [
          0.0013706355772508617,
          0.9038713399805194,
          null
         ],
         "z": [
          -0.0001553489130803427,
          -0.221193406781379,
          null
         ]
        },
        {
         "hoverinfo": "none",
         "line": {
          "color": "black",
          "width": 0.5
         },
         "mode": "lines",
         "type": "scatter3d",
         "uid": "59f43d2a-350d-4eab-8c83-7336b317f6bb",
         "x": [
          -0.0030199979996173576,
          0.5670502502594484,
          null
         ],
         "y": [
          0.0013706355772508617,
          0.7645824806046985,
          null
         ],
         "z": [
          -0.0001553489130803427,
          0.4127122103609051,
          null
         ]
        },
        {
         "hoverinfo": "none",
         "line": {
          "color": "black",
          "width": 0.5
         },
         "mode": "lines",
         "type": "scatter3d",
         "uid": "37d22dec-e698-42d4-8dca-a617151346f8",
         "x": [
          -0.0030199979996173576,
          -0.9536909896512057,
          null
         ],
         "y": [
          0.0013706355772508617,
          -0.40153686174746944,
          null
         ],
         "z": [
          -0.0001553489130803427,
          0.023115268690978272,
          null
         ]
        },
        {
         "hoverinfo": "none",
         "line": {
          "color": "black",
          "width": 0.5
         },
         "mode": "lines",
         "type": "scatter3d",
         "uid": "cae5cf2a-714f-49bf-b68b-3f998a44a9ad",
         "x": [
          -0.0030199979996173576,
          -0.45109241046149695,
          null
         ],
         "y": [
          0.0013706355772508617,
          0.15008482109981458,
          null
         ],
         "z": [
          -0.0001553489130803427,
          0.9194000617271829,
          null
         ]
        },
        {
         "hoverinfo": "none",
         "line": {
          "color": "black",
          "width": 0.5
         },
         "mode": "lines",
         "type": "scatter3d",
         "uid": "96dd31b7-22a4-42f5-b218-8756f240c6be",
         "x": [
          -0.0030199979996173576,
          0.5654433547801657,
          null
         ],
         "y": [
          0.0013706355772508617,
          -0.5254475090019842,
          null
         ],
         "z": [
          -0.0001553489130803427,
          0.6933172783493345,
          null
         ]
        },
        {
         "hoverinfo": "none",
         "line": {
          "color": "black",
          "width": 0.5
         },
         "mode": "lines",
         "type": "scatter3d",
         "uid": "4340cef1-602c-4ef5-a44f-5a800561b5e4",
         "x": [
          -0.0030199979996173576,
          0.889065212479466,
          null
         ],
         "y": [
          0.0013706355772508617,
          0.0654977618551325,
          null
         ],
         "z": [
          -0.0001553489130803427,
          -0.5299176746927071,
          null
         ]
        },
        {
         "hoverinfo": "none",
         "line": {
          "color": "black",
          "width": 0.5
         },
         "mode": "lines",
         "type": "scatter3d",
         "uid": "69f7a1a7-21bb-47f1-b17a-bde43c3bfb87",
         "x": [
          -0.0030199979996173576,
          0.10552512550355299,
          null
         ],
         "y": [
          0.0013706355772508617,
          -0.9909357397137253,
          null
         ],
         "z": [
          -0.0001553489130803427,
          -0.2972783887412356,
          null
         ]
        },
        {
         "hoverinfo": "none",
         "line": {
          "color": "black",
          "width": 0.5
         },
         "mode": "lines",
         "type": "scatter3d",
         "uid": "5c7fc9e7-6227-4524-8d30-80983f92d957",
         "x": [
          -0.0030199979996173576,
          -0.2737103931722155,
          null
         ],
         "y": [
          0.0013706355772508617,
          0.032513071345764054,
          null
         ],
         "z": [
          -0.0001553489130803427,
          -1,
          null
         ]
        }
       ],
       "layout": {
        "annotations": [
         {
          "ax": 0,
          "ay": 20,
          "showarrow": false,
          "text": "Next",
          "x": 0.0016666058495176878,
          "xref": "x",
          "y": 0.10257688739540723,
          "yref": "y"
         },
         {
          "ax": 0,
          "ay": 20,
          "showarrow": false,
          "text": "Inter",
          "x": -0.7494228863723494,
          "xref": "x",
          "y": 0.3939670307321823,
          "yref": "y"
         },
         {
          "ax": 0,
          "ay": 20,
          "showarrow": false,
          "text": "Nubank",
          "x": -0.6725828691390812,
          "xref": "x",
          "y": 0.36675178251734963,
          "yref": "y"
         },
         {
          "ax": 0,
          "ay": 20,
          "showarrow": false,
          "text": "BB",
          "x": -0.010204574428677822,
          "xref": "x",
          "y": -0.4800950520498469,
          "yref": "y"
         },
         {
          "ax": 0,
          "ay": 20,
          "showarrow": false,
          "text": "Itau",
          "x": 0.04274399207493556,
          "xref": "x",
          "y": 1.1,
          "yref": "y"
         },
         {
          "ax": 0,
          "ay": 20,
          "showarrow": false,
          "text": "XP Investimentos",
          "x": -0.5744903404808466,
          "xref": "x",
          "y": -0.6750175897504458,
          "yref": "y"
         },
         {
          "ax": 0,
          "ay": 20,
          "showarrow": false,
          "text": "CEF",
          "x": 0.7851455772727861,
          "xref": "x",
          "y": 0.3780151176924571,
          "yref": "y"
         },
         {
          "ax": 0,
          "ay": 20,
          "showarrow": false,
          "text": "Santander",
          "x": 0.646560477327721,
          "xref": "x",
          "y": -0.6252489928640931,
          "yref": "y"
         },
         {
          "ax": 0,
          "ay": 20,
          "showarrow": false,
          "text": "Bradesco",
          "x": 0.5305840178959949,
          "xref": "x",
          "y": 0.3390508163269881,
          "yref": "y"
         },
         {
          "ax": 0,
          "ay": 20,
          "showarrow": false,
          "text": "Next",
          "x": -0.0014735286389408577,
          "xref": "x",
          "y": 0.10175574836038487,
          "yref": "y"
         },
         {
          "ax": 0,
          "ay": 20,
          "showarrow": false,
          "text": "Inter",
          "x": 0.3421074683310514,
          "xref": "x",
          "y": 0.7866465593746874,
          "yref": "y"
         },
         {
          "ax": 0,
          "ay": 20,
          "showarrow": false,
          "text": "Nubank",
          "x": -0.6163412442023941,
          "xref": "x",
          "y": -0.4862339906145514,
          "yref": "y"
         },
         {
          "ax": 0,
          "ay": 20,
          "showarrow": false,
          "text": "BB",
          "x": 0.053544963921672,
          "xref": "x",
          "y": 0.9245812967353872,
          "yref": "y"
         },
         {
          "ax": 0,
          "ay": 20,
          "showarrow": false,
          "text": "Itau",
          "x": 0.16111525468001198,
          "xref": "x",
          "y": -0.8338851394058794,
          "yref": "y"
         },
         {
          "ax": 0,
          "ay": 20,
          "showarrow": false,
          "text": "XP Investimentos",
          "x": -0.833476468558547,
          "xref": "x",
          "y": 0.730253481917316,
          "yref": "y"
         },
         {
          "ax": 0,
          "ay": 20,
          "showarrow": false,
          "text": "CEF",
          "x": 0.6680242042374385,
          "xref": "x",
          "y": -0.4793874110609986,
          "yref": "y"
         },
         {
          "ax": 0,
          "ay": 20,
          "showarrow": false,
          "text": "Santander",
          "x": -0.773500649770293,
          "xref": "x",
          "y": -0.0975815886821563,
          "yref": "y"
         },
         {
          "ax": 0,
          "ay": 20,
          "showarrow": false,
          "text": "Bradesco",
          "x": 1,
          "xref": "x",
          "y": 0.25385104337580794,
          "yref": "y"
         },
         {
          "ax": 0,
          "ay": 20,
          "showarrow": false,
          "text": "Next",
          "x": 0.0018928112814978152,
          "xref": "x",
          "y": 0.09998193884041451,
          "yref": "y"
         },
         {
          "ax": 0,
          "ay": 20,
          "showarrow": false,
          "text": "Inter",
          "x": 0.654310755454577,
          "xref": "x",
          "y": -0.3116381791314523,
          "yref": "y"
         },
         {
          "ax": 0,
          "ay": 20,
          "showarrow": false,
          "text": "Nubank",
          "x": -0.9869378181100148,
          "xref": "x",
          "y": 0.29636019391582913,
          "yref": "y"
         },
         {
          "ax": 0,
          "ay": 20,
          "showarrow": false,
          "text": "BB",
          "x": 0.5114242381212085,
          "xref": "x",
          "y": -0.5919042643488698,
          "yref": "y"
         },
         {
          "ax": 0,
          "ay": 20,
          "showarrow": false,
          "text": "Itau",
          "x": -0.38557333693654977,
          "xref": "x",
          "y": -0.882697976780302,
          "yref": "y"
         },
         {
          "ax": 0,
          "ay": 20,
          "showarrow": false,
          "text": "XP Investimentos",
          "x": -0.7272066473198087,
          "xref": "x",
          "y": -0.1268677381592995,
          "yref": "y"
         },
         {
          "ax": 0,
          "ay": 20,
          "showarrow": false,
          "text": "CEF",
          "x": -0.14696002380857265,
          "xref": "x",
          "y": 1.0046885110655432,
          "yref": "y"
         },
         {
          "ax": 0,
          "ay": 20,
          "showarrow": false,
          "text": "Santander",
          "x": 0.07905002131766231,
          "xref": "x",
          "y": 0.8955780370318341,
          "yref": "y"
         },
         {
          "ax": 0,
          "ay": 20,
          "showarrow": false,
          "text": "Bradesco",
          "x": 1,
          "xref": "x",
          "y": 0.516499477566303,
          "yref": "y"
         },
         {
          "ax": 0,
          "ay": 20,
          "showarrow": false,
          "text": "Next",
          "x": -0.0025989560491212153,
          "xref": "x",
          "y": 0.10099415908157508,
          "yref": "y"
         },
         {
          "ax": 0,
          "ay": 20,
          "showarrow": false,
          "text": "Inter",
          "x": 0.3209222912621613,
          "xref": "x",
          "y": 0.6488778587738595,
          "yref": "y"
         },
         {
          "ax": 0,
          "ay": 20,
          "showarrow": false,
          "text": "Nubank",
          "x": -0.511884671831137,
          "xref": "x",
          "y": -0.4468154352919784,
          "yref": "y"
         },
         {
          "ax": 0,
          "ay": 20,
          "showarrow": false,
          "text": "BB",
          "x": -1,
          "xref": "x",
          "y": 0.2687338133371212,
          "yref": "y"
         },
         {
          "ax": 0,
          "ay": 20,
          "showarrow": false,
          "text": "Itau",
          "x": 0.5480293951882516,
          "xref": "x",
          "y": -0.6696835280884309,
          "yref": "y"
         },
         {
          "ax": 0,
          "ay": 20,
          "showarrow": false,
          "text": "XP Investimentos",
          "x": 0.5941628687520275,
          "xref": "x",
          "y": -0.3270660286390984,
          "yref": "y"
         },
         {
          "ax": 0,
          "ay": 20,
          "showarrow": false,
          "text": "CEF",
          "x": -0.3198556942533849,
          "xref": "x",
          "y": 0.968514284058619,
          "yref": "y"
         },
         {
          "ax": 0,
          "ay": 20,
          "showarrow": false,
          "text": "Santander",
          "x": -0.4201649401029636,
          "xref": "x",
          "y": -0.331327231522452,
          "yref": "y"
         },
         {
          "ax": 0,
          "ay": 20,
          "showarrow": false,
          "text": "Bradesco",
          "x": 0.7913897070341658,
          "xref": "x",
          "y": 0.6877721082907848,
          "yref": "y"
         },
         {
          "ax": 0,
          "ay": 20,
          "showarrow": false,
          "text": "Next",
          "x": -0.0030199979996173576,
          "xref": "x",
          "y": 0.10137063557725087,
          "yref": "y"
         },
         {
          "ax": 0,
          "ay": 20,
          "showarrow": false,
          "text": "Inter",
          "x": 0.5670502502594484,
          "xref": "x",
          "y": 0.8645824806046984,
          "yref": "y"
         },
         {
          "ax": 0,
          "ay": 20,
          "showarrow": false,
          "text": "Nubank",
          "x": -0.9536909896512057,
          "xref": "x",
          "y": -0.3015368617474694,
          "yref": "y"
         },
         {
          "ax": 0,
          "ay": 20,
          "showarrow": false,
          "text": "BB",
          "x": -0.45109241046149695,
          "xref": "x",
          "y": 0.25008482109981456,
          "yref": "y"
         },
         {
          "ax": 0,
          "ay": 20,
          "showarrow": false,
          "text": "Itau",
          "x": 0.5654433547801657,
          "xref": "x",
          "y": -0.42544750900198425,
          "yref": "y"
         },
         {
          "ax": 0,
          "ay": 20,
          "showarrow": false,
          "text": "XP Investimentos",
          "x": 0.889065212479466,
          "xref": "x",
          "y": 0.16549776185513249,
          "yref": "y"
         },
         {
          "ax": 0,
          "ay": 20,
          "showarrow": false,
          "text": "CEF",
          "x": 0.10552512550355299,
          "xref": "x",
          "y": -0.8909357397137253,
          "yref": "y"
         },
         {
          "ax": 0,
          "ay": 20,
          "showarrow": false,
          "text": "Santander",
          "x": -0.2737103931722155,
          "xref": "x",
          "y": 0.13251307134576407,
          "yref": "y"
         },
         {
          "ax": 0,
          "ay": 20,
          "showarrow": false,
          "text": "Bradesco",
          "x": -0.4455701517380983,
          "xref": "x",
          "y": 1.0038713399805195,
          "yref": "y"
         }
        ],
        "hovermode": "closest",
        "margin": {
         "b": 20,
         "l": 5,
         "r": 5,
         "t": 40
        },
        "scene": {
         "xaxis": {
          "showbackground": false,
          "showgrid": false,
          "showline": false,
          "showticklabels": false,
          "title": {
           "text": ""
          },
          "zeroline": false
         },
         "yaxis": {
          "showbackground": false,
          "showgrid": false,
          "showline": false,
          "showticklabels": false,
          "title": {
           "text": ""
          },
          "zeroline": false
         },
         "zaxis": {
          "showbackground": false,
          "showgrid": false,
          "showline": false,
          "showticklabels": false,
          "title": {
           "text": ""
          },
          "zeroline": false
         }
        },
        "showlegend": false,
        "title": {
         "font": {
          "size": 16
         },
         "text": "coco"
        }
       }
      },
      "text/html": [
       "<div>\n",
       "        \n",
       "        \n",
       "            <div id=\"b4500875-af5e-4447-9b43-364101c0669e\" class=\"plotly-graph-div\" style=\"height:525px; width:100%;\"></div>\n",
       "            <script type=\"text/javascript\">\n",
       "                require([\"plotly\"], function(Plotly) {\n",
       "                    window.PLOTLYENV=window.PLOTLYENV || {};\n",
       "                    window.PLOTLYENV.BASE_URL='https://plot.ly';\n",
       "                    \n",
       "                if (document.getElementById(\"b4500875-af5e-4447-9b43-364101c0669e\")) {\n",
       "                    Plotly.newPlot(\n",
       "                        'b4500875-af5e-4447-9b43-364101c0669e',\n",
       "                        [{\"hoverinfo\": \"text\", \"marker\": {\"cmax\": 234243, \"cmin\": 1, \"color\": [\"rgb(0, 0, 6)\", \"rgb(35, 17, 82)\", \"rgb(251, 252, 191)\", \"rgb(20, 13, 53)\", \"rgb(0, 0, 3)\", \"rgb(0, 0, 3)\", \"rgb(251, 247, 185)\", \"rgb(0, 0, 3)\", \"rgb(21, 14, 56)\"], \"colorbar\": {\"thickness\": 15, \"title\": {\"side\": \"right\", \"text\": \"coco\"}, \"xanchor\": \"left\"}, \"colorscale\": \"Viridis\", \"line\": {\"width\": 2}, \"reversescale\": true, \"showscale\": false, \"size\": [2000, 35000, 234243, 23443, 2, 1, 232323, 666, 24433], \"sizemin\": 15, \"sizemode\": \"area\", \"sizeref\": 187.3944}, \"mode\": \"markers\", \"text\": [\"<b>Next</b><br>clientes: 2000<br>\", \"<b>Inter</b><br>clientes: 35000<br>\", \"<b>Nubank</b><br>clientes: 234243<br>\", \"<b>BB</b><br>clientes: 23443<br>\", \"<b>Itau</b><br>clientes: 2<br>\", \"<b>XP Investimentos</b><br>clientes: 1<br>\", \"<b>CEF</b><br>clientes: 232323<br>\", \"<b>Santander</b><br>clientes: 666<br>\", \"<b>Bradesco</b><br>clientes: 24433<br>\"], \"type\": \"scatter3d\", \"uid\": \"1389810a-79c1-4504-ab7f-b0a632f1d601\", \"x\": [-0.0030199979996173576, 0.5670502502594484, -0.9536909896512057, -0.45109241046149695, 0.5654433547801657, 0.889065212479466, 0.10552512550355299, -0.2737103931722155, -0.4455701517380983], \"y\": [0.0013706355772508617, 0.7645824806046985, -0.40153686174746944, 0.15008482109981458, -0.5254475090019842, 0.0654977618551325, -0.9909357397137253, 0.032513071345764054, 0.9038713399805194], \"z\": [-0.0001553489130803427, 0.4127122103609051, 0.023115268690978272, 0.9194000617271829, 0.6933172783493345, -0.5299176746927071, -0.2972783887412356, -1.0, -0.221193406781379]}, {\"hoverinfo\": \"none\", \"line\": {\"color\": \"black\", \"width\": 0.5}, \"mode\": \"lines\", \"type\": \"scatter3d\", \"uid\": \"ec641e3b-acc5-4461-9fc2-2b1b9ecdfe43\", \"x\": [-0.0030199979996173576, -0.4455701517380983, null], \"y\": [0.0013706355772508617, 0.9038713399805194, null], \"z\": [-0.0001553489130803427, -0.221193406781379, null]}, {\"hoverinfo\": \"none\", \"line\": {\"color\": \"black\", \"width\": 0.5}, \"mode\": \"lines\", \"type\": \"scatter3d\", \"uid\": \"b6d619a7-e82b-4abb-ac82-421340290e9c\", \"x\": [-0.0030199979996173576, 0.5670502502594484, null], \"y\": [0.0013706355772508617, 0.7645824806046985, null], \"z\": [-0.0001553489130803427, 0.4127122103609051, null]}, {\"hoverinfo\": \"none\", \"line\": {\"color\": \"black\", \"width\": 0.5}, \"mode\": \"lines\", \"type\": \"scatter3d\", \"uid\": \"7a21978a-1497-4a16-9e2a-aa0856185f0d\", \"x\": [-0.0030199979996173576, -0.9536909896512057, null], \"y\": [0.0013706355772508617, -0.40153686174746944, null], \"z\": [-0.0001553489130803427, 0.023115268690978272, null]}, {\"hoverinfo\": \"none\", \"line\": {\"color\": \"black\", \"width\": 0.5}, \"mode\": \"lines\", \"type\": \"scatter3d\", \"uid\": \"8504bd4e-3c9a-4909-95d5-650e5ad5c7fd\", \"x\": [-0.0030199979996173576, -0.45109241046149695, null], \"y\": [0.0013706355772508617, 0.15008482109981458, null], \"z\": [-0.0001553489130803427, 0.9194000617271829, null]}, {\"hoverinfo\": \"none\", \"line\": {\"color\": \"black\", \"width\": 0.5}, \"mode\": \"lines\", \"type\": \"scatter3d\", \"uid\": \"43a5384d-97e4-4a2e-aa06-2a1a798594cf\", \"x\": [-0.0030199979996173576, 0.5654433547801657, null], \"y\": [0.0013706355772508617, -0.5254475090019842, null], \"z\": [-0.0001553489130803427, 0.6933172783493345, null]}, {\"hoverinfo\": \"none\", \"line\": {\"color\": \"black\", \"width\": 0.5}, \"mode\": \"lines\", \"type\": \"scatter3d\", \"uid\": \"d5fcb402-d704-4072-904c-896c1d9cccaf\", \"x\": [-0.0030199979996173576, 0.889065212479466, null], \"y\": [0.0013706355772508617, 0.0654977618551325, null], \"z\": [-0.0001553489130803427, -0.5299176746927071, null]}, {\"hoverinfo\": \"none\", \"line\": {\"color\": \"black\", \"width\": 0.5}, \"mode\": \"lines\", \"type\": \"scatter3d\", \"uid\": \"8f0b557d-d3a4-4491-9f35-ca1c16446681\", \"x\": [-0.0030199979996173576, 0.10552512550355299, null], \"y\": [0.0013706355772508617, -0.9909357397137253, null], \"z\": [-0.0001553489130803427, -0.2972783887412356, null]}, {\"hoverinfo\": \"none\", \"line\": {\"color\": \"black\", \"width\": 0.5}, \"mode\": \"lines\", \"type\": \"scatter3d\", \"uid\": \"8135d438-9903-43c1-a7dc-963d406cc191\", \"x\": [-0.0030199979996173576, -0.2737103931722155, null], \"y\": [0.0013706355772508617, 0.032513071345764054, null], \"z\": [-0.0001553489130803427, -1.0, null]}],\n",
       "                        {\"annotations\": [{\"ax\": 0, \"ay\": 20, \"showarrow\": false, \"text\": \"Next\", \"x\": 0.0016666058495176878, \"xref\": \"x\", \"y\": 0.10257688739540723, \"yref\": \"y\"}, {\"ax\": 0, \"ay\": 20, \"showarrow\": false, \"text\": \"Inter\", \"x\": -0.7494228863723494, \"xref\": \"x\", \"y\": 0.3939670307321823, \"yref\": \"y\"}, {\"ax\": 0, \"ay\": 20, \"showarrow\": false, \"text\": \"Nubank\", \"x\": -0.6725828691390812, \"xref\": \"x\", \"y\": 0.36675178251734963, \"yref\": \"y\"}, {\"ax\": 0, \"ay\": 20, \"showarrow\": false, \"text\": \"BB\", \"x\": -0.010204574428677822, \"xref\": \"x\", \"y\": -0.4800950520498469, \"yref\": \"y\"}, {\"ax\": 0, \"ay\": 20, \"showarrow\": false, \"text\": \"Itau\", \"x\": 0.04274399207493556, \"xref\": \"x\", \"y\": 1.1, \"yref\": \"y\"}, {\"ax\": 0, \"ay\": 20, \"showarrow\": false, \"text\": \"XP Investimentos\", \"x\": -0.5744903404808466, \"xref\": \"x\", \"y\": -0.6750175897504458, \"yref\": \"y\"}, {\"ax\": 0, \"ay\": 20, \"showarrow\": false, \"text\": \"CEF\", \"x\": 0.7851455772727861, \"xref\": \"x\", \"y\": 0.3780151176924571, \"yref\": \"y\"}, {\"ax\": 0, \"ay\": 20, \"showarrow\": false, \"text\": \"Santander\", \"x\": 0.646560477327721, \"xref\": \"x\", \"y\": -0.6252489928640931, \"yref\": \"y\"}, {\"ax\": 0, \"ay\": 20, \"showarrow\": false, \"text\": \"Bradesco\", \"x\": 0.5305840178959949, \"xref\": \"x\", \"y\": 0.3390508163269881, \"yref\": \"y\"}, {\"ax\": 0, \"ay\": 20, \"showarrow\": false, \"text\": \"Next\", \"x\": -0.0014735286389408577, \"xref\": \"x\", \"y\": 0.10175574836038487, \"yref\": \"y\"}, {\"ax\": 0, \"ay\": 20, \"showarrow\": false, \"text\": \"Inter\", \"x\": 0.3421074683310514, \"xref\": \"x\", \"y\": 0.7866465593746874, \"yref\": \"y\"}, {\"ax\": 0, \"ay\": 20, \"showarrow\": false, \"text\": \"Nubank\", \"x\": -0.6163412442023941, \"xref\": \"x\", \"y\": -0.4862339906145514, \"yref\": \"y\"}, {\"ax\": 0, \"ay\": 20, \"showarrow\": false, \"text\": \"BB\", \"x\": 0.053544963921672, \"xref\": \"x\", \"y\": 0.9245812967353872, \"yref\": \"y\"}, {\"ax\": 0, \"ay\": 20, \"showarrow\": false, \"text\": \"Itau\", \"x\": 0.16111525468001198, \"xref\": \"x\", \"y\": -0.8338851394058794, \"yref\": \"y\"}, {\"ax\": 0, \"ay\": 20, \"showarrow\": false, \"text\": \"XP Investimentos\", \"x\": -0.833476468558547, \"xref\": \"x\", \"y\": 0.730253481917316, \"yref\": \"y\"}, {\"ax\": 0, \"ay\": 20, \"showarrow\": false, \"text\": \"CEF\", \"x\": 0.6680242042374385, \"xref\": \"x\", \"y\": -0.4793874110609986, \"yref\": \"y\"}, {\"ax\": 0, \"ay\": 20, \"showarrow\": false, \"text\": \"Santander\", \"x\": -0.773500649770293, \"xref\": \"x\", \"y\": -0.0975815886821563, \"yref\": \"y\"}, {\"ax\": 0, \"ay\": 20, \"showarrow\": false, \"text\": \"Bradesco\", \"x\": 1.0, \"xref\": \"x\", \"y\": 0.25385104337580794, \"yref\": \"y\"}, {\"ax\": 0, \"ay\": 20, \"showarrow\": false, \"text\": \"Next\", \"x\": 0.0018928112814978152, \"xref\": \"x\", \"y\": 0.09998193884041451, \"yref\": \"y\"}, {\"ax\": 0, \"ay\": 20, \"showarrow\": false, \"text\": \"Inter\", \"x\": 0.654310755454577, \"xref\": \"x\", \"y\": -0.3116381791314523, \"yref\": \"y\"}, {\"ax\": 0, \"ay\": 20, \"showarrow\": false, \"text\": \"Nubank\", \"x\": -0.9869378181100148, \"xref\": \"x\", \"y\": 0.29636019391582913, \"yref\": \"y\"}, {\"ax\": 0, \"ay\": 20, \"showarrow\": false, \"text\": \"BB\", \"x\": 0.5114242381212085, \"xref\": \"x\", \"y\": -0.5919042643488698, \"yref\": \"y\"}, {\"ax\": 0, \"ay\": 20, \"showarrow\": false, \"text\": \"Itau\", \"x\": -0.38557333693654977, \"xref\": \"x\", \"y\": -0.882697976780302, \"yref\": \"y\"}, {\"ax\": 0, \"ay\": 20, \"showarrow\": false, \"text\": \"XP Investimentos\", \"x\": -0.7272066473198087, \"xref\": \"x\", \"y\": -0.1268677381592995, \"yref\": \"y\"}, {\"ax\": 0, \"ay\": 20, \"showarrow\": false, \"text\": \"CEF\", \"x\": -0.14696002380857265, \"xref\": \"x\", \"y\": 1.0046885110655432, \"yref\": \"y\"}, {\"ax\": 0, \"ay\": 20, \"showarrow\": false, \"text\": \"Santander\", \"x\": 0.07905002131766231, \"xref\": \"x\", \"y\": 0.8955780370318341, \"yref\": \"y\"}, {\"ax\": 0, \"ay\": 20, \"showarrow\": false, \"text\": \"Bradesco\", \"x\": 1.0, \"xref\": \"x\", \"y\": 0.516499477566303, \"yref\": \"y\"}, {\"ax\": 0, \"ay\": 20, \"showarrow\": false, \"text\": \"Next\", \"x\": -0.0025989560491212153, \"xref\": \"x\", \"y\": 0.10099415908157508, \"yref\": \"y\"}, {\"ax\": 0, \"ay\": 20, \"showarrow\": false, \"text\": \"Inter\", \"x\": 0.3209222912621613, \"xref\": \"x\", \"y\": 0.6488778587738595, \"yref\": \"y\"}, {\"ax\": 0, \"ay\": 20, \"showarrow\": false, \"text\": \"Nubank\", \"x\": -0.511884671831137, \"xref\": \"x\", \"y\": -0.4468154352919784, \"yref\": \"y\"}, {\"ax\": 0, \"ay\": 20, \"showarrow\": false, \"text\": \"BB\", \"x\": -1.0, \"xref\": \"x\", \"y\": 0.2687338133371212, \"yref\": \"y\"}, {\"ax\": 0, \"ay\": 20, \"showarrow\": false, \"text\": \"Itau\", \"x\": 0.5480293951882516, \"xref\": \"x\", \"y\": -0.6696835280884309, \"yref\": \"y\"}, {\"ax\": 0, \"ay\": 20, \"showarrow\": false, \"text\": \"XP Investimentos\", \"x\": 0.5941628687520275, \"xref\": \"x\", \"y\": -0.3270660286390984, \"yref\": \"y\"}, {\"ax\": 0, \"ay\": 20, \"showarrow\": false, \"text\": \"CEF\", \"x\": -0.3198556942533849, \"xref\": \"x\", \"y\": 0.968514284058619, \"yref\": \"y\"}, {\"ax\": 0, \"ay\": 20, \"showarrow\": false, \"text\": \"Santander\", \"x\": -0.4201649401029636, \"xref\": \"x\", \"y\": -0.331327231522452, \"yref\": \"y\"}, {\"ax\": 0, \"ay\": 20, \"showarrow\": false, \"text\": \"Bradesco\", \"x\": 0.7913897070341658, \"xref\": \"x\", \"y\": 0.6877721082907848, \"yref\": \"y\"}, {\"ax\": 0, \"ay\": 20, \"showarrow\": false, \"text\": \"Next\", \"x\": -0.0030199979996173576, \"xref\": \"x\", \"y\": 0.10137063557725087, \"yref\": \"y\"}, {\"ax\": 0, \"ay\": 20, \"showarrow\": false, \"text\": \"Inter\", \"x\": 0.5670502502594484, \"xref\": \"x\", \"y\": 0.8645824806046984, \"yref\": \"y\"}, {\"ax\": 0, \"ay\": 20, \"showarrow\": false, \"text\": \"Nubank\", \"x\": -0.9536909896512057, \"xref\": \"x\", \"y\": -0.3015368617474694, \"yref\": \"y\"}, {\"ax\": 0, \"ay\": 20, \"showarrow\": false, \"text\": \"BB\", \"x\": -0.45109241046149695, \"xref\": \"x\", \"y\": 0.25008482109981456, \"yref\": \"y\"}, {\"ax\": 0, \"ay\": 20, \"showarrow\": false, \"text\": \"Itau\", \"x\": 0.5654433547801657, \"xref\": \"x\", \"y\": -0.42544750900198425, \"yref\": \"y\"}, {\"ax\": 0, \"ay\": 20, \"showarrow\": false, \"text\": \"XP Investimentos\", \"x\": 0.889065212479466, \"xref\": \"x\", \"y\": 0.16549776185513249, \"yref\": \"y\"}, {\"ax\": 0, \"ay\": 20, \"showarrow\": false, \"text\": \"CEF\", \"x\": 0.10552512550355299, \"xref\": \"x\", \"y\": -0.8909357397137253, \"yref\": \"y\"}, {\"ax\": 0, \"ay\": 20, \"showarrow\": false, \"text\": \"Santander\", \"x\": -0.2737103931722155, \"xref\": \"x\", \"y\": 0.13251307134576407, \"yref\": \"y\"}, {\"ax\": 0, \"ay\": 20, \"showarrow\": false, \"text\": \"Bradesco\", \"x\": -0.4455701517380983, \"xref\": \"x\", \"y\": 1.0038713399805195, \"yref\": \"y\"}], \"hovermode\": \"closest\", \"margin\": {\"b\": 20, \"l\": 5, \"r\": 5, \"t\": 40}, \"scene\": {\"xaxis\": {\"showbackground\": false, \"showgrid\": false, \"showline\": false, \"showticklabels\": false, \"title\": {\"text\": \"\"}, \"zeroline\": false}, \"yaxis\": {\"showbackground\": false, \"showgrid\": false, \"showline\": false, \"showticklabels\": false, \"title\": {\"text\": \"\"}, \"zeroline\": false}, \"zaxis\": {\"showbackground\": false, \"showgrid\": false, \"showline\": false, \"showticklabels\": false, \"title\": {\"text\": \"\"}, \"zeroline\": false}}, \"showlegend\": false, \"title\": {\"font\": {\"size\": 16}, \"text\": \"coco\"}},\n",
       "                        {\"showLink\": false, \"linkText\": \"Export to plot.ly\", \"plotlyServerURL\": \"https://plot.ly\", \"responsive\": true}\n",
       "                    ).then(function(){\n",
       "                            \n",
       "var gd = document.getElementById('b4500875-af5e-4447-9b43-364101c0669e');\n",
       "var x = new MutationObserver(function (mutations, observer) {{\n",
       "        var display = window.getComputedStyle(gd).display;\n",
       "        if (!display || display === 'none') {{\n",
       "            console.log([gd, 'removed!']);\n",
       "            Plotly.purge(gd);\n",
       "            observer.disconnect();\n",
       "        }}\n",
       "}});\n",
       "\n",
       "// Listen for the removal of the full notebook cells\n",
       "var notebookContainer = gd.closest('#notebook-container');\n",
       "if (notebookContainer) {{\n",
       "    x.observe(notebookContainer, {childList: true});\n",
       "}}\n",
       "\n",
       "// Listen for the clearing of the current output cell\n",
       "var outputEl = gd.closest('.output');\n",
       "if (outputEl) {{\n",
       "    x.observe(outputEl, {childList: true});\n",
       "}}\n",
       "\n",
       "                        })\n",
       "                };\n",
       "                });\n",
       "            </script>\n",
       "        </div>"
      ]
     },
     "metadata": {},
     "output_type": "display_data"
    }
   ],
   "source": [
    "mygraph.plot(title='coco', node_size_col='clientes', node_color_col='clientes', hover_col=['clientes','keke'])"
   ]
  },
  {
   "cell_type": "code",
   "execution_count": 112,
   "metadata": {},
   "outputs": [
    {
     "data": {
      "application/vnd.plotly.v1+json": {
       "config": {
        "linkText": "Export to plot.ly",
        "plotlyServerURL": "https://plot.ly",
        "responsive": true,
        "showLink": false
       },
       "data": [
        {
         "hoverinfo": "text",
         "marker": {
          "cmax": 234243,
          "cmin": 1,
          "color": [
           "rgb(0, 0, 6)",
           "rgb(35, 17, 82)",
           "rgb(251, 252, 191)",
           "rgb(20, 13, 53)",
           "rgb(0, 0, 3)",
           "rgb(0, 0, 3)",
           "rgb(251, 247, 185)",
           "rgb(0, 0, 3)",
           "rgb(21, 14, 56)"
          ],
          "colorbar": {
           "thickness": 15,
           "title": {
            "side": "right",
            "text": "coco"
           },
           "xanchor": "left"
          },
          "colorscale": "Viridis",
          "line": {
           "width": 2
          },
          "reversescale": true,
          "showscale": false,
          "size": [
           2000,
           35000,
           234243,
           23443,
           2,
           1,
           232323,
           666,
           24433
          ],
          "sizemin": 15,
          "sizemode": "area",
          "sizeref": 187.3944
         },
         "mode": "markers",
         "text": [
          "<b>Next</b><br>clientes: 2000<br>lucro: 234<br>",
          "<b>Inter</b><br>clientes: 35000<br>lucro: 1111<br>",
          "<b>Nubank</b><br>clientes: 234243<br>lucro: 2234<br>",
          "<b>BB</b><br>clientes: 23443<br>lucro: 2344<br>",
          "<b>Itau</b><br>clientes: 2<br>lucro: 444<br>",
          "<b>XP Investimentos</b><br>clientes: 1<br>lucro: 222<br>",
          "<b>CEF</b><br>clientes: 232323<br>lucro: 1<br>",
          "<b>Santander</b><br>clientes: 666<br>lucro: 1<br>",
          "<b>Bradesco</b><br>clientes: 24433<br>lucro: 9877<br>"
         ],
         "type": "scatter3d",
         "uid": "d4df32c8-f7c6-4e5c-a5fa-6f7c341907af",
         "x": [
          0.002614262455472142,
          0.5738380906087422,
          -0.7533434798752591,
          0.8466284590669418,
          0.4216720847431656,
          -0.5822478047944972,
          -0.7826433490202575,
          0.6510234799992493,
          -0.3775417431835567
         ],
         "y": [
          0.0013576324979166176,
          0.41146975996348606,
          0.7291454471694305,
          -0.6980901831099214,
          1,
          -0.52860772956616,
          0.21495109400865378,
          -0.1337723242593276,
          -0.9964536967040779
         ],
         "z": [
          -0.00042303488144582565,
          0.889001376573458,
          0.4335383806161433,
          0.2935305074922959,
          -0.32654673084591834,
          0.8181682101157913,
          -0.7946022093558506,
          -0.918898602614641,
          -0.3937678970998333
         ]
        },
        {
         "hoverinfo": "none",
         "line": {
          "color": "rgb(251, 252, 191)",
          "width": 0.5
         },
         "mode": "lines",
         "type": "scatter3d",
         "uid": "5a9520c6-95fa-40d6-88ca-9783203bef4f",
         "x": [
          0.002614262455472142,
          -0.3775417431835567,
          null
         ],
         "y": [
          0.0013576324979166176,
          -0.9964536967040779,
          null
         ],
         "z": [
          -0.00042303488144582565,
          -0.3937678970998333,
          null
         ]
        },
        {
         "hoverinfo": "none",
         "line": {
          "color": "rgb(30, 16, 73)",
          "width": 0.5
         },
         "mode": "lines",
         "type": "scatter3d",
         "uid": "b03eb869-c0e7-4b0a-b189-396dfea2083f",
         "x": [
          0.002614262455472142,
          0.5738380906087422,
          null
         ],
         "y": [
          0.0013576324979166176,
          0.41146975996348606,
          null
         ],
         "z": [
          -0.00042303488144582565,
          0.889001376573458,
          null
         ]
        },
        {
         "hoverinfo": "none",
         "line": {
          "color": "rgb(172, 51, 123)",
          "width": 0.5
         },
         "mode": "lines",
         "type": "scatter3d",
         "uid": "1f0f04d9-7a0c-4178-9b3a-d60b9ab91b89",
         "x": [
          0.002614262455472142,
          -0.7533434798752591,
          null
         ],
         "y": [
          0.0013576324979166176,
          0.7291454471694305,
          null
         ],
         "z": [
          -0.00042303488144582565,
          0.4335383806161433,
          null
         ]
        },
        {
         "hoverinfo": "none",
         "line": {
          "color": "rgb(82, 18, 124)",
          "width": 0.5
         },
         "mode": "lines",
         "type": "scatter3d",
         "uid": "7416306a-31a6-48b1-a561-5f5d592386a5",
         "x": [
          0.002614262455472142,
          0.8466284590669418,
          null
         ],
         "y": [
          0.0013576324979166176,
          -0.6980901831099214,
          null
         ],
         "z": [
          -0.00042303488144582565,
          0.2935305074922959,
          null
         ]
        },
        {
         "hoverinfo": "none",
         "line": {
          "color": "rgb(0, 0, 4)",
          "width": 0.5
         },
         "mode": "lines",
         "type": "scatter3d",
         "uid": "aa0a3384-826d-4a68-8928-25a83a31c36b",
         "x": [
          0.002614262455472142,
          0.4216720847431656,
          null
         ],
         "y": [
          0.0013576324979166176,
          1,
          null
         ],
         "z": [
          -0.00042303488144582565,
          -0.32654673084591834,
          null
         ]
        },
        {
         "hoverinfo": "none",
         "line": {
          "color": "rgb(0, 0, 3)",
          "width": 0.5
         },
         "mode": "lines",
         "type": "scatter3d",
         "uid": "66a332da-abe1-4c4f-a6a0-de350cfe9cbc",
         "x": [
          0.002614262455472142,
          -0.5822478047944972,
          null
         ],
         "y": [
          0.0013576324979166176,
          -0.52860772956616,
          null
         ],
         "z": [
          -0.00042303488144582565,
          0.8181682101157913,
          null
         ]
        },
        {
         "hoverinfo": "none",
         "line": {
          "color": "rgb(16, 12, 47)",
          "width": 0.5
         },
         "mode": "lines",
         "type": "scatter3d",
         "uid": "1702bbe0-3a61-477c-81b0-c55ca060d67f",
         "x": [
          0.002614262455472142,
          -0.7826433490202575,
          null
         ],
         "y": [
          0.0013576324979166176,
          0.21495109400865378,
          null
         ],
         "z": [
          -0.00042303488144582565,
          -0.7946022093558506,
          null
         ]
        },
        {
         "hoverinfo": "none",
         "line": {
          "color": "rgb(1, 1, 11)",
          "width": 0.5
         },
         "mode": "lines",
         "type": "scatter3d",
         "uid": "9f76d4f0-2ffb-4e22-9a54-610b0d265b0f",
         "x": [
          0.002614262455472142,
          0.6510234799992493,
          null
         ],
         "y": [
          0.0013576324979166176,
          -0.1337723242593276,
          null
         ],
         "z": [
          -0.00042303488144582565,
          -0.918898602614641,
          null
         ]
        }
       ],
       "layout": {
        "annotations": [
         {
          "ax": 0,
          "ay": 20,
          "showarrow": false,
          "text": "Next",
          "x": 0.0016666058495176878,
          "xref": "x",
          "y": 0.10257688739540723,
          "yref": "y"
         },
         {
          "ax": 0,
          "ay": 20,
          "showarrow": false,
          "text": "Inter",
          "x": -0.7494228863723494,
          "xref": "x",
          "y": 0.3939670307321823,
          "yref": "y"
         },
         {
          "ax": 0,
          "ay": 20,
          "showarrow": false,
          "text": "Nubank",
          "x": -0.6725828691390812,
          "xref": "x",
          "y": 0.36675178251734963,
          "yref": "y"
         },
         {
          "ax": 0,
          "ay": 20,
          "showarrow": false,
          "text": "BB",
          "x": -0.010204574428677822,
          "xref": "x",
          "y": -0.4800950520498469,
          "yref": "y"
         },
         {
          "ax": 0,
          "ay": 20,
          "showarrow": false,
          "text": "Itau",
          "x": 0.04274399207493556,
          "xref": "x",
          "y": 1.1,
          "yref": "y"
         },
         {
          "ax": 0,
          "ay": 20,
          "showarrow": false,
          "text": "XP Investimentos",
          "x": -0.5744903404808466,
          "xref": "x",
          "y": -0.6750175897504458,
          "yref": "y"
         },
         {
          "ax": 0,
          "ay": 20,
          "showarrow": false,
          "text": "CEF",
          "x": 0.7851455772727861,
          "xref": "x",
          "y": 0.3780151176924571,
          "yref": "y"
         },
         {
          "ax": 0,
          "ay": 20,
          "showarrow": false,
          "text": "Santander",
          "x": 0.646560477327721,
          "xref": "x",
          "y": -0.6252489928640931,
          "yref": "y"
         },
         {
          "ax": 0,
          "ay": 20,
          "showarrow": false,
          "text": "Bradesco",
          "x": 0.5305840178959949,
          "xref": "x",
          "y": 0.3390508163269881,
          "yref": "y"
         },
         {
          "ax": 0,
          "ay": 20,
          "showarrow": false,
          "text": "Next",
          "x": -0.0014735286389408577,
          "xref": "x",
          "y": 0.10175574836038487,
          "yref": "y"
         },
         {
          "ax": 0,
          "ay": 20,
          "showarrow": false,
          "text": "Inter",
          "x": 0.3421074683310514,
          "xref": "x",
          "y": 0.7866465593746874,
          "yref": "y"
         },
         {
          "ax": 0,
          "ay": 20,
          "showarrow": false,
          "text": "Nubank",
          "x": -0.6163412442023941,
          "xref": "x",
          "y": -0.4862339906145514,
          "yref": "y"
         },
         {
          "ax": 0,
          "ay": 20,
          "showarrow": false,
          "text": "BB",
          "x": 0.053544963921672,
          "xref": "x",
          "y": 0.9245812967353872,
          "yref": "y"
         },
         {
          "ax": 0,
          "ay": 20,
          "showarrow": false,
          "text": "Itau",
          "x": 0.16111525468001198,
          "xref": "x",
          "y": -0.8338851394058794,
          "yref": "y"
         },
         {
          "ax": 0,
          "ay": 20,
          "showarrow": false,
          "text": "XP Investimentos",
          "x": -0.833476468558547,
          "xref": "x",
          "y": 0.730253481917316,
          "yref": "y"
         },
         {
          "ax": 0,
          "ay": 20,
          "showarrow": false,
          "text": "CEF",
          "x": 0.6680242042374385,
          "xref": "x",
          "y": -0.4793874110609986,
          "yref": "y"
         },
         {
          "ax": 0,
          "ay": 20,
          "showarrow": false,
          "text": "Santander",
          "x": -0.773500649770293,
          "xref": "x",
          "y": -0.0975815886821563,
          "yref": "y"
         },
         {
          "ax": 0,
          "ay": 20,
          "showarrow": false,
          "text": "Bradesco",
          "x": 1,
          "xref": "x",
          "y": 0.25385104337580794,
          "yref": "y"
         },
         {
          "ax": 0,
          "ay": 20,
          "showarrow": false,
          "text": "Next",
          "x": 0.0018928112814978152,
          "xref": "x",
          "y": 0.09998193884041451,
          "yref": "y"
         },
         {
          "ax": 0,
          "ay": 20,
          "showarrow": false,
          "text": "Inter",
          "x": 0.654310755454577,
          "xref": "x",
          "y": -0.3116381791314523,
          "yref": "y"
         },
         {
          "ax": 0,
          "ay": 20,
          "showarrow": false,
          "text": "Nubank",
          "x": -0.9869378181100148,
          "xref": "x",
          "y": 0.29636019391582913,
          "yref": "y"
         },
         {
          "ax": 0,
          "ay": 20,
          "showarrow": false,
          "text": "BB",
          "x": 0.5114242381212085,
          "xref": "x",
          "y": -0.5919042643488698,
          "yref": "y"
         },
         {
          "ax": 0,
          "ay": 20,
          "showarrow": false,
          "text": "Itau",
          "x": -0.38557333693654977,
          "xref": "x",
          "y": -0.882697976780302,
          "yref": "y"
         },
         {
          "ax": 0,
          "ay": 20,
          "showarrow": false,
          "text": "XP Investimentos",
          "x": -0.7272066473198087,
          "xref": "x",
          "y": -0.1268677381592995,
          "yref": "y"
         },
         {
          "ax": 0,
          "ay": 20,
          "showarrow": false,
          "text": "CEF",
          "x": -0.14696002380857265,
          "xref": "x",
          "y": 1.0046885110655432,
          "yref": "y"
         },
         {
          "ax": 0,
          "ay": 20,
          "showarrow": false,
          "text": "Santander",
          "x": 0.07905002131766231,
          "xref": "x",
          "y": 0.8955780370318341,
          "yref": "y"
         },
         {
          "ax": 0,
          "ay": 20,
          "showarrow": false,
          "text": "Bradesco",
          "x": 1,
          "xref": "x",
          "y": 0.516499477566303,
          "yref": "y"
         },
         {
          "ax": 0,
          "ay": 20,
          "showarrow": false,
          "text": "Next",
          "x": -0.0025989560491212153,
          "xref": "x",
          "y": 0.10099415908157508,
          "yref": "y"
         },
         {
          "ax": 0,
          "ay": 20,
          "showarrow": false,
          "text": "Inter",
          "x": 0.3209222912621613,
          "xref": "x",
          "y": 0.6488778587738595,
          "yref": "y"
         },
         {
          "ax": 0,
          "ay": 20,
          "showarrow": false,
          "text": "Nubank",
          "x": -0.511884671831137,
          "xref": "x",
          "y": -0.4468154352919784,
          "yref": "y"
         },
         {
          "ax": 0,
          "ay": 20,
          "showarrow": false,
          "text": "BB",
          "x": -1,
          "xref": "x",
          "y": 0.2687338133371212,
          "yref": "y"
         },
         {
          "ax": 0,
          "ay": 20,
          "showarrow": false,
          "text": "Itau",
          "x": 0.5480293951882516,
          "xref": "x",
          "y": -0.6696835280884309,
          "yref": "y"
         },
         {
          "ax": 0,
          "ay": 20,
          "showarrow": false,
          "text": "XP Investimentos",
          "x": 0.5941628687520275,
          "xref": "x",
          "y": -0.3270660286390984,
          "yref": "y"
         },
         {
          "ax": 0,
          "ay": 20,
          "showarrow": false,
          "text": "CEF",
          "x": -0.3198556942533849,
          "xref": "x",
          "y": 0.968514284058619,
          "yref": "y"
         },
         {
          "ax": 0,
          "ay": 20,
          "showarrow": false,
          "text": "Santander",
          "x": -0.4201649401029636,
          "xref": "x",
          "y": -0.331327231522452,
          "yref": "y"
         },
         {
          "ax": 0,
          "ay": 20,
          "showarrow": false,
          "text": "Bradesco",
          "x": 0.7913897070341658,
          "xref": "x",
          "y": 0.6877721082907848,
          "yref": "y"
         },
         {
          "ax": 0,
          "ay": 20,
          "showarrow": false,
          "text": "Next",
          "x": -0.0030199979996173576,
          "xref": "x",
          "y": 0.10137063557725087,
          "yref": "y"
         },
         {
          "ax": 0,
          "ay": 20,
          "showarrow": false,
          "text": "Inter",
          "x": 0.5670502502594484,
          "xref": "x",
          "y": 0.8645824806046984,
          "yref": "y"
         },
         {
          "ax": 0,
          "ay": 20,
          "showarrow": false,
          "text": "Nubank",
          "x": -0.9536909896512057,
          "xref": "x",
          "y": -0.3015368617474694,
          "yref": "y"
         },
         {
          "ax": 0,
          "ay": 20,
          "showarrow": false,
          "text": "BB",
          "x": -0.45109241046149695,
          "xref": "x",
          "y": 0.25008482109981456,
          "yref": "y"
         },
         {
          "ax": 0,
          "ay": 20,
          "showarrow": false,
          "text": "Itau",
          "x": 0.5654433547801657,
          "xref": "x",
          "y": -0.42544750900198425,
          "yref": "y"
         },
         {
          "ax": 0,
          "ay": 20,
          "showarrow": false,
          "text": "XP Investimentos",
          "x": 0.889065212479466,
          "xref": "x",
          "y": 0.16549776185513249,
          "yref": "y"
         },
         {
          "ax": 0,
          "ay": 20,
          "showarrow": false,
          "text": "CEF",
          "x": 0.10552512550355299,
          "xref": "x",
          "y": -0.8909357397137253,
          "yref": "y"
         },
         {
          "ax": 0,
          "ay": 20,
          "showarrow": false,
          "text": "Santander",
          "x": -0.2737103931722155,
          "xref": "x",
          "y": 0.13251307134576407,
          "yref": "y"
         },
         {
          "ax": 0,
          "ay": 20,
          "showarrow": false,
          "text": "Bradesco",
          "x": -0.4455701517380983,
          "xref": "x",
          "y": 1.0038713399805195,
          "yref": "y"
         },
         {
          "ax": 0,
          "ay": 20,
          "showarrow": false,
          "text": "Next",
          "x": 0.002614262455472142,
          "xref": "x",
          "y": 0.10135763249791663,
          "yref": "y"
         },
         {
          "ax": 0,
          "ay": 20,
          "showarrow": false,
          "text": "Inter",
          "x": 0.5738380906087422,
          "xref": "x",
          "y": 0.5114697599634861,
          "yref": "y"
         },
         {
          "ax": 0,
          "ay": 20,
          "showarrow": false,
          "text": "Nubank",
          "x": -0.7533434798752591,
          "xref": "x",
          "y": 0.8291454471694305,
          "yref": "y"
         },
         {
          "ax": 0,
          "ay": 20,
          "showarrow": false,
          "text": "BB",
          "x": 0.8466284590669418,
          "xref": "x",
          "y": -0.5980901831099215,
          "yref": "y"
         },
         {
          "ax": 0,
          "ay": 20,
          "showarrow": false,
          "text": "Itau",
          "x": 0.4216720847431656,
          "xref": "x",
          "y": 1.1,
          "yref": "y"
         },
         {
          "ax": 0,
          "ay": 20,
          "showarrow": false,
          "text": "XP Investimentos",
          "x": -0.5822478047944972,
          "xref": "x",
          "y": -0.42860772956616,
          "yref": "y"
         },
         {
          "ax": 0,
          "ay": 20,
          "showarrow": false,
          "text": "CEF",
          "x": -0.7826433490202575,
          "xref": "x",
          "y": 0.3149510940086538,
          "yref": "y"
         },
         {
          "ax": 0,
          "ay": 20,
          "showarrow": false,
          "text": "Santander",
          "x": 0.6510234799992493,
          "xref": "x",
          "y": -0.03377232425932761,
          "yref": "y"
         },
         {
          "ax": 0,
          "ay": 20,
          "showarrow": false,
          "text": "Bradesco",
          "x": -0.3775417431835567,
          "xref": "x",
          "y": -0.8964536967040779,
          "yref": "y"
         }
        ],
        "hovermode": "closest",
        "margin": {
         "b": 20,
         "l": 5,
         "r": 5,
         "t": 40
        },
        "scene": {
         "xaxis": {
          "showbackground": false,
          "showgrid": false,
          "showline": false,
          "showticklabels": false,
          "title": {
           "text": ""
          },
          "zeroline": false
         },
         "yaxis": {
          "showbackground": false,
          "showgrid": false,
          "showline": false,
          "showticklabels": false,
          "title": {
           "text": ""
          },
          "zeroline": false
         },
         "zaxis": {
          "showbackground": false,
          "showgrid": false,
          "showline": false,
          "showticklabels": false,
          "title": {
           "text": ""
          },
          "zeroline": false
         }
        },
        "showlegend": false,
        "title": {
         "font": {
          "size": 16
         },
         "text": "coco"
        }
       }
      },
      "text/html": [
       "<div>\n",
       "        \n",
       "        \n",
       "            <div id=\"cf95c90c-9204-4180-ba2c-6369aee2e92e\" class=\"plotly-graph-div\" style=\"height:525px; width:100%;\"></div>\n",
       "            <script type=\"text/javascript\">\n",
       "                require([\"plotly\"], function(Plotly) {\n",
       "                    window.PLOTLYENV=window.PLOTLYENV || {};\n",
       "                    window.PLOTLYENV.BASE_URL='https://plot.ly';\n",
       "                    \n",
       "                if (document.getElementById(\"cf95c90c-9204-4180-ba2c-6369aee2e92e\")) {\n",
       "                    Plotly.newPlot(\n",
       "                        'cf95c90c-9204-4180-ba2c-6369aee2e92e',\n",
       "                        [{\"hoverinfo\": \"text\", \"marker\": {\"cmax\": 234243, \"cmin\": 1, \"color\": [\"rgb(0, 0, 6)\", \"rgb(35, 17, 82)\", \"rgb(251, 252, 191)\", \"rgb(20, 13, 53)\", \"rgb(0, 0, 3)\", \"rgb(0, 0, 3)\", \"rgb(251, 247, 185)\", \"rgb(0, 0, 3)\", \"rgb(21, 14, 56)\"], \"colorbar\": {\"thickness\": 15, \"title\": {\"side\": \"right\", \"text\": \"coco\"}, \"xanchor\": \"left\"}, \"colorscale\": \"Viridis\", \"line\": {\"width\": 2}, \"reversescale\": true, \"showscale\": false, \"size\": [2000, 35000, 234243, 23443, 2, 1, 232323, 666, 24433], \"sizemin\": 15, \"sizemode\": \"area\", \"sizeref\": 187.3944}, \"mode\": \"markers\", \"text\": [\"<b>Next</b><br>clientes: 2000<br>lucro: 234<br>\", \"<b>Inter</b><br>clientes: 35000<br>lucro: 1111<br>\", \"<b>Nubank</b><br>clientes: 234243<br>lucro: 2234<br>\", \"<b>BB</b><br>clientes: 23443<br>lucro: 2344<br>\", \"<b>Itau</b><br>clientes: 2<br>lucro: 444<br>\", \"<b>XP Investimentos</b><br>clientes: 1<br>lucro: 222<br>\", \"<b>CEF</b><br>clientes: 232323<br>lucro: 1<br>\", \"<b>Santander</b><br>clientes: 666<br>lucro: 1<br>\", \"<b>Bradesco</b><br>clientes: 24433<br>lucro: 9877<br>\"], \"type\": \"scatter3d\", \"uid\": \"c5948eff-a39f-4af5-8ef3-24c6188769d5\", \"x\": [0.002614262455472142, 0.5738380906087422, -0.7533434798752591, 0.8466284590669418, 0.4216720847431656, -0.5822478047944972, -0.7826433490202575, 0.6510234799992493, -0.3775417431835567], \"y\": [0.0013576324979166176, 0.41146975996348606, 0.7291454471694305, -0.6980901831099214, 1.0, -0.52860772956616, 0.21495109400865378, -0.1337723242593276, -0.9964536967040779], \"z\": [-0.00042303488144582565, 0.889001376573458, 0.4335383806161433, 0.2935305074922959, -0.32654673084591834, 0.8181682101157913, -0.7946022093558506, -0.918898602614641, -0.3937678970998333]}, {\"hoverinfo\": \"none\", \"line\": {\"color\": \"rgb(251, 252, 191)\", \"width\": 0.5}, \"mode\": \"lines\", \"type\": \"scatter3d\", \"uid\": \"d22fb04d-f65d-49cb-9616-285fcc2be587\", \"x\": [0.002614262455472142, -0.3775417431835567, null], \"y\": [0.0013576324979166176, -0.9964536967040779, null], \"z\": [-0.00042303488144582565, -0.3937678970998333, null]}, {\"hoverinfo\": \"none\", \"line\": {\"color\": \"rgb(30, 16, 73)\", \"width\": 0.5}, \"mode\": \"lines\", \"type\": \"scatter3d\", \"uid\": \"f29c4427-162f-4687-9462-f7c3d9378d57\", \"x\": [0.002614262455472142, 0.5738380906087422, null], \"y\": [0.0013576324979166176, 0.41146975996348606, null], \"z\": [-0.00042303488144582565, 0.889001376573458, null]}, {\"hoverinfo\": \"none\", \"line\": {\"color\": \"rgb(172, 51, 123)\", \"width\": 0.5}, \"mode\": \"lines\", \"type\": \"scatter3d\", \"uid\": \"e2a04a6d-8394-412d-a390-f991514bb9e9\", \"x\": [0.002614262455472142, -0.7533434798752591, null], \"y\": [0.0013576324979166176, 0.7291454471694305, null], \"z\": [-0.00042303488144582565, 0.4335383806161433, null]}, {\"hoverinfo\": \"none\", \"line\": {\"color\": \"rgb(82, 18, 124)\", \"width\": 0.5}, \"mode\": \"lines\", \"type\": \"scatter3d\", \"uid\": \"c76844d0-bf5a-4f9b-967b-c962ced8f794\", \"x\": [0.002614262455472142, 0.8466284590669418, null], \"y\": [0.0013576324979166176, -0.6980901831099214, null], \"z\": [-0.00042303488144582565, 0.2935305074922959, null]}, {\"hoverinfo\": \"none\", \"line\": {\"color\": \"rgb(0, 0, 4)\", \"width\": 0.5}, \"mode\": \"lines\", \"type\": \"scatter3d\", \"uid\": \"73d6c6bc-e6b0-4a8a-895a-398a2348795d\", \"x\": [0.002614262455472142, 0.4216720847431656, null], \"y\": [0.0013576324979166176, 1.0, null], \"z\": [-0.00042303488144582565, -0.32654673084591834, null]}, {\"hoverinfo\": \"none\", \"line\": {\"color\": \"rgb(0, 0, 3)\", \"width\": 0.5}, \"mode\": \"lines\", \"type\": \"scatter3d\", \"uid\": \"d824eb61-63a3-429d-b7fc-af159a85d21b\", \"x\": [0.002614262455472142, -0.5822478047944972, null], \"y\": [0.0013576324979166176, -0.52860772956616, null], \"z\": [-0.00042303488144582565, 0.8181682101157913, null]}, {\"hoverinfo\": \"none\", \"line\": {\"color\": \"rgb(16, 12, 47)\", \"width\": 0.5}, \"mode\": \"lines\", \"type\": \"scatter3d\", \"uid\": \"e2e74301-b327-4ec6-a937-c2d8985f4719\", \"x\": [0.002614262455472142, -0.7826433490202575, null], \"y\": [0.0013576324979166176, 0.21495109400865378, null], \"z\": [-0.00042303488144582565, -0.7946022093558506, null]}, {\"hoverinfo\": \"none\", \"line\": {\"color\": \"rgb(1, 1, 11)\", \"width\": 0.5}, \"mode\": \"lines\", \"type\": \"scatter3d\", \"uid\": \"3598e87e-30e0-481a-950d-04963ce2f80c\", \"x\": [0.002614262455472142, 0.6510234799992493, null], \"y\": [0.0013576324979166176, -0.1337723242593276, null], \"z\": [-0.00042303488144582565, -0.918898602614641, null]}],\n",
       "                        {\"annotations\": [{\"ax\": 0, \"ay\": 20, \"showarrow\": false, \"text\": \"Next\", \"x\": 0.0016666058495176878, \"xref\": \"x\", \"y\": 0.10257688739540723, \"yref\": \"y\"}, {\"ax\": 0, \"ay\": 20, \"showarrow\": false, \"text\": \"Inter\", \"x\": -0.7494228863723494, \"xref\": \"x\", \"y\": 0.3939670307321823, \"yref\": \"y\"}, {\"ax\": 0, \"ay\": 20, \"showarrow\": false, \"text\": \"Nubank\", \"x\": -0.6725828691390812, \"xref\": \"x\", \"y\": 0.36675178251734963, \"yref\": \"y\"}, {\"ax\": 0, \"ay\": 20, \"showarrow\": false, \"text\": \"BB\", \"x\": -0.010204574428677822, \"xref\": \"x\", \"y\": -0.4800950520498469, \"yref\": \"y\"}, {\"ax\": 0, \"ay\": 20, \"showarrow\": false, \"text\": \"Itau\", \"x\": 0.04274399207493556, \"xref\": \"x\", \"y\": 1.1, \"yref\": \"y\"}, {\"ax\": 0, \"ay\": 20, \"showarrow\": false, \"text\": \"XP Investimentos\", \"x\": -0.5744903404808466, \"xref\": \"x\", \"y\": -0.6750175897504458, \"yref\": \"y\"}, {\"ax\": 0, \"ay\": 20, \"showarrow\": false, \"text\": \"CEF\", \"x\": 0.7851455772727861, \"xref\": \"x\", \"y\": 0.3780151176924571, \"yref\": \"y\"}, {\"ax\": 0, \"ay\": 20, \"showarrow\": false, \"text\": \"Santander\", \"x\": 0.646560477327721, \"xref\": \"x\", \"y\": -0.6252489928640931, \"yref\": \"y\"}, {\"ax\": 0, \"ay\": 20, \"showarrow\": false, \"text\": \"Bradesco\", \"x\": 0.5305840178959949, \"xref\": \"x\", \"y\": 0.3390508163269881, \"yref\": \"y\"}, {\"ax\": 0, \"ay\": 20, \"showarrow\": false, \"text\": \"Next\", \"x\": -0.0014735286389408577, \"xref\": \"x\", \"y\": 0.10175574836038487, \"yref\": \"y\"}, {\"ax\": 0, \"ay\": 20, \"showarrow\": false, \"text\": \"Inter\", \"x\": 0.3421074683310514, \"xref\": \"x\", \"y\": 0.7866465593746874, \"yref\": \"y\"}, {\"ax\": 0, \"ay\": 20, \"showarrow\": false, \"text\": \"Nubank\", \"x\": -0.6163412442023941, \"xref\": \"x\", \"y\": -0.4862339906145514, \"yref\": \"y\"}, {\"ax\": 0, \"ay\": 20, \"showarrow\": false, \"text\": \"BB\", \"x\": 0.053544963921672, \"xref\": \"x\", \"y\": 0.9245812967353872, \"yref\": \"y\"}, {\"ax\": 0, \"ay\": 20, \"showarrow\": false, \"text\": \"Itau\", \"x\": 0.16111525468001198, \"xref\": \"x\", \"y\": -0.8338851394058794, \"yref\": \"y\"}, {\"ax\": 0, \"ay\": 20, \"showarrow\": false, \"text\": \"XP Investimentos\", \"x\": -0.833476468558547, \"xref\": \"x\", \"y\": 0.730253481917316, \"yref\": \"y\"}, {\"ax\": 0, \"ay\": 20, \"showarrow\": false, \"text\": \"CEF\", \"x\": 0.6680242042374385, \"xref\": \"x\", \"y\": -0.4793874110609986, \"yref\": \"y\"}, {\"ax\": 0, \"ay\": 20, \"showarrow\": false, \"text\": \"Santander\", \"x\": -0.773500649770293, \"xref\": \"x\", \"y\": -0.0975815886821563, \"yref\": \"y\"}, {\"ax\": 0, \"ay\": 20, \"showarrow\": false, \"text\": \"Bradesco\", \"x\": 1.0, \"xref\": \"x\", \"y\": 0.25385104337580794, \"yref\": \"y\"}, {\"ax\": 0, \"ay\": 20, \"showarrow\": false, \"text\": \"Next\", \"x\": 0.0018928112814978152, \"xref\": \"x\", \"y\": 0.09998193884041451, \"yref\": \"y\"}, {\"ax\": 0, \"ay\": 20, \"showarrow\": false, \"text\": \"Inter\", \"x\": 0.654310755454577, \"xref\": \"x\", \"y\": -0.3116381791314523, \"yref\": \"y\"}, {\"ax\": 0, \"ay\": 20, \"showarrow\": false, \"text\": \"Nubank\", \"x\": -0.9869378181100148, \"xref\": \"x\", \"y\": 0.29636019391582913, \"yref\": \"y\"}, {\"ax\": 0, \"ay\": 20, \"showarrow\": false, \"text\": \"BB\", \"x\": 0.5114242381212085, \"xref\": \"x\", \"y\": -0.5919042643488698, \"yref\": \"y\"}, {\"ax\": 0, \"ay\": 20, \"showarrow\": false, \"text\": \"Itau\", \"x\": -0.38557333693654977, \"xref\": \"x\", \"y\": -0.882697976780302, \"yref\": \"y\"}, {\"ax\": 0, \"ay\": 20, \"showarrow\": false, \"text\": \"XP Investimentos\", \"x\": -0.7272066473198087, \"xref\": \"x\", \"y\": -0.1268677381592995, \"yref\": \"y\"}, {\"ax\": 0, \"ay\": 20, \"showarrow\": false, \"text\": \"CEF\", \"x\": -0.14696002380857265, \"xref\": \"x\", \"y\": 1.0046885110655432, \"yref\": \"y\"}, {\"ax\": 0, \"ay\": 20, \"showarrow\": false, \"text\": \"Santander\", \"x\": 0.07905002131766231, \"xref\": \"x\", \"y\": 0.8955780370318341, \"yref\": \"y\"}, {\"ax\": 0, \"ay\": 20, \"showarrow\": false, \"text\": \"Bradesco\", \"x\": 1.0, \"xref\": \"x\", \"y\": 0.516499477566303, \"yref\": \"y\"}, {\"ax\": 0, \"ay\": 20, \"showarrow\": false, \"text\": \"Next\", \"x\": -0.0025989560491212153, \"xref\": \"x\", \"y\": 0.10099415908157508, \"yref\": \"y\"}, {\"ax\": 0, \"ay\": 20, \"showarrow\": false, \"text\": \"Inter\", \"x\": 0.3209222912621613, \"xref\": \"x\", \"y\": 0.6488778587738595, \"yref\": \"y\"}, {\"ax\": 0, \"ay\": 20, \"showarrow\": false, \"text\": \"Nubank\", \"x\": -0.511884671831137, \"xref\": \"x\", \"y\": -0.4468154352919784, \"yref\": \"y\"}, {\"ax\": 0, \"ay\": 20, \"showarrow\": false, \"text\": \"BB\", \"x\": -1.0, \"xref\": \"x\", \"y\": 0.2687338133371212, \"yref\": \"y\"}, {\"ax\": 0, \"ay\": 20, \"showarrow\": false, \"text\": \"Itau\", \"x\": 0.5480293951882516, \"xref\": \"x\", \"y\": -0.6696835280884309, \"yref\": \"y\"}, {\"ax\": 0, \"ay\": 20, \"showarrow\": false, \"text\": \"XP Investimentos\", \"x\": 0.5941628687520275, \"xref\": \"x\", \"y\": -0.3270660286390984, \"yref\": \"y\"}, {\"ax\": 0, \"ay\": 20, \"showarrow\": false, \"text\": \"CEF\", \"x\": -0.3198556942533849, \"xref\": \"x\", \"y\": 0.968514284058619, \"yref\": \"y\"}, {\"ax\": 0, \"ay\": 20, \"showarrow\": false, \"text\": \"Santander\", \"x\": -0.4201649401029636, \"xref\": \"x\", \"y\": -0.331327231522452, \"yref\": \"y\"}, {\"ax\": 0, \"ay\": 20, \"showarrow\": false, \"text\": \"Bradesco\", \"x\": 0.7913897070341658, \"xref\": \"x\", \"y\": 0.6877721082907848, \"yref\": \"y\"}, {\"ax\": 0, \"ay\": 20, \"showarrow\": false, \"text\": \"Next\", \"x\": -0.0030199979996173576, \"xref\": \"x\", \"y\": 0.10137063557725087, \"yref\": \"y\"}, {\"ax\": 0, \"ay\": 20, \"showarrow\": false, \"text\": \"Inter\", \"x\": 0.5670502502594484, \"xref\": \"x\", \"y\": 0.8645824806046984, \"yref\": \"y\"}, {\"ax\": 0, \"ay\": 20, \"showarrow\": false, \"text\": \"Nubank\", \"x\": -0.9536909896512057, \"xref\": \"x\", \"y\": -0.3015368617474694, \"yref\": \"y\"}, {\"ax\": 0, \"ay\": 20, \"showarrow\": false, \"text\": \"BB\", \"x\": -0.45109241046149695, \"xref\": \"x\", \"y\": 0.25008482109981456, \"yref\": \"y\"}, {\"ax\": 0, \"ay\": 20, \"showarrow\": false, \"text\": \"Itau\", \"x\": 0.5654433547801657, \"xref\": \"x\", \"y\": -0.42544750900198425, \"yref\": \"y\"}, {\"ax\": 0, \"ay\": 20, \"showarrow\": false, \"text\": \"XP Investimentos\", \"x\": 0.889065212479466, \"xref\": \"x\", \"y\": 0.16549776185513249, \"yref\": \"y\"}, {\"ax\": 0, \"ay\": 20, \"showarrow\": false, \"text\": \"CEF\", \"x\": 0.10552512550355299, \"xref\": \"x\", \"y\": -0.8909357397137253, \"yref\": \"y\"}, {\"ax\": 0, \"ay\": 20, \"showarrow\": false, \"text\": \"Santander\", \"x\": -0.2737103931722155, \"xref\": \"x\", \"y\": 0.13251307134576407, \"yref\": \"y\"}, {\"ax\": 0, \"ay\": 20, \"showarrow\": false, \"text\": \"Bradesco\", \"x\": -0.4455701517380983, \"xref\": \"x\", \"y\": 1.0038713399805195, \"yref\": \"y\"}, {\"ax\": 0, \"ay\": 20, \"showarrow\": false, \"text\": \"Next\", \"x\": 0.002614262455472142, \"xref\": \"x\", \"y\": 0.10135763249791663, \"yref\": \"y\"}, {\"ax\": 0, \"ay\": 20, \"showarrow\": false, \"text\": \"Inter\", \"x\": 0.5738380906087422, \"xref\": \"x\", \"y\": 0.5114697599634861, \"yref\": \"y\"}, {\"ax\": 0, \"ay\": 20, \"showarrow\": false, \"text\": \"Nubank\", \"x\": -0.7533434798752591, \"xref\": \"x\", \"y\": 0.8291454471694305, \"yref\": \"y\"}, {\"ax\": 0, \"ay\": 20, \"showarrow\": false, \"text\": \"BB\", \"x\": 0.8466284590669418, \"xref\": \"x\", \"y\": -0.5980901831099215, \"yref\": \"y\"}, {\"ax\": 0, \"ay\": 20, \"showarrow\": false, \"text\": \"Itau\", \"x\": 0.4216720847431656, \"xref\": \"x\", \"y\": 1.1, \"yref\": \"y\"}, {\"ax\": 0, \"ay\": 20, \"showarrow\": false, \"text\": \"XP Investimentos\", \"x\": -0.5822478047944972, \"xref\": \"x\", \"y\": -0.42860772956616, \"yref\": \"y\"}, {\"ax\": 0, \"ay\": 20, \"showarrow\": false, \"text\": \"CEF\", \"x\": -0.7826433490202575, \"xref\": \"x\", \"y\": 0.3149510940086538, \"yref\": \"y\"}, {\"ax\": 0, \"ay\": 20, \"showarrow\": false, \"text\": \"Santander\", \"x\": 0.6510234799992493, \"xref\": \"x\", \"y\": -0.03377232425932761, \"yref\": \"y\"}, {\"ax\": 0, \"ay\": 20, \"showarrow\": false, \"text\": \"Bradesco\", \"x\": -0.3775417431835567, \"xref\": \"x\", \"y\": -0.8964536967040779, \"yref\": \"y\"}], \"hovermode\": \"closest\", \"margin\": {\"b\": 20, \"l\": 5, \"r\": 5, \"t\": 40}, \"scene\": {\"xaxis\": {\"showbackground\": false, \"showgrid\": false, \"showline\": false, \"showticklabels\": false, \"title\": {\"text\": \"\"}, \"zeroline\": false}, \"yaxis\": {\"showbackground\": false, \"showgrid\": false, \"showline\": false, \"showticklabels\": false, \"title\": {\"text\": \"\"}, \"zeroline\": false}, \"zaxis\": {\"showbackground\": false, \"showgrid\": false, \"showline\": false, \"showticklabels\": false, \"title\": {\"text\": \"\"}, \"zeroline\": false}}, \"showlegend\": false, \"title\": {\"font\": {\"size\": 16}, \"text\": \"coco\"}},\n",
       "                        {\"showLink\": false, \"linkText\": \"Export to plot.ly\", \"plotlyServerURL\": \"https://plot.ly\", \"responsive\": true}\n",
       "                    ).then(function(){\n",
       "                            \n",
       "var gd = document.getElementById('cf95c90c-9204-4180-ba2c-6369aee2e92e');\n",
       "var x = new MutationObserver(function (mutations, observer) {{\n",
       "        var display = window.getComputedStyle(gd).display;\n",
       "        if (!display || display === 'none') {{\n",
       "            console.log([gd, 'removed!']);\n",
       "            Plotly.purge(gd);\n",
       "            observer.disconnect();\n",
       "        }}\n",
       "}});\n",
       "\n",
       "// Listen for the removal of the full notebook cells\n",
       "var notebookContainer = gd.closest('#notebook-container');\n",
       "if (notebookContainer) {{\n",
       "    x.observe(notebookContainer, {childList: true});\n",
       "}}\n",
       "\n",
       "// Listen for the clearing of the current output cell\n",
       "var outputEl = gd.closest('.output');\n",
       "if (outputEl) {{\n",
       "    x.observe(outputEl, {childList: true});\n",
       "}}\n",
       "\n",
       "                        })\n",
       "                };\n",
       "                });\n",
       "            </script>\n",
       "        </div>"
      ]
     },
     "metadata": {},
     "output_type": "display_data"
    }
   ],
   "source": [
    "mygraph.plot(title='coco', node_size_col='clientes', node_color_col='clientes', edge_color_col='enviado')"
   ]
  },
  {
   "cell_type": "code",
   "execution_count": null,
   "metadata": {},
   "outputs": [],
   "source": [
    "mygraph.plot(title='coco', node_size_col='clientes', node_color_col='clientes', edge_width_col='enviado')"
   ]
  },
  {
   "cell_type": "code",
   "execution_count": null,
   "metadata": {},
   "outputs": [],
   "source": []
  },
  {
   "cell_type": "code",
   "execution_count": null,
   "metadata": {},
   "outputs": [],
   "source": []
  }
 ],
 "metadata": {
  "kernelspec": {
   "display_name": "Python 3",
   "language": "python",
   "name": "python3"
  },
  "language_info": {
   "codemirror_mode": {
    "name": "ipython",
    "version": 3
   },
   "file_extension": ".py",
   "mimetype": "text/x-python",
   "name": "python",
   "nbconvert_exporter": "python",
   "pygments_lexer": "ipython3",
   "version": "3.7.0"
  }
 },
 "nbformat": 4,
 "nbformat_minor": 2
}
