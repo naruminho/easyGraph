{
 "cells": [
  {
   "cell_type": "code",
   "execution_count": 1,
   "metadata": {},
   "outputs": [
    {
     "data": {
      "text/html": [
       "        <script type=\"text/javascript\">\n",
       "        window.PlotlyConfig = {MathJaxConfig: 'local'};\n",
       "        if (window.MathJax) {MathJax.Hub.Config({SVG: {font: \"STIX-Web\"}});}\n",
       "        if (typeof require !== 'undefined') {\n",
       "        require.undef(\"plotly\");\n",
       "        requirejs.config({\n",
       "            paths: {\n",
       "                'plotly': ['https://cdn.plot.ly/plotly-latest.min']\n",
       "            }\n",
       "        });\n",
       "        require(['plotly'], function(Plotly) {\n",
       "            window._Plotly = Plotly;\n",
       "        });\n",
       "        }\n",
       "        </script>\n",
       "        "
      ]
     },
     "metadata": {},
     "output_type": "display_data"
    }
   ],
   "source": [
    "%load_ext autoreload\n",
    "%autoreload 2\n",
    "from easyGraph import *\n",
    "import pandas as pd"
   ]
  },
  {
   "cell_type": "code",
   "execution_count": 2,
   "metadata": {},
   "outputs": [],
   "source": [
    "# creating an empty graph object\n",
    "mygraph = EasyGraph(6,dim=3)"
   ]
  },
  {
   "cell_type": "code",
   "execution_count": 3,
   "metadata": {},
   "outputs": [
    {
     "data": {
      "text/html": [
       "<div>\n",
       "<style scoped>\n",
       "    .dataframe tbody tr th:only-of-type {\n",
       "        vertical-align: middle;\n",
       "    }\n",
       "\n",
       "    .dataframe tbody tr th {\n",
       "        vertical-align: top;\n",
       "    }\n",
       "\n",
       "    .dataframe thead th {\n",
       "        text-align: right;\n",
       "    }\n",
       "</style>\n",
       "<table border=\"1\" class=\"dataframe\">\n",
       "  <thead>\n",
       "    <tr style=\"text-align: right;\">\n",
       "      <th></th>\n",
       "      <th>banco</th>\n",
       "      <th>clientes</th>\n",
       "      <th>lucro</th>\n",
       "    </tr>\n",
       "  </thead>\n",
       "  <tbody>\n",
       "    <tr>\n",
       "      <th>0</th>\n",
       "      <td>Next</td>\n",
       "      <td>2000</td>\n",
       "      <td>234</td>\n",
       "    </tr>\n",
       "    <tr>\n",
       "      <th>1</th>\n",
       "      <td>Inter</td>\n",
       "      <td>35000</td>\n",
       "      <td>1111</td>\n",
       "    </tr>\n",
       "    <tr>\n",
       "      <th>2</th>\n",
       "      <td>Nubank</td>\n",
       "      <td>234243</td>\n",
       "      <td>2234</td>\n",
       "    </tr>\n",
       "    <tr>\n",
       "      <th>3</th>\n",
       "      <td>BB</td>\n",
       "      <td>23443</td>\n",
       "      <td>2344</td>\n",
       "    </tr>\n",
       "    <tr>\n",
       "      <th>4</th>\n",
       "      <td>Itau</td>\n",
       "      <td>2</td>\n",
       "      <td>444</td>\n",
       "    </tr>\n",
       "  </tbody>\n",
       "</table>\n",
       "</div>"
      ],
      "text/plain": [
       "    banco  clientes  lucro\n",
       "0    Next      2000    234\n",
       "1   Inter     35000   1111\n",
       "2  Nubank    234243   2234\n",
       "3      BB     23443   2344\n",
       "4    Itau         2    444"
      ]
     },
     "execution_count": 3,
     "metadata": {},
     "output_type": "execute_result"
    }
   ],
   "source": [
    "# creating a node dataframe \n",
    "bancos = pd.DataFrame({\n",
    "        'banco' : ['Next', 'Inter', 'Nubank', 'BB', 'Itau', 'XP Investimentos', 'CEF', 'Santander','Bradesco'],\n",
    "        'clientes': [2000,   35000, 234243, 23443,2,1,232323, 666, 24433],\n",
    "        'lucro': [234, 1111, 2234, 2344, 444, 222, 1, 1, 9877] \n",
    "})\n",
    "bancos.head()"
   ]
  },
  {
   "cell_type": "code",
   "execution_count": 4,
   "metadata": {},
   "outputs": [],
   "source": [
    "# adding the nodes to the graph\n",
    "# 'banco' is the id column \n",
    "mygraph.node.load(bancos, 'banco')"
   ]
  },
  {
   "cell_type": "code",
   "execution_count": 5,
   "metadata": {},
   "outputs": [
    {
     "data": {
      "text/html": [
       "<div>\n",
       "<style scoped>\n",
       "    .dataframe tbody tr th:only-of-type {\n",
       "        vertical-align: middle;\n",
       "    }\n",
       "\n",
       "    .dataframe tbody tr th {\n",
       "        vertical-align: top;\n",
       "    }\n",
       "\n",
       "    .dataframe thead th {\n",
       "        text-align: right;\n",
       "    }\n",
       "</style>\n",
       "<table border=\"1\" class=\"dataframe\">\n",
       "  <thead>\n",
       "    <tr style=\"text-align: right;\">\n",
       "      <th></th>\n",
       "      <th>de</th>\n",
       "      <th>para</th>\n",
       "      <th>enviado</th>\n",
       "      <th>recebido</th>\n",
       "    </tr>\n",
       "  </thead>\n",
       "  <tbody>\n",
       "    <tr>\n",
       "      <th>0</th>\n",
       "      <td>Next</td>\n",
       "      <td>Bradesco</td>\n",
       "      <td>25500</td>\n",
       "      <td>2344</td>\n",
       "    </tr>\n",
       "    <tr>\n",
       "      <th>1</th>\n",
       "      <td>Next</td>\n",
       "      <td>Inter</td>\n",
       "      <td>3500</td>\n",
       "      <td>111</td>\n",
       "    </tr>\n",
       "    <tr>\n",
       "      <th>2</th>\n",
       "      <td>Next</td>\n",
       "      <td>Nubank</td>\n",
       "      <td>12345</td>\n",
       "      <td>22234</td>\n",
       "    </tr>\n",
       "    <tr>\n",
       "      <th>3</th>\n",
       "      <td>Next</td>\n",
       "      <td>BB</td>\n",
       "      <td>6664</td>\n",
       "      <td>234</td>\n",
       "    </tr>\n",
       "    <tr>\n",
       "      <th>4</th>\n",
       "      <td>Next</td>\n",
       "      <td>Itau</td>\n",
       "      <td>222</td>\n",
       "      <td>4344</td>\n",
       "    </tr>\n",
       "  </tbody>\n",
       "</table>\n",
       "</div>"
      ],
      "text/plain": [
       "     de      para  enviado  recebido\n",
       "0  Next  Bradesco    25500      2344\n",
       "1  Next     Inter     3500       111\n",
       "2  Next    Nubank    12345     22234\n",
       "3  Next        BB     6664       234\n",
       "4  Next      Itau      222      4344"
      ]
     },
     "execution_count": 5,
     "metadata": {},
     "output_type": "execute_result"
    }
   ],
   "source": [
    "teds = pd.DataFrame({\n",
    "        'de' : ['Next', 'Next', 'Next', 'Next', 'Next', 'Next', 'Next', 'Next'],\n",
    "        'para' : ['Bradesco', 'Inter', 'Nubank', 'BB', 'Itau', 'XP Investimentos', 'CEF', 'Santander'],\n",
    "        'enviado': [25500,   3500, 12345, 6664, 222,111, 2323, 666],\n",
    "        'recebido': [2344, 111, 22234, 234, 4344, 2322, 1111, 1111] \n",
    "})\n",
    "teds.head()"
   ]
  },
  {
   "cell_type": "code",
   "execution_count": 6,
   "metadata": {},
   "outputs": [],
   "source": [
    "mygraph.edge.load(teds, 'de', 'para')"
   ]
  },
  {
   "cell_type": "code",
   "execution_count": 7,
   "metadata": {},
   "outputs": [
    {
     "data": {
      "application/vnd.plotly.v1+json": {
       "config": {
        "linkText": "Export to plot.ly",
        "plotlyServerURL": "https://plot.ly",
        "responsive": true,
        "showLink": false
       },
       "data": [
        {
         "hoverinfo": "text",
         "marker": {
          "cmax": null,
          "cmin": null,
          "color": [
           "rgb(0, 0, 6)",
           "rgb(35, 17, 82)",
           "rgb(251, 252, 191)",
           "rgb(20, 13, 53)",
           "rgb(0, 0, 3)",
           "rgb(0, 0, 3)",
           "rgb(251, 247, 185)",
           "rgb(0, 0, 3)",
           "rgb(21, 14, 56)"
          ],
          "colorbar": {
           "thickness": 15,
           "title": {
            "side": "right",
            "text": "coco"
           },
           "xanchor": "left"
          },
          "colorscale": "Viridis",
          "line": {
           "width": 2
          },
          "reversescale": true,
          "showscale": false,
          "size": [
           2000,
           35000,
           234243,
           23443,
           2,
           1,
           232323,
           666,
           24433
          ],
          "sizemin": 15,
          "sizemode": "area",
          "sizeref": 187.3944
         },
         "mode": "markers",
         "text": [
          "<b>Next</b><br>clientes: 2000<br>lucro: 234<br>",
          "<b>Inter</b><br>clientes: 35000<br>lucro: 1111<br>",
          "<b>Nubank</b><br>clientes: 234243<br>lucro: 2234<br>",
          "<b>BB</b><br>clientes: 23443<br>lucro: 2344<br>",
          "<b>Itau</b><br>clientes: 2<br>lucro: 444<br>",
          "<b>XP Investimentos</b><br>clientes: 1<br>lucro: 222<br>",
          "<b>CEF</b><br>clientes: 232323<br>lucro: 1<br>",
          "<b>Santander</b><br>clientes: 666<br>lucro: 1<br>",
          "<b>Bradesco</b><br>clientes: 24433<br>lucro: 9877<br>"
         ],
         "type": "scatter3d",
         "uid": "5098f81c-795a-4b56-8239-16fcb6aa09a5",
         "x": [
          0.0022760032368770926,
          0.14999891166145918,
          -0.7227789890455298,
          -0.84669134423157,
          0.3121301693669701,
          0.9559577429078483,
          0.5451736102433948,
          0.014179898044638616,
          -0.4102460021840891
         ],
         "y": [
          0.0009627654151088772,
          0.29326728499068727,
          0.32211950172870496,
          -0.0564586023190209,
          -0.22357454056179354,
          0.2814327946907496,
          -0.7259275348925855,
          1,
          -0.8918216690518511
         ],
         "z": [
          0.0009010313116332892,
          0.9492822422182544,
          -0.6180754041089296,
          0.532715188327166,
          -0.927235673758245,
          -0.10741720151361929,
          0.42312237613068077,
          -0.04986024172243585,
          -0.20343231688450455
         ]
        },
        {
         "hoverinfo": "none",
         "line": {
          "color": "rgb(251, 252, 191)",
          "width": 5.5
         },
         "mode": "lines",
         "name": "Next-Bradesco",
         "type": "scatter3d",
         "uid": "50a8cff8-e9ff-43d6-b2a6-2e9a4320f821",
         "x": [
          0.0022760032368770926,
          -0.4102460021840891,
          null
         ],
         "y": [
          0.0009627654151088772,
          -0.8918216690518511,
          null
         ],
         "z": [
          0.0009010313116332892,
          -0.20343231688450455,
          null
         ]
        },
        {
         "hoverinfo": "none",
         "line": {
          "color": "rgb(30, 16, 73)",
          "width": 1.1674150222537318
         },
         "mode": "lines",
         "name": "Next-Inter",
         "type": "scatter3d",
         "uid": "0470afd8-3164-4e5a-8ea0-87500b36581e",
         "x": [
          0.0022760032368770926,
          0.14999891166145918,
          null
         ],
         "y": [
          0.0009627654151088772,
          0.29326728499068727,
          null
         ],
         "z": [
          0.0009010313116332892,
          0.9492822422182544,
          null
         ]
        },
        {
         "hoverinfo": "none",
         "line": {
          "color": "rgb(172, 51, 123)",
          "width": 2.9093111189885383
         },
         "mode": "lines",
         "name": "Next-Nubank",
         "type": "scatter3d",
         "uid": "dbe9a460-3c51-4881-ba73-219639767737",
         "x": [
          0.0022760032368770926,
          -0.7227789890455298,
          null
         ],
         "y": [
          0.0009627654151088772,
          0.32211950172870496,
          null
         ],
         "z": [
          0.0009010313116332892,
          -0.6180754041089296,
          null
         ]
        },
        {
         "hoverinfo": "none",
         "line": {
          "color": "rgb(82, 18, 124)",
          "width": 1.790519516325968
         },
         "mode": "lines",
         "name": "Next-BB",
         "type": "scatter3d",
         "uid": "cb9ff334-415d-48cc-91e9-1bd4fd3d9ce0",
         "x": [
          0.0022760032368770926,
          -0.84669134423157,
          null
         ],
         "y": [
          0.0009627654151088772,
          -0.0564586023190209,
          null
         ],
         "z": [
          0.0009010313116332892,
          0.532715188327166,
          null
         ]
        },
        {
         "hoverinfo": "none",
         "line": {
          "color": "rgb(0, 0, 4)",
          "width": 0.521859860569538
         },
         "mode": "lines",
         "name": "Next-Itau",
         "type": "scatter3d",
         "uid": "c831c5e1-f86c-4f1c-8cf7-3c495d30f8fb",
         "x": [
          0.0022760032368770926,
          0.3121301693669701,
          null
         ],
         "y": [
          0.0009627654151088772,
          -0.22357454056179354,
          null
         ],
         "z": [
          0.0009010313116332892,
          -0.927235673758245,
          null
         ]
        },
        {
         "hoverinfo": "none",
         "line": {
          "color": "rgb(0, 0, 3)",
          "width": 0.5
         },
         "mode": "lines",
         "name": "Next-XP Investimentos",
         "type": "scatter3d",
         "uid": "8d1fad94-1a84-4cd1-a63d-c76b63b6db00",
         "x": [
          0.0022760032368770926,
          0.9559577429078483,
          null
         ],
         "y": [
          0.0009627654151088772,
          0.2814327946907496,
          null
         ],
         "z": [
          0.0009010313116332892,
          -0.10741720151361929,
          null
         ]
        },
        {
         "hoverinfo": "none",
         "line": {
          "color": "rgb(16, 12, 47)",
          "width": 0.9356217259443066
         },
         "mode": "lines",
         "name": "Next-CEF",
         "type": "scatter3d",
         "uid": "6349f800-ec62-4ea1-9063-0648acf2d068",
         "x": [
          0.0022760032368770926,
          0.5451736102433948,
          null
         ],
         "y": [
          0.0009627654151088772,
          -0.7259275348925855,
          null
         ],
         "z": [
          0.0009010313116332892,
          0.42312237613068077,
          null
         ]
        },
        {
         "hoverinfo": "none",
         "line": {
          "color": "rgb(1, 1, 11)",
          "width": 0.60929930284769
         },
         "mode": "lines",
         "name": "Next-Santander",
         "type": "scatter3d",
         "uid": "10b2cef7-e67c-4846-8e55-5f64b3e84ea4",
         "x": [
          0.0022760032368770926,
          0.014179898044638616,
          null
         ],
         "y": [
          0.0009627654151088772,
          1,
          null
         ],
         "z": [
          0.0009010313116332892,
          -0.04986024172243585,
          null
         ]
        }
       ],
       "layout": {
        "height": 1000,
        "margin": {
         "t": 100
        },
        "scene": {
         "annotations": [
          {
           "font": {
            "size": 14
           },
           "showarrow": false,
           "text": "Next",
           "x": 0.0022760032368770926,
           "xanchor": "left",
           "xshift": 10,
           "y": 0.10096276541510889,
           "yanchor": "bottom",
           "z": 0.0009010313116332892
          },
          {
           "font": {
            "size": 14
           },
           "showarrow": false,
           "text": "Inter",
           "x": 0.14999891166145918,
           "xanchor": "left",
           "xshift": 10,
           "y": 0.3932672849906873,
           "yanchor": "bottom",
           "z": 0.9492822422182544
          },
          {
           "font": {
            "size": 14
           },
           "showarrow": false,
           "text": "Nubank",
           "x": -0.7227789890455298,
           "xanchor": "left",
           "xshift": 10,
           "y": 0.42211950172870494,
           "yanchor": "bottom",
           "z": -0.6180754041089296
          },
          {
           "font": {
            "size": 14
           },
           "showarrow": false,
           "text": "BB",
           "x": -0.84669134423157,
           "xanchor": "left",
           "xshift": 10,
           "y": 0.04354139768097911,
           "yanchor": "bottom",
           "z": 0.532715188327166
          },
          {
           "font": {
            "size": 14
           },
           "showarrow": false,
           "text": "Itau",
           "x": 0.3121301693669701,
           "xanchor": "left",
           "xshift": 10,
           "y": -0.12357454056179354,
           "yanchor": "bottom",
           "z": -0.927235673758245
          },
          {
           "font": {
            "size": 14
           },
           "showarrow": false,
           "text": "XP Investimentos",
           "x": 0.9559577429078483,
           "xanchor": "left",
           "xshift": 10,
           "y": 0.38143279469074964,
           "yanchor": "bottom",
           "z": -0.10741720151361929
          },
          {
           "font": {
            "size": 14
           },
           "showarrow": false,
           "text": "CEF",
           "x": 0.5451736102433948,
           "xanchor": "left",
           "xshift": 10,
           "y": -0.6259275348925856,
           "yanchor": "bottom",
           "z": 0.42312237613068077
          },
          {
           "font": {
            "size": 14
           },
           "showarrow": false,
           "text": "Santander",
           "x": 0.014179898044638616,
           "xanchor": "left",
           "xshift": 10,
           "y": 1.1,
           "yanchor": "bottom",
           "z": -0.04986024172243585
          },
          {
           "font": {
            "size": 14
           },
           "showarrow": false,
           "text": "Bradesco",
           "x": -0.4102460021840891,
           "xanchor": "left",
           "xshift": 10,
           "y": -0.7918216690518511,
           "yanchor": "bottom",
           "z": -0.20343231688450455
          }
         ],
         "aspectratio": {
          "x": 1,
          "y": 1,
          "z": 1
         },
         "camera": {
          "center": {
           "x": 0,
           "y": 0,
           "z": 0
          },
          "eye": {
           "x": 1.96903462608,
           "y": -1.09022831971,
           "z": 0.405345349304
          },
          "up": {
           "x": 0,
           "y": 0,
           "z": 1
          }
         },
         "dragmode": "turntable",
         "xaxis": {
          "autorange": true,
          "showgrid": false,
          "showline": false,
          "showticklabels": false,
          "ticks": "",
          "title": {
           "text": ""
          },
          "zeroline": false
         },
         "yaxis": {
          "autorange": true,
          "showgrid": false,
          "showline": false,
          "showticklabels": false,
          "ticks": "",
          "title": {
           "text": ""
          },
          "zeroline": false
         },
         "zaxis": {
          "autorange": true,
          "showgrid": false,
          "showline": false,
          "showticklabels": false,
          "ticks": "",
          "title": {
           "text": ""
          },
          "zeroline": false
         }
        },
        "showlegend": true,
        "width": 1000
       }
      },
      "text/html": [
       "<div>\n",
       "        \n",
       "        \n",
       "            <div id=\"d5aad18f-f305-42b0-a68f-abddf79dff7e\" class=\"plotly-graph-div\" style=\"height:1000px; width:1000px;\"></div>\n",
       "            <script type=\"text/javascript\">\n",
       "                require([\"plotly\"], function(Plotly) {\n",
       "                    window.PLOTLYENV=window.PLOTLYENV || {};\n",
       "                    window.PLOTLYENV.BASE_URL='https://plot.ly';\n",
       "                    \n",
       "                if (document.getElementById(\"d5aad18f-f305-42b0-a68f-abddf79dff7e\")) {\n",
       "                    Plotly.newPlot(\n",
       "                        'd5aad18f-f305-42b0-a68f-abddf79dff7e',\n",
       "                        [{\"hoverinfo\": \"text\", \"marker\": {\"cmax\": null, \"cmin\": null, \"color\": [\"rgb(0, 0, 6)\", \"rgb(35, 17, 82)\", \"rgb(251, 252, 191)\", \"rgb(20, 13, 53)\", \"rgb(0, 0, 3)\", \"rgb(0, 0, 3)\", \"rgb(251, 247, 185)\", \"rgb(0, 0, 3)\", \"rgb(21, 14, 56)\"], \"colorbar\": {\"thickness\": 15, \"title\": {\"side\": \"right\", \"text\": \"coco\"}, \"xanchor\": \"left\"}, \"colorscale\": \"Viridis\", \"line\": {\"width\": 2}, \"reversescale\": true, \"showscale\": false, \"size\": [2000, 35000, 234243, 23443, 2, 1, 232323, 666, 24433], \"sizemin\": 15, \"sizemode\": \"area\", \"sizeref\": 187.3944}, \"mode\": \"markers\", \"text\": [\"<b>Next</b><br>clientes: 2000<br>lucro: 234<br>\", \"<b>Inter</b><br>clientes: 35000<br>lucro: 1111<br>\", \"<b>Nubank</b><br>clientes: 234243<br>lucro: 2234<br>\", \"<b>BB</b><br>clientes: 23443<br>lucro: 2344<br>\", \"<b>Itau</b><br>clientes: 2<br>lucro: 444<br>\", \"<b>XP Investimentos</b><br>clientes: 1<br>lucro: 222<br>\", \"<b>CEF</b><br>clientes: 232323<br>lucro: 1<br>\", \"<b>Santander</b><br>clientes: 666<br>lucro: 1<br>\", \"<b>Bradesco</b><br>clientes: 24433<br>lucro: 9877<br>\"], \"type\": \"scatter3d\", \"uid\": \"6f83232d-c45c-4d79-830a-8b320ceefaee\", \"x\": [0.0022760032368770926, 0.14999891166145918, -0.7227789890455298, -0.84669134423157, 0.3121301693669701, 0.9559577429078483, 0.5451736102433948, 0.014179898044638616, -0.4102460021840891], \"y\": [0.0009627654151088772, 0.29326728499068727, 0.32211950172870496, -0.0564586023190209, -0.22357454056179354, 0.2814327946907496, -0.7259275348925855, 1.0, -0.8918216690518511], \"z\": [0.0009010313116332892, 0.9492822422182544, -0.6180754041089296, 0.532715188327166, -0.927235673758245, -0.10741720151361929, 0.42312237613068077, -0.04986024172243585, -0.20343231688450455]}, {\"hoverinfo\": \"none\", \"line\": {\"color\": \"rgb(251, 252, 191)\", \"width\": 5.5}, \"mode\": \"lines\", \"name\": \"Next-Bradesco\", \"type\": \"scatter3d\", \"uid\": \"4a44bce0-96fd-44c7-8442-338e0aebf5ff\", \"x\": [0.0022760032368770926, -0.4102460021840891, null], \"y\": [0.0009627654151088772, -0.8918216690518511, null], \"z\": [0.0009010313116332892, -0.20343231688450455, null]}, {\"hoverinfo\": \"none\", \"line\": {\"color\": \"rgb(30, 16, 73)\", \"width\": 1.1674150222537318}, \"mode\": \"lines\", \"name\": \"Next-Inter\", \"type\": \"scatter3d\", \"uid\": \"d0fec619-6c6a-4ec5-a766-8910495c2cca\", \"x\": [0.0022760032368770926, 0.14999891166145918, null], \"y\": [0.0009627654151088772, 0.29326728499068727, null], \"z\": [0.0009010313116332892, 0.9492822422182544, null]}, {\"hoverinfo\": \"none\", \"line\": {\"color\": \"rgb(172, 51, 123)\", \"width\": 2.9093111189885383}, \"mode\": \"lines\", \"name\": \"Next-Nubank\", \"type\": \"scatter3d\", \"uid\": \"2dba3c36-22da-4b08-94b9-65657e45a4de\", \"x\": [0.0022760032368770926, -0.7227789890455298, null], \"y\": [0.0009627654151088772, 0.32211950172870496, null], \"z\": [0.0009010313116332892, -0.6180754041089296, null]}, {\"hoverinfo\": \"none\", \"line\": {\"color\": \"rgb(82, 18, 124)\", \"width\": 1.790519516325968}, \"mode\": \"lines\", \"name\": \"Next-BB\", \"type\": \"scatter3d\", \"uid\": \"06a08593-3d02-4f50-b7d9-45e2f202b073\", \"x\": [0.0022760032368770926, -0.84669134423157, null], \"y\": [0.0009627654151088772, -0.0564586023190209, null], \"z\": [0.0009010313116332892, 0.532715188327166, null]}, {\"hoverinfo\": \"none\", \"line\": {\"color\": \"rgb(0, 0, 4)\", \"width\": 0.521859860569538}, \"mode\": \"lines\", \"name\": \"Next-Itau\", \"type\": \"scatter3d\", \"uid\": \"647ec7f9-6ed7-4577-b16c-c02c6e58cf02\", \"x\": [0.0022760032368770926, 0.3121301693669701, null], \"y\": [0.0009627654151088772, -0.22357454056179354, null], \"z\": [0.0009010313116332892, -0.927235673758245, null]}, {\"hoverinfo\": \"none\", \"line\": {\"color\": \"rgb(0, 0, 3)\", \"width\": 0.5}, \"mode\": \"lines\", \"name\": \"Next-XP Investimentos\", \"type\": \"scatter3d\", \"uid\": \"143177eb-0de9-4389-9a0b-244dff7902d3\", \"x\": [0.0022760032368770926, 0.9559577429078483, null], \"y\": [0.0009627654151088772, 0.2814327946907496, null], \"z\": [0.0009010313116332892, -0.10741720151361929, null]}, {\"hoverinfo\": \"none\", \"line\": {\"color\": \"rgb(16, 12, 47)\", \"width\": 0.9356217259443066}, \"mode\": \"lines\", \"name\": \"Next-CEF\", \"type\": \"scatter3d\", \"uid\": \"dd80970a-39c2-4994-b9e9-f5e63e0ef284\", \"x\": [0.0022760032368770926, 0.5451736102433948, null], \"y\": [0.0009627654151088772, -0.7259275348925855, null], \"z\": [0.0009010313116332892, 0.42312237613068077, null]}, {\"hoverinfo\": \"none\", \"line\": {\"color\": \"rgb(1, 1, 11)\", \"width\": 0.60929930284769}, \"mode\": \"lines\", \"name\": \"Next-Santander\", \"type\": \"scatter3d\", \"uid\": \"c8af9670-a44d-4d17-b723-285ff120a8aa\", \"x\": [0.0022760032368770926, 0.014179898044638616, null], \"y\": [0.0009627654151088772, 1.0, null], \"z\": [0.0009010313116332892, -0.04986024172243585, null]}],\n",
       "                        {\"height\": 1000, \"margin\": {\"t\": 100}, \"scene\": {\"annotations\": [{\"font\": {\"size\": 14}, \"showarrow\": false, \"text\": \"Next\", \"x\": 0.0022760032368770926, \"xanchor\": \"left\", \"xshift\": 10, \"y\": 0.10096276541510889, \"yanchor\": \"bottom\", \"z\": 0.0009010313116332892}, {\"font\": {\"size\": 14}, \"showarrow\": false, \"text\": \"Inter\", \"x\": 0.14999891166145918, \"xanchor\": \"left\", \"xshift\": 10, \"y\": 0.3932672849906873, \"yanchor\": \"bottom\", \"z\": 0.9492822422182544}, {\"font\": {\"size\": 14}, \"showarrow\": false, \"text\": \"Nubank\", \"x\": -0.7227789890455298, \"xanchor\": \"left\", \"xshift\": 10, \"y\": 0.42211950172870494, \"yanchor\": \"bottom\", \"z\": -0.6180754041089296}, {\"font\": {\"size\": 14}, \"showarrow\": false, \"text\": \"BB\", \"x\": -0.84669134423157, \"xanchor\": \"left\", \"xshift\": 10, \"y\": 0.04354139768097911, \"yanchor\": \"bottom\", \"z\": 0.532715188327166}, {\"font\": {\"size\": 14}, \"showarrow\": false, \"text\": \"Itau\", \"x\": 0.3121301693669701, \"xanchor\": \"left\", \"xshift\": 10, \"y\": -0.12357454056179354, \"yanchor\": \"bottom\", \"z\": -0.927235673758245}, {\"font\": {\"size\": 14}, \"showarrow\": false, \"text\": \"XP Investimentos\", \"x\": 0.9559577429078483, \"xanchor\": \"left\", \"xshift\": 10, \"y\": 0.38143279469074964, \"yanchor\": \"bottom\", \"z\": -0.10741720151361929}, {\"font\": {\"size\": 14}, \"showarrow\": false, \"text\": \"CEF\", \"x\": 0.5451736102433948, \"xanchor\": \"left\", \"xshift\": 10, \"y\": -0.6259275348925856, \"yanchor\": \"bottom\", \"z\": 0.42312237613068077}, {\"font\": {\"size\": 14}, \"showarrow\": false, \"text\": \"Santander\", \"x\": 0.014179898044638616, \"xanchor\": \"left\", \"xshift\": 10, \"y\": 1.1, \"yanchor\": \"bottom\", \"z\": -0.04986024172243585}, {\"font\": {\"size\": 14}, \"showarrow\": false, \"text\": \"Bradesco\", \"x\": -0.4102460021840891, \"xanchor\": \"left\", \"xshift\": 10, \"y\": -0.7918216690518511, \"yanchor\": \"bottom\", \"z\": -0.20343231688450455}], \"aspectratio\": {\"x\": 1, \"y\": 1, \"z\": 1}, \"camera\": {\"center\": {\"x\": 0, \"y\": 0, \"z\": 0}, \"eye\": {\"x\": 1.96903462608, \"y\": -1.09022831971, \"z\": 0.405345349304}, \"up\": {\"x\": 0, \"y\": 0, \"z\": 1}}, \"dragmode\": \"turntable\", \"xaxis\": {\"autorange\": true, \"showgrid\": false, \"showline\": false, \"showticklabels\": false, \"ticks\": \"\", \"title\": {\"text\": \"\"}, \"zeroline\": false}, \"yaxis\": {\"autorange\": true, \"showgrid\": false, \"showline\": false, \"showticklabels\": false, \"ticks\": \"\", \"title\": {\"text\": \"\"}, \"zeroline\": false}, \"zaxis\": {\"autorange\": true, \"showgrid\": false, \"showline\": false, \"showticklabels\": false, \"ticks\": \"\", \"title\": {\"text\": \"\"}, \"zeroline\": false}}, \"showlegend\": true, \"width\": 1000},\n",
       "                        {\"showLink\": false, \"linkText\": \"Export to plot.ly\", \"plotlyServerURL\": \"https://plot.ly\", \"responsive\": true}\n",
       "                    ).then(function(){\n",
       "                            \n",
       "var gd = document.getElementById('d5aad18f-f305-42b0-a68f-abddf79dff7e');\n",
       "var x = new MutationObserver(function (mutations, observer) {{\n",
       "        var display = window.getComputedStyle(gd).display;\n",
       "        if (!display || display === 'none') {{\n",
       "            console.log([gd, 'removed!']);\n",
       "            Plotly.purge(gd);\n",
       "            observer.disconnect();\n",
       "        }}\n",
       "}});\n",
       "\n",
       "// Listen for the removal of the full notebook cells\n",
       "var notebookContainer = gd.closest('#notebook-container');\n",
       "if (notebookContainer) {{\n",
       "    x.observe(notebookContainer, {childList: true});\n",
       "}}\n",
       "\n",
       "// Listen for the clearing of the current output cell\n",
       "var outputEl = gd.closest('.output');\n",
       "if (outputEl) {{\n",
       "    x.observe(outputEl, {childList: true});\n",
       "}}\n",
       "\n",
       "                        })\n",
       "                };\n",
       "                });\n",
       "            </script>\n",
       "        </div>"
      ]
     },
     "metadata": {},
     "output_type": "display_data"
    }
   ],
   "source": [
    "mygraph.plot(title='coco', node_size_col='clientes', node_color_col='clientes', edge_width_col='enviado', edge_color_col='enviado')"
   ]
  },
  {
   "cell_type": "code",
   "execution_count": null,
   "metadata": {},
   "outputs": [],
   "source": []
  }
 ],
 "metadata": {
  "kernelspec": {
   "display_name": "Python 3",
   "language": "python",
   "name": "python3"
  },
  "language_info": {
   "codemirror_mode": {
    "name": "ipython",
    "version": 3
   },
   "file_extension": ".py",
   "mimetype": "text/x-python",
   "name": "python",
   "nbconvert_exporter": "python",
   "pygments_lexer": "ipython3",
   "version": "3.7.0"
  }
 },
 "nbformat": 4,
 "nbformat_minor": 2
}
