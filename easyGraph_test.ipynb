{
 "cells": [
  {
   "cell_type": "code",
   "execution_count": 8,
   "metadata": {},
   "outputs": [
    {
     "name": "stdout",
     "output_type": "stream",
     "text": [
      "The autoreload extension is already loaded. To reload it, use:\n",
      "  %reload_ext autoreload\n"
     ]
    }
   ],
   "source": [
    "%load_ext autoreload\n",
    "%autoreload 2\n",
    "from easyGraph import *\n",
    "import pandas as pd"
   ]
  },
  {
   "cell_type": "code",
   "execution_count": 9,
   "metadata": {},
   "outputs": [],
   "source": [
    "# creating an empty graph object\n",
    "mygraph = EasyGraph(6, dim=3)"
   ]
  },
  {
   "cell_type": "code",
   "execution_count": 10,
   "metadata": {},
   "outputs": [
    {
     "data": {
      "text/html": [
       "<div>\n",
       "<style scoped>\n",
       "    .dataframe tbody tr th:only-of-type {\n",
       "        vertical-align: middle;\n",
       "    }\n",
       "\n",
       "    .dataframe tbody tr th {\n",
       "        vertical-align: top;\n",
       "    }\n",
       "\n",
       "    .dataframe thead th {\n",
       "        text-align: right;\n",
       "    }\n",
       "</style>\n",
       "<table border=\"1\" class=\"dataframe\">\n",
       "  <thead>\n",
       "    <tr style=\"text-align: right;\">\n",
       "      <th></th>\n",
       "      <th>banco</th>\n",
       "      <th>clientes</th>\n",
       "      <th>lucro</th>\n",
       "    </tr>\n",
       "  </thead>\n",
       "  <tbody>\n",
       "    <tr>\n",
       "      <th>0</th>\n",
       "      <td>Next</td>\n",
       "      <td>2000</td>\n",
       "      <td>234</td>\n",
       "    </tr>\n",
       "    <tr>\n",
       "      <th>1</th>\n",
       "      <td>Inter</td>\n",
       "      <td>35000</td>\n",
       "      <td>1111</td>\n",
       "    </tr>\n",
       "    <tr>\n",
       "      <th>2</th>\n",
       "      <td>Nubank</td>\n",
       "      <td>234243</td>\n",
       "      <td>2234</td>\n",
       "    </tr>\n",
       "    <tr>\n",
       "      <th>3</th>\n",
       "      <td>BB</td>\n",
       "      <td>23443</td>\n",
       "      <td>2344</td>\n",
       "    </tr>\n",
       "    <tr>\n",
       "      <th>4</th>\n",
       "      <td>Itau</td>\n",
       "      <td>2</td>\n",
       "      <td>444</td>\n",
       "    </tr>\n",
       "  </tbody>\n",
       "</table>\n",
       "</div>"
      ],
      "text/plain": [
       "    banco  clientes  lucro\n",
       "0    Next      2000    234\n",
       "1   Inter     35000   1111\n",
       "2  Nubank    234243   2234\n",
       "3      BB     23443   2344\n",
       "4    Itau         2    444"
      ]
     },
     "execution_count": 10,
     "metadata": {},
     "output_type": "execute_result"
    }
   ],
   "source": [
    "# creating a node dataframe \n",
    "bancos = pd.DataFrame({\n",
    "        'banco' : ['Next', 'Inter', 'Nubank', 'BB', 'Itau', 'XP Investimentos', 'CEF', 'Santander','Bradesco'],\n",
    "        'clientes': [2000,   35000, 234243, 23443,2,1,232323, 666, 24433],\n",
    "        'lucro': [234, 1111, 2234, 2344, 444, 222, 1, 1, 9877] \n",
    "})\n",
    "bancos.head()"
   ]
  },
  {
   "cell_type": "code",
   "execution_count": 11,
   "metadata": {},
   "outputs": [],
   "source": [
    "# adding the nodes to the graph\n",
    "# 'banco' is the id column \n",
    "mygraph.node.load(bancos, 'banco')"
   ]
  },
  {
   "cell_type": "code",
   "execution_count": 12,
   "metadata": {},
   "outputs": [
    {
     "data": {
      "text/html": [
       "<div>\n",
       "<style scoped>\n",
       "    .dataframe tbody tr th:only-of-type {\n",
       "        vertical-align: middle;\n",
       "    }\n",
       "\n",
       "    .dataframe tbody tr th {\n",
       "        vertical-align: top;\n",
       "    }\n",
       "\n",
       "    .dataframe thead th {\n",
       "        text-align: right;\n",
       "    }\n",
       "</style>\n",
       "<table border=\"1\" class=\"dataframe\">\n",
       "  <thead>\n",
       "    <tr style=\"text-align: right;\">\n",
       "      <th></th>\n",
       "      <th>de</th>\n",
       "      <th>para</th>\n",
       "      <th>enviado</th>\n",
       "      <th>recebido</th>\n",
       "    </tr>\n",
       "  </thead>\n",
       "  <tbody>\n",
       "    <tr>\n",
       "      <th>0</th>\n",
       "      <td>Next</td>\n",
       "      <td>Bradesco</td>\n",
       "      <td>25500</td>\n",
       "      <td>2344</td>\n",
       "    </tr>\n",
       "    <tr>\n",
       "      <th>1</th>\n",
       "      <td>Next</td>\n",
       "      <td>Inter</td>\n",
       "      <td>3500</td>\n",
       "      <td>111</td>\n",
       "    </tr>\n",
       "    <tr>\n",
       "      <th>2</th>\n",
       "      <td>Next</td>\n",
       "      <td>Nubank</td>\n",
       "      <td>12345</td>\n",
       "      <td>22234</td>\n",
       "    </tr>\n",
       "    <tr>\n",
       "      <th>3</th>\n",
       "      <td>Next</td>\n",
       "      <td>BB</td>\n",
       "      <td>6664</td>\n",
       "      <td>234</td>\n",
       "    </tr>\n",
       "    <tr>\n",
       "      <th>4</th>\n",
       "      <td>Next</td>\n",
       "      <td>Itau</td>\n",
       "      <td>222</td>\n",
       "      <td>4344</td>\n",
       "    </tr>\n",
       "  </tbody>\n",
       "</table>\n",
       "</div>"
      ],
      "text/plain": [
       "     de      para  enviado  recebido\n",
       "0  Next  Bradesco    25500      2344\n",
       "1  Next     Inter     3500       111\n",
       "2  Next    Nubank    12345     22234\n",
       "3  Next        BB     6664       234\n",
       "4  Next      Itau      222      4344"
      ]
     },
     "execution_count": 12,
     "metadata": {},
     "output_type": "execute_result"
    }
   ],
   "source": [
    "teds = pd.DataFrame({\n",
    "        'de' : ['Next', 'Next', 'Next', 'Next', 'Next', 'Next', 'Next', 'Next'],\n",
    "        'para' : ['Bradesco', 'Inter', 'Nubank', 'BB', 'Itau', 'XP Investimentos', 'CEF', 'Santander'],\n",
    "        'enviado': [25500,   3500, 12345, 6664, 222,111, 2323, 666],\n",
    "        'recebido': [2344, 111, 22234, 234, 4344, 2322, 1111, 1111] \n",
    "})\n",
    "teds.head()"
   ]
  },
  {
   "cell_type": "code",
   "execution_count": 13,
   "metadata": {},
   "outputs": [],
   "source": [
    "mygraph.edge.load(teds, 'de', 'para')"
   ]
  },
  {
   "cell_type": "code",
   "execution_count": 14,
   "metadata": {},
   "outputs": [
    {
     "data": {
      "application/vnd.plotly.v1+json": {
       "config": {
        "linkText": "Export to plot.ly",
        "plotlyServerURL": "https://plot.ly",
        "responsive": true,
        "showLink": false
       },
       "data": [
        {
         "hoverinfo": "text",
         "marker": {
          "cmax": null,
          "cmin": null,
          "color": [
           "rgb(0, 0, 6)",
           "rgb(35, 17, 82)",
           "rgb(251, 252, 191)",
           "rgb(20, 13, 53)",
           "rgb(0, 0, 3)",
           "rgb(0, 0, 3)",
           "rgb(251, 247, 185)",
           "rgb(0, 0, 3)",
           "rgb(21, 14, 56)"
          ],
          "colorbar": {
           "thickness": 15,
           "title": {
            "side": "right",
            "text": "coco"
           },
           "xanchor": "left"
          },
          "colorscale": "Viridis",
          "line": {
           "width": 2
          },
          "reversescale": true,
          "showscale": false,
          "size": [
           2000,
           35000,
           234243,
           23443,
           2,
           1,
           232323,
           666,
           24433
          ],
          "sizemin": 15,
          "sizemode": "area",
          "sizeref": 187.3944
         },
         "mode": "markers",
         "text": [
          "<b>Next</b><br>clientes: 2000<br>lucro: 234<br>",
          "<b>Inter</b><br>clientes: 35000<br>lucro: 1111<br>",
          "<b>Nubank</b><br>clientes: 234243<br>lucro: 2234<br>",
          "<b>BB</b><br>clientes: 23443<br>lucro: 2344<br>",
          "<b>Itau</b><br>clientes: 2<br>lucro: 444<br>",
          "<b>XP Investimentos</b><br>clientes: 1<br>lucro: 222<br>",
          "<b>CEF</b><br>clientes: 232323<br>lucro: 1<br>",
          "<b>Santander</b><br>clientes: 666<br>lucro: 1<br>",
          "<b>Bradesco</b><br>clientes: 24433<br>lucro: 9877<br>"
         ],
         "type": "scatter3d",
         "uid": "19dcc7bd-3fb8-479e-b380-5240866a8fe6",
         "x": [
          -0.0020552890553520195,
          -0.6894466129126661,
          0.591231828476989,
          -0.889798380754356,
          0.9054166252283987,
          0.24486508630353335,
          -0.19993234870603738,
          -0.4390981599354926,
          0.47881725135498526
         ],
         "y": [
          0.0010674056191926752,
          -0.8047401997598496,
          -0.889428741810272,
          0.4181702244925462,
          0.16980957653906775,
          -0.30005610617507905,
          0.89425380632018,
          -0.2743124399475433,
          0.7852364747217567
         ],
         "z": [
          -0.0016165111849504132,
          -0.17363649122035132,
          0.10600645046630128,
          -0.42997025921146736,
          0.5536909149823539,
          -1,
          0.5572500921821696,
          0.9405737379927771,
          -0.5522979340068349
         ]
        },
        {
         "hoverinfo": "none",
         "line": {
          "color": "rgb(251, 252, 191)",
          "width": 5.5
         },
         "mode": "lines",
         "type": "scatter3d",
         "uid": "046d7141-cbc2-4279-9ee9-8b1f659b35b5",
         "x": [
          -0.0020552890553520195,
          0.47881725135498526,
          null
         ],
         "y": [
          0.0010674056191926752,
          0.7852364747217567,
          null
         ],
         "z": [
          -0.0016165111849504132,
          -0.5522979340068349,
          null
         ]
        },
        {
         "hoverinfo": "none",
         "line": {
          "color": "rgb(30, 16, 73)",
          "width": 1.1674150222537318
         },
         "mode": "lines",
         "type": "scatter3d",
         "uid": "5325d413-8b04-4768-877e-db8aac6dcd5f",
         "x": [
          -0.0020552890553520195,
          -0.6894466129126661,
          null
         ],
         "y": [
          0.0010674056191926752,
          -0.8047401997598496,
          null
         ],
         "z": [
          -0.0016165111849504132,
          -0.17363649122035132,
          null
         ]
        },
        {
         "hoverinfo": "none",
         "line": {
          "color": "rgb(172, 51, 123)",
          "width": 2.9093111189885383
         },
         "mode": "lines",
         "type": "scatter3d",
         "uid": "f436f022-2617-477a-8f60-43a91706379e",
         "x": [
          -0.0020552890553520195,
          0.591231828476989,
          null
         ],
         "y": [
          0.0010674056191926752,
          -0.889428741810272,
          null
         ],
         "z": [
          -0.0016165111849504132,
          0.10600645046630128,
          null
         ]
        },
        {
         "hoverinfo": "none",
         "line": {
          "color": "rgb(82, 18, 124)",
          "width": 1.790519516325968
         },
         "mode": "lines",
         "type": "scatter3d",
         "uid": "561818d3-de07-4acf-81c7-5aede3be90fd",
         "x": [
          -0.0020552890553520195,
          -0.889798380754356,
          null
         ],
         "y": [
          0.0010674056191926752,
          0.4181702244925462,
          null
         ],
         "z": [
          -0.0016165111849504132,
          -0.42997025921146736,
          null
         ]
        },
        {
         "hoverinfo": "none",
         "line": {
          "color": "rgb(0, 0, 4)",
          "width": 0.521859860569538
         },
         "mode": "lines",
         "type": "scatter3d",
         "uid": "db35d10e-a9b2-4898-b39e-0a0ebec3988e",
         "x": [
          -0.0020552890553520195,
          0.9054166252283987,
          null
         ],
         "y": [
          0.0010674056191926752,
          0.16980957653906775,
          null
         ],
         "z": [
          -0.0016165111849504132,
          0.5536909149823539,
          null
         ]
        },
        {
         "hoverinfo": "none",
         "line": {
          "color": "rgb(0, 0, 3)",
          "width": 0.5
         },
         "mode": "lines",
         "type": "scatter3d",
         "uid": "1cedffbd-bd28-4ccb-a98a-8b6fc2ab9596",
         "x": [
          -0.0020552890553520195,
          0.24486508630353335,
          null
         ],
         "y": [
          0.0010674056191926752,
          -0.30005610617507905,
          null
         ],
         "z": [
          -0.0016165111849504132,
          -1,
          null
         ]
        },
        {
         "hoverinfo": "none",
         "line": {
          "color": "rgb(16, 12, 47)",
          "width": 0.9356217259443066
         },
         "mode": "lines",
         "type": "scatter3d",
         "uid": "4aa7c07a-95eb-41a4-a1d9-fa0770313792",
         "x": [
          -0.0020552890553520195,
          -0.19993234870603738,
          null
         ],
         "y": [
          0.0010674056191926752,
          0.89425380632018,
          null
         ],
         "z": [
          -0.0016165111849504132,
          0.5572500921821696,
          null
         ]
        },
        {
         "hoverinfo": "none",
         "line": {
          "color": "rgb(1, 1, 11)",
          "width": 0.60929930284769
         },
         "mode": "lines",
         "type": "scatter3d",
         "uid": "212156cd-757a-4d2e-a439-2123864eda58",
         "x": [
          -0.0020552890553520195,
          -0.4390981599354926,
          null
         ],
         "y": [
          0.0010674056191926752,
          -0.2743124399475433,
          null
         ],
         "z": [
          -0.0016165111849504132,
          0.9405737379927771,
          null
         ]
        }
       ],
       "layout": {
        "scene": {
         "annotations": [
          {
           "showarrow": false,
           "x": -0.0020552890553520195,
           "xanchor": "left",
           "xshift": 10,
           "y": 0.10106740561919268,
           "yanchor": "bottom",
           "z": -0.0016165111849504132
          },
          {
           "showarrow": false,
           "x": -0.6894466129126661,
           "xanchor": "left",
           "xshift": 10,
           "y": -0.7047401997598496,
           "yanchor": "bottom",
           "z": -0.17363649122035132
          },
          {
           "showarrow": false,
           "x": 0.591231828476989,
           "xanchor": "left",
           "xshift": 10,
           "y": -0.789428741810272,
           "yanchor": "bottom",
           "z": 0.10600645046630128
          },
          {
           "showarrow": false,
           "x": -0.889798380754356,
           "xanchor": "left",
           "xshift": 10,
           "y": 0.5181702244925462,
           "yanchor": "bottom",
           "z": -0.42997025921146736
          },
          {
           "showarrow": false,
           "x": 0.9054166252283987,
           "xanchor": "left",
           "xshift": 10,
           "y": 0.2698095765390678,
           "yanchor": "bottom",
           "z": 0.5536909149823539
          },
          {
           "showarrow": false,
           "x": 0.24486508630353335,
           "xanchor": "left",
           "xshift": 10,
           "y": -0.20005610617507905,
           "yanchor": "bottom",
           "z": -1
          },
          {
           "showarrow": false,
           "x": -0.19993234870603738,
           "xanchor": "left",
           "xshift": 10,
           "y": 0.99425380632018,
           "yanchor": "bottom",
           "z": 0.5572500921821696
          },
          {
           "showarrow": false,
           "x": -0.4390981599354926,
           "xanchor": "left",
           "xshift": 10,
           "y": -0.17431243994754328,
           "yanchor": "bottom",
           "z": 0.9405737379927771
          },
          {
           "showarrow": false,
           "x": 0.47881725135498526,
           "xanchor": "left",
           "xshift": 10,
           "y": 0.8852364747217567,
           "yanchor": "bottom",
           "z": -0.5522979340068349
          }
         ],
         "aspectratio": {
          "x": 1,
          "y": 1,
          "z": 1
         },
         "camera": {
          "center": {
           "x": 0,
           "y": 0,
           "z": 0
          },
          "eye": {
           "x": 1.96903462608,
           "y": -1.09022831971,
           "z": 0.405345349304
          },
          "up": {
           "x": 0,
           "y": 0,
           "z": 1
          }
         },
         "dragmode": "turntable",
         "xaxis": {
          "title": {
           "text": ""
          },
          "type": "date"
         },
         "yaxis": {
          "title": {
           "text": ""
          },
          "type": "category"
         },
         "zaxis": {
          "title": {
           "text": ""
          },
          "type": "log"
         }
        },
        "xaxis": {
         "title": {
          "text": "x"
         }
        },
        "yaxis": {
         "title": {
          "text": "y"
         }
        }
       }
      },
      "text/html": [
       "<div>\n",
       "        \n",
       "        \n",
       "            <div id=\"0b9680b7-6b7d-449d-a6f1-ae52e671d7f3\" class=\"plotly-graph-div\" style=\"height:525px; width:100%;\"></div>\n",
       "            <script type=\"text/javascript\">\n",
       "                require([\"plotly\"], function(Plotly) {\n",
       "                    window.PLOTLYENV=window.PLOTLYENV || {};\n",
       "                    window.PLOTLYENV.BASE_URL='https://plot.ly';\n",
       "                    \n",
       "                if (document.getElementById(\"0b9680b7-6b7d-449d-a6f1-ae52e671d7f3\")) {\n",
       "                    Plotly.newPlot(\n",
       "                        '0b9680b7-6b7d-449d-a6f1-ae52e671d7f3',\n",
       "                        [{\"hoverinfo\": \"text\", \"marker\": {\"cmax\": null, \"cmin\": null, \"color\": [\"rgb(0, 0, 6)\", \"rgb(35, 17, 82)\", \"rgb(251, 252, 191)\", \"rgb(20, 13, 53)\", \"rgb(0, 0, 3)\", \"rgb(0, 0, 3)\", \"rgb(251, 247, 185)\", \"rgb(0, 0, 3)\", \"rgb(21, 14, 56)\"], \"colorbar\": {\"thickness\": 15, \"title\": {\"side\": \"right\", \"text\": \"coco\"}, \"xanchor\": \"left\"}, \"colorscale\": \"Viridis\", \"line\": {\"width\": 2}, \"reversescale\": true, \"showscale\": false, \"size\": [2000, 35000, 234243, 23443, 2, 1, 232323, 666, 24433], \"sizemin\": 15, \"sizemode\": \"area\", \"sizeref\": 187.3944}, \"mode\": \"markers\", \"text\": [\"<b>Next</b><br>clientes: 2000<br>lucro: 234<br>\", \"<b>Inter</b><br>clientes: 35000<br>lucro: 1111<br>\", \"<b>Nubank</b><br>clientes: 234243<br>lucro: 2234<br>\", \"<b>BB</b><br>clientes: 23443<br>lucro: 2344<br>\", \"<b>Itau</b><br>clientes: 2<br>lucro: 444<br>\", \"<b>XP Investimentos</b><br>clientes: 1<br>lucro: 222<br>\", \"<b>CEF</b><br>clientes: 232323<br>lucro: 1<br>\", \"<b>Santander</b><br>clientes: 666<br>lucro: 1<br>\", \"<b>Bradesco</b><br>clientes: 24433<br>lucro: 9877<br>\"], \"type\": \"scatter3d\", \"uid\": \"3ebb39fa-ee20-46e0-9a3e-7ee5d1ae45be\", \"x\": [-0.0020552890553520195, -0.6894466129126661, 0.591231828476989, -0.889798380754356, 0.9054166252283987, 0.24486508630353335, -0.19993234870603738, -0.4390981599354926, 0.47881725135498526], \"y\": [0.0010674056191926752, -0.8047401997598496, -0.889428741810272, 0.4181702244925462, 0.16980957653906775, -0.30005610617507905, 0.89425380632018, -0.2743124399475433, 0.7852364747217567], \"z\": [-0.0016165111849504132, -0.17363649122035132, 0.10600645046630128, -0.42997025921146736, 0.5536909149823539, -1.0, 0.5572500921821696, 0.9405737379927771, -0.5522979340068349]}, {\"hoverinfo\": \"none\", \"line\": {\"color\": \"rgb(251, 252, 191)\", \"width\": 5.5}, \"mode\": \"lines\", \"type\": \"scatter3d\", \"uid\": \"b47fc92c-9b19-4c67-876d-3675debbf5e2\", \"x\": [-0.0020552890553520195, 0.47881725135498526, null], \"y\": [0.0010674056191926752, 0.7852364747217567, null], \"z\": [-0.0016165111849504132, -0.5522979340068349, null]}, {\"hoverinfo\": \"none\", \"line\": {\"color\": \"rgb(30, 16, 73)\", \"width\": 1.1674150222537318}, \"mode\": \"lines\", \"type\": \"scatter3d\", \"uid\": \"7386ac05-7baa-40f8-83c0-335a6f091f08\", \"x\": [-0.0020552890553520195, -0.6894466129126661, null], \"y\": [0.0010674056191926752, -0.8047401997598496, null], \"z\": [-0.0016165111849504132, -0.17363649122035132, null]}, {\"hoverinfo\": \"none\", \"line\": {\"color\": \"rgb(172, 51, 123)\", \"width\": 2.9093111189885383}, \"mode\": \"lines\", \"type\": \"scatter3d\", \"uid\": \"c93f86b5-ba51-4ace-a445-aaf80f5159ae\", \"x\": [-0.0020552890553520195, 0.591231828476989, null], \"y\": [0.0010674056191926752, -0.889428741810272, null], \"z\": [-0.0016165111849504132, 0.10600645046630128, null]}, {\"hoverinfo\": \"none\", \"line\": {\"color\": \"rgb(82, 18, 124)\", \"width\": 1.790519516325968}, \"mode\": \"lines\", \"type\": \"scatter3d\", \"uid\": \"35db575f-fa6d-4223-8db2-dad5810fbe10\", \"x\": [-0.0020552890553520195, -0.889798380754356, null], \"y\": [0.0010674056191926752, 0.4181702244925462, null], \"z\": [-0.0016165111849504132, -0.42997025921146736, null]}, {\"hoverinfo\": \"none\", \"line\": {\"color\": \"rgb(0, 0, 4)\", \"width\": 0.521859860569538}, \"mode\": \"lines\", \"type\": \"scatter3d\", \"uid\": \"a66487a0-a19d-41ab-b2c8-6e4d384e37a1\", \"x\": [-0.0020552890553520195, 0.9054166252283987, null], \"y\": [0.0010674056191926752, 0.16980957653906775, null], \"z\": [-0.0016165111849504132, 0.5536909149823539, null]}, {\"hoverinfo\": \"none\", \"line\": {\"color\": \"rgb(0, 0, 3)\", \"width\": 0.5}, \"mode\": \"lines\", \"type\": \"scatter3d\", \"uid\": \"7714f917-d0cf-446d-8047-964212817fc1\", \"x\": [-0.0020552890553520195, 0.24486508630353335, null], \"y\": [0.0010674056191926752, -0.30005610617507905, null], \"z\": [-0.0016165111849504132, -1.0, null]}, {\"hoverinfo\": \"none\", \"line\": {\"color\": \"rgb(16, 12, 47)\", \"width\": 0.9356217259443066}, \"mode\": \"lines\", \"type\": \"scatter3d\", \"uid\": \"46a8a16e-bd6a-4bb6-8b96-da357ad2c184\", \"x\": [-0.0020552890553520195, -0.19993234870603738, null], \"y\": [0.0010674056191926752, 0.89425380632018, null], \"z\": [-0.0016165111849504132, 0.5572500921821696, null]}, {\"hoverinfo\": \"none\", \"line\": {\"color\": \"rgb(1, 1, 11)\", \"width\": 0.60929930284769}, \"mode\": \"lines\", \"type\": \"scatter3d\", \"uid\": \"57fbd81e-86ac-4bbc-9741-77b1e1190a00\", \"x\": [-0.0020552890553520195, -0.4390981599354926, null], \"y\": [0.0010674056191926752, -0.2743124399475433, null], \"z\": [-0.0016165111849504132, 0.9405737379927771, null]}],\n",
       "                        {\"scene\": {\"annotations\": [{\"showarrow\": false, \"x\": -0.0020552890553520195, \"xanchor\": \"left\", \"xshift\": 10, \"y\": 0.10106740561919268, \"yanchor\": \"bottom\", \"z\": -0.0016165111849504132}, {\"showarrow\": false, \"x\": -0.6894466129126661, \"xanchor\": \"left\", \"xshift\": 10, \"y\": -0.7047401997598496, \"yanchor\": \"bottom\", \"z\": -0.17363649122035132}, {\"showarrow\": false, \"x\": 0.591231828476989, \"xanchor\": \"left\", \"xshift\": 10, \"y\": -0.789428741810272, \"yanchor\": \"bottom\", \"z\": 0.10600645046630128}, {\"showarrow\": false, \"x\": -0.889798380754356, \"xanchor\": \"left\", \"xshift\": 10, \"y\": 0.5181702244925462, \"yanchor\": \"bottom\", \"z\": -0.42997025921146736}, {\"showarrow\": false, \"x\": 0.9054166252283987, \"xanchor\": \"left\", \"xshift\": 10, \"y\": 0.2698095765390678, \"yanchor\": \"bottom\", \"z\": 0.5536909149823539}, {\"showarrow\": false, \"x\": 0.24486508630353335, \"xanchor\": \"left\", \"xshift\": 10, \"y\": -0.20005610617507905, \"yanchor\": \"bottom\", \"z\": -1.0}, {\"showarrow\": false, \"x\": -0.19993234870603738, \"xanchor\": \"left\", \"xshift\": 10, \"y\": 0.99425380632018, \"yanchor\": \"bottom\", \"z\": 0.5572500921821696}, {\"showarrow\": false, \"x\": -0.4390981599354926, \"xanchor\": \"left\", \"xshift\": 10, \"y\": -0.17431243994754328, \"yanchor\": \"bottom\", \"z\": 0.9405737379927771}, {\"showarrow\": false, \"x\": 0.47881725135498526, \"xanchor\": \"left\", \"xshift\": 10, \"y\": 0.8852364747217567, \"yanchor\": \"bottom\", \"z\": -0.5522979340068349}], \"aspectratio\": {\"x\": 1, \"y\": 1, \"z\": 1}, \"camera\": {\"center\": {\"x\": 0, \"y\": 0, \"z\": 0}, \"eye\": {\"x\": 1.96903462608, \"y\": -1.09022831971, \"z\": 0.405345349304}, \"up\": {\"x\": 0, \"y\": 0, \"z\": 1}}, \"dragmode\": \"turntable\", \"xaxis\": {\"title\": {\"text\": \"\"}, \"type\": \"date\"}, \"yaxis\": {\"title\": {\"text\": \"\"}, \"type\": \"category\"}, \"zaxis\": {\"title\": {\"text\": \"\"}, \"type\": \"log\"}}, \"xaxis\": {\"title\": {\"text\": \"x\"}}, \"yaxis\": {\"title\": {\"text\": \"y\"}}},\n",
       "                        {\"showLink\": false, \"linkText\": \"Export to plot.ly\", \"plotlyServerURL\": \"https://plot.ly\", \"responsive\": true}\n",
       "                    ).then(function(){\n",
       "                            \n",
       "var gd = document.getElementById('0b9680b7-6b7d-449d-a6f1-ae52e671d7f3');\n",
       "var x = new MutationObserver(function (mutations, observer) {{\n",
       "        var display = window.getComputedStyle(gd).display;\n",
       "        if (!display || display === 'none') {{\n",
       "            console.log([gd, 'removed!']);\n",
       "            Plotly.purge(gd);\n",
       "            observer.disconnect();\n",
       "        }}\n",
       "}});\n",
       "\n",
       "// Listen for the removal of the full notebook cells\n",
       "var notebookContainer = gd.closest('#notebook-container');\n",
       "if (notebookContainer) {{\n",
       "    x.observe(notebookContainer, {childList: true});\n",
       "}}\n",
       "\n",
       "// Listen for the clearing of the current output cell\n",
       "var outputEl = gd.closest('.output');\n",
       "if (outputEl) {{\n",
       "    x.observe(outputEl, {childList: true});\n",
       "}}\n",
       "\n",
       "                        })\n",
       "                };\n",
       "                });\n",
       "            </script>\n",
       "        </div>"
      ]
     },
     "metadata": {},
     "output_type": "display_data"
    }
   ],
   "source": [
    "mygraph.plot(title='coco', node_size_col='clientes', node_color_col='clientes', edge_width_col='enviado', edge_color_col='enviado')"
   ]
  },
  {
   "cell_type": "code",
   "execution_count": null,
   "metadata": {},
   "outputs": [],
   "source": [
    "import plotly.plotly as py\n",
    "import plotly.graph_objs as go\n",
    "\n",
    "from plotly.offline import download_plotlyjs, init_notebook_mode, plot, iplot\n",
    "\n",
    "data = [go.Scatter3d(\n",
    "  x = [\"2017-01-01\", \"2017-02-10\", \"2017-03-20\"],\n",
    "  y = [\"A\", \"B\", \"C\"],\n",
    "  z = [1, 1000, 100000],\n",
    "  name = \"z\",\n",
    ")]\n",
    "\n",
    "layout = go.Layout(\n",
    "   scene = dict(\n",
    "    aspectratio = dict(\n",
    "      x = 1,\n",
    "      y = 1,\n",
    "      z = 1\n",
    "    ),\n",
    "    camera = dict(\n",
    "      center = dict(\n",
    "        x = 0,\n",
    "        y = 0,\n",
    "        z = 0\n",
    "      ),\n",
    "      eye = dict(\n",
    "        x = 1.96903462608,\n",
    "        y = -1.09022831971,\n",
    "        z = 0.405345349304\n",
    "      ),\n",
    "      up = dict(\n",
    "        x = 0,\n",
    "        y = 0,\n",
    "        z = 1\n",
    "      )\n",
    "    ),\n",
    "    dragmode = \"turntable\",\n",
    "    xaxis = dict(\n",
    "      title = \"\",\n",
    "      type = \"date\"\n",
    "    ),\n",
    "    yaxis = dict(\n",
    "      title = \"\",\n",
    "      type = \"category\"\n",
    "    ),\n",
    "    zaxis = dict(\n",
    "      title = \"\",\n",
    "      type = \"log\"\n",
    "    ),\n",
    "    annotations = [dict(\n",
    "        showarrow = False,\n",
    "        x = \"2017-01-01\",\n",
    "        y = \"A\",\n",
    "        z = 0,\n",
    "        text = \"Point 1\",\n",
    "        xanchor = \"left\",\n",
    "        xshift = 10,\n",
    "        opacity = 0.7\n",
    "      ), dict(\n",
    "        x = \"2017-02-10\",\n",
    "        y = \"B\",\n",
    "        z = 4,\n",
    "        text = \"Point 2\",\n",
    "        textangle = 0,\n",
    "        ax = 0,\n",
    "        ay = -75,\n",
    "        font = dict(\n",
    "          color = \"black\",\n",
    "          size = 12\n",
    "        ),\n",
    "        arrowcolor = \"black\",\n",
    "        arrowsize = 3,\n",
    "        arrowwidth = 1,\n",
    "        arrowhead = 1\n",
    "      ), dict(\n",
    "        x = \"2017-03-20\",\n",
    "        y = \"C\",\n",
    "        z = 5,\n",
    "        ax = 50,\n",
    "        ay = 0,\n",
    "        text = \"Point 3\",\n",
    "        arrowhead = 1,\n",
    "        xanchor = \"left\",\n",
    "        yanchor = \"bottom\"\n",
    "      )]\n",
    "  ),\n",
    "  xaxis = dict(title = \"x\"),\n",
    "  yaxis = dict(title = \"y\")\n",
    ")\n",
    "\n",
    "fig = go.Figure(data=data, layout=layout)\n",
    "iplot(fig, filename = \"3d annotations\")"
   ]
  },
  {
   "cell_type": "code",
   "execution_count": null,
   "metadata": {},
   "outputs": [],
   "source": []
  }
 ],
 "metadata": {
  "kernelspec": {
   "display_name": "Python 3",
   "language": "python",
   "name": "python3"
  },
  "language_info": {
   "codemirror_mode": {
    "name": "ipython",
    "version": 3
   },
   "file_extension": ".py",
   "mimetype": "text/x-python",
   "name": "python",
   "nbconvert_exporter": "python",
   "pygments_lexer": "ipython3",
   "version": "3.7.0"
  }
 },
 "nbformat": 4,
 "nbformat_minor": 2
}
