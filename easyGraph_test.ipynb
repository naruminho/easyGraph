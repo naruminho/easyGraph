{
 "cells": [
  {
   "cell_type": "code",
   "execution_count": 8,
   "metadata": {},
   "outputs": [
    {
     "name": "stdout",
     "output_type": "stream",
     "text": [
      "The autoreload extension is already loaded. To reload it, use:\n",
      "  %reload_ext autoreload\n"
     ]
    }
   ],
   "source": [
    "%load_ext autoreload\n",
    "%autoreload 2\n",
    "from easyGraph import *\n",
    "import pandas as pd"
   ]
  },
  {
   "cell_type": "code",
   "execution_count": 9,
   "metadata": {},
   "outputs": [],
   "source": [
    "# creating an empty graph object\n",
    "mygraph = EasyGraph(6, dim=3)"
   ]
  },
  {
   "cell_type": "code",
   "execution_count": 10,
   "metadata": {},
   "outputs": [
    {
     "data": {
      "text/html": [
       "<div>\n",
       "<style scoped>\n",
       "    .dataframe tbody tr th:only-of-type {\n",
       "        vertical-align: middle;\n",
       "    }\n",
       "\n",
       "    .dataframe tbody tr th {\n",
       "        vertical-align: top;\n",
       "    }\n",
       "\n",
       "    .dataframe thead th {\n",
       "        text-align: right;\n",
       "    }\n",
       "</style>\n",
       "<table border=\"1\" class=\"dataframe\">\n",
       "  <thead>\n",
       "    <tr style=\"text-align: right;\">\n",
       "      <th></th>\n",
       "      <th>banco</th>\n",
       "      <th>clientes</th>\n",
       "      <th>lucro</th>\n",
       "    </tr>\n",
       "  </thead>\n",
       "  <tbody>\n",
       "    <tr>\n",
       "      <th>0</th>\n",
       "      <td>Next</td>\n",
       "      <td>2000</td>\n",
       "      <td>234</td>\n",
       "    </tr>\n",
       "    <tr>\n",
       "      <th>1</th>\n",
       "      <td>Inter</td>\n",
       "      <td>35000</td>\n",
       "      <td>1111</td>\n",
       "    </tr>\n",
       "    <tr>\n",
       "      <th>2</th>\n",
       "      <td>Nubank</td>\n",
       "      <td>234243</td>\n",
       "      <td>2234</td>\n",
       "    </tr>\n",
       "    <tr>\n",
       "      <th>3</th>\n",
       "      <td>BB</td>\n",
       "      <td>23443</td>\n",
       "      <td>2344</td>\n",
       "    </tr>\n",
       "    <tr>\n",
       "      <th>4</th>\n",
       "      <td>Itau</td>\n",
       "      <td>2</td>\n",
       "      <td>444</td>\n",
       "    </tr>\n",
       "  </tbody>\n",
       "</table>\n",
       "</div>"
      ],
      "text/plain": [
       "    banco  clientes  lucro\n",
       "0    Next      2000    234\n",
       "1   Inter     35000   1111\n",
       "2  Nubank    234243   2234\n",
       "3      BB     23443   2344\n",
       "4    Itau         2    444"
      ]
     },
     "execution_count": 10,
     "metadata": {},
     "output_type": "execute_result"
    }
   ],
   "source": [
    "# creating a node dataframe \n",
    "bancos = pd.DataFrame({\n",
    "        'banco' : ['Next', 'Inter', 'Nubank', 'BB', 'Itau', 'XP Investimentos', 'CEF', 'Santander','Bradesco'],\n",
    "        'clientes': [2000,   35000, 234243, 23443,2,1,232323, 666, 24433],\n",
    "        'lucro': [234, 1111, 2234, 2344, 444, 222, 1, 1, 9877] \n",
    "})\n",
    "bancos.head()"
   ]
  },
  {
   "cell_type": "code",
   "execution_count": 11,
   "metadata": {},
   "outputs": [],
   "source": [
    "# adding the nodes to the graph\n",
    "# 'banco' is the id column \n",
    "mygraph.node.load(bancos, 'banco')"
   ]
  },
  {
   "cell_type": "code",
   "execution_count": 12,
   "metadata": {},
   "outputs": [
    {
     "data": {
      "text/html": [
       "<div>\n",
       "<style scoped>\n",
       "    .dataframe tbody tr th:only-of-type {\n",
       "        vertical-align: middle;\n",
       "    }\n",
       "\n",
       "    .dataframe tbody tr th {\n",
       "        vertical-align: top;\n",
       "    }\n",
       "\n",
       "    .dataframe thead th {\n",
       "        text-align: right;\n",
       "    }\n",
       "</style>\n",
       "<table border=\"1\" class=\"dataframe\">\n",
       "  <thead>\n",
       "    <tr style=\"text-align: right;\">\n",
       "      <th></th>\n",
       "      <th>de</th>\n",
       "      <th>para</th>\n",
       "      <th>enviado</th>\n",
       "      <th>recebido</th>\n",
       "    </tr>\n",
       "  </thead>\n",
       "  <tbody>\n",
       "    <tr>\n",
       "      <th>0</th>\n",
       "      <td>Next</td>\n",
       "      <td>Bradesco</td>\n",
       "      <td>25500</td>\n",
       "      <td>2344</td>\n",
       "    </tr>\n",
       "    <tr>\n",
       "      <th>1</th>\n",
       "      <td>Next</td>\n",
       "      <td>Inter</td>\n",
       "      <td>3500</td>\n",
       "      <td>111</td>\n",
       "    </tr>\n",
       "    <tr>\n",
       "      <th>2</th>\n",
       "      <td>Next</td>\n",
       "      <td>Nubank</td>\n",
       "      <td>12345</td>\n",
       "      <td>22234</td>\n",
       "    </tr>\n",
       "    <tr>\n",
       "      <th>3</th>\n",
       "      <td>Next</td>\n",
       "      <td>BB</td>\n",
       "      <td>6664</td>\n",
       "      <td>234</td>\n",
       "    </tr>\n",
       "    <tr>\n",
       "      <th>4</th>\n",
       "      <td>Next</td>\n",
       "      <td>Itau</td>\n",
       "      <td>222</td>\n",
       "      <td>4344</td>\n",
       "    </tr>\n",
       "  </tbody>\n",
       "</table>\n",
       "</div>"
      ],
      "text/plain": [
       "     de      para  enviado  recebido\n",
       "0  Next  Bradesco    25500      2344\n",
       "1  Next     Inter     3500       111\n",
       "2  Next    Nubank    12345     22234\n",
       "3  Next        BB     6664       234\n",
       "4  Next      Itau      222      4344"
      ]
     },
     "execution_count": 12,
     "metadata": {},
     "output_type": "execute_result"
    }
   ],
   "source": [
    "teds = pd.DataFrame({\n",
    "        'de' : ['Next', 'Next', 'Next', 'Next', 'Next', 'Next', 'Next', 'Next'],\n",
    "        'para' : ['Bradesco', 'Inter', 'Nubank', 'BB', 'Itau', 'XP Investimentos', 'CEF', 'Santander'],\n",
    "        'enviado': [25500,   3500, 12345, 6664, 222,111, 2323, 666],\n",
    "        'recebido': [2344, 111, 22234, 234, 4344, 2322, 1111, 1111] \n",
    "})\n",
    "teds.head()"
   ]
  },
  {
   "cell_type": "code",
   "execution_count": 13,
   "metadata": {},
   "outputs": [],
   "source": [
    "mygraph.edge.load(teds, 'de', 'para')"
   ]
  },
  {
   "cell_type": "code",
   "execution_count": 14,
   "metadata": {
    "scrolled": true
   },
   "outputs": [
    {
     "data": {
      "application/vnd.plotly.v1+json": {
       "config": {
        "linkText": "Export to plot.ly",
        "plotlyServerURL": "https://plot.ly",
        "responsive": true,
        "showLink": false
       },
       "data": [
        {
         "hoverinfo": "text",
         "marker": {
          "cmax": null,
          "cmin": null,
          "color": "darkblue",
          "colorbar": {
           "thickness": 15,
           "title": {
            "side": "right",
            "text": " "
           },
           "xanchor": "left"
          },
          "colorscale": "Viridis",
          "line": {
           "width": 2
          },
          "reversescale": true,
          "showscale": false,
          "size": [
           1,
           1,
           1,
           1,
           1,
           1,
           1,
           1,
           1
          ],
          "sizemin": 5,
          "sizemode": "area",
          "sizeref": 5
         },
         "mode": "markers",
         "text": [
          "<b>Next</b><br>clientes: 2000<br>lucro: 234<br>",
          "<b>Inter</b><br>clientes: 35000<br>lucro: 1111<br>",
          "<b>Nubank</b><br>clientes: 234243<br>lucro: 2234<br>",
          "<b>BB</b><br>clientes: 23443<br>lucro: 2344<br>",
          "<b>Itau</b><br>clientes: 2<br>lucro: 444<br>",
          "<b>XP Investimentos</b><br>clientes: 1<br>lucro: 222<br>",
          "<b>CEF</b><br>clientes: 232323<br>lucro: 1<br>",
          "<b>Santander</b><br>clientes: 666<br>lucro: 1<br>",
          "<b>Bradesco</b><br>clientes: 24433<br>lucro: 9877<br>"
         ],
         "type": "scatter3d",
         "uid": "a80f37ff-fb5a-4a7f-b007-64c4b3645dfe",
         "x": [
          0.0014655302663990823,
          0.4026454872515881,
          -0.3616774581352358,
          -0.713586232062124,
          0.38181049699336,
          -0.839088173311309,
          -0.48601149669666044,
          0.6869863461502188,
          0.9274554995437635
         ],
         "y": [
          -0.00403519608089457,
          0.20625670679435598,
          -0.8423017934748859,
          0.6122483564443124,
          -0.393200572088663,
          -0.5359870355957213,
          0.6971060777295266,
          0.8355317131870006,
          -0.5756182569150305
         ],
         "z": [
          -0.000867115883765793,
          1,
          0.6042729088357486,
          0.5683294631353925,
          -0.9509913548421834,
          -0.460477767568397,
          -0.6973307898885662,
          -0.18673921744265148,
          0.12380387365442327
         ]
        },
        {
         "hoverinfo": "none",
         "line": {
          "color": "black",
          "width": 0.5
         },
         "mode": "lines",
         "type": "scatter3d",
         "uid": "5903f39a-faa8-4d1a-9b84-854713b41219",
         "x": [
          0.0014655302663990823,
          0.9274554995437635,
          null
         ],
         "y": [
          -0.00403519608089457,
          -0.5756182569150305,
          null
         ],
         "z": [
          -0.000867115883765793,
          0.12380387365442327,
          null
         ]
        },
        {
         "hoverinfo": "none",
         "line": {
          "color": "black",
          "width": 0.5
         },
         "mode": "lines",
         "type": "scatter3d",
         "uid": "82f0a74c-e93a-4b9b-97bd-d122bb2761a6",
         "x": [
          0.0014655302663990823,
          0.4026454872515881,
          null
         ],
         "y": [
          -0.00403519608089457,
          0.20625670679435598,
          null
         ],
         "z": [
          -0.000867115883765793,
          1,
          null
         ]
        },
        {
         "hoverinfo": "none",
         "line": {
          "color": "black",
          "width": 0.5
         },
         "mode": "lines",
         "type": "scatter3d",
         "uid": "c28d520d-3b4f-4121-b4c1-2fc904c9eb1a",
         "x": [
          0.0014655302663990823,
          -0.3616774581352358,
          null
         ],
         "y": [
          -0.00403519608089457,
          -0.8423017934748859,
          null
         ],
         "z": [
          -0.000867115883765793,
          0.6042729088357486,
          null
         ]
        },
        {
         "hoverinfo": "none",
         "line": {
          "color": "black",
          "width": 0.5
         },
         "mode": "lines",
         "type": "scatter3d",
         "uid": "0c104744-905b-4812-ae92-688a43dda6bc",
         "x": [
          0.0014655302663990823,
          -0.713586232062124,
          null
         ],
         "y": [
          -0.00403519608089457,
          0.6122483564443124,
          null
         ],
         "z": [
          -0.000867115883765793,
          0.5683294631353925,
          null
         ]
        },
        {
         "hoverinfo": "none",
         "line": {
          "color": "black",
          "width": 0.5
         },
         "mode": "lines",
         "type": "scatter3d",
         "uid": "5e4b0bf3-a52e-423a-8b0a-0b299eddcbed",
         "x": [
          0.0014655302663990823,
          0.38181049699336,
          null
         ],
         "y": [
          -0.00403519608089457,
          -0.393200572088663,
          null
         ],
         "z": [
          -0.000867115883765793,
          -0.9509913548421834,
          null
         ]
        },
        {
         "hoverinfo": "none",
         "line": {
          "color": "black",
          "width": 0.5
         },
         "mode": "lines",
         "type": "scatter3d",
         "uid": "240aabaf-84d6-4b0a-9825-616cbdfe7371",
         "x": [
          0.0014655302663990823,
          -0.839088173311309,
          null
         ],
         "y": [
          -0.00403519608089457,
          -0.5359870355957213,
          null
         ],
         "z": [
          -0.000867115883765793,
          -0.460477767568397,
          null
         ]
        },
        {
         "hoverinfo": "none",
         "line": {
          "color": "black",
          "width": 0.5
         },
         "mode": "lines",
         "type": "scatter3d",
         "uid": "6545d686-3452-4b2f-a345-ae264e696367",
         "x": [
          0.0014655302663990823,
          -0.48601149669666044,
          null
         ],
         "y": [
          -0.00403519608089457,
          0.6971060777295266,
          null
         ],
         "z": [
          -0.000867115883765793,
          -0.6973307898885662,
          null
         ]
        },
        {
         "hoverinfo": "none",
         "line": {
          "color": "black",
          "width": 0.5
         },
         "mode": "lines",
         "type": "scatter3d",
         "uid": "b4bfb375-c667-4f46-a887-1ad85f9cc9aa",
         "x": [
          0.0014655302663990823,
          0.6869863461502188,
          null
         ],
         "y": [
          -0.00403519608089457,
          0.8355317131870006,
          null
         ],
         "z": [
          -0.000867115883765793,
          -0.18673921744265148,
          null
         ]
        }
       ],
       "layout": {
        "annotations": [
         {
          "ax": 0,
          "ay": 20,
          "showarrow": false,
          "text": "Next",
          "x": 0.0014655302663990823,
          "xref": "x",
          "y": 0.09596480391910543,
          "yref": "y"
         },
         {
          "ax": 0,
          "ay": 20,
          "showarrow": false,
          "text": "Inter",
          "x": 0.4026454872515881,
          "xref": "x",
          "y": 0.306256706794356,
          "yref": "y"
         },
         {
          "ax": 0,
          "ay": 20,
          "showarrow": false,
          "text": "Nubank",
          "x": -0.3616774581352358,
          "xref": "x",
          "y": -0.7423017934748859,
          "yref": "y"
         },
         {
          "ax": 0,
          "ay": 20,
          "showarrow": false,
          "text": "BB",
          "x": -0.713586232062124,
          "xref": "x",
          "y": 0.7122483564443124,
          "yref": "y"
         },
         {
          "ax": 0,
          "ay": 20,
          "showarrow": false,
          "text": "Itau",
          "x": 0.38181049699336,
          "xref": "x",
          "y": -0.293200572088663,
          "yref": "y"
         },
         {
          "ax": 0,
          "ay": 20,
          "showarrow": false,
          "text": "XP Investimentos",
          "x": -0.839088173311309,
          "xref": "x",
          "y": -0.4359870355957213,
          "yref": "y"
         },
         {
          "ax": 0,
          "ay": 20,
          "showarrow": false,
          "text": "CEF",
          "x": -0.48601149669666044,
          "xref": "x",
          "y": 0.7971060777295266,
          "yref": "y"
         },
         {
          "ax": 0,
          "ay": 20,
          "showarrow": false,
          "text": "Santander",
          "x": 0.6869863461502188,
          "xref": "x",
          "y": 0.9355317131870006,
          "yref": "y"
         },
         {
          "ax": 0,
          "ay": 20,
          "showarrow": false,
          "text": "Bradesco",
          "x": 0.9274554995437635,
          "xref": "x",
          "y": -0.47561825691503057,
          "yref": "y"
         }
        ],
        "hovermode": "closest",
        "margin": {
         "b": 20,
         "l": 5,
         "r": 5,
         "t": 40
        },
        "scene": {
         "xaxis": {
          "showbackground": false,
          "showgrid": false,
          "showline": false,
          "showticklabels": false,
          "title": {
           "text": ""
          },
          "zeroline": false
         },
         "yaxis": {
          "showgrid": false,
          "showticklabels": false,
          "zeroline": false
         },
         "zaxis": {
          "showgrid": false,
          "showticklabels": false,
          "zeroline": false
         }
        },
        "showlegend": false,
        "title": {
         "font": {
          "size": 16
         },
         "text": " "
        }
       }
      },
      "text/html": [
       "<div>\n",
       "        \n",
       "        \n",
       "            <div id=\"54f71190-f36a-4793-b377-5fad950c613a\" class=\"plotly-graph-div\" style=\"height:525px; width:100%;\"></div>\n",
       "            <script type=\"text/javascript\">\n",
       "                require([\"plotly\"], function(Plotly) {\n",
       "                    window.PLOTLYENV=window.PLOTLYENV || {};\n",
       "                    window.PLOTLYENV.BASE_URL='https://plot.ly';\n",
       "                    \n",
       "                if (document.getElementById(\"54f71190-f36a-4793-b377-5fad950c613a\")) {\n",
       "                    Plotly.newPlot(\n",
       "                        '54f71190-f36a-4793-b377-5fad950c613a',\n",
       "                        [{\"hoverinfo\": \"text\", \"marker\": {\"cmax\": null, \"cmin\": null, \"color\": \"darkblue\", \"colorbar\": {\"thickness\": 15, \"title\": {\"side\": \"right\", \"text\": \" \"}, \"xanchor\": \"left\"}, \"colorscale\": \"Viridis\", \"line\": {\"width\": 2}, \"reversescale\": true, \"showscale\": false, \"size\": [1, 1, 1, 1, 1, 1, 1, 1, 1], \"sizemin\": 5, \"sizemode\": \"area\", \"sizeref\": 5}, \"mode\": \"markers\", \"text\": [\"<b>Next</b><br>clientes: 2000<br>lucro: 234<br>\", \"<b>Inter</b><br>clientes: 35000<br>lucro: 1111<br>\", \"<b>Nubank</b><br>clientes: 234243<br>lucro: 2234<br>\", \"<b>BB</b><br>clientes: 23443<br>lucro: 2344<br>\", \"<b>Itau</b><br>clientes: 2<br>lucro: 444<br>\", \"<b>XP Investimentos</b><br>clientes: 1<br>lucro: 222<br>\", \"<b>CEF</b><br>clientes: 232323<br>lucro: 1<br>\", \"<b>Santander</b><br>clientes: 666<br>lucro: 1<br>\", \"<b>Bradesco</b><br>clientes: 24433<br>lucro: 9877<br>\"], \"type\": \"scatter3d\", \"uid\": \"a34c2556-8521-404c-8935-1faeb495c794\", \"x\": [0.0014655302663990823, 0.4026454872515881, -0.3616774581352358, -0.713586232062124, 0.38181049699336, -0.839088173311309, -0.48601149669666044, 0.6869863461502188, 0.9274554995437635], \"y\": [-0.00403519608089457, 0.20625670679435598, -0.8423017934748859, 0.6122483564443124, -0.393200572088663, -0.5359870355957213, 0.6971060777295266, 0.8355317131870006, -0.5756182569150305], \"z\": [-0.000867115883765793, 1.0, 0.6042729088357486, 0.5683294631353925, -0.9509913548421834, -0.460477767568397, -0.6973307898885662, -0.18673921744265148, 0.12380387365442327]}, {\"hoverinfo\": \"none\", \"line\": {\"color\": \"black\", \"width\": 0.5}, \"mode\": \"lines\", \"type\": \"scatter3d\", \"uid\": \"898d153e-d2ec-40f6-ad2b-9f28cbd2aaea\", \"x\": [0.0014655302663990823, 0.9274554995437635, null], \"y\": [-0.00403519608089457, -0.5756182569150305, null], \"z\": [-0.000867115883765793, 0.12380387365442327, null]}, {\"hoverinfo\": \"none\", \"line\": {\"color\": \"black\", \"width\": 0.5}, \"mode\": \"lines\", \"type\": \"scatter3d\", \"uid\": \"8c2f92c6-5c21-475a-9704-158581f54bfa\", \"x\": [0.0014655302663990823, 0.4026454872515881, null], \"y\": [-0.00403519608089457, 0.20625670679435598, null], \"z\": [-0.000867115883765793, 1.0, null]}, {\"hoverinfo\": \"none\", \"line\": {\"color\": \"black\", \"width\": 0.5}, \"mode\": \"lines\", \"type\": \"scatter3d\", \"uid\": \"dbedacbb-2bec-4ee4-980d-1c0a4e2191a6\", \"x\": [0.0014655302663990823, -0.3616774581352358, null], \"y\": [-0.00403519608089457, -0.8423017934748859, null], \"z\": [-0.000867115883765793, 0.6042729088357486, null]}, {\"hoverinfo\": \"none\", \"line\": {\"color\": \"black\", \"width\": 0.5}, \"mode\": \"lines\", \"type\": \"scatter3d\", \"uid\": \"25719f4c-a0f3-47d9-b687-21c7e101725a\", \"x\": [0.0014655302663990823, -0.713586232062124, null], \"y\": [-0.00403519608089457, 0.6122483564443124, null], \"z\": [-0.000867115883765793, 0.5683294631353925, null]}, {\"hoverinfo\": \"none\", \"line\": {\"color\": \"black\", \"width\": 0.5}, \"mode\": \"lines\", \"type\": \"scatter3d\", \"uid\": \"535d26f8-6016-4452-a482-0b4bdf6d6153\", \"x\": [0.0014655302663990823, 0.38181049699336, null], \"y\": [-0.00403519608089457, -0.393200572088663, null], \"z\": [-0.000867115883765793, -0.9509913548421834, null]}, {\"hoverinfo\": \"none\", \"line\": {\"color\": \"black\", \"width\": 0.5}, \"mode\": \"lines\", \"type\": \"scatter3d\", \"uid\": \"2b4ef49d-e24c-487d-b82c-1390a6dd0e33\", \"x\": [0.0014655302663990823, -0.839088173311309, null], \"y\": [-0.00403519608089457, -0.5359870355957213, null], \"z\": [-0.000867115883765793, -0.460477767568397, null]}, {\"hoverinfo\": \"none\", \"line\": {\"color\": \"black\", \"width\": 0.5}, \"mode\": \"lines\", \"type\": \"scatter3d\", \"uid\": \"e7b55ef4-b1f4-442e-b38f-1adee343f6df\", \"x\": [0.0014655302663990823, -0.48601149669666044, null], \"y\": [-0.00403519608089457, 0.6971060777295266, null], \"z\": [-0.000867115883765793, -0.6973307898885662, null]}, {\"hoverinfo\": \"none\", \"line\": {\"color\": \"black\", \"width\": 0.5}, \"mode\": \"lines\", \"type\": \"scatter3d\", \"uid\": \"54d897b3-958d-40dc-a48b-4b8122788851\", \"x\": [0.0014655302663990823, 0.6869863461502188, null], \"y\": [-0.00403519608089457, 0.8355317131870006, null], \"z\": [-0.000867115883765793, -0.18673921744265148, null]}],\n",
       "                        {\"annotations\": [{\"ax\": 0, \"ay\": 20, \"showarrow\": false, \"text\": \"Next\", \"x\": 0.0014655302663990823, \"xref\": \"x\", \"y\": 0.09596480391910543, \"yref\": \"y\"}, {\"ax\": 0, \"ay\": 20, \"showarrow\": false, \"text\": \"Inter\", \"x\": 0.4026454872515881, \"xref\": \"x\", \"y\": 0.306256706794356, \"yref\": \"y\"}, {\"ax\": 0, \"ay\": 20, \"showarrow\": false, \"text\": \"Nubank\", \"x\": -0.3616774581352358, \"xref\": \"x\", \"y\": -0.7423017934748859, \"yref\": \"y\"}, {\"ax\": 0, \"ay\": 20, \"showarrow\": false, \"text\": \"BB\", \"x\": -0.713586232062124, \"xref\": \"x\", \"y\": 0.7122483564443124, \"yref\": \"y\"}, {\"ax\": 0, \"ay\": 20, \"showarrow\": false, \"text\": \"Itau\", \"x\": 0.38181049699336, \"xref\": \"x\", \"y\": -0.293200572088663, \"yref\": \"y\"}, {\"ax\": 0, \"ay\": 20, \"showarrow\": false, \"text\": \"XP Investimentos\", \"x\": -0.839088173311309, \"xref\": \"x\", \"y\": -0.4359870355957213, \"yref\": \"y\"}, {\"ax\": 0, \"ay\": 20, \"showarrow\": false, \"text\": \"CEF\", \"x\": -0.48601149669666044, \"xref\": \"x\", \"y\": 0.7971060777295266, \"yref\": \"y\"}, {\"ax\": 0, \"ay\": 20, \"showarrow\": false, \"text\": \"Santander\", \"x\": 0.6869863461502188, \"xref\": \"x\", \"y\": 0.9355317131870006, \"yref\": \"y\"}, {\"ax\": 0, \"ay\": 20, \"showarrow\": false, \"text\": \"Bradesco\", \"x\": 0.9274554995437635, \"xref\": \"x\", \"y\": -0.47561825691503057, \"yref\": \"y\"}], \"hovermode\": \"closest\", \"margin\": {\"b\": 20, \"l\": 5, \"r\": 5, \"t\": 40}, \"scene\": {\"xaxis\": {\"showbackground\": false, \"showgrid\": false, \"showline\": false, \"showticklabels\": false, \"title\": {\"text\": \"\"}, \"zeroline\": false}, \"yaxis\": {\"showgrid\": false, \"showticklabels\": false, \"zeroline\": false}, \"zaxis\": {\"showgrid\": false, \"showticklabels\": false, \"zeroline\": false}}, \"showlegend\": false, \"title\": {\"font\": {\"size\": 16}, \"text\": \" \"}},\n",
       "                        {\"showLink\": false, \"linkText\": \"Export to plot.ly\", \"plotlyServerURL\": \"https://plot.ly\", \"responsive\": true}\n",
       "                    ).then(function(){\n",
       "                            \n",
       "var gd = document.getElementById('54f71190-f36a-4793-b377-5fad950c613a');\n",
       "var x = new MutationObserver(function (mutations, observer) {{\n",
       "        var display = window.getComputedStyle(gd).display;\n",
       "        if (!display || display === 'none') {{\n",
       "            console.log([gd, 'removed!']);\n",
       "            Plotly.purge(gd);\n",
       "            observer.disconnect();\n",
       "        }}\n",
       "}});\n",
       "\n",
       "// Listen for the removal of the full notebook cells\n",
       "var notebookContainer = gd.closest('#notebook-container');\n",
       "if (notebookContainer) {{\n",
       "    x.observe(notebookContainer, {childList: true});\n",
       "}}\n",
       "\n",
       "// Listen for the clearing of the current output cell\n",
       "var outputEl = gd.closest('.output');\n",
       "if (outputEl) {{\n",
       "    x.observe(outputEl, {childList: true});\n",
       "}}\n",
       "\n",
       "                        })\n",
       "                };\n",
       "                });\n",
       "            </script>\n",
       "        </div>"
      ]
     },
     "metadata": {},
     "output_type": "display_data"
    }
   ],
   "source": [
    "mygraph.plot(filename='coco.html')"
   ]
  },
  {
   "cell_type": "code",
   "execution_count": null,
   "metadata": {},
   "outputs": [],
   "source": [
    "mygraph.plot(title='coco', node_color_col='clientes')"
   ]
  },
  {
   "cell_type": "code",
   "execution_count": null,
   "metadata": {},
   "outputs": [],
   "source": [
    "mygraph.plot(title='coco', node_size_col='clientes', node_color_col='clientes')"
   ]
  },
  {
   "cell_type": "code",
   "execution_count": null,
   "metadata": {},
   "outputs": [],
   "source": [
    "mygraph.plot(title='coco', node_size_col='clientes', node_color_col='clientes', hover_col='clientes')"
   ]
  },
  {
   "cell_type": "code",
   "execution_count": null,
   "metadata": {},
   "outputs": [],
   "source": [
    "mygraph.plot(title='coco', node_size_col='clientes', node_color_col='clientes', hover_col=['clientes','keke'])"
   ]
  },
  {
   "cell_type": "code",
   "execution_count": null,
   "metadata": {},
   "outputs": [],
   "source": [
    "mygraph.plot(title='coco', node_size_col='clientes', node_color_col='clientes', edge_color_col='enviado')"
   ]
  },
  {
   "cell_type": "code",
   "execution_count": null,
   "metadata": {},
   "outputs": [],
   "source": [
    "mygraph.plot(title='coco', node_size_col='clientes', node_color_col='clientes', edge_width_col='enviado')"
   ]
  },
  {
   "cell_type": "code",
   "execution_count": null,
   "metadata": {},
   "outputs": [],
   "source": [
    "#import plotly.plotly as py\n",
    "import plotly.graph_objs as go\n",
    "\n",
    "import numpy as np\n",
    "from plotly.offline import download_plotlyjs, init_notebook_mode, plot, iplot\n",
    "\n",
    "init_notebook_mode(connected=True)\n",
    "\n",
    "x, y, z = np.random.multivariate_normal(np.array([0,0,0]), np.eye(3), 400).transpose()\n",
    "\n",
    "trace1 = go.Scatter3d(\n",
    "    x=x,\n",
    "    y=y,\n",
    "    z=z,\n",
    "    mode='markers',\n",
    "    marker=dict(\n",
    "        size=12,\n",
    "        color=z,                # set color to an array/list of desired values\n",
    "        colorscale='Viridis',   # choose a colorscale\n",
    "        opacity=0.8\n",
    "    )\n",
    ")\n",
    "\n",
    "data = [trace1]\n",
    "layout = go.Layout(\n",
    "    margin=dict(\n",
    "        l=0,\n",
    "        r=0,\n",
    "        b=0,\n",
    "        t=0\n",
    "    )\n",
    ")\n",
    "fig = go.Figure(data=data, layout=layout)\n",
    "iplot(fig, filename='3d-scatter-colorscale')"
   ]
  },
  {
   "cell_type": "code",
   "execution_count": null,
   "metadata": {},
   "outputs": [],
   "source": [
    "mygraph.G.nodes['Next']"
   ]
  },
  {
   "cell_type": "code",
   "execution_count": null,
   "metadata": {},
   "outputs": [],
   "source": [
    "import plotly.graph_objs as go\n",
    "import plotly\n",
    "plotly.offline.init_notebook_mode()\n",
    "\n",
    "#draw a square\n",
    "x = [0, 1, 0, 1, 0, 1, 0, 1]\n",
    "y = [0, 1, 1, 0, 0, 1, 1, 0]\n",
    "z = [0, 0, 0, 0, 1, 1, 1, 1]\n",
    "\n",
    "#the start and end point for each line\n",
    "pairs = [(1,2),(7,6)]\n",
    "\n",
    "trace1 = go.Scatter3d(\n",
    "    x=x,\n",
    "    y=y,\n",
    "    z=z,\n",
    "    mode='markers',\n",
    "    name='markers'\n",
    ")\n",
    "\n",
    "x_lines = list()\n",
    "y_lines = list()\n",
    "z_lines = list()\n",
    "\n",
    "#create the coordinate list for the lines\n",
    "for p in pairs:\n",
    "    for i in range(2):\n",
    "        x_lines.append(x[p[i]])\n",
    "        y_lines.append(y[p[i]])\n",
    "        z_lines.append(z[p[i]])\n",
    "    x_lines.append(None)\n",
    "    y_lines.append(None)\n",
    "    z_lines.append(None)\n",
    "\n",
    "trace2 = go.Scatter3d(\n",
    "    x=x_lines,\n",
    "    y=y_lines,\n",
    "    z=z_lines,\n",
    "    mode='lines',\n",
    "    name='lines'\n",
    ")\n",
    "\n",
    "fig = go.Figure(data=[trace1, trace2])\n",
    "plotly.offline.iplot(fig, filename='simple-3d-scatter')"
   ]
  },
  {
   "cell_type": "code",
   "execution_count": null,
   "metadata": {},
   "outputs": [],
   "source": [
    "import pandas as pd\n",
    "df = pd.DataFrame({'coco':[1,2,3,3,2,1], 'lala':[6,5,4,3,2,1], 'banco':['jujuba','boteco','lala','metin','coco','lala']})"
   ]
  },
  {
   "cell_type": "code",
   "execution_count": null,
   "metadata": {},
   "outputs": [],
   "source": [
    "df.iloc[0].to_dict()"
   ]
  },
  {
   "cell_type": "code",
   "execution_count": null,
   "metadata": {},
   "outputs": [],
   "source": [
    "pos = nx.random_layout(mygraph.G, dim = 3)"
   ]
  },
  {
   "cell_type": "code",
   "execution_count": null,
   "metadata": {},
   "outputs": [],
   "source": [
    "pos"
   ]
  },
  {
   "cell_type": "code",
   "execution_count": null,
   "metadata": {},
   "outputs": [],
   "source": [
    "for k in pos.items():\n",
    "    print (type(k[1]))"
   ]
  },
  {
   "cell_type": "code",
   "execution_count": null,
   "metadata": {},
   "outputs": [],
   "source": [
    "for edge in mygraph.G.edges():\n",
    "    print(edge)"
   ]
  },
  {
   "cell_type": "code",
   "execution_count": null,
   "metadata": {},
   "outputs": [],
   "source": [
    "a = dict(sdf=23)"
   ]
  },
  {
   "cell_type": "code",
   "execution_count": null,
   "metadata": {},
   "outputs": [],
   "source": [
    "a"
   ]
  },
  {
   "cell_type": "code",
   "execution_count": null,
   "metadata": {},
   "outputs": [],
   "source": []
  }
 ],
 "metadata": {
  "kernelspec": {
   "display_name": "Python 3",
   "language": "python",
   "name": "python3"
  },
  "language_info": {
   "codemirror_mode": {
    "name": "ipython",
    "version": 3
   },
   "file_extension": ".py",
   "mimetype": "text/x-python",
   "name": "python",
   "nbconvert_exporter": "python",
   "pygments_lexer": "ipython3",
   "version": "3.7.0"
  }
 },
 "nbformat": 4,
 "nbformat_minor": 2
}
