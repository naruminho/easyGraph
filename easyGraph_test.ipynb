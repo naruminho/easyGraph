{
 "cells": [
  {
   "cell_type": "code",
   "execution_count": 1,
   "metadata": {},
   "outputs": [
    {
     "data": {
      "text/html": [
       "        <script type=\"text/javascript\">\n",
       "        window.PlotlyConfig = {MathJaxConfig: 'local'};\n",
       "        if (window.MathJax) {MathJax.Hub.Config({SVG: {font: \"STIX-Web\"}});}\n",
       "        if (typeof require !== 'undefined') {\n",
       "        require.undef(\"plotly\");\n",
       "        requirejs.config({\n",
       "            paths: {\n",
       "                'plotly': ['https://cdn.plot.ly/plotly-latest.min']\n",
       "            }\n",
       "        });\n",
       "        require(['plotly'], function(Plotly) {\n",
       "            window._Plotly = Plotly;\n",
       "        });\n",
       "        }\n",
       "        </script>\n",
       "        "
      ]
     },
     "metadata": {},
     "output_type": "display_data"
    }
   ],
   "source": [
    "%load_ext autoreload\n",
    "%autoreload 2\n",
    "from easyGraph import *\n",
    "import pandas as pd"
   ]
  },
  {
   "cell_type": "code",
   "execution_count": 2,
   "metadata": {},
   "outputs": [],
   "source": [
    "# criando o grafo \n",
    "mygraph = EasyGraph(6, dim=3)"
   ]
  },
  {
   "cell_type": "code",
   "execution_count": 3,
   "metadata": {},
   "outputs": [
    {
     "data": {
      "text/html": [
       "<div>\n",
       "<style scoped>\n",
       "    .dataframe tbody tr th:only-of-type {\n",
       "        vertical-align: middle;\n",
       "    }\n",
       "\n",
       "    .dataframe tbody tr th {\n",
       "        vertical-align: top;\n",
       "    }\n",
       "\n",
       "    .dataframe thead th {\n",
       "        text-align: right;\n",
       "    }\n",
       "</style>\n",
       "<table border=\"1\" class=\"dataframe\">\n",
       "  <thead>\n",
       "    <tr style=\"text-align: right;\">\n",
       "      <th></th>\n",
       "      <th>banco</th>\n",
       "      <th>clientes</th>\n",
       "      <th>lucro</th>\n",
       "    </tr>\n",
       "  </thead>\n",
       "  <tbody>\n",
       "    <tr>\n",
       "      <th>0</th>\n",
       "      <td>Next</td>\n",
       "      <td>2000</td>\n",
       "      <td>234</td>\n",
       "    </tr>\n",
       "    <tr>\n",
       "      <th>1</th>\n",
       "      <td>Inter</td>\n",
       "      <td>35000</td>\n",
       "      <td>1111</td>\n",
       "    </tr>\n",
       "    <tr>\n",
       "      <th>2</th>\n",
       "      <td>Nubank</td>\n",
       "      <td>234243</td>\n",
       "      <td>2234</td>\n",
       "    </tr>\n",
       "    <tr>\n",
       "      <th>3</th>\n",
       "      <td>BB</td>\n",
       "      <td>23443</td>\n",
       "      <td>2344</td>\n",
       "    </tr>\n",
       "    <tr>\n",
       "      <th>4</th>\n",
       "      <td>Itau</td>\n",
       "      <td>2</td>\n",
       "      <td>444</td>\n",
       "    </tr>\n",
       "  </tbody>\n",
       "</table>\n",
       "</div>"
      ],
      "text/plain": [
       "    banco  clientes  lucro\n",
       "0    Next      2000    234\n",
       "1   Inter     35000   1111\n",
       "2  Nubank    234243   2234\n",
       "3      BB     23443   2344\n",
       "4    Itau         2    444"
      ]
     },
     "execution_count": 3,
     "metadata": {},
     "output_type": "execute_result"
    }
   ],
   "source": [
    "# criando um df de nodes como exemplo\n",
    "bancos = pd.DataFrame({\n",
    "        'banco' : ['Next', 'Inter', 'Nubank', 'BB', 'Itau', 'XP Investimentos', 'CEF', 'Santander','Bradesco'],\n",
    "        'clientes': [2000,   35000, 234243, 23443,2,1,232323, 666, 24433],\n",
    "        'lucro': [234, 1111, 2234, 2344, 444, 222, 1, 1, 9877] \n",
    "})\n",
    "bancos.head()"
   ]
  },
  {
   "cell_type": "code",
   "execution_count": 4,
   "metadata": {},
   "outputs": [],
   "source": [
    "# adicionando os nodes ao grafo\n",
    "# banco é o nome da coluna que contem o id do no\n",
    "mygraph.node.load(bancos, 'banco')"
   ]
  },
  {
   "cell_type": "code",
   "execution_count": 5,
   "metadata": {},
   "outputs": [
    {
     "data": {
      "text/html": [
       "<div>\n",
       "<style scoped>\n",
       "    .dataframe tbody tr th:only-of-type {\n",
       "        vertical-align: middle;\n",
       "    }\n",
       "\n",
       "    .dataframe tbody tr th {\n",
       "        vertical-align: top;\n",
       "    }\n",
       "\n",
       "    .dataframe thead th {\n",
       "        text-align: right;\n",
       "    }\n",
       "</style>\n",
       "<table border=\"1\" class=\"dataframe\">\n",
       "  <thead>\n",
       "    <tr style=\"text-align: right;\">\n",
       "      <th></th>\n",
       "      <th>de</th>\n",
       "      <th>para</th>\n",
       "      <th>enviado</th>\n",
       "      <th>recebido</th>\n",
       "    </tr>\n",
       "  </thead>\n",
       "  <tbody>\n",
       "    <tr>\n",
       "      <th>0</th>\n",
       "      <td>Next</td>\n",
       "      <td>Bradesco</td>\n",
       "      <td>25500</td>\n",
       "      <td>2344</td>\n",
       "    </tr>\n",
       "    <tr>\n",
       "      <th>1</th>\n",
       "      <td>Next</td>\n",
       "      <td>Inter</td>\n",
       "      <td>3500</td>\n",
       "      <td>111</td>\n",
       "    </tr>\n",
       "    <tr>\n",
       "      <th>2</th>\n",
       "      <td>Next</td>\n",
       "      <td>Nubank</td>\n",
       "      <td>12345</td>\n",
       "      <td>22234</td>\n",
       "    </tr>\n",
       "    <tr>\n",
       "      <th>3</th>\n",
       "      <td>Next</td>\n",
       "      <td>BB</td>\n",
       "      <td>6664</td>\n",
       "      <td>234</td>\n",
       "    </tr>\n",
       "    <tr>\n",
       "      <th>4</th>\n",
       "      <td>Next</td>\n",
       "      <td>Itau</td>\n",
       "      <td>222</td>\n",
       "      <td>4344</td>\n",
       "    </tr>\n",
       "  </tbody>\n",
       "</table>\n",
       "</div>"
      ],
      "text/plain": [
       "     de      para  enviado  recebido\n",
       "0  Next  Bradesco    25500      2344\n",
       "1  Next     Inter     3500       111\n",
       "2  Next    Nubank    12345     22234\n",
       "3  Next        BB     6664       234\n",
       "4  Next      Itau      222      4344"
      ]
     },
     "execution_count": 5,
     "metadata": {},
     "output_type": "execute_result"
    }
   ],
   "source": [
    "teds = pd.DataFrame({\n",
    "        'de' : ['Next', 'Next', 'Next', 'Next', 'Next', 'Next', 'Next', 'Next'],\n",
    "        'para' : ['Bradesco', 'Inter', 'Nubank', 'BB', 'Itau', 'XP Investimentos', 'CEF', 'Santander'],\n",
    "        'enviado': [25500,   3500, 12345, 6664, 222,111, 2323, 666],\n",
    "        'recebido': [2344, 111, 22234, 234, 4344, 2322, 1111, 1111] \n",
    "})\n",
    "teds.head()"
   ]
  },
  {
   "cell_type": "code",
   "execution_count": 6,
   "metadata": {},
   "outputs": [],
   "source": [
    "mygraph.edge.load(teds, 'de', 'para')"
   ]
  },
  {
   "cell_type": "code",
   "execution_count": 7,
   "metadata": {},
   "outputs": [
    {
     "data": {
      "application/vnd.plotly.v1+json": {
       "config": {
        "linkText": "Export to plot.ly",
        "plotlyServerURL": "https://plot.ly",
        "responsive": true,
        "showLink": false
       },
       "data": [
        {
         "hoverinfo": "text",
         "marker": {
          "cmax": null,
          "cmin": null,
          "color": "darkblue",
          "colorbar": {
           "thickness": 15,
           "title": {
            "side": "right",
            "text": " "
           },
           "xanchor": "left"
          },
          "colorscale": "Viridis",
          "line": {
           "width": 2
          },
          "reversescale": true,
          "showscale": false,
          "size": [
           1,
           1,
           1,
           1,
           1,
           1,
           1,
           1,
           1
          ],
          "sizemin": 5,
          "sizemode": "area",
          "sizeref": 5
         },
         "mode": "markers",
         "text": [
          "clientes: 2000<br>lucro: 234<br>",
          "clientes: 35000<br>lucro: 1111<br>",
          "clientes: 234243<br>lucro: 2234<br>",
          "clientes: 23443<br>lucro: 2344<br>",
          "clientes: 2<br>lucro: 444<br>",
          "clientes: 1<br>lucro: 222<br>",
          "clientes: 232323<br>lucro: 1<br>",
          "clientes: 666<br>lucro: 1<br>",
          "clientes: 24433<br>lucro: 9877<br>"
         ],
         "type": "scatter",
         "uid": "7a5bf753-b8ce-4cc6-bfa9-18646dd13a00",
         "x": [
          0.0003693751249001431,
          0.595103700877703,
          0.49840347174489763,
          -0.9659677770000865,
          0.10109098338908107,
          0.9524622698944001,
          -0.14632678295940021,
          -0.5254383293522699,
          -0.509696911719225
         ],
         "y": [
          0.0012336336271059796,
          -0.5288941782993855,
          -0.6674961091929263,
          0.17333400094560955,
          0.4761340869557361,
          0.4511883552101707,
          1,
          -0.9200140485142545,
          0.014514259267944581
         ]
        },
        {
         "hoverinfo": "none",
         "line": {
          "color": "black",
          "width": 0.5
         },
         "mode": "lines",
         "type": "scatter",
         "uid": "1c77c84f-ab8e-4ed8-9f38-422099fa82c5",
         "x": [
          0.0003693751249001431,
          -0.509696911719225,
          null
         ],
         "y": [
          0.0012336336271059796,
          0.014514259267944581,
          null
         ]
        },
        {
         "hoverinfo": "none",
         "line": {
          "color": "black",
          "width": 0.5
         },
         "mode": "lines",
         "type": "scatter",
         "uid": "e11fcece-75d1-4f5f-98e3-ec2109cec797",
         "x": [
          0.0003693751249001431,
          0.595103700877703,
          null
         ],
         "y": [
          0.0012336336271059796,
          -0.5288941782993855,
          null
         ]
        },
        {
         "hoverinfo": "none",
         "line": {
          "color": "black",
          "width": 0.5
         },
         "mode": "lines",
         "type": "scatter",
         "uid": "d6a97d5c-c0e2-4651-8b3d-daf3391d731b",
         "x": [
          0.0003693751249001431,
          0.49840347174489763,
          null
         ],
         "y": [
          0.0012336336271059796,
          -0.6674961091929263,
          null
         ]
        },
        {
         "hoverinfo": "none",
         "line": {
          "color": "black",
          "width": 0.5
         },
         "mode": "lines",
         "type": "scatter",
         "uid": "d1b45bab-bcf1-4525-819e-a6458214cfb0",
         "x": [
          0.0003693751249001431,
          -0.9659677770000865,
          null
         ],
         "y": [
          0.0012336336271059796,
          0.17333400094560955,
          null
         ]
        },
        {
         "hoverinfo": "none",
         "line": {
          "color": "black",
          "width": 0.5
         },
         "mode": "lines",
         "type": "scatter",
         "uid": "1b0fd561-eb97-4b8a-8b5c-6e4b0f04fa24",
         "x": [
          0.0003693751249001431,
          0.10109098338908107,
          null
         ],
         "y": [
          0.0012336336271059796,
          0.4761340869557361,
          null
         ]
        },
        {
         "hoverinfo": "none",
         "line": {
          "color": "black",
          "width": 0.5
         },
         "mode": "lines",
         "type": "scatter",
         "uid": "c8187227-e675-40c5-bf51-fa9e817673e1",
         "x": [
          0.0003693751249001431,
          0.9524622698944001,
          null
         ],
         "y": [
          0.0012336336271059796,
          0.4511883552101707,
          null
         ]
        },
        {
         "hoverinfo": "none",
         "line": {
          "color": "black",
          "width": 0.5
         },
         "mode": "lines",
         "type": "scatter",
         "uid": "a967bbc1-7c1a-4697-bfeb-22386cf20ed2",
         "x": [
          0.0003693751249001431,
          -0.14632678295940021,
          null
         ],
         "y": [
          0.0012336336271059796,
          1,
          null
         ]
        },
        {
         "hoverinfo": "none",
         "line": {
          "color": "black",
          "width": 0.5
         },
         "mode": "lines",
         "type": "scatter",
         "uid": "29f5956b-3a6d-424f-afda-40d420efe0ca",
         "x": [
          0.0003693751249001431,
          -0.5254383293522699,
          null
         ],
         "y": [
          0.0012336336271059796,
          -0.9200140485142545,
          null
         ]
        }
       ],
       "layout": {
        "annotations": [
         {
          "ax": 0,
          "ay": 20,
          "showarrow": false,
          "text": "Next",
          "x": 0.0003693751249001431,
          "xref": "x",
          "y": 0.10123363362710598,
          "yref": "y"
         },
         {
          "ax": 0,
          "ay": 20,
          "showarrow": false,
          "text": "Inter",
          "x": 0.595103700877703,
          "xref": "x",
          "y": -0.4288941782993855,
          "yref": "y"
         },
         {
          "ax": 0,
          "ay": 20,
          "showarrow": false,
          "text": "Nubank",
          "x": 0.49840347174489763,
          "xref": "x",
          "y": -0.5674961091929264,
          "yref": "y"
         },
         {
          "ax": 0,
          "ay": 20,
          "showarrow": false,
          "text": "BB",
          "x": -0.9659677770000865,
          "xref": "x",
          "y": 0.27333400094560956,
          "yref": "y"
         },
         {
          "ax": 0,
          "ay": 20,
          "showarrow": false,
          "text": "Itau",
          "x": 0.10109098338908107,
          "xref": "x",
          "y": 0.5761340869557361,
          "yref": "y"
         },
         {
          "ax": 0,
          "ay": 20,
          "showarrow": false,
          "text": "XP Investimentos",
          "x": 0.9524622698944001,
          "xref": "x",
          "y": 0.5511883552101707,
          "yref": "y"
         },
         {
          "ax": 0,
          "ay": 20,
          "showarrow": false,
          "text": "CEF",
          "x": -0.14632678295940021,
          "xref": "x",
          "y": 1.1,
          "yref": "y"
         },
         {
          "ax": 0,
          "ay": 20,
          "showarrow": false,
          "text": "Santander",
          "x": -0.5254383293522699,
          "xref": "x",
          "y": -0.8200140485142545,
          "yref": "y"
         },
         {
          "ax": 0,
          "ay": 20,
          "showarrow": false,
          "text": "Bradesco",
          "x": -0.509696911719225,
          "xref": "x",
          "y": 0.11451425926794459,
          "yref": "y"
         }
        ],
        "hovermode": "closest",
        "margin": {
         "b": 20,
         "l": 5,
         "r": 5,
         "t": 40
        },
        "showlegend": false,
        "title": {
         "font": {
          "size": 16
         },
         "text": " "
        },
        "xaxis": {
         "showgrid": false,
         "showticklabels": false,
         "zeroline": false
        },
        "yaxis": {
         "showgrid": false,
         "showticklabels": false,
         "zeroline": false
        }
       }
      },
      "text/html": [
       "<div>\n",
       "        \n",
       "        \n",
       "            <div id=\"d2e70566-827f-46dd-8de2-68c3769626fb\" class=\"plotly-graph-div\" style=\"height:525px; width:100%;\"></div>\n",
       "            <script type=\"text/javascript\">\n",
       "                require([\"plotly\"], function(Plotly) {\n",
       "                    window.PLOTLYENV=window.PLOTLYENV || {};\n",
       "                    window.PLOTLYENV.BASE_URL='https://plot.ly';\n",
       "                    \n",
       "                if (document.getElementById(\"d2e70566-827f-46dd-8de2-68c3769626fb\")) {\n",
       "                    Plotly.newPlot(\n",
       "                        'd2e70566-827f-46dd-8de2-68c3769626fb',\n",
       "                        [{\"hoverinfo\": \"text\", \"marker\": {\"cmax\": null, \"cmin\": null, \"color\": \"darkblue\", \"colorbar\": {\"thickness\": 15, \"title\": {\"side\": \"right\", \"text\": \" \"}, \"xanchor\": \"left\"}, \"colorscale\": \"Viridis\", \"line\": {\"width\": 2}, \"reversescale\": true, \"showscale\": false, \"size\": [1, 1, 1, 1, 1, 1, 1, 1, 1], \"sizemin\": 5, \"sizemode\": \"area\", \"sizeref\": 5}, \"mode\": \"markers\", \"text\": [\"clientes: 2000<br>lucro: 234<br>\", \"clientes: 35000<br>lucro: 1111<br>\", \"clientes: 234243<br>lucro: 2234<br>\", \"clientes: 23443<br>lucro: 2344<br>\", \"clientes: 2<br>lucro: 444<br>\", \"clientes: 1<br>lucro: 222<br>\", \"clientes: 232323<br>lucro: 1<br>\", \"clientes: 666<br>lucro: 1<br>\", \"clientes: 24433<br>lucro: 9877<br>\"], \"type\": \"scatter\", \"uid\": \"6811f7ab-5a37-4e9b-a237-42bdc29a6aee\", \"x\": [0.0003693751249001431, 0.595103700877703, 0.49840347174489763, -0.9659677770000865, 0.10109098338908107, 0.9524622698944001, -0.14632678295940021, -0.5254383293522699, -0.509696911719225], \"y\": [0.0012336336271059796, -0.5288941782993855, -0.6674961091929263, 0.17333400094560955, 0.4761340869557361, 0.4511883552101707, 1.0, -0.9200140485142545, 0.014514259267944581]}, {\"hoverinfo\": \"none\", \"line\": {\"color\": \"black\", \"width\": 0.5}, \"mode\": \"lines\", \"type\": \"scatter\", \"uid\": \"fdde6a92-4500-4b1f-aaf3-904ff011f5bf\", \"x\": [0.0003693751249001431, -0.509696911719225, null], \"y\": [0.0012336336271059796, 0.014514259267944581, null]}, {\"hoverinfo\": \"none\", \"line\": {\"color\": \"black\", \"width\": 0.5}, \"mode\": \"lines\", \"type\": \"scatter\", \"uid\": \"3f04ae8b-af24-4388-871d-5ae758584200\", \"x\": [0.0003693751249001431, 0.595103700877703, null], \"y\": [0.0012336336271059796, -0.5288941782993855, null]}, {\"hoverinfo\": \"none\", \"line\": {\"color\": \"black\", \"width\": 0.5}, \"mode\": \"lines\", \"type\": \"scatter\", \"uid\": \"79070647-2315-4033-965a-8ba290a5f042\", \"x\": [0.0003693751249001431, 0.49840347174489763, null], \"y\": [0.0012336336271059796, -0.6674961091929263, null]}, {\"hoverinfo\": \"none\", \"line\": {\"color\": \"black\", \"width\": 0.5}, \"mode\": \"lines\", \"type\": \"scatter\", \"uid\": \"f812715d-e692-4b36-8da9-3c51c6d0d7ce\", \"x\": [0.0003693751249001431, -0.9659677770000865, null], \"y\": [0.0012336336271059796, 0.17333400094560955, null]}, {\"hoverinfo\": \"none\", \"line\": {\"color\": \"black\", \"width\": 0.5}, \"mode\": \"lines\", \"type\": \"scatter\", \"uid\": \"2a44535e-78df-4c37-9f58-8a5807a2cf0c\", \"x\": [0.0003693751249001431, 0.10109098338908107, null], \"y\": [0.0012336336271059796, 0.4761340869557361, null]}, {\"hoverinfo\": \"none\", \"line\": {\"color\": \"black\", \"width\": 0.5}, \"mode\": \"lines\", \"type\": \"scatter\", \"uid\": \"a008b0b0-0627-4aa1-b4bb-c1c9e6a9df3b\", \"x\": [0.0003693751249001431, 0.9524622698944001, null], \"y\": [0.0012336336271059796, 0.4511883552101707, null]}, {\"hoverinfo\": \"none\", \"line\": {\"color\": \"black\", \"width\": 0.5}, \"mode\": \"lines\", \"type\": \"scatter\", \"uid\": \"b4c5e587-421a-4b22-946f-0107db6a46cb\", \"x\": [0.0003693751249001431, -0.14632678295940021, null], \"y\": [0.0012336336271059796, 1.0, null]}, {\"hoverinfo\": \"none\", \"line\": {\"color\": \"black\", \"width\": 0.5}, \"mode\": \"lines\", \"type\": \"scatter\", \"uid\": \"520e0337-bcd1-48e5-b792-f28ce748afeb\", \"x\": [0.0003693751249001431, -0.5254383293522699, null], \"y\": [0.0012336336271059796, -0.9200140485142545, null]}],\n",
       "                        {\"annotations\": [{\"ax\": 0, \"ay\": 20, \"showarrow\": false, \"text\": \"Next\", \"x\": 0.0003693751249001431, \"xref\": \"x\", \"y\": 0.10123363362710598, \"yref\": \"y\"}, {\"ax\": 0, \"ay\": 20, \"showarrow\": false, \"text\": \"Inter\", \"x\": 0.595103700877703, \"xref\": \"x\", \"y\": -0.4288941782993855, \"yref\": \"y\"}, {\"ax\": 0, \"ay\": 20, \"showarrow\": false, \"text\": \"Nubank\", \"x\": 0.49840347174489763, \"xref\": \"x\", \"y\": -0.5674961091929264, \"yref\": \"y\"}, {\"ax\": 0, \"ay\": 20, \"showarrow\": false, \"text\": \"BB\", \"x\": -0.9659677770000865, \"xref\": \"x\", \"y\": 0.27333400094560956, \"yref\": \"y\"}, {\"ax\": 0, \"ay\": 20, \"showarrow\": false, \"text\": \"Itau\", \"x\": 0.10109098338908107, \"xref\": \"x\", \"y\": 0.5761340869557361, \"yref\": \"y\"}, {\"ax\": 0, \"ay\": 20, \"showarrow\": false, \"text\": \"XP Investimentos\", \"x\": 0.9524622698944001, \"xref\": \"x\", \"y\": 0.5511883552101707, \"yref\": \"y\"}, {\"ax\": 0, \"ay\": 20, \"showarrow\": false, \"text\": \"CEF\", \"x\": -0.14632678295940021, \"xref\": \"x\", \"y\": 1.1, \"yref\": \"y\"}, {\"ax\": 0, \"ay\": 20, \"showarrow\": false, \"text\": \"Santander\", \"x\": -0.5254383293522699, \"xref\": \"x\", \"y\": -0.8200140485142545, \"yref\": \"y\"}, {\"ax\": 0, \"ay\": 20, \"showarrow\": false, \"text\": \"Bradesco\", \"x\": -0.509696911719225, \"xref\": \"x\", \"y\": 0.11451425926794459, \"yref\": \"y\"}], \"hovermode\": \"closest\", \"margin\": {\"b\": 20, \"l\": 5, \"r\": 5, \"t\": 40}, \"showlegend\": false, \"title\": {\"font\": {\"size\": 16}, \"text\": \" \"}, \"xaxis\": {\"showgrid\": false, \"showticklabels\": false, \"zeroline\": false}, \"yaxis\": {\"showgrid\": false, \"showticklabels\": false, \"zeroline\": false}},\n",
       "                        {\"showLink\": false, \"linkText\": \"Export to plot.ly\", \"plotlyServerURL\": \"https://plot.ly\", \"responsive\": true}\n",
       "                    ).then(function(){\n",
       "                            \n",
       "var gd = document.getElementById('d2e70566-827f-46dd-8de2-68c3769626fb');\n",
       "var x = new MutationObserver(function (mutations, observer) {{\n",
       "        var display = window.getComputedStyle(gd).display;\n",
       "        if (!display || display === 'none') {{\n",
       "            console.log([gd, 'removed!']);\n",
       "            Plotly.purge(gd);\n",
       "            observer.disconnect();\n",
       "        }}\n",
       "}});\n",
       "\n",
       "// Listen for the removal of the full notebook cells\n",
       "var notebookContainer = gd.closest('#notebook-container');\n",
       "if (notebookContainer) {{\n",
       "    x.observe(notebookContainer, {childList: true});\n",
       "}}\n",
       "\n",
       "// Listen for the clearing of the current output cell\n",
       "var outputEl = gd.closest('.output');\n",
       "if (outputEl) {{\n",
       "    x.observe(outputEl, {childList: true});\n",
       "}}\n",
       "\n",
       "                        })\n",
       "                };\n",
       "                });\n",
       "            </script>\n",
       "        </div>"
      ]
     },
     "metadata": {},
     "output_type": "display_data"
    }
   ],
   "source": [
    "mygraph.plot()"
   ]
  },
  {
   "cell_type": "code",
   "execution_count": 8,
   "metadata": {},
   "outputs": [
    {
     "data": {
      "application/vnd.plotly.v1+json": {
       "config": {
        "linkText": "Export to plot.ly",
        "plotlyServerURL": "https://plot.ly",
        "responsive": true,
        "showLink": false
       },
       "data": [
        {
         "hoverinfo": "text",
         "marker": {
          "cmax": null,
          "cmin": null,
          "color": [
           "rgb(0, 0, 6)",
           "rgb(35, 17, 82)",
           "rgb(251, 252, 191)",
           "rgb(20, 13, 53)",
           "rgb(0, 0, 3)",
           "rgb(0, 0, 3)",
           "rgb(251, 247, 185)",
           "rgb(0, 0, 3)",
           "rgb(21, 14, 56)"
          ],
          "colorbar": {
           "thickness": 15,
           "title": {
            "side": "right",
            "text": "coco"
           },
           "xanchor": "left"
          },
          "colorscale": "Viridis",
          "line": {
           "width": 2
          },
          "reversescale": true,
          "showscale": false,
          "size": [
           1,
           1,
           1,
           1,
           1,
           1,
           1,
           1,
           1
          ],
          "sizemin": 5,
          "sizemode": "area",
          "sizeref": 5
         },
         "mode": "markers",
         "text": [
          "clientes: 2000<br>lucro: 234<br>",
          "clientes: 35000<br>lucro: 1111<br>",
          "clientes: 234243<br>lucro: 2234<br>",
          "clientes: 23443<br>lucro: 2344<br>",
          "clientes: 2<br>lucro: 444<br>",
          "clientes: 1<br>lucro: 222<br>",
          "clientes: 232323<br>lucro: 1<br>",
          "clientes: 666<br>lucro: 1<br>",
          "clientes: 24433<br>lucro: 9877<br>"
         ],
         "type": "scatter",
         "uid": "a1839e0f-9cf6-4172-b88c-7e4240b136e9",
         "x": [
          0.0008961936764775891,
          -0.5522073629204154,
          -0.2349276238519983,
          0.6766376851131224,
          -0.03604242212095495,
          -0.9418667096910888,
          0.5418505480876831,
          0.8683713772294092,
          -0.3227116855222348
         ],
         "y": [
          0.0015130946885973406,
          -0.2792970256997136,
          -1,
          -0.4858184376148251,
          0.7402923206021513,
          -0.0024347289752882683,
          -0.36214679742603706,
          0.5573794139083847,
          0.8305121605167304
         ]
        },
        {
         "hoverinfo": "none",
         "line": {
          "color": "black",
          "width": 0.5
         },
         "mode": "lines",
         "type": "scatter",
         "uid": "dd50d98c-fe28-4807-8b95-fe068c41de13",
         "x": [
          0.0008961936764775891,
          -0.3227116855222348,
          null
         ],
         "y": [
          0.0015130946885973406,
          0.8305121605167304,
          null
         ]
        },
        {
         "hoverinfo": "none",
         "line": {
          "color": "black",
          "width": 0.5
         },
         "mode": "lines",
         "type": "scatter",
         "uid": "baed49b9-e156-4d0d-88f6-437e47ee0a87",
         "x": [
          0.0008961936764775891,
          -0.5522073629204154,
          null
         ],
         "y": [
          0.0015130946885973406,
          -0.2792970256997136,
          null
         ]
        },
        {
         "hoverinfo": "none",
         "line": {
          "color": "black",
          "width": 0.5
         },
         "mode": "lines",
         "type": "scatter",
         "uid": "de79352b-9828-4858-97fc-25011a6042c2",
         "x": [
          0.0008961936764775891,
          -0.2349276238519983,
          null
         ],
         "y": [
          0.0015130946885973406,
          -1,
          null
         ]
        },
        {
         "hoverinfo": "none",
         "line": {
          "color": "black",
          "width": 0.5
         },
         "mode": "lines",
         "type": "scatter",
         "uid": "5d864298-050c-4ddd-8540-8e2364502417",
         "x": [
          0.0008961936764775891,
          0.6766376851131224,
          null
         ],
         "y": [
          0.0015130946885973406,
          -0.4858184376148251,
          null
         ]
        },
        {
         "hoverinfo": "none",
         "line": {
          "color": "black",
          "width": 0.5
         },
         "mode": "lines",
         "type": "scatter",
         "uid": "efbdd69d-44e8-4c88-b111-64c5d6b4009d",
         "x": [
          0.0008961936764775891,
          -0.03604242212095495,
          null
         ],
         "y": [
          0.0015130946885973406,
          0.7402923206021513,
          null
         ]
        },
        {
         "hoverinfo": "none",
         "line": {
          "color": "black",
          "width": 0.5
         },
         "mode": "lines",
         "type": "scatter",
         "uid": "ca96c00b-e9d6-4a9f-9aa8-b3f2ee9d3c86",
         "x": [
          0.0008961936764775891,
          -0.9418667096910888,
          null
         ],
         "y": [
          0.0015130946885973406,
          -0.0024347289752882683,
          null
         ]
        },
        {
         "hoverinfo": "none",
         "line": {
          "color": "black",
          "width": 0.5
         },
         "mode": "lines",
         "type": "scatter",
         "uid": "e28a4517-1958-43c8-a7f6-8b0a08098648",
         "x": [
          0.0008961936764775891,
          0.5418505480876831,
          null
         ],
         "y": [
          0.0015130946885973406,
          -0.36214679742603706,
          null
         ]
        },
        {
         "hoverinfo": "none",
         "line": {
          "color": "black",
          "width": 0.5
         },
         "mode": "lines",
         "type": "scatter",
         "uid": "e805b2d1-b6c4-497e-850f-671b510c41e1",
         "x": [
          0.0008961936764775891,
          0.8683713772294092,
          null
         ],
         "y": [
          0.0015130946885973406,
          0.5573794139083847,
          null
         ]
        }
       ],
       "layout": {
        "annotations": [
         {
          "ax": 0,
          "ay": 20,
          "showarrow": false,
          "text": "Next",
          "x": 0.0008961936764775891,
          "xref": "x",
          "y": 0.10151309468859734,
          "yref": "y"
         },
         {
          "ax": 0,
          "ay": 20,
          "showarrow": false,
          "text": "Inter",
          "x": -0.5522073629204154,
          "xref": "x",
          "y": -0.1792970256997136,
          "yref": "y"
         },
         {
          "ax": 0,
          "ay": 20,
          "showarrow": false,
          "text": "Nubank",
          "x": -0.2349276238519983,
          "xref": "x",
          "y": -0.9,
          "yref": "y"
         },
         {
          "ax": 0,
          "ay": 20,
          "showarrow": false,
          "text": "BB",
          "x": 0.6766376851131224,
          "xref": "x",
          "y": -0.38581843761482515,
          "yref": "y"
         },
         {
          "ax": 0,
          "ay": 20,
          "showarrow": false,
          "text": "Itau",
          "x": -0.03604242212095495,
          "xref": "x",
          "y": 0.8402923206021513,
          "yref": "y"
         },
         {
          "ax": 0,
          "ay": 20,
          "showarrow": false,
          "text": "XP Investimentos",
          "x": -0.9418667096910888,
          "xref": "x",
          "y": 0.09756527102471174,
          "yref": "y"
         },
         {
          "ax": 0,
          "ay": 20,
          "showarrow": false,
          "text": "CEF",
          "x": 0.5418505480876831,
          "xref": "x",
          "y": -0.2621467974260371,
          "yref": "y"
         },
         {
          "ax": 0,
          "ay": 20,
          "showarrow": false,
          "text": "Santander",
          "x": 0.8683713772294092,
          "xref": "x",
          "y": 0.6573794139083847,
          "yref": "y"
         },
         {
          "ax": 0,
          "ay": 20,
          "showarrow": false,
          "text": "Bradesco",
          "x": -0.3227116855222348,
          "xref": "x",
          "y": 0.9305121605167304,
          "yref": "y"
         }
        ],
        "hovermode": "closest",
        "margin": {
         "b": 20,
         "l": 5,
         "r": 5,
         "t": 40
        },
        "showlegend": false,
        "title": {
         "font": {
          "size": 16
         },
         "text": "coco"
        },
        "xaxis": {
         "showgrid": false,
         "showticklabels": false,
         "zeroline": false
        },
        "yaxis": {
         "showgrid": false,
         "showticklabels": false,
         "zeroline": false
        }
       }
      },
      "text/html": [
       "<div>\n",
       "        \n",
       "        \n",
       "            <div id=\"37165b96-f68d-4a81-b619-5676f5a88b74\" class=\"plotly-graph-div\" style=\"height:525px; width:100%;\"></div>\n",
       "            <script type=\"text/javascript\">\n",
       "                require([\"plotly\"], function(Plotly) {\n",
       "                    window.PLOTLYENV=window.PLOTLYENV || {};\n",
       "                    window.PLOTLYENV.BASE_URL='https://plot.ly';\n",
       "                    \n",
       "                if (document.getElementById(\"37165b96-f68d-4a81-b619-5676f5a88b74\")) {\n",
       "                    Plotly.newPlot(\n",
       "                        '37165b96-f68d-4a81-b619-5676f5a88b74',\n",
       "                        [{\"hoverinfo\": \"text\", \"marker\": {\"cmax\": null, \"cmin\": null, \"color\": [\"rgb(0, 0, 6)\", \"rgb(35, 17, 82)\", \"rgb(251, 252, 191)\", \"rgb(20, 13, 53)\", \"rgb(0, 0, 3)\", \"rgb(0, 0, 3)\", \"rgb(251, 247, 185)\", \"rgb(0, 0, 3)\", \"rgb(21, 14, 56)\"], \"colorbar\": {\"thickness\": 15, \"title\": {\"side\": \"right\", \"text\": \"coco\"}, \"xanchor\": \"left\"}, \"colorscale\": \"Viridis\", \"line\": {\"width\": 2}, \"reversescale\": true, \"showscale\": false, \"size\": [1, 1, 1, 1, 1, 1, 1, 1, 1], \"sizemin\": 5, \"sizemode\": \"area\", \"sizeref\": 5}, \"mode\": \"markers\", \"text\": [\"clientes: 2000<br>lucro: 234<br>\", \"clientes: 35000<br>lucro: 1111<br>\", \"clientes: 234243<br>lucro: 2234<br>\", \"clientes: 23443<br>lucro: 2344<br>\", \"clientes: 2<br>lucro: 444<br>\", \"clientes: 1<br>lucro: 222<br>\", \"clientes: 232323<br>lucro: 1<br>\", \"clientes: 666<br>lucro: 1<br>\", \"clientes: 24433<br>lucro: 9877<br>\"], \"type\": \"scatter\", \"uid\": \"4105abb7-bf66-4e81-9d95-5517f5b9cc1b\", \"x\": [0.0008961936764775891, -0.5522073629204154, -0.2349276238519983, 0.6766376851131224, -0.03604242212095495, -0.9418667096910888, 0.5418505480876831, 0.8683713772294092, -0.3227116855222348], \"y\": [0.0015130946885973406, -0.2792970256997136, -1.0, -0.4858184376148251, 0.7402923206021513, -0.0024347289752882683, -0.36214679742603706, 0.5573794139083847, 0.8305121605167304]}, {\"hoverinfo\": \"none\", \"line\": {\"color\": \"black\", \"width\": 0.5}, \"mode\": \"lines\", \"type\": \"scatter\", \"uid\": \"68fb0cf8-3884-4673-980e-2fdcec6675c0\", \"x\": [0.0008961936764775891, -0.3227116855222348, null], \"y\": [0.0015130946885973406, 0.8305121605167304, null]}, {\"hoverinfo\": \"none\", \"line\": {\"color\": \"black\", \"width\": 0.5}, \"mode\": \"lines\", \"type\": \"scatter\", \"uid\": \"6ca689e3-f2d7-427a-88ab-7796f8153959\", \"x\": [0.0008961936764775891, -0.5522073629204154, null], \"y\": [0.0015130946885973406, -0.2792970256997136, null]}, {\"hoverinfo\": \"none\", \"line\": {\"color\": \"black\", \"width\": 0.5}, \"mode\": \"lines\", \"type\": \"scatter\", \"uid\": \"6bbce09f-3e00-4de3-826a-4dda5b9c57db\", \"x\": [0.0008961936764775891, -0.2349276238519983, null], \"y\": [0.0015130946885973406, -1.0, null]}, {\"hoverinfo\": \"none\", \"line\": {\"color\": \"black\", \"width\": 0.5}, \"mode\": \"lines\", \"type\": \"scatter\", \"uid\": \"6b81355d-3151-4929-924c-23658a3417cb\", \"x\": [0.0008961936764775891, 0.6766376851131224, null], \"y\": [0.0015130946885973406, -0.4858184376148251, null]}, {\"hoverinfo\": \"none\", \"line\": {\"color\": \"black\", \"width\": 0.5}, \"mode\": \"lines\", \"type\": \"scatter\", \"uid\": \"a9a349f0-3253-4338-9447-cb82308e3ddc\", \"x\": [0.0008961936764775891, -0.03604242212095495, null], \"y\": [0.0015130946885973406, 0.7402923206021513, null]}, {\"hoverinfo\": \"none\", \"line\": {\"color\": \"black\", \"width\": 0.5}, \"mode\": \"lines\", \"type\": \"scatter\", \"uid\": \"d3602696-bfc9-4a58-af59-3a4a4ca42289\", \"x\": [0.0008961936764775891, -0.9418667096910888, null], \"y\": [0.0015130946885973406, -0.0024347289752882683, null]}, {\"hoverinfo\": \"none\", \"line\": {\"color\": \"black\", \"width\": 0.5}, \"mode\": \"lines\", \"type\": \"scatter\", \"uid\": \"be065393-88f9-452b-b1fa-692777daf831\", \"x\": [0.0008961936764775891, 0.5418505480876831, null], \"y\": [0.0015130946885973406, -0.36214679742603706, null]}, {\"hoverinfo\": \"none\", \"line\": {\"color\": \"black\", \"width\": 0.5}, \"mode\": \"lines\", \"type\": \"scatter\", \"uid\": \"a30b5d06-ba81-48b5-a948-c0c7c9dbd708\", \"x\": [0.0008961936764775891, 0.8683713772294092, null], \"y\": [0.0015130946885973406, 0.5573794139083847, null]}],\n",
       "                        {\"annotations\": [{\"ax\": 0, \"ay\": 20, \"showarrow\": false, \"text\": \"Next\", \"x\": 0.0008961936764775891, \"xref\": \"x\", \"y\": 0.10151309468859734, \"yref\": \"y\"}, {\"ax\": 0, \"ay\": 20, \"showarrow\": false, \"text\": \"Inter\", \"x\": -0.5522073629204154, \"xref\": \"x\", \"y\": -0.1792970256997136, \"yref\": \"y\"}, {\"ax\": 0, \"ay\": 20, \"showarrow\": false, \"text\": \"Nubank\", \"x\": -0.2349276238519983, \"xref\": \"x\", \"y\": -0.9, \"yref\": \"y\"}, {\"ax\": 0, \"ay\": 20, \"showarrow\": false, \"text\": \"BB\", \"x\": 0.6766376851131224, \"xref\": \"x\", \"y\": -0.38581843761482515, \"yref\": \"y\"}, {\"ax\": 0, \"ay\": 20, \"showarrow\": false, \"text\": \"Itau\", \"x\": -0.03604242212095495, \"xref\": \"x\", \"y\": 0.8402923206021513, \"yref\": \"y\"}, {\"ax\": 0, \"ay\": 20, \"showarrow\": false, \"text\": \"XP Investimentos\", \"x\": -0.9418667096910888, \"xref\": \"x\", \"y\": 0.09756527102471174, \"yref\": \"y\"}, {\"ax\": 0, \"ay\": 20, \"showarrow\": false, \"text\": \"CEF\", \"x\": 0.5418505480876831, \"xref\": \"x\", \"y\": -0.2621467974260371, \"yref\": \"y\"}, {\"ax\": 0, \"ay\": 20, \"showarrow\": false, \"text\": \"Santander\", \"x\": 0.8683713772294092, \"xref\": \"x\", \"y\": 0.6573794139083847, \"yref\": \"y\"}, {\"ax\": 0, \"ay\": 20, \"showarrow\": false, \"text\": \"Bradesco\", \"x\": -0.3227116855222348, \"xref\": \"x\", \"y\": 0.9305121605167304, \"yref\": \"y\"}], \"hovermode\": \"closest\", \"margin\": {\"b\": 20, \"l\": 5, \"r\": 5, \"t\": 40}, \"showlegend\": false, \"title\": {\"font\": {\"size\": 16}, \"text\": \"coco\"}, \"xaxis\": {\"showgrid\": false, \"showticklabels\": false, \"zeroline\": false}, \"yaxis\": {\"showgrid\": false, \"showticklabels\": false, \"zeroline\": false}},\n",
       "                        {\"showLink\": false, \"linkText\": \"Export to plot.ly\", \"plotlyServerURL\": \"https://plot.ly\", \"responsive\": true}\n",
       "                    ).then(function(){\n",
       "                            \n",
       "var gd = document.getElementById('37165b96-f68d-4a81-b619-5676f5a88b74');\n",
       "var x = new MutationObserver(function (mutations, observer) {{\n",
       "        var display = window.getComputedStyle(gd).display;\n",
       "        if (!display || display === 'none') {{\n",
       "            console.log([gd, 'removed!']);\n",
       "            Plotly.purge(gd);\n",
       "            observer.disconnect();\n",
       "        }}\n",
       "}});\n",
       "\n",
       "// Listen for the removal of the full notebook cells\n",
       "var notebookContainer = gd.closest('#notebook-container');\n",
       "if (notebookContainer) {{\n",
       "    x.observe(notebookContainer, {childList: true});\n",
       "}}\n",
       "\n",
       "// Listen for the clearing of the current output cell\n",
       "var outputEl = gd.closest('.output');\n",
       "if (outputEl) {{\n",
       "    x.observe(outputEl, {childList: true});\n",
       "}}\n",
       "\n",
       "                        })\n",
       "                };\n",
       "                });\n",
       "            </script>\n",
       "        </div>"
      ]
     },
     "metadata": {},
     "output_type": "display_data"
    }
   ],
   "source": [
    "mygraph.plot(title='coco', node_color_col='clientes')"
   ]
  },
  {
   "cell_type": "code",
   "execution_count": 9,
   "metadata": {},
   "outputs": [
    {
     "data": {
      "application/vnd.plotly.v1+json": {
       "config": {
        "linkText": "Export to plot.ly",
        "plotlyServerURL": "https://plot.ly",
        "responsive": true,
        "showLink": false
       },
       "data": [
        {
         "hoverinfo": "text",
         "marker": {
          "cmax": 234243,
          "cmin": 1,
          "color": [
           "rgb(0, 0, 6)",
           "rgb(35, 17, 82)",
           "rgb(251, 252, 191)",
           "rgb(20, 13, 53)",
           "rgb(0, 0, 3)",
           "rgb(0, 0, 3)",
           "rgb(251, 247, 185)",
           "rgb(0, 0, 3)",
           "rgb(21, 14, 56)"
          ],
          "colorbar": {
           "thickness": 15,
           "title": {
            "side": "right",
            "text": "coco"
           },
           "xanchor": "left"
          },
          "colorscale": "Viridis",
          "line": {
           "width": 2
          },
          "reversescale": true,
          "showscale": false,
          "size": [
           2000,
           35000,
           234243,
           23443,
           2,
           1,
           232323,
           666,
           24433
          ],
          "sizemin": 5,
          "sizemode": "area",
          "sizeref": 187.3944
         },
         "mode": "markers",
         "text": [
          "clientes: 2000<br>lucro: 234<br>",
          "clientes: 35000<br>lucro: 1111<br>",
          "clientes: 234243<br>lucro: 2234<br>",
          "clientes: 23443<br>lucro: 2344<br>",
          "clientes: 2<br>lucro: 444<br>",
          "clientes: 1<br>lucro: 222<br>",
          "clientes: 232323<br>lucro: 1<br>",
          "clientes: 666<br>lucro: 1<br>",
          "clientes: 24433<br>lucro: 9877<br>"
         ],
         "type": "scatter",
         "uid": "43f3f8e2-2291-45e2-b0ca-ebe57444328e",
         "x": [
          0.001755866837212064,
          0.9873685804900922,
          -0.18665632295428317,
          0.12633883466670962,
          -0.04486110234013737,
          0.5452574741250185,
          -0.7036110759046474,
          -0.900630154483135,
          0.1750378995631721
         ],
         "y": [
          -0.000124033538042903,
          0.15570815165537766,
          0.27920238532549424,
          0.261561079071346,
          -0.7652471551033672,
          -0.7578547850728798,
          -0.6267229561287442,
          0.45347731379081585,
          1
         ]
        },
        {
         "hoverinfo": "none",
         "line": {
          "color": "black",
          "width": 0.5
         },
         "mode": "lines",
         "type": "scatter",
         "uid": "b541e7ac-241b-4f10-a5f7-b3edab5f8727",
         "x": [
          0.001755866837212064,
          0.1750378995631721,
          null
         ],
         "y": [
          -0.000124033538042903,
          1,
          null
         ]
        },
        {
         "hoverinfo": "none",
         "line": {
          "color": "black",
          "width": 0.5
         },
         "mode": "lines",
         "type": "scatter",
         "uid": "2fd68b1b-50c1-4952-a9ff-8b976c42d967",
         "x": [
          0.001755866837212064,
          0.9873685804900922,
          null
         ],
         "y": [
          -0.000124033538042903,
          0.15570815165537766,
          null
         ]
        },
        {
         "hoverinfo": "none",
         "line": {
          "color": "black",
          "width": 0.5
         },
         "mode": "lines",
         "type": "scatter",
         "uid": "5dc39f3d-3362-4858-a579-d79717ee340d",
         "x": [
          0.001755866837212064,
          -0.18665632295428317,
          null
         ],
         "y": [
          -0.000124033538042903,
          0.27920238532549424,
          null
         ]
        },
        {
         "hoverinfo": "none",
         "line": {
          "color": "black",
          "width": 0.5
         },
         "mode": "lines",
         "type": "scatter",
         "uid": "904d0cea-0586-424d-9c4b-107abf019456",
         "x": [
          0.001755866837212064,
          0.12633883466670962,
          null
         ],
         "y": [
          -0.000124033538042903,
          0.261561079071346,
          null
         ]
        },
        {
         "hoverinfo": "none",
         "line": {
          "color": "black",
          "width": 0.5
         },
         "mode": "lines",
         "type": "scatter",
         "uid": "c46e88f5-89fe-4b4b-8de8-c834623fb7d5",
         "x": [
          0.001755866837212064,
          -0.04486110234013737,
          null
         ],
         "y": [
          -0.000124033538042903,
          -0.7652471551033672,
          null
         ]
        },
        {
         "hoverinfo": "none",
         "line": {
          "color": "black",
          "width": 0.5
         },
         "mode": "lines",
         "type": "scatter",
         "uid": "58e19995-c9cd-451a-b13f-93f52d3356fb",
         "x": [
          0.001755866837212064,
          0.5452574741250185,
          null
         ],
         "y": [
          -0.000124033538042903,
          -0.7578547850728798,
          null
         ]
        },
        {
         "hoverinfo": "none",
         "line": {
          "color": "black",
          "width": 0.5
         },
         "mode": "lines",
         "type": "scatter",
         "uid": "cd6fd7d2-486e-497f-b3bf-a1293a605763",
         "x": [
          0.001755866837212064,
          -0.7036110759046474,
          null
         ],
         "y": [
          -0.000124033538042903,
          -0.6267229561287442,
          null
         ]
        },
        {
         "hoverinfo": "none",
         "line": {
          "color": "black",
          "width": 0.5
         },
         "mode": "lines",
         "type": "scatter",
         "uid": "9d29ed24-a2fe-4403-a745-c0ec913a01c6",
         "x": [
          0.001755866837212064,
          -0.900630154483135,
          null
         ],
         "y": [
          -0.000124033538042903,
          0.45347731379081585,
          null
         ]
        }
       ],
       "layout": {
        "annotations": [
         {
          "ax": 0,
          "ay": 20,
          "showarrow": false,
          "text": "Next",
          "x": 0.001755866837212064,
          "xref": "x",
          "y": 0.09987596646195711,
          "yref": "y"
         },
         {
          "ax": 0,
          "ay": 20,
          "showarrow": false,
          "text": "Inter",
          "x": 0.9873685804900922,
          "xref": "x",
          "y": 0.25570815165537764,
          "yref": "y"
         },
         {
          "ax": 0,
          "ay": 20,
          "showarrow": false,
          "text": "Nubank",
          "x": -0.18665632295428317,
          "xref": "x",
          "y": 0.3792023853254942,
          "yref": "y"
         },
         {
          "ax": 0,
          "ay": 20,
          "showarrow": false,
          "text": "BB",
          "x": 0.12633883466670962,
          "xref": "x",
          "y": 0.36156107907134605,
          "yref": "y"
         },
         {
          "ax": 0,
          "ay": 20,
          "showarrow": false,
          "text": "Itau",
          "x": -0.04486110234013737,
          "xref": "x",
          "y": -0.6652471551033672,
          "yref": "y"
         },
         {
          "ax": 0,
          "ay": 20,
          "showarrow": false,
          "text": "XP Investimentos",
          "x": 0.5452574741250185,
          "xref": "x",
          "y": -0.6578547850728799,
          "yref": "y"
         },
         {
          "ax": 0,
          "ay": 20,
          "showarrow": false,
          "text": "CEF",
          "x": -0.7036110759046474,
          "xref": "x",
          "y": -0.5267229561287442,
          "yref": "y"
         },
         {
          "ax": 0,
          "ay": 20,
          "showarrow": false,
          "text": "Santander",
          "x": -0.900630154483135,
          "xref": "x",
          "y": 0.5534773137908159,
          "yref": "y"
         },
         {
          "ax": 0,
          "ay": 20,
          "showarrow": false,
          "text": "Bradesco",
          "x": 0.1750378995631721,
          "xref": "x",
          "y": 1.1,
          "yref": "y"
         }
        ],
        "hovermode": "closest",
        "margin": {
         "b": 20,
         "l": 5,
         "r": 5,
         "t": 40
        },
        "showlegend": false,
        "title": {
         "font": {
          "size": 16
         },
         "text": "coco"
        },
        "xaxis": {
         "showgrid": false,
         "showticklabels": false,
         "zeroline": false
        },
        "yaxis": {
         "showgrid": false,
         "showticklabels": false,
         "zeroline": false
        }
       }
      },
      "text/html": [
       "<div>\n",
       "        \n",
       "        \n",
       "            <div id=\"311d8316-63d8-4806-bdc7-ce64ae478fe1\" class=\"plotly-graph-div\" style=\"height:525px; width:100%;\"></div>\n",
       "            <script type=\"text/javascript\">\n",
       "                require([\"plotly\"], function(Plotly) {\n",
       "                    window.PLOTLYENV=window.PLOTLYENV || {};\n",
       "                    window.PLOTLYENV.BASE_URL='https://plot.ly';\n",
       "                    \n",
       "                if (document.getElementById(\"311d8316-63d8-4806-bdc7-ce64ae478fe1\")) {\n",
       "                    Plotly.newPlot(\n",
       "                        '311d8316-63d8-4806-bdc7-ce64ae478fe1',\n",
       "                        [{\"hoverinfo\": \"text\", \"marker\": {\"cmax\": 234243, \"cmin\": 1, \"color\": [\"rgb(0, 0, 6)\", \"rgb(35, 17, 82)\", \"rgb(251, 252, 191)\", \"rgb(20, 13, 53)\", \"rgb(0, 0, 3)\", \"rgb(0, 0, 3)\", \"rgb(251, 247, 185)\", \"rgb(0, 0, 3)\", \"rgb(21, 14, 56)\"], \"colorbar\": {\"thickness\": 15, \"title\": {\"side\": \"right\", \"text\": \"coco\"}, \"xanchor\": \"left\"}, \"colorscale\": \"Viridis\", \"line\": {\"width\": 2}, \"reversescale\": true, \"showscale\": false, \"size\": [2000, 35000, 234243, 23443, 2, 1, 232323, 666, 24433], \"sizemin\": 5, \"sizemode\": \"area\", \"sizeref\": 187.3944}, \"mode\": \"markers\", \"text\": [\"clientes: 2000<br>lucro: 234<br>\", \"clientes: 35000<br>lucro: 1111<br>\", \"clientes: 234243<br>lucro: 2234<br>\", \"clientes: 23443<br>lucro: 2344<br>\", \"clientes: 2<br>lucro: 444<br>\", \"clientes: 1<br>lucro: 222<br>\", \"clientes: 232323<br>lucro: 1<br>\", \"clientes: 666<br>lucro: 1<br>\", \"clientes: 24433<br>lucro: 9877<br>\"], \"type\": \"scatter\", \"uid\": \"29da2bcf-e8ed-4d2e-bbd8-e4e2161037e5\", \"x\": [0.001755866837212064, 0.9873685804900922, -0.18665632295428317, 0.12633883466670962, -0.04486110234013737, 0.5452574741250185, -0.7036110759046474, -0.900630154483135, 0.1750378995631721], \"y\": [-0.000124033538042903, 0.15570815165537766, 0.27920238532549424, 0.261561079071346, -0.7652471551033672, -0.7578547850728798, -0.6267229561287442, 0.45347731379081585, 1.0]}, {\"hoverinfo\": \"none\", \"line\": {\"color\": \"black\", \"width\": 0.5}, \"mode\": \"lines\", \"type\": \"scatter\", \"uid\": \"f9944590-8207-4576-a3f5-f1c96185b9b8\", \"x\": [0.001755866837212064, 0.1750378995631721, null], \"y\": [-0.000124033538042903, 1.0, null]}, {\"hoverinfo\": \"none\", \"line\": {\"color\": \"black\", \"width\": 0.5}, \"mode\": \"lines\", \"type\": \"scatter\", \"uid\": \"e066d294-e107-47a7-8d72-8387b33dd6c1\", \"x\": [0.001755866837212064, 0.9873685804900922, null], \"y\": [-0.000124033538042903, 0.15570815165537766, null]}, {\"hoverinfo\": \"none\", \"line\": {\"color\": \"black\", \"width\": 0.5}, \"mode\": \"lines\", \"type\": \"scatter\", \"uid\": \"1e06c83a-4f53-4067-8a49-0490abb76a6e\", \"x\": [0.001755866837212064, -0.18665632295428317, null], \"y\": [-0.000124033538042903, 0.27920238532549424, null]}, {\"hoverinfo\": \"none\", \"line\": {\"color\": \"black\", \"width\": 0.5}, \"mode\": \"lines\", \"type\": \"scatter\", \"uid\": \"f161e408-c796-4c39-a8ec-4664e806c2d5\", \"x\": [0.001755866837212064, 0.12633883466670962, null], \"y\": [-0.000124033538042903, 0.261561079071346, null]}, {\"hoverinfo\": \"none\", \"line\": {\"color\": \"black\", \"width\": 0.5}, \"mode\": \"lines\", \"type\": \"scatter\", \"uid\": \"932b5d02-6e84-4898-9228-b7d453de95d6\", \"x\": [0.001755866837212064, -0.04486110234013737, null], \"y\": [-0.000124033538042903, -0.7652471551033672, null]}, {\"hoverinfo\": \"none\", \"line\": {\"color\": \"black\", \"width\": 0.5}, \"mode\": \"lines\", \"type\": \"scatter\", \"uid\": \"9d53d8ca-1d66-4baf-ba21-907e30ce772c\", \"x\": [0.001755866837212064, 0.5452574741250185, null], \"y\": [-0.000124033538042903, -0.7578547850728798, null]}, {\"hoverinfo\": \"none\", \"line\": {\"color\": \"black\", \"width\": 0.5}, \"mode\": \"lines\", \"type\": \"scatter\", \"uid\": \"d74efc7f-16ed-44b1-a5cb-fe7e8e099e26\", \"x\": [0.001755866837212064, -0.7036110759046474, null], \"y\": [-0.000124033538042903, -0.6267229561287442, null]}, {\"hoverinfo\": \"none\", \"line\": {\"color\": \"black\", \"width\": 0.5}, \"mode\": \"lines\", \"type\": \"scatter\", \"uid\": \"887708e6-896b-41c0-8ce8-926eb9a97b7c\", \"x\": [0.001755866837212064, -0.900630154483135, null], \"y\": [-0.000124033538042903, 0.45347731379081585, null]}],\n",
       "                        {\"annotations\": [{\"ax\": 0, \"ay\": 20, \"showarrow\": false, \"text\": \"Next\", \"x\": 0.001755866837212064, \"xref\": \"x\", \"y\": 0.09987596646195711, \"yref\": \"y\"}, {\"ax\": 0, \"ay\": 20, \"showarrow\": false, \"text\": \"Inter\", \"x\": 0.9873685804900922, \"xref\": \"x\", \"y\": 0.25570815165537764, \"yref\": \"y\"}, {\"ax\": 0, \"ay\": 20, \"showarrow\": false, \"text\": \"Nubank\", \"x\": -0.18665632295428317, \"xref\": \"x\", \"y\": 0.3792023853254942, \"yref\": \"y\"}, {\"ax\": 0, \"ay\": 20, \"showarrow\": false, \"text\": \"BB\", \"x\": 0.12633883466670962, \"xref\": \"x\", \"y\": 0.36156107907134605, \"yref\": \"y\"}, {\"ax\": 0, \"ay\": 20, \"showarrow\": false, \"text\": \"Itau\", \"x\": -0.04486110234013737, \"xref\": \"x\", \"y\": -0.6652471551033672, \"yref\": \"y\"}, {\"ax\": 0, \"ay\": 20, \"showarrow\": false, \"text\": \"XP Investimentos\", \"x\": 0.5452574741250185, \"xref\": \"x\", \"y\": -0.6578547850728799, \"yref\": \"y\"}, {\"ax\": 0, \"ay\": 20, \"showarrow\": false, \"text\": \"CEF\", \"x\": -0.7036110759046474, \"xref\": \"x\", \"y\": -0.5267229561287442, \"yref\": \"y\"}, {\"ax\": 0, \"ay\": 20, \"showarrow\": false, \"text\": \"Santander\", \"x\": -0.900630154483135, \"xref\": \"x\", \"y\": 0.5534773137908159, \"yref\": \"y\"}, {\"ax\": 0, \"ay\": 20, \"showarrow\": false, \"text\": \"Bradesco\", \"x\": 0.1750378995631721, \"xref\": \"x\", \"y\": 1.1, \"yref\": \"y\"}], \"hovermode\": \"closest\", \"margin\": {\"b\": 20, \"l\": 5, \"r\": 5, \"t\": 40}, \"showlegend\": false, \"title\": {\"font\": {\"size\": 16}, \"text\": \"coco\"}, \"xaxis\": {\"showgrid\": false, \"showticklabels\": false, \"zeroline\": false}, \"yaxis\": {\"showgrid\": false, \"showticklabels\": false, \"zeroline\": false}},\n",
       "                        {\"showLink\": false, \"linkText\": \"Export to plot.ly\", \"plotlyServerURL\": \"https://plot.ly\", \"responsive\": true}\n",
       "                    ).then(function(){\n",
       "                            \n",
       "var gd = document.getElementById('311d8316-63d8-4806-bdc7-ce64ae478fe1');\n",
       "var x = new MutationObserver(function (mutations, observer) {{\n",
       "        var display = window.getComputedStyle(gd).display;\n",
       "        if (!display || display === 'none') {{\n",
       "            console.log([gd, 'removed!']);\n",
       "            Plotly.purge(gd);\n",
       "            observer.disconnect();\n",
       "        }}\n",
       "}});\n",
       "\n",
       "// Listen for the removal of the full notebook cells\n",
       "var notebookContainer = gd.closest('#notebook-container');\n",
       "if (notebookContainer) {{\n",
       "    x.observe(notebookContainer, {childList: true});\n",
       "}}\n",
       "\n",
       "// Listen for the clearing of the current output cell\n",
       "var outputEl = gd.closest('.output');\n",
       "if (outputEl) {{\n",
       "    x.observe(outputEl, {childList: true});\n",
       "}}\n",
       "\n",
       "                        })\n",
       "                };\n",
       "                });\n",
       "            </script>\n",
       "        </div>"
      ]
     },
     "metadata": {},
     "output_type": "display_data"
    }
   ],
   "source": [
    "mygraph.plot(title='coco', node_size_col='clientes', node_color_col='clientes')"
   ]
  },
  {
   "cell_type": "code",
   "execution_count": 10,
   "metadata": {},
   "outputs": [
    {
     "data": {
      "application/vnd.plotly.v1+json": {
       "config": {
        "linkText": "Export to plot.ly",
        "plotlyServerURL": "https://plot.ly",
        "responsive": true,
        "showLink": false
       },
       "data": [
        {
         "hoverinfo": "text",
         "marker": {
          "cmax": 234243,
          "cmin": 1,
          "color": [
           "rgb(0, 0, 6)",
           "rgb(35, 17, 82)",
           "rgb(251, 252, 191)",
           "rgb(20, 13, 53)",
           "rgb(0, 0, 3)",
           "rgb(0, 0, 3)",
           "rgb(251, 247, 185)",
           "rgb(0, 0, 3)",
           "rgb(21, 14, 56)"
          ],
          "colorbar": {
           "thickness": 15,
           "title": {
            "side": "right",
            "text": "coco"
           },
           "xanchor": "left"
          },
          "colorscale": "Viridis",
          "line": {
           "width": 2
          },
          "reversescale": true,
          "showscale": false,
          "size": [
           2000,
           35000,
           234243,
           23443,
           2,
           1,
           232323,
           666,
           24433
          ],
          "sizemin": 5,
          "sizemode": "area",
          "sizeref": 187.3944
         },
         "mode": "markers",
         "text": [
          "clientes: 2000<br>",
          "clientes: 35000<br>",
          "clientes: 234243<br>",
          "clientes: 23443<br>",
          "clientes: 2<br>",
          "clientes: 1<br>",
          "clientes: 232323<br>",
          "clientes: 666<br>",
          "clientes: 24433<br>"
         ],
         "type": "scatter",
         "uid": "79573855-46b5-4360-8aab-567705aeed7b",
         "x": [
          -0.001667667592111816,
          -0.2646727581390684,
          -0.8886665541962779,
          -0.5881839927865611,
          0.2012612060852581,
          0.6162583158102475,
          0.8449417367476051,
          -0.42435603067623173,
          0.5050857447471389
         ],
         "y": [
          -8.386473461377917e-05,
          -0.9671759090109601,
          0.1354873223118463,
          -0.3421344536503667,
          -0.07327986187113082,
          0.7589967771892757,
          -0.5681031955731709,
          0.8760592110165725,
          0.18023397432254784
         ]
        },
        {
         "hoverinfo": "none",
         "line": {
          "color": "black",
          "width": 0.5
         },
         "mode": "lines",
         "type": "scatter",
         "uid": "9648fc54-add5-4931-a693-58b973dc789c",
         "x": [
          -0.001667667592111816,
          0.5050857447471389,
          null
         ],
         "y": [
          -8.386473461377917e-05,
          0.18023397432254784,
          null
         ]
        },
        {
         "hoverinfo": "none",
         "line": {
          "color": "black",
          "width": 0.5
         },
         "mode": "lines",
         "type": "scatter",
         "uid": "fb43ff77-ba9a-4387-969b-3e2a6a95df1a",
         "x": [
          -0.001667667592111816,
          -0.2646727581390684,
          null
         ],
         "y": [
          -8.386473461377917e-05,
          -0.9671759090109601,
          null
         ]
        },
        {
         "hoverinfo": "none",
         "line": {
          "color": "black",
          "width": 0.5
         },
         "mode": "lines",
         "type": "scatter",
         "uid": "b08ba952-0920-4e6e-9e4a-e56978dc7541",
         "x": [
          -0.001667667592111816,
          -0.8886665541962779,
          null
         ],
         "y": [
          -8.386473461377917e-05,
          0.1354873223118463,
          null
         ]
        },
        {
         "hoverinfo": "none",
         "line": {
          "color": "black",
          "width": 0.5
         },
         "mode": "lines",
         "type": "scatter",
         "uid": "e901352b-bf62-46f4-bd77-f5e736914305",
         "x": [
          -0.001667667592111816,
          -0.5881839927865611,
          null
         ],
         "y": [
          -8.386473461377917e-05,
          -0.3421344536503667,
          null
         ]
        },
        {
         "hoverinfo": "none",
         "line": {
          "color": "black",
          "width": 0.5
         },
         "mode": "lines",
         "type": "scatter",
         "uid": "0457804a-d132-49dd-ab4e-805f7a4a2144",
         "x": [
          -0.001667667592111816,
          0.2012612060852581,
          null
         ],
         "y": [
          -8.386473461377917e-05,
          -0.07327986187113082,
          null
         ]
        },
        {
         "hoverinfo": "none",
         "line": {
          "color": "black",
          "width": 0.5
         },
         "mode": "lines",
         "type": "scatter",
         "uid": "630be2b4-d94b-4d74-955f-f6f6562ace5b",
         "x": [
          -0.001667667592111816,
          0.6162583158102475,
          null
         ],
         "y": [
          -8.386473461377917e-05,
          0.7589967771892757,
          null
         ]
        },
        {
         "hoverinfo": "none",
         "line": {
          "color": "black",
          "width": 0.5
         },
         "mode": "lines",
         "type": "scatter",
         "uid": "05942c92-d401-4886-a1a4-dbc8357051dc",
         "x": [
          -0.001667667592111816,
          0.8449417367476051,
          null
         ],
         "y": [
          -8.386473461377917e-05,
          -0.5681031955731709,
          null
         ]
        },
        {
         "hoverinfo": "none",
         "line": {
          "color": "black",
          "width": 0.5
         },
         "mode": "lines",
         "type": "scatter",
         "uid": "c1f8e88b-81bb-494b-85a6-be5f878cfbaa",
         "x": [
          -0.001667667592111816,
          -0.42435603067623173,
          null
         ],
         "y": [
          -8.386473461377917e-05,
          0.8760592110165725,
          null
         ]
        }
       ],
       "layout": {
        "annotations": [
         {
          "ax": 0,
          "ay": 20,
          "showarrow": false,
          "text": "Next",
          "x": -0.001667667592111816,
          "xref": "x",
          "y": 0.09991613526538623,
          "yref": "y"
         },
         {
          "ax": 0,
          "ay": 20,
          "showarrow": false,
          "text": "Inter",
          "x": -0.2646727581390684,
          "xref": "x",
          "y": -0.8671759090109601,
          "yref": "y"
         },
         {
          "ax": 0,
          "ay": 20,
          "showarrow": false,
          "text": "Nubank",
          "x": -0.8886665541962779,
          "xref": "x",
          "y": 0.2354873223118463,
          "yref": "y"
         },
         {
          "ax": 0,
          "ay": 20,
          "showarrow": false,
          "text": "BB",
          "x": -0.5881839927865611,
          "xref": "x",
          "y": -0.2421344536503667,
          "yref": "y"
         },
         {
          "ax": 0,
          "ay": 20,
          "showarrow": false,
          "text": "Itau",
          "x": 0.2012612060852581,
          "xref": "x",
          "y": 0.026720138128869184,
          "yref": "y"
         },
         {
          "ax": 0,
          "ay": 20,
          "showarrow": false,
          "text": "XP Investimentos",
          "x": 0.6162583158102475,
          "xref": "x",
          "y": 0.8589967771892757,
          "yref": "y"
         },
         {
          "ax": 0,
          "ay": 20,
          "showarrow": false,
          "text": "CEF",
          "x": 0.8449417367476051,
          "xref": "x",
          "y": -0.4681031955731709,
          "yref": "y"
         },
         {
          "ax": 0,
          "ay": 20,
          "showarrow": false,
          "text": "Santander",
          "x": -0.42435603067623173,
          "xref": "x",
          "y": 0.9760592110165724,
          "yref": "y"
         },
         {
          "ax": 0,
          "ay": 20,
          "showarrow": false,
          "text": "Bradesco",
          "x": 0.5050857447471389,
          "xref": "x",
          "y": 0.2802339743225478,
          "yref": "y"
         }
        ],
        "hovermode": "closest",
        "margin": {
         "b": 20,
         "l": 5,
         "r": 5,
         "t": 40
        },
        "showlegend": false,
        "title": {
         "font": {
          "size": 16
         },
         "text": "coco"
        },
        "xaxis": {
         "showgrid": false,
         "showticklabels": false,
         "zeroline": false
        },
        "yaxis": {
         "showgrid": false,
         "showticklabels": false,
         "zeroline": false
        }
       }
      },
      "text/html": [
       "<div>\n",
       "        \n",
       "        \n",
       "            <div id=\"5395546c-39a8-4d67-a137-72409fd35d9e\" class=\"plotly-graph-div\" style=\"height:525px; width:100%;\"></div>\n",
       "            <script type=\"text/javascript\">\n",
       "                require([\"plotly\"], function(Plotly) {\n",
       "                    window.PLOTLYENV=window.PLOTLYENV || {};\n",
       "                    window.PLOTLYENV.BASE_URL='https://plot.ly';\n",
       "                    \n",
       "                if (document.getElementById(\"5395546c-39a8-4d67-a137-72409fd35d9e\")) {\n",
       "                    Plotly.newPlot(\n",
       "                        '5395546c-39a8-4d67-a137-72409fd35d9e',\n",
       "                        [{\"hoverinfo\": \"text\", \"marker\": {\"cmax\": 234243, \"cmin\": 1, \"color\": [\"rgb(0, 0, 6)\", \"rgb(35, 17, 82)\", \"rgb(251, 252, 191)\", \"rgb(20, 13, 53)\", \"rgb(0, 0, 3)\", \"rgb(0, 0, 3)\", \"rgb(251, 247, 185)\", \"rgb(0, 0, 3)\", \"rgb(21, 14, 56)\"], \"colorbar\": {\"thickness\": 15, \"title\": {\"side\": \"right\", \"text\": \"coco\"}, \"xanchor\": \"left\"}, \"colorscale\": \"Viridis\", \"line\": {\"width\": 2}, \"reversescale\": true, \"showscale\": false, \"size\": [2000, 35000, 234243, 23443, 2, 1, 232323, 666, 24433], \"sizemin\": 5, \"sizemode\": \"area\", \"sizeref\": 187.3944}, \"mode\": \"markers\", \"text\": [\"clientes: 2000<br>\", \"clientes: 35000<br>\", \"clientes: 234243<br>\", \"clientes: 23443<br>\", \"clientes: 2<br>\", \"clientes: 1<br>\", \"clientes: 232323<br>\", \"clientes: 666<br>\", \"clientes: 24433<br>\"], \"type\": \"scatter\", \"uid\": \"c74aef3b-009b-4958-b35d-b2dfb664f211\", \"x\": [-0.001667667592111816, -0.2646727581390684, -0.8886665541962779, -0.5881839927865611, 0.2012612060852581, 0.6162583158102475, 0.8449417367476051, -0.42435603067623173, 0.5050857447471389], \"y\": [-8.386473461377917e-05, -0.9671759090109601, 0.1354873223118463, -0.3421344536503667, -0.07327986187113082, 0.7589967771892757, -0.5681031955731709, 0.8760592110165725, 0.18023397432254784]}, {\"hoverinfo\": \"none\", \"line\": {\"color\": \"black\", \"width\": 0.5}, \"mode\": \"lines\", \"type\": \"scatter\", \"uid\": \"9e97406f-7a8b-4ba1-95b8-26294a056808\", \"x\": [-0.001667667592111816, 0.5050857447471389, null], \"y\": [-8.386473461377917e-05, 0.18023397432254784, null]}, {\"hoverinfo\": \"none\", \"line\": {\"color\": \"black\", \"width\": 0.5}, \"mode\": \"lines\", \"type\": \"scatter\", \"uid\": \"000e8620-dc69-4428-b48b-a508bbfb72c5\", \"x\": [-0.001667667592111816, -0.2646727581390684, null], \"y\": [-8.386473461377917e-05, -0.9671759090109601, null]}, {\"hoverinfo\": \"none\", \"line\": {\"color\": \"black\", \"width\": 0.5}, \"mode\": \"lines\", \"type\": \"scatter\", \"uid\": \"e89bae73-f533-43ca-9189-de408debf8e7\", \"x\": [-0.001667667592111816, -0.8886665541962779, null], \"y\": [-8.386473461377917e-05, 0.1354873223118463, null]}, {\"hoverinfo\": \"none\", \"line\": {\"color\": \"black\", \"width\": 0.5}, \"mode\": \"lines\", \"type\": \"scatter\", \"uid\": \"8b14c83e-0cf6-4643-8a13-fd55732e16b8\", \"x\": [-0.001667667592111816, -0.5881839927865611, null], \"y\": [-8.386473461377917e-05, -0.3421344536503667, null]}, {\"hoverinfo\": \"none\", \"line\": {\"color\": \"black\", \"width\": 0.5}, \"mode\": \"lines\", \"type\": \"scatter\", \"uid\": \"c5388f56-85f4-4e96-9892-2043efd50f27\", \"x\": [-0.001667667592111816, 0.2012612060852581, null], \"y\": [-8.386473461377917e-05, -0.07327986187113082, null]}, {\"hoverinfo\": \"none\", \"line\": {\"color\": \"black\", \"width\": 0.5}, \"mode\": \"lines\", \"type\": \"scatter\", \"uid\": \"af2e219b-155d-4cb5-aa60-fd6be38b8320\", \"x\": [-0.001667667592111816, 0.6162583158102475, null], \"y\": [-8.386473461377917e-05, 0.7589967771892757, null]}, {\"hoverinfo\": \"none\", \"line\": {\"color\": \"black\", \"width\": 0.5}, \"mode\": \"lines\", \"type\": \"scatter\", \"uid\": \"19002dc3-1751-4262-9168-2936f89698af\", \"x\": [-0.001667667592111816, 0.8449417367476051, null], \"y\": [-8.386473461377917e-05, -0.5681031955731709, null]}, {\"hoverinfo\": \"none\", \"line\": {\"color\": \"black\", \"width\": 0.5}, \"mode\": \"lines\", \"type\": \"scatter\", \"uid\": \"6ffcb39e-3ff2-4f0a-be4b-6bf5a02d3c19\", \"x\": [-0.001667667592111816, -0.42435603067623173, null], \"y\": [-8.386473461377917e-05, 0.8760592110165725, null]}],\n",
       "                        {\"annotations\": [{\"ax\": 0, \"ay\": 20, \"showarrow\": false, \"text\": \"Next\", \"x\": -0.001667667592111816, \"xref\": \"x\", \"y\": 0.09991613526538623, \"yref\": \"y\"}, {\"ax\": 0, \"ay\": 20, \"showarrow\": false, \"text\": \"Inter\", \"x\": -0.2646727581390684, \"xref\": \"x\", \"y\": -0.8671759090109601, \"yref\": \"y\"}, {\"ax\": 0, \"ay\": 20, \"showarrow\": false, \"text\": \"Nubank\", \"x\": -0.8886665541962779, \"xref\": \"x\", \"y\": 0.2354873223118463, \"yref\": \"y\"}, {\"ax\": 0, \"ay\": 20, \"showarrow\": false, \"text\": \"BB\", \"x\": -0.5881839927865611, \"xref\": \"x\", \"y\": -0.2421344536503667, \"yref\": \"y\"}, {\"ax\": 0, \"ay\": 20, \"showarrow\": false, \"text\": \"Itau\", \"x\": 0.2012612060852581, \"xref\": \"x\", \"y\": 0.026720138128869184, \"yref\": \"y\"}, {\"ax\": 0, \"ay\": 20, \"showarrow\": false, \"text\": \"XP Investimentos\", \"x\": 0.6162583158102475, \"xref\": \"x\", \"y\": 0.8589967771892757, \"yref\": \"y\"}, {\"ax\": 0, \"ay\": 20, \"showarrow\": false, \"text\": \"CEF\", \"x\": 0.8449417367476051, \"xref\": \"x\", \"y\": -0.4681031955731709, \"yref\": \"y\"}, {\"ax\": 0, \"ay\": 20, \"showarrow\": false, \"text\": \"Santander\", \"x\": -0.42435603067623173, \"xref\": \"x\", \"y\": 0.9760592110165724, \"yref\": \"y\"}, {\"ax\": 0, \"ay\": 20, \"showarrow\": false, \"text\": \"Bradesco\", \"x\": 0.5050857447471389, \"xref\": \"x\", \"y\": 0.2802339743225478, \"yref\": \"y\"}], \"hovermode\": \"closest\", \"margin\": {\"b\": 20, \"l\": 5, \"r\": 5, \"t\": 40}, \"showlegend\": false, \"title\": {\"font\": {\"size\": 16}, \"text\": \"coco\"}, \"xaxis\": {\"showgrid\": false, \"showticklabels\": false, \"zeroline\": false}, \"yaxis\": {\"showgrid\": false, \"showticklabels\": false, \"zeroline\": false}},\n",
       "                        {\"showLink\": false, \"linkText\": \"Export to plot.ly\", \"plotlyServerURL\": \"https://plot.ly\", \"responsive\": true}\n",
       "                    ).then(function(){\n",
       "                            \n",
       "var gd = document.getElementById('5395546c-39a8-4d67-a137-72409fd35d9e');\n",
       "var x = new MutationObserver(function (mutations, observer) {{\n",
       "        var display = window.getComputedStyle(gd).display;\n",
       "        if (!display || display === 'none') {{\n",
       "            console.log([gd, 'removed!']);\n",
       "            Plotly.purge(gd);\n",
       "            observer.disconnect();\n",
       "        }}\n",
       "}});\n",
       "\n",
       "// Listen for the removal of the full notebook cells\n",
       "var notebookContainer = gd.closest('#notebook-container');\n",
       "if (notebookContainer) {{\n",
       "    x.observe(notebookContainer, {childList: true});\n",
       "}}\n",
       "\n",
       "// Listen for the clearing of the current output cell\n",
       "var outputEl = gd.closest('.output');\n",
       "if (outputEl) {{\n",
       "    x.observe(outputEl, {childList: true});\n",
       "}}\n",
       "\n",
       "                        })\n",
       "                };\n",
       "                });\n",
       "            </script>\n",
       "        </div>"
      ]
     },
     "metadata": {},
     "output_type": "display_data"
    }
   ],
   "source": [
    "mygraph.plot(title='coco', node_size_col='clientes', node_color_col='clientes', hover_col='clientes')"
   ]
  },
  {
   "cell_type": "code",
   "execution_count": 11,
   "metadata": {},
   "outputs": [
    {
     "data": {
      "application/vnd.plotly.v1+json": {
       "config": {
        "linkText": "Export to plot.ly",
        "plotlyServerURL": "https://plot.ly",
        "responsive": true,
        "showLink": false
       },
       "data": [
        {
         "hoverinfo": "text",
         "marker": {
          "cmax": 234243,
          "cmin": 1,
          "color": [
           "rgb(0, 0, 6)",
           "rgb(35, 17, 82)",
           "rgb(251, 252, 191)",
           "rgb(20, 13, 53)",
           "rgb(0, 0, 3)",
           "rgb(0, 0, 3)",
           "rgb(251, 247, 185)",
           "rgb(0, 0, 3)",
           "rgb(21, 14, 56)"
          ],
          "colorbar": {
           "thickness": 15,
           "title": {
            "side": "right",
            "text": "coco"
           },
           "xanchor": "left"
          },
          "colorscale": "Viridis",
          "line": {
           "width": 2
          },
          "reversescale": true,
          "showscale": false,
          "size": [
           2000,
           35000,
           234243,
           23443,
           2,
           1,
           232323,
           666,
           24433
          ],
          "sizemin": 5,
          "sizemode": "area",
          "sizeref": 187.3944
         },
         "mode": "markers",
         "text": [
          "clientes: 2000<br>",
          "clientes: 35000<br>",
          "clientes: 234243<br>",
          "clientes: 23443<br>",
          "clientes: 2<br>",
          "clientes: 1<br>",
          "clientes: 232323<br>",
          "clientes: 666<br>",
          "clientes: 24433<br>"
         ],
         "type": "scatter",
         "uid": "5c24260c-0f8f-4155-b6a8-b838a18ca5ae",
         "x": [
          0.0017446513767058692,
          0.22382596216840395,
          0.46581441093192927,
          0.35538253582994056,
          1,
          -0.5193414786753235,
          0.018580667223053404,
          -0.883690925447931,
          -0.6623158234067789
         ],
         "y": [
          -0.0035943951428771157,
          0.7745584347501657,
          -0.5369145279605682,
          0.795361445364634,
          -0.15420775928837796,
          -0.8907263589372988,
          -0.5224647081345591,
          0.3593271998627694,
          0.17866066948611212
         ]
        },
        {
         "hoverinfo": "none",
         "line": {
          "color": "black",
          "width": 0.5
         },
         "mode": "lines",
         "type": "scatter",
         "uid": "ff65ca74-993e-4e0f-9180-7f92cee9fbcc",
         "x": [
          0.0017446513767058692,
          -0.6623158234067789,
          null
         ],
         "y": [
          -0.0035943951428771157,
          0.17866066948611212,
          null
         ]
        },
        {
         "hoverinfo": "none",
         "line": {
          "color": "black",
          "width": 0.5
         },
         "mode": "lines",
         "type": "scatter",
         "uid": "1de2fc4d-5b78-4bba-acca-7ce8c35c258a",
         "x": [
          0.0017446513767058692,
          0.22382596216840395,
          null
         ],
         "y": [
          -0.0035943951428771157,
          0.7745584347501657,
          null
         ]
        },
        {
         "hoverinfo": "none",
         "line": {
          "color": "black",
          "width": 0.5
         },
         "mode": "lines",
         "type": "scatter",
         "uid": "11490b9b-8313-4be1-aa87-da0deda8f863",
         "x": [
          0.0017446513767058692,
          0.46581441093192927,
          null
         ],
         "y": [
          -0.0035943951428771157,
          -0.5369145279605682,
          null
         ]
        },
        {
         "hoverinfo": "none",
         "line": {
          "color": "black",
          "width": 0.5
         },
         "mode": "lines",
         "type": "scatter",
         "uid": "34c6f09c-cb06-4d24-8dc5-21347dab5bd4",
         "x": [
          0.0017446513767058692,
          0.35538253582994056,
          null
         ],
         "y": [
          -0.0035943951428771157,
          0.795361445364634,
          null
         ]
        },
        {
         "hoverinfo": "none",
         "line": {
          "color": "black",
          "width": 0.5
         },
         "mode": "lines",
         "type": "scatter",
         "uid": "fbfe271b-981b-4ce5-b394-7348acbacd8c",
         "x": [
          0.0017446513767058692,
          1,
          null
         ],
         "y": [
          -0.0035943951428771157,
          -0.15420775928837796,
          null
         ]
        },
        {
         "hoverinfo": "none",
         "line": {
          "color": "black",
          "width": 0.5
         },
         "mode": "lines",
         "type": "scatter",
         "uid": "92e3bcc8-c4b4-483a-b4bb-be668beed2a1",
         "x": [
          0.0017446513767058692,
          -0.5193414786753235,
          null
         ],
         "y": [
          -0.0035943951428771157,
          -0.8907263589372988,
          null
         ]
        },
        {
         "hoverinfo": "none",
         "line": {
          "color": "black",
          "width": 0.5
         },
         "mode": "lines",
         "type": "scatter",
         "uid": "01970dc3-e9a5-4351-91e9-bfc9fe4c0f32",
         "x": [
          0.0017446513767058692,
          0.018580667223053404,
          null
         ],
         "y": [
          -0.0035943951428771157,
          -0.5224647081345591,
          null
         ]
        },
        {
         "hoverinfo": "none",
         "line": {
          "color": "black",
          "width": 0.5
         },
         "mode": "lines",
         "type": "scatter",
         "uid": "6a774396-655a-48f6-a655-9df615afcea3",
         "x": [
          0.0017446513767058692,
          -0.883690925447931,
          null
         ],
         "y": [
          -0.0035943951428771157,
          0.3593271998627694,
          null
         ]
        }
       ],
       "layout": {
        "annotations": [
         {
          "ax": 0,
          "ay": 20,
          "showarrow": false,
          "text": "Next",
          "x": 0.0017446513767058692,
          "xref": "x",
          "y": 0.09640560485712289,
          "yref": "y"
         },
         {
          "ax": 0,
          "ay": 20,
          "showarrow": false,
          "text": "Inter",
          "x": 0.22382596216840395,
          "xref": "x",
          "y": 0.8745584347501657,
          "yref": "y"
         },
         {
          "ax": 0,
          "ay": 20,
          "showarrow": false,
          "text": "Nubank",
          "x": 0.46581441093192927,
          "xref": "x",
          "y": -0.4369145279605682,
          "yref": "y"
         },
         {
          "ax": 0,
          "ay": 20,
          "showarrow": false,
          "text": "BB",
          "x": 0.35538253582994056,
          "xref": "x",
          "y": 0.895361445364634,
          "yref": "y"
         },
         {
          "ax": 0,
          "ay": 20,
          "showarrow": false,
          "text": "Itau",
          "x": 1,
          "xref": "x",
          "y": -0.054207759288377955,
          "yref": "y"
         },
         {
          "ax": 0,
          "ay": 20,
          "showarrow": false,
          "text": "XP Investimentos",
          "x": -0.5193414786753235,
          "xref": "x",
          "y": -0.7907263589372988,
          "yref": "y"
         },
         {
          "ax": 0,
          "ay": 20,
          "showarrow": false,
          "text": "CEF",
          "x": 0.018580667223053404,
          "xref": "x",
          "y": -0.42246470813455916,
          "yref": "y"
         },
         {
          "ax": 0,
          "ay": 20,
          "showarrow": false,
          "text": "Santander",
          "x": -0.883690925447931,
          "xref": "x",
          "y": 0.4593271998627694,
          "yref": "y"
         },
         {
          "ax": 0,
          "ay": 20,
          "showarrow": false,
          "text": "Bradesco",
          "x": -0.6623158234067789,
          "xref": "x",
          "y": 0.2786606694861121,
          "yref": "y"
         }
        ],
        "hovermode": "closest",
        "margin": {
         "b": 20,
         "l": 5,
         "r": 5,
         "t": 40
        },
        "showlegend": false,
        "title": {
         "font": {
          "size": 16
         },
         "text": "coco"
        },
        "xaxis": {
         "showgrid": false,
         "showticklabels": false,
         "zeroline": false
        },
        "yaxis": {
         "showgrid": false,
         "showticklabels": false,
         "zeroline": false
        }
       }
      },
      "text/html": [
       "<div>\n",
       "        \n",
       "        \n",
       "            <div id=\"5a4f42f9-f693-4792-8168-f3f944f8cc90\" class=\"plotly-graph-div\" style=\"height:525px; width:100%;\"></div>\n",
       "            <script type=\"text/javascript\">\n",
       "                require([\"plotly\"], function(Plotly) {\n",
       "                    window.PLOTLYENV=window.PLOTLYENV || {};\n",
       "                    window.PLOTLYENV.BASE_URL='https://plot.ly';\n",
       "                    \n",
       "                if (document.getElementById(\"5a4f42f9-f693-4792-8168-f3f944f8cc90\")) {\n",
       "                    Plotly.newPlot(\n",
       "                        '5a4f42f9-f693-4792-8168-f3f944f8cc90',\n",
       "                        [{\"hoverinfo\": \"text\", \"marker\": {\"cmax\": 234243, \"cmin\": 1, \"color\": [\"rgb(0, 0, 6)\", \"rgb(35, 17, 82)\", \"rgb(251, 252, 191)\", \"rgb(20, 13, 53)\", \"rgb(0, 0, 3)\", \"rgb(0, 0, 3)\", \"rgb(251, 247, 185)\", \"rgb(0, 0, 3)\", \"rgb(21, 14, 56)\"], \"colorbar\": {\"thickness\": 15, \"title\": {\"side\": \"right\", \"text\": \"coco\"}, \"xanchor\": \"left\"}, \"colorscale\": \"Viridis\", \"line\": {\"width\": 2}, \"reversescale\": true, \"showscale\": false, \"size\": [2000, 35000, 234243, 23443, 2, 1, 232323, 666, 24433], \"sizemin\": 5, \"sizemode\": \"area\", \"sizeref\": 187.3944}, \"mode\": \"markers\", \"text\": [\"clientes: 2000<br>\", \"clientes: 35000<br>\", \"clientes: 234243<br>\", \"clientes: 23443<br>\", \"clientes: 2<br>\", \"clientes: 1<br>\", \"clientes: 232323<br>\", \"clientes: 666<br>\", \"clientes: 24433<br>\"], \"type\": \"scatter\", \"uid\": \"e5efa3bc-3d30-4a7c-9dfc-58a5aa27dbfa\", \"x\": [0.0017446513767058692, 0.22382596216840395, 0.46581441093192927, 0.35538253582994056, 1.0, -0.5193414786753235, 0.018580667223053404, -0.883690925447931, -0.6623158234067789], \"y\": [-0.0035943951428771157, 0.7745584347501657, -0.5369145279605682, 0.795361445364634, -0.15420775928837796, -0.8907263589372988, -0.5224647081345591, 0.3593271998627694, 0.17866066948611212]}, {\"hoverinfo\": \"none\", \"line\": {\"color\": \"black\", \"width\": 0.5}, \"mode\": \"lines\", \"type\": \"scatter\", \"uid\": \"134ac3d8-4f0c-43c3-9d5b-2ce6c5f90cba\", \"x\": [0.0017446513767058692, -0.6623158234067789, null], \"y\": [-0.0035943951428771157, 0.17866066948611212, null]}, {\"hoverinfo\": \"none\", \"line\": {\"color\": \"black\", \"width\": 0.5}, \"mode\": \"lines\", \"type\": \"scatter\", \"uid\": \"839a515d-f8c0-420e-98f6-2d3a4ff0bd0c\", \"x\": [0.0017446513767058692, 0.22382596216840395, null], \"y\": [-0.0035943951428771157, 0.7745584347501657, null]}, {\"hoverinfo\": \"none\", \"line\": {\"color\": \"black\", \"width\": 0.5}, \"mode\": \"lines\", \"type\": \"scatter\", \"uid\": \"23d2db2f-4621-418e-bdd5-de8e401e8135\", \"x\": [0.0017446513767058692, 0.46581441093192927, null], \"y\": [-0.0035943951428771157, -0.5369145279605682, null]}, {\"hoverinfo\": \"none\", \"line\": {\"color\": \"black\", \"width\": 0.5}, \"mode\": \"lines\", \"type\": \"scatter\", \"uid\": \"6354c23d-ba2b-4a14-a1dc-515c96e999f9\", \"x\": [0.0017446513767058692, 0.35538253582994056, null], \"y\": [-0.0035943951428771157, 0.795361445364634, null]}, {\"hoverinfo\": \"none\", \"line\": {\"color\": \"black\", \"width\": 0.5}, \"mode\": \"lines\", \"type\": \"scatter\", \"uid\": \"a497f1d5-698e-4df0-b150-997f0ec2be91\", \"x\": [0.0017446513767058692, 1.0, null], \"y\": [-0.0035943951428771157, -0.15420775928837796, null]}, {\"hoverinfo\": \"none\", \"line\": {\"color\": \"black\", \"width\": 0.5}, \"mode\": \"lines\", \"type\": \"scatter\", \"uid\": \"50413afa-36bb-43e5-b01e-1b19081bd572\", \"x\": [0.0017446513767058692, -0.5193414786753235, null], \"y\": [-0.0035943951428771157, -0.8907263589372988, null]}, {\"hoverinfo\": \"none\", \"line\": {\"color\": \"black\", \"width\": 0.5}, \"mode\": \"lines\", \"type\": \"scatter\", \"uid\": \"1d08ab3e-e8eb-45d4-b2ae-46e4e6421c41\", \"x\": [0.0017446513767058692, 0.018580667223053404, null], \"y\": [-0.0035943951428771157, -0.5224647081345591, null]}, {\"hoverinfo\": \"none\", \"line\": {\"color\": \"black\", \"width\": 0.5}, \"mode\": \"lines\", \"type\": \"scatter\", \"uid\": \"6c1227be-041b-4ca5-8247-d548e319c98d\", \"x\": [0.0017446513767058692, -0.883690925447931, null], \"y\": [-0.0035943951428771157, 0.3593271998627694, null]}],\n",
       "                        {\"annotations\": [{\"ax\": 0, \"ay\": 20, \"showarrow\": false, \"text\": \"Next\", \"x\": 0.0017446513767058692, \"xref\": \"x\", \"y\": 0.09640560485712289, \"yref\": \"y\"}, {\"ax\": 0, \"ay\": 20, \"showarrow\": false, \"text\": \"Inter\", \"x\": 0.22382596216840395, \"xref\": \"x\", \"y\": 0.8745584347501657, \"yref\": \"y\"}, {\"ax\": 0, \"ay\": 20, \"showarrow\": false, \"text\": \"Nubank\", \"x\": 0.46581441093192927, \"xref\": \"x\", \"y\": -0.4369145279605682, \"yref\": \"y\"}, {\"ax\": 0, \"ay\": 20, \"showarrow\": false, \"text\": \"BB\", \"x\": 0.35538253582994056, \"xref\": \"x\", \"y\": 0.895361445364634, \"yref\": \"y\"}, {\"ax\": 0, \"ay\": 20, \"showarrow\": false, \"text\": \"Itau\", \"x\": 1.0, \"xref\": \"x\", \"y\": -0.054207759288377955, \"yref\": \"y\"}, {\"ax\": 0, \"ay\": 20, \"showarrow\": false, \"text\": \"XP Investimentos\", \"x\": -0.5193414786753235, \"xref\": \"x\", \"y\": -0.7907263589372988, \"yref\": \"y\"}, {\"ax\": 0, \"ay\": 20, \"showarrow\": false, \"text\": \"CEF\", \"x\": 0.018580667223053404, \"xref\": \"x\", \"y\": -0.42246470813455916, \"yref\": \"y\"}, {\"ax\": 0, \"ay\": 20, \"showarrow\": false, \"text\": \"Santander\", \"x\": -0.883690925447931, \"xref\": \"x\", \"y\": 0.4593271998627694, \"yref\": \"y\"}, {\"ax\": 0, \"ay\": 20, \"showarrow\": false, \"text\": \"Bradesco\", \"x\": -0.6623158234067789, \"xref\": \"x\", \"y\": 0.2786606694861121, \"yref\": \"y\"}], \"hovermode\": \"closest\", \"margin\": {\"b\": 20, \"l\": 5, \"r\": 5, \"t\": 40}, \"showlegend\": false, \"title\": {\"font\": {\"size\": 16}, \"text\": \"coco\"}, \"xaxis\": {\"showgrid\": false, \"showticklabels\": false, \"zeroline\": false}, \"yaxis\": {\"showgrid\": false, \"showticklabels\": false, \"zeroline\": false}},\n",
       "                        {\"showLink\": false, \"linkText\": \"Export to plot.ly\", \"plotlyServerURL\": \"https://plot.ly\", \"responsive\": true}\n",
       "                    ).then(function(){\n",
       "                            \n",
       "var gd = document.getElementById('5a4f42f9-f693-4792-8168-f3f944f8cc90');\n",
       "var x = new MutationObserver(function (mutations, observer) {{\n",
       "        var display = window.getComputedStyle(gd).display;\n",
       "        if (!display || display === 'none') {{\n",
       "            console.log([gd, 'removed!']);\n",
       "            Plotly.purge(gd);\n",
       "            observer.disconnect();\n",
       "        }}\n",
       "}});\n",
       "\n",
       "// Listen for the removal of the full notebook cells\n",
       "var notebookContainer = gd.closest('#notebook-container');\n",
       "if (notebookContainer) {{\n",
       "    x.observe(notebookContainer, {childList: true});\n",
       "}}\n",
       "\n",
       "// Listen for the clearing of the current output cell\n",
       "var outputEl = gd.closest('.output');\n",
       "if (outputEl) {{\n",
       "    x.observe(outputEl, {childList: true});\n",
       "}}\n",
       "\n",
       "                        })\n",
       "                };\n",
       "                });\n",
       "            </script>\n",
       "        </div>"
      ]
     },
     "metadata": {},
     "output_type": "display_data"
    }
   ],
   "source": [
    "mygraph.plot(title='coco', node_size_col='clientes', node_color_col='clientes', hover_col=['clientes','keke'])"
   ]
  },
  {
   "cell_type": "code",
   "execution_count": 15,
   "metadata": {},
   "outputs": [
    {
     "data": {
      "application/vnd.plotly.v1+json": {
       "config": {
        "linkText": "Export to plot.ly",
        "plotlyServerURL": "https://plot.ly",
        "responsive": true,
        "showLink": false
       },
       "data": [
        {
         "hoverinfo": "text",
         "marker": {
          "cmax": 234243,
          "cmin": 1,
          "color": [
           "rgb(0, 0, 6)",
           "rgb(35, 17, 82)",
           "rgb(251, 252, 191)",
           "rgb(20, 13, 53)",
           "rgb(0, 0, 3)",
           "rgb(0, 0, 3)",
           "rgb(251, 247, 185)",
           "rgb(0, 0, 3)",
           "rgb(21, 14, 56)"
          ],
          "colorbar": {
           "thickness": 15,
           "title": {
            "side": "right",
            "text": "coco"
           },
           "xanchor": "left"
          },
          "colorscale": "Viridis",
          "line": {
           "width": 2
          },
          "reversescale": true,
          "showscale": false,
          "size": [
           2000,
           35000,
           234243,
           23443,
           2,
           1,
           232323,
           666,
           24433
          ],
          "sizemin": 5,
          "sizemode": "area",
          "sizeref": 187.3944
         },
         "mode": "markers",
         "text": [
          "clientes: 2000<br>lucro: 234<br>",
          "clientes: 35000<br>lucro: 1111<br>",
          "clientes: 234243<br>lucro: 2234<br>",
          "clientes: 23443<br>lucro: 2344<br>",
          "clientes: 2<br>lucro: 444<br>",
          "clientes: 1<br>lucro: 222<br>",
          "clientes: 232323<br>lucro: 1<br>",
          "clientes: 666<br>lucro: 1<br>",
          "clientes: 24433<br>lucro: 9877<br>"
         ],
         "type": "scatter",
         "uid": "5d9b4c99-b01c-4992-93fe-1f041f99ca37",
         "x": [
          0.0013755221163892501,
          -0.931337736881387,
          -0.7439507435213445,
          0.015434924203957843,
          -0.1636552119753897,
          0.4794933163978464,
          0.1678750376459044,
          0.17924540145647958,
          0.9955194905575435
         ],
         "y": [
          -0.0028905554375327205,
          0.37166411363666185,
          -0.46085299235624805,
          0.7289413375549321,
          -0.2386076880013076,
          -0.349628179688376,
          -1,
          0.8948820951670209,
          0.05649186912485005
         ]
        },
        {
         "hoverinfo": "none",
         "line": {
          "color": "rgb(251, 252, 191)",
          "width": 0.5
         },
         "mode": "lines",
         "type": "scatter",
         "uid": "a26448ec-fded-4ae4-b6e1-a41c8f515f84",
         "x": [
          0.0013755221163892501,
          0.9955194905575435,
          null
         ],
         "y": [
          -0.0028905554375327205,
          0.05649186912485005,
          null
         ]
        },
        {
         "hoverinfo": "none",
         "line": {
          "color": "rgb(30, 16, 73)",
          "width": 0.5
         },
         "mode": "lines",
         "type": "scatter",
         "uid": "74308960-e96e-4650-9ae2-9051df0dc882",
         "x": [
          0.0013755221163892501,
          -0.931337736881387,
          null
         ],
         "y": [
          -0.0028905554375327205,
          0.37166411363666185,
          null
         ]
        },
        {
         "hoverinfo": "none",
         "line": {
          "color": "rgb(172, 51, 123)",
          "width": 0.5
         },
         "mode": "lines",
         "type": "scatter",
         "uid": "21caa79d-9ef3-4a36-98c8-2d171c2e5161",
         "x": [
          0.0013755221163892501,
          -0.7439507435213445,
          null
         ],
         "y": [
          -0.0028905554375327205,
          -0.46085299235624805,
          null
         ]
        },
        {
         "hoverinfo": "none",
         "line": {
          "color": "rgb(82, 18, 124)",
          "width": 0.5
         },
         "mode": "lines",
         "type": "scatter",
         "uid": "28af8edf-ebcd-4daf-b579-722fc5cc01e8",
         "x": [
          0.0013755221163892501,
          0.015434924203957843,
          null
         ],
         "y": [
          -0.0028905554375327205,
          0.7289413375549321,
          null
         ]
        },
        {
         "hoverinfo": "none",
         "line": {
          "color": "rgb(0, 0, 4)",
          "width": 0.5
         },
         "mode": "lines",
         "type": "scatter",
         "uid": "add47c18-29bf-4d71-94fa-dbb67b6198cc",
         "x": [
          0.0013755221163892501,
          -0.1636552119753897,
          null
         ],
         "y": [
          -0.0028905554375327205,
          -0.2386076880013076,
          null
         ]
        },
        {
         "hoverinfo": "none",
         "line": {
          "color": "rgb(0, 0, 3)",
          "width": 0.5
         },
         "mode": "lines",
         "type": "scatter",
         "uid": "f50744ca-a155-4a5f-9185-6289f78e330e",
         "x": [
          0.0013755221163892501,
          0.4794933163978464,
          null
         ],
         "y": [
          -0.0028905554375327205,
          -0.349628179688376,
          null
         ]
        },
        {
         "hoverinfo": "none",
         "line": {
          "color": "rgb(16, 12, 47)",
          "width": 0.5
         },
         "mode": "lines",
         "type": "scatter",
         "uid": "652ea9c6-734b-437c-a4b7-b87f91a0e037",
         "x": [
          0.0013755221163892501,
          0.1678750376459044,
          null
         ],
         "y": [
          -0.0028905554375327205,
          -1,
          null
         ]
        },
        {
         "hoverinfo": "none",
         "line": {
          "color": "rgb(1, 1, 11)",
          "width": 0.5
         },
         "mode": "lines",
         "type": "scatter",
         "uid": "1f10d62d-4af4-44df-97ff-94f0a3b562e2",
         "x": [
          0.0013755221163892501,
          0.17924540145647958,
          null
         ],
         "y": [
          -0.0028905554375327205,
          0.8948820951670209,
          null
         ]
        }
       ],
       "layout": {
        "annotations": [
         {
          "ax": 0,
          "ay": 20,
          "showarrow": false,
          "text": "Next",
          "x": 0.0013755221163892501,
          "xref": "x",
          "y": 0.09710944456246728,
          "yref": "y"
         },
         {
          "ax": 0,
          "ay": 20,
          "showarrow": false,
          "text": "Inter",
          "x": -0.931337736881387,
          "xref": "x",
          "y": 0.47166411363666183,
          "yref": "y"
         },
         {
          "ax": 0,
          "ay": 20,
          "showarrow": false,
          "text": "Nubank",
          "x": -0.7439507435213445,
          "xref": "x",
          "y": -0.360852992356248,
          "yref": "y"
         },
         {
          "ax": 0,
          "ay": 20,
          "showarrow": false,
          "text": "BB",
          "x": 0.015434924203957843,
          "xref": "x",
          "y": 0.828941337554932,
          "yref": "y"
         },
         {
          "ax": 0,
          "ay": 20,
          "showarrow": false,
          "text": "Itau",
          "x": -0.1636552119753897,
          "xref": "x",
          "y": -0.1386076880013076,
          "yref": "y"
         },
         {
          "ax": 0,
          "ay": 20,
          "showarrow": false,
          "text": "XP Investimentos",
          "x": 0.4794933163978464,
          "xref": "x",
          "y": -0.249628179688376,
          "yref": "y"
         },
         {
          "ax": 0,
          "ay": 20,
          "showarrow": false,
          "text": "CEF",
          "x": 0.1678750376459044,
          "xref": "x",
          "y": -0.9,
          "yref": "y"
         },
         {
          "ax": 0,
          "ay": 20,
          "showarrow": false,
          "text": "Santander",
          "x": 0.17924540145647958,
          "xref": "x",
          "y": 0.9948820951670209,
          "yref": "y"
         },
         {
          "ax": 0,
          "ay": 20,
          "showarrow": false,
          "text": "Bradesco",
          "x": 0.9955194905575435,
          "xref": "x",
          "y": 0.15649186912485005,
          "yref": "y"
         }
        ],
        "hovermode": "closest",
        "margin": {
         "b": 20,
         "l": 5,
         "r": 5,
         "t": 40
        },
        "showlegend": false,
        "title": {
         "font": {
          "size": 16
         },
         "text": "coco"
        },
        "xaxis": {
         "showgrid": false,
         "showticklabels": false,
         "zeroline": false
        },
        "yaxis": {
         "showgrid": false,
         "showticklabels": false,
         "zeroline": false
        }
       }
      },
      "text/html": [
       "<div>\n",
       "        \n",
       "        \n",
       "            <div id=\"da3bb385-e365-4550-8fae-1e7fa23d5c06\" class=\"plotly-graph-div\" style=\"height:525px; width:100%;\"></div>\n",
       "            <script type=\"text/javascript\">\n",
       "                require([\"plotly\"], function(Plotly) {\n",
       "                    window.PLOTLYENV=window.PLOTLYENV || {};\n",
       "                    window.PLOTLYENV.BASE_URL='https://plot.ly';\n",
       "                    \n",
       "                if (document.getElementById(\"da3bb385-e365-4550-8fae-1e7fa23d5c06\")) {\n",
       "                    Plotly.newPlot(\n",
       "                        'da3bb385-e365-4550-8fae-1e7fa23d5c06',\n",
       "                        [{\"hoverinfo\": \"text\", \"marker\": {\"cmax\": 234243, \"cmin\": 1, \"color\": [\"rgb(0, 0, 6)\", \"rgb(35, 17, 82)\", \"rgb(251, 252, 191)\", \"rgb(20, 13, 53)\", \"rgb(0, 0, 3)\", \"rgb(0, 0, 3)\", \"rgb(251, 247, 185)\", \"rgb(0, 0, 3)\", \"rgb(21, 14, 56)\"], \"colorbar\": {\"thickness\": 15, \"title\": {\"side\": \"right\", \"text\": \"coco\"}, \"xanchor\": \"left\"}, \"colorscale\": \"Viridis\", \"line\": {\"width\": 2}, \"reversescale\": true, \"showscale\": false, \"size\": [2000, 35000, 234243, 23443, 2, 1, 232323, 666, 24433], \"sizemin\": 5, \"sizemode\": \"area\", \"sizeref\": 187.3944}, \"mode\": \"markers\", \"text\": [\"clientes: 2000<br>lucro: 234<br>\", \"clientes: 35000<br>lucro: 1111<br>\", \"clientes: 234243<br>lucro: 2234<br>\", \"clientes: 23443<br>lucro: 2344<br>\", \"clientes: 2<br>lucro: 444<br>\", \"clientes: 1<br>lucro: 222<br>\", \"clientes: 232323<br>lucro: 1<br>\", \"clientes: 666<br>lucro: 1<br>\", \"clientes: 24433<br>lucro: 9877<br>\"], \"type\": \"scatter\", \"uid\": \"76297925-c582-4d2c-ab65-756a3faf0bc2\", \"x\": [0.0013755221163892501, -0.931337736881387, -0.7439507435213445, 0.015434924203957843, -0.1636552119753897, 0.4794933163978464, 0.1678750376459044, 0.17924540145647958, 0.9955194905575435], \"y\": [-0.0028905554375327205, 0.37166411363666185, -0.46085299235624805, 0.7289413375549321, -0.2386076880013076, -0.349628179688376, -1.0, 0.8948820951670209, 0.05649186912485005]}, {\"hoverinfo\": \"none\", \"line\": {\"color\": \"rgb(251, 252, 191)\", \"width\": 0.5}, \"mode\": \"lines\", \"type\": \"scatter\", \"uid\": \"880dc1b2-d287-4e37-9402-1ee5c480f710\", \"x\": [0.0013755221163892501, 0.9955194905575435, null], \"y\": [-0.0028905554375327205, 0.05649186912485005, null]}, {\"hoverinfo\": \"none\", \"line\": {\"color\": \"rgb(30, 16, 73)\", \"width\": 0.5}, \"mode\": \"lines\", \"type\": \"scatter\", \"uid\": \"998f634a-c98f-4589-9e94-03aae74d866e\", \"x\": [0.0013755221163892501, -0.931337736881387, null], \"y\": [-0.0028905554375327205, 0.37166411363666185, null]}, {\"hoverinfo\": \"none\", \"line\": {\"color\": \"rgb(172, 51, 123)\", \"width\": 0.5}, \"mode\": \"lines\", \"type\": \"scatter\", \"uid\": \"004966f6-f1f3-4658-9591-f0afcb3f2ab2\", \"x\": [0.0013755221163892501, -0.7439507435213445, null], \"y\": [-0.0028905554375327205, -0.46085299235624805, null]}, {\"hoverinfo\": \"none\", \"line\": {\"color\": \"rgb(82, 18, 124)\", \"width\": 0.5}, \"mode\": \"lines\", \"type\": \"scatter\", \"uid\": \"fda05b3f-995d-447e-b550-dadc91e87c57\", \"x\": [0.0013755221163892501, 0.015434924203957843, null], \"y\": [-0.0028905554375327205, 0.7289413375549321, null]}, {\"hoverinfo\": \"none\", \"line\": {\"color\": \"rgb(0, 0, 4)\", \"width\": 0.5}, \"mode\": \"lines\", \"type\": \"scatter\", \"uid\": \"bb738886-27e0-4cd8-b887-e310adb629a1\", \"x\": [0.0013755221163892501, -0.1636552119753897, null], \"y\": [-0.0028905554375327205, -0.2386076880013076, null]}, {\"hoverinfo\": \"none\", \"line\": {\"color\": \"rgb(0, 0, 3)\", \"width\": 0.5}, \"mode\": \"lines\", \"type\": \"scatter\", \"uid\": \"abb1bed3-88d9-4e73-9790-b8235fd03b41\", \"x\": [0.0013755221163892501, 0.4794933163978464, null], \"y\": [-0.0028905554375327205, -0.349628179688376, null]}, {\"hoverinfo\": \"none\", \"line\": {\"color\": \"rgb(16, 12, 47)\", \"width\": 0.5}, \"mode\": \"lines\", \"type\": \"scatter\", \"uid\": \"850c41fc-8e18-47f3-9456-d6dd548d61e1\", \"x\": [0.0013755221163892501, 0.1678750376459044, null], \"y\": [-0.0028905554375327205, -1.0, null]}, {\"hoverinfo\": \"none\", \"line\": {\"color\": \"rgb(1, 1, 11)\", \"width\": 0.5}, \"mode\": \"lines\", \"type\": \"scatter\", \"uid\": \"04b662de-5293-4baa-b0e4-25072ba3b34f\", \"x\": [0.0013755221163892501, 0.17924540145647958, null], \"y\": [-0.0028905554375327205, 0.8948820951670209, null]}],\n",
       "                        {\"annotations\": [{\"ax\": 0, \"ay\": 20, \"showarrow\": false, \"text\": \"Next\", \"x\": 0.0013755221163892501, \"xref\": \"x\", \"y\": 0.09710944456246728, \"yref\": \"y\"}, {\"ax\": 0, \"ay\": 20, \"showarrow\": false, \"text\": \"Inter\", \"x\": -0.931337736881387, \"xref\": \"x\", \"y\": 0.47166411363666183, \"yref\": \"y\"}, {\"ax\": 0, \"ay\": 20, \"showarrow\": false, \"text\": \"Nubank\", \"x\": -0.7439507435213445, \"xref\": \"x\", \"y\": -0.360852992356248, \"yref\": \"y\"}, {\"ax\": 0, \"ay\": 20, \"showarrow\": false, \"text\": \"BB\", \"x\": 0.015434924203957843, \"xref\": \"x\", \"y\": 0.828941337554932, \"yref\": \"y\"}, {\"ax\": 0, \"ay\": 20, \"showarrow\": false, \"text\": \"Itau\", \"x\": -0.1636552119753897, \"xref\": \"x\", \"y\": -0.1386076880013076, \"yref\": \"y\"}, {\"ax\": 0, \"ay\": 20, \"showarrow\": false, \"text\": \"XP Investimentos\", \"x\": 0.4794933163978464, \"xref\": \"x\", \"y\": -0.249628179688376, \"yref\": \"y\"}, {\"ax\": 0, \"ay\": 20, \"showarrow\": false, \"text\": \"CEF\", \"x\": 0.1678750376459044, \"xref\": \"x\", \"y\": -0.9, \"yref\": \"y\"}, {\"ax\": 0, \"ay\": 20, \"showarrow\": false, \"text\": \"Santander\", \"x\": 0.17924540145647958, \"xref\": \"x\", \"y\": 0.9948820951670209, \"yref\": \"y\"}, {\"ax\": 0, \"ay\": 20, \"showarrow\": false, \"text\": \"Bradesco\", \"x\": 0.9955194905575435, \"xref\": \"x\", \"y\": 0.15649186912485005, \"yref\": \"y\"}], \"hovermode\": \"closest\", \"margin\": {\"b\": 20, \"l\": 5, \"r\": 5, \"t\": 40}, \"showlegend\": false, \"title\": {\"font\": {\"size\": 16}, \"text\": \"coco\"}, \"xaxis\": {\"showgrid\": false, \"showticklabels\": false, \"zeroline\": false}, \"yaxis\": {\"showgrid\": false, \"showticklabels\": false, \"zeroline\": false}},\n",
       "                        {\"showLink\": false, \"linkText\": \"Export to plot.ly\", \"plotlyServerURL\": \"https://plot.ly\", \"responsive\": true}\n",
       "                    ).then(function(){\n",
       "                            \n",
       "var gd = document.getElementById('da3bb385-e365-4550-8fae-1e7fa23d5c06');\n",
       "var x = new MutationObserver(function (mutations, observer) {{\n",
       "        var display = window.getComputedStyle(gd).display;\n",
       "        if (!display || display === 'none') {{\n",
       "            console.log([gd, 'removed!']);\n",
       "            Plotly.purge(gd);\n",
       "            observer.disconnect();\n",
       "        }}\n",
       "}});\n",
       "\n",
       "// Listen for the removal of the full notebook cells\n",
       "var notebookContainer = gd.closest('#notebook-container');\n",
       "if (notebookContainer) {{\n",
       "    x.observe(notebookContainer, {childList: true});\n",
       "}}\n",
       "\n",
       "// Listen for the clearing of the current output cell\n",
       "var outputEl = gd.closest('.output');\n",
       "if (outputEl) {{\n",
       "    x.observe(outputEl, {childList: true});\n",
       "}}\n",
       "\n",
       "                        })\n",
       "                };\n",
       "                });\n",
       "            </script>\n",
       "        </div>"
      ]
     },
     "metadata": {},
     "output_type": "display_data"
    }
   ],
   "source": [
    "mygraph.plot(title='coco', node_size_col='clientes', node_color_col='clientes', edge_color_col='enviado')"
   ]
  },
  {
   "cell_type": "code",
   "execution_count": 19,
   "metadata": {},
   "outputs": [
    {
     "name": "stdout",
     "output_type": "stream",
     "text": [
      "5.0\n",
      "1.1006735200283586\n",
      "2.6683800070896844\n",
      "1.6614675646933712\n",
      "0.5196738745125842\n",
      "0.5\n",
      "0.892059553349876\n",
      "0.5983693725629209\n"
     ]
    },
    {
     "data": {
      "application/vnd.plotly.v1+json": {
       "config": {
        "linkText": "Export to plot.ly",
        "plotlyServerURL": "https://plot.ly",
        "responsive": true,
        "showLink": false
       },
       "data": [
        {
         "hoverinfo": "text",
         "marker": {
          "cmax": 234243,
          "cmin": 1,
          "color": [
           "rgb(0, 0, 6)",
           "rgb(35, 17, 82)",
           "rgb(251, 252, 191)",
           "rgb(20, 13, 53)",
           "rgb(0, 0, 3)",
           "rgb(0, 0, 3)",
           "rgb(251, 247, 185)",
           "rgb(0, 0, 3)",
           "rgb(21, 14, 56)"
          ],
          "colorbar": {
           "thickness": 15,
           "title": {
            "side": "right",
            "text": "coco"
           },
           "xanchor": "left"
          },
          "colorscale": "Viridis",
          "line": {
           "width": 2
          },
          "reversescale": true,
          "showscale": false,
          "size": [
           2000,
           35000,
           234243,
           23443,
           2,
           1,
           232323,
           666,
           24433
          ],
          "sizemin": 5,
          "sizemode": "area",
          "sizeref": 187.3944
         },
         "mode": "markers",
         "text": [
          "clientes: 2000<br>lucro: 234<br>",
          "clientes: 35000<br>lucro: 1111<br>",
          "clientes: 234243<br>lucro: 2234<br>",
          "clientes: 23443<br>lucro: 2344<br>",
          "clientes: 2<br>lucro: 444<br>",
          "clientes: 1<br>lucro: 222<br>",
          "clientes: 232323<br>lucro: 1<br>",
          "clientes: 666<br>lucro: 1<br>",
          "clientes: 24433<br>lucro: 9877<br>"
         ],
         "type": "scatter",
         "uid": "f1c0ece5-660f-46f6-930b-fd471650081f",
         "x": [
          -0.0011574154827226095,
          -0.5662120139469893,
          -0.9203013123122276,
          0.7258296375473033,
          0.20922559242451888,
          0.18548816475681387,
          -0.4155618150511502,
          0.8458390242243092,
          -0.06314986215985605
         ],
         "y": [
          0.0008480512519196907,
          0.07426173125594072,
          0.21665143350330188,
          0.3850057109887293,
          0.3137716445213656,
          -0.7807710341338852,
          -0.803090293544914,
          -0.4066772438424578,
          1
         ]
        },
        {
         "hoverinfo": "none",
         "line": {
          "color": "black",
          "width": 5
         },
         "mode": "lines",
         "type": "scatter",
         "uid": "44a5502b-3c32-473e-9e6d-800a6fa16ff8",
         "x": [
          -0.0011574154827226095,
          -0.06314986215985605,
          null
         ],
         "y": [
          0.0008480512519196907,
          1,
          null
         ]
        },
        {
         "hoverinfo": "none",
         "line": {
          "color": "black",
          "width": 1.1006735200283586
         },
         "mode": "lines",
         "type": "scatter",
         "uid": "dc8f1bcc-d020-487d-a7c6-7d8bc00c0515",
         "x": [
          -0.0011574154827226095,
          -0.5662120139469893,
          null
         ],
         "y": [
          0.0008480512519196907,
          0.07426173125594072,
          null
         ]
        },
        {
         "hoverinfo": "none",
         "line": {
          "color": "black",
          "width": 2.6683800070896844
         },
         "mode": "lines",
         "type": "scatter",
         "uid": "f63de70b-5c38-4d82-85e5-595c72e3eb07",
         "x": [
          -0.0011574154827226095,
          -0.9203013123122276,
          null
         ],
         "y": [
          0.0008480512519196907,
          0.21665143350330188,
          null
         ]
        },
        {
         "hoverinfo": "none",
         "line": {
          "color": "black",
          "width": 1.6614675646933712
         },
         "mode": "lines",
         "type": "scatter",
         "uid": "72f21690-2b46-46e2-bd48-6c8b03a91171",
         "x": [
          -0.0011574154827226095,
          0.7258296375473033,
          null
         ],
         "y": [
          0.0008480512519196907,
          0.3850057109887293,
          null
         ]
        },
        {
         "hoverinfo": "none",
         "line": {
          "color": "black",
          "width": 0.5196738745125842
         },
         "mode": "lines",
         "type": "scatter",
         "uid": "68478cb5-210a-4ae3-b421-d82fd97f811e",
         "x": [
          -0.0011574154827226095,
          0.20922559242451888,
          null
         ],
         "y": [
          0.0008480512519196907,
          0.3137716445213656,
          null
         ]
        },
        {
         "hoverinfo": "none",
         "line": {
          "color": "black",
          "width": 0.5
         },
         "mode": "lines",
         "type": "scatter",
         "uid": "c805f274-d96c-44d9-ac5d-e490e030ef3f",
         "x": [
          -0.0011574154827226095,
          0.18548816475681387,
          null
         ],
         "y": [
          0.0008480512519196907,
          -0.7807710341338852,
          null
         ]
        },
        {
         "hoverinfo": "none",
         "line": {
          "color": "black",
          "width": 0.892059553349876
         },
         "mode": "lines",
         "type": "scatter",
         "uid": "1fd14729-ab38-4faa-8137-e570d668655f",
         "x": [
          -0.0011574154827226095,
          -0.4155618150511502,
          null
         ],
         "y": [
          0.0008480512519196907,
          -0.803090293544914,
          null
         ]
        },
        {
         "hoverinfo": "none",
         "line": {
          "color": "black",
          "width": 0.5983693725629209
         },
         "mode": "lines",
         "type": "scatter",
         "uid": "0c692159-4931-4efa-a724-0356ca7ee773",
         "x": [
          -0.0011574154827226095,
          0.8458390242243092,
          null
         ],
         "y": [
          0.0008480512519196907,
          -0.4066772438424578,
          null
         ]
        }
       ],
       "layout": {
        "annotations": [
         {
          "ax": 0,
          "ay": 20,
          "showarrow": false,
          "text": "Next",
          "x": -0.0011574154827226095,
          "xref": "x",
          "y": 0.1008480512519197,
          "yref": "y"
         },
         {
          "ax": 0,
          "ay": 20,
          "showarrow": false,
          "text": "Inter",
          "x": -0.5662120139469893,
          "xref": "x",
          "y": 0.17426173125594074,
          "yref": "y"
         },
         {
          "ax": 0,
          "ay": 20,
          "showarrow": false,
          "text": "Nubank",
          "x": -0.9203013123122276,
          "xref": "x",
          "y": 0.3166514335033019,
          "yref": "y"
         },
         {
          "ax": 0,
          "ay": 20,
          "showarrow": false,
          "text": "BB",
          "x": 0.7258296375473033,
          "xref": "x",
          "y": 0.48500571098872935,
          "yref": "y"
         },
         {
          "ax": 0,
          "ay": 20,
          "showarrow": false,
          "text": "Itau",
          "x": 0.20922559242451888,
          "xref": "x",
          "y": 0.4137716445213656,
          "yref": "y"
         },
         {
          "ax": 0,
          "ay": 20,
          "showarrow": false,
          "text": "XP Investimentos",
          "x": 0.18548816475681387,
          "xref": "x",
          "y": -0.6807710341338852,
          "yref": "y"
         },
         {
          "ax": 0,
          "ay": 20,
          "showarrow": false,
          "text": "CEF",
          "x": -0.4155618150511502,
          "xref": "x",
          "y": -0.703090293544914,
          "yref": "y"
         },
         {
          "ax": 0,
          "ay": 20,
          "showarrow": false,
          "text": "Santander",
          "x": 0.8458390242243092,
          "xref": "x",
          "y": -0.30667724384245776,
          "yref": "y"
         },
         {
          "ax": 0,
          "ay": 20,
          "showarrow": false,
          "text": "Bradesco",
          "x": -0.06314986215985605,
          "xref": "x",
          "y": 1.1,
          "yref": "y"
         }
        ],
        "hovermode": "closest",
        "margin": {
         "b": 20,
         "l": 5,
         "r": 5,
         "t": 40
        },
        "showlegend": false,
        "title": {
         "font": {
          "size": 16
         },
         "text": "coco"
        },
        "xaxis": {
         "showgrid": false,
         "showticklabels": false,
         "zeroline": false
        },
        "yaxis": {
         "showgrid": false,
         "showticklabels": false,
         "zeroline": false
        }
       }
      },
      "text/html": [
       "<div>\n",
       "        \n",
       "        \n",
       "            <div id=\"6d234976-536a-4212-b088-078f2044b2cf\" class=\"plotly-graph-div\" style=\"height:525px; width:100%;\"></div>\n",
       "            <script type=\"text/javascript\">\n",
       "                require([\"plotly\"], function(Plotly) {\n",
       "                    window.PLOTLYENV=window.PLOTLYENV || {};\n",
       "                    window.PLOTLYENV.BASE_URL='https://plot.ly';\n",
       "                    \n",
       "                if (document.getElementById(\"6d234976-536a-4212-b088-078f2044b2cf\")) {\n",
       "                    Plotly.newPlot(\n",
       "                        '6d234976-536a-4212-b088-078f2044b2cf',\n",
       "                        [{\"hoverinfo\": \"text\", \"marker\": {\"cmax\": 234243, \"cmin\": 1, \"color\": [\"rgb(0, 0, 6)\", \"rgb(35, 17, 82)\", \"rgb(251, 252, 191)\", \"rgb(20, 13, 53)\", \"rgb(0, 0, 3)\", \"rgb(0, 0, 3)\", \"rgb(251, 247, 185)\", \"rgb(0, 0, 3)\", \"rgb(21, 14, 56)\"], \"colorbar\": {\"thickness\": 15, \"title\": {\"side\": \"right\", \"text\": \"coco\"}, \"xanchor\": \"left\"}, \"colorscale\": \"Viridis\", \"line\": {\"width\": 2}, \"reversescale\": true, \"showscale\": false, \"size\": [2000, 35000, 234243, 23443, 2, 1, 232323, 666, 24433], \"sizemin\": 5, \"sizemode\": \"area\", \"sizeref\": 187.3944}, \"mode\": \"markers\", \"text\": [\"clientes: 2000<br>lucro: 234<br>\", \"clientes: 35000<br>lucro: 1111<br>\", \"clientes: 234243<br>lucro: 2234<br>\", \"clientes: 23443<br>lucro: 2344<br>\", \"clientes: 2<br>lucro: 444<br>\", \"clientes: 1<br>lucro: 222<br>\", \"clientes: 232323<br>lucro: 1<br>\", \"clientes: 666<br>lucro: 1<br>\", \"clientes: 24433<br>lucro: 9877<br>\"], \"type\": \"scatter\", \"uid\": \"2bbd1fe5-df8e-48f6-bc18-47b9c5249879\", \"x\": [-0.0011574154827226095, -0.5662120139469893, -0.9203013123122276, 0.7258296375473033, 0.20922559242451888, 0.18548816475681387, -0.4155618150511502, 0.8458390242243092, -0.06314986215985605], \"y\": [0.0008480512519196907, 0.07426173125594072, 0.21665143350330188, 0.3850057109887293, 0.3137716445213656, -0.7807710341338852, -0.803090293544914, -0.4066772438424578, 1.0]}, {\"hoverinfo\": \"none\", \"line\": {\"color\": \"black\", \"width\": 5.0}, \"mode\": \"lines\", \"type\": \"scatter\", \"uid\": \"2f53be56-6c57-4f63-95c1-630523a4233c\", \"x\": [-0.0011574154827226095, -0.06314986215985605, null], \"y\": [0.0008480512519196907, 1.0, null]}, {\"hoverinfo\": \"none\", \"line\": {\"color\": \"black\", \"width\": 1.1006735200283586}, \"mode\": \"lines\", \"type\": \"scatter\", \"uid\": \"d9abe4ec-9b49-45d6-b988-e95bb2e9c342\", \"x\": [-0.0011574154827226095, -0.5662120139469893, null], \"y\": [0.0008480512519196907, 0.07426173125594072, null]}, {\"hoverinfo\": \"none\", \"line\": {\"color\": \"black\", \"width\": 2.6683800070896844}, \"mode\": \"lines\", \"type\": \"scatter\", \"uid\": \"a00538a8-517f-4df8-bde0-403f0f935130\", \"x\": [-0.0011574154827226095, -0.9203013123122276, null], \"y\": [0.0008480512519196907, 0.21665143350330188, null]}, {\"hoverinfo\": \"none\", \"line\": {\"color\": \"black\", \"width\": 1.6614675646933712}, \"mode\": \"lines\", \"type\": \"scatter\", \"uid\": \"eadbb7c1-3e4c-4c95-bf19-60489d762793\", \"x\": [-0.0011574154827226095, 0.7258296375473033, null], \"y\": [0.0008480512519196907, 0.3850057109887293, null]}, {\"hoverinfo\": \"none\", \"line\": {\"color\": \"black\", \"width\": 0.5196738745125842}, \"mode\": \"lines\", \"type\": \"scatter\", \"uid\": \"bf3ae208-3745-41d3-abfd-69df4d2edc99\", \"x\": [-0.0011574154827226095, 0.20922559242451888, null], \"y\": [0.0008480512519196907, 0.3137716445213656, null]}, {\"hoverinfo\": \"none\", \"line\": {\"color\": \"black\", \"width\": 0.5}, \"mode\": \"lines\", \"type\": \"scatter\", \"uid\": \"3e1af46d-8281-4d26-9ce7-4d8a0ffc276c\", \"x\": [-0.0011574154827226095, 0.18548816475681387, null], \"y\": [0.0008480512519196907, -0.7807710341338852, null]}, {\"hoverinfo\": \"none\", \"line\": {\"color\": \"black\", \"width\": 0.892059553349876}, \"mode\": \"lines\", \"type\": \"scatter\", \"uid\": \"c1d6b9f6-d5f9-4ddd-b920-cde38d83022a\", \"x\": [-0.0011574154827226095, -0.4155618150511502, null], \"y\": [0.0008480512519196907, -0.803090293544914, null]}, {\"hoverinfo\": \"none\", \"line\": {\"color\": \"black\", \"width\": 0.5983693725629209}, \"mode\": \"lines\", \"type\": \"scatter\", \"uid\": \"a1c68af3-1aa4-41c5-83c5-641332c0d6c3\", \"x\": [-0.0011574154827226095, 0.8458390242243092, null], \"y\": [0.0008480512519196907, -0.4066772438424578, null]}],\n",
       "                        {\"annotations\": [{\"ax\": 0, \"ay\": 20, \"showarrow\": false, \"text\": \"Next\", \"x\": -0.0011574154827226095, \"xref\": \"x\", \"y\": 0.1008480512519197, \"yref\": \"y\"}, {\"ax\": 0, \"ay\": 20, \"showarrow\": false, \"text\": \"Inter\", \"x\": -0.5662120139469893, \"xref\": \"x\", \"y\": 0.17426173125594074, \"yref\": \"y\"}, {\"ax\": 0, \"ay\": 20, \"showarrow\": false, \"text\": \"Nubank\", \"x\": -0.9203013123122276, \"xref\": \"x\", \"y\": 0.3166514335033019, \"yref\": \"y\"}, {\"ax\": 0, \"ay\": 20, \"showarrow\": false, \"text\": \"BB\", \"x\": 0.7258296375473033, \"xref\": \"x\", \"y\": 0.48500571098872935, \"yref\": \"y\"}, {\"ax\": 0, \"ay\": 20, \"showarrow\": false, \"text\": \"Itau\", \"x\": 0.20922559242451888, \"xref\": \"x\", \"y\": 0.4137716445213656, \"yref\": \"y\"}, {\"ax\": 0, \"ay\": 20, \"showarrow\": false, \"text\": \"XP Investimentos\", \"x\": 0.18548816475681387, \"xref\": \"x\", \"y\": -0.6807710341338852, \"yref\": \"y\"}, {\"ax\": 0, \"ay\": 20, \"showarrow\": false, \"text\": \"CEF\", \"x\": -0.4155618150511502, \"xref\": \"x\", \"y\": -0.703090293544914, \"yref\": \"y\"}, {\"ax\": 0, \"ay\": 20, \"showarrow\": false, \"text\": \"Santander\", \"x\": 0.8458390242243092, \"xref\": \"x\", \"y\": -0.30667724384245776, \"yref\": \"y\"}, {\"ax\": 0, \"ay\": 20, \"showarrow\": false, \"text\": \"Bradesco\", \"x\": -0.06314986215985605, \"xref\": \"x\", \"y\": 1.1, \"yref\": \"y\"}], \"hovermode\": \"closest\", \"margin\": {\"b\": 20, \"l\": 5, \"r\": 5, \"t\": 40}, \"showlegend\": false, \"title\": {\"font\": {\"size\": 16}, \"text\": \"coco\"}, \"xaxis\": {\"showgrid\": false, \"showticklabels\": false, \"zeroline\": false}, \"yaxis\": {\"showgrid\": false, \"showticklabels\": false, \"zeroline\": false}},\n",
       "                        {\"showLink\": false, \"linkText\": \"Export to plot.ly\", \"plotlyServerURL\": \"https://plot.ly\", \"responsive\": true}\n",
       "                    ).then(function(){\n",
       "                            \n",
       "var gd = document.getElementById('6d234976-536a-4212-b088-078f2044b2cf');\n",
       "var x = new MutationObserver(function (mutations, observer) {{\n",
       "        var display = window.getComputedStyle(gd).display;\n",
       "        if (!display || display === 'none') {{\n",
       "            console.log([gd, 'removed!']);\n",
       "            Plotly.purge(gd);\n",
       "            observer.disconnect();\n",
       "        }}\n",
       "}});\n",
       "\n",
       "// Listen for the removal of the full notebook cells\n",
       "var notebookContainer = gd.closest('#notebook-container');\n",
       "if (notebookContainer) {{\n",
       "    x.observe(notebookContainer, {childList: true});\n",
       "}}\n",
       "\n",
       "// Listen for the clearing of the current output cell\n",
       "var outputEl = gd.closest('.output');\n",
       "if (outputEl) {{\n",
       "    x.observe(outputEl, {childList: true});\n",
       "}}\n",
       "\n",
       "                        })\n",
       "                };\n",
       "                });\n",
       "            </script>\n",
       "        </div>"
      ]
     },
     "metadata": {},
     "output_type": "display_data"
    }
   ],
   "source": [
    "mygraph.plot(title='coco', node_size_col='clientes', node_color_col='clientes', edge_width_col='enviado')"
   ]
  },
  {
   "cell_type": "code",
   "execution_count": null,
   "metadata": {},
   "outputs": [],
   "source": [
    "#import plotly.plotly as py\n",
    "import plotly.graph_objs as go\n",
    "\n",
    "import numpy as np\n",
    "from plotly.offline import download_plotlyjs, init_notebook_mode, plot, iplot\n",
    "\n",
    "init_notebook_mode(connected=True)\n",
    "\n",
    "x, y, z = np.random.multivariate_normal(np.array([0,0,0]), np.eye(3), 400).transpose()\n",
    "\n",
    "trace1 = go.Scatter3d(\n",
    "    x=x,\n",
    "    y=y,\n",
    "    z=z,\n",
    "    mode='markers',\n",
    "    marker=dict(\n",
    "        size=12,\n",
    "        color=z,                # set color to an array/list of desired values\n",
    "        colorscale='Viridis',   # choose a colorscale\n",
    "        opacity=0.8\n",
    "    )\n",
    ")\n",
    "\n",
    "data = [trace1]\n",
    "layout = go.Layout(\n",
    "    margin=dict(\n",
    "        l=0,\n",
    "        r=0,\n",
    "        b=0,\n",
    "        t=0\n",
    "    )\n",
    ")\n",
    "fig = go.Figure(data=data, layout=layout)\n",
    "iplot(fig, filename='3d-scatter-colorscale')"
   ]
  },
  {
   "cell_type": "code",
   "execution_count": null,
   "metadata": {},
   "outputs": [],
   "source": []
  },
  {
   "cell_type": "code",
   "execution_count": null,
   "metadata": {},
   "outputs": [],
   "source": [
    "import plotly.graph_objs as go\n",
    "import plotly\n",
    "plotly.offline.init_notebook_mode()\n",
    "\n",
    "#draw a square\n",
    "x = [0, 1, 0, 1, 0, 1, 0, 1]\n",
    "y = [0, 1, 1, 0, 0, 1, 1, 0]\n",
    "z = [0, 0, 0, 0, 1, 1, 1, 1]\n",
    "\n",
    "#the start and end point for each line\n",
    "pairs = [(1,2),(7,6)]\n",
    "\n",
    "trace1 = go.Scatter3d(\n",
    "    x=x,\n",
    "    y=y,\n",
    "    z=z,\n",
    "    mode='markers',\n",
    "    name='markers'\n",
    ")\n",
    "\n",
    "x_lines = list()\n",
    "y_lines = list()\n",
    "z_lines = list()\n",
    "\n",
    "#create the coordinate list for the lines\n",
    "for p in pairs:\n",
    "    for i in range(2):\n",
    "        x_lines.append(x[p[i]])\n",
    "        y_lines.append(y[p[i]])\n",
    "        z_lines.append(z[p[i]])\n",
    "    x_lines.append(None)\n",
    "    y_lines.append(None)\n",
    "    z_lines.append(None)\n",
    "\n",
    "trace2 = go.Scatter3d(\n",
    "    x=x_lines,\n",
    "    y=y_lines,\n",
    "    z=z_lines,\n",
    "    mode='lines',\n",
    "    name='lines'\n",
    ")\n",
    "\n",
    "fig = go.Figure(data=[trace1, trace2])\n",
    "plotly.offline.iplot(fig, filename='simple-3d-scatter')"
   ]
  },
  {
   "cell_type": "code",
   "execution_count": null,
   "metadata": {},
   "outputs": [],
   "source": [
    "import pandas as pd\n",
    "df = pd.DataFrame({'coco':[1,2,3,3,2,1], 'lala':[6,5,4,3,2,1], 'banco':['jujuba','boteco','lala','metin','coco','lala']})"
   ]
  },
  {
   "cell_type": "code",
   "execution_count": null,
   "metadata": {},
   "outputs": [],
   "source": [
    "df.iloc[0].to_dict()"
   ]
  },
  {
   "cell_type": "code",
   "execution_count": null,
   "metadata": {},
   "outputs": [],
   "source": [
    "df"
   ]
  },
  {
   "cell_type": "code",
   "execution_count": null,
   "metadata": {},
   "outputs": [],
   "source": []
  },
  {
   "cell_type": "code",
   "execution_count": null,
   "metadata": {},
   "outputs": [],
   "source": []
  }
 ],
 "metadata": {
  "kernelspec": {
   "display_name": "Python 3",
   "language": "python",
   "name": "python3"
  },
  "language_info": {
   "codemirror_mode": {
    "name": "ipython",
    "version": 3
   },
   "file_extension": ".py",
   "mimetype": "text/x-python",
   "name": "python",
   "nbconvert_exporter": "python",
   "pygments_lexer": "ipython3",
   "version": "3.7.0"
  }
 },
 "nbformat": 4,
 "nbformat_minor": 2
}
