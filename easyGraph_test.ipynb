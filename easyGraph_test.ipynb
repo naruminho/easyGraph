{
 "cells": [
  {
   "cell_type": "code",
   "execution_count": 20,
   "metadata": {},
   "outputs": [
    {
     "name": "stdout",
     "output_type": "stream",
     "text": [
      "The autoreload extension is already loaded. To reload it, use:\n",
      "  %reload_ext autoreload\n"
     ]
    }
   ],
   "source": [
    "%load_ext autoreload\n",
    "%autoreload 2\n",
    "from easyGraph import *\n",
    "import pandas as pd"
   ]
  },
  {
   "cell_type": "code",
   "execution_count": 21,
   "metadata": {},
   "outputs": [],
   "source": [
    "# criando o grafo \n",
    "mygraph = EasyGraph(6, dim=3)"
   ]
  },
  {
   "cell_type": "code",
   "execution_count": 22,
   "metadata": {},
   "outputs": [
    {
     "data": {
      "text/html": [
       "<div>\n",
       "<style scoped>\n",
       "    .dataframe tbody tr th:only-of-type {\n",
       "        vertical-align: middle;\n",
       "    }\n",
       "\n",
       "    .dataframe tbody tr th {\n",
       "        vertical-align: top;\n",
       "    }\n",
       "\n",
       "    .dataframe thead th {\n",
       "        text-align: right;\n",
       "    }\n",
       "</style>\n",
       "<table border=\"1\" class=\"dataframe\">\n",
       "  <thead>\n",
       "    <tr style=\"text-align: right;\">\n",
       "      <th></th>\n",
       "      <th>banco</th>\n",
       "      <th>clientes</th>\n",
       "      <th>lucro</th>\n",
       "    </tr>\n",
       "  </thead>\n",
       "  <tbody>\n",
       "    <tr>\n",
       "      <th>0</th>\n",
       "      <td>Next</td>\n",
       "      <td>2000</td>\n",
       "      <td>234</td>\n",
       "    </tr>\n",
       "    <tr>\n",
       "      <th>1</th>\n",
       "      <td>Inter</td>\n",
       "      <td>35000</td>\n",
       "      <td>1111</td>\n",
       "    </tr>\n",
       "    <tr>\n",
       "      <th>2</th>\n",
       "      <td>Nubank</td>\n",
       "      <td>234243</td>\n",
       "      <td>2234</td>\n",
       "    </tr>\n",
       "    <tr>\n",
       "      <th>3</th>\n",
       "      <td>BB</td>\n",
       "      <td>23443</td>\n",
       "      <td>2344</td>\n",
       "    </tr>\n",
       "    <tr>\n",
       "      <th>4</th>\n",
       "      <td>Itau</td>\n",
       "      <td>2</td>\n",
       "      <td>444</td>\n",
       "    </tr>\n",
       "  </tbody>\n",
       "</table>\n",
       "</div>"
      ],
      "text/plain": [
       "    banco  clientes  lucro\n",
       "0    Next      2000    234\n",
       "1   Inter     35000   1111\n",
       "2  Nubank    234243   2234\n",
       "3      BB     23443   2344\n",
       "4    Itau         2    444"
      ]
     },
     "execution_count": 22,
     "metadata": {},
     "output_type": "execute_result"
    }
   ],
   "source": [
    "# criando um df de nodes como exemplo\n",
    "bancos = pd.DataFrame({\n",
    "        'banco' : ['Next', 'Inter', 'Nubank', 'BB', 'Itau', 'XP Investimentos', 'CEF', 'Santander','Bradesco'],\n",
    "        'clientes': [2000,   35000, 234243, 23443,2,1,232323, 666, 24433],\n",
    "        'lucro': [234, 1111, 2234, 2344, 444, 222, 1, 1, 9877] \n",
    "})\n",
    "bancos.head()"
   ]
  },
  {
   "cell_type": "code",
   "execution_count": 23,
   "metadata": {},
   "outputs": [],
   "source": [
    "# adicionando os nodes ao grafo\n",
    "# banco é o nome da coluna que contem o id do no\n",
    "mygraph.node.load(bancos, 'banco')"
   ]
  },
  {
   "cell_type": "code",
   "execution_count": 24,
   "metadata": {},
   "outputs": [
    {
     "data": {
      "text/html": [
       "<div>\n",
       "<style scoped>\n",
       "    .dataframe tbody tr th:only-of-type {\n",
       "        vertical-align: middle;\n",
       "    }\n",
       "\n",
       "    .dataframe tbody tr th {\n",
       "        vertical-align: top;\n",
       "    }\n",
       "\n",
       "    .dataframe thead th {\n",
       "        text-align: right;\n",
       "    }\n",
       "</style>\n",
       "<table border=\"1\" class=\"dataframe\">\n",
       "  <thead>\n",
       "    <tr style=\"text-align: right;\">\n",
       "      <th></th>\n",
       "      <th>de</th>\n",
       "      <th>para</th>\n",
       "      <th>enviado</th>\n",
       "      <th>recebido</th>\n",
       "    </tr>\n",
       "  </thead>\n",
       "  <tbody>\n",
       "    <tr>\n",
       "      <th>0</th>\n",
       "      <td>Next</td>\n",
       "      <td>Bradesco</td>\n",
       "      <td>25500</td>\n",
       "      <td>2344</td>\n",
       "    </tr>\n",
       "    <tr>\n",
       "      <th>1</th>\n",
       "      <td>Next</td>\n",
       "      <td>Inter</td>\n",
       "      <td>3500</td>\n",
       "      <td>111</td>\n",
       "    </tr>\n",
       "    <tr>\n",
       "      <th>2</th>\n",
       "      <td>Next</td>\n",
       "      <td>Nubank</td>\n",
       "      <td>12345</td>\n",
       "      <td>22234</td>\n",
       "    </tr>\n",
       "    <tr>\n",
       "      <th>3</th>\n",
       "      <td>Next</td>\n",
       "      <td>BB</td>\n",
       "      <td>6664</td>\n",
       "      <td>234</td>\n",
       "    </tr>\n",
       "    <tr>\n",
       "      <th>4</th>\n",
       "      <td>Next</td>\n",
       "      <td>Itau</td>\n",
       "      <td>222</td>\n",
       "      <td>4344</td>\n",
       "    </tr>\n",
       "  </tbody>\n",
       "</table>\n",
       "</div>"
      ],
      "text/plain": [
       "     de      para  enviado  recebido\n",
       "0  Next  Bradesco    25500      2344\n",
       "1  Next     Inter     3500       111\n",
       "2  Next    Nubank    12345     22234\n",
       "3  Next        BB     6664       234\n",
       "4  Next      Itau      222      4344"
      ]
     },
     "execution_count": 24,
     "metadata": {},
     "output_type": "execute_result"
    }
   ],
   "source": [
    "teds = pd.DataFrame({\n",
    "        'de' : ['Next', 'Next', 'Next', 'Next', 'Next', 'Next', 'Next', 'Next'],\n",
    "        'para' : ['Bradesco', 'Inter', 'Nubank', 'BB', 'Itau', 'XP Investimentos', 'CEF', 'Santander'],\n",
    "        'enviado': [25500,   3500, 12345, 6664, 222,111, 2323, 666],\n",
    "        'recebido': [2344, 111, 22234, 234, 4344, 2322, 1111, 1111] \n",
    "})\n",
    "teds.head()"
   ]
  },
  {
   "cell_type": "code",
   "execution_count": 25,
   "metadata": {},
   "outputs": [],
   "source": [
    "mygraph.edge.load(teds, 'de', 'para')"
   ]
  },
  {
   "cell_type": "code",
   "execution_count": 26,
   "metadata": {},
   "outputs": [
    {
     "data": {
      "application/vnd.plotly.v1+json": {
       "config": {
        "linkText": "Export to plot.ly",
        "plotlyServerURL": "https://plot.ly",
        "responsive": true,
        "showLink": false
       },
       "data": [
        {
         "hoverinfo": "text",
         "marker": {
          "cmax": null,
          "cmin": null,
          "color": "darkblue",
          "colorbar": {
           "thickness": 15,
           "title": {
            "side": "right",
            "text": " "
           },
           "xanchor": "left"
          },
          "colorscale": "Viridis",
          "line": {
           "width": 2
          },
          "reversescale": true,
          "showscale": false,
          "size": [
           1,
           1,
           1,
           1,
           1,
           1,
           1,
           1,
           1
          ],
          "sizemin": 5,
          "sizemode": "area",
          "sizeref": 5
         },
         "mode": "markers",
         "text": [
          "clientes: 2000<br>lucro: 234<br>",
          "clientes: 35000<br>lucro: 1111<br>",
          "clientes: 234243<br>lucro: 2234<br>",
          "clientes: 23443<br>lucro: 2344<br>",
          "clientes: 2<br>lucro: 444<br>",
          "clientes: 1<br>lucro: 222<br>",
          "clientes: 232323<br>lucro: 1<br>",
          "clientes: 666<br>lucro: 1<br>",
          "clientes: 24433<br>lucro: 9877<br>"
         ],
         "type": "scatter",
         "uid": "d81a448e-6420-4440-923c-374bdce91f93",
         "x": [
          0.002379553633286711,
          -0.7233238974865035,
          0.918469056874296,
          0.1920043103355607,
          0.018681144028584562,
          -0.7530837135843512,
          0.5639007614816403,
          0.36691356021196714,
          -0.5859407754944809
         ],
         "y": [
          0.000277976240969626,
          -0.6552919250353954,
          0.18353202468560506,
          0.9470344824172326,
          0.0005186297593367916,
          0.5916828285477486,
          -0.10694733661471925,
          -0.9257756227036371,
          -0.03503105729714151
         ]
        },
        {
         "hoverinfo": "none",
         "line": {
          "color": "black",
          "width": 0.5
         },
         "mode": "lines",
         "type": "scatter",
         "uid": "451bf9f4-24e1-48e0-90bd-6f0d32bf2f5b",
         "x": [
          0.002379553633286711,
          -0.5859407754944809,
          null
         ],
         "y": [
          0.000277976240969626,
          -0.03503105729714151,
          null
         ]
        },
        {
         "hoverinfo": "none",
         "line": {
          "color": "black",
          "width": 0.5
         },
         "mode": "lines",
         "type": "scatter",
         "uid": "90cb6d4f-0bf3-4776-b3e3-8f50b6a0df82",
         "x": [
          0.002379553633286711,
          -0.7233238974865035,
          null
         ],
         "y": [
          0.000277976240969626,
          -0.6552919250353954,
          null
         ]
        },
        {
         "hoverinfo": "none",
         "line": {
          "color": "black",
          "width": 0.5
         },
         "mode": "lines",
         "type": "scatter",
         "uid": "f349411e-2ac5-494a-8c99-85fe281e9ed0",
         "x": [
          0.002379553633286711,
          0.918469056874296,
          null
         ],
         "y": [
          0.000277976240969626,
          0.18353202468560506,
          null
         ]
        },
        {
         "hoverinfo": "none",
         "line": {
          "color": "black",
          "width": 0.5
         },
         "mode": "lines",
         "type": "scatter",
         "uid": "25dd27fa-7dbf-4c37-8a7b-d10812700e2b",
         "x": [
          0.002379553633286711,
          0.1920043103355607,
          null
         ],
         "y": [
          0.000277976240969626,
          0.9470344824172326,
          null
         ]
        },
        {
         "hoverinfo": "none",
         "line": {
          "color": "black",
          "width": 0.5
         },
         "mode": "lines",
         "type": "scatter",
         "uid": "adc2c6b4-9fd7-48d4-b4ad-de0eadbaeb4a",
         "x": [
          0.002379553633286711,
          0.018681144028584562,
          null
         ],
         "y": [
          0.000277976240969626,
          0.0005186297593367916,
          null
         ]
        },
        {
         "hoverinfo": "none",
         "line": {
          "color": "black",
          "width": 0.5
         },
         "mode": "lines",
         "type": "scatter",
         "uid": "5bf5b0e2-e4d6-43c6-971a-c8548f8821af",
         "x": [
          0.002379553633286711,
          -0.7530837135843512,
          null
         ],
         "y": [
          0.000277976240969626,
          0.5916828285477486,
          null
         ]
        },
        {
         "hoverinfo": "none",
         "line": {
          "color": "black",
          "width": 0.5
         },
         "mode": "lines",
         "type": "scatter",
         "uid": "24753011-e588-4b2e-ae50-47e27b565b3b",
         "x": [
          0.002379553633286711,
          0.5639007614816403,
          null
         ],
         "y": [
          0.000277976240969626,
          -0.10694733661471925,
          null
         ]
        },
        {
         "hoverinfo": "none",
         "line": {
          "color": "black",
          "width": 0.5
         },
         "mode": "lines",
         "type": "scatter",
         "uid": "9abaf19b-2ded-48be-977b-b6edb71431f0",
         "x": [
          0.002379553633286711,
          0.36691356021196714,
          null
         ],
         "y": [
          0.000277976240969626,
          -0.9257756227036371,
          null
         ]
        }
       ],
       "layout": {
        "annotations": [
         {
          "ax": 0,
          "ay": 20,
          "showarrow": false,
          "text": "Next",
          "x": 0.002379553633286711,
          "xref": "x",
          "y": 0.10027797624096964,
          "yref": "y"
         },
         {
          "ax": 0,
          "ay": 20,
          "showarrow": false,
          "text": "Inter",
          "x": -0.7233238974865035,
          "xref": "x",
          "y": -0.5552919250353954,
          "yref": "y"
         },
         {
          "ax": 0,
          "ay": 20,
          "showarrow": false,
          "text": "Nubank",
          "x": 0.918469056874296,
          "xref": "x",
          "y": 0.28353202468560507,
          "yref": "y"
         },
         {
          "ax": 0,
          "ay": 20,
          "showarrow": false,
          "text": "BB",
          "x": 0.1920043103355607,
          "xref": "x",
          "y": 1.0470344824172326,
          "yref": "y"
         },
         {
          "ax": 0,
          "ay": 20,
          "showarrow": false,
          "text": "Itau",
          "x": 0.018681144028584562,
          "xref": "x",
          "y": 0.1005186297593368,
          "yref": "y"
         },
         {
          "ax": 0,
          "ay": 20,
          "showarrow": false,
          "text": "XP Investimentos",
          "x": -0.7530837135843512,
          "xref": "x",
          "y": 0.6916828285477485,
          "yref": "y"
         },
         {
          "ax": 0,
          "ay": 20,
          "showarrow": false,
          "text": "CEF",
          "x": 0.5639007614816403,
          "xref": "x",
          "y": -0.006947336614719246,
          "yref": "y"
         },
         {
          "ax": 0,
          "ay": 20,
          "showarrow": false,
          "text": "Santander",
          "x": 0.36691356021196714,
          "xref": "x",
          "y": -0.8257756227036371,
          "yref": "y"
         },
         {
          "ax": 0,
          "ay": 20,
          "showarrow": false,
          "text": "Bradesco",
          "x": -0.5859407754944809,
          "xref": "x",
          "y": 0.0649689427028585,
          "yref": "y"
         }
        ],
        "hovermode": "closest",
        "margin": {
         "b": 20,
         "l": 5,
         "r": 5,
         "t": 40
        },
        "showlegend": false,
        "title": {
         "font": {
          "size": 16
         },
         "text": " "
        },
        "xaxis": {
         "showgrid": false,
         "showticklabels": false,
         "zeroline": false
        },
        "yaxis": {
         "showgrid": false,
         "showticklabels": false,
         "zeroline": false
        }
       }
      },
      "text/html": [
       "<div>\n",
       "        \n",
       "        \n",
       "            <div id=\"3c6cce56-8421-4328-8566-b5561ca0d712\" class=\"plotly-graph-div\" style=\"height:525px; width:100%;\"></div>\n",
       "            <script type=\"text/javascript\">\n",
       "                require([\"plotly\"], function(Plotly) {\n",
       "                    window.PLOTLYENV=window.PLOTLYENV || {};\n",
       "                    window.PLOTLYENV.BASE_URL='https://plot.ly';\n",
       "                    \n",
       "                if (document.getElementById(\"3c6cce56-8421-4328-8566-b5561ca0d712\")) {\n",
       "                    Plotly.newPlot(\n",
       "                        '3c6cce56-8421-4328-8566-b5561ca0d712',\n",
       "                        [{\"hoverinfo\": \"text\", \"marker\": {\"cmax\": null, \"cmin\": null, \"color\": \"darkblue\", \"colorbar\": {\"thickness\": 15, \"title\": {\"side\": \"right\", \"text\": \" \"}, \"xanchor\": \"left\"}, \"colorscale\": \"Viridis\", \"line\": {\"width\": 2}, \"reversescale\": true, \"showscale\": false, \"size\": [1, 1, 1, 1, 1, 1, 1, 1, 1], \"sizemin\": 5, \"sizemode\": \"area\", \"sizeref\": 5}, \"mode\": \"markers\", \"text\": [\"clientes: 2000<br>lucro: 234<br>\", \"clientes: 35000<br>lucro: 1111<br>\", \"clientes: 234243<br>lucro: 2234<br>\", \"clientes: 23443<br>lucro: 2344<br>\", \"clientes: 2<br>lucro: 444<br>\", \"clientes: 1<br>lucro: 222<br>\", \"clientes: 232323<br>lucro: 1<br>\", \"clientes: 666<br>lucro: 1<br>\", \"clientes: 24433<br>lucro: 9877<br>\"], \"type\": \"scatter\", \"uid\": \"04d93287-d426-4665-8c4c-9f5c2c5995cd\", \"x\": [0.002379553633286711, -0.7233238974865035, 0.918469056874296, 0.1920043103355607, 0.018681144028584562, -0.7530837135843512, 0.5639007614816403, 0.36691356021196714, -0.5859407754944809], \"y\": [0.000277976240969626, -0.6552919250353954, 0.18353202468560506, 0.9470344824172326, 0.0005186297593367916, 0.5916828285477486, -0.10694733661471925, -0.9257756227036371, -0.03503105729714151]}, {\"hoverinfo\": \"none\", \"line\": {\"color\": \"black\", \"width\": 0.5}, \"mode\": \"lines\", \"type\": \"scatter\", \"uid\": \"c0f5e87e-494d-437c-814a-b14794b1882d\", \"x\": [0.002379553633286711, -0.5859407754944809, null], \"y\": [0.000277976240969626, -0.03503105729714151, null]}, {\"hoverinfo\": \"none\", \"line\": {\"color\": \"black\", \"width\": 0.5}, \"mode\": \"lines\", \"type\": \"scatter\", \"uid\": \"1fc243c0-a410-4071-b57f-a699defaa35f\", \"x\": [0.002379553633286711, -0.7233238974865035, null], \"y\": [0.000277976240969626, -0.6552919250353954, null]}, {\"hoverinfo\": \"none\", \"line\": {\"color\": \"black\", \"width\": 0.5}, \"mode\": \"lines\", \"type\": \"scatter\", \"uid\": \"aef5c639-93f4-433a-a448-bb34223d486b\", \"x\": [0.002379553633286711, 0.918469056874296, null], \"y\": [0.000277976240969626, 0.18353202468560506, null]}, {\"hoverinfo\": \"none\", \"line\": {\"color\": \"black\", \"width\": 0.5}, \"mode\": \"lines\", \"type\": \"scatter\", \"uid\": \"649c3c1b-0bdb-41c9-b933-1301619ab547\", \"x\": [0.002379553633286711, 0.1920043103355607, null], \"y\": [0.000277976240969626, 0.9470344824172326, null]}, {\"hoverinfo\": \"none\", \"line\": {\"color\": \"black\", \"width\": 0.5}, \"mode\": \"lines\", \"type\": \"scatter\", \"uid\": \"bedb2350-6e04-433f-a3e1-b0bd90bb868e\", \"x\": [0.002379553633286711, 0.018681144028584562, null], \"y\": [0.000277976240969626, 0.0005186297593367916, null]}, {\"hoverinfo\": \"none\", \"line\": {\"color\": \"black\", \"width\": 0.5}, \"mode\": \"lines\", \"type\": \"scatter\", \"uid\": \"8c428619-e13d-4df8-9b5a-dd6e0e93279f\", \"x\": [0.002379553633286711, -0.7530837135843512, null], \"y\": [0.000277976240969626, 0.5916828285477486, null]}, {\"hoverinfo\": \"none\", \"line\": {\"color\": \"black\", \"width\": 0.5}, \"mode\": \"lines\", \"type\": \"scatter\", \"uid\": \"8a92237a-a6d8-410f-a17c-7b4083620f25\", \"x\": [0.002379553633286711, 0.5639007614816403, null], \"y\": [0.000277976240969626, -0.10694733661471925, null]}, {\"hoverinfo\": \"none\", \"line\": {\"color\": \"black\", \"width\": 0.5}, \"mode\": \"lines\", \"type\": \"scatter\", \"uid\": \"646d5711-5489-486f-9881-60c5ffbc9dc8\", \"x\": [0.002379553633286711, 0.36691356021196714, null], \"y\": [0.000277976240969626, -0.9257756227036371, null]}],\n",
       "                        {\"annotations\": [{\"ax\": 0, \"ay\": 20, \"showarrow\": false, \"text\": \"Next\", \"x\": 0.002379553633286711, \"xref\": \"x\", \"y\": 0.10027797624096964, \"yref\": \"y\"}, {\"ax\": 0, \"ay\": 20, \"showarrow\": false, \"text\": \"Inter\", \"x\": -0.7233238974865035, \"xref\": \"x\", \"y\": -0.5552919250353954, \"yref\": \"y\"}, {\"ax\": 0, \"ay\": 20, \"showarrow\": false, \"text\": \"Nubank\", \"x\": 0.918469056874296, \"xref\": \"x\", \"y\": 0.28353202468560507, \"yref\": \"y\"}, {\"ax\": 0, \"ay\": 20, \"showarrow\": false, \"text\": \"BB\", \"x\": 0.1920043103355607, \"xref\": \"x\", \"y\": 1.0470344824172326, \"yref\": \"y\"}, {\"ax\": 0, \"ay\": 20, \"showarrow\": false, \"text\": \"Itau\", \"x\": 0.018681144028584562, \"xref\": \"x\", \"y\": 0.1005186297593368, \"yref\": \"y\"}, {\"ax\": 0, \"ay\": 20, \"showarrow\": false, \"text\": \"XP Investimentos\", \"x\": -0.7530837135843512, \"xref\": \"x\", \"y\": 0.6916828285477485, \"yref\": \"y\"}, {\"ax\": 0, \"ay\": 20, \"showarrow\": false, \"text\": \"CEF\", \"x\": 0.5639007614816403, \"xref\": \"x\", \"y\": -0.006947336614719246, \"yref\": \"y\"}, {\"ax\": 0, \"ay\": 20, \"showarrow\": false, \"text\": \"Santander\", \"x\": 0.36691356021196714, \"xref\": \"x\", \"y\": -0.8257756227036371, \"yref\": \"y\"}, {\"ax\": 0, \"ay\": 20, \"showarrow\": false, \"text\": \"Bradesco\", \"x\": -0.5859407754944809, \"xref\": \"x\", \"y\": 0.0649689427028585, \"yref\": \"y\"}], \"hovermode\": \"closest\", \"margin\": {\"b\": 20, \"l\": 5, \"r\": 5, \"t\": 40}, \"showlegend\": false, \"title\": {\"font\": {\"size\": 16}, \"text\": \" \"}, \"xaxis\": {\"showgrid\": false, \"showticklabels\": false, \"zeroline\": false}, \"yaxis\": {\"showgrid\": false, \"showticklabels\": false, \"zeroline\": false}},\n",
       "                        {\"showLink\": false, \"linkText\": \"Export to plot.ly\", \"plotlyServerURL\": \"https://plot.ly\", \"responsive\": true}\n",
       "                    ).then(function(){\n",
       "                            \n",
       "var gd = document.getElementById('3c6cce56-8421-4328-8566-b5561ca0d712');\n",
       "var x = new MutationObserver(function (mutations, observer) {{\n",
       "        var display = window.getComputedStyle(gd).display;\n",
       "        if (!display || display === 'none') {{\n",
       "            console.log([gd, 'removed!']);\n",
       "            Plotly.purge(gd);\n",
       "            observer.disconnect();\n",
       "        }}\n",
       "}});\n",
       "\n",
       "// Listen for the removal of the full notebook cells\n",
       "var notebookContainer = gd.closest('#notebook-container');\n",
       "if (notebookContainer) {{\n",
       "    x.observe(notebookContainer, {childList: true});\n",
       "}}\n",
       "\n",
       "// Listen for the clearing of the current output cell\n",
       "var outputEl = gd.closest('.output');\n",
       "if (outputEl) {{\n",
       "    x.observe(outputEl, {childList: true});\n",
       "}}\n",
       "\n",
       "                        })\n",
       "                };\n",
       "                });\n",
       "            </script>\n",
       "        </div>"
      ]
     },
     "metadata": {},
     "output_type": "display_data"
    }
   ],
   "source": [
    "mygraph.plot()"
   ]
  },
  {
   "cell_type": "code",
   "execution_count": 27,
   "metadata": {},
   "outputs": [
    {
     "data": {
      "application/vnd.plotly.v1+json": {
       "config": {
        "linkText": "Export to plot.ly",
        "plotlyServerURL": "https://plot.ly",
        "responsive": true,
        "showLink": false
       },
       "data": [
        {
         "hoverinfo": "text",
         "marker": {
          "cmax": null,
          "cmin": null,
          "color": [
           "rgb(0, 0, 6)",
           "rgb(35, 17, 82)",
           "rgb(251, 252, 191)",
           "rgb(20, 13, 53)",
           "rgb(0, 0, 3)",
           "rgb(0, 0, 3)",
           "rgb(251, 247, 185)",
           "rgb(0, 0, 3)",
           "rgb(21, 14, 56)"
          ],
          "colorbar": {
           "thickness": 15,
           "title": {
            "side": "right",
            "text": "coco"
           },
           "xanchor": "left"
          },
          "colorscale": "Viridis",
          "line": {
           "width": 2
          },
          "reversescale": true,
          "showscale": false,
          "size": [
           1,
           1,
           1,
           1,
           1,
           1,
           1,
           1,
           1
          ],
          "sizemin": 5,
          "sizemode": "area",
          "sizeref": 5
         },
         "mode": "markers",
         "text": [
          "clientes: 2000<br>lucro: 234<br>",
          "clientes: 35000<br>lucro: 1111<br>",
          "clientes: 234243<br>lucro: 2234<br>",
          "clientes: 23443<br>lucro: 2344<br>",
          "clientes: 2<br>lucro: 444<br>",
          "clientes: 1<br>lucro: 222<br>",
          "clientes: 232323<br>lucro: 1<br>",
          "clientes: 666<br>lucro: 1<br>",
          "clientes: 24433<br>lucro: 9877<br>"
         ],
         "type": "scatter",
         "uid": "65a27765-3890-4b13-a0a8-109ae45b0653",
         "x": [
          -0.0016270951280270235,
          -0.45335434330160385,
          0.02443071621506477,
          -0.30049348567197853,
          0.8643283664290496,
          0.7896530138852978,
          -0.9896402306511097,
          -0.07263872805802842,
          0.13934178628133398
         ],
         "y": [
          4.6020720926461076e-05,
          -0.2020830765919299,
          -0.4803516297881562,
          0.7305784841841246,
          0.29946233169786235,
          -0.06962672569124827,
          -0.1631145877968728,
          0.8850891832652946,
          -1
         ]
        },
        {
         "hoverinfo": "none",
         "line": {
          "color": "black",
          "width": 0.5
         },
         "mode": "lines",
         "type": "scatter",
         "uid": "3b606aff-f6dd-425d-b482-7a7721b4770c",
         "x": [
          -0.0016270951280270235,
          0.13934178628133398,
          null
         ],
         "y": [
          4.6020720926461076e-05,
          -1,
          null
         ]
        },
        {
         "hoverinfo": "none",
         "line": {
          "color": "black",
          "width": 0.5
         },
         "mode": "lines",
         "type": "scatter",
         "uid": "7f236db3-d8ad-44d6-9f5a-3e6b1a722a05",
         "x": [
          -0.0016270951280270235,
          -0.45335434330160385,
          null
         ],
         "y": [
          4.6020720926461076e-05,
          -0.2020830765919299,
          null
         ]
        },
        {
         "hoverinfo": "none",
         "line": {
          "color": "black",
          "width": 0.5
         },
         "mode": "lines",
         "type": "scatter",
         "uid": "843ee5b2-10ac-4f42-b331-8047866efefe",
         "x": [
          -0.0016270951280270235,
          0.02443071621506477,
          null
         ],
         "y": [
          4.6020720926461076e-05,
          -0.4803516297881562,
          null
         ]
        },
        {
         "hoverinfo": "none",
         "line": {
          "color": "black",
          "width": 0.5
         },
         "mode": "lines",
         "type": "scatter",
         "uid": "c25804f9-04d4-405c-ad61-e7c294a8b770",
         "x": [
          -0.0016270951280270235,
          -0.30049348567197853,
          null
         ],
         "y": [
          4.6020720926461076e-05,
          0.7305784841841246,
          null
         ]
        },
        {
         "hoverinfo": "none",
         "line": {
          "color": "black",
          "width": 0.5
         },
         "mode": "lines",
         "type": "scatter",
         "uid": "397283c5-e2e4-4a0e-a950-64a0b5ef4721",
         "x": [
          -0.0016270951280270235,
          0.8643283664290496,
          null
         ],
         "y": [
          4.6020720926461076e-05,
          0.29946233169786235,
          null
         ]
        },
        {
         "hoverinfo": "none",
         "line": {
          "color": "black",
          "width": 0.5
         },
         "mode": "lines",
         "type": "scatter",
         "uid": "6914131d-83d6-4e7a-8b1e-b7925f282009",
         "x": [
          -0.0016270951280270235,
          0.7896530138852978,
          null
         ],
         "y": [
          4.6020720926461076e-05,
          -0.06962672569124827,
          null
         ]
        },
        {
         "hoverinfo": "none",
         "line": {
          "color": "black",
          "width": 0.5
         },
         "mode": "lines",
         "type": "scatter",
         "uid": "cccb16ca-27ca-49c3-b4d9-1fb9d023716b",
         "x": [
          -0.0016270951280270235,
          -0.9896402306511097,
          null
         ],
         "y": [
          4.6020720926461076e-05,
          -0.1631145877968728,
          null
         ]
        },
        {
         "hoverinfo": "none",
         "line": {
          "color": "black",
          "width": 0.5
         },
         "mode": "lines",
         "type": "scatter",
         "uid": "e8895e9c-06d5-427b-a997-f1ecc7b68c95",
         "x": [
          -0.0016270951280270235,
          -0.07263872805802842,
          null
         ],
         "y": [
          4.6020720926461076e-05,
          0.8850891832652946,
          null
         ]
        }
       ],
       "layout": {
        "annotations": [
         {
          "ax": 0,
          "ay": 20,
          "showarrow": false,
          "text": "Next",
          "x": -0.0016270951280270235,
          "xref": "x",
          "y": 0.10004602072092647,
          "yref": "y"
         },
         {
          "ax": 0,
          "ay": 20,
          "showarrow": false,
          "text": "Inter",
          "x": -0.45335434330160385,
          "xref": "x",
          "y": -0.10208307659192989,
          "yref": "y"
         },
         {
          "ax": 0,
          "ay": 20,
          "showarrow": false,
          "text": "Nubank",
          "x": 0.02443071621506477,
          "xref": "x",
          "y": -0.3803516297881562,
          "yref": "y"
         },
         {
          "ax": 0,
          "ay": 20,
          "showarrow": false,
          "text": "BB",
          "x": -0.30049348567197853,
          "xref": "x",
          "y": 0.8305784841841246,
          "yref": "y"
         },
         {
          "ax": 0,
          "ay": 20,
          "showarrow": false,
          "text": "Itau",
          "x": 0.8643283664290496,
          "xref": "x",
          "y": 0.3994623316978624,
          "yref": "y"
         },
         {
          "ax": 0,
          "ay": 20,
          "showarrow": false,
          "text": "XP Investimentos",
          "x": 0.7896530138852978,
          "xref": "x",
          "y": 0.030373274308751738,
          "yref": "y"
         },
         {
          "ax": 0,
          "ay": 20,
          "showarrow": false,
          "text": "CEF",
          "x": -0.9896402306511097,
          "xref": "x",
          "y": -0.06311458779687279,
          "yref": "y"
         },
         {
          "ax": 0,
          "ay": 20,
          "showarrow": false,
          "text": "Santander",
          "x": -0.07263872805802842,
          "xref": "x",
          "y": 0.9850891832652946,
          "yref": "y"
         },
         {
          "ax": 0,
          "ay": 20,
          "showarrow": false,
          "text": "Bradesco",
          "x": 0.13934178628133398,
          "xref": "x",
          "y": -0.9,
          "yref": "y"
         }
        ],
        "hovermode": "closest",
        "margin": {
         "b": 20,
         "l": 5,
         "r": 5,
         "t": 40
        },
        "showlegend": false,
        "title": {
         "font": {
          "size": 16
         },
         "text": "coco"
        },
        "xaxis": {
         "showgrid": false,
         "showticklabels": false,
         "zeroline": false
        },
        "yaxis": {
         "showgrid": false,
         "showticklabels": false,
         "zeroline": false
        }
       }
      },
      "text/html": [
       "<div>\n",
       "        \n",
       "        \n",
       "            <div id=\"234ae1a2-8f43-4207-af25-6785db7d33cc\" class=\"plotly-graph-div\" style=\"height:525px; width:100%;\"></div>\n",
       "            <script type=\"text/javascript\">\n",
       "                require([\"plotly\"], function(Plotly) {\n",
       "                    window.PLOTLYENV=window.PLOTLYENV || {};\n",
       "                    window.PLOTLYENV.BASE_URL='https://plot.ly';\n",
       "                    \n",
       "                if (document.getElementById(\"234ae1a2-8f43-4207-af25-6785db7d33cc\")) {\n",
       "                    Plotly.newPlot(\n",
       "                        '234ae1a2-8f43-4207-af25-6785db7d33cc',\n",
       "                        [{\"hoverinfo\": \"text\", \"marker\": {\"cmax\": null, \"cmin\": null, \"color\": [\"rgb(0, 0, 6)\", \"rgb(35, 17, 82)\", \"rgb(251, 252, 191)\", \"rgb(20, 13, 53)\", \"rgb(0, 0, 3)\", \"rgb(0, 0, 3)\", \"rgb(251, 247, 185)\", \"rgb(0, 0, 3)\", \"rgb(21, 14, 56)\"], \"colorbar\": {\"thickness\": 15, \"title\": {\"side\": \"right\", \"text\": \"coco\"}, \"xanchor\": \"left\"}, \"colorscale\": \"Viridis\", \"line\": {\"width\": 2}, \"reversescale\": true, \"showscale\": false, \"size\": [1, 1, 1, 1, 1, 1, 1, 1, 1], \"sizemin\": 5, \"sizemode\": \"area\", \"sizeref\": 5}, \"mode\": \"markers\", \"text\": [\"clientes: 2000<br>lucro: 234<br>\", \"clientes: 35000<br>lucro: 1111<br>\", \"clientes: 234243<br>lucro: 2234<br>\", \"clientes: 23443<br>lucro: 2344<br>\", \"clientes: 2<br>lucro: 444<br>\", \"clientes: 1<br>lucro: 222<br>\", \"clientes: 232323<br>lucro: 1<br>\", \"clientes: 666<br>lucro: 1<br>\", \"clientes: 24433<br>lucro: 9877<br>\"], \"type\": \"scatter\", \"uid\": \"60e0e028-f602-41ff-8265-255d4adba58b\", \"x\": [-0.0016270951280270235, -0.45335434330160385, 0.02443071621506477, -0.30049348567197853, 0.8643283664290496, 0.7896530138852978, -0.9896402306511097, -0.07263872805802842, 0.13934178628133398], \"y\": [4.6020720926461076e-05, -0.2020830765919299, -0.4803516297881562, 0.7305784841841246, 0.29946233169786235, -0.06962672569124827, -0.1631145877968728, 0.8850891832652946, -1.0]}, {\"hoverinfo\": \"none\", \"line\": {\"color\": \"black\", \"width\": 0.5}, \"mode\": \"lines\", \"type\": \"scatter\", \"uid\": \"1643d3b5-f59d-4fab-b3ca-6cbc991fdc58\", \"x\": [-0.0016270951280270235, 0.13934178628133398, null], \"y\": [4.6020720926461076e-05, -1.0, null]}, {\"hoverinfo\": \"none\", \"line\": {\"color\": \"black\", \"width\": 0.5}, \"mode\": \"lines\", \"type\": \"scatter\", \"uid\": \"ad9e4896-5ad9-401d-bffa-2a13aecb2cba\", \"x\": [-0.0016270951280270235, -0.45335434330160385, null], \"y\": [4.6020720926461076e-05, -0.2020830765919299, null]}, {\"hoverinfo\": \"none\", \"line\": {\"color\": \"black\", \"width\": 0.5}, \"mode\": \"lines\", \"type\": \"scatter\", \"uid\": \"7827e236-d6f2-43c7-b0c8-f044bb5fe3cb\", \"x\": [-0.0016270951280270235, 0.02443071621506477, null], \"y\": [4.6020720926461076e-05, -0.4803516297881562, null]}, {\"hoverinfo\": \"none\", \"line\": {\"color\": \"black\", \"width\": 0.5}, \"mode\": \"lines\", \"type\": \"scatter\", \"uid\": \"495502ee-7697-4b0c-9864-af54aa8ef4b8\", \"x\": [-0.0016270951280270235, -0.30049348567197853, null], \"y\": [4.6020720926461076e-05, 0.7305784841841246, null]}, {\"hoverinfo\": \"none\", \"line\": {\"color\": \"black\", \"width\": 0.5}, \"mode\": \"lines\", \"type\": \"scatter\", \"uid\": \"1cc146ab-da4d-4d63-a065-0f9f18beb5b9\", \"x\": [-0.0016270951280270235, 0.8643283664290496, null], \"y\": [4.6020720926461076e-05, 0.29946233169786235, null]}, {\"hoverinfo\": \"none\", \"line\": {\"color\": \"black\", \"width\": 0.5}, \"mode\": \"lines\", \"type\": \"scatter\", \"uid\": \"8de4195f-dd0f-42a7-b86b-eebe59b4e59c\", \"x\": [-0.0016270951280270235, 0.7896530138852978, null], \"y\": [4.6020720926461076e-05, -0.06962672569124827, null]}, {\"hoverinfo\": \"none\", \"line\": {\"color\": \"black\", \"width\": 0.5}, \"mode\": \"lines\", \"type\": \"scatter\", \"uid\": \"fabce681-3b23-4ec3-a380-28bf8e018111\", \"x\": [-0.0016270951280270235, -0.9896402306511097, null], \"y\": [4.6020720926461076e-05, -0.1631145877968728, null]}, {\"hoverinfo\": \"none\", \"line\": {\"color\": \"black\", \"width\": 0.5}, \"mode\": \"lines\", \"type\": \"scatter\", \"uid\": \"72cb0bc2-7f56-4d72-8eb4-dabcf25e3983\", \"x\": [-0.0016270951280270235, -0.07263872805802842, null], \"y\": [4.6020720926461076e-05, 0.8850891832652946, null]}],\n",
       "                        {\"annotations\": [{\"ax\": 0, \"ay\": 20, \"showarrow\": false, \"text\": \"Next\", \"x\": -0.0016270951280270235, \"xref\": \"x\", \"y\": 0.10004602072092647, \"yref\": \"y\"}, {\"ax\": 0, \"ay\": 20, \"showarrow\": false, \"text\": \"Inter\", \"x\": -0.45335434330160385, \"xref\": \"x\", \"y\": -0.10208307659192989, \"yref\": \"y\"}, {\"ax\": 0, \"ay\": 20, \"showarrow\": false, \"text\": \"Nubank\", \"x\": 0.02443071621506477, \"xref\": \"x\", \"y\": -0.3803516297881562, \"yref\": \"y\"}, {\"ax\": 0, \"ay\": 20, \"showarrow\": false, \"text\": \"BB\", \"x\": -0.30049348567197853, \"xref\": \"x\", \"y\": 0.8305784841841246, \"yref\": \"y\"}, {\"ax\": 0, \"ay\": 20, \"showarrow\": false, \"text\": \"Itau\", \"x\": 0.8643283664290496, \"xref\": \"x\", \"y\": 0.3994623316978624, \"yref\": \"y\"}, {\"ax\": 0, \"ay\": 20, \"showarrow\": false, \"text\": \"XP Investimentos\", \"x\": 0.7896530138852978, \"xref\": \"x\", \"y\": 0.030373274308751738, \"yref\": \"y\"}, {\"ax\": 0, \"ay\": 20, \"showarrow\": false, \"text\": \"CEF\", \"x\": -0.9896402306511097, \"xref\": \"x\", \"y\": -0.06311458779687279, \"yref\": \"y\"}, {\"ax\": 0, \"ay\": 20, \"showarrow\": false, \"text\": \"Santander\", \"x\": -0.07263872805802842, \"xref\": \"x\", \"y\": 0.9850891832652946, \"yref\": \"y\"}, {\"ax\": 0, \"ay\": 20, \"showarrow\": false, \"text\": \"Bradesco\", \"x\": 0.13934178628133398, \"xref\": \"x\", \"y\": -0.9, \"yref\": \"y\"}], \"hovermode\": \"closest\", \"margin\": {\"b\": 20, \"l\": 5, \"r\": 5, \"t\": 40}, \"showlegend\": false, \"title\": {\"font\": {\"size\": 16}, \"text\": \"coco\"}, \"xaxis\": {\"showgrid\": false, \"showticklabels\": false, \"zeroline\": false}, \"yaxis\": {\"showgrid\": false, \"showticklabels\": false, \"zeroline\": false}},\n",
       "                        {\"showLink\": false, \"linkText\": \"Export to plot.ly\", \"plotlyServerURL\": \"https://plot.ly\", \"responsive\": true}\n",
       "                    ).then(function(){\n",
       "                            \n",
       "var gd = document.getElementById('234ae1a2-8f43-4207-af25-6785db7d33cc');\n",
       "var x = new MutationObserver(function (mutations, observer) {{\n",
       "        var display = window.getComputedStyle(gd).display;\n",
       "        if (!display || display === 'none') {{\n",
       "            console.log([gd, 'removed!']);\n",
       "            Plotly.purge(gd);\n",
       "            observer.disconnect();\n",
       "        }}\n",
       "}});\n",
       "\n",
       "// Listen for the removal of the full notebook cells\n",
       "var notebookContainer = gd.closest('#notebook-container');\n",
       "if (notebookContainer) {{\n",
       "    x.observe(notebookContainer, {childList: true});\n",
       "}}\n",
       "\n",
       "// Listen for the clearing of the current output cell\n",
       "var outputEl = gd.closest('.output');\n",
       "if (outputEl) {{\n",
       "    x.observe(outputEl, {childList: true});\n",
       "}}\n",
       "\n",
       "                        })\n",
       "                };\n",
       "                });\n",
       "            </script>\n",
       "        </div>"
      ]
     },
     "metadata": {},
     "output_type": "display_data"
    }
   ],
   "source": [
    "mygraph.plot(title='coco', node_color_col='clientes')"
   ]
  },
  {
   "cell_type": "code",
   "execution_count": 28,
   "metadata": {},
   "outputs": [
    {
     "data": {
      "application/vnd.plotly.v1+json": {
       "config": {
        "linkText": "Export to plot.ly",
        "plotlyServerURL": "https://plot.ly",
        "responsive": true,
        "showLink": false
       },
       "data": [
        {
         "hoverinfo": "text",
         "marker": {
          "cmax": 234243,
          "cmin": 1,
          "color": [
           "rgb(0, 0, 6)",
           "rgb(35, 17, 82)",
           "rgb(251, 252, 191)",
           "rgb(20, 13, 53)",
           "rgb(0, 0, 3)",
           "rgb(0, 0, 3)",
           "rgb(251, 247, 185)",
           "rgb(0, 0, 3)",
           "rgb(21, 14, 56)"
          ],
          "colorbar": {
           "thickness": 15,
           "title": {
            "side": "right",
            "text": "coco"
           },
           "xanchor": "left"
          },
          "colorscale": "Viridis",
          "line": {
           "width": 2
          },
          "reversescale": true,
          "showscale": false,
          "size": [
           2000,
           35000,
           234243,
           23443,
           2,
           1,
           232323,
           666,
           24433
          ],
          "sizemin": 5,
          "sizemode": "area",
          "sizeref": 187.3944
         },
         "mode": "markers",
         "text": [
          "clientes: 2000<br>lucro: 234<br>",
          "clientes: 35000<br>lucro: 1111<br>",
          "clientes: 234243<br>lucro: 2234<br>",
          "clientes: 23443<br>lucro: 2344<br>",
          "clientes: 2<br>lucro: 444<br>",
          "clientes: 1<br>lucro: 222<br>",
          "clientes: 232323<br>lucro: 1<br>",
          "clientes: 666<br>lucro: 1<br>",
          "clientes: 24433<br>lucro: 9877<br>"
         ],
         "type": "scatter",
         "uid": "4ac6e29b-3906-46f0-a315-13432203f39e",
         "x": [
          -0.0012508806434722338,
          0.34663244389616793,
          -0.3163561892400395,
          0.5110189899281536,
          -0.743954758294685,
          0.07878898721089096,
          -0.8424077680767388,
          -0.03247082478027738,
          1
         ],
         "y": [
          0.0007996219900684628,
          0.6570873191719004,
          -0.17920204528859995,
          -0.8710354156732306,
          -0.7041892096233852,
          0.8396711406398847,
          0.532972959111026,
          -0.4093769702155663,
          0.1332725998879041
         ]
        },
        {
         "hoverinfo": "none",
         "line": {
          "color": "black",
          "width": 0.5
         },
         "mode": "lines",
         "type": "scatter",
         "uid": "c9ec1fa8-e9d6-41b6-b2ea-1211e854ff45",
         "x": [
          -0.0012508806434722338,
          1,
          null
         ],
         "y": [
          0.0007996219900684628,
          0.1332725998879041,
          null
         ]
        },
        {
         "hoverinfo": "none",
         "line": {
          "color": "black",
          "width": 0.5
         },
         "mode": "lines",
         "type": "scatter",
         "uid": "ed0c9cd6-e6e7-465c-9705-c579173bf110",
         "x": [
          -0.0012508806434722338,
          0.34663244389616793,
          null
         ],
         "y": [
          0.0007996219900684628,
          0.6570873191719004,
          null
         ]
        },
        {
         "hoverinfo": "none",
         "line": {
          "color": "black",
          "width": 0.5
         },
         "mode": "lines",
         "type": "scatter",
         "uid": "7fc42c7d-340a-4548-b141-17569507c7db",
         "x": [
          -0.0012508806434722338,
          -0.3163561892400395,
          null
         ],
         "y": [
          0.0007996219900684628,
          -0.17920204528859995,
          null
         ]
        },
        {
         "hoverinfo": "none",
         "line": {
          "color": "black",
          "width": 0.5
         },
         "mode": "lines",
         "type": "scatter",
         "uid": "17f1fc42-3163-4d96-af6f-bd202538d6fe",
         "x": [
          -0.0012508806434722338,
          0.5110189899281536,
          null
         ],
         "y": [
          0.0007996219900684628,
          -0.8710354156732306,
          null
         ]
        },
        {
         "hoverinfo": "none",
         "line": {
          "color": "black",
          "width": 0.5
         },
         "mode": "lines",
         "type": "scatter",
         "uid": "3f4907e1-d8f8-453f-8e82-41aa4cd82f8a",
         "x": [
          -0.0012508806434722338,
          -0.743954758294685,
          null
         ],
         "y": [
          0.0007996219900684628,
          -0.7041892096233852,
          null
         ]
        },
        {
         "hoverinfo": "none",
         "line": {
          "color": "black",
          "width": 0.5
         },
         "mode": "lines",
         "type": "scatter",
         "uid": "49dfafa5-294e-4eb2-9c74-3d0401bdd726",
         "x": [
          -0.0012508806434722338,
          0.07878898721089096,
          null
         ],
         "y": [
          0.0007996219900684628,
          0.8396711406398847,
          null
         ]
        },
        {
         "hoverinfo": "none",
         "line": {
          "color": "black",
          "width": 0.5
         },
         "mode": "lines",
         "type": "scatter",
         "uid": "7239393f-f732-4642-aa52-7e366794c209",
         "x": [
          -0.0012508806434722338,
          -0.8424077680767388,
          null
         ],
         "y": [
          0.0007996219900684628,
          0.532972959111026,
          null
         ]
        },
        {
         "hoverinfo": "none",
         "line": {
          "color": "black",
          "width": 0.5
         },
         "mode": "lines",
         "type": "scatter",
         "uid": "99b4333d-f091-425b-a9ce-61f8c4dc162c",
         "x": [
          -0.0012508806434722338,
          -0.03247082478027738,
          null
         ],
         "y": [
          0.0007996219900684628,
          -0.4093769702155663,
          null
         ]
        }
       ],
       "layout": {
        "annotations": [
         {
          "ax": 0,
          "ay": 20,
          "showarrow": false,
          "text": "Next",
          "x": -0.0012508806434722338,
          "xref": "x",
          "y": 0.10079962199006846,
          "yref": "y"
         },
         {
          "ax": 0,
          "ay": 20,
          "showarrow": false,
          "text": "Inter",
          "x": 0.34663244389616793,
          "xref": "x",
          "y": 0.7570873191719004,
          "yref": "y"
         },
         {
          "ax": 0,
          "ay": 20,
          "showarrow": false,
          "text": "Nubank",
          "x": -0.3163561892400395,
          "xref": "x",
          "y": -0.07920204528859995,
          "yref": "y"
         },
         {
          "ax": 0,
          "ay": 20,
          "showarrow": false,
          "text": "BB",
          "x": 0.5110189899281536,
          "xref": "x",
          "y": -0.7710354156732306,
          "yref": "y"
         },
         {
          "ax": 0,
          "ay": 20,
          "showarrow": false,
          "text": "Itau",
          "x": -0.743954758294685,
          "xref": "x",
          "y": -0.6041892096233852,
          "yref": "y"
         },
         {
          "ax": 0,
          "ay": 20,
          "showarrow": false,
          "text": "XP Investimentos",
          "x": 0.07878898721089096,
          "xref": "x",
          "y": 0.9396711406398847,
          "yref": "y"
         },
         {
          "ax": 0,
          "ay": 20,
          "showarrow": false,
          "text": "CEF",
          "x": -0.8424077680767388,
          "xref": "x",
          "y": 0.632972959111026,
          "yref": "y"
         },
         {
          "ax": 0,
          "ay": 20,
          "showarrow": false,
          "text": "Santander",
          "x": -0.03247082478027738,
          "xref": "x",
          "y": -0.3093769702155663,
          "yref": "y"
         },
         {
          "ax": 0,
          "ay": 20,
          "showarrow": false,
          "text": "Bradesco",
          "x": 1,
          "xref": "x",
          "y": 0.2332725998879041,
          "yref": "y"
         }
        ],
        "hovermode": "closest",
        "margin": {
         "b": 20,
         "l": 5,
         "r": 5,
         "t": 40
        },
        "showlegend": false,
        "title": {
         "font": {
          "size": 16
         },
         "text": "coco"
        },
        "xaxis": {
         "showgrid": false,
         "showticklabels": false,
         "zeroline": false
        },
        "yaxis": {
         "showgrid": false,
         "showticklabels": false,
         "zeroline": false
        }
       }
      },
      "text/html": [
       "<div>\n",
       "        \n",
       "        \n",
       "            <div id=\"ff81288b-1a7b-4dee-839b-25b16d522ca5\" class=\"plotly-graph-div\" style=\"height:525px; width:100%;\"></div>\n",
       "            <script type=\"text/javascript\">\n",
       "                require([\"plotly\"], function(Plotly) {\n",
       "                    window.PLOTLYENV=window.PLOTLYENV || {};\n",
       "                    window.PLOTLYENV.BASE_URL='https://plot.ly';\n",
       "                    \n",
       "                if (document.getElementById(\"ff81288b-1a7b-4dee-839b-25b16d522ca5\")) {\n",
       "                    Plotly.newPlot(\n",
       "                        'ff81288b-1a7b-4dee-839b-25b16d522ca5',\n",
       "                        [{\"hoverinfo\": \"text\", \"marker\": {\"cmax\": 234243, \"cmin\": 1, \"color\": [\"rgb(0, 0, 6)\", \"rgb(35, 17, 82)\", \"rgb(251, 252, 191)\", \"rgb(20, 13, 53)\", \"rgb(0, 0, 3)\", \"rgb(0, 0, 3)\", \"rgb(251, 247, 185)\", \"rgb(0, 0, 3)\", \"rgb(21, 14, 56)\"], \"colorbar\": {\"thickness\": 15, \"title\": {\"side\": \"right\", \"text\": \"coco\"}, \"xanchor\": \"left\"}, \"colorscale\": \"Viridis\", \"line\": {\"width\": 2}, \"reversescale\": true, \"showscale\": false, \"size\": [2000, 35000, 234243, 23443, 2, 1, 232323, 666, 24433], \"sizemin\": 5, \"sizemode\": \"area\", \"sizeref\": 187.3944}, \"mode\": \"markers\", \"text\": [\"clientes: 2000<br>lucro: 234<br>\", \"clientes: 35000<br>lucro: 1111<br>\", \"clientes: 234243<br>lucro: 2234<br>\", \"clientes: 23443<br>lucro: 2344<br>\", \"clientes: 2<br>lucro: 444<br>\", \"clientes: 1<br>lucro: 222<br>\", \"clientes: 232323<br>lucro: 1<br>\", \"clientes: 666<br>lucro: 1<br>\", \"clientes: 24433<br>lucro: 9877<br>\"], \"type\": \"scatter\", \"uid\": \"af511cb5-4334-4d72-b70f-0b02d18fbbb7\", \"x\": [-0.0012508806434722338, 0.34663244389616793, -0.3163561892400395, 0.5110189899281536, -0.743954758294685, 0.07878898721089096, -0.8424077680767388, -0.03247082478027738, 1.0], \"y\": [0.0007996219900684628, 0.6570873191719004, -0.17920204528859995, -0.8710354156732306, -0.7041892096233852, 0.8396711406398847, 0.532972959111026, -0.4093769702155663, 0.1332725998879041]}, {\"hoverinfo\": \"none\", \"line\": {\"color\": \"black\", \"width\": 0.5}, \"mode\": \"lines\", \"type\": \"scatter\", \"uid\": \"4873872c-da68-460d-a940-5bd3106c8bbf\", \"x\": [-0.0012508806434722338, 1.0, null], \"y\": [0.0007996219900684628, 0.1332725998879041, null]}, {\"hoverinfo\": \"none\", \"line\": {\"color\": \"black\", \"width\": 0.5}, \"mode\": \"lines\", \"type\": \"scatter\", \"uid\": \"01b241ab-60c1-4165-96ff-b1875735718e\", \"x\": [-0.0012508806434722338, 0.34663244389616793, null], \"y\": [0.0007996219900684628, 0.6570873191719004, null]}, {\"hoverinfo\": \"none\", \"line\": {\"color\": \"black\", \"width\": 0.5}, \"mode\": \"lines\", \"type\": \"scatter\", \"uid\": \"69afe04c-a2ae-446b-9217-c2672025482c\", \"x\": [-0.0012508806434722338, -0.3163561892400395, null], \"y\": [0.0007996219900684628, -0.17920204528859995, null]}, {\"hoverinfo\": \"none\", \"line\": {\"color\": \"black\", \"width\": 0.5}, \"mode\": \"lines\", \"type\": \"scatter\", \"uid\": \"2e2072cd-554e-4b51-b866-fd6f38fae44b\", \"x\": [-0.0012508806434722338, 0.5110189899281536, null], \"y\": [0.0007996219900684628, -0.8710354156732306, null]}, {\"hoverinfo\": \"none\", \"line\": {\"color\": \"black\", \"width\": 0.5}, \"mode\": \"lines\", \"type\": \"scatter\", \"uid\": \"02476012-9e3c-46b5-9c09-20da3bce67c0\", \"x\": [-0.0012508806434722338, -0.743954758294685, null], \"y\": [0.0007996219900684628, -0.7041892096233852, null]}, {\"hoverinfo\": \"none\", \"line\": {\"color\": \"black\", \"width\": 0.5}, \"mode\": \"lines\", \"type\": \"scatter\", \"uid\": \"27a340b4-199f-4845-b7aa-c16769c4a077\", \"x\": [-0.0012508806434722338, 0.07878898721089096, null], \"y\": [0.0007996219900684628, 0.8396711406398847, null]}, {\"hoverinfo\": \"none\", \"line\": {\"color\": \"black\", \"width\": 0.5}, \"mode\": \"lines\", \"type\": \"scatter\", \"uid\": \"c6bdb2ca-89ae-4d85-8989-b5b4f6e91ab7\", \"x\": [-0.0012508806434722338, -0.8424077680767388, null], \"y\": [0.0007996219900684628, 0.532972959111026, null]}, {\"hoverinfo\": \"none\", \"line\": {\"color\": \"black\", \"width\": 0.5}, \"mode\": \"lines\", \"type\": \"scatter\", \"uid\": \"98d958ec-28cc-4fb9-8c4e-6d5296e603ca\", \"x\": [-0.0012508806434722338, -0.03247082478027738, null], \"y\": [0.0007996219900684628, -0.4093769702155663, null]}],\n",
       "                        {\"annotations\": [{\"ax\": 0, \"ay\": 20, \"showarrow\": false, \"text\": \"Next\", \"x\": -0.0012508806434722338, \"xref\": \"x\", \"y\": 0.10079962199006846, \"yref\": \"y\"}, {\"ax\": 0, \"ay\": 20, \"showarrow\": false, \"text\": \"Inter\", \"x\": 0.34663244389616793, \"xref\": \"x\", \"y\": 0.7570873191719004, \"yref\": \"y\"}, {\"ax\": 0, \"ay\": 20, \"showarrow\": false, \"text\": \"Nubank\", \"x\": -0.3163561892400395, \"xref\": \"x\", \"y\": -0.07920204528859995, \"yref\": \"y\"}, {\"ax\": 0, \"ay\": 20, \"showarrow\": false, \"text\": \"BB\", \"x\": 0.5110189899281536, \"xref\": \"x\", \"y\": -0.7710354156732306, \"yref\": \"y\"}, {\"ax\": 0, \"ay\": 20, \"showarrow\": false, \"text\": \"Itau\", \"x\": -0.743954758294685, \"xref\": \"x\", \"y\": -0.6041892096233852, \"yref\": \"y\"}, {\"ax\": 0, \"ay\": 20, \"showarrow\": false, \"text\": \"XP Investimentos\", \"x\": 0.07878898721089096, \"xref\": \"x\", \"y\": 0.9396711406398847, \"yref\": \"y\"}, {\"ax\": 0, \"ay\": 20, \"showarrow\": false, \"text\": \"CEF\", \"x\": -0.8424077680767388, \"xref\": \"x\", \"y\": 0.632972959111026, \"yref\": \"y\"}, {\"ax\": 0, \"ay\": 20, \"showarrow\": false, \"text\": \"Santander\", \"x\": -0.03247082478027738, \"xref\": \"x\", \"y\": -0.3093769702155663, \"yref\": \"y\"}, {\"ax\": 0, \"ay\": 20, \"showarrow\": false, \"text\": \"Bradesco\", \"x\": 1.0, \"xref\": \"x\", \"y\": 0.2332725998879041, \"yref\": \"y\"}], \"hovermode\": \"closest\", \"margin\": {\"b\": 20, \"l\": 5, \"r\": 5, \"t\": 40}, \"showlegend\": false, \"title\": {\"font\": {\"size\": 16}, \"text\": \"coco\"}, \"xaxis\": {\"showgrid\": false, \"showticklabels\": false, \"zeroline\": false}, \"yaxis\": {\"showgrid\": false, \"showticklabels\": false, \"zeroline\": false}},\n",
       "                        {\"showLink\": false, \"linkText\": \"Export to plot.ly\", \"plotlyServerURL\": \"https://plot.ly\", \"responsive\": true}\n",
       "                    ).then(function(){\n",
       "                            \n",
       "var gd = document.getElementById('ff81288b-1a7b-4dee-839b-25b16d522ca5');\n",
       "var x = new MutationObserver(function (mutations, observer) {{\n",
       "        var display = window.getComputedStyle(gd).display;\n",
       "        if (!display || display === 'none') {{\n",
       "            console.log([gd, 'removed!']);\n",
       "            Plotly.purge(gd);\n",
       "            observer.disconnect();\n",
       "        }}\n",
       "}});\n",
       "\n",
       "// Listen for the removal of the full notebook cells\n",
       "var notebookContainer = gd.closest('#notebook-container');\n",
       "if (notebookContainer) {{\n",
       "    x.observe(notebookContainer, {childList: true});\n",
       "}}\n",
       "\n",
       "// Listen for the clearing of the current output cell\n",
       "var outputEl = gd.closest('.output');\n",
       "if (outputEl) {{\n",
       "    x.observe(outputEl, {childList: true});\n",
       "}}\n",
       "\n",
       "                        })\n",
       "                };\n",
       "                });\n",
       "            </script>\n",
       "        </div>"
      ]
     },
     "metadata": {},
     "output_type": "display_data"
    }
   ],
   "source": [
    "mygraph.plot(title='coco', node_size_col='clientes', node_color_col='clientes')"
   ]
  },
  {
   "cell_type": "code",
   "execution_count": 29,
   "metadata": {},
   "outputs": [
    {
     "data": {
      "application/vnd.plotly.v1+json": {
       "config": {
        "linkText": "Export to plot.ly",
        "plotlyServerURL": "https://plot.ly",
        "responsive": true,
        "showLink": false
       },
       "data": [
        {
         "hoverinfo": "text",
         "marker": {
          "cmax": 234243,
          "cmin": 1,
          "color": [
           "rgb(0, 0, 6)",
           "rgb(35, 17, 82)",
           "rgb(251, 252, 191)",
           "rgb(20, 13, 53)",
           "rgb(0, 0, 3)",
           "rgb(0, 0, 3)",
           "rgb(251, 247, 185)",
           "rgb(0, 0, 3)",
           "rgb(21, 14, 56)"
          ],
          "colorbar": {
           "thickness": 15,
           "title": {
            "side": "right",
            "text": "coco"
           },
           "xanchor": "left"
          },
          "colorscale": "Viridis",
          "line": {
           "width": 2
          },
          "reversescale": true,
          "showscale": false,
          "size": [
           2000,
           35000,
           234243,
           23443,
           2,
           1,
           232323,
           666,
           24433
          ],
          "sizemin": 5,
          "sizemode": "area",
          "sizeref": 187.3944
         },
         "mode": "markers",
         "text": [
          "clientes: 2000<br>",
          "clientes: 35000<br>",
          "clientes: 234243<br>",
          "clientes: 23443<br>",
          "clientes: 2<br>",
          "clientes: 1<br>",
          "clientes: 232323<br>",
          "clientes: 666<br>",
          "clientes: 24433<br>"
         ],
         "type": "scatter",
         "uid": "0d4137e1-734f-4e2d-a6fa-1b5aa5008dc9",
         "x": [
          0.003527263798234696,
          0.13552642502529552,
          -0.42918572173066216,
          -0.7704047766562385,
          0.567200633300681,
          -0.830903518744526,
          0.8314322767278435,
          -0.16604681268863947,
          0.6588542309680115
         ],
         "y": [
          0.0005652030569123518,
          0.35125500715350544,
          0.2648461630681055,
          0.720855413638913,
          0.8953222949680485,
          -0.5086184005797539,
          -0.15041719228982275,
          -0.9470807258606292,
          -0.6267277631552797
         ]
        },
        {
         "hoverinfo": "none",
         "line": {
          "color": "black",
          "width": 0.5
         },
         "mode": "lines",
         "type": "scatter",
         "uid": "d7c8cf4f-3586-4bf9-9511-cd090c342739",
         "x": [
          0.003527263798234696,
          0.6588542309680115,
          null
         ],
         "y": [
          0.0005652030569123518,
          -0.6267277631552797,
          null
         ]
        },
        {
         "hoverinfo": "none",
         "line": {
          "color": "black",
          "width": 0.5
         },
         "mode": "lines",
         "type": "scatter",
         "uid": "ed25f809-8fab-4293-9b5c-6cabd8c4a3bd",
         "x": [
          0.003527263798234696,
          0.13552642502529552,
          null
         ],
         "y": [
          0.0005652030569123518,
          0.35125500715350544,
          null
         ]
        },
        {
         "hoverinfo": "none",
         "line": {
          "color": "black",
          "width": 0.5
         },
         "mode": "lines",
         "type": "scatter",
         "uid": "e1cd33fb-15d2-4aab-9e81-3f2cb313b7c3",
         "x": [
          0.003527263798234696,
          -0.42918572173066216,
          null
         ],
         "y": [
          0.0005652030569123518,
          0.2648461630681055,
          null
         ]
        },
        {
         "hoverinfo": "none",
         "line": {
          "color": "black",
          "width": 0.5
         },
         "mode": "lines",
         "type": "scatter",
         "uid": "41ed8cd3-05ca-46f4-b7ed-28132c846f01",
         "x": [
          0.003527263798234696,
          -0.7704047766562385,
          null
         ],
         "y": [
          0.0005652030569123518,
          0.720855413638913,
          null
         ]
        },
        {
         "hoverinfo": "none",
         "line": {
          "color": "black",
          "width": 0.5
         },
         "mode": "lines",
         "type": "scatter",
         "uid": "dd5222ab-2dd5-49fd-80a0-a1914cae822e",
         "x": [
          0.003527263798234696,
          0.567200633300681,
          null
         ],
         "y": [
          0.0005652030569123518,
          0.8953222949680485,
          null
         ]
        },
        {
         "hoverinfo": "none",
         "line": {
          "color": "black",
          "width": 0.5
         },
         "mode": "lines",
         "type": "scatter",
         "uid": "3164180e-202c-4cfc-aae9-d3f92441bb7d",
         "x": [
          0.003527263798234696,
          -0.830903518744526,
          null
         ],
         "y": [
          0.0005652030569123518,
          -0.5086184005797539,
          null
         ]
        },
        {
         "hoverinfo": "none",
         "line": {
          "color": "black",
          "width": 0.5
         },
         "mode": "lines",
         "type": "scatter",
         "uid": "06b4c340-1f6b-4cc5-bc76-38f4a0a0efca",
         "x": [
          0.003527263798234696,
          0.8314322767278435,
          null
         ],
         "y": [
          0.0005652030569123518,
          -0.15041719228982275,
          null
         ]
        },
        {
         "hoverinfo": "none",
         "line": {
          "color": "black",
          "width": 0.5
         },
         "mode": "lines",
         "type": "scatter",
         "uid": "a00fe3f8-0bbf-4200-9e8d-188d1e78af43",
         "x": [
          0.003527263798234696,
          -0.16604681268863947,
          null
         ],
         "y": [
          0.0005652030569123518,
          -0.9470807258606292,
          null
         ]
        }
       ],
       "layout": {
        "annotations": [
         {
          "ax": 0,
          "ay": 20,
          "showarrow": false,
          "text": "Next",
          "x": 0.003527263798234696,
          "xref": "x",
          "y": 0.10056520305691236,
          "yref": "y"
         },
         {
          "ax": 0,
          "ay": 20,
          "showarrow": false,
          "text": "Inter",
          "x": 0.13552642502529552,
          "xref": "x",
          "y": 0.4512550071535054,
          "yref": "y"
         },
         {
          "ax": 0,
          "ay": 20,
          "showarrow": false,
          "text": "Nubank",
          "x": -0.42918572173066216,
          "xref": "x",
          "y": 0.36484616306810547,
          "yref": "y"
         },
         {
          "ax": 0,
          "ay": 20,
          "showarrow": false,
          "text": "BB",
          "x": -0.7704047766562385,
          "xref": "x",
          "y": 0.820855413638913,
          "yref": "y"
         },
         {
          "ax": 0,
          "ay": 20,
          "showarrow": false,
          "text": "Itau",
          "x": 0.567200633300681,
          "xref": "x",
          "y": 0.9953222949680485,
          "yref": "y"
         },
         {
          "ax": 0,
          "ay": 20,
          "showarrow": false,
          "text": "XP Investimentos",
          "x": -0.830903518744526,
          "xref": "x",
          "y": -0.40861840057975396,
          "yref": "y"
         },
         {
          "ax": 0,
          "ay": 20,
          "showarrow": false,
          "text": "CEF",
          "x": 0.8314322767278435,
          "xref": "x",
          "y": -0.05041719228982275,
          "yref": "y"
         },
         {
          "ax": 0,
          "ay": 20,
          "showarrow": false,
          "text": "Santander",
          "x": -0.16604681268863947,
          "xref": "x",
          "y": -0.8470807258606292,
          "yref": "y"
         },
         {
          "ax": 0,
          "ay": 20,
          "showarrow": false,
          "text": "Bradesco",
          "x": 0.6588542309680115,
          "xref": "x",
          "y": -0.5267277631552797,
          "yref": "y"
         }
        ],
        "hovermode": "closest",
        "margin": {
         "b": 20,
         "l": 5,
         "r": 5,
         "t": 40
        },
        "showlegend": false,
        "title": {
         "font": {
          "size": 16
         },
         "text": "coco"
        },
        "xaxis": {
         "showgrid": false,
         "showticklabels": false,
         "zeroline": false
        },
        "yaxis": {
         "showgrid": false,
         "showticklabels": false,
         "zeroline": false
        }
       }
      },
      "text/html": [
       "<div>\n",
       "        \n",
       "        \n",
       "            <div id=\"275cfac6-f8ae-4d7f-9992-caed4926d2eb\" class=\"plotly-graph-div\" style=\"height:525px; width:100%;\"></div>\n",
       "            <script type=\"text/javascript\">\n",
       "                require([\"plotly\"], function(Plotly) {\n",
       "                    window.PLOTLYENV=window.PLOTLYENV || {};\n",
       "                    window.PLOTLYENV.BASE_URL='https://plot.ly';\n",
       "                    \n",
       "                if (document.getElementById(\"275cfac6-f8ae-4d7f-9992-caed4926d2eb\")) {\n",
       "                    Plotly.newPlot(\n",
       "                        '275cfac6-f8ae-4d7f-9992-caed4926d2eb',\n",
       "                        [{\"hoverinfo\": \"text\", \"marker\": {\"cmax\": 234243, \"cmin\": 1, \"color\": [\"rgb(0, 0, 6)\", \"rgb(35, 17, 82)\", \"rgb(251, 252, 191)\", \"rgb(20, 13, 53)\", \"rgb(0, 0, 3)\", \"rgb(0, 0, 3)\", \"rgb(251, 247, 185)\", \"rgb(0, 0, 3)\", \"rgb(21, 14, 56)\"], \"colorbar\": {\"thickness\": 15, \"title\": {\"side\": \"right\", \"text\": \"coco\"}, \"xanchor\": \"left\"}, \"colorscale\": \"Viridis\", \"line\": {\"width\": 2}, \"reversescale\": true, \"showscale\": false, \"size\": [2000, 35000, 234243, 23443, 2, 1, 232323, 666, 24433], \"sizemin\": 5, \"sizemode\": \"area\", \"sizeref\": 187.3944}, \"mode\": \"markers\", \"text\": [\"clientes: 2000<br>\", \"clientes: 35000<br>\", \"clientes: 234243<br>\", \"clientes: 23443<br>\", \"clientes: 2<br>\", \"clientes: 1<br>\", \"clientes: 232323<br>\", \"clientes: 666<br>\", \"clientes: 24433<br>\"], \"type\": \"scatter\", \"uid\": \"a4d779b7-2539-4c2f-b7aa-f02b6680ffc9\", \"x\": [0.003527263798234696, 0.13552642502529552, -0.42918572173066216, -0.7704047766562385, 0.567200633300681, -0.830903518744526, 0.8314322767278435, -0.16604681268863947, 0.6588542309680115], \"y\": [0.0005652030569123518, 0.35125500715350544, 0.2648461630681055, 0.720855413638913, 0.8953222949680485, -0.5086184005797539, -0.15041719228982275, -0.9470807258606292, -0.6267277631552797]}, {\"hoverinfo\": \"none\", \"line\": {\"color\": \"black\", \"width\": 0.5}, \"mode\": \"lines\", \"type\": \"scatter\", \"uid\": \"93c15ca6-8332-495f-ad95-c068a80e176b\", \"x\": [0.003527263798234696, 0.6588542309680115, null], \"y\": [0.0005652030569123518, -0.6267277631552797, null]}, {\"hoverinfo\": \"none\", \"line\": {\"color\": \"black\", \"width\": 0.5}, \"mode\": \"lines\", \"type\": \"scatter\", \"uid\": \"a30d25a7-ee2e-4b32-9c5c-9b6f1cec960a\", \"x\": [0.003527263798234696, 0.13552642502529552, null], \"y\": [0.0005652030569123518, 0.35125500715350544, null]}, {\"hoverinfo\": \"none\", \"line\": {\"color\": \"black\", \"width\": 0.5}, \"mode\": \"lines\", \"type\": \"scatter\", \"uid\": \"ee853cf8-581b-427b-83dc-680c199d7899\", \"x\": [0.003527263798234696, -0.42918572173066216, null], \"y\": [0.0005652030569123518, 0.2648461630681055, null]}, {\"hoverinfo\": \"none\", \"line\": {\"color\": \"black\", \"width\": 0.5}, \"mode\": \"lines\", \"type\": \"scatter\", \"uid\": \"6cbc471e-c297-41b0-a223-b2dd9249fd2a\", \"x\": [0.003527263798234696, -0.7704047766562385, null], \"y\": [0.0005652030569123518, 0.720855413638913, null]}, {\"hoverinfo\": \"none\", \"line\": {\"color\": \"black\", \"width\": 0.5}, \"mode\": \"lines\", \"type\": \"scatter\", \"uid\": \"9a3c5a17-768b-4b5d-9366-d67c0f817eec\", \"x\": [0.003527263798234696, 0.567200633300681, null], \"y\": [0.0005652030569123518, 0.8953222949680485, null]}, {\"hoverinfo\": \"none\", \"line\": {\"color\": \"black\", \"width\": 0.5}, \"mode\": \"lines\", \"type\": \"scatter\", \"uid\": \"5d33ec47-559e-451b-96d5-49d579e4234f\", \"x\": [0.003527263798234696, -0.830903518744526, null], \"y\": [0.0005652030569123518, -0.5086184005797539, null]}, {\"hoverinfo\": \"none\", \"line\": {\"color\": \"black\", \"width\": 0.5}, \"mode\": \"lines\", \"type\": \"scatter\", \"uid\": \"06e640f5-46e8-4f03-9fe0-5706e20f9a9d\", \"x\": [0.003527263798234696, 0.8314322767278435, null], \"y\": [0.0005652030569123518, -0.15041719228982275, null]}, {\"hoverinfo\": \"none\", \"line\": {\"color\": \"black\", \"width\": 0.5}, \"mode\": \"lines\", \"type\": \"scatter\", \"uid\": \"a144b9f3-2ccd-4707-b7a4-959429926cee\", \"x\": [0.003527263798234696, -0.16604681268863947, null], \"y\": [0.0005652030569123518, -0.9470807258606292, null]}],\n",
       "                        {\"annotations\": [{\"ax\": 0, \"ay\": 20, \"showarrow\": false, \"text\": \"Next\", \"x\": 0.003527263798234696, \"xref\": \"x\", \"y\": 0.10056520305691236, \"yref\": \"y\"}, {\"ax\": 0, \"ay\": 20, \"showarrow\": false, \"text\": \"Inter\", \"x\": 0.13552642502529552, \"xref\": \"x\", \"y\": 0.4512550071535054, \"yref\": \"y\"}, {\"ax\": 0, \"ay\": 20, \"showarrow\": false, \"text\": \"Nubank\", \"x\": -0.42918572173066216, \"xref\": \"x\", \"y\": 0.36484616306810547, \"yref\": \"y\"}, {\"ax\": 0, \"ay\": 20, \"showarrow\": false, \"text\": \"BB\", \"x\": -0.7704047766562385, \"xref\": \"x\", \"y\": 0.820855413638913, \"yref\": \"y\"}, {\"ax\": 0, \"ay\": 20, \"showarrow\": false, \"text\": \"Itau\", \"x\": 0.567200633300681, \"xref\": \"x\", \"y\": 0.9953222949680485, \"yref\": \"y\"}, {\"ax\": 0, \"ay\": 20, \"showarrow\": false, \"text\": \"XP Investimentos\", \"x\": -0.830903518744526, \"xref\": \"x\", \"y\": -0.40861840057975396, \"yref\": \"y\"}, {\"ax\": 0, \"ay\": 20, \"showarrow\": false, \"text\": \"CEF\", \"x\": 0.8314322767278435, \"xref\": \"x\", \"y\": -0.05041719228982275, \"yref\": \"y\"}, {\"ax\": 0, \"ay\": 20, \"showarrow\": false, \"text\": \"Santander\", \"x\": -0.16604681268863947, \"xref\": \"x\", \"y\": -0.8470807258606292, \"yref\": \"y\"}, {\"ax\": 0, \"ay\": 20, \"showarrow\": false, \"text\": \"Bradesco\", \"x\": 0.6588542309680115, \"xref\": \"x\", \"y\": -0.5267277631552797, \"yref\": \"y\"}], \"hovermode\": \"closest\", \"margin\": {\"b\": 20, \"l\": 5, \"r\": 5, \"t\": 40}, \"showlegend\": false, \"title\": {\"font\": {\"size\": 16}, \"text\": \"coco\"}, \"xaxis\": {\"showgrid\": false, \"showticklabels\": false, \"zeroline\": false}, \"yaxis\": {\"showgrid\": false, \"showticklabels\": false, \"zeroline\": false}},\n",
       "                        {\"showLink\": false, \"linkText\": \"Export to plot.ly\", \"plotlyServerURL\": \"https://plot.ly\", \"responsive\": true}\n",
       "                    ).then(function(){\n",
       "                            \n",
       "var gd = document.getElementById('275cfac6-f8ae-4d7f-9992-caed4926d2eb');\n",
       "var x = new MutationObserver(function (mutations, observer) {{\n",
       "        var display = window.getComputedStyle(gd).display;\n",
       "        if (!display || display === 'none') {{\n",
       "            console.log([gd, 'removed!']);\n",
       "            Plotly.purge(gd);\n",
       "            observer.disconnect();\n",
       "        }}\n",
       "}});\n",
       "\n",
       "// Listen for the removal of the full notebook cells\n",
       "var notebookContainer = gd.closest('#notebook-container');\n",
       "if (notebookContainer) {{\n",
       "    x.observe(notebookContainer, {childList: true});\n",
       "}}\n",
       "\n",
       "// Listen for the clearing of the current output cell\n",
       "var outputEl = gd.closest('.output');\n",
       "if (outputEl) {{\n",
       "    x.observe(outputEl, {childList: true});\n",
       "}}\n",
       "\n",
       "                        })\n",
       "                };\n",
       "                });\n",
       "            </script>\n",
       "        </div>"
      ]
     },
     "metadata": {},
     "output_type": "display_data"
    }
   ],
   "source": [
    "mygraph.plot(title='coco', node_size_col='clientes', node_color_col='clientes', hover_col='clientes')"
   ]
  },
  {
   "cell_type": "code",
   "execution_count": 30,
   "metadata": {},
   "outputs": [
    {
     "data": {
      "application/vnd.plotly.v1+json": {
       "config": {
        "linkText": "Export to plot.ly",
        "plotlyServerURL": "https://plot.ly",
        "responsive": true,
        "showLink": false
       },
       "data": [
        {
         "hoverinfo": "text",
         "marker": {
          "cmax": 234243,
          "cmin": 1,
          "color": [
           "rgb(0, 0, 6)",
           "rgb(35, 17, 82)",
           "rgb(251, 252, 191)",
           "rgb(20, 13, 53)",
           "rgb(0, 0, 3)",
           "rgb(0, 0, 3)",
           "rgb(251, 247, 185)",
           "rgb(0, 0, 3)",
           "rgb(21, 14, 56)"
          ],
          "colorbar": {
           "thickness": 15,
           "title": {
            "side": "right",
            "text": "coco"
           },
           "xanchor": "left"
          },
          "colorscale": "Viridis",
          "line": {
           "width": 2
          },
          "reversescale": true,
          "showscale": false,
          "size": [
           2000,
           35000,
           234243,
           23443,
           2,
           1,
           232323,
           666,
           24433
          ],
          "sizemin": 5,
          "sizemode": "area",
          "sizeref": 187.3944
         },
         "mode": "markers",
         "text": [
          "clientes: 2000<br>",
          "clientes: 35000<br>",
          "clientes: 234243<br>",
          "clientes: 23443<br>",
          "clientes: 2<br>",
          "clientes: 1<br>",
          "clientes: 232323<br>",
          "clientes: 666<br>",
          "clientes: 24433<br>"
         ],
         "type": "scatter",
         "uid": "186d21e4-a73f-4f8d-bd0a-28bcc0b4f1be",
         "x": [
          0.0014011961564290621,
          0.17529494155967137,
          0.4679204533823378,
          0.03984080625299383,
          -0.924187226906324,
          0.14494728236664509,
          -0.716856695562804,
          -0.18836075724894952,
          1
         ],
         "y": [
          -0.0009947568538702534,
          0.01855431973979287,
          0.8890052553909856,
          -0.9374812676767769,
          -0.3910997289713577,
          -0.5841269841569056,
          0.5986728148565704,
          0.5437271078542071,
          -0.13625676018264596
         ]
        },
        {
         "hoverinfo": "none",
         "line": {
          "color": "black",
          "width": 0.5
         },
         "mode": "lines",
         "type": "scatter",
         "uid": "c4d993b9-6dec-43c8-8557-60b5c06a043d",
         "x": [
          0.0014011961564290621,
          1,
          null
         ],
         "y": [
          -0.0009947568538702534,
          -0.13625676018264596,
          null
         ]
        },
        {
         "hoverinfo": "none",
         "line": {
          "color": "black",
          "width": 0.5
         },
         "mode": "lines",
         "type": "scatter",
         "uid": "9818907d-0e26-4ce3-ab9c-dcb50eaab7db",
         "x": [
          0.0014011961564290621,
          0.17529494155967137,
          null
         ],
         "y": [
          -0.0009947568538702534,
          0.01855431973979287,
          null
         ]
        },
        {
         "hoverinfo": "none",
         "line": {
          "color": "black",
          "width": 0.5
         },
         "mode": "lines",
         "type": "scatter",
         "uid": "9b17452c-18a9-405b-a5e5-08b2087562b3",
         "x": [
          0.0014011961564290621,
          0.4679204533823378,
          null
         ],
         "y": [
          -0.0009947568538702534,
          0.8890052553909856,
          null
         ]
        },
        {
         "hoverinfo": "none",
         "line": {
          "color": "black",
          "width": 0.5
         },
         "mode": "lines",
         "type": "scatter",
         "uid": "08185a1d-aa2a-423e-8d16-3f55a0e8b92e",
         "x": [
          0.0014011961564290621,
          0.03984080625299383,
          null
         ],
         "y": [
          -0.0009947568538702534,
          -0.9374812676767769,
          null
         ]
        },
        {
         "hoverinfo": "none",
         "line": {
          "color": "black",
          "width": 0.5
         },
         "mode": "lines",
         "type": "scatter",
         "uid": "6b23db10-3c75-4747-88a2-ff35709ee6c4",
         "x": [
          0.0014011961564290621,
          -0.924187226906324,
          null
         ],
         "y": [
          -0.0009947568538702534,
          -0.3910997289713577,
          null
         ]
        },
        {
         "hoverinfo": "none",
         "line": {
          "color": "black",
          "width": 0.5
         },
         "mode": "lines",
         "type": "scatter",
         "uid": "812e5619-abd0-4fd9-ad24-2b0928d1d7f7",
         "x": [
          0.0014011961564290621,
          0.14494728236664509,
          null
         ],
         "y": [
          -0.0009947568538702534,
          -0.5841269841569056,
          null
         ]
        },
        {
         "hoverinfo": "none",
         "line": {
          "color": "black",
          "width": 0.5
         },
         "mode": "lines",
         "type": "scatter",
         "uid": "d101b488-5944-4e5d-8a27-df33491559ea",
         "x": [
          0.0014011961564290621,
          -0.716856695562804,
          null
         ],
         "y": [
          -0.0009947568538702534,
          0.5986728148565704,
          null
         ]
        },
        {
         "hoverinfo": "none",
         "line": {
          "color": "black",
          "width": 0.5
         },
         "mode": "lines",
         "type": "scatter",
         "uid": "66b897b3-f06f-4bfb-8447-26d3b7dd383f",
         "x": [
          0.0014011961564290621,
          -0.18836075724894952,
          null
         ],
         "y": [
          -0.0009947568538702534,
          0.5437271078542071,
          null
         ]
        }
       ],
       "layout": {
        "annotations": [
         {
          "ax": 0,
          "ay": 20,
          "showarrow": false,
          "text": "Next",
          "x": 0.0014011961564290621,
          "xref": "x",
          "y": 0.09900524314612975,
          "yref": "y"
         },
         {
          "ax": 0,
          "ay": 20,
          "showarrow": false,
          "text": "Inter",
          "x": 0.17529494155967137,
          "xref": "x",
          "y": 0.11855431973979287,
          "yref": "y"
         },
         {
          "ax": 0,
          "ay": 20,
          "showarrow": false,
          "text": "Nubank",
          "x": 0.4679204533823378,
          "xref": "x",
          "y": 0.9890052553909856,
          "yref": "y"
         },
         {
          "ax": 0,
          "ay": 20,
          "showarrow": false,
          "text": "BB",
          "x": 0.03984080625299383,
          "xref": "x",
          "y": -0.8374812676767769,
          "yref": "y"
         },
         {
          "ax": 0,
          "ay": 20,
          "showarrow": false,
          "text": "Itau",
          "x": -0.924187226906324,
          "xref": "x",
          "y": -0.2910997289713577,
          "yref": "y"
         },
         {
          "ax": 0,
          "ay": 20,
          "showarrow": false,
          "text": "XP Investimentos",
          "x": 0.14494728236664509,
          "xref": "x",
          "y": -0.4841269841569056,
          "yref": "y"
         },
         {
          "ax": 0,
          "ay": 20,
          "showarrow": false,
          "text": "CEF",
          "x": -0.716856695562804,
          "xref": "x",
          "y": 0.6986728148565704,
          "yref": "y"
         },
         {
          "ax": 0,
          "ay": 20,
          "showarrow": false,
          "text": "Santander",
          "x": -0.18836075724894952,
          "xref": "x",
          "y": 0.6437271078542071,
          "yref": "y"
         },
         {
          "ax": 0,
          "ay": 20,
          "showarrow": false,
          "text": "Bradesco",
          "x": 1,
          "xref": "x",
          "y": -0.03625676018264595,
          "yref": "y"
         }
        ],
        "hovermode": "closest",
        "margin": {
         "b": 20,
         "l": 5,
         "r": 5,
         "t": 40
        },
        "showlegend": false,
        "title": {
         "font": {
          "size": 16
         },
         "text": "coco"
        },
        "xaxis": {
         "showgrid": false,
         "showticklabels": false,
         "zeroline": false
        },
        "yaxis": {
         "showgrid": false,
         "showticklabels": false,
         "zeroline": false
        }
       }
      },
      "text/html": [
       "<div>\n",
       "        \n",
       "        \n",
       "            <div id=\"107ca8b3-7d88-4746-b240-90c92e08bcdc\" class=\"plotly-graph-div\" style=\"height:525px; width:100%;\"></div>\n",
       "            <script type=\"text/javascript\">\n",
       "                require([\"plotly\"], function(Plotly) {\n",
       "                    window.PLOTLYENV=window.PLOTLYENV || {};\n",
       "                    window.PLOTLYENV.BASE_URL='https://plot.ly';\n",
       "                    \n",
       "                if (document.getElementById(\"107ca8b3-7d88-4746-b240-90c92e08bcdc\")) {\n",
       "                    Plotly.newPlot(\n",
       "                        '107ca8b3-7d88-4746-b240-90c92e08bcdc',\n",
       "                        [{\"hoverinfo\": \"text\", \"marker\": {\"cmax\": 234243, \"cmin\": 1, \"color\": [\"rgb(0, 0, 6)\", \"rgb(35, 17, 82)\", \"rgb(251, 252, 191)\", \"rgb(20, 13, 53)\", \"rgb(0, 0, 3)\", \"rgb(0, 0, 3)\", \"rgb(251, 247, 185)\", \"rgb(0, 0, 3)\", \"rgb(21, 14, 56)\"], \"colorbar\": {\"thickness\": 15, \"title\": {\"side\": \"right\", \"text\": \"coco\"}, \"xanchor\": \"left\"}, \"colorscale\": \"Viridis\", \"line\": {\"width\": 2}, \"reversescale\": true, \"showscale\": false, \"size\": [2000, 35000, 234243, 23443, 2, 1, 232323, 666, 24433], \"sizemin\": 5, \"sizemode\": \"area\", \"sizeref\": 187.3944}, \"mode\": \"markers\", \"text\": [\"clientes: 2000<br>\", \"clientes: 35000<br>\", \"clientes: 234243<br>\", \"clientes: 23443<br>\", \"clientes: 2<br>\", \"clientes: 1<br>\", \"clientes: 232323<br>\", \"clientes: 666<br>\", \"clientes: 24433<br>\"], \"type\": \"scatter\", \"uid\": \"b7f7180b-9339-4ac2-9583-ecaa0f4b93c0\", \"x\": [0.0014011961564290621, 0.17529494155967137, 0.4679204533823378, 0.03984080625299383, -0.924187226906324, 0.14494728236664509, -0.716856695562804, -0.18836075724894952, 1.0], \"y\": [-0.0009947568538702534, 0.01855431973979287, 0.8890052553909856, -0.9374812676767769, -0.3910997289713577, -0.5841269841569056, 0.5986728148565704, 0.5437271078542071, -0.13625676018264596]}, {\"hoverinfo\": \"none\", \"line\": {\"color\": \"black\", \"width\": 0.5}, \"mode\": \"lines\", \"type\": \"scatter\", \"uid\": \"7ac6599a-5fdf-46f0-9322-5bf296248c9e\", \"x\": [0.0014011961564290621, 1.0, null], \"y\": [-0.0009947568538702534, -0.13625676018264596, null]}, {\"hoverinfo\": \"none\", \"line\": {\"color\": \"black\", \"width\": 0.5}, \"mode\": \"lines\", \"type\": \"scatter\", \"uid\": \"fd25baac-cc39-4454-9e01-b851039d0c41\", \"x\": [0.0014011961564290621, 0.17529494155967137, null], \"y\": [-0.0009947568538702534, 0.01855431973979287, null]}, {\"hoverinfo\": \"none\", \"line\": {\"color\": \"black\", \"width\": 0.5}, \"mode\": \"lines\", \"type\": \"scatter\", \"uid\": \"6f66d074-daf2-4b27-885d-84f134c5e5fc\", \"x\": [0.0014011961564290621, 0.4679204533823378, null], \"y\": [-0.0009947568538702534, 0.8890052553909856, null]}, {\"hoverinfo\": \"none\", \"line\": {\"color\": \"black\", \"width\": 0.5}, \"mode\": \"lines\", \"type\": \"scatter\", \"uid\": \"798f2194-cb98-4768-9cf6-ee6d43aed3a4\", \"x\": [0.0014011961564290621, 0.03984080625299383, null], \"y\": [-0.0009947568538702534, -0.9374812676767769, null]}, {\"hoverinfo\": \"none\", \"line\": {\"color\": \"black\", \"width\": 0.5}, \"mode\": \"lines\", \"type\": \"scatter\", \"uid\": \"a630475d-b32a-454f-b35f-63a0ea427d7a\", \"x\": [0.0014011961564290621, -0.924187226906324, null], \"y\": [-0.0009947568538702534, -0.3910997289713577, null]}, {\"hoverinfo\": \"none\", \"line\": {\"color\": \"black\", \"width\": 0.5}, \"mode\": \"lines\", \"type\": \"scatter\", \"uid\": \"84e929ae-1890-47c9-b833-c46282671203\", \"x\": [0.0014011961564290621, 0.14494728236664509, null], \"y\": [-0.0009947568538702534, -0.5841269841569056, null]}, {\"hoverinfo\": \"none\", \"line\": {\"color\": \"black\", \"width\": 0.5}, \"mode\": \"lines\", \"type\": \"scatter\", \"uid\": \"25c343d2-baca-41f0-94a3-ccf2b3cc86d5\", \"x\": [0.0014011961564290621, -0.716856695562804, null], \"y\": [-0.0009947568538702534, 0.5986728148565704, null]}, {\"hoverinfo\": \"none\", \"line\": {\"color\": \"black\", \"width\": 0.5}, \"mode\": \"lines\", \"type\": \"scatter\", \"uid\": \"885a7929-ff59-4822-b712-193adef66c61\", \"x\": [0.0014011961564290621, -0.18836075724894952, null], \"y\": [-0.0009947568538702534, 0.5437271078542071, null]}],\n",
       "                        {\"annotations\": [{\"ax\": 0, \"ay\": 20, \"showarrow\": false, \"text\": \"Next\", \"x\": 0.0014011961564290621, \"xref\": \"x\", \"y\": 0.09900524314612975, \"yref\": \"y\"}, {\"ax\": 0, \"ay\": 20, \"showarrow\": false, \"text\": \"Inter\", \"x\": 0.17529494155967137, \"xref\": \"x\", \"y\": 0.11855431973979287, \"yref\": \"y\"}, {\"ax\": 0, \"ay\": 20, \"showarrow\": false, \"text\": \"Nubank\", \"x\": 0.4679204533823378, \"xref\": \"x\", \"y\": 0.9890052553909856, \"yref\": \"y\"}, {\"ax\": 0, \"ay\": 20, \"showarrow\": false, \"text\": \"BB\", \"x\": 0.03984080625299383, \"xref\": \"x\", \"y\": -0.8374812676767769, \"yref\": \"y\"}, {\"ax\": 0, \"ay\": 20, \"showarrow\": false, \"text\": \"Itau\", \"x\": -0.924187226906324, \"xref\": \"x\", \"y\": -0.2910997289713577, \"yref\": \"y\"}, {\"ax\": 0, \"ay\": 20, \"showarrow\": false, \"text\": \"XP Investimentos\", \"x\": 0.14494728236664509, \"xref\": \"x\", \"y\": -0.4841269841569056, \"yref\": \"y\"}, {\"ax\": 0, \"ay\": 20, \"showarrow\": false, \"text\": \"CEF\", \"x\": -0.716856695562804, \"xref\": \"x\", \"y\": 0.6986728148565704, \"yref\": \"y\"}, {\"ax\": 0, \"ay\": 20, \"showarrow\": false, \"text\": \"Santander\", \"x\": -0.18836075724894952, \"xref\": \"x\", \"y\": 0.6437271078542071, \"yref\": \"y\"}, {\"ax\": 0, \"ay\": 20, \"showarrow\": false, \"text\": \"Bradesco\", \"x\": 1.0, \"xref\": \"x\", \"y\": -0.03625676018264595, \"yref\": \"y\"}], \"hovermode\": \"closest\", \"margin\": {\"b\": 20, \"l\": 5, \"r\": 5, \"t\": 40}, \"showlegend\": false, \"title\": {\"font\": {\"size\": 16}, \"text\": \"coco\"}, \"xaxis\": {\"showgrid\": false, \"showticklabels\": false, \"zeroline\": false}, \"yaxis\": {\"showgrid\": false, \"showticklabels\": false, \"zeroline\": false}},\n",
       "                        {\"showLink\": false, \"linkText\": \"Export to plot.ly\", \"plotlyServerURL\": \"https://plot.ly\", \"responsive\": true}\n",
       "                    ).then(function(){\n",
       "                            \n",
       "var gd = document.getElementById('107ca8b3-7d88-4746-b240-90c92e08bcdc');\n",
       "var x = new MutationObserver(function (mutations, observer) {{\n",
       "        var display = window.getComputedStyle(gd).display;\n",
       "        if (!display || display === 'none') {{\n",
       "            console.log([gd, 'removed!']);\n",
       "            Plotly.purge(gd);\n",
       "            observer.disconnect();\n",
       "        }}\n",
       "}});\n",
       "\n",
       "// Listen for the removal of the full notebook cells\n",
       "var notebookContainer = gd.closest('#notebook-container');\n",
       "if (notebookContainer) {{\n",
       "    x.observe(notebookContainer, {childList: true});\n",
       "}}\n",
       "\n",
       "// Listen for the clearing of the current output cell\n",
       "var outputEl = gd.closest('.output');\n",
       "if (outputEl) {{\n",
       "    x.observe(outputEl, {childList: true});\n",
       "}}\n",
       "\n",
       "                        })\n",
       "                };\n",
       "                });\n",
       "            </script>\n",
       "        </div>"
      ]
     },
     "metadata": {},
     "output_type": "display_data"
    }
   ],
   "source": [
    "mygraph.plot(title='coco', node_size_col='clientes', node_color_col='clientes', hover_col=['clientes','keke'])"
   ]
  },
  {
   "cell_type": "code",
   "execution_count": 31,
   "metadata": {},
   "outputs": [
    {
     "data": {
      "application/vnd.plotly.v1+json": {
       "config": {
        "linkText": "Export to plot.ly",
        "plotlyServerURL": "https://plot.ly",
        "responsive": true,
        "showLink": false
       },
       "data": [
        {
         "hoverinfo": "text",
         "marker": {
          "cmax": 234243,
          "cmin": 1,
          "color": [
           "rgb(0, 0, 6)",
           "rgb(35, 17, 82)",
           "rgb(251, 252, 191)",
           "rgb(20, 13, 53)",
           "rgb(0, 0, 3)",
           "rgb(0, 0, 3)",
           "rgb(251, 247, 185)",
           "rgb(0, 0, 3)",
           "rgb(21, 14, 56)"
          ],
          "colorbar": {
           "thickness": 15,
           "title": {
            "side": "right",
            "text": "coco"
           },
           "xanchor": "left"
          },
          "colorscale": "Viridis",
          "line": {
           "width": 2
          },
          "reversescale": true,
          "showscale": false,
          "size": [
           2000,
           35000,
           234243,
           23443,
           2,
           1,
           232323,
           666,
           24433
          ],
          "sizemin": 5,
          "sizemode": "area",
          "sizeref": 187.3944
         },
         "mode": "markers",
         "text": [
          "clientes: 2000<br>lucro: 234<br>",
          "clientes: 35000<br>lucro: 1111<br>",
          "clientes: 234243<br>lucro: 2234<br>",
          "clientes: 23443<br>lucro: 2344<br>",
          "clientes: 2<br>lucro: 444<br>",
          "clientes: 1<br>lucro: 222<br>",
          "clientes: 232323<br>lucro: 1<br>",
          "clientes: 666<br>lucro: 1<br>",
          "clientes: 24433<br>lucro: 9877<br>"
         ],
         "type": "scatter",
         "uid": "fe49129e-fcc2-48f6-871b-744396a5a877",
         "x": [
          -0.0023806689427784073,
          -0.9500342805988289,
          0.007074832200660074,
          0.016484886502772113,
          0.9534212845360158,
          -0.6046405008134306,
          -0.05319758794867038,
          -0.014521040531492344,
          0.6477930755957526
         ],
         "y": [
          0.0025114454541572875,
          -0.005158246407851083,
          -0.2522179109604423,
          -0.9999999999999999,
          -0.0022355499963047634,
          -0.2633772493155245,
          0.8035953894001123,
          0.8735357583496434,
          -0.1566536365237906
         ]
        },
        {
         "hoverinfo": "none",
         "line": {
          "color": "rgb(251, 252, 191)",
          "width": 0.5
         },
         "mode": "lines",
         "type": "scatter",
         "uid": "fbe16f09-b1e2-4063-8c3e-47e4d4313725",
         "x": [
          -0.0023806689427784073,
          0.6477930755957526,
          null
         ],
         "y": [
          0.0025114454541572875,
          -0.1566536365237906,
          null
         ]
        },
        {
         "hoverinfo": "none",
         "line": {
          "color": "rgb(30, 16, 73)",
          "width": 0.5
         },
         "mode": "lines",
         "type": "scatter",
         "uid": "e2c436d7-e50d-45f7-a4fb-76e4ee962648",
         "x": [
          -0.0023806689427784073,
          -0.9500342805988289,
          null
         ],
         "y": [
          0.0025114454541572875,
          -0.005158246407851083,
          null
         ]
        },
        {
         "hoverinfo": "none",
         "line": {
          "color": "rgb(172, 51, 123)",
          "width": 0.5
         },
         "mode": "lines",
         "type": "scatter",
         "uid": "c1d4c76a-4005-4779-a7d4-c55fbf867a72",
         "x": [
          -0.0023806689427784073,
          0.007074832200660074,
          null
         ],
         "y": [
          0.0025114454541572875,
          -0.2522179109604423,
          null
         ]
        },
        {
         "hoverinfo": "none",
         "line": {
          "color": "rgb(82, 18, 124)",
          "width": 0.5
         },
         "mode": "lines",
         "type": "scatter",
         "uid": "c9be85ee-260c-483a-bc01-fb799e05460a",
         "x": [
          -0.0023806689427784073,
          0.016484886502772113,
          null
         ],
         "y": [
          0.0025114454541572875,
          -0.9999999999999999,
          null
         ]
        },
        {
         "hoverinfo": "none",
         "line": {
          "color": "rgb(0, 0, 4)",
          "width": 0.5
         },
         "mode": "lines",
         "type": "scatter",
         "uid": "fe9dabe5-347e-4fa2-9f06-1227da9074e9",
         "x": [
          -0.0023806689427784073,
          0.9534212845360158,
          null
         ],
         "y": [
          0.0025114454541572875,
          -0.0022355499963047634,
          null
         ]
        },
        {
         "hoverinfo": "none",
         "line": {
          "color": "rgb(0, 0, 3)",
          "width": 0.5
         },
         "mode": "lines",
         "type": "scatter",
         "uid": "2b41e5a7-10ec-4e31-86ea-b21af55dcc8f",
         "x": [
          -0.0023806689427784073,
          -0.6046405008134306,
          null
         ],
         "y": [
          0.0025114454541572875,
          -0.2633772493155245,
          null
         ]
        },
        {
         "hoverinfo": "none",
         "line": {
          "color": "rgb(16, 12, 47)",
          "width": 0.5
         },
         "mode": "lines",
         "type": "scatter",
         "uid": "6f449c25-5124-4473-b6c8-3735bc74f287",
         "x": [
          -0.0023806689427784073,
          -0.05319758794867038,
          null
         ],
         "y": [
          0.0025114454541572875,
          0.8035953894001123,
          null
         ]
        },
        {
         "hoverinfo": "none",
         "line": {
          "color": "rgb(1, 1, 11)",
          "width": 0.5
         },
         "mode": "lines",
         "type": "scatter",
         "uid": "e78476b0-ab07-4ee4-9f73-31d086783198",
         "x": [
          -0.0023806689427784073,
          -0.014521040531492344,
          null
         ],
         "y": [
          0.0025114454541572875,
          0.8735357583496434,
          null
         ]
        }
       ],
       "layout": {
        "annotations": [
         {
          "ax": 0,
          "ay": 20,
          "showarrow": false,
          "text": "Next",
          "x": -0.0023806689427784073,
          "xref": "x",
          "y": 0.10251144545415729,
          "yref": "y"
         },
         {
          "ax": 0,
          "ay": 20,
          "showarrow": false,
          "text": "Inter",
          "x": -0.9500342805988289,
          "xref": "x",
          "y": 0.09484175359214893,
          "yref": "y"
         },
         {
          "ax": 0,
          "ay": 20,
          "showarrow": false,
          "text": "Nubank",
          "x": 0.007074832200660074,
          "xref": "x",
          "y": -0.15221791096044232,
          "yref": "y"
         },
         {
          "ax": 0,
          "ay": 20,
          "showarrow": false,
          "text": "BB",
          "x": 0.016484886502772113,
          "xref": "x",
          "y": -0.8999999999999999,
          "yref": "y"
         },
         {
          "ax": 0,
          "ay": 20,
          "showarrow": false,
          "text": "Itau",
          "x": 0.9534212845360158,
          "xref": "x",
          "y": 0.09776445000369524,
          "yref": "y"
         },
         {
          "ax": 0,
          "ay": 20,
          "showarrow": false,
          "text": "XP Investimentos",
          "x": -0.6046405008134306,
          "xref": "x",
          "y": -0.16337724931552447,
          "yref": "y"
         },
         {
          "ax": 0,
          "ay": 20,
          "showarrow": false,
          "text": "CEF",
          "x": -0.05319758794867038,
          "xref": "x",
          "y": 0.9035953894001123,
          "yref": "y"
         },
         {
          "ax": 0,
          "ay": 20,
          "showarrow": false,
          "text": "Santander",
          "x": -0.014521040531492344,
          "xref": "x",
          "y": 0.9735357583496433,
          "yref": "y"
         },
         {
          "ax": 0,
          "ay": 20,
          "showarrow": false,
          "text": "Bradesco",
          "x": 0.6477930755957526,
          "xref": "x",
          "y": -0.0566536365237906,
          "yref": "y"
         }
        ],
        "hovermode": "closest",
        "margin": {
         "b": 20,
         "l": 5,
         "r": 5,
         "t": 40
        },
        "showlegend": false,
        "title": {
         "font": {
          "size": 16
         },
         "text": "coco"
        },
        "xaxis": {
         "showgrid": false,
         "showticklabels": false,
         "zeroline": false
        },
        "yaxis": {
         "showgrid": false,
         "showticklabels": false,
         "zeroline": false
        }
       }
      },
      "text/html": [
       "<div>\n",
       "        \n",
       "        \n",
       "            <div id=\"73c78922-c5a8-4c90-bc3a-d2e13b33029d\" class=\"plotly-graph-div\" style=\"height:525px; width:100%;\"></div>\n",
       "            <script type=\"text/javascript\">\n",
       "                require([\"plotly\"], function(Plotly) {\n",
       "                    window.PLOTLYENV=window.PLOTLYENV || {};\n",
       "                    window.PLOTLYENV.BASE_URL='https://plot.ly';\n",
       "                    \n",
       "                if (document.getElementById(\"73c78922-c5a8-4c90-bc3a-d2e13b33029d\")) {\n",
       "                    Plotly.newPlot(\n",
       "                        '73c78922-c5a8-4c90-bc3a-d2e13b33029d',\n",
       "                        [{\"hoverinfo\": \"text\", \"marker\": {\"cmax\": 234243, \"cmin\": 1, \"color\": [\"rgb(0, 0, 6)\", \"rgb(35, 17, 82)\", \"rgb(251, 252, 191)\", \"rgb(20, 13, 53)\", \"rgb(0, 0, 3)\", \"rgb(0, 0, 3)\", \"rgb(251, 247, 185)\", \"rgb(0, 0, 3)\", \"rgb(21, 14, 56)\"], \"colorbar\": {\"thickness\": 15, \"title\": {\"side\": \"right\", \"text\": \"coco\"}, \"xanchor\": \"left\"}, \"colorscale\": \"Viridis\", \"line\": {\"width\": 2}, \"reversescale\": true, \"showscale\": false, \"size\": [2000, 35000, 234243, 23443, 2, 1, 232323, 666, 24433], \"sizemin\": 5, \"sizemode\": \"area\", \"sizeref\": 187.3944}, \"mode\": \"markers\", \"text\": [\"clientes: 2000<br>lucro: 234<br>\", \"clientes: 35000<br>lucro: 1111<br>\", \"clientes: 234243<br>lucro: 2234<br>\", \"clientes: 23443<br>lucro: 2344<br>\", \"clientes: 2<br>lucro: 444<br>\", \"clientes: 1<br>lucro: 222<br>\", \"clientes: 232323<br>lucro: 1<br>\", \"clientes: 666<br>lucro: 1<br>\", \"clientes: 24433<br>lucro: 9877<br>\"], \"type\": \"scatter\", \"uid\": \"bec01647-84b4-4891-a282-f29b019723c3\", \"x\": [-0.0023806689427784073, -0.9500342805988289, 0.007074832200660074, 0.016484886502772113, 0.9534212845360158, -0.6046405008134306, -0.05319758794867038, -0.014521040531492344, 0.6477930755957526], \"y\": [0.0025114454541572875, -0.005158246407851083, -0.2522179109604423, -0.9999999999999999, -0.0022355499963047634, -0.2633772493155245, 0.8035953894001123, 0.8735357583496434, -0.1566536365237906]}, {\"hoverinfo\": \"none\", \"line\": {\"color\": \"rgb(251, 252, 191)\", \"width\": 0.5}, \"mode\": \"lines\", \"type\": \"scatter\", \"uid\": \"e5ce2473-cdee-4f95-a549-3db9a9607530\", \"x\": [-0.0023806689427784073, 0.6477930755957526, null], \"y\": [0.0025114454541572875, -0.1566536365237906, null]}, {\"hoverinfo\": \"none\", \"line\": {\"color\": \"rgb(30, 16, 73)\", \"width\": 0.5}, \"mode\": \"lines\", \"type\": \"scatter\", \"uid\": \"4e10e62f-14ee-4b5b-b97e-7b848dd8426f\", \"x\": [-0.0023806689427784073, -0.9500342805988289, null], \"y\": [0.0025114454541572875, -0.005158246407851083, null]}, {\"hoverinfo\": \"none\", \"line\": {\"color\": \"rgb(172, 51, 123)\", \"width\": 0.5}, \"mode\": \"lines\", \"type\": \"scatter\", \"uid\": \"96b2c708-8113-4c38-bc6a-1144c9740a74\", \"x\": [-0.0023806689427784073, 0.007074832200660074, null], \"y\": [0.0025114454541572875, -0.2522179109604423, null]}, {\"hoverinfo\": \"none\", \"line\": {\"color\": \"rgb(82, 18, 124)\", \"width\": 0.5}, \"mode\": \"lines\", \"type\": \"scatter\", \"uid\": \"a6db4d54-041c-41ea-af83-9e34aa113a13\", \"x\": [-0.0023806689427784073, 0.016484886502772113, null], \"y\": [0.0025114454541572875, -0.9999999999999999, null]}, {\"hoverinfo\": \"none\", \"line\": {\"color\": \"rgb(0, 0, 4)\", \"width\": 0.5}, \"mode\": \"lines\", \"type\": \"scatter\", \"uid\": \"4f9dc021-ea2b-452f-9afd-0806841a4548\", \"x\": [-0.0023806689427784073, 0.9534212845360158, null], \"y\": [0.0025114454541572875, -0.0022355499963047634, null]}, {\"hoverinfo\": \"none\", \"line\": {\"color\": \"rgb(0, 0, 3)\", \"width\": 0.5}, \"mode\": \"lines\", \"type\": \"scatter\", \"uid\": \"1a59c82f-f6a3-43d1-a2d6-e492fcb1644c\", \"x\": [-0.0023806689427784073, -0.6046405008134306, null], \"y\": [0.0025114454541572875, -0.2633772493155245, null]}, {\"hoverinfo\": \"none\", \"line\": {\"color\": \"rgb(16, 12, 47)\", \"width\": 0.5}, \"mode\": \"lines\", \"type\": \"scatter\", \"uid\": \"fb91b5fe-319f-4ae6-8ee7-2d4df6d3cfa5\", \"x\": [-0.0023806689427784073, -0.05319758794867038, null], \"y\": [0.0025114454541572875, 0.8035953894001123, null]}, {\"hoverinfo\": \"none\", \"line\": {\"color\": \"rgb(1, 1, 11)\", \"width\": 0.5}, \"mode\": \"lines\", \"type\": \"scatter\", \"uid\": \"7a1ed176-84f0-46dc-9f61-28ad824e9eaa\", \"x\": [-0.0023806689427784073, -0.014521040531492344, null], \"y\": [0.0025114454541572875, 0.8735357583496434, null]}],\n",
       "                        {\"annotations\": [{\"ax\": 0, \"ay\": 20, \"showarrow\": false, \"text\": \"Next\", \"x\": -0.0023806689427784073, \"xref\": \"x\", \"y\": 0.10251144545415729, \"yref\": \"y\"}, {\"ax\": 0, \"ay\": 20, \"showarrow\": false, \"text\": \"Inter\", \"x\": -0.9500342805988289, \"xref\": \"x\", \"y\": 0.09484175359214893, \"yref\": \"y\"}, {\"ax\": 0, \"ay\": 20, \"showarrow\": false, \"text\": \"Nubank\", \"x\": 0.007074832200660074, \"xref\": \"x\", \"y\": -0.15221791096044232, \"yref\": \"y\"}, {\"ax\": 0, \"ay\": 20, \"showarrow\": false, \"text\": \"BB\", \"x\": 0.016484886502772113, \"xref\": \"x\", \"y\": -0.8999999999999999, \"yref\": \"y\"}, {\"ax\": 0, \"ay\": 20, \"showarrow\": false, \"text\": \"Itau\", \"x\": 0.9534212845360158, \"xref\": \"x\", \"y\": 0.09776445000369524, \"yref\": \"y\"}, {\"ax\": 0, \"ay\": 20, \"showarrow\": false, \"text\": \"XP Investimentos\", \"x\": -0.6046405008134306, \"xref\": \"x\", \"y\": -0.16337724931552447, \"yref\": \"y\"}, {\"ax\": 0, \"ay\": 20, \"showarrow\": false, \"text\": \"CEF\", \"x\": -0.05319758794867038, \"xref\": \"x\", \"y\": 0.9035953894001123, \"yref\": \"y\"}, {\"ax\": 0, \"ay\": 20, \"showarrow\": false, \"text\": \"Santander\", \"x\": -0.014521040531492344, \"xref\": \"x\", \"y\": 0.9735357583496433, \"yref\": \"y\"}, {\"ax\": 0, \"ay\": 20, \"showarrow\": false, \"text\": \"Bradesco\", \"x\": 0.6477930755957526, \"xref\": \"x\", \"y\": -0.0566536365237906, \"yref\": \"y\"}], \"hovermode\": \"closest\", \"margin\": {\"b\": 20, \"l\": 5, \"r\": 5, \"t\": 40}, \"showlegend\": false, \"title\": {\"font\": {\"size\": 16}, \"text\": \"coco\"}, \"xaxis\": {\"showgrid\": false, \"showticklabels\": false, \"zeroline\": false}, \"yaxis\": {\"showgrid\": false, \"showticklabels\": false, \"zeroline\": false}},\n",
       "                        {\"showLink\": false, \"linkText\": \"Export to plot.ly\", \"plotlyServerURL\": \"https://plot.ly\", \"responsive\": true}\n",
       "                    ).then(function(){\n",
       "                            \n",
       "var gd = document.getElementById('73c78922-c5a8-4c90-bc3a-d2e13b33029d');\n",
       "var x = new MutationObserver(function (mutations, observer) {{\n",
       "        var display = window.getComputedStyle(gd).display;\n",
       "        if (!display || display === 'none') {{\n",
       "            console.log([gd, 'removed!']);\n",
       "            Plotly.purge(gd);\n",
       "            observer.disconnect();\n",
       "        }}\n",
       "}});\n",
       "\n",
       "// Listen for the removal of the full notebook cells\n",
       "var notebookContainer = gd.closest('#notebook-container');\n",
       "if (notebookContainer) {{\n",
       "    x.observe(notebookContainer, {childList: true});\n",
       "}}\n",
       "\n",
       "// Listen for the clearing of the current output cell\n",
       "var outputEl = gd.closest('.output');\n",
       "if (outputEl) {{\n",
       "    x.observe(outputEl, {childList: true});\n",
       "}}\n",
       "\n",
       "                        })\n",
       "                };\n",
       "                });\n",
       "            </script>\n",
       "        </div>"
      ]
     },
     "metadata": {},
     "output_type": "display_data"
    }
   ],
   "source": [
    "mygraph.plot(title='coco', node_size_col='clientes', node_color_col='clientes', edge_color_col='enviado')"
   ]
  },
  {
   "cell_type": "code",
   "execution_count": 33,
   "metadata": {},
   "outputs": [
    {
     "data": {
      "application/vnd.plotly.v1+json": {
       "config": {
        "linkText": "Export to plot.ly",
        "plotlyServerURL": "https://plot.ly",
        "responsive": true,
        "showLink": false
       },
       "data": [
        {
         "hoverinfo": "text",
         "marker": {
          "cmax": 234243,
          "cmin": 1,
          "color": [
           "rgb(0, 0, 6)",
           "rgb(35, 17, 82)",
           "rgb(251, 252, 191)",
           "rgb(20, 13, 53)",
           "rgb(0, 0, 3)",
           "rgb(0, 0, 3)",
           "rgb(251, 247, 185)",
           "rgb(0, 0, 3)",
           "rgb(21, 14, 56)"
          ],
          "colorbar": {
           "thickness": 15,
           "title": {
            "side": "right",
            "text": "coco"
           },
           "xanchor": "left"
          },
          "colorscale": "Viridis",
          "line": {
           "width": 2
          },
          "reversescale": true,
          "showscale": false,
          "size": [
           2000,
           35000,
           234243,
           23443,
           2,
           1,
           232323,
           666,
           24433
          ],
          "sizemin": 5,
          "sizemode": "area",
          "sizeref": 187.3944
         },
         "mode": "markers",
         "text": [
          "clientes: 2000<br>lucro: 234<br>",
          "clientes: 35000<br>lucro: 1111<br>",
          "clientes: 234243<br>lucro: 2234<br>",
          "clientes: 23443<br>lucro: 2344<br>",
          "clientes: 2<br>lucro: 444<br>",
          "clientes: 1<br>lucro: 222<br>",
          "clientes: 232323<br>lucro: 1<br>",
          "clientes: 666<br>lucro: 1<br>",
          "clientes: 24433<br>lucro: 9877<br>"
         ],
         "type": "scatter",
         "uid": "d1ce8686-74e9-4d98-8d11-56b44a7fc67b",
         "x": [
          -0.000350978986777825,
          0.4582466458262625,
          0.22330925285768044,
          -0.6891283788333405,
          1,
          0.5993149667110178,
          -0.8882390757899539,
          -0.6578506937186719,
          -0.04530173806621636
         ],
         "y": [
          0.0023653779444397617,
          0.8919375045842123,
          -0.8024266865610515,
          0.5210448888267395,
          -0.33467597457602777,
          0.46536576945713404,
          -0.6290040837395051,
          0.5280696078253792,
          -0.6426764037613197
         ]
        },
        {
         "hoverinfo": "none",
         "line": {
          "color": "black",
          "width": 5.5
         },
         "mode": "lines",
         "type": "scatter",
         "uid": "b49d8129-9a10-4a81-af40-52967c49e5ee",
         "x": [
          -0.000350978986777825,
          -0.04530173806621636,
          null
         ],
         "y": [
          0.0023653779444397617,
          -0.6426764037613197,
          null
         ]
        },
        {
         "hoverinfo": "none",
         "line": {
          "color": "black",
          "width": 1.1674150222537318
         },
         "mode": "lines",
         "type": "scatter",
         "uid": "e2e85c54-8737-48f8-9ffe-a895e40f2b38",
         "x": [
          -0.000350978986777825,
          0.4582466458262625,
          null
         ],
         "y": [
          0.0023653779444397617,
          0.8919375045842123,
          null
         ]
        },
        {
         "hoverinfo": "none",
         "line": {
          "color": "black",
          "width": 2.9093111189885383
         },
         "mode": "lines",
         "type": "scatter",
         "uid": "1ca3b7a4-b855-41f1-a6d0-b47e426ecd3b",
         "x": [
          -0.000350978986777825,
          0.22330925285768044,
          null
         ],
         "y": [
          0.0023653779444397617,
          -0.8024266865610515,
          null
         ]
        },
        {
         "hoverinfo": "none",
         "line": {
          "color": "black",
          "width": 1.790519516325968
         },
         "mode": "lines",
         "type": "scatter",
         "uid": "ee56fe4f-dff7-43ab-885b-a7d7219ea391",
         "x": [
          -0.000350978986777825,
          -0.6891283788333405,
          null
         ],
         "y": [
          0.0023653779444397617,
          0.5210448888267395,
          null
         ]
        },
        {
         "hoverinfo": "none",
         "line": {
          "color": "black",
          "width": 0.521859860569538
         },
         "mode": "lines",
         "type": "scatter",
         "uid": "044e424b-ad88-4b9b-ba92-e60b8d8195fc",
         "x": [
          -0.000350978986777825,
          1,
          null
         ],
         "y": [
          0.0023653779444397617,
          -0.33467597457602777,
          null
         ]
        },
        {
         "hoverinfo": "none",
         "line": {
          "color": "black",
          "width": 0.5
         },
         "mode": "lines",
         "type": "scatter",
         "uid": "3fde3261-15d2-46ed-b12f-edf2d1c13b4a",
         "x": [
          -0.000350978986777825,
          0.5993149667110178,
          null
         ],
         "y": [
          0.0023653779444397617,
          0.46536576945713404,
          null
         ]
        },
        {
         "hoverinfo": "none",
         "line": {
          "color": "black",
          "width": 0.9356217259443066
         },
         "mode": "lines",
         "type": "scatter",
         "uid": "89a35e0a-212b-4abc-a2a4-12bb2779f4dd",
         "x": [
          -0.000350978986777825,
          -0.8882390757899539,
          null
         ],
         "y": [
          0.0023653779444397617,
          -0.6290040837395051,
          null
         ]
        },
        {
         "hoverinfo": "none",
         "line": {
          "color": "black",
          "width": 0.60929930284769
         },
         "mode": "lines",
         "type": "scatter",
         "uid": "d2866142-9cef-4ee4-92ed-4ce85b3513e7",
         "x": [
          -0.000350978986777825,
          -0.6578506937186719,
          null
         ],
         "y": [
          0.0023653779444397617,
          0.5280696078253792,
          null
         ]
        }
       ],
       "layout": {
        "annotations": [
         {
          "ax": 0,
          "ay": 20,
          "showarrow": false,
          "text": "Next",
          "x": -0.000350978986777825,
          "xref": "x",
          "y": 0.10236537794443977,
          "yref": "y"
         },
         {
          "ax": 0,
          "ay": 20,
          "showarrow": false,
          "text": "Inter",
          "x": 0.4582466458262625,
          "xref": "x",
          "y": 0.9919375045842123,
          "yref": "y"
         },
         {
          "ax": 0,
          "ay": 20,
          "showarrow": false,
          "text": "Nubank",
          "x": 0.22330925285768044,
          "xref": "x",
          "y": -0.7024266865610516,
          "yref": "y"
         },
         {
          "ax": 0,
          "ay": 20,
          "showarrow": false,
          "text": "BB",
          "x": -0.6891283788333405,
          "xref": "x",
          "y": 0.6210448888267395,
          "yref": "y"
         },
         {
          "ax": 0,
          "ay": 20,
          "showarrow": false,
          "text": "Itau",
          "x": 1,
          "xref": "x",
          "y": -0.23467597457602776,
          "yref": "y"
         },
         {
          "ax": 0,
          "ay": 20,
          "showarrow": false,
          "text": "XP Investimentos",
          "x": 0.5993149667110178,
          "xref": "x",
          "y": 0.565365769457134,
          "yref": "y"
         },
         {
          "ax": 0,
          "ay": 20,
          "showarrow": false,
          "text": "CEF",
          "x": -0.8882390757899539,
          "xref": "x",
          "y": -0.5290040837395051,
          "yref": "y"
         },
         {
          "ax": 0,
          "ay": 20,
          "showarrow": false,
          "text": "Santander",
          "x": -0.6578506937186719,
          "xref": "x",
          "y": 0.6280696078253791,
          "yref": "y"
         },
         {
          "ax": 0,
          "ay": 20,
          "showarrow": false,
          "text": "Bradesco",
          "x": -0.04530173806621636,
          "xref": "x",
          "y": -0.5426764037613198,
          "yref": "y"
         }
        ],
        "hovermode": "closest",
        "margin": {
         "b": 20,
         "l": 5,
         "r": 5,
         "t": 40
        },
        "showlegend": false,
        "title": {
         "font": {
          "size": 16
         },
         "text": "coco"
        },
        "xaxis": {
         "showgrid": false,
         "showticklabels": false,
         "zeroline": false
        },
        "yaxis": {
         "showgrid": false,
         "showticklabels": false,
         "zeroline": false
        }
       }
      },
      "text/html": [
       "<div>\n",
       "        \n",
       "        \n",
       "            <div id=\"885aa8c6-24f9-43c1-8e09-86bc36763ddf\" class=\"plotly-graph-div\" style=\"height:525px; width:100%;\"></div>\n",
       "            <script type=\"text/javascript\">\n",
       "                require([\"plotly\"], function(Plotly) {\n",
       "                    window.PLOTLYENV=window.PLOTLYENV || {};\n",
       "                    window.PLOTLYENV.BASE_URL='https://plot.ly';\n",
       "                    \n",
       "                if (document.getElementById(\"885aa8c6-24f9-43c1-8e09-86bc36763ddf\")) {\n",
       "                    Plotly.newPlot(\n",
       "                        '885aa8c6-24f9-43c1-8e09-86bc36763ddf',\n",
       "                        [{\"hoverinfo\": \"text\", \"marker\": {\"cmax\": 234243, \"cmin\": 1, \"color\": [\"rgb(0, 0, 6)\", \"rgb(35, 17, 82)\", \"rgb(251, 252, 191)\", \"rgb(20, 13, 53)\", \"rgb(0, 0, 3)\", \"rgb(0, 0, 3)\", \"rgb(251, 247, 185)\", \"rgb(0, 0, 3)\", \"rgb(21, 14, 56)\"], \"colorbar\": {\"thickness\": 15, \"title\": {\"side\": \"right\", \"text\": \"coco\"}, \"xanchor\": \"left\"}, \"colorscale\": \"Viridis\", \"line\": {\"width\": 2}, \"reversescale\": true, \"showscale\": false, \"size\": [2000, 35000, 234243, 23443, 2, 1, 232323, 666, 24433], \"sizemin\": 5, \"sizemode\": \"area\", \"sizeref\": 187.3944}, \"mode\": \"markers\", \"text\": [\"clientes: 2000<br>lucro: 234<br>\", \"clientes: 35000<br>lucro: 1111<br>\", \"clientes: 234243<br>lucro: 2234<br>\", \"clientes: 23443<br>lucro: 2344<br>\", \"clientes: 2<br>lucro: 444<br>\", \"clientes: 1<br>lucro: 222<br>\", \"clientes: 232323<br>lucro: 1<br>\", \"clientes: 666<br>lucro: 1<br>\", \"clientes: 24433<br>lucro: 9877<br>\"], \"type\": \"scatter\", \"uid\": \"1c44efe2-0574-4bf3-af67-5528ad831c19\", \"x\": [-0.000350978986777825, 0.4582466458262625, 0.22330925285768044, -0.6891283788333405, 1.0, 0.5993149667110178, -0.8882390757899539, -0.6578506937186719, -0.04530173806621636], \"y\": [0.0023653779444397617, 0.8919375045842123, -0.8024266865610515, 0.5210448888267395, -0.33467597457602777, 0.46536576945713404, -0.6290040837395051, 0.5280696078253792, -0.6426764037613197]}, {\"hoverinfo\": \"none\", \"line\": {\"color\": \"black\", \"width\": 5.5}, \"mode\": \"lines\", \"type\": \"scatter\", \"uid\": \"b570d6c8-5761-45d9-be7f-f11e10333e7d\", \"x\": [-0.000350978986777825, -0.04530173806621636, null], \"y\": [0.0023653779444397617, -0.6426764037613197, null]}, {\"hoverinfo\": \"none\", \"line\": {\"color\": \"black\", \"width\": 1.1674150222537318}, \"mode\": \"lines\", \"type\": \"scatter\", \"uid\": \"44846bb5-1498-47e0-b8ce-5e105eb6115a\", \"x\": [-0.000350978986777825, 0.4582466458262625, null], \"y\": [0.0023653779444397617, 0.8919375045842123, null]}, {\"hoverinfo\": \"none\", \"line\": {\"color\": \"black\", \"width\": 2.9093111189885383}, \"mode\": \"lines\", \"type\": \"scatter\", \"uid\": \"c7a1df8c-4c07-44ac-bba0-3214d1405f5d\", \"x\": [-0.000350978986777825, 0.22330925285768044, null], \"y\": [0.0023653779444397617, -0.8024266865610515, null]}, {\"hoverinfo\": \"none\", \"line\": {\"color\": \"black\", \"width\": 1.790519516325968}, \"mode\": \"lines\", \"type\": \"scatter\", \"uid\": \"41d3302a-96fe-42e2-bf76-664a54c4456f\", \"x\": [-0.000350978986777825, -0.6891283788333405, null], \"y\": [0.0023653779444397617, 0.5210448888267395, null]}, {\"hoverinfo\": \"none\", \"line\": {\"color\": \"black\", \"width\": 0.521859860569538}, \"mode\": \"lines\", \"type\": \"scatter\", \"uid\": \"a925545e-f9e4-4cbc-8bb9-58621622a5d2\", \"x\": [-0.000350978986777825, 1.0, null], \"y\": [0.0023653779444397617, -0.33467597457602777, null]}, {\"hoverinfo\": \"none\", \"line\": {\"color\": \"black\", \"width\": 0.5}, \"mode\": \"lines\", \"type\": \"scatter\", \"uid\": \"ceeb6959-95d5-49f5-98a4-29b2525362a3\", \"x\": [-0.000350978986777825, 0.5993149667110178, null], \"y\": [0.0023653779444397617, 0.46536576945713404, null]}, {\"hoverinfo\": \"none\", \"line\": {\"color\": \"black\", \"width\": 0.9356217259443066}, \"mode\": \"lines\", \"type\": \"scatter\", \"uid\": \"a3e07de1-8fc8-427a-8292-57b78b64a57e\", \"x\": [-0.000350978986777825, -0.8882390757899539, null], \"y\": [0.0023653779444397617, -0.6290040837395051, null]}, {\"hoverinfo\": \"none\", \"line\": {\"color\": \"black\", \"width\": 0.60929930284769}, \"mode\": \"lines\", \"type\": \"scatter\", \"uid\": \"c0b0c1ce-64bf-4d90-974a-68a75cc42451\", \"x\": [-0.000350978986777825, -0.6578506937186719, null], \"y\": [0.0023653779444397617, 0.5280696078253792, null]}],\n",
       "                        {\"annotations\": [{\"ax\": 0, \"ay\": 20, \"showarrow\": false, \"text\": \"Next\", \"x\": -0.000350978986777825, \"xref\": \"x\", \"y\": 0.10236537794443977, \"yref\": \"y\"}, {\"ax\": 0, \"ay\": 20, \"showarrow\": false, \"text\": \"Inter\", \"x\": 0.4582466458262625, \"xref\": \"x\", \"y\": 0.9919375045842123, \"yref\": \"y\"}, {\"ax\": 0, \"ay\": 20, \"showarrow\": false, \"text\": \"Nubank\", \"x\": 0.22330925285768044, \"xref\": \"x\", \"y\": -0.7024266865610516, \"yref\": \"y\"}, {\"ax\": 0, \"ay\": 20, \"showarrow\": false, \"text\": \"BB\", \"x\": -0.6891283788333405, \"xref\": \"x\", \"y\": 0.6210448888267395, \"yref\": \"y\"}, {\"ax\": 0, \"ay\": 20, \"showarrow\": false, \"text\": \"Itau\", \"x\": 1.0, \"xref\": \"x\", \"y\": -0.23467597457602776, \"yref\": \"y\"}, {\"ax\": 0, \"ay\": 20, \"showarrow\": false, \"text\": \"XP Investimentos\", \"x\": 0.5993149667110178, \"xref\": \"x\", \"y\": 0.565365769457134, \"yref\": \"y\"}, {\"ax\": 0, \"ay\": 20, \"showarrow\": false, \"text\": \"CEF\", \"x\": -0.8882390757899539, \"xref\": \"x\", \"y\": -0.5290040837395051, \"yref\": \"y\"}, {\"ax\": 0, \"ay\": 20, \"showarrow\": false, \"text\": \"Santander\", \"x\": -0.6578506937186719, \"xref\": \"x\", \"y\": 0.6280696078253791, \"yref\": \"y\"}, {\"ax\": 0, \"ay\": 20, \"showarrow\": false, \"text\": \"Bradesco\", \"x\": -0.04530173806621636, \"xref\": \"x\", \"y\": -0.5426764037613198, \"yref\": \"y\"}], \"hovermode\": \"closest\", \"margin\": {\"b\": 20, \"l\": 5, \"r\": 5, \"t\": 40}, \"showlegend\": false, \"title\": {\"font\": {\"size\": 16}, \"text\": \"coco\"}, \"xaxis\": {\"showgrid\": false, \"showticklabels\": false, \"zeroline\": false}, \"yaxis\": {\"showgrid\": false, \"showticklabels\": false, \"zeroline\": false}},\n",
       "                        {\"showLink\": false, \"linkText\": \"Export to plot.ly\", \"plotlyServerURL\": \"https://plot.ly\", \"responsive\": true}\n",
       "                    ).then(function(){\n",
       "                            \n",
       "var gd = document.getElementById('885aa8c6-24f9-43c1-8e09-86bc36763ddf');\n",
       "var x = new MutationObserver(function (mutations, observer) {{\n",
       "        var display = window.getComputedStyle(gd).display;\n",
       "        if (!display || display === 'none') {{\n",
       "            console.log([gd, 'removed!']);\n",
       "            Plotly.purge(gd);\n",
       "            observer.disconnect();\n",
       "        }}\n",
       "}});\n",
       "\n",
       "// Listen for the removal of the full notebook cells\n",
       "var notebookContainer = gd.closest('#notebook-container');\n",
       "if (notebookContainer) {{\n",
       "    x.observe(notebookContainer, {childList: true});\n",
       "}}\n",
       "\n",
       "// Listen for the clearing of the current output cell\n",
       "var outputEl = gd.closest('.output');\n",
       "if (outputEl) {{\n",
       "    x.observe(outputEl, {childList: true});\n",
       "}}\n",
       "\n",
       "                        })\n",
       "                };\n",
       "                });\n",
       "            </script>\n",
       "        </div>"
      ]
     },
     "metadata": {},
     "output_type": "display_data"
    }
   ],
   "source": [
    "mygraph.plot(title='coco', node_size_col='clientes', node_color_col='clientes', edge_width_col='enviado')"
   ]
  },
  {
   "cell_type": "code",
   "execution_count": null,
   "metadata": {},
   "outputs": [],
   "source": [
    "#import plotly.plotly as py\n",
    "import plotly.graph_objs as go\n",
    "\n",
    "import numpy as np\n",
    "from plotly.offline import download_plotlyjs, init_notebook_mode, plot, iplot\n",
    "\n",
    "init_notebook_mode(connected=True)\n",
    "\n",
    "x, y, z = np.random.multivariate_normal(np.array([0,0,0]), np.eye(3), 400).transpose()\n",
    "\n",
    "trace1 = go.Scatter3d(\n",
    "    x=x,\n",
    "    y=y,\n",
    "    z=z,\n",
    "    mode='markers',\n",
    "    marker=dict(\n",
    "        size=12,\n",
    "        color=z,                # set color to an array/list of desired values\n",
    "        colorscale='Viridis',   # choose a colorscale\n",
    "        opacity=0.8\n",
    "    )\n",
    ")\n",
    "\n",
    "data = [trace1]\n",
    "layout = go.Layout(\n",
    "    margin=dict(\n",
    "        l=0,\n",
    "        r=0,\n",
    "        b=0,\n",
    "        t=0\n",
    "    )\n",
    ")\n",
    "fig = go.Figure(data=data, layout=layout)\n",
    "iplot(fig, filename='3d-scatter-colorscale')"
   ]
  },
  {
   "cell_type": "code",
   "execution_count": null,
   "metadata": {},
   "outputs": [],
   "source": []
  },
  {
   "cell_type": "code",
   "execution_count": null,
   "metadata": {},
   "outputs": [],
   "source": [
    "import plotly.graph_objs as go\n",
    "import plotly\n",
    "plotly.offline.init_notebook_mode()\n",
    "\n",
    "#draw a square\n",
    "x = [0, 1, 0, 1, 0, 1, 0, 1]\n",
    "y = [0, 1, 1, 0, 0, 1, 1, 0]\n",
    "z = [0, 0, 0, 0, 1, 1, 1, 1]\n",
    "\n",
    "#the start and end point for each line\n",
    "pairs = [(1,2),(7,6)]\n",
    "\n",
    "trace1 = go.Scatter3d(\n",
    "    x=x,\n",
    "    y=y,\n",
    "    z=z,\n",
    "    mode='markers',\n",
    "    name='markers'\n",
    ")\n",
    "\n",
    "x_lines = list()\n",
    "y_lines = list()\n",
    "z_lines = list()\n",
    "\n",
    "#create the coordinate list for the lines\n",
    "for p in pairs:\n",
    "    for i in range(2):\n",
    "        x_lines.append(x[p[i]])\n",
    "        y_lines.append(y[p[i]])\n",
    "        z_lines.append(z[p[i]])\n",
    "    x_lines.append(None)\n",
    "    y_lines.append(None)\n",
    "    z_lines.append(None)\n",
    "\n",
    "trace2 = go.Scatter3d(\n",
    "    x=x_lines,\n",
    "    y=y_lines,\n",
    "    z=z_lines,\n",
    "    mode='lines',\n",
    "    name='lines'\n",
    ")\n",
    "\n",
    "fig = go.Figure(data=[trace1, trace2])\n",
    "plotly.offline.iplot(fig, filename='simple-3d-scatter')"
   ]
  },
  {
   "cell_type": "code",
   "execution_count": null,
   "metadata": {},
   "outputs": [],
   "source": [
    "import pandas as pd\n",
    "df = pd.DataFrame({'coco':[1,2,3,3,2,1], 'lala':[6,5,4,3,2,1], 'banco':['jujuba','boteco','lala','metin','coco','lala']})"
   ]
  },
  {
   "cell_type": "code",
   "execution_count": null,
   "metadata": {},
   "outputs": [],
   "source": [
    "df.iloc[0].to_dict()"
   ]
  },
  {
   "cell_type": "code",
   "execution_count": null,
   "metadata": {},
   "outputs": [],
   "source": [
    "df"
   ]
  },
  {
   "cell_type": "code",
   "execution_count": null,
   "metadata": {},
   "outputs": [],
   "source": []
  },
  {
   "cell_type": "code",
   "execution_count": null,
   "metadata": {},
   "outputs": [],
   "source": []
  }
 ],
 "metadata": {
  "kernelspec": {
   "display_name": "Python 3",
   "language": "python",
   "name": "python3"
  },
  "language_info": {
   "codemirror_mode": {
    "name": "ipython",
    "version": 3
   },
   "file_extension": ".py",
   "mimetype": "text/x-python",
   "name": "python",
   "nbconvert_exporter": "python",
   "pygments_lexer": "ipython3",
   "version": "3.7.0"
  }
 },
 "nbformat": 4,
 "nbformat_minor": 2
}
