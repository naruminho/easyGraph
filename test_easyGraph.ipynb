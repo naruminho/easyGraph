{
 "cells": [
  {
   "cell_type": "code",
   "execution_count": 15,
   "metadata": {},
   "outputs": [
    {
     "name": "stdout",
     "output_type": "stream",
     "text": [
      "The autoreload extension is already loaded. To reload it, use:\n",
      "  %reload_ext autoreload\n"
     ]
    }
   ],
   "source": [
    "%load_ext autoreload\n",
    "%autoreload 2\n",
    "from easyGraph import *"
   ]
  },
  {
   "cell_type": "code",
   "execution_count": 16,
   "metadata": {},
   "outputs": [],
   "source": [
    "mygraph = EasyGraph()"
   ]
  },
  {
   "cell_type": "code",
   "execution_count": 17,
   "metadata": {},
   "outputs": [],
   "source": [
    "# adicionando nodes e definindo propriedades\n",
    "mygraph.node.add('Next', {'clientes':3})\n",
    "mygraph.node.add('Nubank', {'clientes':41})\n",
    "mygraph.node.add('Itau', {'clientes':101})\n",
    "mygraph.node.add('XP Investimentos', {'clientes':5})\n",
    "mygraph.node.add('BB', {'clientes':88})\n",
    "\n",
    "# adicionando arestas e propriedades\n",
    "mygraph.edge.add('Next', 'BB', {'enviado': 45000})\n",
    "mygraph.edge.add('Next', 'Nubank', {'enviado': 10000})\n",
    "mygraph.edge.add('Next', 'Itau', {'enviado': 30000})\n",
    "mygraph.edge.add('Next', 'XP Investimentos', {'enviado': 30000})\n"
   ]
  },
  {
   "cell_type": "code",
   "execution_count": 18,
   "metadata": {},
   "outputs": [
    {
     "ename": "AttributeError",
     "evalue": "'Edge' object has no attribute 'set_color_attribute'",
     "output_type": "error",
     "traceback": [
      "\u001b[0;31m---------------------------------------------------------------------------\u001b[0m",
      "\u001b[0;31mAttributeError\u001b[0m                            Traceback (most recent call last)",
      "\u001b[0;32m<ipython-input-18-ec2359b51667>\u001b[0m in \u001b[0;36m<module>\u001b[0;34m()\u001b[0m\n\u001b[0;32m----> 1\u001b[0;31m \u001b[0mmygraph\u001b[0m\u001b[0;34m.\u001b[0m\u001b[0mplot\u001b[0m\u001b[0;34m(\u001b[0m\u001b[0mtitle\u001b[0m\u001b[0;34m=\u001b[0m\u001b[0;34m'coco'\u001b[0m\u001b[0;34m,\u001b[0m \u001b[0mnode_label\u001b[0m\u001b[0;34m=\u001b[0m \u001b[0;34m'baba: '\u001b[0m\u001b[0;34m)\u001b[0m\u001b[0;34m\u001b[0m\u001b[0m\n\u001b[0m\u001b[1;32m      2\u001b[0m \u001b[0mmygraph\u001b[0m\u001b[0;34m.\u001b[0m\u001b[0mplot\u001b[0m\u001b[0;34m(\u001b[0m\u001b[0mtitle\u001b[0m\u001b[0;34m=\u001b[0m\u001b[0;34m'coco'\u001b[0m\u001b[0;34m,\u001b[0m \u001b[0mnode_label\u001b[0m\u001b[0;34m=\u001b[0m \u001b[0;34m'baba: '\u001b[0m\u001b[0;34m,\u001b[0m \u001b[0mnode_color_col\u001b[0m\u001b[0;34m=\u001b[0m\u001b[0;34m'clientes'\u001b[0m\u001b[0;34m)\u001b[0m\u001b[0;34m\u001b[0m\u001b[0m\n\u001b[1;32m      3\u001b[0m \u001b[0mmygraph\u001b[0m\u001b[0;34m.\u001b[0m\u001b[0mplot\u001b[0m\u001b[0;34m(\u001b[0m\u001b[0mtitle\u001b[0m\u001b[0;34m=\u001b[0m\u001b[0;34m'coco'\u001b[0m\u001b[0;34m,\u001b[0m \u001b[0mnode_label\u001b[0m\u001b[0;34m=\u001b[0m \u001b[0;34m'baba: '\u001b[0m\u001b[0;34m,\u001b[0m \u001b[0mnode_size_col\u001b[0m\u001b[0;34m=\u001b[0m\u001b[0;34m'clientes'\u001b[0m\u001b[0;34m,\u001b[0m \u001b[0mnode_color_col\u001b[0m\u001b[0;34m=\u001b[0m\u001b[0;34m'clientes'\u001b[0m\u001b[0;34m)\u001b[0m\u001b[0;34m\u001b[0m\u001b[0m\n\u001b[1;32m      4\u001b[0m \u001b[0;31m#mygraph.plot(title='coco', node_label= 'baba: ', node_size_col='clientes', node_color_col='clientes', edge_color_col='enviado')\u001b[0m\u001b[0;34m\u001b[0m\u001b[0;34m\u001b[0m\u001b[0m\n",
      "\u001b[0;32m~/Dropbox/src/mystuffs2/easyGraph.py\u001b[0m in \u001b[0;36mplot\u001b[0;34m(self, title, node_label, label, node_size_col, node_color_col, edge_color_col)\u001b[0m\n\u001b[1;32m     26\u001b[0m         \u001b[0mself\u001b[0m\u001b[0;34m.\u001b[0m\u001b[0mnode\u001b[0m\u001b[0;34m.\u001b[0m\u001b[0mset_hover_attribute\u001b[0m\u001b[0;34m(\u001b[0m\u001b[0mnode_color_col\u001b[0m\u001b[0;34m,\u001b[0m \u001b[0mnode_label\u001b[0m\u001b[0;34m)\u001b[0m\u001b[0;34m\u001b[0m\u001b[0m\n\u001b[1;32m     27\u001b[0m \u001b[0;34m\u001b[0m\u001b[0m\n\u001b[0;32m---> 28\u001b[0;31m         \u001b[0mself\u001b[0m\u001b[0;34m.\u001b[0m\u001b[0medge\u001b[0m\u001b[0;34m.\u001b[0m\u001b[0mset_color_attribute\u001b[0m\u001b[0;34m(\u001b[0m\u001b[0medge_color_col\u001b[0m\u001b[0;34m)\u001b[0m\u001b[0;34m\u001b[0m\u001b[0m\n\u001b[0m\u001b[1;32m     29\u001b[0m \u001b[0;34m\u001b[0m\u001b[0m\n\u001b[1;32m     30\u001b[0m         \u001b[0mself\u001b[0m\u001b[0;34m.\u001b[0m\u001b[0m__plot\u001b[0m\u001b[0;34m(\u001b[0m\u001b[0;34m)\u001b[0m\u001b[0;34m\u001b[0m\u001b[0m\n",
      "\u001b[0;31mAttributeError\u001b[0m: 'Edge' object has no attribute 'set_color_attribute'"
     ]
    }
   ],
   "source": [
    "mygraph.plot(title='coco', node_label= 'baba: ')\n",
    "mygraph.plot(title='coco', node_label= 'baba: ', node_color_col='clientes')\n",
    "mygraph.plot(title='coco', node_label= 'baba: ', node_size_col='clientes', node_color_col='clientes')\n",
    "#mygraph.plot(title='coco', node_label= 'baba: ', node_size_col='clientes', node_color_col='clientes', edge_color_col='enviado')"
   ]
  },
  {
   "cell_type": "code",
   "execution_count": null,
   "metadata": {},
   "outputs": [],
   "source": []
  },
  {
   "cell_type": "code",
   "execution_count": null,
   "metadata": {},
   "outputs": [],
   "source": []
  }
 ],
 "metadata": {
  "kernelspec": {
   "display_name": "Python 3",
   "language": "python",
   "name": "python3"
  },
  "language_info": {
   "codemirror_mode": {
    "name": "ipython",
    "version": 3
   },
   "file_extension": ".py",
   "mimetype": "text/x-python",
   "name": "python",
   "nbconvert_exporter": "python",
   "pygments_lexer": "ipython3",
   "version": "3.7.0"
  }
 },
 "nbformat": 4,
 "nbformat_minor": 2
}
