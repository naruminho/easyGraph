{
 "cells": [
  {
   "cell_type": "code",
   "execution_count": 9,
   "metadata": {},
   "outputs": [
    {
     "data": {
      "text/html": [
       "        <script type=\"text/javascript\">\n",
       "        window.PlotlyConfig = {MathJaxConfig: 'local'};\n",
       "        if (window.MathJax) {MathJax.Hub.Config({SVG: {font: \"STIX-Web\"}});}\n",
       "        if (typeof require !== 'undefined') {\n",
       "        require.undef(\"plotly\");\n",
       "        requirejs.config({\n",
       "            paths: {\n",
       "                'plotly': ['https://cdn.plot.ly/plotly-latest.min']\n",
       "            }\n",
       "        });\n",
       "        require(['plotly'], function(Plotly) {\n",
       "            window._Plotly = Plotly;\n",
       "        });\n",
       "        }\n",
       "        </script>\n",
       "        "
      ]
     },
     "metadata": {},
     "output_type": "display_data"
    },
    {
     "name": "stdout",
     "output_type": "stream",
     "text": [
      "The autoreload extension is already loaded. To reload it, use:\n",
      "  %reload_ext autoreload\n"
     ]
    }
   ],
   "source": [
    "%load_ext autoreload\n",
    "%autoreload 2\n",
    "from easyGraph import *"
   ]
  },
  {
   "cell_type": "code",
   "execution_count": 10,
   "metadata": {},
   "outputs": [],
   "source": [
    "mygraph = EasyGraph()"
   ]
  },
  {
   "cell_type": "code",
   "execution_count": 11,
   "metadata": {},
   "outputs": [],
   "source": [
    "# adicionando nodes e definindo propriedades\n",
    "mygraph.node.add('Next', {'clientes':3})\n",
    "mygraph.node.add('Nubank', {'clientes':41})\n",
    "mygraph.node.add('Itau', {'clientes':101})\n",
    "mygraph.node.add('XP Investimentos', {'clientes':5})\n",
    "mygraph.node.add('BB', {'clientes':88})\n",
    "\n",
    "# adicionando arestas e propriedades\n",
    "mygraph.edge.add('Next', 'BB', {'enviado': 45000})\n",
    "mygraph.edge.add('Next', 'Nubank', {'enviado': 10000})\n",
    "mygraph.edge.add('Next', 'Itau', {'enviado': 30000})\n",
    "mygraph.edge.add('Next', 'XP Investimentos', {'enviado': 30000})"
   ]
  },
  {
   "cell_type": "code",
   "execution_count": 12,
   "metadata": {},
   "outputs": [
    {
     "name": "stdout",
     "output_type": "stream",
     "text": [
      "[3, 41, 101, 5, 88]\n"
     ]
    },
    {
     "data": {
      "application/vnd.plotly.v1+json": {
       "config": {
        "linkText": "Export to plot.ly",
        "plotlyServerURL": "https://plot.ly",
        "responsive": true,
        "showLink": false
       },
       "data": [
        {
         "hoverinfo": "text",
         "marker": {
          "cmax": null,
          "cmin": null,
          "color": 88,
          "colorbar": {
           "thickness": 15,
           "title": {
            "side": "right",
            "text": "coco"
           },
           "xanchor": "left"
          },
          "colorscale": "Viridis",
          "line": {
           "width": 2
          },
          "reversescale": true,
          "showscale": false,
          "size": [
           3,
           41,
           101,
           5,
           88
          ],
          "sizemin": 10,
          "sizemode": "area",
          "sizeref": 0.12625
         },
         "mode": "markers",
         "text": [
          "baba:  3",
          "baba:  41",
          "baba:  101",
          "baba:  5",
          "baba:  88"
         ],
         "type": "scatter",
         "uid": "7a9f2425-6547-432d-bec4-a610d3a4c444",
         "x": [
          0.9999999999999999,
          0.30901696042448806,
          -0.8090170945349412,
          -0.8090169753256495,
          0.30901710943610267
         ],
         "y": [
          2.38418583364819e-08,
          0.9510565808604344,
          0.587785218735669,
          -0.5877853498658898,
          -0.9510564735720718
         ]
        },
        {
         "hoverinfo": "none",
         "line": {
          "color": "#888",
          "width": 0.5
         },
         "mode": "lines",
         "type": "scatter",
         "uid": "cda9e010-fade-4778-8ecf-b5b2b36e9972",
         "x": [
          0.9999999999999999,
          0.30901710943610267,
          null,
          0.9999999999999999,
          0.30901696042448806,
          null,
          0.9999999999999999,
          -0.8090170945349412,
          null,
          0.9999999999999999,
          -0.8090169753256495,
          null
         ],
         "y": [
          2.38418583364819e-08,
          -0.9510564735720718,
          null,
          2.38418583364819e-08,
          0.9510565808604344,
          null,
          2.38418583364819e-08,
          0.587785218735669,
          null,
          2.38418583364819e-08,
          -0.5877853498658898,
          null
         ]
        }
       ],
       "layout": {
        "annotations": [
         {
          "ax": 0,
          "ay": 20,
          "showarrow": false,
          "text": "Next",
          "x": 0.9999999999999999,
          "xref": "x",
          "y": 0.10000002384185834,
          "yref": "y"
         },
         {
          "ax": 0,
          "ay": 20,
          "showarrow": false,
          "text": "Nubank",
          "x": 0.30901696042448806,
          "xref": "x",
          "y": 1.0510565808604344,
          "yref": "y"
         },
         {
          "ax": 0,
          "ay": 20,
          "showarrow": false,
          "text": "Itau",
          "x": -0.8090170945349412,
          "xref": "x",
          "y": 0.687785218735669,
          "yref": "y"
         },
         {
          "ax": 0,
          "ay": 20,
          "showarrow": false,
          "text": "XP Investimentos",
          "x": -0.8090169753256495,
          "xref": "x",
          "y": -0.48778534986588984,
          "yref": "y"
         },
         {
          "ax": 0,
          "ay": 20,
          "showarrow": false,
          "text": "BB",
          "x": 0.30901710943610267,
          "xref": "x",
          "y": -0.8510564735720718,
          "yref": "y"
         }
        ],
        "hovermode": "closest",
        "margin": {
         "b": 20,
         "l": 5,
         "r": 5,
         "t": 40
        },
        "showlegend": false,
        "title": {
         "font": {
          "size": 16
         },
         "text": "coco"
        },
        "xaxis": {
         "showgrid": false,
         "showticklabels": false,
         "zeroline": false
        },
        "yaxis": {
         "showgrid": false,
         "showticklabels": false,
         "zeroline": false
        }
       }
      },
      "text/html": [
       "<div>\n",
       "        \n",
       "        \n",
       "            <div id=\"5ea5ea0c-ed52-48e6-bcf5-837f8ac09c8e\" class=\"plotly-graph-div\" style=\"height:525px; width:100%;\"></div>\n",
       "            <script type=\"text/javascript\">\n",
       "                require([\"plotly\"], function(Plotly) {\n",
       "                    window.PLOTLYENV=window.PLOTLYENV || {};\n",
       "                    window.PLOTLYENV.BASE_URL='https://plot.ly';\n",
       "                    \n",
       "                if (document.getElementById(\"5ea5ea0c-ed52-48e6-bcf5-837f8ac09c8e\")) {\n",
       "                    Plotly.newPlot(\n",
       "                        '5ea5ea0c-ed52-48e6-bcf5-837f8ac09c8e',\n",
       "                        [{\"hoverinfo\": \"text\", \"marker\": {\"cmax\": null, \"cmin\": null, \"color\": 88, \"colorbar\": {\"thickness\": 15, \"title\": {\"side\": \"right\", \"text\": \"coco\"}, \"xanchor\": \"left\"}, \"colorscale\": \"Viridis\", \"line\": {\"width\": 2}, \"reversescale\": true, \"showscale\": false, \"size\": [3, 41, 101, 5, 88], \"sizemin\": 10, \"sizemode\": \"area\", \"sizeref\": 0.12625}, \"mode\": \"markers\", \"text\": [\"baba:  3\", \"baba:  41\", \"baba:  101\", \"baba:  5\", \"baba:  88\"], \"type\": \"scatter\", \"uid\": \"25eba996-ff5e-4223-aa2e-5923a68078ef\", \"x\": [0.9999999999999999, 0.30901696042448806, -0.8090170945349412, -0.8090169753256495, 0.30901710943610267], \"y\": [2.38418583364819e-08, 0.9510565808604344, 0.587785218735669, -0.5877853498658898, -0.9510564735720718]}, {\"hoverinfo\": \"none\", \"line\": {\"color\": \"#888\", \"width\": 0.5}, \"mode\": \"lines\", \"type\": \"scatter\", \"uid\": \"d05f04ee-5463-4552-9dfd-9e401ef0fd3a\", \"x\": [0.9999999999999999, 0.30901710943610267, null, 0.9999999999999999, 0.30901696042448806, null, 0.9999999999999999, -0.8090170945349412, null, 0.9999999999999999, -0.8090169753256495, null], \"y\": [2.38418583364819e-08, -0.9510564735720718, null, 2.38418583364819e-08, 0.9510565808604344, null, 2.38418583364819e-08, 0.587785218735669, null, 2.38418583364819e-08, -0.5877853498658898, null]}],\n",
       "                        {\"annotations\": [{\"ax\": 0, \"ay\": 20, \"showarrow\": false, \"text\": \"Next\", \"x\": 0.9999999999999999, \"xref\": \"x\", \"y\": 0.10000002384185834, \"yref\": \"y\"}, {\"ax\": 0, \"ay\": 20, \"showarrow\": false, \"text\": \"Nubank\", \"x\": 0.30901696042448806, \"xref\": \"x\", \"y\": 1.0510565808604344, \"yref\": \"y\"}, {\"ax\": 0, \"ay\": 20, \"showarrow\": false, \"text\": \"Itau\", \"x\": -0.8090170945349412, \"xref\": \"x\", \"y\": 0.687785218735669, \"yref\": \"y\"}, {\"ax\": 0, \"ay\": 20, \"showarrow\": false, \"text\": \"XP Investimentos\", \"x\": -0.8090169753256495, \"xref\": \"x\", \"y\": -0.48778534986588984, \"yref\": \"y\"}, {\"ax\": 0, \"ay\": 20, \"showarrow\": false, \"text\": \"BB\", \"x\": 0.30901710943610267, \"xref\": \"x\", \"y\": -0.8510564735720718, \"yref\": \"y\"}], \"hovermode\": \"closest\", \"margin\": {\"b\": 20, \"l\": 5, \"r\": 5, \"t\": 40}, \"showlegend\": false, \"title\": {\"font\": {\"size\": 16}, \"text\": \"coco\"}, \"xaxis\": {\"showgrid\": false, \"showticklabels\": false, \"zeroline\": false}, \"yaxis\": {\"showgrid\": false, \"showticklabels\": false, \"zeroline\": false}},\n",
       "                        {\"showLink\": false, \"linkText\": \"Export to plot.ly\", \"plotlyServerURL\": \"https://plot.ly\", \"responsive\": true}\n",
       "                    ).then(function(){\n",
       "                            \n",
       "var gd = document.getElementById('5ea5ea0c-ed52-48e6-bcf5-837f8ac09c8e');\n",
       "var x = new MutationObserver(function (mutations, observer) {{\n",
       "        var display = window.getComputedStyle(gd).display;\n",
       "        if (!display || display === 'none') {{\n",
       "            console.log([gd, 'removed!']);\n",
       "            Plotly.purge(gd);\n",
       "            observer.disconnect();\n",
       "        }}\n",
       "}});\n",
       "\n",
       "// Listen for the removal of the full notebook cells\n",
       "var notebookContainer = gd.closest('#notebook-container');\n",
       "if (notebookContainer) {{\n",
       "    x.observe(notebookContainer, {childList: true});\n",
       "}}\n",
       "\n",
       "// Listen for the clearing of the current output cell\n",
       "var outputEl = gd.closest('.output');\n",
       "if (outputEl) {{\n",
       "    x.observe(outputEl, {childList: true});\n",
       "}}\n",
       "\n",
       "                        })\n",
       "                };\n",
       "                });\n",
       "            </script>\n",
       "        </div>"
      ]
     },
     "metadata": {},
     "output_type": "display_data"
    },
    {
     "name": "stdout",
     "output_type": "stream",
     "text": [
      "[1, 1, 1, 1, 1]\n"
     ]
    },
    {
     "data": {
      "application/vnd.plotly.v1+json": {
       "config": {
        "linkText": "Export to plot.ly",
        "plotlyServerURL": "https://plot.ly",
        "responsive": true,
        "showLink": false
       },
       "data": [
        {
         "hoverinfo": "text",
         "marker": {
          "cmax": 101,
          "cmin": 3,
          "color": 88,
          "colorbar": {
           "thickness": 15,
           "title": {
            "side": "right",
            "text": "coco"
           },
           "xanchor": "left"
          },
          "colorscale": "Viridis",
          "line": {
           "width": 2
          },
          "reversescale": true,
          "showscale": false,
          "size": [
           1,
           1,
           1,
           1,
           1
          ],
          "sizemin": 10,
          "sizemode": "area",
          "sizeref": 10
         },
         "mode": "markers",
         "text": [
          "baba:  3",
          "baba:  41",
          "baba:  101",
          "baba:  5",
          "baba:  88"
         ],
         "type": "scatter",
         "uid": "9dec1edf-4b53-4a1d-99d3-b886c1f43b4b",
         "x": [
          0.9999999999999999,
          0.30901696042448806,
          -0.8090170945349412,
          -0.8090169753256495,
          0.30901710943610267
         ],
         "y": [
          2.38418583364819e-08,
          0.9510565808604344,
          0.587785218735669,
          -0.5877853498658898,
          -0.9510564735720718
         ]
        },
        {
         "hoverinfo": "none",
         "line": {
          "color": "#888",
          "width": 0.5
         },
         "mode": "lines",
         "type": "scatter",
         "uid": "78987fdb-d5d8-4e6a-bfa0-cb67363dbb0b",
         "x": [
          0.9999999999999999,
          0.30901710943610267,
          null,
          0.9999999999999999,
          0.30901696042448806,
          null,
          0.9999999999999999,
          -0.8090170945349412,
          null,
          0.9999999999999999,
          -0.8090169753256495,
          null
         ],
         "y": [
          2.38418583364819e-08,
          -0.9510564735720718,
          null,
          2.38418583364819e-08,
          0.9510565808604344,
          null,
          2.38418583364819e-08,
          0.587785218735669,
          null,
          2.38418583364819e-08,
          -0.5877853498658898,
          null
         ]
        }
       ],
       "layout": {
        "annotations": [
         {
          "ax": 0,
          "ay": 20,
          "showarrow": false,
          "text": "Next",
          "x": 0.9999999999999999,
          "xref": "x",
          "y": 0.10000002384185834,
          "yref": "y"
         },
         {
          "ax": 0,
          "ay": 20,
          "showarrow": false,
          "text": "Nubank",
          "x": 0.30901696042448806,
          "xref": "x",
          "y": 1.0510565808604344,
          "yref": "y"
         },
         {
          "ax": 0,
          "ay": 20,
          "showarrow": false,
          "text": "Itau",
          "x": -0.8090170945349412,
          "xref": "x",
          "y": 0.687785218735669,
          "yref": "y"
         },
         {
          "ax": 0,
          "ay": 20,
          "showarrow": false,
          "text": "XP Investimentos",
          "x": -0.8090169753256495,
          "xref": "x",
          "y": -0.48778534986588984,
          "yref": "y"
         },
         {
          "ax": 0,
          "ay": 20,
          "showarrow": false,
          "text": "BB",
          "x": 0.30901710943610267,
          "xref": "x",
          "y": -0.8510564735720718,
          "yref": "y"
         }
        ],
        "hovermode": "closest",
        "margin": {
         "b": 20,
         "l": 5,
         "r": 5,
         "t": 40
        },
        "showlegend": false,
        "title": {
         "font": {
          "size": 16
         },
         "text": "coco"
        },
        "xaxis": {
         "showgrid": false,
         "showticklabels": false,
         "zeroline": false
        },
        "yaxis": {
         "showgrid": false,
         "showticklabels": false,
         "zeroline": false
        }
       }
      },
      "text/html": [
       "<div>\n",
       "        \n",
       "        \n",
       "            <div id=\"e1ffc882-c7bb-4bf8-94b1-222e572c8837\" class=\"plotly-graph-div\" style=\"height:525px; width:100%;\"></div>\n",
       "            <script type=\"text/javascript\">\n",
       "                require([\"plotly\"], function(Plotly) {\n",
       "                    window.PLOTLYENV=window.PLOTLYENV || {};\n",
       "                    window.PLOTLYENV.BASE_URL='https://plot.ly';\n",
       "                    \n",
       "                if (document.getElementById(\"e1ffc882-c7bb-4bf8-94b1-222e572c8837\")) {\n",
       "                    Plotly.newPlot(\n",
       "                        'e1ffc882-c7bb-4bf8-94b1-222e572c8837',\n",
       "                        [{\"hoverinfo\": \"text\", \"marker\": {\"cmax\": 101, \"cmin\": 3, \"color\": 88, \"colorbar\": {\"thickness\": 15, \"title\": {\"side\": \"right\", \"text\": \"coco\"}, \"xanchor\": \"left\"}, \"colorscale\": \"Viridis\", \"line\": {\"width\": 2}, \"reversescale\": true, \"showscale\": false, \"size\": [1, 1, 1, 1, 1], \"sizemin\": 10, \"sizemode\": \"area\", \"sizeref\": 10}, \"mode\": \"markers\", \"text\": [\"baba:  3\", \"baba:  41\", \"baba:  101\", \"baba:  5\", \"baba:  88\"], \"type\": \"scatter\", \"uid\": \"fe0adb96-29d1-4182-b620-46c9407a74d9\", \"x\": [0.9999999999999999, 0.30901696042448806, -0.8090170945349412, -0.8090169753256495, 0.30901710943610267], \"y\": [2.38418583364819e-08, 0.9510565808604344, 0.587785218735669, -0.5877853498658898, -0.9510564735720718]}, {\"hoverinfo\": \"none\", \"line\": {\"color\": \"#888\", \"width\": 0.5}, \"mode\": \"lines\", \"type\": \"scatter\", \"uid\": \"0383aa09-2145-428b-88f5-296cba89f270\", \"x\": [0.9999999999999999, 0.30901710943610267, null, 0.9999999999999999, 0.30901696042448806, null, 0.9999999999999999, -0.8090170945349412, null, 0.9999999999999999, -0.8090169753256495, null], \"y\": [2.38418583364819e-08, -0.9510564735720718, null, 2.38418583364819e-08, 0.9510565808604344, null, 2.38418583364819e-08, 0.587785218735669, null, 2.38418583364819e-08, -0.5877853498658898, null]}],\n",
       "                        {\"annotations\": [{\"ax\": 0, \"ay\": 20, \"showarrow\": false, \"text\": \"Next\", \"x\": 0.9999999999999999, \"xref\": \"x\", \"y\": 0.10000002384185834, \"yref\": \"y\"}, {\"ax\": 0, \"ay\": 20, \"showarrow\": false, \"text\": \"Nubank\", \"x\": 0.30901696042448806, \"xref\": \"x\", \"y\": 1.0510565808604344, \"yref\": \"y\"}, {\"ax\": 0, \"ay\": 20, \"showarrow\": false, \"text\": \"Itau\", \"x\": -0.8090170945349412, \"xref\": \"x\", \"y\": 0.687785218735669, \"yref\": \"y\"}, {\"ax\": 0, \"ay\": 20, \"showarrow\": false, \"text\": \"XP Investimentos\", \"x\": -0.8090169753256495, \"xref\": \"x\", \"y\": -0.48778534986588984, \"yref\": \"y\"}, {\"ax\": 0, \"ay\": 20, \"showarrow\": false, \"text\": \"BB\", \"x\": 0.30901710943610267, \"xref\": \"x\", \"y\": -0.8510564735720718, \"yref\": \"y\"}], \"hovermode\": \"closest\", \"margin\": {\"b\": 20, \"l\": 5, \"r\": 5, \"t\": 40}, \"showlegend\": false, \"title\": {\"font\": {\"size\": 16}, \"text\": \"coco\"}, \"xaxis\": {\"showgrid\": false, \"showticklabels\": false, \"zeroline\": false}, \"yaxis\": {\"showgrid\": false, \"showticklabels\": false, \"zeroline\": false}},\n",
       "                        {\"showLink\": false, \"linkText\": \"Export to plot.ly\", \"plotlyServerURL\": \"https://plot.ly\", \"responsive\": true}\n",
       "                    ).then(function(){\n",
       "                            \n",
       "var gd = document.getElementById('e1ffc882-c7bb-4bf8-94b1-222e572c8837');\n",
       "var x = new MutationObserver(function (mutations, observer) {{\n",
       "        var display = window.getComputedStyle(gd).display;\n",
       "        if (!display || display === 'none') {{\n",
       "            console.log([gd, 'removed!']);\n",
       "            Plotly.purge(gd);\n",
       "            observer.disconnect();\n",
       "        }}\n",
       "}});\n",
       "\n",
       "// Listen for the removal of the full notebook cells\n",
       "var notebookContainer = gd.closest('#notebook-container');\n",
       "if (notebookContainer) {{\n",
       "    x.observe(notebookContainer, {childList: true});\n",
       "}}\n",
       "\n",
       "// Listen for the clearing of the current output cell\n",
       "var outputEl = gd.closest('.output');\n",
       "if (outputEl) {{\n",
       "    x.observe(outputEl, {childList: true});\n",
       "}}\n",
       "\n",
       "                        })\n",
       "                };\n",
       "                });\n",
       "            </script>\n",
       "        </div>"
      ]
     },
     "metadata": {},
     "output_type": "display_data"
    }
   ],
   "source": [
    "mygraph.plot(title='coco', node_label= 'baba: ', node_size_col='clientes', node_color_col='clientes')\n",
    "\n",
    "mygraph.plot(title='coco', node_label= 'baba: ', node_color_col='clientes')"
   ]
  },
  {
   "cell_type": "code",
   "execution_count": null,
   "metadata": {},
   "outputs": [],
   "source": []
  },
  {
   "cell_type": "code",
   "execution_count": null,
   "metadata": {},
   "outputs": [],
   "source": []
  },
  {
   "cell_type": "code",
   "execution_count": null,
   "metadata": {},
   "outputs": [],
   "source": []
  },
  {
   "cell_type": "code",
   "execution_count": null,
   "metadata": {},
   "outputs": [],
   "source": []
  }
 ],
 "metadata": {
  "kernelspec": {
   "display_name": "Python 3",
   "language": "python",
   "name": "python3"
  },
  "language_info": {
   "codemirror_mode": {
    "name": "ipython",
    "version": 3
   },
   "file_extension": ".py",
   "mimetype": "text/x-python",
   "name": "python",
   "nbconvert_exporter": "python",
   "pygments_lexer": "ipython3",
   "version": "3.7.0"
  }
 },
 "nbformat": 4,
 "nbformat_minor": 2
}
