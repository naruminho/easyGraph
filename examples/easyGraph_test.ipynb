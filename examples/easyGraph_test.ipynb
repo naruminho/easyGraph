{
 "cells": [
  {
   "cell_type": "code",
   "execution_count": 12,
   "metadata": {},
   "outputs": [
    {
     "name": "stdout",
     "output_type": "stream",
     "text": [
      "The autoreload extension is already loaded. To reload it, use:\n",
      "  %reload_ext autoreload\n"
     ]
    }
   ],
   "source": [
    "%load_ext autoreload\n",
    "%autoreload 2\n",
    "from tareco import *\n",
    "import pandas as pd"
   ]
  },
  {
   "cell_type": "code",
   "execution_count": 13,
   "metadata": {},
   "outputs": [],
   "source": [
    "# creating an empty graph object\n",
    "mygraph = Tareco(6,dim=3)"
   ]
  },
  {
   "cell_type": "code",
   "execution_count": 14,
   "metadata": {},
   "outputs": [
    {
     "data": {
      "text/html": [
       "<div>\n",
       "<style scoped>\n",
       "    .dataframe tbody tr th:only-of-type {\n",
       "        vertical-align: middle;\n",
       "    }\n",
       "\n",
       "    .dataframe tbody tr th {\n",
       "        vertical-align: top;\n",
       "    }\n",
       "\n",
       "    .dataframe thead th {\n",
       "        text-align: right;\n",
       "    }\n",
       "</style>\n",
       "<table border=\"1\" class=\"dataframe\">\n",
       "  <thead>\n",
       "    <tr style=\"text-align: right;\">\n",
       "      <th></th>\n",
       "      <th>bank</th>\n",
       "      <th>clients</th>\n",
       "      <th>profits</th>\n",
       "    </tr>\n",
       "  </thead>\n",
       "  <tbody>\n",
       "    <tr>\n",
       "      <th>0</th>\n",
       "      <td>Next</td>\n",
       "      <td>2000</td>\n",
       "      <td>234</td>\n",
       "    </tr>\n",
       "    <tr>\n",
       "      <th>1</th>\n",
       "      <td>Inter</td>\n",
       "      <td>35000</td>\n",
       "      <td>1111</td>\n",
       "    </tr>\n",
       "    <tr>\n",
       "      <th>2</th>\n",
       "      <td>Nubank</td>\n",
       "      <td>234243</td>\n",
       "      <td>2234</td>\n",
       "    </tr>\n",
       "    <tr>\n",
       "      <th>3</th>\n",
       "      <td>BB</td>\n",
       "      <td>23443</td>\n",
       "      <td>2344</td>\n",
       "    </tr>\n",
       "    <tr>\n",
       "      <th>4</th>\n",
       "      <td>Itau</td>\n",
       "      <td>2</td>\n",
       "      <td>444</td>\n",
       "    </tr>\n",
       "  </tbody>\n",
       "</table>\n",
       "</div>"
      ],
      "text/plain": [
       "     bank  clients  profits\n",
       "0    Next     2000      234\n",
       "1   Inter    35000     1111\n",
       "2  Nubank   234243     2234\n",
       "3      BB    23443     2344\n",
       "4    Itau        2      444"
      ]
     },
     "execution_count": 14,
     "metadata": {},
     "output_type": "execute_result"
    }
   ],
   "source": [
    "# creating a node dataframe \n",
    "bancos = pd.DataFrame({\n",
    "        'bank' : ['Next', 'Inter', 'Nubank', 'BB', 'Itau', 'XP Investimentos', 'CEF', 'Santander','Bradesco'],\n",
    "        'clients': [2000,   35000, 234243, 23443,2,1,232323, 666, 24433],\n",
    "        'profits': [234, 1111, 2234, 2344, 444, 222, 1, 1, 9877] \n",
    "})\n",
    "bancos.head()"
   ]
  },
  {
   "cell_type": "code",
   "execution_count": 15,
   "metadata": {},
   "outputs": [],
   "source": [
    "# adding the nodes to the graph\n",
    "# 'banco' is the id column \n",
    "mygraph.node.load(bancos, 'bank')"
   ]
  },
  {
   "cell_type": "code",
   "execution_count": 16,
   "metadata": {},
   "outputs": [
    {
     "data": {
      "text/html": [
       "<div>\n",
       "<style scoped>\n",
       "    .dataframe tbody tr th:only-of-type {\n",
       "        vertical-align: middle;\n",
       "    }\n",
       "\n",
       "    .dataframe tbody tr th {\n",
       "        vertical-align: top;\n",
       "    }\n",
       "\n",
       "    .dataframe thead th {\n",
       "        text-align: right;\n",
       "    }\n",
       "</style>\n",
       "<table border=\"1\" class=\"dataframe\">\n",
       "  <thead>\n",
       "    <tr style=\"text-align: right;\">\n",
       "      <th></th>\n",
       "      <th>from</th>\n",
       "      <th>to</th>\n",
       "      <th>sent</th>\n",
       "      <th>received</th>\n",
       "    </tr>\n",
       "  </thead>\n",
       "  <tbody>\n",
       "    <tr>\n",
       "      <th>0</th>\n",
       "      <td>Next</td>\n",
       "      <td>Bradesco</td>\n",
       "      <td>25500</td>\n",
       "      <td>2344</td>\n",
       "    </tr>\n",
       "    <tr>\n",
       "      <th>1</th>\n",
       "      <td>Next</td>\n",
       "      <td>Inter</td>\n",
       "      <td>3500</td>\n",
       "      <td>111</td>\n",
       "    </tr>\n",
       "    <tr>\n",
       "      <th>2</th>\n",
       "      <td>Next</td>\n",
       "      <td>Nubank</td>\n",
       "      <td>12345</td>\n",
       "      <td>22234</td>\n",
       "    </tr>\n",
       "    <tr>\n",
       "      <th>3</th>\n",
       "      <td>Next</td>\n",
       "      <td>BB</td>\n",
       "      <td>6664</td>\n",
       "      <td>234</td>\n",
       "    </tr>\n",
       "    <tr>\n",
       "      <th>4</th>\n",
       "      <td>Next</td>\n",
       "      <td>Itau</td>\n",
       "      <td>222</td>\n",
       "      <td>4344</td>\n",
       "    </tr>\n",
       "  </tbody>\n",
       "</table>\n",
       "</div>"
      ],
      "text/plain": [
       "   from        to   sent  received\n",
       "0  Next  Bradesco  25500      2344\n",
       "1  Next     Inter   3500       111\n",
       "2  Next    Nubank  12345     22234\n",
       "3  Next        BB   6664       234\n",
       "4  Next      Itau    222      4344"
      ]
     },
     "execution_count": 16,
     "metadata": {},
     "output_type": "execute_result"
    }
   ],
   "source": [
    "teds = pd.DataFrame({\n",
    "        'from' : ['Next', 'Next', 'Next', 'Next', 'Next', 'Next', 'Next', 'Next'],\n",
    "        'to' : ['Bradesco', 'Inter', 'Nubank', 'BB', 'Itau', 'XP Investimentos', 'CEF', 'Santander'],\n",
    "        'sent': [25500,   3500, 12345, 6664, 222,111, 2323, 666],\n",
    "        'received': [2344, 111, 22234, 234, 4344, 2322, 1111, 1111] \n",
    "})\n",
    "teds.head()"
   ]
  },
  {
   "cell_type": "code",
   "execution_count": 17,
   "metadata": {},
   "outputs": [],
   "source": [
    "mygraph.edge.load(teds, 'from', 'to')"
   ]
  },
  {
   "cell_type": "code",
   "execution_count": 18,
   "metadata": {},
   "outputs": [
    {
     "data": {
      "application/vnd.plotly.v1+json": {
       "config": {
        "linkText": "Export to plot.ly",
        "plotlyServerURL": "https://plot.ly",
        "responsive": true,
        "showLink": false
       },
       "data": [
        {
         "hoverinfo": "text",
         "marker": {
          "cmax": null,
          "cmin": null,
          "color": [
           "rgb(0, 0, 6)",
           "rgb(35, 17, 82)",
           "rgb(251, 252, 191)",
           "rgb(20, 13, 53)",
           "rgb(0, 0, 3)",
           "rgb(0, 0, 3)",
           "rgb(251, 247, 185)",
           "rgb(0, 0, 3)",
           "rgb(21, 14, 56)"
          ],
          "colorbar": {
           "thickness": 15,
           "title": {
            "side": "right",
            "text": "coco"
           },
           "xanchor": "left"
          },
          "colorscale": "Viridis",
          "line": {
           "width": 2
          },
          "reversescale": true,
          "showscale": false,
          "size": [
           2000,
           35000,
           234243,
           23443,
           2,
           1,
           232323,
           666,
           24433
          ],
          "sizemin": 15,
          "sizemode": "area",
          "sizeref": 187.3944
         },
         "mode": "markers",
         "text": [
          "<b>Next</b><br>clients: 2000<br>profits: 234<br>",
          "<b>Inter</b><br>clients: 35000<br>profits: 1111<br>",
          "<b>Nubank</b><br>clients: 234243<br>profits: 2234<br>",
          "<b>BB</b><br>clients: 23443<br>profits: 2344<br>",
          "<b>Itau</b><br>clients: 2<br>profits: 444<br>",
          "<b>XP Investimentos</b><br>clients: 1<br>profits: 222<br>",
          "<b>CEF</b><br>clients: 232323<br>profits: 1<br>",
          "<b>Santander</b><br>clients: 666<br>profits: 1<br>",
          "<b>Bradesco</b><br>clients: 24433<br>profits: 9877<br>"
         ],
         "type": "scatter3d",
         "uid": "8a51d2d0-e4b3-41a8-a72f-dcb0684157ec",
         "x": [
          0.0005486589735378758,
          -0.3641844471156164,
          0.16333760419696502,
          0.8420875426818134,
          0.8205728518513574,
          -0.3925890805447159,
          0.5314051466556905,
          -0.611359595593481,
          -0.9898186811055512
         ],
         "y": [
          0.0005046098607206915,
          0.5984309185012846,
          -0.9999999999999999,
          0.01642653595908567,
          -0.27042748132868516,
          -0.6088229647193883,
          0.9458942286775246,
          0.6729381639830007,
          -0.35494401093354244
         ],
         "z": [
          -0.0030330108028384845,
          0.8581374562809816,
          0.43839734668433966,
          0.714830156884281,
          -0.6903476046899265,
          -0.8365457435351223,
          -0.1911230041718123,
          -0.625402454456174,
          0.3350868578062715
         ]
        },
        {
         "hoverinfo": "none",
         "line": {
          "color": "rgb(251, 252, 191)",
          "width": 5.5
         },
         "mode": "lines",
         "name": "Next-Bradesco",
         "type": "scatter3d",
         "uid": "326c4f65-2a86-4f86-acc8-4c4e3cf4dc23",
         "x": [
          0.0005486589735378758,
          -0.9898186811055512,
          null
         ],
         "y": [
          0.0005046098607206915,
          -0.35494401093354244,
          null
         ],
         "z": [
          -0.0030330108028384845,
          0.3350868578062715,
          null
         ]
        },
        {
         "hoverinfo": "none",
         "line": {
          "color": "rgb(30, 16, 73)",
          "width": 1.1674150222537318
         },
         "mode": "lines",
         "name": "Next-Inter",
         "type": "scatter3d",
         "uid": "00f5abb3-a0df-43af-8280-cd5c7f0fd520",
         "x": [
          0.0005486589735378758,
          -0.3641844471156164,
          null
         ],
         "y": [
          0.0005046098607206915,
          0.5984309185012846,
          null
         ],
         "z": [
          -0.0030330108028384845,
          0.8581374562809816,
          null
         ]
        },
        {
         "hoverinfo": "none",
         "line": {
          "color": "rgb(172, 51, 123)",
          "width": 2.9093111189885383
         },
         "mode": "lines",
         "name": "Next-Nubank",
         "type": "scatter3d",
         "uid": "c1add39d-c5c7-47f3-8bee-8f2544149ddc",
         "x": [
          0.0005486589735378758,
          0.16333760419696502,
          null
         ],
         "y": [
          0.0005046098607206915,
          -0.9999999999999999,
          null
         ],
         "z": [
          -0.0030330108028384845,
          0.43839734668433966,
          null
         ]
        },
        {
         "hoverinfo": "none",
         "line": {
          "color": "rgb(82, 18, 124)",
          "width": 1.790519516325968
         },
         "mode": "lines",
         "name": "Next-BB",
         "type": "scatter3d",
         "uid": "dc83f7d3-0e14-45d2-8ced-753d5c4ce1ec",
         "x": [
          0.0005486589735378758,
          0.8420875426818134,
          null
         ],
         "y": [
          0.0005046098607206915,
          0.01642653595908567,
          null
         ],
         "z": [
          -0.0030330108028384845,
          0.714830156884281,
          null
         ]
        },
        {
         "hoverinfo": "none",
         "line": {
          "color": "rgb(0, 0, 4)",
          "width": 0.521859860569538
         },
         "mode": "lines",
         "name": "Next-Itau",
         "type": "scatter3d",
         "uid": "eb33e593-f20e-447b-83e9-83cf67edb3c0",
         "x": [
          0.0005486589735378758,
          0.8205728518513574,
          null
         ],
         "y": [
          0.0005046098607206915,
          -0.27042748132868516,
          null
         ],
         "z": [
          -0.0030330108028384845,
          -0.6903476046899265,
          null
         ]
        },
        {
         "hoverinfo": "none",
         "line": {
          "color": "rgb(0, 0, 3)",
          "width": 0.5
         },
         "mode": "lines",
         "name": "Next-XP Investimentos",
         "type": "scatter3d",
         "uid": "034230ee-6482-4965-88a6-12e5ab2f4f32",
         "x": [
          0.0005486589735378758,
          -0.3925890805447159,
          null
         ],
         "y": [
          0.0005046098607206915,
          -0.6088229647193883,
          null
         ],
         "z": [
          -0.0030330108028384845,
          -0.8365457435351223,
          null
         ]
        },
        {
         "hoverinfo": "none",
         "line": {
          "color": "rgb(16, 12, 47)",
          "width": 0.9356217259443066
         },
         "mode": "lines",
         "name": "Next-CEF",
         "type": "scatter3d",
         "uid": "fdac09c3-2e47-4646-b7c2-0c46d3317427",
         "x": [
          0.0005486589735378758,
          0.5314051466556905,
          null
         ],
         "y": [
          0.0005046098607206915,
          0.9458942286775246,
          null
         ],
         "z": [
          -0.0030330108028384845,
          -0.1911230041718123,
          null
         ]
        },
        {
         "hoverinfo": "none",
         "line": {
          "color": "rgb(1, 1, 11)",
          "width": 0.60929930284769
         },
         "mode": "lines",
         "name": "Next-Santander",
         "type": "scatter3d",
         "uid": "97315065-a398-4a8e-bb00-96322d44f851",
         "x": [
          0.0005486589735378758,
          -0.611359595593481,
          null
         ],
         "y": [
          0.0005046098607206915,
          0.6729381639830007,
          null
         ],
         "z": [
          -0.0030330108028384845,
          -0.625402454456174,
          null
         ]
        }
       ],
       "layout": {
        "height": 1000,
        "margin": {
         "t": 100
        },
        "scene": {
         "annotations": [
          {
           "font": {
            "size": 14
           },
           "showarrow": false,
           "text": "Next",
           "x": 0.0005486589735378758,
           "xanchor": "left",
           "xshift": 10,
           "y": 0.1005046098607207,
           "yanchor": "bottom",
           "z": -0.0030330108028384845
          },
          {
           "font": {
            "size": 14
           },
           "showarrow": false,
           "text": "Inter",
           "x": -0.3641844471156164,
           "xanchor": "left",
           "xshift": 10,
           "y": 0.6984309185012846,
           "yanchor": "bottom",
           "z": 0.8581374562809816
          },
          {
           "font": {
            "size": 14
           },
           "showarrow": false,
           "text": "Nubank",
           "x": 0.16333760419696502,
           "xanchor": "left",
           "xshift": 10,
           "y": -0.8999999999999999,
           "yanchor": "bottom",
           "z": 0.43839734668433966
          },
          {
           "font": {
            "size": 14
           },
           "showarrow": false,
           "text": "BB",
           "x": 0.8420875426818134,
           "xanchor": "left",
           "xshift": 10,
           "y": 0.11642653595908567,
           "yanchor": "bottom",
           "z": 0.714830156884281
          },
          {
           "font": {
            "size": 14
           },
           "showarrow": false,
           "text": "Itau",
           "x": 0.8205728518513574,
           "xanchor": "left",
           "xshift": 10,
           "y": -0.17042748132868515,
           "yanchor": "bottom",
           "z": -0.6903476046899265
          },
          {
           "font": {
            "size": 14
           },
           "showarrow": false,
           "text": "XP Investimentos",
           "x": -0.3925890805447159,
           "xanchor": "left",
           "xshift": 10,
           "y": -0.5088229647193884,
           "yanchor": "bottom",
           "z": -0.8365457435351223
          },
          {
           "font": {
            "size": 14
           },
           "showarrow": false,
           "text": "CEF",
           "x": 0.5314051466556905,
           "xanchor": "left",
           "xshift": 10,
           "y": 1.0458942286775246,
           "yanchor": "bottom",
           "z": -0.1911230041718123
          },
          {
           "font": {
            "size": 14
           },
           "showarrow": false,
           "text": "Santander",
           "x": -0.611359595593481,
           "xanchor": "left",
           "xshift": 10,
           "y": 0.7729381639830006,
           "yanchor": "bottom",
           "z": -0.625402454456174
          },
          {
           "font": {
            "size": 14
           },
           "showarrow": false,
           "text": "Bradesco",
           "x": -0.9898186811055512,
           "xanchor": "left",
           "xshift": 10,
           "y": -0.25494401093354246,
           "yanchor": "bottom",
           "z": 0.3350868578062715
          }
         ],
         "aspectratio": {
          "x": 1,
          "y": 1,
          "z": 1
         },
         "camera": {
          "center": {
           "x": 0,
           "y": 0,
           "z": 0
          },
          "eye": {
           "x": 1.96903462608,
           "y": -1.09022831971,
           "z": 0.405345349304
          },
          "up": {
           "x": 0,
           "y": 0,
           "z": 1
          }
         },
         "dragmode": "turntable",
         "xaxis": {
          "autorange": true,
          "showgrid": false,
          "showline": false,
          "showticklabels": false,
          "ticks": "",
          "title": {
           "text": ""
          },
          "zeroline": false
         },
         "yaxis": {
          "autorange": true,
          "showgrid": false,
          "showline": false,
          "showticklabels": false,
          "ticks": "",
          "title": {
           "text": ""
          },
          "zeroline": false
         },
         "zaxis": {
          "autorange": true,
          "showgrid": false,
          "showline": false,
          "showticklabels": false,
          "ticks": "",
          "title": {
           "text": ""
          },
          "zeroline": false
         }
        },
        "showlegend": true,
        "width": 1000
       }
      },
      "text/html": [
       "<div>\n",
       "        \n",
       "        \n",
       "            <div id=\"5e2df364-59be-46d9-aaae-3492115ec901\" class=\"plotly-graph-div\" style=\"height:1000px; width:1000px;\"></div>\n",
       "            <script type=\"text/javascript\">\n",
       "                require([\"plotly\"], function(Plotly) {\n",
       "                    window.PLOTLYENV=window.PLOTLYENV || {};\n",
       "                    window.PLOTLYENV.BASE_URL='https://plot.ly';\n",
       "                    \n",
       "                if (document.getElementById(\"5e2df364-59be-46d9-aaae-3492115ec901\")) {\n",
       "                    Plotly.newPlot(\n",
       "                        '5e2df364-59be-46d9-aaae-3492115ec901',\n",
       "                        [{\"hoverinfo\": \"text\", \"marker\": {\"cmax\": null, \"cmin\": null, \"color\": [\"rgb(0, 0, 6)\", \"rgb(35, 17, 82)\", \"rgb(251, 252, 191)\", \"rgb(20, 13, 53)\", \"rgb(0, 0, 3)\", \"rgb(0, 0, 3)\", \"rgb(251, 247, 185)\", \"rgb(0, 0, 3)\", \"rgb(21, 14, 56)\"], \"colorbar\": {\"thickness\": 15, \"title\": {\"side\": \"right\", \"text\": \"coco\"}, \"xanchor\": \"left\"}, \"colorscale\": \"Viridis\", \"line\": {\"width\": 2}, \"reversescale\": true, \"showscale\": false, \"size\": [2000, 35000, 234243, 23443, 2, 1, 232323, 666, 24433], \"sizemin\": 15, \"sizemode\": \"area\", \"sizeref\": 187.3944}, \"mode\": \"markers\", \"text\": [\"<b>Next</b><br>clients: 2000<br>profits: 234<br>\", \"<b>Inter</b><br>clients: 35000<br>profits: 1111<br>\", \"<b>Nubank</b><br>clients: 234243<br>profits: 2234<br>\", \"<b>BB</b><br>clients: 23443<br>profits: 2344<br>\", \"<b>Itau</b><br>clients: 2<br>profits: 444<br>\", \"<b>XP Investimentos</b><br>clients: 1<br>profits: 222<br>\", \"<b>CEF</b><br>clients: 232323<br>profits: 1<br>\", \"<b>Santander</b><br>clients: 666<br>profits: 1<br>\", \"<b>Bradesco</b><br>clients: 24433<br>profits: 9877<br>\"], \"type\": \"scatter3d\", \"uid\": \"7055e8c5-be66-4947-a704-61275f9e78f5\", \"x\": [0.0005486589735378758, -0.3641844471156164, 0.16333760419696502, 0.8420875426818134, 0.8205728518513574, -0.3925890805447159, 0.5314051466556905, -0.611359595593481, -0.9898186811055512], \"y\": [0.0005046098607206915, 0.5984309185012846, -0.9999999999999999, 0.01642653595908567, -0.27042748132868516, -0.6088229647193883, 0.9458942286775246, 0.6729381639830007, -0.35494401093354244], \"z\": [-0.0030330108028384845, 0.8581374562809816, 0.43839734668433966, 0.714830156884281, -0.6903476046899265, -0.8365457435351223, -0.1911230041718123, -0.625402454456174, 0.3350868578062715]}, {\"hoverinfo\": \"none\", \"line\": {\"color\": \"rgb(251, 252, 191)\", \"width\": 5.5}, \"mode\": \"lines\", \"name\": \"Next-Bradesco\", \"type\": \"scatter3d\", \"uid\": \"9314b4d1-4d59-4a56-afb2-a09162cf83b7\", \"x\": [0.0005486589735378758, -0.9898186811055512, null], \"y\": [0.0005046098607206915, -0.35494401093354244, null], \"z\": [-0.0030330108028384845, 0.3350868578062715, null]}, {\"hoverinfo\": \"none\", \"line\": {\"color\": \"rgb(30, 16, 73)\", \"width\": 1.1674150222537318}, \"mode\": \"lines\", \"name\": \"Next-Inter\", \"type\": \"scatter3d\", \"uid\": \"7e6ab68f-bf59-4630-ad50-6fb40a260df1\", \"x\": [0.0005486589735378758, -0.3641844471156164, null], \"y\": [0.0005046098607206915, 0.5984309185012846, null], \"z\": [-0.0030330108028384845, 0.8581374562809816, null]}, {\"hoverinfo\": \"none\", \"line\": {\"color\": \"rgb(172, 51, 123)\", \"width\": 2.9093111189885383}, \"mode\": \"lines\", \"name\": \"Next-Nubank\", \"type\": \"scatter3d\", \"uid\": \"1f8c1030-07e9-44a4-ace0-82d2e9f5ff89\", \"x\": [0.0005486589735378758, 0.16333760419696502, null], \"y\": [0.0005046098607206915, -0.9999999999999999, null], \"z\": [-0.0030330108028384845, 0.43839734668433966, null]}, {\"hoverinfo\": \"none\", \"line\": {\"color\": \"rgb(82, 18, 124)\", \"width\": 1.790519516325968}, \"mode\": \"lines\", \"name\": \"Next-BB\", \"type\": \"scatter3d\", \"uid\": \"200b1227-e5ea-41bb-8034-56866d06b6de\", \"x\": [0.0005486589735378758, 0.8420875426818134, null], \"y\": [0.0005046098607206915, 0.01642653595908567, null], \"z\": [-0.0030330108028384845, 0.714830156884281, null]}, {\"hoverinfo\": \"none\", \"line\": {\"color\": \"rgb(0, 0, 4)\", \"width\": 0.521859860569538}, \"mode\": \"lines\", \"name\": \"Next-Itau\", \"type\": \"scatter3d\", \"uid\": \"092a6ad2-6d98-44b9-94e6-19785ecf5ab8\", \"x\": [0.0005486589735378758, 0.8205728518513574, null], \"y\": [0.0005046098607206915, -0.27042748132868516, null], \"z\": [-0.0030330108028384845, -0.6903476046899265, null]}, {\"hoverinfo\": \"none\", \"line\": {\"color\": \"rgb(0, 0, 3)\", \"width\": 0.5}, \"mode\": \"lines\", \"name\": \"Next-XP Investimentos\", \"type\": \"scatter3d\", \"uid\": \"636dfb16-c75b-484e-92c0-6ffab26fa43e\", \"x\": [0.0005486589735378758, -0.3925890805447159, null], \"y\": [0.0005046098607206915, -0.6088229647193883, null], \"z\": [-0.0030330108028384845, -0.8365457435351223, null]}, {\"hoverinfo\": \"none\", \"line\": {\"color\": \"rgb(16, 12, 47)\", \"width\": 0.9356217259443066}, \"mode\": \"lines\", \"name\": \"Next-CEF\", \"type\": \"scatter3d\", \"uid\": \"fbe4bd56-c4e2-4660-95f3-63e172da06f5\", \"x\": [0.0005486589735378758, 0.5314051466556905, null], \"y\": [0.0005046098607206915, 0.9458942286775246, null], \"z\": [-0.0030330108028384845, -0.1911230041718123, null]}, {\"hoverinfo\": \"none\", \"line\": {\"color\": \"rgb(1, 1, 11)\", \"width\": 0.60929930284769}, \"mode\": \"lines\", \"name\": \"Next-Santander\", \"type\": \"scatter3d\", \"uid\": \"8d2d4f69-0209-4ddc-a685-e00672ecf2df\", \"x\": [0.0005486589735378758, -0.611359595593481, null], \"y\": [0.0005046098607206915, 0.6729381639830007, null], \"z\": [-0.0030330108028384845, -0.625402454456174, null]}],\n",
       "                        {\"height\": 1000, \"margin\": {\"t\": 100}, \"scene\": {\"annotations\": [{\"font\": {\"size\": 14}, \"showarrow\": false, \"text\": \"Next\", \"x\": 0.0005486589735378758, \"xanchor\": \"left\", \"xshift\": 10, \"y\": 0.1005046098607207, \"yanchor\": \"bottom\", \"z\": -0.0030330108028384845}, {\"font\": {\"size\": 14}, \"showarrow\": false, \"text\": \"Inter\", \"x\": -0.3641844471156164, \"xanchor\": \"left\", \"xshift\": 10, \"y\": 0.6984309185012846, \"yanchor\": \"bottom\", \"z\": 0.8581374562809816}, {\"font\": {\"size\": 14}, \"showarrow\": false, \"text\": \"Nubank\", \"x\": 0.16333760419696502, \"xanchor\": \"left\", \"xshift\": 10, \"y\": -0.8999999999999999, \"yanchor\": \"bottom\", \"z\": 0.43839734668433966}, {\"font\": {\"size\": 14}, \"showarrow\": false, \"text\": \"BB\", \"x\": 0.8420875426818134, \"xanchor\": \"left\", \"xshift\": 10, \"y\": 0.11642653595908567, \"yanchor\": \"bottom\", \"z\": 0.714830156884281}, {\"font\": {\"size\": 14}, \"showarrow\": false, \"text\": \"Itau\", \"x\": 0.8205728518513574, \"xanchor\": \"left\", \"xshift\": 10, \"y\": -0.17042748132868515, \"yanchor\": \"bottom\", \"z\": -0.6903476046899265}, {\"font\": {\"size\": 14}, \"showarrow\": false, \"text\": \"XP Investimentos\", \"x\": -0.3925890805447159, \"xanchor\": \"left\", \"xshift\": 10, \"y\": -0.5088229647193884, \"yanchor\": \"bottom\", \"z\": -0.8365457435351223}, {\"font\": {\"size\": 14}, \"showarrow\": false, \"text\": \"CEF\", \"x\": 0.5314051466556905, \"xanchor\": \"left\", \"xshift\": 10, \"y\": 1.0458942286775246, \"yanchor\": \"bottom\", \"z\": -0.1911230041718123}, {\"font\": {\"size\": 14}, \"showarrow\": false, \"text\": \"Santander\", \"x\": -0.611359595593481, \"xanchor\": \"left\", \"xshift\": 10, \"y\": 0.7729381639830006, \"yanchor\": \"bottom\", \"z\": -0.625402454456174}, {\"font\": {\"size\": 14}, \"showarrow\": false, \"text\": \"Bradesco\", \"x\": -0.9898186811055512, \"xanchor\": \"left\", \"xshift\": 10, \"y\": -0.25494401093354246, \"yanchor\": \"bottom\", \"z\": 0.3350868578062715}], \"aspectratio\": {\"x\": 1, \"y\": 1, \"z\": 1}, \"camera\": {\"center\": {\"x\": 0, \"y\": 0, \"z\": 0}, \"eye\": {\"x\": 1.96903462608, \"y\": -1.09022831971, \"z\": 0.405345349304}, \"up\": {\"x\": 0, \"y\": 0, \"z\": 1}}, \"dragmode\": \"turntable\", \"xaxis\": {\"autorange\": true, \"showgrid\": false, \"showline\": false, \"showticklabels\": false, \"ticks\": \"\", \"title\": {\"text\": \"\"}, \"zeroline\": false}, \"yaxis\": {\"autorange\": true, \"showgrid\": false, \"showline\": false, \"showticklabels\": false, \"ticks\": \"\", \"title\": {\"text\": \"\"}, \"zeroline\": false}, \"zaxis\": {\"autorange\": true, \"showgrid\": false, \"showline\": false, \"showticklabels\": false, \"ticks\": \"\", \"title\": {\"text\": \"\"}, \"zeroline\": false}}, \"showlegend\": true, \"width\": 1000},\n",
       "                        {\"showLink\": false, \"linkText\": \"Export to plot.ly\", \"plotlyServerURL\": \"https://plot.ly\", \"responsive\": true}\n",
       "                    ).then(function(){\n",
       "                            \n",
       "var gd = document.getElementById('5e2df364-59be-46d9-aaae-3492115ec901');\n",
       "var x = new MutationObserver(function (mutations, observer) {{\n",
       "        var display = window.getComputedStyle(gd).display;\n",
       "        if (!display || display === 'none') {{\n",
       "            console.log([gd, 'removed!']);\n",
       "            Plotly.purge(gd);\n",
       "            observer.disconnect();\n",
       "        }}\n",
       "}});\n",
       "\n",
       "// Listen for the removal of the full notebook cells\n",
       "var notebookContainer = gd.closest('#notebook-container');\n",
       "if (notebookContainer) {{\n",
       "    x.observe(notebookContainer, {childList: true});\n",
       "}}\n",
       "\n",
       "// Listen for the clearing of the current output cell\n",
       "var outputEl = gd.closest('.output');\n",
       "if (outputEl) {{\n",
       "    x.observe(outputEl, {childList: true});\n",
       "}}\n",
       "\n",
       "                        })\n",
       "                };\n",
       "                });\n",
       "            </script>\n",
       "        </div>"
      ]
     },
     "metadata": {},
     "output_type": "display_data"
    }
   ],
   "source": [
    "mygraph.plot(title='coco', node_size_col='clients', node_color_col='clients', edge_width_col='sent', edge_color_col='sent')"
   ]
  },
  {
   "cell_type": "code",
   "execution_count": null,
   "metadata": {},
   "outputs": [],
   "source": []
  }
 ],
 "metadata": {
  "kernelspec": {
   "display_name": "Python 3",
   "language": "python",
   "name": "python3"
  },
  "language_info": {
   "codemirror_mode": {
    "name": "ipython",
    "version": 3
   },
   "file_extension": ".py",
   "mimetype": "text/x-python",
   "name": "python",
   "nbconvert_exporter": "python",
   "pygments_lexer": "ipython3",
   "version": "3.7.0"
  }
 },
 "nbformat": 4,
 "nbformat_minor": 2
}
