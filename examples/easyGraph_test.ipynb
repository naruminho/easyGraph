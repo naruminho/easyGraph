{
 "cells": [
  {
   "cell_type": "code",
   "execution_count": 5,
   "metadata": {},
   "outputs": [
    {
     "name": "stdout",
     "output_type": "stream",
     "text": [
      "The autoreload extension is already loaded. To reload it, use:\n",
      "  %reload_ext autoreload\n"
     ]
    },
    {
     "data": {
      "text/html": [
       "        <script type=\"text/javascript\">\n",
       "        window.PlotlyConfig = {MathJaxConfig: 'local'};\n",
       "        if (window.MathJax) {MathJax.Hub.Config({SVG: {font: \"STIX-Web\"}});}\n",
       "        if (typeof require !== 'undefined') {\n",
       "        require.undef(\"plotly\");\n",
       "        requirejs.config({\n",
       "            paths: {\n",
       "                'plotly': ['https://cdn.plot.ly/plotly-latest.min']\n",
       "            }\n",
       "        });\n",
       "        require(['plotly'], function(Plotly) {\n",
       "            window._Plotly = Plotly;\n",
       "        });\n",
       "        }\n",
       "        </script>\n",
       "        "
      ]
     },
     "metadata": {},
     "output_type": "display_data"
    }
   ],
   "source": [
    "%load_ext autoreload\n",
    "%autoreload 2\n",
    "from tareco import *\n",
    "import pandas as pd"
   ]
  },
  {
   "cell_type": "code",
   "execution_count": 6,
   "metadata": {},
   "outputs": [],
   "source": [
    "# creating an empty graph object\n",
    "mygraph = Tareco(6,dim=3)"
   ]
  },
  {
   "cell_type": "code",
   "execution_count": 7,
   "metadata": {},
   "outputs": [
    {
     "data": {
      "text/html": [
       "<div>\n",
       "<style scoped>\n",
       "    .dataframe tbody tr th:only-of-type {\n",
       "        vertical-align: middle;\n",
       "    }\n",
       "\n",
       "    .dataframe tbody tr th {\n",
       "        vertical-align: top;\n",
       "    }\n",
       "\n",
       "    .dataframe thead th {\n",
       "        text-align: right;\n",
       "    }\n",
       "</style>\n",
       "<table border=\"1\" class=\"dataframe\">\n",
       "  <thead>\n",
       "    <tr style=\"text-align: right;\">\n",
       "      <th></th>\n",
       "      <th>banco</th>\n",
       "      <th>clientes</th>\n",
       "      <th>lucro</th>\n",
       "    </tr>\n",
       "  </thead>\n",
       "  <tbody>\n",
       "    <tr>\n",
       "      <th>0</th>\n",
       "      <td>Next</td>\n",
       "      <td>2000</td>\n",
       "      <td>234</td>\n",
       "    </tr>\n",
       "    <tr>\n",
       "      <th>1</th>\n",
       "      <td>Inter</td>\n",
       "      <td>35000</td>\n",
       "      <td>1111</td>\n",
       "    </tr>\n",
       "    <tr>\n",
       "      <th>2</th>\n",
       "      <td>Nubank</td>\n",
       "      <td>234243</td>\n",
       "      <td>2234</td>\n",
       "    </tr>\n",
       "    <tr>\n",
       "      <th>3</th>\n",
       "      <td>BB</td>\n",
       "      <td>23443</td>\n",
       "      <td>2344</td>\n",
       "    </tr>\n",
       "    <tr>\n",
       "      <th>4</th>\n",
       "      <td>Itau</td>\n",
       "      <td>2</td>\n",
       "      <td>444</td>\n",
       "    </tr>\n",
       "  </tbody>\n",
       "</table>\n",
       "</div>"
      ],
      "text/plain": [
       "    banco  clientes  lucro\n",
       "0    Next      2000    234\n",
       "1   Inter     35000   1111\n",
       "2  Nubank    234243   2234\n",
       "3      BB     23443   2344\n",
       "4    Itau         2    444"
      ]
     },
     "execution_count": 7,
     "metadata": {},
     "output_type": "execute_result"
    }
   ],
   "source": [
    "# creating a node dataframe \n",
    "bancos = pd.DataFrame({\n",
    "        'bank' : ['Next', 'Inter', 'Nubank', 'BB', 'Itau', 'XP Investimentos', 'CEF', 'Santander','Bradesco'],\n",
    "        'clients': [2000,   35000, 234243, 23443,2,1,232323, 666, 24433],\n",
    "        'profits': [234, 1111, 2234, 2344, 444, 222, 1, 1, 9877] \n",
    "})\n",
    "bancos.head()"
   ]
  },
  {
   "cell_type": "code",
   "execution_count": 8,
   "metadata": {},
   "outputs": [],
   "source": [
    "# adding the nodes to the graph\n",
    "# 'banco' is the id column \n",
    "mygraph.node.load(bancos, 'bank')"
   ]
  },
  {
   "cell_type": "code",
   "execution_count": 9,
   "metadata": {},
   "outputs": [
    {
     "data": {
      "text/html": [
       "<div>\n",
       "<style scoped>\n",
       "    .dataframe tbody tr th:only-of-type {\n",
       "        vertical-align: middle;\n",
       "    }\n",
       "\n",
       "    .dataframe tbody tr th {\n",
       "        vertical-align: top;\n",
       "    }\n",
       "\n",
       "    .dataframe thead th {\n",
       "        text-align: right;\n",
       "    }\n",
       "</style>\n",
       "<table border=\"1\" class=\"dataframe\">\n",
       "  <thead>\n",
       "    <tr style=\"text-align: right;\">\n",
       "      <th></th>\n",
       "      <th>de</th>\n",
       "      <th>para</th>\n",
       "      <th>enviado</th>\n",
       "      <th>recebido</th>\n",
       "    </tr>\n",
       "  </thead>\n",
       "  <tbody>\n",
       "    <tr>\n",
       "      <th>0</th>\n",
       "      <td>Next</td>\n",
       "      <td>Bradesco</td>\n",
       "      <td>25500</td>\n",
       "      <td>2344</td>\n",
       "    </tr>\n",
       "    <tr>\n",
       "      <th>1</th>\n",
       "      <td>Next</td>\n",
       "      <td>Inter</td>\n",
       "      <td>3500</td>\n",
       "      <td>111</td>\n",
       "    </tr>\n",
       "    <tr>\n",
       "      <th>2</th>\n",
       "      <td>Next</td>\n",
       "      <td>Nubank</td>\n",
       "      <td>12345</td>\n",
       "      <td>22234</td>\n",
       "    </tr>\n",
       "    <tr>\n",
       "      <th>3</th>\n",
       "      <td>Next</td>\n",
       "      <td>BB</td>\n",
       "      <td>6664</td>\n",
       "      <td>234</td>\n",
       "    </tr>\n",
       "    <tr>\n",
       "      <th>4</th>\n",
       "      <td>Next</td>\n",
       "      <td>Itau</td>\n",
       "      <td>222</td>\n",
       "      <td>4344</td>\n",
       "    </tr>\n",
       "  </tbody>\n",
       "</table>\n",
       "</div>"
      ],
      "text/plain": [
       "     de      para  enviado  recebido\n",
       "0  Next  Bradesco    25500      2344\n",
       "1  Next     Inter     3500       111\n",
       "2  Next    Nubank    12345     22234\n",
       "3  Next        BB     6664       234\n",
       "4  Next      Itau      222      4344"
      ]
     },
     "execution_count": 9,
     "metadata": {},
     "output_type": "execute_result"
    }
   ],
   "source": [
    "teds = pd.DataFrame({\n",
    "        'from' : ['Next', 'Next', 'Next', 'Next', 'Next', 'Next', 'Next', 'Next'],\n",
    "        'to' : ['Bradesco', 'Inter', 'Nubank', 'BB', 'Itau', 'XP Investimentos', 'CEF', 'Santander'],\n",
    "        'sent': [25500,   3500, 12345, 6664, 222,111, 2323, 666],\n",
    "        'received': [2344, 111, 22234, 234, 4344, 2322, 1111, 1111] \n",
    "})\n",
    "teds.head()"
   ]
  },
  {
   "cell_type": "code",
   "execution_count": 10,
   "metadata": {},
   "outputs": [],
   "source": [
    "mygraph.edge.load(teds, 'from', 'to')"
   ]
  },
  {
   "cell_type": "code",
   "execution_count": 11,
   "metadata": {},
   "outputs": [
    {
     "data": {
      "application/vnd.plotly.v1+json": {
       "config": {
        "linkText": "Export to plot.ly",
        "plotlyServerURL": "https://plot.ly",
        "responsive": true,
        "showLink": false
       },
       "data": [
        {
         "hoverinfo": "text",
         "marker": {
          "cmax": null,
          "cmin": null,
          "color": [
           "rgb(0, 0, 6)",
           "rgb(35, 17, 82)",
           "rgb(251, 252, 191)",
           "rgb(20, 13, 53)",
           "rgb(0, 0, 3)",
           "rgb(0, 0, 3)",
           "rgb(251, 247, 185)",
           "rgb(0, 0, 3)",
           "rgb(21, 14, 56)"
          ],
          "colorbar": {
           "thickness": 15,
           "title": {
            "side": "right",
            "text": "coco"
           },
           "xanchor": "left"
          },
          "colorscale": "Viridis",
          "line": {
           "width": 2
          },
          "reversescale": true,
          "showscale": false,
          "size": [
           2000,
           35000,
           234243,
           23443,
           2,
           1,
           232323,
           666,
           24433
          ],
          "sizemin": 15,
          "sizemode": "area",
          "sizeref": 187.3944
         },
         "mode": "markers",
         "text": [
          "<b>Next</b><br>clientes: 2000<br>lucro: 234<br>",
          "<b>Inter</b><br>clientes: 35000<br>lucro: 1111<br>",
          "<b>Nubank</b><br>clientes: 234243<br>lucro: 2234<br>",
          "<b>BB</b><br>clientes: 23443<br>lucro: 2344<br>",
          "<b>Itau</b><br>clientes: 2<br>lucro: 444<br>",
          "<b>XP Investimentos</b><br>clientes: 1<br>lucro: 222<br>",
          "<b>CEF</b><br>clientes: 232323<br>lucro: 1<br>",
          "<b>Santander</b><br>clientes: 666<br>lucro: 1<br>",
          "<b>Bradesco</b><br>clientes: 24433<br>lucro: 9877<br>"
         ],
         "type": "scatter3d",
         "uid": "1fa07f16-ee64-4ddd-a24d-9b10b08c998e",
         "x": [
          -0.0012296769063381893,
          0.8487477985416515,
          0.7286797198755499,
          -0.3476623369232862,
          -1,
          -0.08632319597340249,
          0.4665233491024561,
          -0.20620024295562556,
          -0.4025354147610058
         ],
         "y": [
          0.0017750885980528637,
          -0.11652685941714462,
          -0.285492096084473,
          -0.7610226853633794,
          0.03374577997732102,
          -0.8188093705479584,
          0.895518580551872,
          0.5543708297167318,
          0.49644073256897603
         ],
         "z": [
          0.0007932156830074089,
          -0.5471691573209363,
          0.6477411031794887,
          0.5762807001451674,
          -0.17501050380959357,
          -0.5993952380135106,
          0.1338141039080727,
          -0.8250660448332704,
          0.7880118210615755
         ]
        },
        {
         "hoverinfo": "none",
         "line": {
          "color": "rgb(251, 252, 191)",
          "width": 5.5
         },
         "mode": "lines",
         "name": "Next-Bradesco",
         "type": "scatter3d",
         "uid": "745df97c-82ba-4fb2-a9f1-2470c4a0025b",
         "x": [
          -0.0012296769063381893,
          -0.4025354147610058,
          null
         ],
         "y": [
          0.0017750885980528637,
          0.49644073256897603,
          null
         ],
         "z": [
          0.0007932156830074089,
          0.7880118210615755,
          null
         ]
        },
        {
         "hoverinfo": "none",
         "line": {
          "color": "rgb(30, 16, 73)",
          "width": 1.1674150222537318
         },
         "mode": "lines",
         "name": "Next-Inter",
         "type": "scatter3d",
         "uid": "1a9ab80d-11dc-4bab-ac8c-196441ef978b",
         "x": [
          -0.0012296769063381893,
          0.8487477985416515,
          null
         ],
         "y": [
          0.0017750885980528637,
          -0.11652685941714462,
          null
         ],
         "z": [
          0.0007932156830074089,
          -0.5471691573209363,
          null
         ]
        },
        {
         "hoverinfo": "none",
         "line": {
          "color": "rgb(172, 51, 123)",
          "width": 2.9093111189885383
         },
         "mode": "lines",
         "name": "Next-Nubank",
         "type": "scatter3d",
         "uid": "f7719be6-25d1-4326-8d96-19ae984d5aba",
         "x": [
          -0.0012296769063381893,
          0.7286797198755499,
          null
         ],
         "y": [
          0.0017750885980528637,
          -0.285492096084473,
          null
         ],
         "z": [
          0.0007932156830074089,
          0.6477411031794887,
          null
         ]
        },
        {
         "hoverinfo": "none",
         "line": {
          "color": "rgb(82, 18, 124)",
          "width": 1.790519516325968
         },
         "mode": "lines",
         "name": "Next-BB",
         "type": "scatter3d",
         "uid": "ca992415-77c6-4d29-904a-0a574441842c",
         "x": [
          -0.0012296769063381893,
          -0.3476623369232862,
          null
         ],
         "y": [
          0.0017750885980528637,
          -0.7610226853633794,
          null
         ],
         "z": [
          0.0007932156830074089,
          0.5762807001451674,
          null
         ]
        },
        {
         "hoverinfo": "none",
         "line": {
          "color": "rgb(0, 0, 4)",
          "width": 0.521859860569538
         },
         "mode": "lines",
         "name": "Next-Itau",
         "type": "scatter3d",
         "uid": "970cdb57-a611-4360-8053-82f9ad4f74cd",
         "x": [
          -0.0012296769063381893,
          -1,
          null
         ],
         "y": [
          0.0017750885980528637,
          0.03374577997732102,
          null
         ],
         "z": [
          0.0007932156830074089,
          -0.17501050380959357,
          null
         ]
        },
        {
         "hoverinfo": "none",
         "line": {
          "color": "rgb(0, 0, 3)",
          "width": 0.5
         },
         "mode": "lines",
         "name": "Next-XP Investimentos",
         "type": "scatter3d",
         "uid": "55387a9e-dc21-4047-a812-6b3f76a63b48",
         "x": [
          -0.0012296769063381893,
          -0.08632319597340249,
          null
         ],
         "y": [
          0.0017750885980528637,
          -0.8188093705479584,
          null
         ],
         "z": [
          0.0007932156830074089,
          -0.5993952380135106,
          null
         ]
        },
        {
         "hoverinfo": "none",
         "line": {
          "color": "rgb(16, 12, 47)",
          "width": 0.9356217259443066
         },
         "mode": "lines",
         "name": "Next-CEF",
         "type": "scatter3d",
         "uid": "b688c4e4-858a-4c81-bccf-014e2ca84f1c",
         "x": [
          -0.0012296769063381893,
          0.4665233491024561,
          null
         ],
         "y": [
          0.0017750885980528637,
          0.895518580551872,
          null
         ],
         "z": [
          0.0007932156830074089,
          0.1338141039080727,
          null
         ]
        },
        {
         "hoverinfo": "none",
         "line": {
          "color": "rgb(1, 1, 11)",
          "width": 0.60929930284769
         },
         "mode": "lines",
         "name": "Next-Santander",
         "type": "scatter3d",
         "uid": "e7e3c3e2-5f5c-46ad-ba03-7c55b6dd7209",
         "x": [
          -0.0012296769063381893,
          -0.20620024295562556,
          null
         ],
         "y": [
          0.0017750885980528637,
          0.5543708297167318,
          null
         ],
         "z": [
          0.0007932156830074089,
          -0.8250660448332704,
          null
         ]
        }
       ],
       "layout": {
        "height": 1000,
        "margin": {
         "t": 100
        },
        "scene": {
         "annotations": [
          {
           "font": {
            "size": 14
           },
           "showarrow": false,
           "text": "Next",
           "x": -0.0012296769063381893,
           "xanchor": "left",
           "xshift": 10,
           "y": 0.10177508859805287,
           "yanchor": "bottom",
           "z": 0.0007932156830074089
          },
          {
           "font": {
            "size": 14
           },
           "showarrow": false,
           "text": "Inter",
           "x": 0.8487477985416515,
           "xanchor": "left",
           "xshift": 10,
           "y": -0.016526859417144615,
           "yanchor": "bottom",
           "z": -0.5471691573209363
          },
          {
           "font": {
            "size": 14
           },
           "showarrow": false,
           "text": "Nubank",
           "x": 0.7286797198755499,
           "xanchor": "left",
           "xshift": 10,
           "y": -0.185492096084473,
           "yanchor": "bottom",
           "z": 0.6477411031794887
          },
          {
           "font": {
            "size": 14
           },
           "showarrow": false,
           "text": "BB",
           "x": -0.3476623369232862,
           "xanchor": "left",
           "xshift": 10,
           "y": -0.6610226853633794,
           "yanchor": "bottom",
           "z": 0.5762807001451674
          },
          {
           "font": {
            "size": 14
           },
           "showarrow": false,
           "text": "Itau",
           "x": -1,
           "xanchor": "left",
           "xshift": 10,
           "y": 0.133745779977321,
           "yanchor": "bottom",
           "z": -0.17501050380959357
          },
          {
           "font": {
            "size": 14
           },
           "showarrow": false,
           "text": "XP Investimentos",
           "x": -0.08632319597340249,
           "xanchor": "left",
           "xshift": 10,
           "y": -0.7188093705479585,
           "yanchor": "bottom",
           "z": -0.5993952380135106
          },
          {
           "font": {
            "size": 14
           },
           "showarrow": false,
           "text": "CEF",
           "x": 0.4665233491024561,
           "xanchor": "left",
           "xshift": 10,
           "y": 0.9955185805518719,
           "yanchor": "bottom",
           "z": 0.1338141039080727
          },
          {
           "font": {
            "size": 14
           },
           "showarrow": false,
           "text": "Santander",
           "x": -0.20620024295562556,
           "xanchor": "left",
           "xshift": 10,
           "y": 0.6543708297167318,
           "yanchor": "bottom",
           "z": -0.8250660448332704
          },
          {
           "font": {
            "size": 14
           },
           "showarrow": false,
           "text": "Bradesco",
           "x": -0.4025354147610058,
           "xanchor": "left",
           "xshift": 10,
           "y": 0.596440732568976,
           "yanchor": "bottom",
           "z": 0.7880118210615755
          }
         ],
         "aspectratio": {
          "x": 1,
          "y": 1,
          "z": 1
         },
         "camera": {
          "center": {
           "x": 0,
           "y": 0,
           "z": 0
          },
          "eye": {
           "x": 1.96903462608,
           "y": -1.09022831971,
           "z": 0.405345349304
          },
          "up": {
           "x": 0,
           "y": 0,
           "z": 1
          }
         },
         "dragmode": "turntable",
         "xaxis": {
          "autorange": true,
          "showgrid": false,
          "showline": false,
          "showticklabels": false,
          "ticks": "",
          "title": {
           "text": ""
          },
          "zeroline": false
         },
         "yaxis": {
          "autorange": true,
          "showgrid": false,
          "showline": false,
          "showticklabels": false,
          "ticks": "",
          "title": {
           "text": ""
          },
          "zeroline": false
         },
         "zaxis": {
          "autorange": true,
          "showgrid": false,
          "showline": false,
          "showticklabels": false,
          "ticks": "",
          "title": {
           "text": ""
          },
          "zeroline": false
         }
        },
        "showlegend": true,
        "width": 1000
       }
      },
      "text/html": [
       "<div>\n",
       "        \n",
       "        \n",
       "            <div id=\"f4f3d250-89c9-4467-986e-1775562c07d0\" class=\"plotly-graph-div\" style=\"height:1000px; width:1000px;\"></div>\n",
       "            <script type=\"text/javascript\">\n",
       "                require([\"plotly\"], function(Plotly) {\n",
       "                    window.PLOTLYENV=window.PLOTLYENV || {};\n",
       "                    window.PLOTLYENV.BASE_URL='https://plot.ly';\n",
       "                    \n",
       "                if (document.getElementById(\"f4f3d250-89c9-4467-986e-1775562c07d0\")) {\n",
       "                    Plotly.newPlot(\n",
       "                        'f4f3d250-89c9-4467-986e-1775562c07d0',\n",
       "                        [{\"hoverinfo\": \"text\", \"marker\": {\"cmax\": null, \"cmin\": null, \"color\": [\"rgb(0, 0, 6)\", \"rgb(35, 17, 82)\", \"rgb(251, 252, 191)\", \"rgb(20, 13, 53)\", \"rgb(0, 0, 3)\", \"rgb(0, 0, 3)\", \"rgb(251, 247, 185)\", \"rgb(0, 0, 3)\", \"rgb(21, 14, 56)\"], \"colorbar\": {\"thickness\": 15, \"title\": {\"side\": \"right\", \"text\": \"coco\"}, \"xanchor\": \"left\"}, \"colorscale\": \"Viridis\", \"line\": {\"width\": 2}, \"reversescale\": true, \"showscale\": false, \"size\": [2000, 35000, 234243, 23443, 2, 1, 232323, 666, 24433], \"sizemin\": 15, \"sizemode\": \"area\", \"sizeref\": 187.3944}, \"mode\": \"markers\", \"text\": [\"<b>Next</b><br>clientes: 2000<br>lucro: 234<br>\", \"<b>Inter</b><br>clientes: 35000<br>lucro: 1111<br>\", \"<b>Nubank</b><br>clientes: 234243<br>lucro: 2234<br>\", \"<b>BB</b><br>clientes: 23443<br>lucro: 2344<br>\", \"<b>Itau</b><br>clientes: 2<br>lucro: 444<br>\", \"<b>XP Investimentos</b><br>clientes: 1<br>lucro: 222<br>\", \"<b>CEF</b><br>clientes: 232323<br>lucro: 1<br>\", \"<b>Santander</b><br>clientes: 666<br>lucro: 1<br>\", \"<b>Bradesco</b><br>clientes: 24433<br>lucro: 9877<br>\"], \"type\": \"scatter3d\", \"uid\": \"9b3ea958-a8a9-4f9d-86c3-77092352b15f\", \"x\": [-0.0012296769063381893, 0.8487477985416515, 0.7286797198755499, -0.3476623369232862, -1.0, -0.08632319597340249, 0.4665233491024561, -0.20620024295562556, -0.4025354147610058], \"y\": [0.0017750885980528637, -0.11652685941714462, -0.285492096084473, -0.7610226853633794, 0.03374577997732102, -0.8188093705479584, 0.895518580551872, 0.5543708297167318, 0.49644073256897603], \"z\": [0.0007932156830074089, -0.5471691573209363, 0.6477411031794887, 0.5762807001451674, -0.17501050380959357, -0.5993952380135106, 0.1338141039080727, -0.8250660448332704, 0.7880118210615755]}, {\"hoverinfo\": \"none\", \"line\": {\"color\": \"rgb(251, 252, 191)\", \"width\": 5.5}, \"mode\": \"lines\", \"name\": \"Next-Bradesco\", \"type\": \"scatter3d\", \"uid\": \"2ffa7e2e-3ead-4291-8d82-0f9be09750a3\", \"x\": [-0.0012296769063381893, -0.4025354147610058, null], \"y\": [0.0017750885980528637, 0.49644073256897603, null], \"z\": [0.0007932156830074089, 0.7880118210615755, null]}, {\"hoverinfo\": \"none\", \"line\": {\"color\": \"rgb(30, 16, 73)\", \"width\": 1.1674150222537318}, \"mode\": \"lines\", \"name\": \"Next-Inter\", \"type\": \"scatter3d\", \"uid\": \"09bf6e64-721e-4dc6-b420-471b7f817d43\", \"x\": [-0.0012296769063381893, 0.8487477985416515, null], \"y\": [0.0017750885980528637, -0.11652685941714462, null], \"z\": [0.0007932156830074089, -0.5471691573209363, null]}, {\"hoverinfo\": \"none\", \"line\": {\"color\": \"rgb(172, 51, 123)\", \"width\": 2.9093111189885383}, \"mode\": \"lines\", \"name\": \"Next-Nubank\", \"type\": \"scatter3d\", \"uid\": \"565e0eff-cb51-4d8c-a6c2-6534f64dbbf1\", \"x\": [-0.0012296769063381893, 0.7286797198755499, null], \"y\": [0.0017750885980528637, -0.285492096084473, null], \"z\": [0.0007932156830074089, 0.6477411031794887, null]}, {\"hoverinfo\": \"none\", \"line\": {\"color\": \"rgb(82, 18, 124)\", \"width\": 1.790519516325968}, \"mode\": \"lines\", \"name\": \"Next-BB\", \"type\": \"scatter3d\", \"uid\": \"af22a290-438e-427a-88ca-8d7f55db6ee1\", \"x\": [-0.0012296769063381893, -0.3476623369232862, null], \"y\": [0.0017750885980528637, -0.7610226853633794, null], \"z\": [0.0007932156830074089, 0.5762807001451674, null]}, {\"hoverinfo\": \"none\", \"line\": {\"color\": \"rgb(0, 0, 4)\", \"width\": 0.521859860569538}, \"mode\": \"lines\", \"name\": \"Next-Itau\", \"type\": \"scatter3d\", \"uid\": \"babf1b7a-8ec1-4390-9450-6c1758e815b9\", \"x\": [-0.0012296769063381893, -1.0, null], \"y\": [0.0017750885980528637, 0.03374577997732102, null], \"z\": [0.0007932156830074089, -0.17501050380959357, null]}, {\"hoverinfo\": \"none\", \"line\": {\"color\": \"rgb(0, 0, 3)\", \"width\": 0.5}, \"mode\": \"lines\", \"name\": \"Next-XP Investimentos\", \"type\": \"scatter3d\", \"uid\": \"ea6d3421-1872-4c1d-9a3e-f075df45e8ca\", \"x\": [-0.0012296769063381893, -0.08632319597340249, null], \"y\": [0.0017750885980528637, -0.8188093705479584, null], \"z\": [0.0007932156830074089, -0.5993952380135106, null]}, {\"hoverinfo\": \"none\", \"line\": {\"color\": \"rgb(16, 12, 47)\", \"width\": 0.9356217259443066}, \"mode\": \"lines\", \"name\": \"Next-CEF\", \"type\": \"scatter3d\", \"uid\": \"d6d413cd-d85f-4698-b1f7-a553c019e634\", \"x\": [-0.0012296769063381893, 0.4665233491024561, null], \"y\": [0.0017750885980528637, 0.895518580551872, null], \"z\": [0.0007932156830074089, 0.1338141039080727, null]}, {\"hoverinfo\": \"none\", \"line\": {\"color\": \"rgb(1, 1, 11)\", \"width\": 0.60929930284769}, \"mode\": \"lines\", \"name\": \"Next-Santander\", \"type\": \"scatter3d\", \"uid\": \"ee10c689-0ba6-46f5-98e7-ced2170a3c1e\", \"x\": [-0.0012296769063381893, -0.20620024295562556, null], \"y\": [0.0017750885980528637, 0.5543708297167318, null], \"z\": [0.0007932156830074089, -0.8250660448332704, null]}],\n",
       "                        {\"height\": 1000, \"margin\": {\"t\": 100}, \"scene\": {\"annotations\": [{\"font\": {\"size\": 14}, \"showarrow\": false, \"text\": \"Next\", \"x\": -0.0012296769063381893, \"xanchor\": \"left\", \"xshift\": 10, \"y\": 0.10177508859805287, \"yanchor\": \"bottom\", \"z\": 0.0007932156830074089}, {\"font\": {\"size\": 14}, \"showarrow\": false, \"text\": \"Inter\", \"x\": 0.8487477985416515, \"xanchor\": \"left\", \"xshift\": 10, \"y\": -0.016526859417144615, \"yanchor\": \"bottom\", \"z\": -0.5471691573209363}, {\"font\": {\"size\": 14}, \"showarrow\": false, \"text\": \"Nubank\", \"x\": 0.7286797198755499, \"xanchor\": \"left\", \"xshift\": 10, \"y\": -0.185492096084473, \"yanchor\": \"bottom\", \"z\": 0.6477411031794887}, {\"font\": {\"size\": 14}, \"showarrow\": false, \"text\": \"BB\", \"x\": -0.3476623369232862, \"xanchor\": \"left\", \"xshift\": 10, \"y\": -0.6610226853633794, \"yanchor\": \"bottom\", \"z\": 0.5762807001451674}, {\"font\": {\"size\": 14}, \"showarrow\": false, \"text\": \"Itau\", \"x\": -1.0, \"xanchor\": \"left\", \"xshift\": 10, \"y\": 0.133745779977321, \"yanchor\": \"bottom\", \"z\": -0.17501050380959357}, {\"font\": {\"size\": 14}, \"showarrow\": false, \"text\": \"XP Investimentos\", \"x\": -0.08632319597340249, \"xanchor\": \"left\", \"xshift\": 10, \"y\": -0.7188093705479585, \"yanchor\": \"bottom\", \"z\": -0.5993952380135106}, {\"font\": {\"size\": 14}, \"showarrow\": false, \"text\": \"CEF\", \"x\": 0.4665233491024561, \"xanchor\": \"left\", \"xshift\": 10, \"y\": 0.9955185805518719, \"yanchor\": \"bottom\", \"z\": 0.1338141039080727}, {\"font\": {\"size\": 14}, \"showarrow\": false, \"text\": \"Santander\", \"x\": -0.20620024295562556, \"xanchor\": \"left\", \"xshift\": 10, \"y\": 0.6543708297167318, \"yanchor\": \"bottom\", \"z\": -0.8250660448332704}, {\"font\": {\"size\": 14}, \"showarrow\": false, \"text\": \"Bradesco\", \"x\": -0.4025354147610058, \"xanchor\": \"left\", \"xshift\": 10, \"y\": 0.596440732568976, \"yanchor\": \"bottom\", \"z\": 0.7880118210615755}], \"aspectratio\": {\"x\": 1, \"y\": 1, \"z\": 1}, \"camera\": {\"center\": {\"x\": 0, \"y\": 0, \"z\": 0}, \"eye\": {\"x\": 1.96903462608, \"y\": -1.09022831971, \"z\": 0.405345349304}, \"up\": {\"x\": 0, \"y\": 0, \"z\": 1}}, \"dragmode\": \"turntable\", \"xaxis\": {\"autorange\": true, \"showgrid\": false, \"showline\": false, \"showticklabels\": false, \"ticks\": \"\", \"title\": {\"text\": \"\"}, \"zeroline\": false}, \"yaxis\": {\"autorange\": true, \"showgrid\": false, \"showline\": false, \"showticklabels\": false, \"ticks\": \"\", \"title\": {\"text\": \"\"}, \"zeroline\": false}, \"zaxis\": {\"autorange\": true, \"showgrid\": false, \"showline\": false, \"showticklabels\": false, \"ticks\": \"\", \"title\": {\"text\": \"\"}, \"zeroline\": false}}, \"showlegend\": true, \"width\": 1000},\n",
       "                        {\"showLink\": false, \"linkText\": \"Export to plot.ly\", \"plotlyServerURL\": \"https://plot.ly\", \"responsive\": true}\n",
       "                    ).then(function(){\n",
       "                            \n",
       "var gd = document.getElementById('f4f3d250-89c9-4467-986e-1775562c07d0');\n",
       "var x = new MutationObserver(function (mutations, observer) {{\n",
       "        var display = window.getComputedStyle(gd).display;\n",
       "        if (!display || display === 'none') {{\n",
       "            console.log([gd, 'removed!']);\n",
       "            Plotly.purge(gd);\n",
       "            observer.disconnect();\n",
       "        }}\n",
       "}});\n",
       "\n",
       "// Listen for the removal of the full notebook cells\n",
       "var notebookContainer = gd.closest('#notebook-container');\n",
       "if (notebookContainer) {{\n",
       "    x.observe(notebookContainer, {childList: true});\n",
       "}}\n",
       "\n",
       "// Listen for the clearing of the current output cell\n",
       "var outputEl = gd.closest('.output');\n",
       "if (outputEl) {{\n",
       "    x.observe(outputEl, {childList: true});\n",
       "}}\n",
       "\n",
       "                        })\n",
       "                };\n",
       "                });\n",
       "            </script>\n",
       "        </div>"
      ]
     },
     "metadata": {},
     "output_type": "display_data"
    }
   ],
   "source": [
    "mygraph.plot(title='coco', node_size_col='clients', node_color_col='clients', edge_width_col='sent', edge_color_col='enviado')"
   ]
  },
  {
   "cell_type": "code",
   "execution_count": null,
   "metadata": {},
   "outputs": [],
   "source": []
  }
 ],
 "metadata": {
  "kernelspec": {
   "display_name": "Python 3",
   "language": "python",
   "name": "python3"
  },
  "language_info": {
   "codemirror_mode": {
    "name": "ipython",
    "version": 3
   },
   "file_extension": ".py",
   "mimetype": "text/x-python",
   "name": "python",
   "nbconvert_exporter": "python",
   "pygments_lexer": "ipython3",
   "version": "3.7.0"
  }
 },
 "nbformat": 4,
 "nbformat_minor": 2
}
