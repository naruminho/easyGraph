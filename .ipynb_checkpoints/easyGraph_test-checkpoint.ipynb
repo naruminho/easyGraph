{
 "cells": [
  {
   "cell_type": "code",
   "execution_count": 25,
   "metadata": {},
   "outputs": [
    {
     "name": "stdout",
     "output_type": "stream",
     "text": [
      "The autoreload extension is already loaded. To reload it, use:\n",
      "  %reload_ext autoreload\n"
     ]
    }
   ],
   "source": [
    "%load_ext autoreload\n",
    "%autoreload 2\n",
    "from easyGraph import *"
   ]
  },
  {
   "cell_type": "code",
   "execution_count": 26,
   "metadata": {},
   "outputs": [],
   "source": [
    "mygraph = EasyGraph()"
   ]
  },
  {
   "cell_type": "code",
   "execution_count": 35,
   "metadata": {},
   "outputs": [],
   "source": [
    "# adicionando nodes e definindo propriedades\n",
    "mygraph.node.add('Next', {'clientes':3, 'keke': 234})\n",
    "mygraph.node.add('Nubank', {'clientes':41})\n",
    "mygraph.node.add('Itau', {'clientes':101})\n",
    "mygraph.node.add('XP Investimentos', {'clientes':5})\n",
    "mygraph.node.add('BB', {'clientes':88})\n",
    "\n",
    "# adicionando arestas e propriedades\n",
    "mygraph.edge.add('Next', 'BB', {'enviado': 45000})\n",
    "mygraph.edge.add('Next', 'Nubank', {'enviado': 10000})\n",
    "mygraph.edge.add('Next', 'Itau', {'enviado': 30000})\n",
    "mygraph.edge.add('Next', 'XP Investimentos', {'enviado': 30000})"
   ]
  },
  {
   "cell_type": "code",
   "execution_count": 41,
   "metadata": {},
   "outputs": [
    {
     "data": {
      "application/vnd.plotly.v1+json": {
       "config": {
        "linkText": "Export to plot.ly",
        "plotlyServerURL": "https://plot.ly",
        "responsive": true,
        "showLink": false
       },
       "data": [
        {
         "hoverinfo": "text",
         "marker": {
          "cmax": 101,
          "cmin": 3,
          "color": "darkblue",
          "colorbar": {
           "thickness": 15,
           "title": {
            "side": "right",
            "text": " "
           },
           "xanchor": "left"
          },
          "colorscale": "YlGnBu",
          "line": {
           "width": 2
          },
          "reversescale": true,
          "showscale": false,
          "size": [
           1,
           1,
           1,
           1,
           1
          ],
          "sizemin": 10,
          "sizemode": "area",
          "sizeref": 10
         },
         "mode": "markers",
         "text": [],
         "type": "scatter",
         "uid": "a06a0554-b6ea-4fab-a1b3-77810b0d0cfa",
         "x": [
          0.9999999999999999,
          0.30901696042448806,
          -0.8090170945349412,
          -0.8090169753256495,
          0.30901710943610267
         ],
         "y": [
          2.38418583364819e-08,
          0.9510565808604344,
          0.587785218735669,
          -0.5877853498658898,
          -0.9510564735720718
         ]
        },
        {
         "hoverinfo": "none",
         "line": {
          "color": "black",
          "width": 0.5
         },
         "mode": "lines",
         "type": "scatter",
         "uid": "5e7a643f-f93c-4d35-affe-23aee3ae4652",
         "x": [
          0.9999999999999999,
          0.30901710943610267,
          null,
          0.9999999999999999,
          0.30901696042448806,
          null,
          0.9999999999999999,
          -0.8090170945349412,
          null,
          0.9999999999999999,
          -0.8090169753256495,
          null
         ],
         "y": [
          2.38418583364819e-08,
          -0.9510564735720718,
          null,
          2.38418583364819e-08,
          0.9510565808604344,
          null,
          2.38418583364819e-08,
          0.587785218735669,
          null,
          2.38418583364819e-08,
          -0.5877853498658898,
          null
         ]
        }
       ],
       "layout": {
        "annotations": [
         {
          "ax": 0,
          "ay": 20,
          "showarrow": false,
          "text": "Next",
          "x": 0.9999999999999999,
          "xref": "x",
          "y": 0.10000002384185834,
          "yref": "y"
         },
         {
          "ax": 0,
          "ay": 20,
          "showarrow": false,
          "text": "Nubank",
          "x": 0.30901696042448806,
          "xref": "x",
          "y": 1.0510565808604344,
          "yref": "y"
         },
         {
          "ax": 0,
          "ay": 20,
          "showarrow": false,
          "text": "Itau",
          "x": -0.8090170945349412,
          "xref": "x",
          "y": 0.687785218735669,
          "yref": "y"
         },
         {
          "ax": 0,
          "ay": 20,
          "showarrow": false,
          "text": "XP Investimentos",
          "x": -0.8090169753256495,
          "xref": "x",
          "y": -0.48778534986588984,
          "yref": "y"
         },
         {
          "ax": 0,
          "ay": 20,
          "showarrow": false,
          "text": "BB",
          "x": 0.30901710943610267,
          "xref": "x",
          "y": -0.8510564735720718,
          "yref": "y"
         }
        ],
        "hovermode": "closest",
        "margin": {
         "b": 20,
         "l": 5,
         "r": 5,
         "t": 40
        },
        "showlegend": false,
        "title": {
         "font": {
          "size": 16
         },
         "text": " "
        },
        "xaxis": {
         "showgrid": false,
         "showticklabels": false,
         "zeroline": false
        },
        "yaxis": {
         "showgrid": false,
         "showticklabels": false,
         "zeroline": false
        }
       }
      },
      "text/html": [
       "<div>\n",
       "        \n",
       "        \n",
       "            <div id=\"9a9716ba-1bc1-4b20-98b0-0d98d999e63a\" class=\"plotly-graph-div\" style=\"height:525px; width:100%;\"></div>\n",
       "            <script type=\"text/javascript\">\n",
       "                require([\"plotly\"], function(Plotly) {\n",
       "                    window.PLOTLYENV=window.PLOTLYENV || {};\n",
       "                    window.PLOTLYENV.BASE_URL='https://plot.ly';\n",
       "                    \n",
       "                if (document.getElementById(\"9a9716ba-1bc1-4b20-98b0-0d98d999e63a\")) {\n",
       "                    Plotly.newPlot(\n",
       "                        '9a9716ba-1bc1-4b20-98b0-0d98d999e63a',\n",
       "                        [{\"hoverinfo\": \"text\", \"marker\": {\"cmax\": 101, \"cmin\": 3, \"color\": \"darkblue\", \"colorbar\": {\"thickness\": 15, \"title\": {\"side\": \"right\", \"text\": \" \"}, \"xanchor\": \"left\"}, \"colorscale\": \"YlGnBu\", \"line\": {\"width\": 2}, \"reversescale\": true, \"showscale\": false, \"size\": [1, 1, 1, 1, 1], \"sizemin\": 10, \"sizemode\": \"area\", \"sizeref\": 10}, \"mode\": \"markers\", \"text\": [], \"type\": \"scatter\", \"uid\": \"8a5c548b-de74-47e5-b4c7-8146cf9cbb8f\", \"x\": [0.9999999999999999, 0.30901696042448806, -0.8090170945349412, -0.8090169753256495, 0.30901710943610267], \"y\": [2.38418583364819e-08, 0.9510565808604344, 0.587785218735669, -0.5877853498658898, -0.9510564735720718]}, {\"hoverinfo\": \"none\", \"line\": {\"color\": \"black\", \"width\": 0.5}, \"mode\": \"lines\", \"type\": \"scatter\", \"uid\": \"0707602f-cc8d-4f5d-819c-209225ab9f07\", \"x\": [0.9999999999999999, 0.30901710943610267, null, 0.9999999999999999, 0.30901696042448806, null, 0.9999999999999999, -0.8090170945349412, null, 0.9999999999999999, -0.8090169753256495, null], \"y\": [2.38418583364819e-08, -0.9510564735720718, null, 2.38418583364819e-08, 0.9510565808604344, null, 2.38418583364819e-08, 0.587785218735669, null, 2.38418583364819e-08, -0.5877853498658898, null]}],\n",
       "                        {\"annotations\": [{\"ax\": 0, \"ay\": 20, \"showarrow\": false, \"text\": \"Next\", \"x\": 0.9999999999999999, \"xref\": \"x\", \"y\": 0.10000002384185834, \"yref\": \"y\"}, {\"ax\": 0, \"ay\": 20, \"showarrow\": false, \"text\": \"Nubank\", \"x\": 0.30901696042448806, \"xref\": \"x\", \"y\": 1.0510565808604344, \"yref\": \"y\"}, {\"ax\": 0, \"ay\": 20, \"showarrow\": false, \"text\": \"Itau\", \"x\": -0.8090170945349412, \"xref\": \"x\", \"y\": 0.687785218735669, \"yref\": \"y\"}, {\"ax\": 0, \"ay\": 20, \"showarrow\": false, \"text\": \"XP Investimentos\", \"x\": -0.8090169753256495, \"xref\": \"x\", \"y\": -0.48778534986588984, \"yref\": \"y\"}, {\"ax\": 0, \"ay\": 20, \"showarrow\": false, \"text\": \"BB\", \"x\": 0.30901710943610267, \"xref\": \"x\", \"y\": -0.8510564735720718, \"yref\": \"y\"}], \"hovermode\": \"closest\", \"margin\": {\"b\": 20, \"l\": 5, \"r\": 5, \"t\": 40}, \"showlegend\": false, \"title\": {\"font\": {\"size\": 16}, \"text\": \" \"}, \"xaxis\": {\"showgrid\": false, \"showticklabels\": false, \"zeroline\": false}, \"yaxis\": {\"showgrid\": false, \"showticklabels\": false, \"zeroline\": false}},\n",
       "                        {\"showLink\": false, \"linkText\": \"Export to plot.ly\", \"plotlyServerURL\": \"https://plot.ly\", \"responsive\": true}\n",
       "                    ).then(function(){\n",
       "                            \n",
       "var gd = document.getElementById('9a9716ba-1bc1-4b20-98b0-0d98d999e63a');\n",
       "var x = new MutationObserver(function (mutations, observer) {{\n",
       "        var display = window.getComputedStyle(gd).display;\n",
       "        if (!display || display === 'none') {{\n",
       "            console.log([gd, 'removed!']);\n",
       "            Plotly.purge(gd);\n",
       "            observer.disconnect();\n",
       "        }}\n",
       "}});\n",
       "\n",
       "// Listen for the removal of the full notebook cells\n",
       "var notebookContainer = gd.closest('#notebook-container');\n",
       "if (notebookContainer) {{\n",
       "    x.observe(notebookContainer, {childList: true});\n",
       "}}\n",
       "\n",
       "// Listen for the clearing of the current output cell\n",
       "var outputEl = gd.closest('.output');\n",
       "if (outputEl) {{\n",
       "    x.observe(outputEl, {childList: true});\n",
       "}}\n",
       "\n",
       "                        })\n",
       "                };\n",
       "                });\n",
       "            </script>\n",
       "        </div>"
      ]
     },
     "metadata": {},
     "output_type": "display_data"
    }
   ],
   "source": [
    "mygraph.plot()"
   ]
  },
  {
   "cell_type": "code",
   "execution_count": 42,
   "metadata": {},
   "outputs": [
    {
     "data": {
      "application/vnd.plotly.v1+json": {
       "config": {
        "linkText": "Export to plot.ly",
        "plotlyServerURL": "https://plot.ly",
        "responsive": true,
        "showLink": false
       },
       "data": [
        {
         "hoverinfo": "text",
         "marker": {
          "cmax": 101,
          "cmin": 3,
          "color": [
           3,
           41,
           101,
           5,
           88
          ],
          "colorbar": {
           "thickness": 15,
           "title": {
            "side": "right",
            "text": "coco"
           },
           "xanchor": "left"
          },
          "colorscale": "YlGnBu",
          "line": {
           "width": 2
          },
          "reversescale": true,
          "showscale": false,
          "size": [
           1,
           1,
           1,
           1,
           1
          ],
          "sizemin": 10,
          "sizemode": "area",
          "sizeref": 10
         },
         "mode": "markers",
         "text": [],
         "type": "scatter",
         "uid": "ff8f8a94-4425-45b0-b77c-96347637b4fc",
         "x": [
          0.9999999999999999,
          0.30901696042448806,
          -0.8090170945349412,
          -0.8090169753256495,
          0.30901710943610267
         ],
         "y": [
          2.38418583364819e-08,
          0.9510565808604344,
          0.587785218735669,
          -0.5877853498658898,
          -0.9510564735720718
         ]
        },
        {
         "hoverinfo": "none",
         "line": {
          "color": "black",
          "width": 0.5
         },
         "mode": "lines",
         "type": "scatter",
         "uid": "edc23a53-be67-40a8-b74f-dd239e880186",
         "x": [
          0.9999999999999999,
          0.30901710943610267,
          null,
          0.9999999999999999,
          0.30901696042448806,
          null,
          0.9999999999999999,
          -0.8090170945349412,
          null,
          0.9999999999999999,
          -0.8090169753256495,
          null
         ],
         "y": [
          2.38418583364819e-08,
          -0.9510564735720718,
          null,
          2.38418583364819e-08,
          0.9510565808604344,
          null,
          2.38418583364819e-08,
          0.587785218735669,
          null,
          2.38418583364819e-08,
          -0.5877853498658898,
          null
         ]
        }
       ],
       "layout": {
        "annotations": [
         {
          "ax": 0,
          "ay": 20,
          "showarrow": false,
          "text": "Next",
          "x": 0.9999999999999999,
          "xref": "x",
          "y": 0.10000002384185834,
          "yref": "y"
         },
         {
          "ax": 0,
          "ay": 20,
          "showarrow": false,
          "text": "Nubank",
          "x": 0.30901696042448806,
          "xref": "x",
          "y": 1.0510565808604344,
          "yref": "y"
         },
         {
          "ax": 0,
          "ay": 20,
          "showarrow": false,
          "text": "Itau",
          "x": -0.8090170945349412,
          "xref": "x",
          "y": 0.687785218735669,
          "yref": "y"
         },
         {
          "ax": 0,
          "ay": 20,
          "showarrow": false,
          "text": "XP Investimentos",
          "x": -0.8090169753256495,
          "xref": "x",
          "y": -0.48778534986588984,
          "yref": "y"
         },
         {
          "ax": 0,
          "ay": 20,
          "showarrow": false,
          "text": "BB",
          "x": 0.30901710943610267,
          "xref": "x",
          "y": -0.8510564735720718,
          "yref": "y"
         }
        ],
        "hovermode": "closest",
        "margin": {
         "b": 20,
         "l": 5,
         "r": 5,
         "t": 40
        },
        "showlegend": false,
        "title": {
         "font": {
          "size": 16
         },
         "text": "coco"
        },
        "xaxis": {
         "showgrid": false,
         "showticklabels": false,
         "zeroline": false
        },
        "yaxis": {
         "showgrid": false,
         "showticklabels": false,
         "zeroline": false
        }
       }
      },
      "text/html": [
       "<div>\n",
       "        \n",
       "        \n",
       "            <div id=\"0337fe52-0fac-475b-8b2b-a302f256f088\" class=\"plotly-graph-div\" style=\"height:525px; width:100%;\"></div>\n",
       "            <script type=\"text/javascript\">\n",
       "                require([\"plotly\"], function(Plotly) {\n",
       "                    window.PLOTLYENV=window.PLOTLYENV || {};\n",
       "                    window.PLOTLYENV.BASE_URL='https://plot.ly';\n",
       "                    \n",
       "                if (document.getElementById(\"0337fe52-0fac-475b-8b2b-a302f256f088\")) {\n",
       "                    Plotly.newPlot(\n",
       "                        '0337fe52-0fac-475b-8b2b-a302f256f088',\n",
       "                        [{\"hoverinfo\": \"text\", \"marker\": {\"cmax\": 101, \"cmin\": 3, \"color\": [3, 41, 101, 5, 88], \"colorbar\": {\"thickness\": 15, \"title\": {\"side\": \"right\", \"text\": \"coco\"}, \"xanchor\": \"left\"}, \"colorscale\": \"YlGnBu\", \"line\": {\"width\": 2}, \"reversescale\": true, \"showscale\": false, \"size\": [1, 1, 1, 1, 1], \"sizemin\": 10, \"sizemode\": \"area\", \"sizeref\": 10}, \"mode\": \"markers\", \"text\": [], \"type\": \"scatter\", \"uid\": \"645c7e98-92d4-44d2-ad5f-47f0ecdf0ee0\", \"x\": [0.9999999999999999, 0.30901696042448806, -0.8090170945349412, -0.8090169753256495, 0.30901710943610267], \"y\": [2.38418583364819e-08, 0.9510565808604344, 0.587785218735669, -0.5877853498658898, -0.9510564735720718]}, {\"hoverinfo\": \"none\", \"line\": {\"color\": \"black\", \"width\": 0.5}, \"mode\": \"lines\", \"type\": \"scatter\", \"uid\": \"fcb656a8-e7e8-4f4c-8b65-56a5b2c83a91\", \"x\": [0.9999999999999999, 0.30901710943610267, null, 0.9999999999999999, 0.30901696042448806, null, 0.9999999999999999, -0.8090170945349412, null, 0.9999999999999999, -0.8090169753256495, null], \"y\": [2.38418583364819e-08, -0.9510564735720718, null, 2.38418583364819e-08, 0.9510565808604344, null, 2.38418583364819e-08, 0.587785218735669, null, 2.38418583364819e-08, -0.5877853498658898, null]}],\n",
       "                        {\"annotations\": [{\"ax\": 0, \"ay\": 20, \"showarrow\": false, \"text\": \"Next\", \"x\": 0.9999999999999999, \"xref\": \"x\", \"y\": 0.10000002384185834, \"yref\": \"y\"}, {\"ax\": 0, \"ay\": 20, \"showarrow\": false, \"text\": \"Nubank\", \"x\": 0.30901696042448806, \"xref\": \"x\", \"y\": 1.0510565808604344, \"yref\": \"y\"}, {\"ax\": 0, \"ay\": 20, \"showarrow\": false, \"text\": \"Itau\", \"x\": -0.8090170945349412, \"xref\": \"x\", \"y\": 0.687785218735669, \"yref\": \"y\"}, {\"ax\": 0, \"ay\": 20, \"showarrow\": false, \"text\": \"XP Investimentos\", \"x\": -0.8090169753256495, \"xref\": \"x\", \"y\": -0.48778534986588984, \"yref\": \"y\"}, {\"ax\": 0, \"ay\": 20, \"showarrow\": false, \"text\": \"BB\", \"x\": 0.30901710943610267, \"xref\": \"x\", \"y\": -0.8510564735720718, \"yref\": \"y\"}], \"hovermode\": \"closest\", \"margin\": {\"b\": 20, \"l\": 5, \"r\": 5, \"t\": 40}, \"showlegend\": false, \"title\": {\"font\": {\"size\": 16}, \"text\": \"coco\"}, \"xaxis\": {\"showgrid\": false, \"showticklabels\": false, \"zeroline\": false}, \"yaxis\": {\"showgrid\": false, \"showticklabels\": false, \"zeroline\": false}},\n",
       "                        {\"showLink\": false, \"linkText\": \"Export to plot.ly\", \"plotlyServerURL\": \"https://plot.ly\", \"responsive\": true}\n",
       "                    ).then(function(){\n",
       "                            \n",
       "var gd = document.getElementById('0337fe52-0fac-475b-8b2b-a302f256f088');\n",
       "var x = new MutationObserver(function (mutations, observer) {{\n",
       "        var display = window.getComputedStyle(gd).display;\n",
       "        if (!display || display === 'none') {{\n",
       "            console.log([gd, 'removed!']);\n",
       "            Plotly.purge(gd);\n",
       "            observer.disconnect();\n",
       "        }}\n",
       "}});\n",
       "\n",
       "// Listen for the removal of the full notebook cells\n",
       "var notebookContainer = gd.closest('#notebook-container');\n",
       "if (notebookContainer) {{\n",
       "    x.observe(notebookContainer, {childList: true});\n",
       "}}\n",
       "\n",
       "// Listen for the clearing of the current output cell\n",
       "var outputEl = gd.closest('.output');\n",
       "if (outputEl) {{\n",
       "    x.observe(outputEl, {childList: true});\n",
       "}}\n",
       "\n",
       "                        })\n",
       "                };\n",
       "                });\n",
       "            </script>\n",
       "        </div>"
      ]
     },
     "metadata": {},
     "output_type": "display_data"
    }
   ],
   "source": [
    "mygraph.plot(title='coco', node_color_col='clientes')"
   ]
  },
  {
   "cell_type": "code",
   "execution_count": 43,
   "metadata": {},
   "outputs": [
    {
     "data": {
      "application/vnd.plotly.v1+json": {
       "config": {
        "linkText": "Export to plot.ly",
        "plotlyServerURL": "https://plot.ly",
        "responsive": true,
        "showLink": false
       },
       "data": [
        {
         "hoverinfo": "text",
         "marker": {
          "cmax": 101,
          "cmin": 3,
          "color": [
           3,
           41,
           101,
           5,
           88
          ],
          "colorbar": {
           "thickness": 15,
           "title": {
            "side": "right",
            "text": "coco"
           },
           "xanchor": "left"
          },
          "colorscale": "YlGnBu",
          "line": {
           "width": 2
          },
          "reversescale": true,
          "showscale": false,
          "size": [
           3,
           41,
           101,
           5,
           88
          ],
          "sizemin": 10,
          "sizemode": "area",
          "sizeref": 0.12625
         },
         "mode": "markers",
         "text": [],
         "type": "scatter",
         "uid": "0532c8c1-7d64-4c81-bef6-f0a86fd56637",
         "x": [
          0.9999999999999999,
          0.30901696042448806,
          -0.8090170945349412,
          -0.8090169753256495,
          0.30901710943610267
         ],
         "y": [
          2.38418583364819e-08,
          0.9510565808604344,
          0.587785218735669,
          -0.5877853498658898,
          -0.9510564735720718
         ]
        },
        {
         "hoverinfo": "none",
         "line": {
          "color": "black",
          "width": 0.5
         },
         "mode": "lines",
         "type": "scatter",
         "uid": "79fa15ab-0b58-4be6-9372-8756341677db",
         "x": [
          0.9999999999999999,
          0.30901710943610267,
          null,
          0.9999999999999999,
          0.30901696042448806,
          null,
          0.9999999999999999,
          -0.8090170945349412,
          null,
          0.9999999999999999,
          -0.8090169753256495,
          null
         ],
         "y": [
          2.38418583364819e-08,
          -0.9510564735720718,
          null,
          2.38418583364819e-08,
          0.9510565808604344,
          null,
          2.38418583364819e-08,
          0.587785218735669,
          null,
          2.38418583364819e-08,
          -0.5877853498658898,
          null
         ]
        }
       ],
       "layout": {
        "annotations": [
         {
          "ax": 0,
          "ay": 20,
          "showarrow": false,
          "text": "Next",
          "x": 0.9999999999999999,
          "xref": "x",
          "y": 0.10000002384185834,
          "yref": "y"
         },
         {
          "ax": 0,
          "ay": 20,
          "showarrow": false,
          "text": "Nubank",
          "x": 0.30901696042448806,
          "xref": "x",
          "y": 1.0510565808604344,
          "yref": "y"
         },
         {
          "ax": 0,
          "ay": 20,
          "showarrow": false,
          "text": "Itau",
          "x": -0.8090170945349412,
          "xref": "x",
          "y": 0.687785218735669,
          "yref": "y"
         },
         {
          "ax": 0,
          "ay": 20,
          "showarrow": false,
          "text": "XP Investimentos",
          "x": -0.8090169753256495,
          "xref": "x",
          "y": -0.48778534986588984,
          "yref": "y"
         },
         {
          "ax": 0,
          "ay": 20,
          "showarrow": false,
          "text": "BB",
          "x": 0.30901710943610267,
          "xref": "x",
          "y": -0.8510564735720718,
          "yref": "y"
         }
        ],
        "hovermode": "closest",
        "margin": {
         "b": 20,
         "l": 5,
         "r": 5,
         "t": 40
        },
        "showlegend": false,
        "title": {
         "font": {
          "size": 16
         },
         "text": "coco"
        },
        "xaxis": {
         "showgrid": false,
         "showticklabels": false,
         "zeroline": false
        },
        "yaxis": {
         "showgrid": false,
         "showticklabels": false,
         "zeroline": false
        }
       }
      },
      "text/html": [
       "<div>\n",
       "        \n",
       "        \n",
       "            <div id=\"4ccbc904-3691-4913-80ff-5ea99ede133a\" class=\"plotly-graph-div\" style=\"height:525px; width:100%;\"></div>\n",
       "            <script type=\"text/javascript\">\n",
       "                require([\"plotly\"], function(Plotly) {\n",
       "                    window.PLOTLYENV=window.PLOTLYENV || {};\n",
       "                    window.PLOTLYENV.BASE_URL='https://plot.ly';\n",
       "                    \n",
       "                if (document.getElementById(\"4ccbc904-3691-4913-80ff-5ea99ede133a\")) {\n",
       "                    Plotly.newPlot(\n",
       "                        '4ccbc904-3691-4913-80ff-5ea99ede133a',\n",
       "                        [{\"hoverinfo\": \"text\", \"marker\": {\"cmax\": 101, \"cmin\": 3, \"color\": [3, 41, 101, 5, 88], \"colorbar\": {\"thickness\": 15, \"title\": {\"side\": \"right\", \"text\": \"coco\"}, \"xanchor\": \"left\"}, \"colorscale\": \"YlGnBu\", \"line\": {\"width\": 2}, \"reversescale\": true, \"showscale\": false, \"size\": [3, 41, 101, 5, 88], \"sizemin\": 10, \"sizemode\": \"area\", \"sizeref\": 0.12625}, \"mode\": \"markers\", \"text\": [], \"type\": \"scatter\", \"uid\": \"b92169a7-db0d-464a-a963-953b357c1eee\", \"x\": [0.9999999999999999, 0.30901696042448806, -0.8090170945349412, -0.8090169753256495, 0.30901710943610267], \"y\": [2.38418583364819e-08, 0.9510565808604344, 0.587785218735669, -0.5877853498658898, -0.9510564735720718]}, {\"hoverinfo\": \"none\", \"line\": {\"color\": \"black\", \"width\": 0.5}, \"mode\": \"lines\", \"type\": \"scatter\", \"uid\": \"309b5c22-f82a-4ba8-a3f4-44dc46e502ee\", \"x\": [0.9999999999999999, 0.30901710943610267, null, 0.9999999999999999, 0.30901696042448806, null, 0.9999999999999999, -0.8090170945349412, null, 0.9999999999999999, -0.8090169753256495, null], \"y\": [2.38418583364819e-08, -0.9510564735720718, null, 2.38418583364819e-08, 0.9510565808604344, null, 2.38418583364819e-08, 0.587785218735669, null, 2.38418583364819e-08, -0.5877853498658898, null]}],\n",
       "                        {\"annotations\": [{\"ax\": 0, \"ay\": 20, \"showarrow\": false, \"text\": \"Next\", \"x\": 0.9999999999999999, \"xref\": \"x\", \"y\": 0.10000002384185834, \"yref\": \"y\"}, {\"ax\": 0, \"ay\": 20, \"showarrow\": false, \"text\": \"Nubank\", \"x\": 0.30901696042448806, \"xref\": \"x\", \"y\": 1.0510565808604344, \"yref\": \"y\"}, {\"ax\": 0, \"ay\": 20, \"showarrow\": false, \"text\": \"Itau\", \"x\": -0.8090170945349412, \"xref\": \"x\", \"y\": 0.687785218735669, \"yref\": \"y\"}, {\"ax\": 0, \"ay\": 20, \"showarrow\": false, \"text\": \"XP Investimentos\", \"x\": -0.8090169753256495, \"xref\": \"x\", \"y\": -0.48778534986588984, \"yref\": \"y\"}, {\"ax\": 0, \"ay\": 20, \"showarrow\": false, \"text\": \"BB\", \"x\": 0.30901710943610267, \"xref\": \"x\", \"y\": -0.8510564735720718, \"yref\": \"y\"}], \"hovermode\": \"closest\", \"margin\": {\"b\": 20, \"l\": 5, \"r\": 5, \"t\": 40}, \"showlegend\": false, \"title\": {\"font\": {\"size\": 16}, \"text\": \"coco\"}, \"xaxis\": {\"showgrid\": false, \"showticklabels\": false, \"zeroline\": false}, \"yaxis\": {\"showgrid\": false, \"showticklabels\": false, \"zeroline\": false}},\n",
       "                        {\"showLink\": false, \"linkText\": \"Export to plot.ly\", \"plotlyServerURL\": \"https://plot.ly\", \"responsive\": true}\n",
       "                    ).then(function(){\n",
       "                            \n",
       "var gd = document.getElementById('4ccbc904-3691-4913-80ff-5ea99ede133a');\n",
       "var x = new MutationObserver(function (mutations, observer) {{\n",
       "        var display = window.getComputedStyle(gd).display;\n",
       "        if (!display || display === 'none') {{\n",
       "            console.log([gd, 'removed!']);\n",
       "            Plotly.purge(gd);\n",
       "            observer.disconnect();\n",
       "        }}\n",
       "}});\n",
       "\n",
       "// Listen for the removal of the full notebook cells\n",
       "var notebookContainer = gd.closest('#notebook-container');\n",
       "if (notebookContainer) {{\n",
       "    x.observe(notebookContainer, {childList: true});\n",
       "}}\n",
       "\n",
       "// Listen for the clearing of the current output cell\n",
       "var outputEl = gd.closest('.output');\n",
       "if (outputEl) {{\n",
       "    x.observe(outputEl, {childList: true});\n",
       "}}\n",
       "\n",
       "                        })\n",
       "                };\n",
       "                });\n",
       "            </script>\n",
       "        </div>"
      ]
     },
     "metadata": {},
     "output_type": "display_data"
    }
   ],
   "source": [
    "mygraph.plot(title='coco', node_size_col='clientes', node_color_col='clientes')"
   ]
  },
  {
   "cell_type": "code",
   "execution_count": 51,
   "metadata": {},
   "outputs": [
    {
     "name": "stdout",
     "output_type": "stream",
     "text": [
      "['clientes']\n"
     ]
    },
    {
     "data": {
      "application/vnd.plotly.v1+json": {
       "config": {
        "linkText": "Export to plot.ly",
        "plotlyServerURL": "https://plot.ly",
        "responsive": true,
        "showLink": false
       },
       "data": [
        {
         "hoverinfo": "text",
         "marker": {
          "cmax": 101,
          "cmin": 3,
          "color": [
           3,
           41,
           101,
           5,
           88
          ],
          "colorbar": {
           "thickness": 15,
           "title": {
            "side": "right",
            "text": "coco"
           },
           "xanchor": "left"
          },
          "colorscale": "YlGnBu",
          "line": {
           "width": 2
          },
          "reversescale": true,
          "showscale": false,
          "size": [
           3,
           41,
           101,
           5,
           88
          ],
          "sizemin": 10,
          "sizemode": "area",
          "sizeref": 0.12625
         },
         "mode": "markers",
         "text": [
          "clientes: 3<br>",
          "clientes: 41<br>",
          "clientes: 101<br>",
          "clientes: 5<br>",
          "clientes: 88<br>"
         ],
         "type": "scatter",
         "uid": "3e05de27-13fc-43ca-9819-0345bfd9336e",
         "x": [
          0.9999999999999999,
          0.30901696042448806,
          -0.8090170945349412,
          -0.8090169753256495,
          0.30901710943610267
         ],
         "y": [
          2.38418583364819e-08,
          0.9510565808604344,
          0.587785218735669,
          -0.5877853498658898,
          -0.9510564735720718
         ]
        },
        {
         "hoverinfo": "none",
         "line": {
          "color": "black",
          "width": 0.5
         },
         "mode": "lines",
         "type": "scatter",
         "uid": "e388744e-160b-411e-ae5f-b7b8633310b9",
         "x": [
          0.9999999999999999,
          0.30901710943610267,
          null,
          0.9999999999999999,
          0.30901696042448806,
          null,
          0.9999999999999999,
          -0.8090170945349412,
          null,
          0.9999999999999999,
          -0.8090169753256495,
          null
         ],
         "y": [
          2.38418583364819e-08,
          -0.9510564735720718,
          null,
          2.38418583364819e-08,
          0.9510565808604344,
          null,
          2.38418583364819e-08,
          0.587785218735669,
          null,
          2.38418583364819e-08,
          -0.5877853498658898,
          null
         ]
        }
       ],
       "layout": {
        "annotations": [
         {
          "ax": 0,
          "ay": 20,
          "showarrow": false,
          "text": "Next",
          "x": 0.9999999999999999,
          "xref": "x",
          "y": 0.10000002384185834,
          "yref": "y"
         },
         {
          "ax": 0,
          "ay": 20,
          "showarrow": false,
          "text": "Nubank",
          "x": 0.30901696042448806,
          "xref": "x",
          "y": 1.0510565808604344,
          "yref": "y"
         },
         {
          "ax": 0,
          "ay": 20,
          "showarrow": false,
          "text": "Itau",
          "x": -0.8090170945349412,
          "xref": "x",
          "y": 0.687785218735669,
          "yref": "y"
         },
         {
          "ax": 0,
          "ay": 20,
          "showarrow": false,
          "text": "XP Investimentos",
          "x": -0.8090169753256495,
          "xref": "x",
          "y": -0.48778534986588984,
          "yref": "y"
         },
         {
          "ax": 0,
          "ay": 20,
          "showarrow": false,
          "text": "BB",
          "x": 0.30901710943610267,
          "xref": "x",
          "y": -0.8510564735720718,
          "yref": "y"
         }
        ],
        "hovermode": "closest",
        "margin": {
         "b": 20,
         "l": 5,
         "r": 5,
         "t": 40
        },
        "showlegend": false,
        "title": {
         "font": {
          "size": 16
         },
         "text": "coco"
        },
        "xaxis": {
         "showgrid": false,
         "showticklabels": false,
         "zeroline": false
        },
        "yaxis": {
         "showgrid": false,
         "showticklabels": false,
         "zeroline": false
        }
       }
      },
      "text/html": [
       "<div>\n",
       "        \n",
       "        \n",
       "            <div id=\"987963c1-537e-4f7d-92b8-f957be97040f\" class=\"plotly-graph-div\" style=\"height:525px; width:100%;\"></div>\n",
       "            <script type=\"text/javascript\">\n",
       "                require([\"plotly\"], function(Plotly) {\n",
       "                    window.PLOTLYENV=window.PLOTLYENV || {};\n",
       "                    window.PLOTLYENV.BASE_URL='https://plot.ly';\n",
       "                    \n",
       "                if (document.getElementById(\"987963c1-537e-4f7d-92b8-f957be97040f\")) {\n",
       "                    Plotly.newPlot(\n",
       "                        '987963c1-537e-4f7d-92b8-f957be97040f',\n",
       "                        [{\"hoverinfo\": \"text\", \"marker\": {\"cmax\": 101, \"cmin\": 3, \"color\": [3, 41, 101, 5, 88], \"colorbar\": {\"thickness\": 15, \"title\": {\"side\": \"right\", \"text\": \"coco\"}, \"xanchor\": \"left\"}, \"colorscale\": \"YlGnBu\", \"line\": {\"width\": 2}, \"reversescale\": true, \"showscale\": false, \"size\": [3, 41, 101, 5, 88], \"sizemin\": 10, \"sizemode\": \"area\", \"sizeref\": 0.12625}, \"mode\": \"markers\", \"text\": [\"clientes: 3<br>\", \"clientes: 41<br>\", \"clientes: 101<br>\", \"clientes: 5<br>\", \"clientes: 88<br>\"], \"type\": \"scatter\", \"uid\": \"2102a827-f371-41b4-9dbe-d771802f63df\", \"x\": [0.9999999999999999, 0.30901696042448806, -0.8090170945349412, -0.8090169753256495, 0.30901710943610267], \"y\": [2.38418583364819e-08, 0.9510565808604344, 0.587785218735669, -0.5877853498658898, -0.9510564735720718]}, {\"hoverinfo\": \"none\", \"line\": {\"color\": \"black\", \"width\": 0.5}, \"mode\": \"lines\", \"type\": \"scatter\", \"uid\": \"27faf642-3bab-4831-ab11-d07c25960d28\", \"x\": [0.9999999999999999, 0.30901710943610267, null, 0.9999999999999999, 0.30901696042448806, null, 0.9999999999999999, -0.8090170945349412, null, 0.9999999999999999, -0.8090169753256495, null], \"y\": [2.38418583364819e-08, -0.9510564735720718, null, 2.38418583364819e-08, 0.9510565808604344, null, 2.38418583364819e-08, 0.587785218735669, null, 2.38418583364819e-08, -0.5877853498658898, null]}],\n",
       "                        {\"annotations\": [{\"ax\": 0, \"ay\": 20, \"showarrow\": false, \"text\": \"Next\", \"x\": 0.9999999999999999, \"xref\": \"x\", \"y\": 0.10000002384185834, \"yref\": \"y\"}, {\"ax\": 0, \"ay\": 20, \"showarrow\": false, \"text\": \"Nubank\", \"x\": 0.30901696042448806, \"xref\": \"x\", \"y\": 1.0510565808604344, \"yref\": \"y\"}, {\"ax\": 0, \"ay\": 20, \"showarrow\": false, \"text\": \"Itau\", \"x\": -0.8090170945349412, \"xref\": \"x\", \"y\": 0.687785218735669, \"yref\": \"y\"}, {\"ax\": 0, \"ay\": 20, \"showarrow\": false, \"text\": \"XP Investimentos\", \"x\": -0.8090169753256495, \"xref\": \"x\", \"y\": -0.48778534986588984, \"yref\": \"y\"}, {\"ax\": 0, \"ay\": 20, \"showarrow\": false, \"text\": \"BB\", \"x\": 0.30901710943610267, \"xref\": \"x\", \"y\": -0.8510564735720718, \"yref\": \"y\"}], \"hovermode\": \"closest\", \"margin\": {\"b\": 20, \"l\": 5, \"r\": 5, \"t\": 40}, \"showlegend\": false, \"title\": {\"font\": {\"size\": 16}, \"text\": \"coco\"}, \"xaxis\": {\"showgrid\": false, \"showticklabels\": false, \"zeroline\": false}, \"yaxis\": {\"showgrid\": false, \"showticklabels\": false, \"zeroline\": false}},\n",
       "                        {\"showLink\": false, \"linkText\": \"Export to plot.ly\", \"plotlyServerURL\": \"https://plot.ly\", \"responsive\": true}\n",
       "                    ).then(function(){\n",
       "                            \n",
       "var gd = document.getElementById('987963c1-537e-4f7d-92b8-f957be97040f');\n",
       "var x = new MutationObserver(function (mutations, observer) {{\n",
       "        var display = window.getComputedStyle(gd).display;\n",
       "        if (!display || display === 'none') {{\n",
       "            console.log([gd, 'removed!']);\n",
       "            Plotly.purge(gd);\n",
       "            observer.disconnect();\n",
       "        }}\n",
       "}});\n",
       "\n",
       "// Listen for the removal of the full notebook cells\n",
       "var notebookContainer = gd.closest('#notebook-container');\n",
       "if (notebookContainer) {{\n",
       "    x.observe(notebookContainer, {childList: true});\n",
       "}}\n",
       "\n",
       "// Listen for the clearing of the current output cell\n",
       "var outputEl = gd.closest('.output');\n",
       "if (outputEl) {{\n",
       "    x.observe(outputEl, {childList: true});\n",
       "}}\n",
       "\n",
       "                        })\n",
       "                };\n",
       "                });\n",
       "            </script>\n",
       "        </div>"
      ]
     },
     "metadata": {},
     "output_type": "display_data"
    }
   ],
   "source": [
    "mygraph.plot(title='coco', node_size_col='clientes', node_color_col='clientes', hover_col='clientes')"
   ]
  },
  {
   "cell_type": "code",
   "execution_count": 45,
   "metadata": {},
   "outputs": [
    {
     "name": "stdout",
     "output_type": "stream",
     "text": [
      "['clientes', 'keke']\n"
     ]
    },
    {
     "data": {
      "application/vnd.plotly.v1+json": {
       "config": {
        "linkText": "Export to plot.ly",
        "plotlyServerURL": "https://plot.ly",
        "responsive": true,
        "showLink": false
       },
       "data": [
        {
         "hoverinfo": "text",
         "marker": {
          "cmax": 101,
          "cmin": 3,
          "color": [
           3,
           41,
           101,
           5,
           88
          ],
          "colorbar": {
           "thickness": 15,
           "title": {
            "side": "right",
            "text": "coco"
           },
           "xanchor": "left"
          },
          "colorscale": "YlGnBu",
          "line": {
           "width": 2
          },
          "reversescale": true,
          "showscale": false,
          "size": [
           3,
           41,
           101,
           5,
           88
          ],
          "sizemin": 10,
          "sizemode": "area",
          "sizeref": 0.12625
         },
         "mode": "markers",
         "text": [
          "clientes: 3<br>keke: 234<br>",
          "clientes: 41<br>",
          "clientes: 101<br>",
          "clientes: 5<br>",
          "clientes: 88<br>"
         ],
         "type": "scatter",
         "uid": "cad5a26c-5869-4b0b-9afd-6013536bf09e",
         "x": [
          0.9999999999999999,
          0.30901696042448806,
          -0.8090170945349412,
          -0.8090169753256495,
          0.30901710943610267
         ],
         "y": [
          2.38418583364819e-08,
          0.9510565808604344,
          0.587785218735669,
          -0.5877853498658898,
          -0.9510564735720718
         ]
        },
        {
         "hoverinfo": "none",
         "line": {
          "color": "black",
          "width": 0.5
         },
         "mode": "lines",
         "type": "scatter",
         "uid": "1d36e8dd-dda3-4438-80f9-8efdcd3e442f",
         "x": [
          0.9999999999999999,
          0.30901710943610267,
          null,
          0.9999999999999999,
          0.30901696042448806,
          null,
          0.9999999999999999,
          -0.8090170945349412,
          null,
          0.9999999999999999,
          -0.8090169753256495,
          null
         ],
         "y": [
          2.38418583364819e-08,
          -0.9510564735720718,
          null,
          2.38418583364819e-08,
          0.9510565808604344,
          null,
          2.38418583364819e-08,
          0.587785218735669,
          null,
          2.38418583364819e-08,
          -0.5877853498658898,
          null
         ]
        }
       ],
       "layout": {
        "annotations": [
         {
          "ax": 0,
          "ay": 20,
          "showarrow": false,
          "text": "Next",
          "x": 0.9999999999999999,
          "xref": "x",
          "y": 0.10000002384185834,
          "yref": "y"
         },
         {
          "ax": 0,
          "ay": 20,
          "showarrow": false,
          "text": "Nubank",
          "x": 0.30901696042448806,
          "xref": "x",
          "y": 1.0510565808604344,
          "yref": "y"
         },
         {
          "ax": 0,
          "ay": 20,
          "showarrow": false,
          "text": "Itau",
          "x": -0.8090170945349412,
          "xref": "x",
          "y": 0.687785218735669,
          "yref": "y"
         },
         {
          "ax": 0,
          "ay": 20,
          "showarrow": false,
          "text": "XP Investimentos",
          "x": -0.8090169753256495,
          "xref": "x",
          "y": -0.48778534986588984,
          "yref": "y"
         },
         {
          "ax": 0,
          "ay": 20,
          "showarrow": false,
          "text": "BB",
          "x": 0.30901710943610267,
          "xref": "x",
          "y": -0.8510564735720718,
          "yref": "y"
         }
        ],
        "hovermode": "closest",
        "margin": {
         "b": 20,
         "l": 5,
         "r": 5,
         "t": 40
        },
        "showlegend": false,
        "title": {
         "font": {
          "size": 16
         },
         "text": "coco"
        },
        "xaxis": {
         "showgrid": false,
         "showticklabels": false,
         "zeroline": false
        },
        "yaxis": {
         "showgrid": false,
         "showticklabels": false,
         "zeroline": false
        }
       }
      },
      "text/html": [
       "<div>\n",
       "        \n",
       "        \n",
       "            <div id=\"cd7ef012-a8f4-4926-86eb-1286ca3c3eae\" class=\"plotly-graph-div\" style=\"height:525px; width:100%;\"></div>\n",
       "            <script type=\"text/javascript\">\n",
       "                require([\"plotly\"], function(Plotly) {\n",
       "                    window.PLOTLYENV=window.PLOTLYENV || {};\n",
       "                    window.PLOTLYENV.BASE_URL='https://plot.ly';\n",
       "                    \n",
       "                if (document.getElementById(\"cd7ef012-a8f4-4926-86eb-1286ca3c3eae\")) {\n",
       "                    Plotly.newPlot(\n",
       "                        'cd7ef012-a8f4-4926-86eb-1286ca3c3eae',\n",
       "                        [{\"hoverinfo\": \"text\", \"marker\": {\"cmax\": 101, \"cmin\": 3, \"color\": [3, 41, 101, 5, 88], \"colorbar\": {\"thickness\": 15, \"title\": {\"side\": \"right\", \"text\": \"coco\"}, \"xanchor\": \"left\"}, \"colorscale\": \"YlGnBu\", \"line\": {\"width\": 2}, \"reversescale\": true, \"showscale\": false, \"size\": [3, 41, 101, 5, 88], \"sizemin\": 10, \"sizemode\": \"area\", \"sizeref\": 0.12625}, \"mode\": \"markers\", \"text\": [\"clientes: 3<br>keke: 234<br>\", \"clientes: 41<br>\", \"clientes: 101<br>\", \"clientes: 5<br>\", \"clientes: 88<br>\"], \"type\": \"scatter\", \"uid\": \"6be92f78-f8ee-436f-8c57-681c7fa83b3c\", \"x\": [0.9999999999999999, 0.30901696042448806, -0.8090170945349412, -0.8090169753256495, 0.30901710943610267], \"y\": [2.38418583364819e-08, 0.9510565808604344, 0.587785218735669, -0.5877853498658898, -0.9510564735720718]}, {\"hoverinfo\": \"none\", \"line\": {\"color\": \"black\", \"width\": 0.5}, \"mode\": \"lines\", \"type\": \"scatter\", \"uid\": \"0fddba00-d198-4489-9160-c53a4dd9dfcb\", \"x\": [0.9999999999999999, 0.30901710943610267, null, 0.9999999999999999, 0.30901696042448806, null, 0.9999999999999999, -0.8090170945349412, null, 0.9999999999999999, -0.8090169753256495, null], \"y\": [2.38418583364819e-08, -0.9510564735720718, null, 2.38418583364819e-08, 0.9510565808604344, null, 2.38418583364819e-08, 0.587785218735669, null, 2.38418583364819e-08, -0.5877853498658898, null]}],\n",
       "                        {\"annotations\": [{\"ax\": 0, \"ay\": 20, \"showarrow\": false, \"text\": \"Next\", \"x\": 0.9999999999999999, \"xref\": \"x\", \"y\": 0.10000002384185834, \"yref\": \"y\"}, {\"ax\": 0, \"ay\": 20, \"showarrow\": false, \"text\": \"Nubank\", \"x\": 0.30901696042448806, \"xref\": \"x\", \"y\": 1.0510565808604344, \"yref\": \"y\"}, {\"ax\": 0, \"ay\": 20, \"showarrow\": false, \"text\": \"Itau\", \"x\": -0.8090170945349412, \"xref\": \"x\", \"y\": 0.687785218735669, \"yref\": \"y\"}, {\"ax\": 0, \"ay\": 20, \"showarrow\": false, \"text\": \"XP Investimentos\", \"x\": -0.8090169753256495, \"xref\": \"x\", \"y\": -0.48778534986588984, \"yref\": \"y\"}, {\"ax\": 0, \"ay\": 20, \"showarrow\": false, \"text\": \"BB\", \"x\": 0.30901710943610267, \"xref\": \"x\", \"y\": -0.8510564735720718, \"yref\": \"y\"}], \"hovermode\": \"closest\", \"margin\": {\"b\": 20, \"l\": 5, \"r\": 5, \"t\": 40}, \"showlegend\": false, \"title\": {\"font\": {\"size\": 16}, \"text\": \"coco\"}, \"xaxis\": {\"showgrid\": false, \"showticklabels\": false, \"zeroline\": false}, \"yaxis\": {\"showgrid\": false, \"showticklabels\": false, \"zeroline\": false}},\n",
       "                        {\"showLink\": false, \"linkText\": \"Export to plot.ly\", \"plotlyServerURL\": \"https://plot.ly\", \"responsive\": true}\n",
       "                    ).then(function(){\n",
       "                            \n",
       "var gd = document.getElementById('cd7ef012-a8f4-4926-86eb-1286ca3c3eae');\n",
       "var x = new MutationObserver(function (mutations, observer) {{\n",
       "        var display = window.getComputedStyle(gd).display;\n",
       "        if (!display || display === 'none') {{\n",
       "            console.log([gd, 'removed!']);\n",
       "            Plotly.purge(gd);\n",
       "            observer.disconnect();\n",
       "        }}\n",
       "}});\n",
       "\n",
       "// Listen for the removal of the full notebook cells\n",
       "var notebookContainer = gd.closest('#notebook-container');\n",
       "if (notebookContainer) {{\n",
       "    x.observe(notebookContainer, {childList: true});\n",
       "}}\n",
       "\n",
       "// Listen for the clearing of the current output cell\n",
       "var outputEl = gd.closest('.output');\n",
       "if (outputEl) {{\n",
       "    x.observe(outputEl, {childList: true});\n",
       "}}\n",
       "\n",
       "                        })\n",
       "                };\n",
       "                });\n",
       "            </script>\n",
       "        </div>"
      ]
     },
     "metadata": {},
     "output_type": "display_data"
    }
   ],
   "source": [
    "mygraph.plot(title='coco', node_size_col='clientes', node_color_col='clientes', hover_col=['clientes','keke'])"
   ]
  },
  {
   "cell_type": "code",
   "execution_count": 46,
   "metadata": {},
   "outputs": [
    {
     "data": {
      "application/vnd.plotly.v1+json": {
       "config": {
        "linkText": "Export to plot.ly",
        "plotlyServerURL": "https://plot.ly",
        "responsive": true,
        "showLink": false
       },
       "data": [
        {
         "hoverinfo": "text",
         "marker": {
          "cmax": 101,
          "cmin": 3,
          "color": [
           3,
           41,
           101,
           5,
           88
          ],
          "colorbar": {
           "thickness": 15,
           "title": {
            "side": "right",
            "text": "coco"
           },
           "xanchor": "left"
          },
          "colorscale": "YlGnBu",
          "line": {
           "width": 2
          },
          "reversescale": true,
          "showscale": false,
          "size": [
           3,
           41,
           101,
           5,
           88
          ],
          "sizemin": 10,
          "sizemode": "area",
          "sizeref": 0.12625
         },
         "mode": "markers",
         "text": [],
         "type": "scatter",
         "uid": "a112a851-bd8a-4253-97e1-a94f70341319",
         "x": [
          0.9999999999999999,
          0.30901696042448806,
          -0.8090170945349412,
          -0.8090169753256495,
          0.30901710943610267
         ],
         "y": [
          2.38418583364819e-08,
          0.9510565808604344,
          0.587785218735669,
          -0.5877853498658898,
          -0.9510564735720718
         ]
        },
        {
         "hoverinfo": "none",
         "line": {
          "color": "black",
          "width": 0.5
         },
         "mode": "lines",
         "type": "scatter",
         "uid": "5fc5a72f-6d7d-4558-ac5f-2380c1ce8001",
         "x": [
          0.9999999999999999,
          0.30901710943610267,
          null,
          0.9999999999999999,
          0.30901696042448806,
          null,
          0.9999999999999999,
          -0.8090170945349412,
          null,
          0.9999999999999999,
          -0.8090169753256495,
          null
         ],
         "y": [
          2.38418583364819e-08,
          -0.9510564735720718,
          null,
          2.38418583364819e-08,
          0.9510565808604344,
          null,
          2.38418583364819e-08,
          0.587785218735669,
          null,
          2.38418583364819e-08,
          -0.5877853498658898,
          null
         ]
        }
       ],
       "layout": {
        "annotations": [
         {
          "ax": 0,
          "ay": 20,
          "showarrow": false,
          "text": "Next",
          "x": 0.9999999999999999,
          "xref": "x",
          "y": 0.10000002384185834,
          "yref": "y"
         },
         {
          "ax": 0,
          "ay": 20,
          "showarrow": false,
          "text": "Nubank",
          "x": 0.30901696042448806,
          "xref": "x",
          "y": 1.0510565808604344,
          "yref": "y"
         },
         {
          "ax": 0,
          "ay": 20,
          "showarrow": false,
          "text": "Itau",
          "x": -0.8090170945349412,
          "xref": "x",
          "y": 0.687785218735669,
          "yref": "y"
         },
         {
          "ax": 0,
          "ay": 20,
          "showarrow": false,
          "text": "XP Investimentos",
          "x": -0.8090169753256495,
          "xref": "x",
          "y": -0.48778534986588984,
          "yref": "y"
         },
         {
          "ax": 0,
          "ay": 20,
          "showarrow": false,
          "text": "BB",
          "x": 0.30901710943610267,
          "xref": "x",
          "y": -0.8510564735720718,
          "yref": "y"
         }
        ],
        "hovermode": "closest",
        "margin": {
         "b": 20,
         "l": 5,
         "r": 5,
         "t": 40
        },
        "showlegend": false,
        "title": {
         "font": {
          "size": 16
         },
         "text": "coco"
        },
        "xaxis": {
         "showgrid": false,
         "showticklabels": false,
         "zeroline": false
        },
        "yaxis": {
         "showgrid": false,
         "showticklabels": false,
         "zeroline": false
        }
       }
      },
      "text/html": [
       "<div>\n",
       "        \n",
       "        \n",
       "            <div id=\"4ce4213e-f431-4d75-8283-651de059191f\" class=\"plotly-graph-div\" style=\"height:525px; width:100%;\"></div>\n",
       "            <script type=\"text/javascript\">\n",
       "                require([\"plotly\"], function(Plotly) {\n",
       "                    window.PLOTLYENV=window.PLOTLYENV || {};\n",
       "                    window.PLOTLYENV.BASE_URL='https://plot.ly';\n",
       "                    \n",
       "                if (document.getElementById(\"4ce4213e-f431-4d75-8283-651de059191f\")) {\n",
       "                    Plotly.newPlot(\n",
       "                        '4ce4213e-f431-4d75-8283-651de059191f',\n",
       "                        [{\"hoverinfo\": \"text\", \"marker\": {\"cmax\": 101, \"cmin\": 3, \"color\": [3, 41, 101, 5, 88], \"colorbar\": {\"thickness\": 15, \"title\": {\"side\": \"right\", \"text\": \"coco\"}, \"xanchor\": \"left\"}, \"colorscale\": \"YlGnBu\", \"line\": {\"width\": 2}, \"reversescale\": true, \"showscale\": false, \"size\": [3, 41, 101, 5, 88], \"sizemin\": 10, \"sizemode\": \"area\", \"sizeref\": 0.12625}, \"mode\": \"markers\", \"text\": [], \"type\": \"scatter\", \"uid\": \"c7bdefae-8206-4c8d-a64d-d7788a3184b4\", \"x\": [0.9999999999999999, 0.30901696042448806, -0.8090170945349412, -0.8090169753256495, 0.30901710943610267], \"y\": [2.38418583364819e-08, 0.9510565808604344, 0.587785218735669, -0.5877853498658898, -0.9510564735720718]}, {\"hoverinfo\": \"none\", \"line\": {\"color\": \"black\", \"width\": 0.5}, \"mode\": \"lines\", \"type\": \"scatter\", \"uid\": \"4f7ce958-b59b-4119-8341-fcbf1ef56eda\", \"x\": [0.9999999999999999, 0.30901710943610267, null, 0.9999999999999999, 0.30901696042448806, null, 0.9999999999999999, -0.8090170945349412, null, 0.9999999999999999, -0.8090169753256495, null], \"y\": [2.38418583364819e-08, -0.9510564735720718, null, 2.38418583364819e-08, 0.9510565808604344, null, 2.38418583364819e-08, 0.587785218735669, null, 2.38418583364819e-08, -0.5877853498658898, null]}],\n",
       "                        {\"annotations\": [{\"ax\": 0, \"ay\": 20, \"showarrow\": false, \"text\": \"Next\", \"x\": 0.9999999999999999, \"xref\": \"x\", \"y\": 0.10000002384185834, \"yref\": \"y\"}, {\"ax\": 0, \"ay\": 20, \"showarrow\": false, \"text\": \"Nubank\", \"x\": 0.30901696042448806, \"xref\": \"x\", \"y\": 1.0510565808604344, \"yref\": \"y\"}, {\"ax\": 0, \"ay\": 20, \"showarrow\": false, \"text\": \"Itau\", \"x\": -0.8090170945349412, \"xref\": \"x\", \"y\": 0.687785218735669, \"yref\": \"y\"}, {\"ax\": 0, \"ay\": 20, \"showarrow\": false, \"text\": \"XP Investimentos\", \"x\": -0.8090169753256495, \"xref\": \"x\", \"y\": -0.48778534986588984, \"yref\": \"y\"}, {\"ax\": 0, \"ay\": 20, \"showarrow\": false, \"text\": \"BB\", \"x\": 0.30901710943610267, \"xref\": \"x\", \"y\": -0.8510564735720718, \"yref\": \"y\"}], \"hovermode\": \"closest\", \"margin\": {\"b\": 20, \"l\": 5, \"r\": 5, \"t\": 40}, \"showlegend\": false, \"title\": {\"font\": {\"size\": 16}, \"text\": \"coco\"}, \"xaxis\": {\"showgrid\": false, \"showticklabels\": false, \"zeroline\": false}, \"yaxis\": {\"showgrid\": false, \"showticklabels\": false, \"zeroline\": false}},\n",
       "                        {\"showLink\": false, \"linkText\": \"Export to plot.ly\", \"plotlyServerURL\": \"https://plot.ly\", \"responsive\": true}\n",
       "                    ).then(function(){\n",
       "                            \n",
       "var gd = document.getElementById('4ce4213e-f431-4d75-8283-651de059191f');\n",
       "var x = new MutationObserver(function (mutations, observer) {{\n",
       "        var display = window.getComputedStyle(gd).display;\n",
       "        if (!display || display === 'none') {{\n",
       "            console.log([gd, 'removed!']);\n",
       "            Plotly.purge(gd);\n",
       "            observer.disconnect();\n",
       "        }}\n",
       "}});\n",
       "\n",
       "// Listen for the removal of the full notebook cells\n",
       "var notebookContainer = gd.closest('#notebook-container');\n",
       "if (notebookContainer) {{\n",
       "    x.observe(notebookContainer, {childList: true});\n",
       "}}\n",
       "\n",
       "// Listen for the clearing of the current output cell\n",
       "var outputEl = gd.closest('.output');\n",
       "if (outputEl) {{\n",
       "    x.observe(outputEl, {childList: true});\n",
       "}}\n",
       "\n",
       "                        })\n",
       "                };\n",
       "                });\n",
       "            </script>\n",
       "        </div>"
      ]
     },
     "metadata": {},
     "output_type": "display_data"
    }
   ],
   "source": [
    "mygraph.plot(title='coco', node_size_col='clientes', node_color_col='clientes', edge_color_col='enviado')"
   ]
  },
  {
   "cell_type": "code",
   "execution_count": null,
   "metadata": {},
   "outputs": [],
   "source": []
  }
 ],
 "metadata": {
  "kernelspec": {
   "display_name": "Python 3",
   "language": "python",
   "name": "python3"
  },
  "language_info": {
   "codemirror_mode": {
    "name": "ipython",
    "version": 3
   },
   "file_extension": ".py",
   "mimetype": "text/x-python",
   "name": "python",
   "nbconvert_exporter": "python",
   "pygments_lexer": "ipython3",
   "version": "3.7.0"
  }
 },
 "nbformat": 4,
 "nbformat_minor": 2
}
