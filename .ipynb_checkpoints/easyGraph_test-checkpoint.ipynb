{
 "cells": [
  {
   "cell_type": "code",
   "execution_count": 1,
   "metadata": {},
   "outputs": [
    {
     "data": {
      "text/html": [
       "        <script type=\"text/javascript\">\n",
       "        window.PlotlyConfig = {MathJaxConfig: 'local'};\n",
       "        if (window.MathJax) {MathJax.Hub.Config({SVG: {font: \"STIX-Web\"}});}\n",
       "        if (typeof require !== 'undefined') {\n",
       "        require.undef(\"plotly\");\n",
       "        requirejs.config({\n",
       "            paths: {\n",
       "                'plotly': ['https://cdn.plot.ly/plotly-latest.min']\n",
       "            }\n",
       "        });\n",
       "        require(['plotly'], function(Plotly) {\n",
       "            window._Plotly = Plotly;\n",
       "        });\n",
       "        }\n",
       "        </script>\n",
       "        "
      ]
     },
     "metadata": {},
     "output_type": "display_data"
    }
   ],
   "source": [
    "%load_ext autoreload\n",
    "%autoreload 2\n",
    "from easyGraph import *\n",
    "import pandas as pd"
   ]
  },
  {
   "cell_type": "code",
   "execution_count": 2,
   "metadata": {},
   "outputs": [],
   "source": [
    "# creating an empty graph object\n",
    "mygraph = EasyGraph(6, dim=3)"
   ]
  },
  {
   "cell_type": "code",
   "execution_count": 3,
   "metadata": {},
   "outputs": [
    {
     "data": {
      "text/html": [
       "<div>\n",
       "<style scoped>\n",
       "    .dataframe tbody tr th:only-of-type {\n",
       "        vertical-align: middle;\n",
       "    }\n",
       "\n",
       "    .dataframe tbody tr th {\n",
       "        vertical-align: top;\n",
       "    }\n",
       "\n",
       "    .dataframe thead th {\n",
       "        text-align: right;\n",
       "    }\n",
       "</style>\n",
       "<table border=\"1\" class=\"dataframe\">\n",
       "  <thead>\n",
       "    <tr style=\"text-align: right;\">\n",
       "      <th></th>\n",
       "      <th>banco</th>\n",
       "      <th>clientes</th>\n",
       "      <th>lucro</th>\n",
       "    </tr>\n",
       "  </thead>\n",
       "  <tbody>\n",
       "    <tr>\n",
       "      <th>0</th>\n",
       "      <td>Next</td>\n",
       "      <td>2000</td>\n",
       "      <td>234</td>\n",
       "    </tr>\n",
       "    <tr>\n",
       "      <th>1</th>\n",
       "      <td>Inter</td>\n",
       "      <td>35000</td>\n",
       "      <td>1111</td>\n",
       "    </tr>\n",
       "    <tr>\n",
       "      <th>2</th>\n",
       "      <td>Nubank</td>\n",
       "      <td>234243</td>\n",
       "      <td>2234</td>\n",
       "    </tr>\n",
       "    <tr>\n",
       "      <th>3</th>\n",
       "      <td>BB</td>\n",
       "      <td>23443</td>\n",
       "      <td>2344</td>\n",
       "    </tr>\n",
       "    <tr>\n",
       "      <th>4</th>\n",
       "      <td>Itau</td>\n",
       "      <td>2</td>\n",
       "      <td>444</td>\n",
       "    </tr>\n",
       "  </tbody>\n",
       "</table>\n",
       "</div>"
      ],
      "text/plain": [
       "    banco  clientes  lucro\n",
       "0    Next      2000    234\n",
       "1   Inter     35000   1111\n",
       "2  Nubank    234243   2234\n",
       "3      BB     23443   2344\n",
       "4    Itau         2    444"
      ]
     },
     "execution_count": 3,
     "metadata": {},
     "output_type": "execute_result"
    }
   ],
   "source": [
    "# creating a node dataframe \n",
    "bancos = pd.DataFrame({\n",
    "        'banco' : ['Next', 'Inter', 'Nubank', 'BB', 'Itau', 'XP Investimentos', 'CEF', 'Santander','Bradesco'],\n",
    "        'clientes': [2000,   35000, 234243, 23443,2,1,232323, 666, 24433],\n",
    "        'lucro': [234, 1111, 2234, 2344, 444, 222, 1, 1, 9877] \n",
    "})\n",
    "bancos.head()"
   ]
  },
  {
   "cell_type": "code",
   "execution_count": 4,
   "metadata": {},
   "outputs": [],
   "source": [
    "# adding the nodes to the graph\n",
    "# 'banco' is the id column \n",
    "mygraph.node.load(bancos, 'banco')"
   ]
  },
  {
   "cell_type": "code",
   "execution_count": 5,
   "metadata": {
    "scrolled": true
   },
   "outputs": [
    {
     "data": {
      "text/html": [
       "<div>\n",
       "<style scoped>\n",
       "    .dataframe tbody tr th:only-of-type {\n",
       "        vertical-align: middle;\n",
       "    }\n",
       "\n",
       "    .dataframe tbody tr th {\n",
       "        vertical-align: top;\n",
       "    }\n",
       "\n",
       "    .dataframe thead th {\n",
       "        text-align: right;\n",
       "    }\n",
       "</style>\n",
       "<table border=\"1\" class=\"dataframe\">\n",
       "  <thead>\n",
       "    <tr style=\"text-align: right;\">\n",
       "      <th></th>\n",
       "      <th>de</th>\n",
       "      <th>para</th>\n",
       "      <th>enviado</th>\n",
       "      <th>recebido</th>\n",
       "    </tr>\n",
       "  </thead>\n",
       "  <tbody>\n",
       "    <tr>\n",
       "      <th>0</th>\n",
       "      <td>Next</td>\n",
       "      <td>Bradesco</td>\n",
       "      <td>25500</td>\n",
       "      <td>2344</td>\n",
       "    </tr>\n",
       "    <tr>\n",
       "      <th>1</th>\n",
       "      <td>Next</td>\n",
       "      <td>Inter</td>\n",
       "      <td>3500</td>\n",
       "      <td>111</td>\n",
       "    </tr>\n",
       "    <tr>\n",
       "      <th>2</th>\n",
       "      <td>Next</td>\n",
       "      <td>Nubank</td>\n",
       "      <td>12345</td>\n",
       "      <td>22234</td>\n",
       "    </tr>\n",
       "    <tr>\n",
       "      <th>3</th>\n",
       "      <td>Next</td>\n",
       "      <td>BB</td>\n",
       "      <td>6664</td>\n",
       "      <td>234</td>\n",
       "    </tr>\n",
       "    <tr>\n",
       "      <th>4</th>\n",
       "      <td>Next</td>\n",
       "      <td>Itau</td>\n",
       "      <td>222</td>\n",
       "      <td>4344</td>\n",
       "    </tr>\n",
       "  </tbody>\n",
       "</table>\n",
       "</div>"
      ],
      "text/plain": [
       "     de      para  enviado  recebido\n",
       "0  Next  Bradesco    25500      2344\n",
       "1  Next     Inter     3500       111\n",
       "2  Next    Nubank    12345     22234\n",
       "3  Next        BB     6664       234\n",
       "4  Next      Itau      222      4344"
      ]
     },
     "execution_count": 5,
     "metadata": {},
     "output_type": "execute_result"
    }
   ],
   "source": [
    "teds = pd.DataFrame({\n",
    "        'de' : ['Next', 'Next', 'Next', 'Next', 'Next', 'Next', 'Next', 'Next', 'Inter', 'Nubank', 'Nubank', 'Itau', 'CEF'],\n",
    "        'para' : ['Bradesco', 'Inter', 'Nubank', 'BB', 'Itau', 'XP Investimentos', 'CEF', 'Santander', 'Nubank', 'BB', 'Bradesco', 'Bradesco', 'BB'],\n",
    "        'enviado': [25500,   3500, 12345, 6664, 222,111, 2323, 666, 129, 122111, 23, 12112,888],\n",
    "        'recebido': [2344, 111, 22234, 234, 4344, 2322, 1111, 1111, 8766, 9877, 2111, 98767,999] \n",
    "})\n",
    "teds.head()"
   ]
  },
  {
   "cell_type": "code",
   "execution_count": 6,
   "metadata": {},
   "outputs": [],
   "source": [
    "mygraph.edge.load(teds, 'de', 'para')"
   ]
  },
  {
   "cell_type": "code",
   "execution_count": 7,
   "metadata": {
    "scrolled": true
   },
   "outputs": [
    {
     "data": {
      "application/vnd.plotly.v1+json": {
       "config": {
        "linkText": "Export to plot.ly",
        "plotlyServerURL": "https://plot.ly",
        "responsive": true,
        "showLink": false
       },
       "data": [
        {
         "hoverinfo": "text",
         "marker": {
          "cmax": null,
          "cmin": null,
          "color": "darkblue",
          "colorbar": {
           "thickness": 15,
           "title": {
            "side": "right",
            "text": " "
           },
           "xanchor": "left"
          },
          "colorscale": "Viridis",
          "line": {
           "width": 2
          },
          "reversescale": true,
          "showscale": false,
          "size": [
           1,
           1,
           1,
           1,
           1,
           1,
           1,
           1,
           1,
           1
          ],
          "sizemin": 15,
          "sizemode": "area",
          "sizeref": 15
         },
         "mode": "markers",
         "text": [
          "<b>Next</b><br>clientes: 2000<br>lucro: 234<br>",
          "<b>Inter</b><br>clientes: 35000<br>lucro: 1111<br>",
          "<b>Nubank</b><br>clientes: 234243<br>lucro: 2234<br>",
          "<b>BB</b><br>clientes: 23443<br>lucro: 2344<br>",
          "<b>Itau</b><br>clientes: 2<br>lucro: 444<br>",
          "<b>XP Investimentos</b><br>clientes: 1<br>lucro: 222<br>",
          "<b>CEF</b><br>clientes: 232323<br>lucro: 1<br>",
          "<b>Santander</b><br>clientes: 666<br>lucro: 1<br>",
          "<b>Bradesco</b><br>clientes: 24433<br>lucro: 9877<br>",
          "<b>Xp Investimentos</b><br>"
         ],
         "type": "scatter3d",
         "uid": "5329a05e-bcf8-4d05-94e7-3508eef4c6cf",
         "x": [
          0.040261705985545786,
          0.13718094263955166,
          0.09553610847464837,
          0.3954006514546934,
          -0.3197913922267814,
          -0.33457140618494496,
          0.538643840731834,
          0.326420839798038,
          -0.28828843145100713,
          -0.5907928592215774
         ],
         "y": [
          -0.0623257559884648,
          -0.24305324378182713,
          0.13351624998223544,
          0.27374253279841404,
          0.20264775169203458,
          -0.5361634755962633,
          0.18851643321081574,
          -0.5560912259939256,
          0.18606929996471344,
          0.413141433712268
         ],
         "z": [
          -0.05664387034310885,
          -0.5977722306760708,
          -0.5052955654285728,
          -0.24086703704940582,
          0.5491434500615441,
          0.026838478234429548,
          0.09131608971974224,
          0.17673584578680662,
          -0.4434551603053648,
          1
         ]
        },
        {
         "hoverinfo": "none",
         "line": {
          "color": "black",
          "width": 0.5
         },
         "mode": "lines",
         "type": "scatter3d",
         "uid": "dba09038-4bbb-4e38-b3aa-394ee5b0876c",
         "x": [
          0.040261705985545786,
          -0.28828843145100713,
          null
         ],
         "y": [
          -0.0623257559884648,
          0.18606929996471344,
          null
         ],
         "z": [
          -0.05664387034310885,
          -0.4434551603053648,
          null
         ]
        },
        {
         "hoverinfo": "none",
         "line": {
          "color": "black",
          "width": 0.5
         },
         "mode": "lines",
         "type": "scatter3d",
         "uid": "6707f3e2-9a6a-4b0e-a6f9-6d6bc6128f9d",
         "x": [
          0.040261705985545786,
          0.13718094263955166,
          null
         ],
         "y": [
          -0.0623257559884648,
          -0.24305324378182713,
          null
         ],
         "z": [
          -0.05664387034310885,
          -0.5977722306760708,
          null
         ]
        },
        {
         "hoverinfo": "none",
         "line": {
          "color": "black",
          "width": 0.5
         },
         "mode": "lines",
         "type": "scatter3d",
         "uid": "30527d1b-d19a-47bd-a253-e9c78762629e",
         "x": [
          0.040261705985545786,
          0.09553610847464837,
          null
         ],
         "y": [
          -0.0623257559884648,
          0.13351624998223544,
          null
         ],
         "z": [
          -0.05664387034310885,
          -0.5052955654285728,
          null
         ]
        },
        {
         "hoverinfo": "none",
         "line": {
          "color": "black",
          "width": 0.5
         },
         "mode": "lines",
         "type": "scatter3d",
         "uid": "49acdded-9805-4fdb-b595-7fe44dc00e41",
         "x": [
          0.040261705985545786,
          0.3954006514546934,
          null
         ],
         "y": [
          -0.0623257559884648,
          0.27374253279841404,
          null
         ],
         "z": [
          -0.05664387034310885,
          -0.24086703704940582,
          null
         ]
        },
        {
         "hoverinfo": "none",
         "line": {
          "color": "black",
          "width": 0.5
         },
         "mode": "lines",
         "type": "scatter3d",
         "uid": "4df0dcd4-cc8a-443d-a819-4c8299727297",
         "x": [
          0.040261705985545786,
          -0.3197913922267814,
          null
         ],
         "y": [
          -0.0623257559884648,
          0.20264775169203458,
          null
         ],
         "z": [
          -0.05664387034310885,
          0.5491434500615441,
          null
         ]
        },
        {
         "hoverinfo": "none",
         "line": {
          "color": "black",
          "width": 0.5
         },
         "mode": "lines",
         "type": "scatter3d",
         "uid": "217879b7-1d93-4856-befc-c6592d39adcb",
         "x": [
          0.040261705985545786,
          -0.33457140618494496,
          null
         ],
         "y": [
          -0.0623257559884648,
          -0.5361634755962633,
          null
         ],
         "z": [
          -0.05664387034310885,
          0.026838478234429548,
          null
         ]
        },
        {
         "hoverinfo": "none",
         "line": {
          "color": "black",
          "width": 0.5
         },
         "mode": "lines",
         "type": "scatter3d",
         "uid": "0237af1a-44ac-4729-bb00-b2017104e9e8",
         "x": [
          0.040261705985545786,
          0.538643840731834,
          null
         ],
         "y": [
          -0.0623257559884648,
          0.18851643321081574,
          null
         ],
         "z": [
          -0.05664387034310885,
          0.09131608971974224,
          null
         ]
        },
        {
         "hoverinfo": "none",
         "line": {
          "color": "black",
          "width": 0.5
         },
         "mode": "lines",
         "type": "scatter3d",
         "uid": "38d51cec-76fa-4771-a0d1-9dae31b104db",
         "x": [
          0.040261705985545786,
          0.326420839798038,
          null
         ],
         "y": [
          -0.0623257559884648,
          -0.5560912259939256,
          null
         ],
         "z": [
          -0.05664387034310885,
          0.17673584578680662,
          null
         ]
        },
        {
         "hoverinfo": "none",
         "line": {
          "color": "black",
          "width": 0.5
         },
         "mode": "lines",
         "type": "scatter3d",
         "uid": "afaa224b-dadb-460c-ad63-e718ff7f0b86",
         "x": [
          0.13718094263955166,
          0.09553610847464837,
          null
         ],
         "y": [
          -0.24305324378182713,
          0.13351624998223544,
          null
         ],
         "z": [
          -0.5977722306760708,
          -0.5052955654285728,
          null
         ]
        },
        {
         "hoverinfo": "none",
         "line": {
          "color": "black",
          "width": 0.5
         },
         "mode": "lines",
         "type": "scatter3d",
         "uid": "c3784c03-fa94-41f9-bdaf-8e25ef77392b",
         "x": [
          0.09553610847464837,
          0.3954006514546934,
          null
         ],
         "y": [
          0.13351624998223544,
          0.27374253279841404,
          null
         ],
         "z": [
          -0.5052955654285728,
          -0.24086703704940582,
          null
         ]
        },
        {
         "hoverinfo": "none",
         "line": {
          "color": "black",
          "width": 0.5
         },
         "mode": "lines",
         "type": "scatter3d",
         "uid": "a20c161d-bd28-475e-8d3f-5114d1a79e71",
         "x": [
          0.09553610847464837,
          -0.28828843145100713,
          null
         ],
         "y": [
          0.13351624998223544,
          0.18606929996471344,
          null
         ],
         "z": [
          -0.5052955654285728,
          -0.4434551603053648,
          null
         ]
        },
        {
         "hoverinfo": "none",
         "line": {
          "color": "black",
          "width": 0.5
         },
         "mode": "lines",
         "type": "scatter3d",
         "uid": "e6bcf78b-6ef0-45b8-bfc6-d9cc571cab7f",
         "x": [
          0.3954006514546934,
          0.538643840731834,
          null
         ],
         "y": [
          0.27374253279841404,
          0.18851643321081574,
          null
         ],
         "z": [
          -0.24086703704940582,
          0.09131608971974224,
          null
         ]
        },
        {
         "hoverinfo": "none",
         "line": {
          "color": "black",
          "width": 0.5
         },
         "mode": "lines",
         "type": "scatter3d",
         "uid": "1a4d6e8a-37f3-48fd-94d3-24b501946560",
         "x": [
          -0.3197913922267814,
          -0.5907928592215774,
          null
         ],
         "y": [
          0.20264775169203458,
          0.413141433712268,
          null
         ],
         "z": [
          0.5491434500615441,
          1,
          null
         ]
        }
       ],
       "layout": {
        "annotations": [
         {
          "ax": 0,
          "ay": 20,
          "showarrow": false,
          "text": "Next",
          "x": 0.040261705985545786,
          "xref": "x",
          "y": 0.037674244011535206,
          "yref": "y"
         },
         {
          "ax": 0,
          "ay": 20,
          "showarrow": false,
          "text": "Inter",
          "x": 0.13718094263955166,
          "xref": "x",
          "y": -0.14305324378182713,
          "yref": "y"
         },
         {
          "ax": 0,
          "ay": 20,
          "showarrow": false,
          "text": "Nubank",
          "x": 0.09553610847464837,
          "xref": "x",
          "y": 0.23351624998223544,
          "yref": "y"
         },
         {
          "ax": 0,
          "ay": 20,
          "showarrow": false,
          "text": "BB",
          "x": 0.3954006514546934,
          "xref": "x",
          "y": 0.3737425327984141,
          "yref": "y"
         },
         {
          "ax": 0,
          "ay": 20,
          "showarrow": false,
          "text": "Itau",
          "x": -0.3197913922267814,
          "xref": "x",
          "y": 0.3026477516920346,
          "yref": "y"
         },
         {
          "ax": 0,
          "ay": 20,
          "showarrow": false,
          "text": "XP Investimentos",
          "x": -0.33457140618494496,
          "xref": "x",
          "y": -0.43616347559626334,
          "yref": "y"
         },
         {
          "ax": 0,
          "ay": 20,
          "showarrow": false,
          "text": "CEF",
          "x": 0.538643840731834,
          "xref": "x",
          "y": 0.28851643321081577,
          "yref": "y"
         },
         {
          "ax": 0,
          "ay": 20,
          "showarrow": false,
          "text": "Santander",
          "x": 0.326420839798038,
          "xref": "x",
          "y": -0.4560912259939256,
          "yref": "y"
         },
         {
          "ax": 0,
          "ay": 20,
          "showarrow": false,
          "text": "Bradesco",
          "x": -0.28828843145100713,
          "xref": "x",
          "y": 0.2860692999647134,
          "yref": "y"
         },
         {
          "ax": 0,
          "ay": 20,
          "showarrow": false,
          "text": "Xp Investimentos",
          "x": -0.5907928592215774,
          "xref": "x",
          "y": 0.5131414337122681,
          "yref": "y"
         }
        ],
        "hovermode": "closest",
        "margin": {
         "b": 20,
         "l": 5,
         "r": 5,
         "t": 40
        },
        "scene": {
         "xaxis": {
          "showbackground": false,
          "showgrid": false,
          "showline": false,
          "showticklabels": false,
          "title": {
           "text": ""
          },
          "zeroline": false
         },
         "yaxis": {
          "showbackground": false,
          "showgrid": false,
          "showline": false,
          "showticklabels": false,
          "title": {
           "text": ""
          },
          "zeroline": false
         },
         "zaxis": {
          "showbackground": false,
          "showgrid": false,
          "showline": false,
          "showticklabels": false,
          "title": {
           "text": ""
          },
          "zeroline": false
         }
        },
        "showlegend": false,
        "title": {
         "font": {
          "size": 16
         },
         "text": " "
        }
       }
      },
      "text/html": [
       "<div>\n",
       "        \n",
       "        \n",
       "            <div id=\"8e716e7f-132b-4d56-9e72-767dac121af0\" class=\"plotly-graph-div\" style=\"height:525px; width:100%;\"></div>\n",
       "            <script type=\"text/javascript\">\n",
       "                require([\"plotly\"], function(Plotly) {\n",
       "                    window.PLOTLYENV=window.PLOTLYENV || {};\n",
       "                    window.PLOTLYENV.BASE_URL='https://plot.ly';\n",
       "                    \n",
       "                if (document.getElementById(\"8e716e7f-132b-4d56-9e72-767dac121af0\")) {\n",
       "                    Plotly.newPlot(\n",
       "                        '8e716e7f-132b-4d56-9e72-767dac121af0',\n",
       "                        [{\"hoverinfo\": \"text\", \"marker\": {\"cmax\": null, \"cmin\": null, \"color\": \"darkblue\", \"colorbar\": {\"thickness\": 15, \"title\": {\"side\": \"right\", \"text\": \" \"}, \"xanchor\": \"left\"}, \"colorscale\": \"Viridis\", \"line\": {\"width\": 2}, \"reversescale\": true, \"showscale\": false, \"size\": [1, 1, 1, 1, 1, 1, 1, 1, 1, 1], \"sizemin\": 15, \"sizemode\": \"area\", \"sizeref\": 15}, \"mode\": \"markers\", \"text\": [\"<b>Next</b><br>clientes: 2000<br>lucro: 234<br>\", \"<b>Inter</b><br>clientes: 35000<br>lucro: 1111<br>\", \"<b>Nubank</b><br>clientes: 234243<br>lucro: 2234<br>\", \"<b>BB</b><br>clientes: 23443<br>lucro: 2344<br>\", \"<b>Itau</b><br>clientes: 2<br>lucro: 444<br>\", \"<b>XP Investimentos</b><br>clientes: 1<br>lucro: 222<br>\", \"<b>CEF</b><br>clientes: 232323<br>lucro: 1<br>\", \"<b>Santander</b><br>clientes: 666<br>lucro: 1<br>\", \"<b>Bradesco</b><br>clientes: 24433<br>lucro: 9877<br>\", \"<b>Xp Investimentos</b><br>\"], \"type\": \"scatter3d\", \"uid\": \"20f449d0-ecf0-4579-b5cd-b36f29f2d079\", \"x\": [0.040261705985545786, 0.13718094263955166, 0.09553610847464837, 0.3954006514546934, -0.3197913922267814, -0.33457140618494496, 0.538643840731834, 0.326420839798038, -0.28828843145100713, -0.5907928592215774], \"y\": [-0.0623257559884648, -0.24305324378182713, 0.13351624998223544, 0.27374253279841404, 0.20264775169203458, -0.5361634755962633, 0.18851643321081574, -0.5560912259939256, 0.18606929996471344, 0.413141433712268], \"z\": [-0.05664387034310885, -0.5977722306760708, -0.5052955654285728, -0.24086703704940582, 0.5491434500615441, 0.026838478234429548, 0.09131608971974224, 0.17673584578680662, -0.4434551603053648, 1.0]}, {\"hoverinfo\": \"none\", \"line\": {\"color\": \"black\", \"width\": 0.5}, \"mode\": \"lines\", \"type\": \"scatter3d\", \"uid\": \"59dc2857-3d76-43a1-827a-4bfd61e4de6d\", \"x\": [0.040261705985545786, -0.28828843145100713, null], \"y\": [-0.0623257559884648, 0.18606929996471344, null], \"z\": [-0.05664387034310885, -0.4434551603053648, null]}, {\"hoverinfo\": \"none\", \"line\": {\"color\": \"black\", \"width\": 0.5}, \"mode\": \"lines\", \"type\": \"scatter3d\", \"uid\": \"48a62cdb-28f1-487b-877b-7b440d681c29\", \"x\": [0.040261705985545786, 0.13718094263955166, null], \"y\": [-0.0623257559884648, -0.24305324378182713, null], \"z\": [-0.05664387034310885, -0.5977722306760708, null]}, {\"hoverinfo\": \"none\", \"line\": {\"color\": \"black\", \"width\": 0.5}, \"mode\": \"lines\", \"type\": \"scatter3d\", \"uid\": \"96643cb4-bf6a-4990-af6f-b5871942619e\", \"x\": [0.040261705985545786, 0.09553610847464837, null], \"y\": [-0.0623257559884648, 0.13351624998223544, null], \"z\": [-0.05664387034310885, -0.5052955654285728, null]}, {\"hoverinfo\": \"none\", \"line\": {\"color\": \"black\", \"width\": 0.5}, \"mode\": \"lines\", \"type\": \"scatter3d\", \"uid\": \"77f2955f-102b-47fb-b059-546eb1973311\", \"x\": [0.040261705985545786, 0.3954006514546934, null], \"y\": [-0.0623257559884648, 0.27374253279841404, null], \"z\": [-0.05664387034310885, -0.24086703704940582, null]}, {\"hoverinfo\": \"none\", \"line\": {\"color\": \"black\", \"width\": 0.5}, \"mode\": \"lines\", \"type\": \"scatter3d\", \"uid\": \"7bd5aa76-bef5-4885-8c7a-ce5d7499389f\", \"x\": [0.040261705985545786, -0.3197913922267814, null], \"y\": [-0.0623257559884648, 0.20264775169203458, null], \"z\": [-0.05664387034310885, 0.5491434500615441, null]}, {\"hoverinfo\": \"none\", \"line\": {\"color\": \"black\", \"width\": 0.5}, \"mode\": \"lines\", \"type\": \"scatter3d\", \"uid\": \"2a6c08ad-e03b-47f8-be4d-ab5c657655de\", \"x\": [0.040261705985545786, -0.33457140618494496, null], \"y\": [-0.0623257559884648, -0.5361634755962633, null], \"z\": [-0.05664387034310885, 0.026838478234429548, null]}, {\"hoverinfo\": \"none\", \"line\": {\"color\": \"black\", \"width\": 0.5}, \"mode\": \"lines\", \"type\": \"scatter3d\", \"uid\": \"8ec50416-905a-4357-9974-739e28571247\", \"x\": [0.040261705985545786, 0.538643840731834, null], \"y\": [-0.0623257559884648, 0.18851643321081574, null], \"z\": [-0.05664387034310885, 0.09131608971974224, null]}, {\"hoverinfo\": \"none\", \"line\": {\"color\": \"black\", \"width\": 0.5}, \"mode\": \"lines\", \"type\": \"scatter3d\", \"uid\": \"6bc9c5dd-e02f-4d94-9953-c81b6f909edc\", \"x\": [0.040261705985545786, 0.326420839798038, null], \"y\": [-0.0623257559884648, -0.5560912259939256, null], \"z\": [-0.05664387034310885, 0.17673584578680662, null]}, {\"hoverinfo\": \"none\", \"line\": {\"color\": \"black\", \"width\": 0.5}, \"mode\": \"lines\", \"type\": \"scatter3d\", \"uid\": \"9afafe46-2d2e-44d6-8751-2736c65bc822\", \"x\": [0.13718094263955166, 0.09553610847464837, null], \"y\": [-0.24305324378182713, 0.13351624998223544, null], \"z\": [-0.5977722306760708, -0.5052955654285728, null]}, {\"hoverinfo\": \"none\", \"line\": {\"color\": \"black\", \"width\": 0.5}, \"mode\": \"lines\", \"type\": \"scatter3d\", \"uid\": \"8c346731-4055-4b25-b801-88078d5f5b9a\", \"x\": [0.09553610847464837, 0.3954006514546934, null], \"y\": [0.13351624998223544, 0.27374253279841404, null], \"z\": [-0.5052955654285728, -0.24086703704940582, null]}, {\"hoverinfo\": \"none\", \"line\": {\"color\": \"black\", \"width\": 0.5}, \"mode\": \"lines\", \"type\": \"scatter3d\", \"uid\": \"7eab25ab-f197-4766-a27c-f759198bad03\", \"x\": [0.09553610847464837, -0.28828843145100713, null], \"y\": [0.13351624998223544, 0.18606929996471344, null], \"z\": [-0.5052955654285728, -0.4434551603053648, null]}, {\"hoverinfo\": \"none\", \"line\": {\"color\": \"black\", \"width\": 0.5}, \"mode\": \"lines\", \"type\": \"scatter3d\", \"uid\": \"ad63aa65-0c11-43df-83bd-78e2eea374da\", \"x\": [0.3954006514546934, 0.538643840731834, null], \"y\": [0.27374253279841404, 0.18851643321081574, null], \"z\": [-0.24086703704940582, 0.09131608971974224, null]}, {\"hoverinfo\": \"none\", \"line\": {\"color\": \"black\", \"width\": 0.5}, \"mode\": \"lines\", \"type\": \"scatter3d\", \"uid\": \"7842145c-620d-4259-b242-db74eaff5024\", \"x\": [-0.3197913922267814, -0.5907928592215774, null], \"y\": [0.20264775169203458, 0.413141433712268, null], \"z\": [0.5491434500615441, 1.0, null]}],\n",
       "                        {\"annotations\": [{\"ax\": 0, \"ay\": 20, \"showarrow\": false, \"text\": \"Next\", \"x\": 0.040261705985545786, \"xref\": \"x\", \"y\": 0.037674244011535206, \"yref\": \"y\"}, {\"ax\": 0, \"ay\": 20, \"showarrow\": false, \"text\": \"Inter\", \"x\": 0.13718094263955166, \"xref\": \"x\", \"y\": -0.14305324378182713, \"yref\": \"y\"}, {\"ax\": 0, \"ay\": 20, \"showarrow\": false, \"text\": \"Nubank\", \"x\": 0.09553610847464837, \"xref\": \"x\", \"y\": 0.23351624998223544, \"yref\": \"y\"}, {\"ax\": 0, \"ay\": 20, \"showarrow\": false, \"text\": \"BB\", \"x\": 0.3954006514546934, \"xref\": \"x\", \"y\": 0.3737425327984141, \"yref\": \"y\"}, {\"ax\": 0, \"ay\": 20, \"showarrow\": false, \"text\": \"Itau\", \"x\": -0.3197913922267814, \"xref\": \"x\", \"y\": 0.3026477516920346, \"yref\": \"y\"}, {\"ax\": 0, \"ay\": 20, \"showarrow\": false, \"text\": \"XP Investimentos\", \"x\": -0.33457140618494496, \"xref\": \"x\", \"y\": -0.43616347559626334, \"yref\": \"y\"}, {\"ax\": 0, \"ay\": 20, \"showarrow\": false, \"text\": \"CEF\", \"x\": 0.538643840731834, \"xref\": \"x\", \"y\": 0.28851643321081577, \"yref\": \"y\"}, {\"ax\": 0, \"ay\": 20, \"showarrow\": false, \"text\": \"Santander\", \"x\": 0.326420839798038, \"xref\": \"x\", \"y\": -0.4560912259939256, \"yref\": \"y\"}, {\"ax\": 0, \"ay\": 20, \"showarrow\": false, \"text\": \"Bradesco\", \"x\": -0.28828843145100713, \"xref\": \"x\", \"y\": 0.2860692999647134, \"yref\": \"y\"}, {\"ax\": 0, \"ay\": 20, \"showarrow\": false, \"text\": \"Xp Investimentos\", \"x\": -0.5907928592215774, \"xref\": \"x\", \"y\": 0.5131414337122681, \"yref\": \"y\"}], \"hovermode\": \"closest\", \"margin\": {\"b\": 20, \"l\": 5, \"r\": 5, \"t\": 40}, \"scene\": {\"xaxis\": {\"showbackground\": false, \"showgrid\": false, \"showline\": false, \"showticklabels\": false, \"title\": {\"text\": \"\"}, \"zeroline\": false}, \"yaxis\": {\"showbackground\": false, \"showgrid\": false, \"showline\": false, \"showticklabels\": false, \"title\": {\"text\": \"\"}, \"zeroline\": false}, \"zaxis\": {\"showbackground\": false, \"showgrid\": false, \"showline\": false, \"showticklabels\": false, \"title\": {\"text\": \"\"}, \"zeroline\": false}}, \"showlegend\": false, \"title\": {\"font\": {\"size\": 16}, \"text\": \" \"}},\n",
       "                        {\"showLink\": false, \"linkText\": \"Export to plot.ly\", \"plotlyServerURL\": \"https://plot.ly\", \"responsive\": true}\n",
       "                    ).then(function(){\n",
       "                            \n",
       "var gd = document.getElementById('8e716e7f-132b-4d56-9e72-767dac121af0');\n",
       "var x = new MutationObserver(function (mutations, observer) {{\n",
       "        var display = window.getComputedStyle(gd).display;\n",
       "        if (!display || display === 'none') {{\n",
       "            console.log([gd, 'removed!']);\n",
       "            Plotly.purge(gd);\n",
       "            observer.disconnect();\n",
       "        }}\n",
       "}});\n",
       "\n",
       "// Listen for the removal of the full notebook cells\n",
       "var notebookContainer = gd.closest('#notebook-container');\n",
       "if (notebookContainer) {{\n",
       "    x.observe(notebookContainer, {childList: true});\n",
       "}}\n",
       "\n",
       "// Listen for the clearing of the current output cell\n",
       "var outputEl = gd.closest('.output');\n",
       "if (outputEl) {{\n",
       "    x.observe(outputEl, {childList: true});\n",
       "}}\n",
       "\n",
       "                        })\n",
       "                };\n",
       "                });\n",
       "            </script>\n",
       "        </div>"
      ]
     },
     "metadata": {},
     "output_type": "display_data"
    }
   ],
   "source": [
    "mygraph.plot(filename='coco.html')"
   ]
  },
  {
   "cell_type": "code",
   "execution_count": null,
   "metadata": {},
   "outputs": [],
   "source": [
    "mygraph.plot(title='coco', node_color_col='clientes')"
   ]
  },
  {
   "cell_type": "code",
   "execution_count": null,
   "metadata": {},
   "outputs": [],
   "source": [
    "mygraph.plot(title='coco', node_size_col='clientes', node_color_col='clientes')"
   ]
  },
  {
   "cell_type": "code",
   "execution_count": null,
   "metadata": {},
   "outputs": [],
   "source": [
    "mygraph.plot(title='coco', node_size_col='clientes', node_color_col='clientes', hover_col='clientes')"
   ]
  },
  {
   "cell_type": "code",
   "execution_count": null,
   "metadata": {},
   "outputs": [],
   "source": [
    "mygraph.plot(title='coco', node_size_col='clientes', node_color_col='clientes', hover_col=['clientes','keke'])"
   ]
  },
  {
   "cell_type": "code",
   "execution_count": null,
   "metadata": {},
   "outputs": [],
   "source": [
    "mygraph.plot(title='coco', node_size_col='clientes', node_color_col='clientes', edge_color_col='enviado')"
   ]
  },
  {
   "cell_type": "code",
   "execution_count": 23,
   "metadata": {},
   "outputs": [
    {
     "data": {
      "application/vnd.plotly.v1+json": {
       "config": {
        "linkText": "Export to plot.ly",
        "plotlyServerURL": "https://plot.ly",
        "responsive": true,
        "showLink": false
       },
       "data": [
        {
         "hoverinfo": "text",
         "marker": {
          "cmax": 234243,
          "cmin": 1,
          "color": [
           "rgb(0, 0, 6)",
           "rgb(35, 17, 82)",
           "rgb(251, 252, 191)",
           "rgb(20, 13, 53)",
           "rgb(0, 0, 3)",
           "rgb(0, 0, 3)",
           "rgb(251, 247, 185)",
           "rgb(0, 0, 3)",
           "rgb(21, 14, 56)"
          ],
          "colorbar": {
           "thickness": 15,
           "title": {
            "side": "right",
            "text": "coco"
           },
           "xanchor": "left"
          },
          "colorscale": "Viridis",
          "line": {
           "width": 2
          },
          "reversescale": true,
          "showscale": false,
          "size": [
           2000,
           35000,
           234243,
           23443,
           2,
           1,
           232323,
           666,
           24433
          ],
          "sizemin": 5,
          "sizemode": "area",
          "sizeref": 187.3944
         },
         "mode": "markers",
         "text": [
          "<b>Next</b><br>clientes: 2000<br>lucro: 234<br>",
          "<b>Inter</b><br>clientes: 35000<br>lucro: 1111<br>",
          "<b>Nubank</b><br>clientes: 234243<br>lucro: 2234<br>",
          "<b>BB</b><br>clientes: 23443<br>lucro: 2344<br>",
          "<b>Itau</b><br>clientes: 2<br>lucro: 444<br>",
          "<b>XP Investimentos</b><br>clientes: 1<br>lucro: 222<br>",
          "<b>CEF</b><br>clientes: 232323<br>lucro: 1<br>",
          "<b>Santander</b><br>clientes: 666<br>lucro: 1<br>",
          "<b>Bradesco</b><br>clientes: 24433<br>lucro: 9877<br>"
         ],
         "type": "scatter3d",
         "uid": "bb4f26d6-351b-44f3-a549-cc868195b177",
         "x": [
          0.00031028487397079756,
          0.2965899885004346,
          -0.8272109729135869,
          -0.22978244209369136,
          -0.4207057177906966,
          -0.8672542457495348,
          0.7600499871103217,
          0.3613238832264944,
          0.9266792348362889
         ],
         "y": [
          0.0017094247753636528,
          0.9582655228388692,
          -0.6970702563879267,
          -0.3579492307742415,
          0.2790583574199527,
          0.6066204784957488,
          0.37103706818946697,
          -0.9383843746901998,
          -0.2232869898670345
         ],
         "z": [
          -0.001407439940009577,
          -0.419789412557805,
          0.125456686821576,
          -1,
          0.9641536678293422,
          -0.2402230999340206,
          0.6816006833139411,
          0.4118104542017854,
          -0.5216015397348102
         ]
        },
        {
         "hoverinfo": "none",
         "line": {
          "color": "black",
          "width": 5.5
         },
         "mode": "lines",
         "type": "scatter3d",
         "uid": "0eabad6a-43a6-4df6-83f3-fe959b4ffbc5",
         "x": [
          0.00031028487397079756,
          0.9266792348362889,
          null
         ],
         "y": [
          0.0017094247753636528,
          -0.2232869898670345,
          null
         ],
         "z": [
          -0.001407439940009577,
          -0.5216015397348102,
          null
         ]
        },
        {
         "hoverinfo": "none",
         "line": {
          "color": "black",
          "width": 1.1674150222537318
         },
         "mode": "lines",
         "type": "scatter3d",
         "uid": "6a648f9b-4098-4b7b-b540-0181110c2af3",
         "x": [
          0.00031028487397079756,
          0.2965899885004346,
          null
         ],
         "y": [
          0.0017094247753636528,
          0.9582655228388692,
          null
         ],
         "z": [
          -0.001407439940009577,
          -0.419789412557805,
          null
         ]
        },
        {
         "hoverinfo": "none",
         "line": {
          "color": "black",
          "width": 2.9093111189885383
         },
         "mode": "lines",
         "type": "scatter3d",
         "uid": "a71f89fb-40bb-421e-8031-e607599f9f28",
         "x": [
          0.00031028487397079756,
          -0.8272109729135869,
          null
         ],
         "y": [
          0.0017094247753636528,
          -0.6970702563879267,
          null
         ],
         "z": [
          -0.001407439940009577,
          0.125456686821576,
          null
         ]
        },
        {
         "hoverinfo": "none",
         "line": {
          "color": "black",
          "width": 1.790519516325968
         },
         "mode": "lines",
         "type": "scatter3d",
         "uid": "d6efbeb4-d838-4698-8df0-c6131b8a0c3e",
         "x": [
          0.00031028487397079756,
          -0.22978244209369136,
          null
         ],
         "y": [
          0.0017094247753636528,
          -0.3579492307742415,
          null
         ],
         "z": [
          -0.001407439940009577,
          -1,
          null
         ]
        },
        {
         "hoverinfo": "none",
         "line": {
          "color": "black",
          "width": 0.521859860569538
         },
         "mode": "lines",
         "type": "scatter3d",
         "uid": "9e66171e-f947-4444-b118-853e161cf526",
         "x": [
          0.00031028487397079756,
          -0.4207057177906966,
          null
         ],
         "y": [
          0.0017094247753636528,
          0.2790583574199527,
          null
         ],
         "z": [
          -0.001407439940009577,
          0.9641536678293422,
          null
         ]
        },
        {
         "hoverinfo": "none",
         "line": {
          "color": "black",
          "width": 0.5
         },
         "mode": "lines",
         "type": "scatter3d",
         "uid": "537d72a9-1842-462a-89a4-48a1b7ba51c6",
         "x": [
          0.00031028487397079756,
          -0.8672542457495348,
          null
         ],
         "y": [
          0.0017094247753636528,
          0.6066204784957488,
          null
         ],
         "z": [
          -0.001407439940009577,
          -0.2402230999340206,
          null
         ]
        },
        {
         "hoverinfo": "none",
         "line": {
          "color": "black",
          "width": 0.9356217259443066
         },
         "mode": "lines",
         "type": "scatter3d",
         "uid": "0cbf25c4-d1c7-4a93-9b49-e9638ad55853",
         "x": [
          0.00031028487397079756,
          0.7600499871103217,
          null
         ],
         "y": [
          0.0017094247753636528,
          0.37103706818946697,
          null
         ],
         "z": [
          -0.001407439940009577,
          0.6816006833139411,
          null
         ]
        },
        {
         "hoverinfo": "none",
         "line": {
          "color": "black",
          "width": 0.60929930284769
         },
         "mode": "lines",
         "type": "scatter3d",
         "uid": "d9bcb777-1916-47c4-a437-c29b3f7115c9",
         "x": [
          0.00031028487397079756,
          0.3613238832264944,
          null
         ],
         "y": [
          0.0017094247753636528,
          -0.9383843746901998,
          null
         ],
         "z": [
          -0.001407439940009577,
          0.4118104542017854,
          null
         ]
        }
       ],
       "layout": {
        "annotations": [
         {
          "ax": 0,
          "ay": 20,
          "showarrow": false,
          "text": "Next",
          "x": 0.9153811885375638,
          "xref": "x",
          "y": 0.07321951783924116,
          "yref": "y"
         },
         {
          "ax": 0,
          "ay": 20,
          "showarrow": false,
          "text": "Inter",
          "x": -0.7175519048947984,
          "xref": "x",
          "y": 0.7260189072000003,
          "yref": "y"
         },
         {
          "ax": 0,
          "ay": 20,
          "showarrow": false,
          "text": "Nubank",
          "x": 0.15020632897417596,
          "xref": "x",
          "y": 0.01903863368981809,
          "yref": "y"
         },
         {
          "ax": 0,
          "ay": 20,
          "showarrow": false,
          "text": "BB",
          "x": -0.8124591814887158,
          "xref": "x",
          "y": -0.3199615721151372,
          "yref": "y"
         },
         {
          "ax": 0,
          "ay": 20,
          "showarrow": false,
          "text": "Itau",
          "x": -0.40136219925791566,
          "xref": "x",
          "y": -0.5872678685827292,
          "yref": "y"
         },
         {
          "ax": 0,
          "ay": 20,
          "showarrow": false,
          "text": "XP Investimentos",
          "x": 0.23528609835433667,
          "xref": "x",
          "y": 0.15486916481786156,
          "yref": "y"
         },
         {
          "ax": 0,
          "ay": 20,
          "showarrow": false,
          "text": "CEF",
          "x": -0.49370052346069593,
          "xref": "x",
          "y": 0.5027932444749953,
          "yref": "y"
         },
         {
          "ax": 0,
          "ay": 20,
          "showarrow": false,
          "text": "Santander",
          "x": 0.6868929069445819,
          "xref": "x",
          "y": -0.5015310308952374,
          "yref": "y"
         },
         {
          "ax": 0,
          "ay": 20,
          "showarrow": false,
          "text": "Bradesco",
          "x": 0.4373072862914673,
          "xref": "x",
          "y": 0.8328210035711877,
          "yref": "y"
         },
         {
          "ax": 0,
          "ay": 20,
          "showarrow": false,
          "text": "Next",
          "x": 0.00031028487397079756,
          "xref": "x",
          "y": 0.10170942477536365,
          "yref": "y"
         },
         {
          "ax": 0,
          "ay": 20,
          "showarrow": false,
          "text": "Inter",
          "x": 0.2965899885004346,
          "xref": "x",
          "y": 1.0582655228388693,
          "yref": "y"
         },
         {
          "ax": 0,
          "ay": 20,
          "showarrow": false,
          "text": "Nubank",
          "x": -0.8272109729135869,
          "xref": "x",
          "y": -0.5970702563879268,
          "yref": "y"
         },
         {
          "ax": 0,
          "ay": 20,
          "showarrow": false,
          "text": "BB",
          "x": -0.22978244209369136,
          "xref": "x",
          "y": -0.2579492307742415,
          "yref": "y"
         },
         {
          "ax": 0,
          "ay": 20,
          "showarrow": false,
          "text": "Itau",
          "x": -0.4207057177906966,
          "xref": "x",
          "y": 0.37905835741995275,
          "yref": "y"
         },
         {
          "ax": 0,
          "ay": 20,
          "showarrow": false,
          "text": "XP Investimentos",
          "x": -0.8672542457495348,
          "xref": "x",
          "y": 0.7066204784957488,
          "yref": "y"
         },
         {
          "ax": 0,
          "ay": 20,
          "showarrow": false,
          "text": "CEF",
          "x": 0.7600499871103217,
          "xref": "x",
          "y": 0.471037068189467,
          "yref": "y"
         },
         {
          "ax": 0,
          "ay": 20,
          "showarrow": false,
          "text": "Santander",
          "x": 0.3613238832264944,
          "xref": "x",
          "y": -0.8383843746901998,
          "yref": "y"
         },
         {
          "ax": 0,
          "ay": 20,
          "showarrow": false,
          "text": "Bradesco",
          "x": 0.9266792348362889,
          "xref": "x",
          "y": -0.12328698986703449,
          "yref": "y"
         }
        ],
        "hovermode": "closest",
        "margin": {
         "b": 20,
         "l": 5,
         "r": 5,
         "t": 40
        },
        "scene": {
         "xaxis": {
          "showbackground": false,
          "showgrid": false,
          "showline": false,
          "showticklabels": false,
          "title": {
           "text": ""
          },
          "zeroline": false
         },
         "yaxis": {
          "showgrid": false,
          "showticklabels": false,
          "zeroline": false
         },
         "zaxis": {
          "showgrid": false,
          "showticklabels": false,
          "zeroline": false
         }
        },
        "showlegend": false,
        "title": {
         "font": {
          "size": 16
         },
         "text": "coco"
        }
       }
      },
      "text/html": [
       "<div>\n",
       "        \n",
       "        \n",
       "            <div id=\"f5ea4722-fd28-45da-bffb-f657517aeec9\" class=\"plotly-graph-div\" style=\"height:525px; width:100%;\"></div>\n",
       "            <script type=\"text/javascript\">\n",
       "                require([\"plotly\"], function(Plotly) {\n",
       "                    window.PLOTLYENV=window.PLOTLYENV || {};\n",
       "                    window.PLOTLYENV.BASE_URL='https://plot.ly';\n",
       "                    \n",
       "                if (document.getElementById(\"f5ea4722-fd28-45da-bffb-f657517aeec9\")) {\n",
       "                    Plotly.newPlot(\n",
       "                        'f5ea4722-fd28-45da-bffb-f657517aeec9',\n",
       "                        [{\"hoverinfo\": \"text\", \"marker\": {\"cmax\": 234243, \"cmin\": 1, \"color\": [\"rgb(0, 0, 6)\", \"rgb(35, 17, 82)\", \"rgb(251, 252, 191)\", \"rgb(20, 13, 53)\", \"rgb(0, 0, 3)\", \"rgb(0, 0, 3)\", \"rgb(251, 247, 185)\", \"rgb(0, 0, 3)\", \"rgb(21, 14, 56)\"], \"colorbar\": {\"thickness\": 15, \"title\": {\"side\": \"right\", \"text\": \"coco\"}, \"xanchor\": \"left\"}, \"colorscale\": \"Viridis\", \"line\": {\"width\": 2}, \"reversescale\": true, \"showscale\": false, \"size\": [2000, 35000, 234243, 23443, 2, 1, 232323, 666, 24433], \"sizemin\": 5, \"sizemode\": \"area\", \"sizeref\": 187.3944}, \"mode\": \"markers\", \"text\": [\"<b>Next</b><br>clientes: 2000<br>lucro: 234<br>\", \"<b>Inter</b><br>clientes: 35000<br>lucro: 1111<br>\", \"<b>Nubank</b><br>clientes: 234243<br>lucro: 2234<br>\", \"<b>BB</b><br>clientes: 23443<br>lucro: 2344<br>\", \"<b>Itau</b><br>clientes: 2<br>lucro: 444<br>\", \"<b>XP Investimentos</b><br>clientes: 1<br>lucro: 222<br>\", \"<b>CEF</b><br>clientes: 232323<br>lucro: 1<br>\", \"<b>Santander</b><br>clientes: 666<br>lucro: 1<br>\", \"<b>Bradesco</b><br>clientes: 24433<br>lucro: 9877<br>\"], \"type\": \"scatter3d\", \"uid\": \"60b7a27f-9675-4c17-9c35-398756ba27ce\", \"x\": [0.00031028487397079756, 0.2965899885004346, -0.8272109729135869, -0.22978244209369136, -0.4207057177906966, -0.8672542457495348, 0.7600499871103217, 0.3613238832264944, 0.9266792348362889], \"y\": [0.0017094247753636528, 0.9582655228388692, -0.6970702563879267, -0.3579492307742415, 0.2790583574199527, 0.6066204784957488, 0.37103706818946697, -0.9383843746901998, -0.2232869898670345], \"z\": [-0.001407439940009577, -0.419789412557805, 0.125456686821576, -1.0, 0.9641536678293422, -0.2402230999340206, 0.6816006833139411, 0.4118104542017854, -0.5216015397348102]}, {\"hoverinfo\": \"none\", \"line\": {\"color\": \"black\", \"width\": 5.5}, \"mode\": \"lines\", \"type\": \"scatter3d\", \"uid\": \"907b85b2-3026-4dd3-9a38-b7f0dd89ed11\", \"x\": [0.00031028487397079756, 0.9266792348362889, null], \"y\": [0.0017094247753636528, -0.2232869898670345, null], \"z\": [-0.001407439940009577, -0.5216015397348102, null]}, {\"hoverinfo\": \"none\", \"line\": {\"color\": \"black\", \"width\": 1.1674150222537318}, \"mode\": \"lines\", \"type\": \"scatter3d\", \"uid\": \"d3e1c554-fed8-44f2-9d12-249c824e1f98\", \"x\": [0.00031028487397079756, 0.2965899885004346, null], \"y\": [0.0017094247753636528, 0.9582655228388692, null], \"z\": [-0.001407439940009577, -0.419789412557805, null]}, {\"hoverinfo\": \"none\", \"line\": {\"color\": \"black\", \"width\": 2.9093111189885383}, \"mode\": \"lines\", \"type\": \"scatter3d\", \"uid\": \"c71ca506-a9d5-46aa-9f54-71be939d4a15\", \"x\": [0.00031028487397079756, -0.8272109729135869, null], \"y\": [0.0017094247753636528, -0.6970702563879267, null], \"z\": [-0.001407439940009577, 0.125456686821576, null]}, {\"hoverinfo\": \"none\", \"line\": {\"color\": \"black\", \"width\": 1.790519516325968}, \"mode\": \"lines\", \"type\": \"scatter3d\", \"uid\": \"241bd6c4-2f81-4ad3-9b37-2ed7f25f5849\", \"x\": [0.00031028487397079756, -0.22978244209369136, null], \"y\": [0.0017094247753636528, -0.3579492307742415, null], \"z\": [-0.001407439940009577, -1.0, null]}, {\"hoverinfo\": \"none\", \"line\": {\"color\": \"black\", \"width\": 0.521859860569538}, \"mode\": \"lines\", \"type\": \"scatter3d\", \"uid\": \"f0ead1ec-d745-4220-b664-d99336559e15\", \"x\": [0.00031028487397079756, -0.4207057177906966, null], \"y\": [0.0017094247753636528, 0.2790583574199527, null], \"z\": [-0.001407439940009577, 0.9641536678293422, null]}, {\"hoverinfo\": \"none\", \"line\": {\"color\": \"black\", \"width\": 0.5}, \"mode\": \"lines\", \"type\": \"scatter3d\", \"uid\": \"177057a5-362a-4bb9-b0f8-b57f5bd808b8\", \"x\": [0.00031028487397079756, -0.8672542457495348, null], \"y\": [0.0017094247753636528, 0.6066204784957488, null], \"z\": [-0.001407439940009577, -0.2402230999340206, null]}, {\"hoverinfo\": \"none\", \"line\": {\"color\": \"black\", \"width\": 0.9356217259443066}, \"mode\": \"lines\", \"type\": \"scatter3d\", \"uid\": \"af31d593-f0a9-4987-9e48-cd9988a38fe7\", \"x\": [0.00031028487397079756, 0.7600499871103217, null], \"y\": [0.0017094247753636528, 0.37103706818946697, null], \"z\": [-0.001407439940009577, 0.6816006833139411, null]}, {\"hoverinfo\": \"none\", \"line\": {\"color\": \"black\", \"width\": 0.60929930284769}, \"mode\": \"lines\", \"type\": \"scatter3d\", \"uid\": \"c6b36292-e0ed-4411-b7f8-2ecdac51d2a0\", \"x\": [0.00031028487397079756, 0.3613238832264944, null], \"y\": [0.0017094247753636528, -0.9383843746901998, null], \"z\": [-0.001407439940009577, 0.4118104542017854, null]}],\n",
       "                        {\"annotations\": [{\"ax\": 0, \"ay\": 20, \"showarrow\": false, \"text\": \"Next\", \"x\": 0.9153811885375638, \"xref\": \"x\", \"y\": 0.07321951783924116, \"yref\": \"y\"}, {\"ax\": 0, \"ay\": 20, \"showarrow\": false, \"text\": \"Inter\", \"x\": -0.7175519048947984, \"xref\": \"x\", \"y\": 0.7260189072000003, \"yref\": \"y\"}, {\"ax\": 0, \"ay\": 20, \"showarrow\": false, \"text\": \"Nubank\", \"x\": 0.15020632897417596, \"xref\": \"x\", \"y\": 0.01903863368981809, \"yref\": \"y\"}, {\"ax\": 0, \"ay\": 20, \"showarrow\": false, \"text\": \"BB\", \"x\": -0.8124591814887158, \"xref\": \"x\", \"y\": -0.3199615721151372, \"yref\": \"y\"}, {\"ax\": 0, \"ay\": 20, \"showarrow\": false, \"text\": \"Itau\", \"x\": -0.40136219925791566, \"xref\": \"x\", \"y\": -0.5872678685827292, \"yref\": \"y\"}, {\"ax\": 0, \"ay\": 20, \"showarrow\": false, \"text\": \"XP Investimentos\", \"x\": 0.23528609835433667, \"xref\": \"x\", \"y\": 0.15486916481786156, \"yref\": \"y\"}, {\"ax\": 0, \"ay\": 20, \"showarrow\": false, \"text\": \"CEF\", \"x\": -0.49370052346069593, \"xref\": \"x\", \"y\": 0.5027932444749953, \"yref\": \"y\"}, {\"ax\": 0, \"ay\": 20, \"showarrow\": false, \"text\": \"Santander\", \"x\": 0.6868929069445819, \"xref\": \"x\", \"y\": -0.5015310308952374, \"yref\": \"y\"}, {\"ax\": 0, \"ay\": 20, \"showarrow\": false, \"text\": \"Bradesco\", \"x\": 0.4373072862914673, \"xref\": \"x\", \"y\": 0.8328210035711877, \"yref\": \"y\"}, {\"ax\": 0, \"ay\": 20, \"showarrow\": false, \"text\": \"Next\", \"x\": 0.00031028487397079756, \"xref\": \"x\", \"y\": 0.10170942477536365, \"yref\": \"y\"}, {\"ax\": 0, \"ay\": 20, \"showarrow\": false, \"text\": \"Inter\", \"x\": 0.2965899885004346, \"xref\": \"x\", \"y\": 1.0582655228388693, \"yref\": \"y\"}, {\"ax\": 0, \"ay\": 20, \"showarrow\": false, \"text\": \"Nubank\", \"x\": -0.8272109729135869, \"xref\": \"x\", \"y\": -0.5970702563879268, \"yref\": \"y\"}, {\"ax\": 0, \"ay\": 20, \"showarrow\": false, \"text\": \"BB\", \"x\": -0.22978244209369136, \"xref\": \"x\", \"y\": -0.2579492307742415, \"yref\": \"y\"}, {\"ax\": 0, \"ay\": 20, \"showarrow\": false, \"text\": \"Itau\", \"x\": -0.4207057177906966, \"xref\": \"x\", \"y\": 0.37905835741995275, \"yref\": \"y\"}, {\"ax\": 0, \"ay\": 20, \"showarrow\": false, \"text\": \"XP Investimentos\", \"x\": -0.8672542457495348, \"xref\": \"x\", \"y\": 0.7066204784957488, \"yref\": \"y\"}, {\"ax\": 0, \"ay\": 20, \"showarrow\": false, \"text\": \"CEF\", \"x\": 0.7600499871103217, \"xref\": \"x\", \"y\": 0.471037068189467, \"yref\": \"y\"}, {\"ax\": 0, \"ay\": 20, \"showarrow\": false, \"text\": \"Santander\", \"x\": 0.3613238832264944, \"xref\": \"x\", \"y\": -0.8383843746901998, \"yref\": \"y\"}, {\"ax\": 0, \"ay\": 20, \"showarrow\": false, \"text\": \"Bradesco\", \"x\": 0.9266792348362889, \"xref\": \"x\", \"y\": -0.12328698986703449, \"yref\": \"y\"}], \"hovermode\": \"closest\", \"margin\": {\"b\": 20, \"l\": 5, \"r\": 5, \"t\": 40}, \"scene\": {\"xaxis\": {\"showbackground\": false, \"showgrid\": false, \"showline\": false, \"showticklabels\": false, \"title\": {\"text\": \"\"}, \"zeroline\": false}, \"yaxis\": {\"showgrid\": false, \"showticklabels\": false, \"zeroline\": false}, \"zaxis\": {\"showgrid\": false, \"showticklabels\": false, \"zeroline\": false}}, \"showlegend\": false, \"title\": {\"font\": {\"size\": 16}, \"text\": \"coco\"}},\n",
       "                        {\"showLink\": false, \"linkText\": \"Export to plot.ly\", \"plotlyServerURL\": \"https://plot.ly\", \"responsive\": true}\n",
       "                    ).then(function(){\n",
       "                            \n",
       "var gd = document.getElementById('f5ea4722-fd28-45da-bffb-f657517aeec9');\n",
       "var x = new MutationObserver(function (mutations, observer) {{\n",
       "        var display = window.getComputedStyle(gd).display;\n",
       "        if (!display || display === 'none') {{\n",
       "            console.log([gd, 'removed!']);\n",
       "            Plotly.purge(gd);\n",
       "            observer.disconnect();\n",
       "        }}\n",
       "}});\n",
       "\n",
       "// Listen for the removal of the full notebook cells\n",
       "var notebookContainer = gd.closest('#notebook-container');\n",
       "if (notebookContainer) {{\n",
       "    x.observe(notebookContainer, {childList: true});\n",
       "}}\n",
       "\n",
       "// Listen for the clearing of the current output cell\n",
       "var outputEl = gd.closest('.output');\n",
       "if (outputEl) {{\n",
       "    x.observe(outputEl, {childList: true});\n",
       "}}\n",
       "\n",
       "                        })\n",
       "                };\n",
       "                });\n",
       "            </script>\n",
       "        </div>"
      ]
     },
     "metadata": {},
     "output_type": "display_data"
    }
   ],
   "source": [
    "mygraph.plot(title='coco', node_size_col='clientes', node_color_col='clientes', edge_width_col='enviado')"
   ]
  },
  {
   "cell_type": "code",
   "execution_count": null,
   "metadata": {},
   "outputs": [],
   "source": [
    "#import plotly.plotly as py\n",
    "import plotly.graph_objs as go\n",
    "\n",
    "import numpy as np\n",
    "from plotly.offline import download_plotlyjs, init_notebook_mode, plot, iplot\n",
    "\n",
    "init_notebook_mode(connected=True)\n",
    "\n",
    "x, y, z = np.random.multivariate_normal(np.array([0,0,0]), np.eye(3), 400).transpose()\n",
    "\n",
    "trace1 = go.Scatter3d(\n",
    "    x=x,\n",
    "    y=y,\n",
    "    z=z,\n",
    "    mode='markers',\n",
    "    marker=dict(\n",
    "        size=12,\n",
    "        color=z,                # set color to an array/list of desired values\n",
    "        colorscale='Viridis',   # choose a colorscale\n",
    "        opacity=0.8\n",
    "    )\n",
    ")\n",
    "\n",
    "data = [trace1]\n",
    "layout = go.Layout(\n",
    "    margin=dict(\n",
    "        l=0,\n",
    "        r=0,\n",
    "        b=0,\n",
    "        t=0\n",
    "    )\n",
    ")\n",
    "fig = go.Figure(data=data, layout=layout)\n",
    "iplot(fig, filename='3d-scatter-colorscale')"
   ]
  },
  {
   "cell_type": "code",
   "execution_count": null,
   "metadata": {},
   "outputs": [],
   "source": [
    "mygraph.G.nodes['Next']"
   ]
  },
  {
   "cell_type": "code",
   "execution_count": null,
   "metadata": {},
   "outputs": [],
   "source": [
    "import plotly.graph_objs as go\n",
    "import plotly\n",
    "plotly.offline.init_notebook_mode()\n",
    "\n",
    "#draw a square\n",
    "x = [0, 1, 0, 1, 0, 1, 0, 1]\n",
    "y = [0, 1, 1, 0, 0, 1, 1, 0]\n",
    "z = [0, 0, 0, 0, 1, 1, 1, 1]\n",
    "\n",
    "#the start and end point for each line\n",
    "pairs = [(1,2),(7,6)]\n",
    "\n",
    "trace1 = go.Scatter3d(\n",
    "    x=x,\n",
    "    y=y,\n",
    "    z=z,\n",
    "    mode='markers',\n",
    "    name='markers'\n",
    ")\n",
    "\n",
    "x_lines = list()\n",
    "y_lines = list()\n",
    "z_lines = list()\n",
    "\n",
    "#create the coordinate list for the lines\n",
    "for p in pairs:\n",
    "    for i in range(2):\n",
    "        x_lines.append(x[p[i]])\n",
    "        y_lines.append(y[p[i]])\n",
    "        z_lines.append(z[p[i]])\n",
    "    x_lines.append(None)\n",
    "    y_lines.append(None)\n",
    "    z_lines.append(None)\n",
    "\n",
    "trace2 = go.Scatter3d(\n",
    "    x=x_lines,\n",
    "    y=y_lines,\n",
    "    z=z_lines,\n",
    "    mode='lines',\n",
    "    name='lines'\n",
    ")\n",
    "\n",
    "fig = go.Figure(data=[trace1, trace2])\n",
    "plotly.offline.iplot(fig, filename='simple-3d-scatter')"
   ]
  },
  {
   "cell_type": "code",
   "execution_count": null,
   "metadata": {},
   "outputs": [],
   "source": [
    "import pandas as pd\n",
    "df = pd.DataFrame({'coco':[1,2,3,3,2,1], 'lala':[6,5,4,3,2,1], 'banco':['jujuba','boteco','lala','metin','coco','lala']})"
   ]
  },
  {
   "cell_type": "code",
   "execution_count": null,
   "metadata": {},
   "outputs": [],
   "source": [
    "df.iloc[0].to_dict()"
   ]
  },
  {
   "cell_type": "code",
   "execution_count": null,
   "metadata": {},
   "outputs": [],
   "source": [
    "pos = nx.random_layout(mygraph.G, dim = 3)"
   ]
  },
  {
   "cell_type": "code",
   "execution_count": null,
   "metadata": {},
   "outputs": [],
   "source": [
    "pos"
   ]
  },
  {
   "cell_type": "code",
   "execution_count": null,
   "metadata": {},
   "outputs": [],
   "source": [
    "for k in pos.items():\n",
    "    print (type(k[1]))"
   ]
  },
  {
   "cell_type": "code",
   "execution_count": null,
   "metadata": {},
   "outputs": [],
   "source": [
    "for edge in mygraph.G.edges():\n",
    "    print(edge)"
   ]
  },
  {
   "cell_type": "code",
   "execution_count": null,
   "metadata": {},
   "outputs": [],
   "source": [
    "a = dict(sdf=23)"
   ]
  },
  {
   "cell_type": "code",
   "execution_count": null,
   "metadata": {},
   "outputs": [],
   "source": [
    "a"
   ]
  },
  {
   "cell_type": "code",
   "execution_count": null,
   "metadata": {},
   "outputs": [],
   "source": []
  }
 ],
 "metadata": {
  "kernelspec": {
   "display_name": "Python 3",
   "language": "python",
   "name": "python3"
  },
  "language_info": {
   "codemirror_mode": {
    "name": "ipython",
    "version": 3
   },
   "file_extension": ".py",
   "mimetype": "text/x-python",
   "name": "python",
   "nbconvert_exporter": "python",
   "pygments_lexer": "ipython3",
   "version": "3.7.0"
  }
 },
 "nbformat": 4,
 "nbformat_minor": 2
}
