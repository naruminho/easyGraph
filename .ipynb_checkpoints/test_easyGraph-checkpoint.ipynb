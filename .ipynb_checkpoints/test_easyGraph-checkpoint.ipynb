{
 "cells": [
  {
   "cell_type": "code",
   "execution_count": 124,
   "metadata": {},
   "outputs": [
    {
     "name": "stdout",
     "output_type": "stream",
     "text": [
      "The autoreload extension is already loaded. To reload it, use:\n",
      "  %reload_ext autoreload\n"
     ]
    }
   ],
   "source": [
    "%load_ext autoreload\n",
    "%autoreload 2\n",
    "from easyGraph import *"
   ]
  },
  {
   "cell_type": "code",
   "execution_count": 125,
   "metadata": {},
   "outputs": [],
   "source": [
    "mygraph = EasyGraph()"
   ]
  },
  {
   "cell_type": "code",
   "execution_count": 126,
   "metadata": {},
   "outputs": [],
   "source": [
    "mygraph.add_node('Next', {'valor':45000})\n",
    "mygraph.add_node('Nubank', {'valor':45000})\n",
    "mygraph.add_node('Itau', {'valor':45000})\n",
    "mygraph.add_node('XP Investimentos', {'valor':45000})\n",
    "mygraph.add_node('BB', {'valor':45000})\n",
    "\n",
    "\n",
    "mygraph.add_edge('Next', 'BB', {'valor': 45000})\n",
    "mygraph.add_edge('Next', 'Nubank', {'valor': 10000})\n",
    "mygraph.add_edge('Next', 'Itau', {'valor': 30000})\n",
    "mygraph.add_edge('Next', 'XP Investimentos', {'valor': 30000})"
   ]
  },
  {
   "cell_type": "code",
   "execution_count": 127,
   "metadata": {},
   "outputs": [
    {
     "data": {
      "text/plain": [
       "45000"
      ]
     },
     "execution_count": 127,
     "metadata": {},
     "output_type": "execute_result"
    }
   ],
   "source": [
    "mygraph.G.nodes['Next']['valor']"
   ]
  },
  {
   "cell_type": "code",
   "execution_count": 129,
   "metadata": {},
   "outputs": [
    {
     "data": {
      "application/vnd.plotly.v1+json": {
       "config": {
        "linkText": "Export to plot.ly",
        "plotlyServerURL": "https://plot.ly",
        "responsive": true,
        "showLink": false
       },
       "data": [
        {
         "hoverinfo": "none",
         "line": {
          "color": "#888",
          "width": 0.5
         },
         "mode": "lines",
         "type": "scatter",
         "uid": "47555007-7831-4870-8838-fb8f6ad8adf0",
         "x": [
          0.9999999999999999,
          0.30901710943610267,
          null,
          0.9999999999999999,
          0.30901696042448806,
          null,
          0.9999999999999999,
          -0.8090170945349412,
          null,
          0.9999999999999999,
          -0.8090169753256495,
          null
         ],
         "y": [
          2.38418583364819e-08,
          -0.9510564735720718,
          null,
          2.38418583364819e-08,
          0.9510565808604344,
          null,
          2.38418583364819e-08,
          0.587785218735669,
          null,
          2.38418583364819e-08,
          -0.5877853498658898,
          null
         ]
        },
        {
         "hoverinfo": "text",
         "marker": {
          "color": [
           0.0416,
           0,
           0,
           1
          ],
          "colorbar": {
           "thickness": 15,
           "title": {
            "side": "right",
            "text": "coco"
           },
           "xanchor": "left"
          },
          "colorscale": "YlGnBu",
          "line": {
           "width": 2
          },
          "reversescale": true,
          "showscale": true,
          "size": 10
         },
         "mode": "markers",
         "text": [
          " 45000",
          " 45000",
          " 45000",
          " 45000",
          " 45000"
         ],
         "type": "scatter",
         "uid": "e0ac82ed-5a0b-41e0-9dd3-e682b9290fa3",
         "x": [
          0.9999999999999999,
          0.30901696042448806,
          -0.8090170945349412,
          -0.8090169753256495,
          0.30901710943610267
         ],
         "y": [
          2.38418583364819e-08,
          0.9510565808604344,
          0.587785218735669,
          -0.5877853498658898,
          -0.9510564735720718
         ]
        }
       ],
       "layout": {
        "annotations": [
         {
          "ax": 0,
          "ay": 20,
          "showarrow": false,
          "text": "Next",
          "x": 0.9999999999999999,
          "xref": "x",
          "y": 0.10000002384185834,
          "yref": "y"
         },
         {
          "ax": 0,
          "ay": 20,
          "showarrow": false,
          "text": "Nubank",
          "x": 0.30901696042448806,
          "xref": "x",
          "y": 1.0510565808604344,
          "yref": "y"
         },
         {
          "ax": 0,
          "ay": 20,
          "showarrow": false,
          "text": "Itau",
          "x": -0.8090170945349412,
          "xref": "x",
          "y": 0.687785218735669,
          "yref": "y"
         },
         {
          "ax": 0,
          "ay": 20,
          "showarrow": false,
          "text": "XP Investimentos",
          "x": -0.8090169753256495,
          "xref": "x",
          "y": -0.48778534986588984,
          "yref": "y"
         },
         {
          "ax": 0,
          "ay": 20,
          "showarrow": false,
          "text": "BB",
          "x": 0.30901710943610267,
          "xref": "x",
          "y": -0.8510564735720718,
          "yref": "y"
         }
        ],
        "hovermode": "closest",
        "margin": {
         "b": 20,
         "l": 5,
         "r": 5,
         "t": 40
        },
        "showlegend": false,
        "title": {
         "font": {
          "size": 16
         },
         "text": "Super Graph"
        },
        "xaxis": {
         "showgrid": false,
         "showticklabels": false,
         "zeroline": false
        },
        "yaxis": {
         "showgrid": false,
         "showticklabels": false,
         "zeroline": false
        }
       }
      },
      "text/html": [
       "<div>\n",
       "        \n",
       "        \n",
       "            <div id=\"d5bbbb81-ed9e-4ca5-9fde-b27bd25287c6\" class=\"plotly-graph-div\" style=\"height:525px; width:100%;\"></div>\n",
       "            <script type=\"text/javascript\">\n",
       "                require([\"plotly\"], function(Plotly) {\n",
       "                    window.PLOTLYENV=window.PLOTLYENV || {};\n",
       "                    window.PLOTLYENV.BASE_URL='https://plot.ly';\n",
       "                    \n",
       "                if (document.getElementById(\"d5bbbb81-ed9e-4ca5-9fde-b27bd25287c6\")) {\n",
       "                    Plotly.newPlot(\n",
       "                        'd5bbbb81-ed9e-4ca5-9fde-b27bd25287c6',\n",
       "                        [{\"hoverinfo\": \"none\", \"line\": {\"color\": \"#888\", \"width\": 0.5}, \"mode\": \"lines\", \"type\": \"scatter\", \"uid\": \"2e0ef64a-3348-4551-b2af-8bd90cebdeb2\", \"x\": [0.9999999999999999, 0.30901710943610267, null, 0.9999999999999999, 0.30901696042448806, null, 0.9999999999999999, -0.8090170945349412, null, 0.9999999999999999, -0.8090169753256495, null], \"y\": [2.38418583364819e-08, -0.9510564735720718, null, 2.38418583364819e-08, 0.9510565808604344, null, 2.38418583364819e-08, 0.587785218735669, null, 2.38418583364819e-08, -0.5877853498658898, null]}, {\"hoverinfo\": \"text\", \"marker\": {\"color\": [0.0416, 0.0, 0.0, 1.0], \"colorbar\": {\"thickness\": 15, \"title\": {\"side\": \"right\", \"text\": \"coco\"}, \"xanchor\": \"left\"}, \"colorscale\": \"YlGnBu\", \"line\": {\"width\": 2}, \"reversescale\": true, \"showscale\": true, \"size\": 10}, \"mode\": \"markers\", \"text\": [\" 45000\", \" 45000\", \" 45000\", \" 45000\", \" 45000\"], \"type\": \"scatter\", \"uid\": \"5fe15198-3ab0-469f-8da5-773ef03a1666\", \"x\": [0.9999999999999999, 0.30901696042448806, -0.8090170945349412, -0.8090169753256495, 0.30901710943610267], \"y\": [2.38418583364819e-08, 0.9510565808604344, 0.587785218735669, -0.5877853498658898, -0.9510564735720718]}],\n",
       "                        {\"annotations\": [{\"ax\": 0, \"ay\": 20, \"showarrow\": false, \"text\": \"Next\", \"x\": 0.9999999999999999, \"xref\": \"x\", \"y\": 0.10000002384185834, \"yref\": \"y\"}, {\"ax\": 0, \"ay\": 20, \"showarrow\": false, \"text\": \"Nubank\", \"x\": 0.30901696042448806, \"xref\": \"x\", \"y\": 1.0510565808604344, \"yref\": \"y\"}, {\"ax\": 0, \"ay\": 20, \"showarrow\": false, \"text\": \"Itau\", \"x\": -0.8090170945349412, \"xref\": \"x\", \"y\": 0.687785218735669, \"yref\": \"y\"}, {\"ax\": 0, \"ay\": 20, \"showarrow\": false, \"text\": \"XP Investimentos\", \"x\": -0.8090169753256495, \"xref\": \"x\", \"y\": -0.48778534986588984, \"yref\": \"y\"}, {\"ax\": 0, \"ay\": 20, \"showarrow\": false, \"text\": \"BB\", \"x\": 0.30901710943610267, \"xref\": \"x\", \"y\": -0.8510564735720718, \"yref\": \"y\"}], \"hovermode\": \"closest\", \"margin\": {\"b\": 20, \"l\": 5, \"r\": 5, \"t\": 40}, \"showlegend\": false, \"title\": {\"font\": {\"size\": 16}, \"text\": \"Super Graph\"}, \"xaxis\": {\"showgrid\": false, \"showticklabels\": false, \"zeroline\": false}, \"yaxis\": {\"showgrid\": false, \"showticklabels\": false, \"zeroline\": false}},\n",
       "                        {\"showLink\": false, \"linkText\": \"Export to plot.ly\", \"plotlyServerURL\": \"https://plot.ly\", \"responsive\": true}\n",
       "                    ).then(function(){\n",
       "                            \n",
       "var gd = document.getElementById('d5bbbb81-ed9e-4ca5-9fde-b27bd25287c6');\n",
       "var x = new MutationObserver(function (mutations, observer) {{\n",
       "        var display = window.getComputedStyle(gd).display;\n",
       "        if (!display || display === 'none') {{\n",
       "            console.log([gd, 'removed!']);\n",
       "            Plotly.purge(gd);\n",
       "            observer.disconnect();\n",
       "        }}\n",
       "}});\n",
       "\n",
       "// Listen for the removal of the full notebook cells\n",
       "var notebookContainer = gd.closest('#notebook-container');\n",
       "if (notebookContainer) {{\n",
       "    x.observe(notebookContainer, {childList: true});\n",
       "}}\n",
       "\n",
       "// Listen for the clearing of the current output cell\n",
       "var outputEl = gd.closest('.output');\n",
       "if (outputEl) {{\n",
       "    x.observe(outputEl, {childList: true});\n",
       "}}\n",
       "\n",
       "                        })\n",
       "                };\n",
       "                });\n",
       "            </script>\n",
       "        </div>"
      ]
     },
     "metadata": {},
     "output_type": "display_data"
    }
   ],
   "source": [
    "mygraph.plot(title='coco', field='valor')"
   ]
  },
  {
   "cell_type": "code",
   "execution_count": null,
   "metadata": {},
   "outputs": [],
   "source": []
  },
  {
   "cell_type": "code",
   "execution_count": null,
   "metadata": {},
   "outputs": [],
   "source": []
  }
 ],
 "metadata": {
  "kernelspec": {
   "display_name": "Python 3",
   "language": "python",
   "name": "python3"
  },
  "language_info": {
   "codemirror_mode": {
    "name": "ipython",
    "version": 3
   },
   "file_extension": ".py",
   "mimetype": "text/x-python",
   "name": "python",
   "nbconvert_exporter": "python",
   "pygments_lexer": "ipython3",
   "version": "3.7.0"
  }
 },
 "nbformat": 4,
 "nbformat_minor": 2
}
