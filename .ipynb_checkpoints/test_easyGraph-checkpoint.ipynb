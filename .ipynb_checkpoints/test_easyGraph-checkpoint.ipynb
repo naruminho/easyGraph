{
 "cells": [
  {
   "cell_type": "code",
   "execution_count": 14,
   "metadata": {},
   "outputs": [
    {
     "name": "stdout",
     "output_type": "stream",
     "text": [
      "The autoreload extension is already loaded. To reload it, use:\n",
      "  %reload_ext autoreload\n"
     ]
    }
   ],
   "source": [
    "%load_ext autoreload\n",
    "%autoreload 2\n",
    "from easyGraph import *"
   ]
  },
  {
   "cell_type": "code",
   "execution_count": 11,
   "metadata": {},
   "outputs": [],
   "source": [
    "mygraph = EasyGraph()"
   ]
  },
  {
   "cell_type": "code",
   "execution_count": 12,
   "metadata": {},
   "outputs": [],
   "source": [
    "# adicionando nodes e definindo propriedades\n",
    "mygraph.node.add('Next', {'clientes':3})\n",
    "mygraph.node.add('Nubank', {'clientes':41})\n",
    "mygraph.node.add('Itau', {'clientes':101})\n",
    "mygraph.node.add('XP Investimentos', {'clientes':5})\n",
    "mygraph.node.add('BB', {'clientes':88})\n",
    "\n",
    "# adicionando arestas e propriedades\n",
    "mygraph.edge.add('Next', 'BB', {'enviado': 45000})\n",
    "mygraph.edge.add('Next', 'Nubank', {'enviado': 10000})\n",
    "mygraph.edge.add('Next', 'Itau', {'enviado': 30000})\n",
    "mygraph.edge.add('Next', 'XP Investimentos', {'enviado': 30000})\n"
   ]
  },
  {
   "cell_type": "code",
   "execution_count": 13,
   "metadata": {},
   "outputs": [
    {
     "data": {
      "application/vnd.plotly.v1+json": {
       "config": {
        "linkText": "Export to plot.ly",
        "plotlyServerURL": "https://plot.ly",
        "responsive": true,
        "showLink": false
       },
       "data": [
        {
         "hoverinfo": "text",
         "marker": {
          "cmax": null,
          "cmin": null,
          "color": "darkblue",
          "colorbar": {
           "thickness": 15,
           "title": {
            "side": "right",
            "text": "coco"
           },
           "xanchor": "left"
          },
          "colorscale": "YlGnBu",
          "line": {
           "width": 2
          },
          "reversescale": true,
          "showscale": false,
          "size": [
           1,
           1,
           1,
           1,
           1
          ],
          "sizemin": 10,
          "sizemode": "area",
          "sizeref": 10
         },
         "mode": "markers",
         "text": [],
         "type": "scatter",
         "uid": "cab80cd0-c21d-4a83-aa61-f1ee96172b40",
         "x": [
          0.9999999999999999,
          0.30901696042448806,
          -0.8090170945349412,
          -0.8090169753256495,
          0.30901710943610267
         ],
         "y": [
          2.38418583364819e-08,
          0.9510565808604344,
          0.587785218735669,
          -0.5877853498658898,
          -0.9510564735720718
         ]
        },
        {
         "hoverinfo": "none",
         "line": {
          "color": "black",
          "width": 0.5
         },
         "mode": "lines",
         "type": "scatter",
         "uid": "2ea22760-82d7-4421-85e0-fbe77e794e15",
         "x": [
          0.9999999999999999,
          0.30901710943610267,
          null,
          0.9999999999999999,
          0.30901696042448806,
          null,
          0.9999999999999999,
          -0.8090170945349412,
          null,
          0.9999999999999999,
          -0.8090169753256495,
          null
         ],
         "y": [
          2.38418583364819e-08,
          -0.9510564735720718,
          null,
          2.38418583364819e-08,
          0.9510565808604344,
          null,
          2.38418583364819e-08,
          0.587785218735669,
          null,
          2.38418583364819e-08,
          -0.5877853498658898,
          null
         ]
        }
       ],
       "layout": {
        "annotations": [
         {
          "ax": 0,
          "ay": 20,
          "showarrow": false,
          "text": "Next",
          "x": 0.9999999999999999,
          "xref": "x",
          "y": 0.10000002384185834,
          "yref": "y"
         },
         {
          "ax": 0,
          "ay": 20,
          "showarrow": false,
          "text": "Nubank",
          "x": 0.30901696042448806,
          "xref": "x",
          "y": 1.0510565808604344,
          "yref": "y"
         },
         {
          "ax": 0,
          "ay": 20,
          "showarrow": false,
          "text": "Itau",
          "x": -0.8090170945349412,
          "xref": "x",
          "y": 0.687785218735669,
          "yref": "y"
         },
         {
          "ax": 0,
          "ay": 20,
          "showarrow": false,
          "text": "XP Investimentos",
          "x": -0.8090169753256495,
          "xref": "x",
          "y": -0.48778534986588984,
          "yref": "y"
         },
         {
          "ax": 0,
          "ay": 20,
          "showarrow": false,
          "text": "BB",
          "x": 0.30901710943610267,
          "xref": "x",
          "y": -0.8510564735720718,
          "yref": "y"
         }
        ],
        "hovermode": "closest",
        "margin": {
         "b": 20,
         "l": 5,
         "r": 5,
         "t": 40
        },
        "showlegend": false,
        "title": {
         "font": {
          "size": 16
         },
         "text": "coco"
        },
        "xaxis": {
         "showgrid": false,
         "showticklabels": false,
         "zeroline": false
        },
        "yaxis": {
         "showgrid": false,
         "showticklabels": false,
         "zeroline": false
        }
       }
      },
      "text/html": [
       "<div>\n",
       "        \n",
       "        \n",
       "            <div id=\"5057c263-a94d-472c-aaaf-9151972af0ec\" class=\"plotly-graph-div\" style=\"height:525px; width:100%;\"></div>\n",
       "            <script type=\"text/javascript\">\n",
       "                require([\"plotly\"], function(Plotly) {\n",
       "                    window.PLOTLYENV=window.PLOTLYENV || {};\n",
       "                    window.PLOTLYENV.BASE_URL='https://plot.ly';\n",
       "                    \n",
       "                if (document.getElementById(\"5057c263-a94d-472c-aaaf-9151972af0ec\")) {\n",
       "                    Plotly.newPlot(\n",
       "                        '5057c263-a94d-472c-aaaf-9151972af0ec',\n",
       "                        [{\"hoverinfo\": \"text\", \"marker\": {\"cmax\": null, \"cmin\": null, \"color\": \"darkblue\", \"colorbar\": {\"thickness\": 15, \"title\": {\"side\": \"right\", \"text\": \"coco\"}, \"xanchor\": \"left\"}, \"colorscale\": \"YlGnBu\", \"line\": {\"width\": 2}, \"reversescale\": true, \"showscale\": false, \"size\": [1, 1, 1, 1, 1], \"sizemin\": 10, \"sizemode\": \"area\", \"sizeref\": 10}, \"mode\": \"markers\", \"text\": [], \"type\": \"scatter\", \"uid\": \"5bf9c8e0-f236-45a6-ae30-287561d51d87\", \"x\": [0.9999999999999999, 0.30901696042448806, -0.8090170945349412, -0.8090169753256495, 0.30901710943610267], \"y\": [2.38418583364819e-08, 0.9510565808604344, 0.587785218735669, -0.5877853498658898, -0.9510564735720718]}, {\"hoverinfo\": \"none\", \"line\": {\"color\": \"black\", \"width\": 0.5}, \"mode\": \"lines\", \"type\": \"scatter\", \"uid\": \"62c956e5-b29c-4b40-beee-44288f404674\", \"x\": [0.9999999999999999, 0.30901710943610267, null, 0.9999999999999999, 0.30901696042448806, null, 0.9999999999999999, -0.8090170945349412, null, 0.9999999999999999, -0.8090169753256495, null], \"y\": [2.38418583364819e-08, -0.9510564735720718, null, 2.38418583364819e-08, 0.9510565808604344, null, 2.38418583364819e-08, 0.587785218735669, null, 2.38418583364819e-08, -0.5877853498658898, null]}],\n",
       "                        {\"annotations\": [{\"ax\": 0, \"ay\": 20, \"showarrow\": false, \"text\": \"Next\", \"x\": 0.9999999999999999, \"xref\": \"x\", \"y\": 0.10000002384185834, \"yref\": \"y\"}, {\"ax\": 0, \"ay\": 20, \"showarrow\": false, \"text\": \"Nubank\", \"x\": 0.30901696042448806, \"xref\": \"x\", \"y\": 1.0510565808604344, \"yref\": \"y\"}, {\"ax\": 0, \"ay\": 20, \"showarrow\": false, \"text\": \"Itau\", \"x\": -0.8090170945349412, \"xref\": \"x\", \"y\": 0.687785218735669, \"yref\": \"y\"}, {\"ax\": 0, \"ay\": 20, \"showarrow\": false, \"text\": \"XP Investimentos\", \"x\": -0.8090169753256495, \"xref\": \"x\", \"y\": -0.48778534986588984, \"yref\": \"y\"}, {\"ax\": 0, \"ay\": 20, \"showarrow\": false, \"text\": \"BB\", \"x\": 0.30901710943610267, \"xref\": \"x\", \"y\": -0.8510564735720718, \"yref\": \"y\"}], \"hovermode\": \"closest\", \"margin\": {\"b\": 20, \"l\": 5, \"r\": 5, \"t\": 40}, \"showlegend\": false, \"title\": {\"font\": {\"size\": 16}, \"text\": \"coco\"}, \"xaxis\": {\"showgrid\": false, \"showticklabels\": false, \"zeroline\": false}, \"yaxis\": {\"showgrid\": false, \"showticklabels\": false, \"zeroline\": false}},\n",
       "                        {\"showLink\": false, \"linkText\": \"Export to plot.ly\", \"plotlyServerURL\": \"https://plot.ly\", \"responsive\": true}\n",
       "                    ).then(function(){\n",
       "                            \n",
       "var gd = document.getElementById('5057c263-a94d-472c-aaaf-9151972af0ec');\n",
       "var x = new MutationObserver(function (mutations, observer) {{\n",
       "        var display = window.getComputedStyle(gd).display;\n",
       "        if (!display || display === 'none') {{\n",
       "            console.log([gd, 'removed!']);\n",
       "            Plotly.purge(gd);\n",
       "            observer.disconnect();\n",
       "        }}\n",
       "}});\n",
       "\n",
       "// Listen for the removal of the full notebook cells\n",
       "var notebookContainer = gd.closest('#notebook-container');\n",
       "if (notebookContainer) {{\n",
       "    x.observe(notebookContainer, {childList: true});\n",
       "}}\n",
       "\n",
       "// Listen for the clearing of the current output cell\n",
       "var outputEl = gd.closest('.output');\n",
       "if (outputEl) {{\n",
       "    x.observe(outputEl, {childList: true});\n",
       "}}\n",
       "\n",
       "                        })\n",
       "                };\n",
       "                });\n",
       "            </script>\n",
       "        </div>"
      ]
     },
     "metadata": {},
     "output_type": "display_data"
    },
    {
     "data": {
      "application/vnd.plotly.v1+json": {
       "config": {
        "linkText": "Export to plot.ly",
        "plotlyServerURL": "https://plot.ly",
        "responsive": true,
        "showLink": false
       },
       "data": [
        {
         "hoverinfo": "text",
         "marker": {
          "cmax": null,
          "cmin": null,
          "color": [
           3,
           41,
           101,
           5,
           88
          ],
          "colorbar": {
           "thickness": 15,
           "title": {
            "side": "right",
            "text": "coco"
           },
           "xanchor": "left"
          },
          "colorscale": "YlGnBu",
          "line": {
           "width": 2
          },
          "reversescale": true,
          "showscale": false,
          "size": [
           1,
           1,
           1,
           1,
           1
          ],
          "sizemin": 10,
          "sizemode": "area",
          "sizeref": 10
         },
         "mode": "markers",
         "text": [
          "baba:  3",
          "baba:  41",
          "baba:  101",
          "baba:  5",
          "baba:  88"
         ],
         "type": "scatter",
         "uid": "b99f5c63-c166-4ed1-9f84-badf7ddb4983",
         "x": [
          0.9999999999999999,
          0.30901696042448806,
          -0.8090170945349412,
          -0.8090169753256495,
          0.30901710943610267
         ],
         "y": [
          2.38418583364819e-08,
          0.9510565808604344,
          0.587785218735669,
          -0.5877853498658898,
          -0.9510564735720718
         ]
        },
        {
         "hoverinfo": "none",
         "line": {
          "color": "black",
          "width": 0.5
         },
         "mode": "lines",
         "type": "scatter",
         "uid": "381af5b8-bd3c-4b06-a76d-32aab03edd88",
         "x": [
          0.9999999999999999,
          0.30901710943610267,
          null,
          0.9999999999999999,
          0.30901696042448806,
          null,
          0.9999999999999999,
          -0.8090170945349412,
          null,
          0.9999999999999999,
          -0.8090169753256495,
          null
         ],
         "y": [
          2.38418583364819e-08,
          -0.9510564735720718,
          null,
          2.38418583364819e-08,
          0.9510565808604344,
          null,
          2.38418583364819e-08,
          0.587785218735669,
          null,
          2.38418583364819e-08,
          -0.5877853498658898,
          null
         ]
        }
       ],
       "layout": {
        "annotations": [
         {
          "ax": 0,
          "ay": 20,
          "showarrow": false,
          "text": "Next",
          "x": 0.9999999999999999,
          "xref": "x",
          "y": 0.10000002384185834,
          "yref": "y"
         },
         {
          "ax": 0,
          "ay": 20,
          "showarrow": false,
          "text": "Nubank",
          "x": 0.30901696042448806,
          "xref": "x",
          "y": 1.0510565808604344,
          "yref": "y"
         },
         {
          "ax": 0,
          "ay": 20,
          "showarrow": false,
          "text": "Itau",
          "x": -0.8090170945349412,
          "xref": "x",
          "y": 0.687785218735669,
          "yref": "y"
         },
         {
          "ax": 0,
          "ay": 20,
          "showarrow": false,
          "text": "XP Investimentos",
          "x": -0.8090169753256495,
          "xref": "x",
          "y": -0.48778534986588984,
          "yref": "y"
         },
         {
          "ax": 0,
          "ay": 20,
          "showarrow": false,
          "text": "BB",
          "x": 0.30901710943610267,
          "xref": "x",
          "y": -0.8510564735720718,
          "yref": "y"
         }
        ],
        "hovermode": "closest",
        "margin": {
         "b": 20,
         "l": 5,
         "r": 5,
         "t": 40
        },
        "showlegend": false,
        "title": {
         "font": {
          "size": 16
         },
         "text": "coco"
        },
        "xaxis": {
         "showgrid": false,
         "showticklabels": false,
         "zeroline": false
        },
        "yaxis": {
         "showgrid": false,
         "showticklabels": false,
         "zeroline": false
        }
       }
      },
      "text/html": [
       "<div>\n",
       "        \n",
       "        \n",
       "            <div id=\"a0fe0eac-bbf1-4b49-b73c-f6c261028f73\" class=\"plotly-graph-div\" style=\"height:525px; width:100%;\"></div>\n",
       "            <script type=\"text/javascript\">\n",
       "                require([\"plotly\"], function(Plotly) {\n",
       "                    window.PLOTLYENV=window.PLOTLYENV || {};\n",
       "                    window.PLOTLYENV.BASE_URL='https://plot.ly';\n",
       "                    \n",
       "                if (document.getElementById(\"a0fe0eac-bbf1-4b49-b73c-f6c261028f73\")) {\n",
       "                    Plotly.newPlot(\n",
       "                        'a0fe0eac-bbf1-4b49-b73c-f6c261028f73',\n",
       "                        [{\"hoverinfo\": \"text\", \"marker\": {\"cmax\": null, \"cmin\": null, \"color\": [3, 41, 101, 5, 88], \"colorbar\": {\"thickness\": 15, \"title\": {\"side\": \"right\", \"text\": \"coco\"}, \"xanchor\": \"left\"}, \"colorscale\": \"YlGnBu\", \"line\": {\"width\": 2}, \"reversescale\": true, \"showscale\": false, \"size\": [1, 1, 1, 1, 1], \"sizemin\": 10, \"sizemode\": \"area\", \"sizeref\": 10}, \"mode\": \"markers\", \"text\": [\"baba:  3\", \"baba:  41\", \"baba:  101\", \"baba:  5\", \"baba:  88\"], \"type\": \"scatter\", \"uid\": \"8cc80afa-5c57-46a1-8002-31caf00ab5e6\", \"x\": [0.9999999999999999, 0.30901696042448806, -0.8090170945349412, -0.8090169753256495, 0.30901710943610267], \"y\": [2.38418583364819e-08, 0.9510565808604344, 0.587785218735669, -0.5877853498658898, -0.9510564735720718]}, {\"hoverinfo\": \"none\", \"line\": {\"color\": \"black\", \"width\": 0.5}, \"mode\": \"lines\", \"type\": \"scatter\", \"uid\": \"43490d41-d244-4cbe-a573-0e6a22f9dce2\", \"x\": [0.9999999999999999, 0.30901710943610267, null, 0.9999999999999999, 0.30901696042448806, null, 0.9999999999999999, -0.8090170945349412, null, 0.9999999999999999, -0.8090169753256495, null], \"y\": [2.38418583364819e-08, -0.9510564735720718, null, 2.38418583364819e-08, 0.9510565808604344, null, 2.38418583364819e-08, 0.587785218735669, null, 2.38418583364819e-08, -0.5877853498658898, null]}],\n",
       "                        {\"annotations\": [{\"ax\": 0, \"ay\": 20, \"showarrow\": false, \"text\": \"Next\", \"x\": 0.9999999999999999, \"xref\": \"x\", \"y\": 0.10000002384185834, \"yref\": \"y\"}, {\"ax\": 0, \"ay\": 20, \"showarrow\": false, \"text\": \"Nubank\", \"x\": 0.30901696042448806, \"xref\": \"x\", \"y\": 1.0510565808604344, \"yref\": \"y\"}, {\"ax\": 0, \"ay\": 20, \"showarrow\": false, \"text\": \"Itau\", \"x\": -0.8090170945349412, \"xref\": \"x\", \"y\": 0.687785218735669, \"yref\": \"y\"}, {\"ax\": 0, \"ay\": 20, \"showarrow\": false, \"text\": \"XP Investimentos\", \"x\": -0.8090169753256495, \"xref\": \"x\", \"y\": -0.48778534986588984, \"yref\": \"y\"}, {\"ax\": 0, \"ay\": 20, \"showarrow\": false, \"text\": \"BB\", \"x\": 0.30901710943610267, \"xref\": \"x\", \"y\": -0.8510564735720718, \"yref\": \"y\"}], \"hovermode\": \"closest\", \"margin\": {\"b\": 20, \"l\": 5, \"r\": 5, \"t\": 40}, \"showlegend\": false, \"title\": {\"font\": {\"size\": 16}, \"text\": \"coco\"}, \"xaxis\": {\"showgrid\": false, \"showticklabels\": false, \"zeroline\": false}, \"yaxis\": {\"showgrid\": false, \"showticklabels\": false, \"zeroline\": false}},\n",
       "                        {\"showLink\": false, \"linkText\": \"Export to plot.ly\", \"plotlyServerURL\": \"https://plot.ly\", \"responsive\": true}\n",
       "                    ).then(function(){\n",
       "                            \n",
       "var gd = document.getElementById('a0fe0eac-bbf1-4b49-b73c-f6c261028f73');\n",
       "var x = new MutationObserver(function (mutations, observer) {{\n",
       "        var display = window.getComputedStyle(gd).display;\n",
       "        if (!display || display === 'none') {{\n",
       "            console.log([gd, 'removed!']);\n",
       "            Plotly.purge(gd);\n",
       "            observer.disconnect();\n",
       "        }}\n",
       "}});\n",
       "\n",
       "// Listen for the removal of the full notebook cells\n",
       "var notebookContainer = gd.closest('#notebook-container');\n",
       "if (notebookContainer) {{\n",
       "    x.observe(notebookContainer, {childList: true});\n",
       "}}\n",
       "\n",
       "// Listen for the clearing of the current output cell\n",
       "var outputEl = gd.closest('.output');\n",
       "if (outputEl) {{\n",
       "    x.observe(outputEl, {childList: true});\n",
       "}}\n",
       "\n",
       "                        })\n",
       "                };\n",
       "                });\n",
       "            </script>\n",
       "        </div>"
      ]
     },
     "metadata": {},
     "output_type": "display_data"
    },
    {
     "data": {
      "application/vnd.plotly.v1+json": {
       "config": {
        "linkText": "Export to plot.ly",
        "plotlyServerURL": "https://plot.ly",
        "responsive": true,
        "showLink": false
       },
       "data": [
        {
         "hoverinfo": "text",
         "marker": {
          "cmax": 101,
          "cmin": 3,
          "color": [
           3,
           41,
           101,
           5,
           88
          ],
          "colorbar": {
           "thickness": 15,
           "title": {
            "side": "right",
            "text": "coco"
           },
           "xanchor": "left"
          },
          "colorscale": "YlGnBu",
          "line": {
           "width": 2
          },
          "reversescale": true,
          "showscale": false,
          "size": [
           3,
           41,
           101,
           5,
           88
          ],
          "sizemin": 10,
          "sizemode": "area",
          "sizeref": 0.12625
         },
         "mode": "markers",
         "text": [
          "baba:  3",
          "baba:  41",
          "baba:  101",
          "baba:  5",
          "baba:  88"
         ],
         "type": "scatter",
         "uid": "a83e11bf-b907-46fa-9f70-8704635fa3a7",
         "x": [
          0.9999999999999999,
          0.30901696042448806,
          -0.8090170945349412,
          -0.8090169753256495,
          0.30901710943610267
         ],
         "y": [
          2.38418583364819e-08,
          0.9510565808604344,
          0.587785218735669,
          -0.5877853498658898,
          -0.9510564735720718
         ]
        },
        {
         "hoverinfo": "none",
         "line": {
          "color": "black",
          "width": 0.5
         },
         "mode": "lines",
         "type": "scatter",
         "uid": "3b0fea8f-bbf7-421c-ba3b-c5199352d40a",
         "x": [
          0.9999999999999999,
          0.30901710943610267,
          null,
          0.9999999999999999,
          0.30901696042448806,
          null,
          0.9999999999999999,
          -0.8090170945349412,
          null,
          0.9999999999999999,
          -0.8090169753256495,
          null
         ],
         "y": [
          2.38418583364819e-08,
          -0.9510564735720718,
          null,
          2.38418583364819e-08,
          0.9510565808604344,
          null,
          2.38418583364819e-08,
          0.587785218735669,
          null,
          2.38418583364819e-08,
          -0.5877853498658898,
          null
         ]
        }
       ],
       "layout": {
        "annotations": [
         {
          "ax": 0,
          "ay": 20,
          "showarrow": false,
          "text": "Next",
          "x": 0.9999999999999999,
          "xref": "x",
          "y": 0.10000002384185834,
          "yref": "y"
         },
         {
          "ax": 0,
          "ay": 20,
          "showarrow": false,
          "text": "Nubank",
          "x": 0.30901696042448806,
          "xref": "x",
          "y": 1.0510565808604344,
          "yref": "y"
         },
         {
          "ax": 0,
          "ay": 20,
          "showarrow": false,
          "text": "Itau",
          "x": -0.8090170945349412,
          "xref": "x",
          "y": 0.687785218735669,
          "yref": "y"
         },
         {
          "ax": 0,
          "ay": 20,
          "showarrow": false,
          "text": "XP Investimentos",
          "x": -0.8090169753256495,
          "xref": "x",
          "y": -0.48778534986588984,
          "yref": "y"
         },
         {
          "ax": 0,
          "ay": 20,
          "showarrow": false,
          "text": "BB",
          "x": 0.30901710943610267,
          "xref": "x",
          "y": -0.8510564735720718,
          "yref": "y"
         }
        ],
        "hovermode": "closest",
        "margin": {
         "b": 20,
         "l": 5,
         "r": 5,
         "t": 40
        },
        "showlegend": false,
        "title": {
         "font": {
          "size": 16
         },
         "text": "coco"
        },
        "xaxis": {
         "showgrid": false,
         "showticklabels": false,
         "zeroline": false
        },
        "yaxis": {
         "showgrid": false,
         "showticklabels": false,
         "zeroline": false
        }
       }
      },
      "text/html": [
       "<div>\n",
       "        \n",
       "        \n",
       "            <div id=\"e57a49b0-1b81-4fd3-99ac-901a4b7a17cd\" class=\"plotly-graph-div\" style=\"height:525px; width:100%;\"></div>\n",
       "            <script type=\"text/javascript\">\n",
       "                require([\"plotly\"], function(Plotly) {\n",
       "                    window.PLOTLYENV=window.PLOTLYENV || {};\n",
       "                    window.PLOTLYENV.BASE_URL='https://plot.ly';\n",
       "                    \n",
       "                if (document.getElementById(\"e57a49b0-1b81-4fd3-99ac-901a4b7a17cd\")) {\n",
       "                    Plotly.newPlot(\n",
       "                        'e57a49b0-1b81-4fd3-99ac-901a4b7a17cd',\n",
       "                        [{\"hoverinfo\": \"text\", \"marker\": {\"cmax\": 101, \"cmin\": 3, \"color\": [3, 41, 101, 5, 88], \"colorbar\": {\"thickness\": 15, \"title\": {\"side\": \"right\", \"text\": \"coco\"}, \"xanchor\": \"left\"}, \"colorscale\": \"YlGnBu\", \"line\": {\"width\": 2}, \"reversescale\": true, \"showscale\": false, \"size\": [3, 41, 101, 5, 88], \"sizemin\": 10, \"sizemode\": \"area\", \"sizeref\": 0.12625}, \"mode\": \"markers\", \"text\": [\"baba:  3\", \"baba:  41\", \"baba:  101\", \"baba:  5\", \"baba:  88\"], \"type\": \"scatter\", \"uid\": \"25bd8ccd-abdb-4ed8-9dd2-ee4c082504de\", \"x\": [0.9999999999999999, 0.30901696042448806, -0.8090170945349412, -0.8090169753256495, 0.30901710943610267], \"y\": [2.38418583364819e-08, 0.9510565808604344, 0.587785218735669, -0.5877853498658898, -0.9510564735720718]}, {\"hoverinfo\": \"none\", \"line\": {\"color\": \"black\", \"width\": 0.5}, \"mode\": \"lines\", \"type\": \"scatter\", \"uid\": \"e4d28643-f3dd-4762-ad4f-8f14d1036e8c\", \"x\": [0.9999999999999999, 0.30901710943610267, null, 0.9999999999999999, 0.30901696042448806, null, 0.9999999999999999, -0.8090170945349412, null, 0.9999999999999999, -0.8090169753256495, null], \"y\": [2.38418583364819e-08, -0.9510564735720718, null, 2.38418583364819e-08, 0.9510565808604344, null, 2.38418583364819e-08, 0.587785218735669, null, 2.38418583364819e-08, -0.5877853498658898, null]}],\n",
       "                        {\"annotations\": [{\"ax\": 0, \"ay\": 20, \"showarrow\": false, \"text\": \"Next\", \"x\": 0.9999999999999999, \"xref\": \"x\", \"y\": 0.10000002384185834, \"yref\": \"y\"}, {\"ax\": 0, \"ay\": 20, \"showarrow\": false, \"text\": \"Nubank\", \"x\": 0.30901696042448806, \"xref\": \"x\", \"y\": 1.0510565808604344, \"yref\": \"y\"}, {\"ax\": 0, \"ay\": 20, \"showarrow\": false, \"text\": \"Itau\", \"x\": -0.8090170945349412, \"xref\": \"x\", \"y\": 0.687785218735669, \"yref\": \"y\"}, {\"ax\": 0, \"ay\": 20, \"showarrow\": false, \"text\": \"XP Investimentos\", \"x\": -0.8090169753256495, \"xref\": \"x\", \"y\": -0.48778534986588984, \"yref\": \"y\"}, {\"ax\": 0, \"ay\": 20, \"showarrow\": false, \"text\": \"BB\", \"x\": 0.30901710943610267, \"xref\": \"x\", \"y\": -0.8510564735720718, \"yref\": \"y\"}], \"hovermode\": \"closest\", \"margin\": {\"b\": 20, \"l\": 5, \"r\": 5, \"t\": 40}, \"showlegend\": false, \"title\": {\"font\": {\"size\": 16}, \"text\": \"coco\"}, \"xaxis\": {\"showgrid\": false, \"showticklabels\": false, \"zeroline\": false}, \"yaxis\": {\"showgrid\": false, \"showticklabels\": false, \"zeroline\": false}},\n",
       "                        {\"showLink\": false, \"linkText\": \"Export to plot.ly\", \"plotlyServerURL\": \"https://plot.ly\", \"responsive\": true}\n",
       "                    ).then(function(){\n",
       "                            \n",
       "var gd = document.getElementById('e57a49b0-1b81-4fd3-99ac-901a4b7a17cd');\n",
       "var x = new MutationObserver(function (mutations, observer) {{\n",
       "        var display = window.getComputedStyle(gd).display;\n",
       "        if (!display || display === 'none') {{\n",
       "            console.log([gd, 'removed!']);\n",
       "            Plotly.purge(gd);\n",
       "            observer.disconnect();\n",
       "        }}\n",
       "}});\n",
       "\n",
       "// Listen for the removal of the full notebook cells\n",
       "var notebookContainer = gd.closest('#notebook-container');\n",
       "if (notebookContainer) {{\n",
       "    x.observe(notebookContainer, {childList: true});\n",
       "}}\n",
       "\n",
       "// Listen for the clearing of the current output cell\n",
       "var outputEl = gd.closest('.output');\n",
       "if (outputEl) {{\n",
       "    x.observe(outputEl, {childList: true});\n",
       "}}\n",
       "\n",
       "                        })\n",
       "                };\n",
       "                });\n",
       "            </script>\n",
       "        </div>"
      ]
     },
     "metadata": {},
     "output_type": "display_data"
    },
    {
     "ename": "ValueError",
     "evalue": "\n    Invalid value of type 'builtins.list' received for the 'color' property of scatter.line\n        Received value: ['black', 'black', 'black', 'black']\n\n    The 'color' property is a color and may be specified as:\n      - A hex string (e.g. '#ff0000')\n      - An rgb/rgba string (e.g. 'rgb(255,0,0)')\n      - An hsl/hsla string (e.g. 'hsl(0,100%,50%)')\n      - An hsv/hsva string (e.g. 'hsv(0,100%,100%)')\n      - A named CSS color:\n            aliceblue, antiquewhite, aqua, aquamarine, azure,\n            beige, bisque, black, blanchedalmond, blue,\n            blueviolet, brown, burlywood, cadetblue,\n            chartreuse, chocolate, coral, cornflowerblue,\n            cornsilk, crimson, cyan, darkblue, darkcyan,\n            darkgoldenrod, darkgray, darkgrey, darkgreen,\n            darkkhaki, darkmagenta, darkolivegreen, darkorange,\n            darkorchid, darkred, darksalmon, darkseagreen,\n            darkslateblue, darkslategray, darkslategrey,\n            darkturquoise, darkviolet, deeppink, deepskyblue,\n            dimgray, dimgrey, dodgerblue, firebrick,\n            floralwhite, forestgreen, fuchsia, gainsboro,\n            ghostwhite, gold, goldenrod, gray, grey, green,\n            greenyellow, honeydew, hotpink, indianred, indigo,\n            ivory, khaki, lavender, lavenderblush, lawngreen,\n            lemonchiffon, lightblue, lightcoral, lightcyan,\n            lightgoldenrodyellow, lightgray, lightgrey,\n            lightgreen, lightpink, lightsalmon, lightseagreen,\n            lightskyblue, lightslategray, lightslategrey,\n            lightsteelblue, lightyellow, lime, limegreen,\n            linen, magenta, maroon, mediumaquamarine,\n            mediumblue, mediumorchid, mediumpurple,\n            mediumseagreen, mediumslateblue, mediumspringgreen,\n            mediumturquoise, mediumvioletred, midnightblue,\n            mintcream, mistyrose, moccasin, navajowhite, navy,\n            oldlace, olive, olivedrab, orange, orangered,\n            orchid, palegoldenrod, palegreen, paleturquoise,\n            palevioletred, papayawhip, peachpuff, peru, pink,\n            plum, powderblue, purple, red, rosybrown,\n            royalblue, saddlebrown, salmon, sandybrown,\n            seagreen, seashell, sienna, silver, skyblue,\n            slateblue, slategray, slategrey, snow, springgreen,\n            steelblue, tan, teal, thistle, tomato, turquoise,\n            violet, wheat, white, whitesmoke, yellow,\n            yellowgreen",
     "output_type": "error",
     "traceback": [
      "\u001b[0;31m---------------------------------------------------------------------------\u001b[0m",
      "\u001b[0;31mValueError\u001b[0m                                Traceback (most recent call last)",
      "\u001b[0;32m<ipython-input-13-b791e7839047>\u001b[0m in \u001b[0;36m<module>\u001b[0;34m()\u001b[0m\n\u001b[1;32m      2\u001b[0m \u001b[0mmygraph\u001b[0m\u001b[0;34m.\u001b[0m\u001b[0mplot\u001b[0m\u001b[0;34m(\u001b[0m\u001b[0mtitle\u001b[0m\u001b[0;34m=\u001b[0m\u001b[0;34m'coco'\u001b[0m\u001b[0;34m,\u001b[0m \u001b[0mnode_label\u001b[0m\u001b[0;34m=\u001b[0m \u001b[0;34m'baba: '\u001b[0m\u001b[0;34m,\u001b[0m \u001b[0mnode_color_col\u001b[0m\u001b[0;34m=\u001b[0m\u001b[0;34m'clientes'\u001b[0m\u001b[0;34m)\u001b[0m\u001b[0;34m\u001b[0m\u001b[0m\n\u001b[1;32m      3\u001b[0m \u001b[0mmygraph\u001b[0m\u001b[0;34m.\u001b[0m\u001b[0mplot\u001b[0m\u001b[0;34m(\u001b[0m\u001b[0mtitle\u001b[0m\u001b[0;34m=\u001b[0m\u001b[0;34m'coco'\u001b[0m\u001b[0;34m,\u001b[0m \u001b[0mnode_label\u001b[0m\u001b[0;34m=\u001b[0m \u001b[0;34m'baba: '\u001b[0m\u001b[0;34m,\u001b[0m \u001b[0mnode_size_col\u001b[0m\u001b[0;34m=\u001b[0m\u001b[0;34m'clientes'\u001b[0m\u001b[0;34m,\u001b[0m \u001b[0mnode_color_col\u001b[0m\u001b[0;34m=\u001b[0m\u001b[0;34m'clientes'\u001b[0m\u001b[0;34m)\u001b[0m\u001b[0;34m\u001b[0m\u001b[0m\n\u001b[0;32m----> 4\u001b[0;31m \u001b[0mmygraph\u001b[0m\u001b[0;34m.\u001b[0m\u001b[0mplot\u001b[0m\u001b[0;34m(\u001b[0m\u001b[0mtitle\u001b[0m\u001b[0;34m=\u001b[0m\u001b[0;34m'coco'\u001b[0m\u001b[0;34m,\u001b[0m \u001b[0mnode_label\u001b[0m\u001b[0;34m=\u001b[0m \u001b[0;34m'baba: '\u001b[0m\u001b[0;34m,\u001b[0m \u001b[0mnode_size_col\u001b[0m\u001b[0;34m=\u001b[0m\u001b[0;34m'clientes'\u001b[0m\u001b[0;34m,\u001b[0m \u001b[0mnode_color_col\u001b[0m\u001b[0;34m=\u001b[0m\u001b[0;34m'clientes'\u001b[0m\u001b[0;34m,\u001b[0m \u001b[0medge_color_col\u001b[0m\u001b[0;34m=\u001b[0m\u001b[0;34m'enviado'\u001b[0m\u001b[0;34m)\u001b[0m\u001b[0;34m\u001b[0m\u001b[0m\n\u001b[0m",
      "\u001b[0;32m~/Dropbox/src/mystuffs2/easyGraph.py\u001b[0m in \u001b[0;36mplot\u001b[0;34m(self, title, node_label, label, node_size_col, node_color_col, edge_color_col)\u001b[0m\n\u001b[1;32m     26\u001b[0m         \u001b[0mself\u001b[0m\u001b[0;34m.\u001b[0m\u001b[0mnode\u001b[0m\u001b[0;34m.\u001b[0m\u001b[0mset_hover_attribute\u001b[0m\u001b[0;34m(\u001b[0m\u001b[0mnode_color_col\u001b[0m\u001b[0;34m,\u001b[0m \u001b[0mnode_label\u001b[0m\u001b[0;34m)\u001b[0m\u001b[0;34m\u001b[0m\u001b[0m\n\u001b[1;32m     27\u001b[0m \u001b[0;34m\u001b[0m\u001b[0m\n\u001b[0;32m---> 28\u001b[0;31m         \u001b[0mself\u001b[0m\u001b[0;34m.\u001b[0m\u001b[0medge\u001b[0m\u001b[0;34m.\u001b[0m\u001b[0mset_color_attribute\u001b[0m\u001b[0;34m(\u001b[0m\u001b[0medge_color_col\u001b[0m\u001b[0;34m)\u001b[0m\u001b[0;34m\u001b[0m\u001b[0m\n\u001b[0m\u001b[1;32m     29\u001b[0m \u001b[0;34m\u001b[0m\u001b[0m\n\u001b[1;32m     30\u001b[0m         \u001b[0mself\u001b[0m\u001b[0;34m.\u001b[0m\u001b[0m__plot\u001b[0m\u001b[0;34m(\u001b[0m\u001b[0;34m)\u001b[0m\u001b[0;34m\u001b[0m\u001b[0m\n",
      "\u001b[0;32m~/Dropbox/src/mystuffs2/edges.py\u001b[0m in \u001b[0;36mset_color_attribute\u001b[0;34m(self, color_col)\u001b[0m\n\u001b[1;32m     40\u001b[0m             ),\n\u001b[1;32m     41\u001b[0m             \u001b[0mhoverinfo\u001b[0m\u001b[0;34m=\u001b[0m\u001b[0;34m'none'\u001b[0m\u001b[0;34m,\u001b[0m\u001b[0;34m\u001b[0m\u001b[0m\n\u001b[0;32m---> 42\u001b[0;31m             \u001b[0mmode\u001b[0m\u001b[0;34m=\u001b[0m\u001b[0;34m'lines'\u001b[0m\u001b[0;34m\u001b[0m\u001b[0m\n\u001b[0m\u001b[1;32m     43\u001b[0m         )\n\u001b[1;32m     44\u001b[0m \u001b[0;34m\u001b[0m\u001b[0m\n",
      "\u001b[0;32m/anaconda3/lib/python3.7/site-packages/plotly/graph_objs/__init__.py\u001b[0m in \u001b[0;36m__init__\u001b[0;34m(self, arg, cliponaxis, connectgaps, customdata, customdatasrc, dx, dy, error_x, error_y, fill, fillcolor, groupnorm, hoverinfo, hoverinfosrc, hoverlabel, hoveron, hovertemplate, hovertemplatesrc, hovertext, hovertextsrc, ids, idssrc, legendgroup, line, marker, mode, name, opacity, orientation, r, rsrc, selected, selectedpoints, showlegend, stackgaps, stackgroup, stream, t, text, textfont, textposition, textpositionsrc, textsrc, tsrc, uid, uirevision, unselected, visible, x, x0, xaxis, xcalendar, xsrc, y, y0, yaxis, ycalendar, ysrc, **kwargs)\u001b[0m\n\u001b[1;32m  37447\u001b[0m         \u001b[0mself\u001b[0m\u001b[0;34m[\u001b[0m\u001b[0;34m'legendgroup'\u001b[0m\u001b[0;34m]\u001b[0m \u001b[0;34m=\u001b[0m \u001b[0mlegendgroup\u001b[0m \u001b[0;32mif\u001b[0m \u001b[0mlegendgroup\u001b[0m \u001b[0;32mis\u001b[0m \u001b[0;32mnot\u001b[0m \u001b[0;32mNone\u001b[0m \u001b[0;32melse\u001b[0m \u001b[0m_v\u001b[0m\u001b[0;34m\u001b[0m\u001b[0m\n\u001b[1;32m  37448\u001b[0m         \u001b[0m_v\u001b[0m \u001b[0;34m=\u001b[0m \u001b[0marg\u001b[0m\u001b[0;34m.\u001b[0m\u001b[0mpop\u001b[0m\u001b[0;34m(\u001b[0m\u001b[0;34m'line'\u001b[0m\u001b[0;34m,\u001b[0m \u001b[0;32mNone\u001b[0m\u001b[0;34m)\u001b[0m\u001b[0;34m\u001b[0m\u001b[0m\n\u001b[0;32m> 37449\u001b[0;31m         \u001b[0mself\u001b[0m\u001b[0;34m[\u001b[0m\u001b[0;34m'line'\u001b[0m\u001b[0;34m]\u001b[0m \u001b[0;34m=\u001b[0m \u001b[0mline\u001b[0m \u001b[0;32mif\u001b[0m \u001b[0mline\u001b[0m \u001b[0;32mis\u001b[0m \u001b[0;32mnot\u001b[0m \u001b[0;32mNone\u001b[0m \u001b[0;32melse\u001b[0m \u001b[0m_v\u001b[0m\u001b[0;34m\u001b[0m\u001b[0m\n\u001b[0m\u001b[1;32m  37450\u001b[0m         \u001b[0m_v\u001b[0m \u001b[0;34m=\u001b[0m \u001b[0marg\u001b[0m\u001b[0;34m.\u001b[0m\u001b[0mpop\u001b[0m\u001b[0;34m(\u001b[0m\u001b[0;34m'marker'\u001b[0m\u001b[0;34m,\u001b[0m \u001b[0;32mNone\u001b[0m\u001b[0;34m)\u001b[0m\u001b[0;34m\u001b[0m\u001b[0m\n\u001b[1;32m  37451\u001b[0m         \u001b[0mself\u001b[0m\u001b[0;34m[\u001b[0m\u001b[0;34m'marker'\u001b[0m\u001b[0;34m]\u001b[0m \u001b[0;34m=\u001b[0m \u001b[0mmarker\u001b[0m \u001b[0;32mif\u001b[0m \u001b[0mmarker\u001b[0m \u001b[0;32mis\u001b[0m \u001b[0;32mnot\u001b[0m \u001b[0;32mNone\u001b[0m \u001b[0;32melse\u001b[0m \u001b[0m_v\u001b[0m\u001b[0;34m\u001b[0m\u001b[0m\n",
      "\u001b[0;32m/anaconda3/lib/python3.7/site-packages/plotly/basedatatypes.py\u001b[0m in \u001b[0;36m__setitem__\u001b[0;34m(self, prop, value)\u001b[0m\n\u001b[1;32m   3155\u001b[0m             \u001b[0;31m# ### Handle compound property ###\u001b[0m\u001b[0;34m\u001b[0m\u001b[0;34m\u001b[0m\u001b[0m\n\u001b[1;32m   3156\u001b[0m             \u001b[0;32mif\u001b[0m \u001b[0misinstance\u001b[0m\u001b[0;34m(\u001b[0m\u001b[0mvalidator\u001b[0m\u001b[0;34m,\u001b[0m \u001b[0mCompoundValidator\u001b[0m\u001b[0;34m)\u001b[0m\u001b[0;34m:\u001b[0m\u001b[0;34m\u001b[0m\u001b[0m\n\u001b[0;32m-> 3157\u001b[0;31m                 \u001b[0mself\u001b[0m\u001b[0;34m.\u001b[0m\u001b[0m_set_compound_prop\u001b[0m\u001b[0;34m(\u001b[0m\u001b[0mprop\u001b[0m\u001b[0;34m,\u001b[0m \u001b[0mvalue\u001b[0m\u001b[0;34m)\u001b[0m\u001b[0;34m\u001b[0m\u001b[0m\n\u001b[0m\u001b[1;32m   3158\u001b[0m \u001b[0;34m\u001b[0m\u001b[0m\n\u001b[1;32m   3159\u001b[0m             \u001b[0;31m# ### Handle compound array property ###\u001b[0m\u001b[0;34m\u001b[0m\u001b[0;34m\u001b[0m\u001b[0m\n",
      "\u001b[0;32m/anaconda3/lib/python3.7/site-packages/plotly/basedatatypes.py\u001b[0m in \u001b[0;36m_set_compound_prop\u001b[0;34m(self, prop, val)\u001b[0m\n\u001b[1;32m   3464\u001b[0m         \u001b[0mvalidator\u001b[0m \u001b[0;34m=\u001b[0m \u001b[0mself\u001b[0m\u001b[0;34m.\u001b[0m\u001b[0m_validators\u001b[0m\u001b[0;34m.\u001b[0m\u001b[0mget\u001b[0m\u001b[0;34m(\u001b[0m\u001b[0mprop\u001b[0m\u001b[0;34m)\u001b[0m\u001b[0;34m\u001b[0m\u001b[0m\n\u001b[1;32m   3465\u001b[0m         \u001b[0;31m# type: BasePlotlyType\u001b[0m\u001b[0;34m\u001b[0m\u001b[0;34m\u001b[0m\u001b[0m\n\u001b[0;32m-> 3466\u001b[0;31m         \u001b[0mval\u001b[0m \u001b[0;34m=\u001b[0m \u001b[0mvalidator\u001b[0m\u001b[0;34m.\u001b[0m\u001b[0mvalidate_coerce\u001b[0m\u001b[0;34m(\u001b[0m\u001b[0mval\u001b[0m\u001b[0;34m,\u001b[0m \u001b[0mskip_invalid\u001b[0m\u001b[0;34m=\u001b[0m\u001b[0mself\u001b[0m\u001b[0;34m.\u001b[0m\u001b[0m_skip_invalid\u001b[0m\u001b[0;34m)\u001b[0m\u001b[0;34m\u001b[0m\u001b[0m\n\u001b[0m\u001b[1;32m   3467\u001b[0m \u001b[0;34m\u001b[0m\u001b[0m\n\u001b[1;32m   3468\u001b[0m         \u001b[0;31m# Save deep copies of current and new states\u001b[0m\u001b[0;34m\u001b[0m\u001b[0;34m\u001b[0m\u001b[0m\n",
      "\u001b[0;32m/anaconda3/lib/python3.7/site-packages/_plotly_utils/basevalidators.py\u001b[0m in \u001b[0;36mvalidate_coerce\u001b[0;34m(self, v, skip_invalid)\u001b[0m\n\u001b[1;32m   2134\u001b[0m \u001b[0;34m\u001b[0m\u001b[0m\n\u001b[1;32m   2135\u001b[0m         \u001b[0;32melif\u001b[0m \u001b[0misinstance\u001b[0m\u001b[0;34m(\u001b[0m\u001b[0mv\u001b[0m\u001b[0;34m,\u001b[0m \u001b[0mdict\u001b[0m\u001b[0;34m)\u001b[0m\u001b[0;34m:\u001b[0m\u001b[0;34m\u001b[0m\u001b[0m\n\u001b[0;32m-> 2136\u001b[0;31m             \u001b[0mv\u001b[0m \u001b[0;34m=\u001b[0m \u001b[0mself\u001b[0m\u001b[0;34m.\u001b[0m\u001b[0mdata_class\u001b[0m\u001b[0;34m(\u001b[0m\u001b[0mv\u001b[0m\u001b[0;34m,\u001b[0m \u001b[0mskip_invalid\u001b[0m\u001b[0;34m=\u001b[0m\u001b[0mskip_invalid\u001b[0m\u001b[0;34m)\u001b[0m\u001b[0;34m\u001b[0m\u001b[0m\n\u001b[0m\u001b[1;32m   2137\u001b[0m \u001b[0;34m\u001b[0m\u001b[0m\n\u001b[1;32m   2138\u001b[0m         \u001b[0;32melif\u001b[0m \u001b[0misinstance\u001b[0m\u001b[0;34m(\u001b[0m\u001b[0mv\u001b[0m\u001b[0;34m,\u001b[0m \u001b[0mself\u001b[0m\u001b[0;34m.\u001b[0m\u001b[0mdata_class\u001b[0m\u001b[0;34m)\u001b[0m\u001b[0;34m:\u001b[0m\u001b[0;34m\u001b[0m\u001b[0m\n",
      "\u001b[0;32m/anaconda3/lib/python3.7/site-packages/plotly/graph_objs/scatter/__init__.py\u001b[0m in \u001b[0;36m__init__\u001b[0;34m(self, arg, color, dash, shape, simplify, smoothing, width, **kwargs)\u001b[0m\n\u001b[1;32m   2382\u001b[0m         \u001b[0;31m# ----------------------------------\u001b[0m\u001b[0;34m\u001b[0m\u001b[0;34m\u001b[0m\u001b[0m\n\u001b[1;32m   2383\u001b[0m         \u001b[0m_v\u001b[0m \u001b[0;34m=\u001b[0m \u001b[0marg\u001b[0m\u001b[0;34m.\u001b[0m\u001b[0mpop\u001b[0m\u001b[0;34m(\u001b[0m\u001b[0;34m'color'\u001b[0m\u001b[0;34m,\u001b[0m \u001b[0;32mNone\u001b[0m\u001b[0;34m)\u001b[0m\u001b[0;34m\u001b[0m\u001b[0m\n\u001b[0;32m-> 2384\u001b[0;31m         \u001b[0mself\u001b[0m\u001b[0;34m[\u001b[0m\u001b[0;34m'color'\u001b[0m\u001b[0;34m]\u001b[0m \u001b[0;34m=\u001b[0m \u001b[0mcolor\u001b[0m \u001b[0;32mif\u001b[0m \u001b[0mcolor\u001b[0m \u001b[0;32mis\u001b[0m \u001b[0;32mnot\u001b[0m \u001b[0;32mNone\u001b[0m \u001b[0;32melse\u001b[0m \u001b[0m_v\u001b[0m\u001b[0;34m\u001b[0m\u001b[0m\n\u001b[0m\u001b[1;32m   2385\u001b[0m         \u001b[0m_v\u001b[0m \u001b[0;34m=\u001b[0m \u001b[0marg\u001b[0m\u001b[0;34m.\u001b[0m\u001b[0mpop\u001b[0m\u001b[0;34m(\u001b[0m\u001b[0;34m'dash'\u001b[0m\u001b[0;34m,\u001b[0m \u001b[0;32mNone\u001b[0m\u001b[0;34m)\u001b[0m\u001b[0;34m\u001b[0m\u001b[0m\n\u001b[1;32m   2386\u001b[0m         \u001b[0mself\u001b[0m\u001b[0;34m[\u001b[0m\u001b[0;34m'dash'\u001b[0m\u001b[0;34m]\u001b[0m \u001b[0;34m=\u001b[0m \u001b[0mdash\u001b[0m \u001b[0;32mif\u001b[0m \u001b[0mdash\u001b[0m \u001b[0;32mis\u001b[0m \u001b[0;32mnot\u001b[0m \u001b[0;32mNone\u001b[0m \u001b[0;32melse\u001b[0m \u001b[0m_v\u001b[0m\u001b[0;34m\u001b[0m\u001b[0m\n",
      "\u001b[0;32m/anaconda3/lib/python3.7/site-packages/plotly/basedatatypes.py\u001b[0m in \u001b[0;36m__setitem__\u001b[0;34m(self, prop, value)\u001b[0m\n\u001b[1;32m   3164\u001b[0m             \u001b[0;31m# ### Handle simple property ###\u001b[0m\u001b[0;34m\u001b[0m\u001b[0;34m\u001b[0m\u001b[0m\n\u001b[1;32m   3165\u001b[0m             \u001b[0;32melse\u001b[0m\u001b[0;34m:\u001b[0m\u001b[0;34m\u001b[0m\u001b[0m\n\u001b[0;32m-> 3166\u001b[0;31m                 \u001b[0mself\u001b[0m\u001b[0;34m.\u001b[0m\u001b[0m_set_prop\u001b[0m\u001b[0;34m(\u001b[0m\u001b[0mprop\u001b[0m\u001b[0;34m,\u001b[0m \u001b[0mvalue\u001b[0m\u001b[0;34m)\u001b[0m\u001b[0;34m\u001b[0m\u001b[0m\n\u001b[0m\u001b[1;32m   3167\u001b[0m \u001b[0;34m\u001b[0m\u001b[0m\n\u001b[1;32m   3168\u001b[0m         \u001b[0;31m# Handle non-scalar case\u001b[0m\u001b[0;34m\u001b[0m\u001b[0;34m\u001b[0m\u001b[0m\n",
      "\u001b[0;32m/anaconda3/lib/python3.7/site-packages/plotly/basedatatypes.py\u001b[0m in \u001b[0;36m_set_prop\u001b[0;34m(self, prop, val)\u001b[0m\n\u001b[1;32m   3405\u001b[0m                 \u001b[0;32mreturn\u001b[0m\u001b[0;34m\u001b[0m\u001b[0m\n\u001b[1;32m   3406\u001b[0m             \u001b[0;32melse\u001b[0m\u001b[0;34m:\u001b[0m\u001b[0;34m\u001b[0m\u001b[0m\n\u001b[0;32m-> 3407\u001b[0;31m                 \u001b[0;32mraise\u001b[0m \u001b[0merr\u001b[0m\u001b[0;34m\u001b[0m\u001b[0m\n\u001b[0m\u001b[1;32m   3408\u001b[0m \u001b[0;34m\u001b[0m\u001b[0m\n\u001b[1;32m   3409\u001b[0m         \u001b[0;31m# val is None\u001b[0m\u001b[0;34m\u001b[0m\u001b[0;34m\u001b[0m\u001b[0m\n",
      "\u001b[0;32m/anaconda3/lib/python3.7/site-packages/plotly/basedatatypes.py\u001b[0m in \u001b[0;36m_set_prop\u001b[0;34m(self, prop, val)\u001b[0m\n\u001b[1;32m   3400\u001b[0m         \u001b[0mvalidator\u001b[0m \u001b[0;34m=\u001b[0m \u001b[0mself\u001b[0m\u001b[0;34m.\u001b[0m\u001b[0m_validators\u001b[0m\u001b[0;34m.\u001b[0m\u001b[0mget\u001b[0m\u001b[0;34m(\u001b[0m\u001b[0mprop\u001b[0m\u001b[0;34m)\u001b[0m\u001b[0;34m\u001b[0m\u001b[0m\n\u001b[1;32m   3401\u001b[0m         \u001b[0;32mtry\u001b[0m\u001b[0;34m:\u001b[0m\u001b[0;34m\u001b[0m\u001b[0m\n\u001b[0;32m-> 3402\u001b[0;31m             \u001b[0mval\u001b[0m \u001b[0;34m=\u001b[0m \u001b[0mvalidator\u001b[0m\u001b[0;34m.\u001b[0m\u001b[0mvalidate_coerce\u001b[0m\u001b[0;34m(\u001b[0m\u001b[0mval\u001b[0m\u001b[0;34m)\u001b[0m\u001b[0;34m\u001b[0m\u001b[0m\n\u001b[0m\u001b[1;32m   3403\u001b[0m         \u001b[0;32mexcept\u001b[0m \u001b[0mValueError\u001b[0m \u001b[0;32mas\u001b[0m \u001b[0merr\u001b[0m\u001b[0;34m:\u001b[0m\u001b[0;34m\u001b[0m\u001b[0m\n\u001b[1;32m   3404\u001b[0m             \u001b[0;32mif\u001b[0m \u001b[0mself\u001b[0m\u001b[0;34m.\u001b[0m\u001b[0m_skip_invalid\u001b[0m\u001b[0;34m:\u001b[0m\u001b[0;34m\u001b[0m\u001b[0m\n",
      "\u001b[0;32m/anaconda3/lib/python3.7/site-packages/_plotly_utils/basevalidators.py\u001b[0m in \u001b[0;36mvalidate_coerce\u001b[0;34m(self, v, should_raise)\u001b[0m\n\u001b[1;32m   1162\u001b[0m             \u001b[0mvalidated_v\u001b[0m \u001b[0;34m=\u001b[0m \u001b[0mself\u001b[0m\u001b[0;34m.\u001b[0m\u001b[0mvc_scalar\u001b[0m\u001b[0;34m(\u001b[0m\u001b[0mv\u001b[0m\u001b[0;34m)\u001b[0m\u001b[0;34m\u001b[0m\u001b[0m\n\u001b[1;32m   1163\u001b[0m             \u001b[0;32mif\u001b[0m \u001b[0mvalidated_v\u001b[0m \u001b[0;32mis\u001b[0m \u001b[0;32mNone\u001b[0m \u001b[0;32mand\u001b[0m \u001b[0mshould_raise\u001b[0m\u001b[0;34m:\u001b[0m\u001b[0;34m\u001b[0m\u001b[0m\n\u001b[0;32m-> 1164\u001b[0;31m                 \u001b[0mself\u001b[0m\u001b[0;34m.\u001b[0m\u001b[0mraise_invalid_val\u001b[0m\u001b[0;34m(\u001b[0m\u001b[0mv\u001b[0m\u001b[0;34m)\u001b[0m\u001b[0;34m\u001b[0m\u001b[0m\n\u001b[0m\u001b[1;32m   1165\u001b[0m \u001b[0;34m\u001b[0m\u001b[0m\n\u001b[1;32m   1166\u001b[0m             \u001b[0mv\u001b[0m \u001b[0;34m=\u001b[0m \u001b[0mvalidated_v\u001b[0m\u001b[0;34m\u001b[0m\u001b[0m\n",
      "\u001b[0;32m/anaconda3/lib/python3.7/site-packages/_plotly_utils/basevalidators.py\u001b[0m in \u001b[0;36mraise_invalid_val\u001b[0;34m(self, v, inds)\u001b[0m\n\u001b[1;32m    275\u001b[0m             \u001b[0mtyp\u001b[0m\u001b[0;34m=\u001b[0m\u001b[0mtype_str\u001b[0m\u001b[0;34m(\u001b[0m\u001b[0mv\u001b[0m\u001b[0;34m)\u001b[0m\u001b[0;34m,\u001b[0m\u001b[0;34m\u001b[0m\u001b[0m\n\u001b[1;32m    276\u001b[0m             \u001b[0mv\u001b[0m\u001b[0;34m=\u001b[0m\u001b[0mrepr\u001b[0m\u001b[0;34m(\u001b[0m\u001b[0mv\u001b[0m\u001b[0;34m)\u001b[0m\u001b[0;34m,\u001b[0m\u001b[0;34m\u001b[0m\u001b[0m\n\u001b[0;32m--> 277\u001b[0;31m             valid_clr_desc=self.description()))\n\u001b[0m\u001b[1;32m    278\u001b[0m \u001b[0;34m\u001b[0m\u001b[0m\n\u001b[1;32m    279\u001b[0m     \u001b[0;32mdef\u001b[0m \u001b[0mraise_invalid_elements\u001b[0m\u001b[0;34m(\u001b[0m\u001b[0mself\u001b[0m\u001b[0;34m,\u001b[0m \u001b[0minvalid_els\u001b[0m\u001b[0;34m)\u001b[0m\u001b[0;34m:\u001b[0m\u001b[0;34m\u001b[0m\u001b[0m\n",
      "\u001b[0;31mValueError\u001b[0m: \n    Invalid value of type 'builtins.list' received for the 'color' property of scatter.line\n        Received value: ['black', 'black', 'black', 'black']\n\n    The 'color' property is a color and may be specified as:\n      - A hex string (e.g. '#ff0000')\n      - An rgb/rgba string (e.g. 'rgb(255,0,0)')\n      - An hsl/hsla string (e.g. 'hsl(0,100%,50%)')\n      - An hsv/hsva string (e.g. 'hsv(0,100%,100%)')\n      - A named CSS color:\n            aliceblue, antiquewhite, aqua, aquamarine, azure,\n            beige, bisque, black, blanchedalmond, blue,\n            blueviolet, brown, burlywood, cadetblue,\n            chartreuse, chocolate, coral, cornflowerblue,\n            cornsilk, crimson, cyan, darkblue, darkcyan,\n            darkgoldenrod, darkgray, darkgrey, darkgreen,\n            darkkhaki, darkmagenta, darkolivegreen, darkorange,\n            darkorchid, darkred, darksalmon, darkseagreen,\n            darkslateblue, darkslategray, darkslategrey,\n            darkturquoise, darkviolet, deeppink, deepskyblue,\n            dimgray, dimgrey, dodgerblue, firebrick,\n            floralwhite, forestgreen, fuchsia, gainsboro,\n            ghostwhite, gold, goldenrod, gray, grey, green,\n            greenyellow, honeydew, hotpink, indianred, indigo,\n            ivory, khaki, lavender, lavenderblush, lawngreen,\n            lemonchiffon, lightblue, lightcoral, lightcyan,\n            lightgoldenrodyellow, lightgray, lightgrey,\n            lightgreen, lightpink, lightsalmon, lightseagreen,\n            lightskyblue, lightslategray, lightslategrey,\n            lightsteelblue, lightyellow, lime, limegreen,\n            linen, magenta, maroon, mediumaquamarine,\n            mediumblue, mediumorchid, mediumpurple,\n            mediumseagreen, mediumslateblue, mediumspringgreen,\n            mediumturquoise, mediumvioletred, midnightblue,\n            mintcream, mistyrose, moccasin, navajowhite, navy,\n            oldlace, olive, olivedrab, orange, orangered,\n            orchid, palegoldenrod, palegreen, paleturquoise,\n            palevioletred, papayawhip, peachpuff, peru, pink,\n            plum, powderblue, purple, red, rosybrown,\n            royalblue, saddlebrown, salmon, sandybrown,\n            seagreen, seashell, sienna, silver, skyblue,\n            slateblue, slategray, slategrey, snow, springgreen,\n            steelblue, tan, teal, thistle, tomato, turquoise,\n            violet, wheat, white, whitesmoke, yellow,\n            yellowgreen"
     ]
    }
   ],
   "source": [
    "mygraph.plot(title='coco', node_label= 'baba: ')\n",
    "mygraph.plot(title='coco', node_label= 'baba: ', node_color_col='clientes')\n",
    "mygraph.plot(title='coco', node_label= 'baba: ', node_size_col='clientes', node_color_col='clientes')\n",
    "#mygraph.plot(title='coco', node_label= 'baba: ', node_size_col='clientes', node_color_col='clientes', edge_color_col='enviado')"
   ]
  },
  {
   "cell_type": "code",
   "execution_count": null,
   "metadata": {},
   "outputs": [],
   "source": []
  },
  {
   "cell_type": "code",
   "execution_count": null,
   "metadata": {},
   "outputs": [],
   "source": []
  }
 ],
 "metadata": {
  "kernelspec": {
   "display_name": "Python 3",
   "language": "python",
   "name": "python3"
  },
  "language_info": {
   "codemirror_mode": {
    "name": "ipython",
    "version": 3
   },
   "file_extension": ".py",
   "mimetype": "text/x-python",
   "name": "python",
   "nbconvert_exporter": "python",
   "pygments_lexer": "ipython3",
   "version": "3.7.0"
  }
 },
 "nbformat": 4,
 "nbformat_minor": 2
}
